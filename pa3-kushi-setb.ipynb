{
 "cells": [
  {
   "cell_type": "code",
   "execution_count": 2,
   "metadata": {},
   "outputs": [],
   "source": [
    "# Task 1 : Logistic Regression based Classifier (LR)\n",
    "# 1. Logistic Regression based classifier construction. (Mini-batch gradient descent). Once again, do not call\n",
    "# library function for logistic regression fit method.\n",
    "# 1.1 Use a 10-fold cross validation strategy to obtain the best set of hyper-parameter values of the logistic\n",
    "# regression. Please report a discussion why you would choose the values. (On the training set)"
   ]
  },
  {
   "cell_type": "code",
   "execution_count": 1,
   "metadata": {},
   "outputs": [],
   "source": [
    "import pandas as pd\n",
    "import numpy as np"
   ]
  },
  {
   "cell_type": "code",
   "execution_count": 2,
   "metadata": {},
   "outputs": [],
   "source": [
    "dataBX = pd.read_csv('Set-B.X.csv')\n"
   ]
  },
  {
   "cell_type": "code",
   "execution_count": 3,
   "metadata": {},
   "outputs": [
    {
     "data": {
      "text/plain": [
       "(100000, 19)"
      ]
     },
     "execution_count": 3,
     "metadata": {},
     "output_type": "execute_result"
    }
   ],
   "source": [
    "dataBX.shape"
   ]
  },
  {
   "cell_type": "code",
   "execution_count": 4,
   "metadata": {},
   "outputs": [
    {
     "data": {
      "text/html": [
       "<div>\n",
       "<style scoped>\n",
       "    .dataframe tbody tr th:only-of-type {\n",
       "        vertical-align: middle;\n",
       "    }\n",
       "\n",
       "    .dataframe tbody tr th {\n",
       "        vertical-align: top;\n",
       "    }\n",
       "\n",
       "    .dataframe thead th {\n",
       "        text-align: right;\n",
       "    }\n",
       "</style>\n",
       "<table border=\"1\" class=\"dataframe\">\n",
       "  <thead>\n",
       "    <tr style=\"text-align: right;\">\n",
       "      <th></th>\n",
       "      <th>amount</th>\n",
       "      <th>hour1</th>\n",
       "      <th>state1</th>\n",
       "      <th>zip1</th>\n",
       "      <th>custAttr1</th>\n",
       "      <th>field1</th>\n",
       "      <th>custAttr2</th>\n",
       "      <th>field2</th>\n",
       "      <th>hour2</th>\n",
       "      <th>flag1</th>\n",
       "      <th>total</th>\n",
       "      <th>field3</th>\n",
       "      <th>field4</th>\n",
       "      <th>indicator1</th>\n",
       "      <th>indicator2</th>\n",
       "      <th>flag2</th>\n",
       "      <th>flag3</th>\n",
       "      <th>flag4</th>\n",
       "      <th>flag5</th>\n",
       "    </tr>\n",
       "  </thead>\n",
       "  <tbody>\n",
       "    <tr>\n",
       "      <th>1</th>\n",
       "      <td>38.85</td>\n",
       "      <td>0</td>\n",
       "      <td>WA</td>\n",
       "      <td>980</td>\n",
       "      <td>1234567890123457</td>\n",
       "      <td>3</td>\n",
       "      <td>pfixyiqfpvkcg@zjyxs.net</td>\n",
       "      <td>1</td>\n",
       "      <td>0</td>\n",
       "      <td>0</td>\n",
       "      <td>38.85</td>\n",
       "      <td>5497</td>\n",
       "      <td>14</td>\n",
       "      <td>1</td>\n",
       "      <td>0</td>\n",
       "      <td>0</td>\n",
       "      <td>1</td>\n",
       "      <td>0</td>\n",
       "      <td>1</td>\n",
       "    </tr>\n",
       "    <tr>\n",
       "      <th>2</th>\n",
       "      <td>38.85</td>\n",
       "      <td>0</td>\n",
       "      <td>KY</td>\n",
       "      <td>402</td>\n",
       "      <td>1234567890123458</td>\n",
       "      <td>2</td>\n",
       "      <td>shbjoldciswwm@aol.com</td>\n",
       "      <td>1</td>\n",
       "      <td>0</td>\n",
       "      <td>0</td>\n",
       "      <td>38.85</td>\n",
       "      <td>-4420</td>\n",
       "      <td>23</td>\n",
       "      <td>0</td>\n",
       "      <td>0</td>\n",
       "      <td>1</td>\n",
       "      <td>1</td>\n",
       "      <td>0</td>\n",
       "      <td>1</td>\n",
       "    </tr>\n",
       "    <tr>\n",
       "      <th>3</th>\n",
       "      <td>12.95</td>\n",
       "      <td>0</td>\n",
       "      <td>CA</td>\n",
       "      <td>958</td>\n",
       "      <td>1234567890123459</td>\n",
       "      <td>3</td>\n",
       "      <td>ipbvtdfkhhfws@sbcglobal.net</td>\n",
       "      <td>0</td>\n",
       "      <td>0</td>\n",
       "      <td>0</td>\n",
       "      <td>12.95</td>\n",
       "      <td>5010</td>\n",
       "      <td>31</td>\n",
       "      <td>0</td>\n",
       "      <td>0</td>\n",
       "      <td>1</td>\n",
       "      <td>0</td>\n",
       "      <td>0</td>\n",
       "      <td>1</td>\n",
       "    </tr>\n",
       "    <tr>\n",
       "      <th>4</th>\n",
       "      <td>38.85</td>\n",
       "      <td>0</td>\n",
       "      <td>GA</td>\n",
       "      <td>300</td>\n",
       "      <td>1234567890123460</td>\n",
       "      <td>3</td>\n",
       "      <td>ivfuvxiennhdp@bellsouth.net</td>\n",
       "      <td>1</td>\n",
       "      <td>0</td>\n",
       "      <td>0</td>\n",
       "      <td>38.85</td>\n",
       "      <td>-4074</td>\n",
       "      <td>21</td>\n",
       "      <td>0</td>\n",
       "      <td>0</td>\n",
       "      <td>1</td>\n",
       "      <td>0</td>\n",
       "      <td>0</td>\n",
       "      <td>1</td>\n",
       "    </tr>\n",
       "    <tr>\n",
       "      <th>5</th>\n",
       "      <td>12.95</td>\n",
       "      <td>0</td>\n",
       "      <td>AZ</td>\n",
       "      <td>852</td>\n",
       "      <td>1234567890123461</td>\n",
       "      <td>3</td>\n",
       "      <td>gmlvcqewyyczt50@hotmail.com</td>\n",
       "      <td>0</td>\n",
       "      <td>0</td>\n",
       "      <td>1</td>\n",
       "      <td>12.95</td>\n",
       "      <td>-2753</td>\n",
       "      <td>24</td>\n",
       "      <td>0</td>\n",
       "      <td>0</td>\n",
       "      <td>1</td>\n",
       "      <td>1</td>\n",
       "      <td>0</td>\n",
       "      <td>1</td>\n",
       "    </tr>\n",
       "  </tbody>\n",
       "</table>\n",
       "</div>"
      ],
      "text/plain": [
       "   amount  hour1 state1  zip1         custAttr1  field1  \\\n",
       "1   38.85      0     WA   980  1234567890123457       3   \n",
       "2   38.85      0     KY   402  1234567890123458       2   \n",
       "3   12.95      0     CA   958  1234567890123459       3   \n",
       "4   38.85      0     GA   300  1234567890123460       3   \n",
       "5   12.95      0     AZ   852  1234567890123461       3   \n",
       "\n",
       "                     custAttr2  field2  hour2  flag1  total  field3  field4  \\\n",
       "1      pfixyiqfpvkcg@zjyxs.net       1      0      0  38.85    5497      14   \n",
       "2        shbjoldciswwm@aol.com       1      0      0  38.85   -4420      23   \n",
       "3  ipbvtdfkhhfws@sbcglobal.net       0      0      0  12.95    5010      31   \n",
       "4  ivfuvxiennhdp@bellsouth.net       1      0      0  38.85   -4074      21   \n",
       "5  gmlvcqewyyczt50@hotmail.com       0      0      1  12.95   -2753      24   \n",
       "\n",
       "   indicator1  indicator2  flag2  flag3  flag4  flag5  \n",
       "1           1           0      0      1      0      1  \n",
       "2           0           0      1      1      0      1  \n",
       "3           0           0      1      0      0      1  \n",
       "4           0           0      1      0      0      1  \n",
       "5           0           0      1      1      0      1  "
      ]
     },
     "execution_count": 4,
     "metadata": {},
     "output_type": "execute_result"
    }
   ],
   "source": [
    "dataBX[1:6]"
   ]
  },
  {
   "cell_type": "code",
   "execution_count": 18,
   "metadata": {},
   "outputs": [],
   "source": [
    "dataBX1 = dataBX[['amount','total']]"
   ]
  },
  {
   "cell_type": "code",
   "execution_count": 19,
   "metadata": {},
   "outputs": [],
   "source": [
    "dataBY = pd.read_csv('Set-B.Y.csv')"
   ]
  },
  {
   "cell_type": "code",
   "execution_count": 20,
   "metadata": {},
   "outputs": [
    {
     "data": {
      "text/plain": [
       "(99999, 1)"
      ]
     },
     "execution_count": 20,
     "metadata": {},
     "output_type": "execute_result"
    }
   ],
   "source": [
    "dataBY.shape"
   ]
  },
  {
   "cell_type": "code",
   "execution_count": 21,
   "metadata": {},
   "outputs": [
    {
     "ename": "KeyError",
     "evalue": "'[99999] not found in axis'",
     "output_type": "error",
     "traceback": [
      "\u001b[1;31m---------------------------------------------------------------------------\u001b[0m",
      "\u001b[1;31mKeyError\u001b[0m                                  Traceback (most recent call last)",
      "\u001b[1;32m<ipython-input-21-81f5a1b418f1>\u001b[0m in \u001b[0;36m<module>\u001b[1;34m\u001b[0m\n\u001b[1;32m----> 1\u001b[1;33m \u001b[0mdataBX1\u001b[0m \u001b[1;33m=\u001b[0m \u001b[0mdataBX1\u001b[0m\u001b[1;33m.\u001b[0m\u001b[0mdrop\u001b[0m\u001b[1;33m(\u001b[0m\u001b[0mindex\u001b[0m\u001b[1;33m=\u001b[0m\u001b[1;36m99999\u001b[0m\u001b[1;33m)\u001b[0m\u001b[1;33m\u001b[0m\u001b[1;33m\u001b[0m\u001b[0m\n\u001b[0m",
      "\u001b[1;32m~\\Anaconda3\\lib\\site-packages\\pandas\\core\\frame.py\u001b[0m in \u001b[0;36mdrop\u001b[1;34m(self, labels, axis, index, columns, level, inplace, errors)\u001b[0m\n\u001b[0;32m   3695\u001b[0m                                            \u001b[0mindex\u001b[0m\u001b[1;33m=\u001b[0m\u001b[0mindex\u001b[0m\u001b[1;33m,\u001b[0m \u001b[0mcolumns\u001b[0m\u001b[1;33m=\u001b[0m\u001b[0mcolumns\u001b[0m\u001b[1;33m,\u001b[0m\u001b[1;33m\u001b[0m\u001b[1;33m\u001b[0m\u001b[0m\n\u001b[0;32m   3696\u001b[0m                                            \u001b[0mlevel\u001b[0m\u001b[1;33m=\u001b[0m\u001b[0mlevel\u001b[0m\u001b[1;33m,\u001b[0m \u001b[0minplace\u001b[0m\u001b[1;33m=\u001b[0m\u001b[0minplace\u001b[0m\u001b[1;33m,\u001b[0m\u001b[1;33m\u001b[0m\u001b[1;33m\u001b[0m\u001b[0m\n\u001b[1;32m-> 3697\u001b[1;33m                                            errors=errors)\n\u001b[0m\u001b[0;32m   3698\u001b[0m \u001b[1;33m\u001b[0m\u001b[0m\n\u001b[0;32m   3699\u001b[0m     @rewrite_axis_style_signature('mapper', [('copy', True),\n",
      "\u001b[1;32m~\\Anaconda3\\lib\\site-packages\\pandas\\core\\generic.py\u001b[0m in \u001b[0;36mdrop\u001b[1;34m(self, labels, axis, index, columns, level, inplace, errors)\u001b[0m\n\u001b[0;32m   3109\u001b[0m         \u001b[1;32mfor\u001b[0m \u001b[0maxis\u001b[0m\u001b[1;33m,\u001b[0m \u001b[0mlabels\u001b[0m \u001b[1;32min\u001b[0m \u001b[0maxes\u001b[0m\u001b[1;33m.\u001b[0m\u001b[0mitems\u001b[0m\u001b[1;33m(\u001b[0m\u001b[1;33m)\u001b[0m\u001b[1;33m:\u001b[0m\u001b[1;33m\u001b[0m\u001b[1;33m\u001b[0m\u001b[0m\n\u001b[0;32m   3110\u001b[0m             \u001b[1;32mif\u001b[0m \u001b[0mlabels\u001b[0m \u001b[1;32mis\u001b[0m \u001b[1;32mnot\u001b[0m \u001b[1;32mNone\u001b[0m\u001b[1;33m:\u001b[0m\u001b[1;33m\u001b[0m\u001b[1;33m\u001b[0m\u001b[0m\n\u001b[1;32m-> 3111\u001b[1;33m                 \u001b[0mobj\u001b[0m \u001b[1;33m=\u001b[0m \u001b[0mobj\u001b[0m\u001b[1;33m.\u001b[0m\u001b[0m_drop_axis\u001b[0m\u001b[1;33m(\u001b[0m\u001b[0mlabels\u001b[0m\u001b[1;33m,\u001b[0m \u001b[0maxis\u001b[0m\u001b[1;33m,\u001b[0m \u001b[0mlevel\u001b[0m\u001b[1;33m=\u001b[0m\u001b[0mlevel\u001b[0m\u001b[1;33m,\u001b[0m \u001b[0merrors\u001b[0m\u001b[1;33m=\u001b[0m\u001b[0merrors\u001b[0m\u001b[1;33m)\u001b[0m\u001b[1;33m\u001b[0m\u001b[1;33m\u001b[0m\u001b[0m\n\u001b[0m\u001b[0;32m   3112\u001b[0m \u001b[1;33m\u001b[0m\u001b[0m\n\u001b[0;32m   3113\u001b[0m         \u001b[1;32mif\u001b[0m \u001b[0minplace\u001b[0m\u001b[1;33m:\u001b[0m\u001b[1;33m\u001b[0m\u001b[1;33m\u001b[0m\u001b[0m\n",
      "\u001b[1;32m~\\Anaconda3\\lib\\site-packages\\pandas\\core\\generic.py\u001b[0m in \u001b[0;36m_drop_axis\u001b[1;34m(self, labels, axis, level, errors)\u001b[0m\n\u001b[0;32m   3141\u001b[0m                 \u001b[0mnew_axis\u001b[0m \u001b[1;33m=\u001b[0m \u001b[0maxis\u001b[0m\u001b[1;33m.\u001b[0m\u001b[0mdrop\u001b[0m\u001b[1;33m(\u001b[0m\u001b[0mlabels\u001b[0m\u001b[1;33m,\u001b[0m \u001b[0mlevel\u001b[0m\u001b[1;33m=\u001b[0m\u001b[0mlevel\u001b[0m\u001b[1;33m,\u001b[0m \u001b[0merrors\u001b[0m\u001b[1;33m=\u001b[0m\u001b[0merrors\u001b[0m\u001b[1;33m)\u001b[0m\u001b[1;33m\u001b[0m\u001b[1;33m\u001b[0m\u001b[0m\n\u001b[0;32m   3142\u001b[0m             \u001b[1;32melse\u001b[0m\u001b[1;33m:\u001b[0m\u001b[1;33m\u001b[0m\u001b[1;33m\u001b[0m\u001b[0m\n\u001b[1;32m-> 3143\u001b[1;33m                 \u001b[0mnew_axis\u001b[0m \u001b[1;33m=\u001b[0m \u001b[0maxis\u001b[0m\u001b[1;33m.\u001b[0m\u001b[0mdrop\u001b[0m\u001b[1;33m(\u001b[0m\u001b[0mlabels\u001b[0m\u001b[1;33m,\u001b[0m \u001b[0merrors\u001b[0m\u001b[1;33m=\u001b[0m\u001b[0merrors\u001b[0m\u001b[1;33m)\u001b[0m\u001b[1;33m\u001b[0m\u001b[1;33m\u001b[0m\u001b[0m\n\u001b[0m\u001b[0;32m   3144\u001b[0m             \u001b[0mresult\u001b[0m \u001b[1;33m=\u001b[0m \u001b[0mself\u001b[0m\u001b[1;33m.\u001b[0m\u001b[0mreindex\u001b[0m\u001b[1;33m(\u001b[0m\u001b[1;33m**\u001b[0m\u001b[1;33m{\u001b[0m\u001b[0maxis_name\u001b[0m\u001b[1;33m:\u001b[0m \u001b[0mnew_axis\u001b[0m\u001b[1;33m}\u001b[0m\u001b[1;33m)\u001b[0m\u001b[1;33m\u001b[0m\u001b[1;33m\u001b[0m\u001b[0m\n\u001b[0;32m   3145\u001b[0m \u001b[1;33m\u001b[0m\u001b[0m\n",
      "\u001b[1;32m~\\Anaconda3\\lib\\site-packages\\pandas\\core\\indexes\\base.py\u001b[0m in \u001b[0;36mdrop\u001b[1;34m(self, labels, errors)\u001b[0m\n\u001b[0;32m   4402\u001b[0m             \u001b[1;32mif\u001b[0m \u001b[0merrors\u001b[0m \u001b[1;33m!=\u001b[0m \u001b[1;34m'ignore'\u001b[0m\u001b[1;33m:\u001b[0m\u001b[1;33m\u001b[0m\u001b[1;33m\u001b[0m\u001b[0m\n\u001b[0;32m   4403\u001b[0m                 raise KeyError(\n\u001b[1;32m-> 4404\u001b[1;33m                     '{} not found in axis'.format(labels[mask]))\n\u001b[0m\u001b[0;32m   4405\u001b[0m             \u001b[0mindexer\u001b[0m \u001b[1;33m=\u001b[0m \u001b[0mindexer\u001b[0m\u001b[1;33m[\u001b[0m\u001b[1;33m~\u001b[0m\u001b[0mmask\u001b[0m\u001b[1;33m]\u001b[0m\u001b[1;33m\u001b[0m\u001b[1;33m\u001b[0m\u001b[0m\n\u001b[0;32m   4406\u001b[0m         \u001b[1;32mreturn\u001b[0m \u001b[0mself\u001b[0m\u001b[1;33m.\u001b[0m\u001b[0mdelete\u001b[0m\u001b[1;33m(\u001b[0m\u001b[0mindexer\u001b[0m\u001b[1;33m)\u001b[0m\u001b[1;33m\u001b[0m\u001b[1;33m\u001b[0m\u001b[0m\n",
      "\u001b[1;31mKeyError\u001b[0m: '[99999] not found in axis'"
     ]
    }
   ],
   "source": [
    "dataBX1 = dataBX1.drop(index=99999)\n"
   ]
  },
  {
   "cell_type": "code",
   "execution_count": 22,
   "metadata": {},
   "outputs": [
    {
     "name": "stdout",
     "output_type": "stream",
     "text": [
      "80000\n",
      "160000\n",
      "(80000, 2)\n"
     ]
    }
   ],
   "source": [
    "from sklearn.model_selection import train_test_split\n",
    "#train_test_split will randomly split the data \n",
    "\n",
    "main_test,main_train , main_testy, main_trainy  =train_test_split(dataBX1,dataBY,test_size=0.8) \n",
    "\n",
    "print(len(main_train))\n",
    "#print(len(test))\n",
    "print(main_train.size)\n",
    "print(main_train.shape)\n",
    "#train"
   ]
  },
  {
   "cell_type": "code",
   "execution_count": 23,
   "metadata": {},
   "outputs": [
    {
     "name": "stderr",
     "output_type": "stream",
     "text": [
      "C:\\Users\\kusha\\Anaconda3\\lib\\site-packages\\ipykernel_launcher.py:1: SettingWithCopyWarning: \n",
      "A value is trying to be set on a copy of a slice from a DataFrame.\n",
      "Try using .loc[row_indexer,col_indexer] = value instead\n",
      "\n",
      "See the caveats in the documentation: http://pandas.pydata.org/pandas-docs/stable/indexing.html#indexing-view-versus-copy\n",
      "  \"\"\"Entry point for launching an IPython kernel.\n"
     ]
    }
   ],
   "source": [
    "main_train['Y']= main_trainy"
   ]
  },
  {
   "cell_type": "code",
   "execution_count": 24,
   "metadata": {},
   "outputs": [
    {
     "data": {
      "text/plain": [
       "pandas.core.frame.DataFrame"
      ]
     },
     "execution_count": 24,
     "metadata": {},
     "output_type": "execute_result"
    }
   ],
   "source": [
    "type(main_train)"
   ]
  },
  {
   "cell_type": "code",
   "execution_count": 25,
   "metadata": {},
   "outputs": [
    {
     "data": {
      "text/plain": [
       "(80000, 3)"
      ]
     },
     "execution_count": 25,
     "metadata": {},
     "output_type": "execute_result"
    }
   ],
   "source": [
    "main_train.shape"
   ]
  },
  {
   "cell_type": "code",
   "execution_count": 29,
   "metadata": {},
   "outputs": [
    {
     "name": "stdout",
     "output_type": "stream",
     "text": [
      "(array([    0,     1,     2, ..., 79997, 79998, 79999]), array([    7,    19,    36, ..., 79974, 79980, 79982]))\n"
     ]
    }
   ],
   "source": [
    "from sklearn.model_selection import KFold\n",
    "\n",
    "#kf = KFold(n_splits=10 ,random_state=None, shuffle=True)\n",
    "# data = kf.get_n_splits(dataAX)\n",
    "# print(data)\n",
    "\n",
    "# kf = KFold(n_splits=10,shuffle=True, random_state = None)\n",
    "# for train, test in kf.split(dataAX):\n",
    "#     print('train: %s, test: %s' % (dataAX[train], dataAX[test]))\n",
    "\n",
    "\n",
    "kf = KFold(n_splits = 10, shuffle = True, random_state =None)\n",
    "result = next(kf.split(main_train), None)\n",
    "print (result)\n",
    "\n",
    "\n",
    "train = main_train.iloc[result[0]]\n",
    "test =  main_train.iloc[result[1]]"
   ]
  },
  {
   "cell_type": "code",
   "execution_count": 30,
   "metadata": {},
   "outputs": [
    {
     "name": "stdout",
     "output_type": "stream",
     "text": [
      "72000\n",
      "8000\n"
     ]
    }
   ],
   "source": [
    "print(len(train))\n",
    "print(len(test))"
   ]
  },
  {
   "cell_type": "code",
   "execution_count": 31,
   "metadata": {},
   "outputs": [
    {
     "name": "stdout",
     "output_type": "stream",
     "text": [
      "(72000, 3)\n"
     ]
    }
   ],
   "source": [
    "print(train.shape)"
   ]
  },
  {
   "cell_type": "code",
   "execution_count": 32,
   "metadata": {},
   "outputs": [
    {
     "name": "stdout",
     "output_type": "stream",
     "text": [
      "(8000, 3)\n"
     ]
    }
   ],
   "source": [
    "print(test.shape)"
   ]
  },
  {
   "cell_type": "code",
   "execution_count": 33,
   "metadata": {},
   "outputs": [
    {
     "data": {
      "text/plain": [
       "Index(['amount', 'total', 'Y'], dtype='object')"
      ]
     },
     "execution_count": 33,
     "metadata": {},
     "output_type": "execute_result"
    }
   ],
   "source": [
    "train.columns"
   ]
  },
  {
   "cell_type": "code",
   "execution_count": 34,
   "metadata": {},
   "outputs": [],
   "source": [
    "trainy = train[\"Y\"]"
   ]
  },
  {
   "cell_type": "code",
   "execution_count": 35,
   "metadata": {},
   "outputs": [
    {
     "data": {
      "text/plain": [
       "(72000,)"
      ]
     },
     "execution_count": 35,
     "metadata": {},
     "output_type": "execute_result"
    }
   ],
   "source": [
    "trainy.shape\n"
   ]
  },
  {
   "cell_type": "code",
   "execution_count": 36,
   "metadata": {},
   "outputs": [],
   "source": [
    "trainy = trainy.values\n"
   ]
  },
  {
   "cell_type": "code",
   "execution_count": 37,
   "metadata": {},
   "outputs": [
    {
     "data": {
      "text/plain": [
       "0"
      ]
     },
     "execution_count": 37,
     "metadata": {},
     "output_type": "execute_result"
    }
   ],
   "source": [
    "import gc\n",
    "gc.collect()\n"
   ]
  },
  {
   "cell_type": "code",
   "execution_count": 38,
   "metadata": {},
   "outputs": [],
   "source": [
    "dfx = train.drop(labels='Y', axis=1)"
   ]
  },
  {
   "cell_type": "code",
   "execution_count": 39,
   "metadata": {},
   "outputs": [
    {
     "data": {
      "text/plain": [
       "(72000, 2)"
      ]
     },
     "execution_count": 39,
     "metadata": {},
     "output_type": "execute_result"
    }
   ],
   "source": [
    "dfx.shape"
   ]
  },
  {
   "cell_type": "code",
   "execution_count": 40,
   "metadata": {},
   "outputs": [
    {
     "data": {
      "text/plain": [
       "0"
      ]
     },
     "execution_count": 40,
     "metadata": {},
     "output_type": "execute_result"
    }
   ],
   "source": [
    "gc.collect()"
   ]
  },
  {
   "cell_type": "code",
   "execution_count": 41,
   "metadata": {},
   "outputs": [],
   "source": [
    "trainx = dfx.values"
   ]
  },
  {
   "cell_type": "code",
   "execution_count": 42,
   "metadata": {},
   "outputs": [
    {
     "name": "stdout",
     "output_type": "stream",
     "text": [
      "<class 'numpy.ndarray'>\n",
      "<class 'numpy.ndarray'>\n"
     ]
    }
   ],
   "source": [
    "print(type(trainx))\n",
    "print(type(trainy))"
   ]
  },
  {
   "cell_type": "code",
   "execution_count": 46,
   "metadata": {},
   "outputs": [],
   "source": [
    "trainy = np.reshape(trainy,(-1,1))"
   ]
  },
  {
   "cell_type": "code",
   "execution_count": 47,
   "metadata": {},
   "outputs": [
    {
     "data": {
      "text/plain": [
       "(72000, 1)"
      ]
     },
     "execution_count": 47,
     "metadata": {},
     "output_type": "execute_result"
    }
   ],
   "source": [
    "trainy.shape"
   ]
  },
  {
   "cell_type": "code",
   "execution_count": 48,
   "metadata": {},
   "outputs": [
    {
     "name": "stdout",
     "output_type": "stream",
     "text": [
      "[[0]\n",
      " [0]\n",
      " [0]\n",
      " ...\n",
      " [0]\n",
      " [0]\n",
      " [0]]\n"
     ]
    }
   ],
   "source": [
    "print(trainy)"
   ]
  },
  {
   "cell_type": "code",
   "execution_count": 49,
   "metadata": {},
   "outputs": [
    {
     "name": "stdout",
     "output_type": "stream",
     "text": [
      "[[25.9  25.9 ]\n",
      " [12.95 12.95]\n",
      " [38.85 38.85]\n",
      " ...\n",
      " [38.85 38.85]\n",
      " [38.85 38.85]\n",
      " [12.95 12.95]]\n"
     ]
    }
   ],
   "source": [
    "print(trainx)"
   ]
  },
  {
   "cell_type": "code",
   "execution_count": 50,
   "metadata": {},
   "outputs": [
    {
     "data": {
      "text/plain": [
       "(72000, 2)"
      ]
     },
     "execution_count": 50,
     "metadata": {},
     "output_type": "execute_result"
    }
   ],
   "source": [
    "trainx.shape"
   ]
  },
  {
   "cell_type": "code",
   "execution_count": 51,
   "metadata": {},
   "outputs": [
    {
     "data": {
      "text/plain": [
       "0"
      ]
     },
     "execution_count": 51,
     "metadata": {},
     "output_type": "execute_result"
    }
   ],
   "source": [
    "gc.collect()"
   ]
  },
  {
   "cell_type": "code",
   "execution_count": 52,
   "metadata": {},
   "outputs": [],
   "source": [
    "import gc\n",
    "gc.collect()\n",
    "from sklearn.preprocessing import MinMaxScaler\n",
    "sc = MinMaxScaler()\n",
    "scaled_train = sc.fit_transform(trainx)"
   ]
  },
  {
   "cell_type": "code",
   "execution_count": 53,
   "metadata": {},
   "outputs": [
    {
     "name": "stdout",
     "output_type": "stream",
     "text": [
      "[[1.         0.43202669 0.43202669]\n",
      " [1.         0.21601334 0.21601334]\n",
      " [1.         0.64804003 0.64804003]\n",
      " ...\n",
      " [1.         0.64804003 0.64804003]\n",
      " [1.         0.64804003 0.64804003]\n",
      " [1.         0.21601334 0.21601334]]\n",
      "(72000, 3)\n"
     ]
    }
   ],
   "source": [
    "scaled_train = np.insert(scaled_train, 0, 1.0, axis=1)\n",
    "print(scaled_train)\n",
    "print(scaled_train.shape)"
   ]
  },
  {
   "cell_type": "code",
   "execution_count": 54,
   "metadata": {},
   "outputs": [
    {
     "data": {
      "text/plain": [
       "(72000, 1)"
      ]
     },
     "execution_count": 54,
     "metadata": {},
     "output_type": "execute_result"
    }
   ],
   "source": [
    "trainy.shape"
   ]
  },
  {
   "cell_type": "code",
   "execution_count": 55,
   "metadata": {},
   "outputs": [
    {
     "data": {
      "text/plain": [
       "0"
      ]
     },
     "execution_count": 55,
     "metadata": {},
     "output_type": "execute_result"
    }
   ],
   "source": [
    "import gc\n",
    "gc.collect()"
   ]
  },
  {
   "cell_type": "code",
   "execution_count": 57,
   "metadata": {},
   "outputs": [
    {
     "name": "stdout",
     "output_type": "stream",
     "text": [
      "hi\n"
     ]
    }
   ],
   "source": [
    "import math\n",
    "alpha = 0.01\n",
    "#epoch = 20\n",
    "w = np.random.rand(3,1)\n",
    "#b_size = 32\n",
    "#teta1 =mbgd(scaled_train,trainy,w,alpha)\n",
    "gc.collect()\n",
    "def cmb(X, y, batch_size): \n",
    "    mini_batches = [] \n",
    "    data = np.column_stack((X, y))\n",
    "    #print(data.shape)\n",
    "    np.random.shuffle(data) \n",
    "    n_minibatches = data.shape[0] // batch_size \n",
    "    i = 0\n",
    "    gc.collect()\n",
    "    for i in range(n_minibatches + 1): \n",
    "        mini_batch = data[i * batch_size:(i + 1)*batch_size, :] \n",
    "        X_mini = mini_batch[:, :-1] \n",
    "        Y_mini = mini_batch[:, -1].reshape((-1, 1)) \n",
    "        #a=mini_batches.append((X_mini, Y_mini)) \n",
    "        gc.collect()\n",
    "    if data.shape[0] % batch_size != 0: \n",
    "        mini_batch = data[i * batch_size:data.shape[0]] \n",
    "        X_mini = mini_batch[:, :-1] \n",
    "        Y_mini = mini_batch[:, -1].reshape((-1, 1)) \n",
    "        #a =mini_batches.append((X_mini, Y_mini)) \n",
    "        print(X_mini)\n",
    "        print(Y_mini)\n",
    "        #print(a)\n",
    "    #return mini_batches \n",
    "    gc.collect()\n",
    "    return X_mini,Y_mini\n",
    "\n",
    "\n",
    "def mbgd(x,y,teta, alpha):\n",
    "    b_size = 32\n",
    "    epoch =1\n",
    "    for g in range(epoch):\n",
    "#         print(x.shape)\n",
    "#         print(y.shape)\n",
    "        #m_batches = cmb(x,y,b_size)\n",
    "        x_mini , y_mini = cmb(x,y,b_size)\n",
    "        print(\"hi\")\n",
    "        gc.collect()\n",
    "        for h in range(b_size):\n",
    "            #X_mini, y_mini = m_batches\n",
    "            #y_pred = np.dot(x[i],teta)\n",
    "#             print(x_mini)\n",
    "#             print(x_mini.shape)\n",
    "#             print(y_mini.shape)\n",
    "            z= np.dot(x_mini,w)\n",
    "            h= 1 / (1 + np.exp(-z))\n",
    "            #error[] = h-y_mini\n",
    "            #error = h - y_mini\n",
    "            error = - (y_mini*np.log(h) + (1-y_mini)*np.log(1- h))\n",
    "#              j = x[i]*(error)\n",
    "#             grad = np.reshape(j,(-1,1))\n",
    "            gc.collect()\n",
    "            grad = np.dot(x_mini.T,error)\n",
    "            teta = teta -(alpha*grad)\n",
    "    return teta\n",
    "\n",
    "       \n",
    "teta1 =mbgd(scaled_train,trainy,w,alpha)"
   ]
  },
  {
   "cell_type": "code",
   "execution_count": 58,
   "metadata": {},
   "outputs": [
    {
     "name": "stdout",
     "output_type": "stream",
     "text": [
      "[[0.71581486]\n",
      " [0.35528871]\n",
      " [0.00525099]]\n"
     ]
    }
   ],
   "source": [
    "print(teta1)"
   ]
  },
  {
   "cell_type": "code",
   "execution_count": 50,
   "metadata": {},
   "outputs": [],
   "source": [
    "# 1.2 Train the classifier on the training set, and report the training confusion matrix, accuracy, precision, recall,\n",
    "# F1-score, the ROC curve and the corresponding AUC score."
   ]
  },
  {
   "cell_type": "code",
   "execution_count": 59,
   "metadata": {},
   "outputs": [
    {
     "name": "stdout",
     "output_type": "stream",
     "text": [
      "(8000,)\n",
      "<class 'numpy.ndarray'>\n"
     ]
    }
   ],
   "source": [
    "testy = test[\"Y\"]\n",
    "print(testy.shape)\n",
    "testy = testy.values\n",
    "print(type(testy))\n",
    "testy = np.reshape(testy,(-1,1))\n"
   ]
  },
  {
   "cell_type": "code",
   "execution_count": 60,
   "metadata": {},
   "outputs": [],
   "source": [
    "testx =test.drop(labels='Y', axis=1)"
   ]
  },
  {
   "cell_type": "code",
   "execution_count": 61,
   "metadata": {},
   "outputs": [
    {
     "name": "stdout",
     "output_type": "stream",
     "text": [
      "[[1.         0.64804003 0.64804003]\n",
      " [1.         0.21601334 0.21601334]\n",
      " [1.         0.33277731 0.33277731]\n",
      " ...\n",
      " [1.         0.64804003 0.64804003]\n",
      " [1.         0.43202669 0.43202669]\n",
      " [1.         0.21601334 0.21601334]]\n",
      "(8000, 3)\n"
     ]
    }
   ],
   "source": [
    "# df_dummy=pd.get_dummies(testx)\n",
    "# print(df_dummy)\n",
    "# xtestx = df_dummy.values\n",
    "import gc\n",
    "gc.collect()\n",
    "from sklearn.preprocessing import MinMaxScaler\n",
    "sca = MinMaxScaler()\n",
    "scaled_test = sca.fit_transform(testx)\n",
    "scaled_test = np.insert(scaled_test, 0, 1.0, axis=1)\n",
    "print(scaled_test)\n",
    "print(scaled_test.shape)"
   ]
  },
  {
   "cell_type": "code",
   "execution_count": 62,
   "metadata": {},
   "outputs": [
    {
     "name": "stdout",
     "output_type": "stream",
     "text": [
      "(8000, 3)\n",
      "(3, 1)\n"
     ]
    }
   ],
   "source": [
    "print(scaled_test.shape)\n",
    "print(teta1.shape)"
   ]
  },
  {
   "cell_type": "code",
   "execution_count": 63,
   "metadata": {},
   "outputs": [
    {
     "name": "stdout",
     "output_type": "stream",
     "text": [
      "[[0.71581486]\n",
      " [0.35528871]\n",
      " [0.00525099]]\n"
     ]
    }
   ],
   "source": [
    "print(teta1)"
   ]
  },
  {
   "cell_type": "code",
   "execution_count": 64,
   "metadata": {},
   "outputs": [
    {
     "name": "stdout",
     "output_type": "stream",
     "text": [
      "[[0.94945902]\n",
      " [0.79369625]\n",
      " [0.83579429]\n",
      " ...\n",
      " [0.94945902]\n",
      " [0.87157763]\n",
      " [0.79369625]]\n"
     ]
    }
   ],
   "source": [
    "ypred = scaled_test.dot(teta1)\n",
    "\n",
    "print(ypred)"
   ]
  },
  {
   "cell_type": "code",
   "execution_count": 69,
   "metadata": {},
   "outputs": [
    {
     "name": "stdout",
     "output_type": "stream",
     "text": [
      "[[0.72100637]\n",
      " [0.68862444]\n",
      " [0.69757871]\n",
      " ...\n",
      " [0.72100637]\n",
      " [0.70507386]\n",
      " [0.68862444]]\n"
     ]
    }
   ],
   "source": [
    "ypred_new = 1 / (1 + np.exp(-ypred))\n",
    "print(ypred_new)"
   ]
  },
  {
   "cell_type": "code",
   "execution_count": 70,
   "metadata": {},
   "outputs": [
    {
     "name": "stdout",
     "output_type": "stream",
     "text": [
      "8000\n"
     ]
    }
   ],
   "source": [
    "print(len(ypred_new))"
   ]
  },
  {
   "cell_type": "code",
   "execution_count": 71,
   "metadata": {},
   "outputs": [
    {
     "name": "stdout",
     "output_type": "stream",
     "text": [
      "[[1.]\n",
      " [1.]\n",
      " [1.]\n",
      " ...\n",
      " [1.]\n",
      " [1.]\n",
      " [1.]]\n"
     ]
    }
   ],
   "source": [
    "threshold = 0.5\n",
    "for i in range(ypred_new.shape[0]):\n",
    "    if ypred_new[i] >= threshold:\n",
    "        ypred_new[i] =1\n",
    "        #print(\"inside if\")\n",
    "    else:\n",
    "        ypred_new[i] = 0\n",
    "       # print(\"inside else\")\n",
    "    \n",
    "print(ypred_new)"
   ]
  },
  {
   "cell_type": "code",
   "execution_count": 73,
   "metadata": {},
   "outputs": [
    {
     "name": "stdout",
     "output_type": "stream",
     "text": [
      "[[1.]\n",
      " [1.]\n",
      " [1.]\n",
      " ...\n",
      " [1.]\n",
      " [1.]\n",
      " [1.]]\n"
     ]
    }
   ],
   "source": [
    "threshold = 0.5\n",
    "for i in range(ypred.shape[0]):\n",
    "    if ypred[i] >= threshold:\n",
    "        ypred[i] =1\n",
    "       # print(\"inside if\")\n",
    "    else:\n",
    "        ypred[i] = 0\n",
    "       # print(\"inside else\")\n",
    "    \n",
    "print(ypred)"
   ]
  },
  {
   "cell_type": "code",
   "execution_count": 74,
   "metadata": {},
   "outputs": [
    {
     "name": "stdout",
     "output_type": "stream",
     "text": [
      "8000\n",
      "8000\n"
     ]
    }
   ],
   "source": [
    "print(len(testy))\n",
    "print(len(ypred))"
   ]
  },
  {
   "cell_type": "code",
   "execution_count": 75,
   "metadata": {},
   "outputs": [
    {
     "data": {
      "text/plain": [
       "array([[   0, 7775],\n",
       "       [   0,  225]], dtype=int64)"
      ]
     },
     "execution_count": 75,
     "metadata": {},
     "output_type": "execute_result"
    }
   ],
   "source": [
    "from sklearn.metrics import confusion_matrix\n",
    "confusion_matrix(testy,ypred_new)"
   ]
  },
  {
   "cell_type": "code",
   "execution_count": 76,
   "metadata": {},
   "outputs": [
    {
     "data": {
      "text/plain": [
       "array([[   0, 7775],\n",
       "       [   0,  225]], dtype=int64)"
      ]
     },
     "execution_count": 76,
     "metadata": {},
     "output_type": "execute_result"
    }
   ],
   "source": [
    "    from sklearn.metrics import confusion_matrix\n",
    "    confusion_matrix(testy,ypred)"
   ]
  },
  {
   "cell_type": "code",
   "execution_count": 77,
   "metadata": {},
   "outputs": [
    {
     "name": "stdout",
     "output_type": "stream",
     "text": [
      "tn= 225\n",
      "fp= 0\n",
      "fn= 7775\n",
      "tp= 0\n"
     ]
    }
   ],
   "source": [
    "from sklearn.metrics import confusion_matrix\n",
    "tp, fn, fp, tn = confusion_matrix(testy,ypred_new).ravel()\n",
    "#t= confusion_matrix(testy,ypred_new)\n",
    "print(\"tn=\",tn)\n",
    "print(\"fp=\",fp)\n",
    "print(\"fn=\",fn)\n",
    "print(\"tp=\",tp)"
   ]
  },
  {
   "cell_type": "code",
   "execution_count": 78,
   "metadata": {},
   "outputs": [
    {
     "name": "stderr",
     "output_type": "stream",
     "text": [
      "C:\\Users\\kusha\\Anaconda3\\lib\\site-packages\\sklearn\\metrics\\classification.py:1143: UndefinedMetricWarning: F-score is ill-defined and being set to 0.0 in labels with no predicted samples.\n",
      "  'precision', 'predicted', average, warn_for)\n",
      "C:\\Users\\kusha\\Anaconda3\\lib\\site-packages\\sklearn\\metrics\\classification.py:1143: UndefinedMetricWarning: Precision is ill-defined and being set to 0.0 in labels with no predicted samples.\n",
      "  'precision', 'predicted', average, warn_for)\n"
     ]
    }
   ],
   "source": [
    "from sklearn.metrics import accuracy_score\n",
    "from sklearn.metrics import f1_score\n",
    "from sklearn.metrics import recall_score\n",
    "from sklearn.metrics import precision_score\n",
    "accuracy = accuracy_score(testy, ypred_new)\n",
    "f1score = f1_score(testy,ypred_new,average='weighted')\n",
    "recall = recall_score(testy,ypred_new,average='weighted')\n",
    "precision = precision_score(testy,ypred_new,average='weighted')\n"
   ]
  },
  {
   "cell_type": "code",
   "execution_count": 79,
   "metadata": {},
   "outputs": [
    {
     "name": "stdout",
     "output_type": "stream",
     "text": [
      "accuracy = 0.028125\n",
      "F1score = 0.0015387537993920971\n",
      "recal = 0.028125\n",
      "precision = 0.000791015625\n"
     ]
    }
   ],
   "source": [
    "print(\"accuracy =\" , accuracy)\n",
    "print(\"F1score =\" , f1score)\n",
    "print(\"recal =\" ,recall)\n",
    "print(\"precision =\", precision)"
   ]
  },
  {
   "cell_type": "code",
   "execution_count": 80,
   "metadata": {},
   "outputs": [],
   "source": [
    "# roc curve\n",
    "\n",
    "import numpy as np\n",
    "from sklearn import metrics\n",
    "N =fp+tn\n",
    "P = tp+fn\n",
    "FPR= fp/N\n",
    "TPR=tp/P"
   ]
  },
  {
   "cell_type": "code",
   "execution_count": 81,
   "metadata": {},
   "outputs": [
    {
     "name": "stdout",
     "output_type": "stream",
     "text": [
      "[0. 1.]\n",
      "[0. 1.]\n",
      "[2. 1.]\n",
      "0.5\n"
     ]
    }
   ],
   "source": [
    "fpr, tpr, threshold = metrics.roc_curve(testy,ypred_new)\n",
    "roc_auc = metrics.auc(fpr, tpr)\n",
    "print(fpr)\n",
    "print(tpr)\n",
    "print(threshold)\n",
    "print(roc_auc)"
   ]
  },
  {
   "cell_type": "code",
   "execution_count": 82,
   "metadata": {},
   "outputs": [
    {
     "name": "stdout",
     "output_type": "stream",
     "text": [
      "0.0\n",
      "0.0\n",
      "[0. 1.]\n",
      "[0. 1.]\n"
     ]
    }
   ],
   "source": [
    "print(FPR)\n",
    "print(TPR)\n",
    "print(tpr)\n",
    "print(fpr)"
   ]
  },
  {
   "cell_type": "code",
   "execution_count": 84,
   "metadata": {},
   "outputs": [
    {
     "data": {
      "image/png": "[encoded data removed]",
      "text/plain": [
       "<Figure size 432x288 with 1 Axes>"
      ]
     },
     "metadata": {
      "needs_background": "light"
     },
     "output_type": "display_data"
    }
   ],
   "source": [
    "\n",
    "import matplotlib.pyplot as plt\n",
    "plt.figure()\n",
    "\n",
    "plt.plot(fpr, tpr, color='darkorange',\n",
    "         lw=2, label='ROC curve (area = %0.2f)' % roc_auc)\n",
    "plt.xlim(fpr)\n",
    "plt.ylim(tpr)\n",
    "plt.xlabel('FPR')\n",
    "plt.ylabel('TPR')\n",
    "plt.title('ROC')\n",
    "plt.legend(loc=\"lower right\")\n",
    "plt.show()"
   ]
  },
  {
   "cell_type": "code",
   "execution_count": 85,
   "metadata": {},
   "outputs": [
    {
     "name": "stdout",
     "output_type": "stream",
     "text": [
      "0.5\n"
     ]
    }
   ],
   "source": [
    "from sklearn import metrics\n",
    "AUC = metrics.auc(fpr, tpr)\n",
    "print(AUC)"
   ]
  },
  {
   "cell_type": "code",
   "execution_count": null,
   "metadata": {},
   "outputs": [],
   "source": [
    "\n",
    "# 1.3 Using the model, test the test set, and report the testing confusion matrix, accuracy, precision, recall, F1-\n",
    "# score, the ROC curve and the corresponding AUC score."
   ]
  },
  {
   "cell_type": "code",
   "execution_count": 86,
   "metadata": {},
   "outputs": [
    {
     "data": {
      "text/plain": [
       "(19999, 2)"
      ]
     },
     "execution_count": 86,
     "metadata": {},
     "output_type": "execute_result"
    }
   ],
   "source": [
    "main_test.shape"
   ]
  },
  {
   "cell_type": "code",
   "execution_count": 87,
   "metadata": {},
   "outputs": [
    {
     "data": {
      "text/plain": [
       "19999"
      ]
     },
     "execution_count": 87,
     "metadata": {},
     "output_type": "execute_result"
    }
   ],
   "source": [
    "len(main_test)"
   ]
  },
  {
   "cell_type": "code",
   "execution_count": 88,
   "metadata": {},
   "outputs": [
    {
     "data": {
      "text/plain": [
       "(80000, 3)"
      ]
     },
     "execution_count": 88,
     "metadata": {},
     "output_type": "execute_result"
    }
   ],
   "source": [
    "main_train.shape"
   ]
  },
  {
   "cell_type": "code",
   "execution_count": 89,
   "metadata": {},
   "outputs": [
    {
     "name": "stdout",
     "output_type": "stream",
     "text": [
      "[[1.         0.43202669 0.43202669]\n",
      " [1.         0.21601334 0.21601334]\n",
      " [1.         0.21601334 0.21601334]\n",
      " ...\n",
      " [1.         0.21601334 0.21601334]\n",
      " [1.         0.83319433 0.83319433]\n",
      " [1.         0.21601334 0.21601334]]\n",
      "(19999, 3)\n"
     ]
    }
   ],
   "source": [
    "import gc\n",
    "gc.collect()\n",
    "from sklearn.preprocessing import MinMaxScaler\n",
    "sca11 = MinMaxScaler()\n",
    "scaled_maintest = sca11.fit_transform(main_test)\n",
    "scaled_maintest = np.insert(scaled_maintest, 0, 1.0, axis=1)\n",
    "print(scaled_maintest)\n",
    "print(scaled_maintest.shape)"
   ]
  },
  {
   "cell_type": "code",
   "execution_count": 90,
   "metadata": {},
   "outputs": [
    {
     "name": "stdout",
     "output_type": "stream",
     "text": [
      "[[0.87157763]\n",
      " [0.79369625]\n",
      " [0.79369625]\n",
      " ...\n",
      " [0.79369625]\n",
      " [1.01621449]\n",
      " [0.79369625]]\n"
     ]
    }
   ],
   "source": [
    "ypred_maintest = scaled_maintest.dot(teta1)\n",
    "print(ypred_maintest)"
   ]
  },
  {
   "cell_type": "code",
   "execution_count": 91,
   "metadata": {},
   "outputs": [
    {
     "name": "stdout",
     "output_type": "stream",
     "text": [
      "[[0.70507386]\n",
      " [0.68862444]\n",
      " [0.68862444]\n",
      " ...\n",
      " [0.68862444]\n",
      " [0.73423457]\n",
      " [0.68862444]]\n"
     ]
    }
   ],
   "source": [
    "ypred_maintest_new = 1 / (1 + np.exp(-ypred_maintest))\n",
    "print(ypred_maintest_new)"
   ]
  },
  {
   "cell_type": "code",
   "execution_count": 93,
   "metadata": {},
   "outputs": [
    {
     "name": "stdout",
     "output_type": "stream",
     "text": [
      "[[1.]\n",
      " [1.]\n",
      " [1.]\n",
      " ...\n",
      " [1.]\n",
      " [1.]\n",
      " [1.]]\n"
     ]
    }
   ],
   "source": [
    "threshold = 0.5\n",
    "for i in range(ypred_maintest_new.shape[0]):\n",
    "    if ypred_maintest_new[i] >= threshold:\n",
    "        ypred_maintest_new[i] =1\n",
    "       # print(\"inside if\")\n",
    "    else:\n",
    "        ypred_maintest_new[i] = 0\n",
    "       # print(\"inside else\")\n",
    "    \n",
    "print(ypred_maintest_new)"
   ]
  },
  {
   "cell_type": "code",
   "execution_count": 94,
   "metadata": {},
   "outputs": [
    {
     "data": {
      "text/plain": [
       "array([[    0, 19435],\n",
       "       [    0,   564]], dtype=int64)"
      ]
     },
     "execution_count": 94,
     "metadata": {},
     "output_type": "execute_result"
    }
   ],
   "source": [
    "from sklearn.metrics import confusion_matrix\n",
    "confusion_matrix(main_testy,ypred_maintest_new)"
   ]
  },
  {
   "cell_type": "code",
   "execution_count": 95,
   "metadata": {},
   "outputs": [
    {
     "name": "stdout",
     "output_type": "stream",
     "text": [
      "tn= 564\n",
      "fp= 0\n",
      "fn= 19435\n",
      "tp= 0\n"
     ]
    }
   ],
   "source": [
    "from sklearn.metrics import confusion_matrix\n",
    "tp_test, fn_test, fp_test, tn_test = confusion_matrix(main_testy,ypred_maintest_new).ravel()\n",
    "#t= confusion_matrix(testy,ypred_new)\n",
    "print(\"tn=\",tn_test)\n",
    "print(\"fp=\",fp_test)\n",
    "print(\"fn=\",fn_test)\n",
    "print(\"tp=\",tp_test)"
   ]
  },
  {
   "cell_type": "code",
   "execution_count": 96,
   "metadata": {},
   "outputs": [
    {
     "name": "stdout",
     "output_type": "stream",
     "text": [
      "accuracy = 0.028201410070503526\n",
      "F1score = 0.0015470111637177445\n",
      "recal = 0.028201410070503526\n",
      "precision = 0.0007953195299646977\n"
     ]
    },
    {
     "name": "stderr",
     "output_type": "stream",
     "text": [
      "C:\\Users\\kusha\\Anaconda3\\lib\\site-packages\\sklearn\\metrics\\classification.py:1143: UndefinedMetricWarning: F-score is ill-defined and being set to 0.0 in labels with no predicted samples.\n",
      "  'precision', 'predicted', average, warn_for)\n",
      "C:\\Users\\kusha\\Anaconda3\\lib\\site-packages\\sklearn\\metrics\\classification.py:1143: UndefinedMetricWarning: Precision is ill-defined and being set to 0.0 in labels with no predicted samples.\n",
      "  'precision', 'predicted', average, warn_for)\n"
     ]
    }
   ],
   "source": [
    "from sklearn.metrics import accuracy_score\n",
    "from sklearn.metrics import f1_score\n",
    "from sklearn.metrics import recall_score\n",
    "from sklearn.metrics import precision_score\n",
    "accuracy_test = accuracy_score(main_testy,ypred_maintest_new)\n",
    "f1score_test = f1_score(main_testy,ypred_maintest_new,average='weighted')\n",
    "recall_test = recall_score(main_testy,ypred_maintest_new,average='weighted')\n",
    "precision_test = precision_score(main_testy,ypred_maintest_new,average='weighted')\n",
    "\n",
    "print(\"accuracy =\" , accuracy_test)\n",
    "print(\"F1score =\" , f1score_test)\n",
    "print(\"recal =\" ,recall_test)\n",
    "print(\"precision =\", precision_test)"
   ]
  },
  {
   "cell_type": "code",
   "execution_count": 97,
   "metadata": {},
   "outputs": [],
   "source": [
    "import numpy as np\n",
    "from sklearn import metrics\n",
    "N_test =fp_test+tn_test\n",
    "P_test = tp_test+fn_test\n",
    "FPR_test= fp_test/N_test\n",
    "TPR_test=tp_test/P_test"
   ]
  },
  {
   "cell_type": "code",
   "execution_count": 98,
   "metadata": {},
   "outputs": [
    {
     "name": "stdout",
     "output_type": "stream",
     "text": [
      "[0. 1.]\n",
      "[0. 1.]\n",
      "[2. 1.]\n"
     ]
    }
   ],
   "source": [
    "fpr_test, tpr_test, threshold_test = metrics.roc_curve(main_testy,ypred_maintest_new)\n",
    "roc_auc = metrics.auc(fpr_test, tpr_test)\n",
    "print(fpr_test)\n",
    "print(tpr_test)\n",
    "print(threshold_test)\n"
   ]
  },
  {
   "cell_type": "code",
   "execution_count": 99,
   "metadata": {},
   "outputs": [
    {
     "name": "stdout",
     "output_type": "stream",
     "text": [
      "0.0\n",
      "0.0\n"
     ]
    }
   ],
   "source": [
    "print(FPR_test)\n",
    "print(TPR_test)"
   ]
  },
  {
   "cell_type": "code",
   "execution_count": 100,
   "metadata": {},
   "outputs": [
    {
     "data": {
      "image/png": "[encoded data removed]",
      "text/plain": [
       "<Figure size 432x288 with 1 Axes>"
      ]
     },
     "metadata": {
      "needs_background": "light"
     },
     "output_type": "display_data"
    }
   ],
   "source": [
    "plt.figure()\n",
    "\n",
    "plt.plot(fpr_test, tpr_test, color='darkorange',\n",
    "         lw=2, label='ROC curve (area = %0.2f)' % roc_auc)\n",
    "plt.xlim([0.0, 1.0])\n",
    "plt.ylim([0.0, 1.0])\n",
    "plt.xlabel('FPR')\n",
    "plt.ylabel('TPR')\n",
    "plt.title('ROC')\n",
    "plt.legend(loc=\"lower right\")\n",
    "plt.show()"
   ]
  },
  {
   "cell_type": "code",
   "execution_count": 101,
   "metadata": {},
   "outputs": [
    {
     "name": "stdout",
     "output_type": "stream",
     "text": [
      "0.5\n"
     ]
    }
   ],
   "source": [
    "from sklearn import metrics\n",
    "AUC_test = metrics.auc(fpr_test, tpr_test)\n",
    "print(AUC_test)"
   ]
  },
  {
   "cell_type": "code",
   "execution_count": null,
   "metadata": {},
   "outputs": [],
   "source": [
    "# 1.4 Looking at results obtained in Tasks 1.2 and 1.3: Is your classifier showing any sign of overfitting, or\n",
    "# underfitting? And explain why do you think that. If yes, can you suggest a solution, and utilize it to solve the\n",
    "# issue (if present)."
   ]
  },
  {
   "cell_type": "code",
   "execution_count": null,
   "metadata": {},
   "outputs": [],
   "source": [
    "# accuracy is very low which means it is a clear case of under fitting . it is because the training data is very less than\n",
    "#test data\n",
    "# solution would be to either increase training data or reduce the test data used "
   ]
  },
  {
   "cell_type": "code",
   "execution_count": null,
   "metadata": {},
   "outputs": [],
   "source": [
    "# 1.5 (Graduate Student Requirement) Dataset follows a highly skewed distribution in terms of the target class\n",
    "# label. Can you devise a workaround to this? Please explain and redo tasks 1.1, 1.2, 1.3, and 1.4."
   ]
  },
  {
   "cell_type": "code",
   "execution_count": null,
   "metadata": {},
   "outputs": [],
   "source": [
    "#WE CAN DO UNDER SAMPLING AS SHOWN BELOW"
   ]
  },
  {
   "cell_type": "code",
   "execution_count": 185,
   "metadata": {},
   "outputs": [
    {
     "name": "stdout",
     "output_type": "stream",
     "text": [
      "Skewness: 5.891257\n",
      "2654\n",
      "Int64Index([    0,     1,     2,     3,     4,     5,     6,     7,     8,\n",
      "                9,\n",
      "            ...\n",
      "            99989, 99990, 99991, 99992, 99993, 99994, 99995, 99996, 99997,\n",
      "            99998],\n",
      "           dtype='int64', length=97345)\n",
      "[46377 26390 78794 ... 64458 95400 72394]\n",
      "Int64Index([  111,   157,   181,   191,   201,   217,   219,   220,   275,\n",
      "              280,\n",
      "            ...\n",
      "            99803, 99835, 99851, 99857, 99901, 99905, 99909, 99924, 99928,\n",
      "            99942],\n",
      "           dtype='int64', length=2654)\n",
      "[  111   157   181 ... 64458 95400 72394]\n",
      "       0\n",
      "111    1\n",
      "157    1\n",
      "181    1\n",
      "191    1\n",
      "201    1\n",
      "217    1\n",
      "219    1\n",
      "220    1\n",
      "275    1\n",
      "280    1\n",
      "296    1\n",
      "335    1\n",
      "343    1\n",
      "352    1\n",
      "619    1\n",
      "642    1\n",
      "643    1\n",
      "652    1\n",
      "660    1\n",
      "788    1\n",
      "812    1\n",
      "825    1\n",
      "875    1\n",
      "963    1\n",
      "966    1\n",
      "1016   1\n",
      "1031   1\n",
      "1045   1\n",
      "1074   1\n",
      "1093   1\n",
      "...   ..\n",
      "99172  0\n",
      "12423  0\n",
      "59874  0\n",
      "23761  0\n",
      "53735  0\n",
      "16169  0\n",
      "74357  0\n",
      "67947  0\n",
      "54647  0\n",
      "79189  0\n",
      "57937  0\n",
      "82495  0\n",
      "54981  0\n",
      "70237  0\n",
      "10741  0\n",
      "71242  0\n",
      "34296  0\n",
      "8177   0\n",
      "24641  0\n",
      "86359  0\n",
      "69636  0\n",
      "20151  0\n",
      "66085  0\n",
      "19365  0\n",
      "99622  0\n",
      "2336   0\n",
      "60376  0\n",
      "64458  0\n",
      "95400  0\n",
      "72394  0\n",
      "\n",
      "[5308 rows x 1 columns]\n"
     ]
    },
    {
     "data": {
      "image/png": "[encoded data removed]",
      "text/plain": [
       "<Figure size 432x288 with 1 Axes>"
      ]
     },
     "metadata": {
      "needs_background": "light"
     },
     "output_type": "display_data"
    }
   ],
   "source": [
    "import seaborn as sns\n",
    "sns.distplot(dataBY);\n",
    "\n",
    "print(\"Skewness: %f\" % dataBY.skew())\n",
    "\n",
    "no_frauds = len(dataBY[dataBY['0'] == 1])\n",
    "print(no_frauds)\n",
    "\n",
    "non_fraud_indices = dataBY[dataBY['0'] == 0].index\n",
    "print(non_fraud_indices)\n",
    "\n",
    "random_indices = np.random.choice(non_fraud_indices,no_frauds, replace=False)\n",
    "print(random_indices)\n",
    "\n",
    "fraud_indices = dataBY[dataBY['0'] == 1].index\n",
    "print(fraud_indices)\n",
    "\n",
    "under_sample_indices = np.concatenate([fraud_indices,random_indices])\n",
    "print(under_sample_indices)\n",
    "\n",
    "under_sample = dataBY.loc[under_sample_indices]\n",
    "print(under_sample)"
   ]
  },
  {
   "cell_type": "code",
   "execution_count": null,
   "metadata": {},
   "outputs": [],
   "source": [
    "# Task 2 : Naive Bayes Classifier (NB)\n",
    "# 2. Naive Bayes Classifier construction considering the log likelihood strategy with Laplace based smoothing\n",
    "# for discrete variables, and Gaussian smoothing for the continuous variables to estimate the corresponding\n",
    "# conditional probabilities. Once again, do not call library function for Naive Bayes classification’s fit method.\n",
    "# 2.1 We do not have any hyper-parameters to train here. Then, simply report the 5-fold cross validation\n",
    "# performance in terms of accuracy, precision, recall, F1-score. (On the training set)"
   ]
  },
  {
   "cell_type": "code",
   "execution_count": 105,
   "metadata": {},
   "outputs": [
    {
     "name": "stdout",
     "output_type": "stream",
     "text": [
      "(99999, 19)\n",
      "(99999, 1)\n"
     ]
    }
   ],
   "source": [
    "print(dataBX.shape)\n",
    "print(dataBY.shape)"
   ]
  },
  {
   "cell_type": "code",
   "execution_count": 106,
   "metadata": {},
   "outputs": [],
   "source": [
    "#print(dataAX.head(2))"
   ]
  },
  {
   "cell_type": "code",
   "execution_count": 108,
   "metadata": {},
   "outputs": [
    {
     "data": {
      "text/plain": [
       "0"
      ]
     },
     "execution_count": 108,
     "metadata": {},
     "output_type": "execute_result"
    }
   ],
   "source": [
    "import gc\n",
    "gc.collect()"
   ]
  },
  {
   "cell_type": "code",
   "execution_count": 109,
   "metadata": {},
   "outputs": [
    {
     "data": {
      "text/plain": [
       "Index(['amount', 'total', 'Y'], dtype='object')"
      ]
     },
     "execution_count": 109,
     "metadata": {},
     "output_type": "execute_result"
    }
   ],
   "source": [
    "main_train.columns"
   ]
  },
  {
   "cell_type": "code",
   "execution_count": 110,
   "metadata": {},
   "outputs": [],
   "source": [
    "#main_test.columns"
   ]
  },
  {
   "cell_type": "code",
   "execution_count": 111,
   "metadata": {},
   "outputs": [],
   "source": [
    "# df_dum = df_dum[['amount','total','y']]\n",
    "main_train1 = main_train[['amount','total','Y']]\n",
    "#main_test1 = main_test[['amount','total','Y']]"
   ]
  },
  {
   "cell_type": "code",
   "execution_count": 23,
   "metadata": {},
   "outputs": [],
   "source": [
    "#df_dum = df_dum[['amount','total']]"
   ]
  },
  {
   "cell_type": "code",
   "execution_count": 112,
   "metadata": {},
   "outputs": [
    {
     "name": "stdout",
     "output_type": "stream",
     "text": [
      "(array([    2,     4,     5, ..., 79996, 79997, 79999]), array([    0,     1,     3, ..., 79969, 79989, 79998]))\n"
     ]
    }
   ],
   "source": [
    "from sklearn.model_selection import KFold\n",
    "kfo = KFold(n_splits = 5, shuffle = True, random_state =None)\n",
    "res = next(kfo.split(main_train1), None)\n",
    "print (res)\n",
    "\n",
    "\n"
   ]
  },
  {
   "cell_type": "code",
   "execution_count": 113,
   "metadata": {},
   "outputs": [],
   "source": [
    "tr = main_train1.iloc[res[0]]\n",
    "te = main_train1.iloc[res[1]]"
   ]
  },
  {
   "cell_type": "code",
   "execution_count": 114,
   "metadata": {},
   "outputs": [
    {
     "name": "stdout",
     "output_type": "stream",
     "text": [
      "<class 'numpy.ndarray'>\n"
     ]
    }
   ],
   "source": [
    "tr_y= tr[\"Y\"]\n",
    "tr_y = tr_y.values\n",
    "tr_y = np.reshape(tr_y,(-1,1))\n",
    "print(type(tr_y))\n",
    "tr_y1 = tr_y[:5000, :]"
   ]
  },
  {
   "cell_type": "code",
   "execution_count": 115,
   "metadata": {},
   "outputs": [
    {
     "name": "stdout",
     "output_type": "stream",
     "text": [
      "(64000, 1)\n",
      "(5000, 1)\n"
     ]
    },
    {
     "data": {
      "text/plain": [
       "0"
      ]
     },
     "execution_count": 115,
     "metadata": {},
     "output_type": "execute_result"
    }
   ],
   "source": [
    "print(tr_y.shape)\n",
    "print(tr_y1.shape)\n",
    "gc.collect()"
   ]
  },
  {
   "cell_type": "code",
   "execution_count": 116,
   "metadata": {},
   "outputs": [
    {
     "name": "stdout",
     "output_type": "stream",
     "text": [
      "(64000, 2)\n",
      "<class 'pandas.core.frame.DataFrame'>\n",
      "(5000, 2)\n"
     ]
    }
   ],
   "source": [
    "\n",
    "gc.collect()\n",
    "tr_x = tr.drop(labels='Y', axis=1)\n",
    "print(tr_x.shape)\n",
    "tr_x1 = tr_x.iloc[0:5000]\n",
    "print(type(tr_x))\n",
    "\n",
    "print(tr_x1.shape)"
   ]
  },
  {
   "cell_type": "code",
   "execution_count": 117,
   "metadata": {},
   "outputs": [],
   "source": [
    "tr_x1 = tr_x1.values\n",
    "\n"
   ]
  },
  {
   "cell_type": "code",
   "execution_count": 118,
   "metadata": {},
   "outputs": [
    {
     "name": "stdout",
     "output_type": "stream",
     "text": [
      "<class 'numpy.ndarray'>\n"
     ]
    }
   ],
   "source": [
    "print(type(tr_x1))"
   ]
  },
  {
   "cell_type": "code",
   "execution_count": 119,
   "metadata": {},
   "outputs": [],
   "source": [
    "gc.collect()\n",
    "from sklearn.preprocessing import MinMaxScaler\n",
    "sca = MinMaxScaler()\n",
    "stra = sca.fit_transform(tr_x1)\n",
    "#stra = np.insert(stra, 0, 1.0, axis=1)"
   ]
  },
  {
   "cell_type": "code",
   "execution_count": 120,
   "metadata": {},
   "outputs": [
    {
     "name": "stdout",
     "output_type": "stream",
     "text": [
      "<class 'numpy.ndarray'>\n",
      "(16000, 1)\n",
      "(5000, 1)\n",
      "(64000, 2)\n",
      "<class 'pandas.core.frame.DataFrame'>\n",
      "(5000, 2)\n",
      "<class 'numpy.ndarray'>\n"
     ]
    }
   ],
   "source": [
    "te_y= te[\"Y\"]\n",
    "te_y = te_y.values\n",
    "te_y = np.reshape(te_y,(-1,1))\n",
    "print(type(te_y))\n",
    "te_y1 = te_y[:5000, :]\n",
    "\n",
    "print(te_y.shape)\n",
    "print(te_y1.shape)\n",
    "gc.collect()\n",
    "\n",
    "\n",
    "gc.collect()\n",
    "te_x = te.drop(labels='Y', axis=1)\n",
    "print(tr_x.shape)\n",
    "te_x1 = te_x.iloc[0:5000]\n",
    "print(type(te_x))\n",
    "\n",
    "print(te_x1.shape)\n",
    "\n",
    "te_x1 = te_x1.values\n",
    "\n",
    "print(type(te_x1))"
   ]
  },
  {
   "cell_type": "code",
   "execution_count": 121,
   "metadata": {},
   "outputs": [],
   "source": [
    "gc.collect()\n",
    "from sklearn.preprocessing import MinMaxScaler\n",
    "sca = MinMaxScaler()\n",
    "ste = sca.fit_transform(te_x1)\n",
    "#ste = np.insert(ste, 0, 1.0, axis=1)"
   ]
  },
  {
   "cell_type": "code",
   "execution_count": 122,
   "metadata": {},
   "outputs": [],
   "source": [
    "import random\n",
    "import math\n",
    "from scipy.special import expit\n",
    "\n",
    "def separateByClass(dataset):\n",
    "\tseparated = {}\n",
    "\tfor i in range(len(dataset)):\n",
    "\t\tvector = dataset[i]\n",
    "\t\tif (vector[-1] not in separated):\n",
    "\t\t\tseparated[vector[-1]] = []\n",
    "\t\tseparated[vector[-1]].append(vector)\n",
    "\treturn separated\n",
    "\n",
    "def mean(numbers):\n",
    "\treturn sum(numbers)/float(len(numbers))\n",
    " \n",
    "def stdev(numbers):\n",
    "\tavg = mean(numbers)\n",
    "\tvariance = sum([pow(x-avg,2) for x in numbers])/float(len(numbers)-1)\n",
    "\treturn math.sqrt(variance)\n",
    " \n",
    "def summarize(dataset):\n",
    "\tsummaries = [(mean(attribute), stdev(attribute)) for attribute in zip(*dataset)]\n",
    "\tdel summaries[-1]\n",
    "\treturn summaries\n",
    " \n",
    "def summarizeByClass(dataset):\n",
    "\tseparated = separateByClass(dataset)\n",
    "\tsummaries = {}\n",
    "\tfor classValue, instances in separated.items():\n",
    "\t\tsummaries[classValue] = summarize(instances)\n",
    "\treturn summaries\n",
    " \n",
    "def calculateProbability(x, mean, stdev):\n",
    "\t#exponent = math.exp(-(math.pow(x-mean,2)/(2*math.pow(stdev,2)))) \n",
    "    m =(2*math.pow(stdev,2))\n",
    "  \n",
    "    if(m == 0):\n",
    "        m= 0.005\n",
    "    \n",
    "    p = -(math.pow(x-mean,2)/m)\n",
    "    #p = -(math.pow(x-mean,2)/(2*variance)\n",
    "    #print(stdev)\n",
    "    #q = expit(-(math.pow(x-mean,2)/(2*math.pow(stdev,2))))\n",
    "\t#r= (1/(math.sqrt(2*math.pi)*stdev))\n",
    "#     t = math.sqrt(2*math.pi)\n",
    "#     u = t* stdev\n",
    "#     v = 1/u\n",
    "#     s = v*q\n",
    "    s=expit(p)\n",
    "    return s\n",
    "\n",
    "\n",
    "def calculateClassProbabilities(summaries, inputVector):\n",
    "\tprobabilities = {}\n",
    "\tfor classValue, classSummaries in summaries.items():\n",
    "\t\tprobabilities[classValue] = 1\n",
    "\t\tfor i in range(len(classSummaries)):\n",
    "\t\t\tmean, stdev = classSummaries[i]\n",
    "\t\t\tx = inputVector[i]\n",
    "\t\t\tprobabilities[classValue] *= calculateProbability(x, mean, stdev)\n",
    "\treturn probabilities\n",
    "\t\t\t\n",
    "def predict(summaries, inputVector):\n",
    "\tprobabilities = calculateClassProbabilities(summaries, inputVector)\n",
    "\tbestLabel, bestProb = None, -1\n",
    "\tfor classValue, probability in probabilities.items():\n",
    "\t\tif bestLabel is None or probability > bestProb:\n",
    "\t\t\tbestProb = probability\n",
    "\t\t\tbestLabel = classValue\n",
    "\treturn bestLabel\n",
    " \n",
    "def getPredictions(summaries, testSet):\n",
    "\tpredictions = []\n",
    "\tfor i in range(len(testSet)):\n",
    "\t\tresult = predict(summaries, testSet[i])\n",
    "\t\tpredictions.append(result)\n",
    "\treturn predictions\n",
    "\n",
    "# def getAccuracy(testSet, predictions):\n",
    "# \tcorrect = 0\n",
    "# \tfor i in range(len(testSet)):\n",
    "# \t\tif testSet[i][-1] == predictions[i]:\n",
    "# \t\t\tcorrect += 1\n",
    "# \treturn (correct/float(len(testSet))) * 100.0\n",
    " "
   ]
  },
  {
   "cell_type": "code",
   "execution_count": 123,
   "metadata": {},
   "outputs": [
    {
     "name": "stderr",
     "output_type": "stream",
     "text": [
      "C:\\Users\\kusha\\Anaconda3\\lib\\site-packages\\ipykernel_launcher.py:19: RuntimeWarning: invalid value encountered in double_scalars\n"
     ]
    },
    {
     "name": "stdout",
     "output_type": "stream",
     "text": [
      "{0.6540404040404041: [(0.654040404040414, 9.883804432680877e-15)], 0.218013468013468: [(0.218013468013468, 0.0)], 0.1744107744107744: [(0.17441077441077382, 5.838281225262974e-16)], 0.8409090909090909: [(0.8409090909090843, 6.668869340826358e-15)], 0.0: [(0.0, 0.0)], 0.436026936026936: [(0.43602693602693454, 1.4464377872941275e-15)], 0.18535353535353535: [(0.18535353535353502, 3.3434547987153284e-16)], 0.33585858585858586: [(0.3358585858585859, 5.99588961666477e-17)], 0.5232323232323232: [(0.523232323232322, 1.1136443671719466e-15)], 1.0: [(1.0, 0.0)], 0.6727272727272727: [(0.6727272727272724, 3.39411609061636e-16)], 0.556060606060606: [(0.556060606060606, 0.0)], 0.4904040404040404: [(0.4904040404040404, 0.0)], 0.6104377104377104: [(0.6104377104377104, 0.0)], 0.5668350168350168: [(0.5668350168350168, 0.0)], 0.3488215488215488: [(0.34882154882154903, 2.246116798593759e-16)], 0.6212121212121212: [(0.6212121212121212, 0.0)], 0.19612794612794612: [(0.1961279461279461, 2.888891902733299e-17)], 0.6321548821548821: [(0.6321548821548821, 0.0)], 0.20707070707070707: [(0.20707070707070707, 0.0)], 0.42003367003367004: [(0.42003367003367004, 0.0)], 0.3924242424242424: [(0.3924242424242424, nan)], 0.8: [(0.8, 0.0)], 0.5994949494949495: [(0.5994949494949495, 0.0)], 0.5341750841750842: [(0.5341750841750842, nan)], 0.5883838383838385: [(0.5883838383838385, 0.0)], 0.3939393939393939: [(0.39393939393939387, 6.798699777552591e-17)], 0.16346801346801348: [(0.16346801346801348, 0.0)], 0.5887205387205386: [(0.5887205387205386, nan)], 0.4797979797979798: [(0.4797979797979798, nan)], 0.3707070707070707: [(0.3707070707070707, 0.0)], 0.7567340067340068: [(0.7567340067340068, 0.0)], 0.39225589225589225: [(0.39225589225589225, 0.0)], 0.7148148148148148: [(0.7148148148148148, nan)], 0.5449494949494949: [(0.5449494949494949, 0.0)]}\n"
     ]
    }
   ],
   "source": [
    "# prepare model\n",
    "summaries = summarizeByClass(stra)\n",
    "print(summaries)\n",
    "\t# test model\n",
    "predictions = getPredictions(summaries, ste)\n",
    "#accuracy = getAccuracy(ste, predictions)\n",
    "#print('Accuracy: {0}%').format(accuracy)"
   ]
  },
  {
   "cell_type": "code",
   "execution_count": 124,
   "metadata": {},
   "outputs": [
    {
     "name": "stdout",
     "output_type": "stream",
     "text": [
      "[0, 0, 1, 0, 1, 0, 0, 1, 0, 1, 0, 0, 0, 1, 1, 0, 1, 1, 1, 1, 0, 1, 1, 1, 0, 1, 1, 1, 1, 1, 0, 0, 0, 0, 1, 0, 0, 1, 0, 0, 1, 1, 0, 1, 1, 1, 0, 0, 0, 1, 0, 1, 1, 1, 1, 1, 1, 1, 0, 1, 1, 0, 1, 1, 0, 1, 1, 1, 0, 1, 0, 0, 0, 0, 0, 0, 0, 0, 0, 1, 1, 0, 0, 0, 0, 0, 1, 1, 0, 1, 1, 1, 1, 1, 0, 1, 1, 1, 1, 1, 1, 1, 1, 1, 0, 0, 1, 0, 1, 0, 0, 0, 1, 1, 0, 0, 0, 0, 1, 1, 0, 0, 1, 0, 0, 1, 1, 0, 1, 1, 0, 1, 0, 0, 0, 0, 0, 0, 0, 1, 1, 0, 1, 1, 0, 0, 0, 0, 1, 1, 0, 1, 1, 0, 0, 1, 0, 0, 1, 0, 0, 1, 0, 0, 1, 0, 0, 1, 0, 0, 1, 1, 1, 0, 1, 1, 0, 0, 0, 0, 1, 1, 0, 1, 0, 0, 1, 1, 0, 1, 1, 1, 1, 1, 1, 1, 0, 1, 0, 1, 1, 0, 0, 1, 0, 0, 0, 0, 1, 0, 1, 1, 1, 0, 1, 0, 0, 0, 1, 1, 0, 0, 1, 0, 1, 1, 0, 1, 0, 0, 0, 1, 0, 1, 0, 0, 1, 1, 1, 1, 0, 1, 0, 1, 1, 0, 1, 0, 0, 1, 0, 1, 1, 0, 0, 0, 1, 0, 1, 0, 0, 0, 1, 1, 0, 0, 0, 1, 0, 1, 1, 0, 0, 0, 0, 0, 1, 0, 1, 1, 0, 0, 0, 0, 1, 1, 0, 1, 1, 1, 1, 0, 0, 0, 1, 1, 0, 0, 1, 1, 0, 0, 1, 0, 0, 1, 0, 1, 1, 0, 0, 0, 0, 0, 0, 1, 0, 0, 0, 0, 1, 0, 1, 0, 0, 0, 0, 1, 1, 0, 1, 1, 0, 1, 0, 0, 1, 0, 0, 0, 0, 0, 0, 1, 0, 0, 1, 1, 0, 1, 0, 0, 0, 0, 0, 0, 1, 0, 1, 0, 0, 1, 0, 1, 0, 0, 0, 1, 1, 1, 1, 0, 1, 0, 0, 1, 1, 1, 0, 1, 1, 0, 0, 0, 1, 0, 1, 0, 0, 0, 0, 1, 1, 1, 0, 0, 1, 0, 0, 1, 1, 0, 1, 0, 1, 0, 0, 0, 1, 1, 1, 1, 1, 1, 1, 0, 0, 1, 0, 1, 1, 0, 0, 1, 1, 1, 1, 1, 1, 0, 1, 0, 1, 1, 1, 0, 1, 1, 0, 1, 0, 0, 1, 0, 0, 0, 0, 0, 1, 0, 1, 0, 0, 0, 0, 1, 0, 1, 1, 0, 1, 1, 1, 1, 0, 0, 0, 1, 1, 1, 0, 0, 0, 0, 0, 0, 1, 1, 1, 1, 0, 1, 0, 0, 1, 0, 1, 0, 1, 0, 1, 1, 1, 1, 0, 0, 1, 1, 0, 0, 1, 1, 0, 1, 1, 0, 0, 0, 1, 1, 0, 1, 1, 1, 1, 0, 0, 0, 1, 0, 1, 1, 1, 1, 0, 1, 1, 1, 0, 1, 1, 0, 1, 1, 0, 1, 0, 1, 0, 1, 1, 0, 0, 0, 0, 1, 0, 0, 0, 0, 0, 1, 1, 0, 0, 0, 1, 0, 0, 0, 0, 1, 0, 0, 1, 1, 1, 1, 0, 0, 1, 0, 0, 1, 1, 0, 1, 1, 0, 0, 1, 0, 0, 1, 1, 1, 1, 1, 0, 1, 1, 1, 1, 1, 0, 0, 1, 0, 1, 0, 1, 1, 0, 0, 1, 1, 0, 1, 1, 0, 0, 1, 0, 1, 0, 0, 0, 1, 1, 0, 1, 1, 0, 0, 0, 0, 0, 0, 1, 0, 0, 0, 0, 0, 0, 1, 1, 0, 0, 1, 1, 0, 1, 0, 0, 1, 1, 0, 0, 1, 1, 0, 0, 1, 0, 0, 0, 1, 0, 0, 0, 1, 0, 1, 0, 0, 1, 0, 0, 0, 0, 1, 0, 0, 1, 1, 1, 1, 1, 1, 0, 1, 0, 1, 0, 0, 0, 0, 0, 0, 0, 1, 1, 1, 1, 0, 1, 1, 1, 0, 0, 0, 1, 0, 1, 0, 1, 0, 0, 0, 0, 1, 0, 0, 1, 0, 1, 1, 0, 1, 1, 0, 0, 1, 1, 1, 0, 1, 1, 1, 0, 0, 1, 0, 1, 0, 0, 1, 0, 1, 1, 1, 1, 1, 0, 1, 0, 1, 0, 1, 1, 1, 1, 0, 1, 1, 1, 0, 0, 0, 0, 0, 0, 1, 1, 0, 0, 1, 1, 1, 0, 1, 0, 1, 0, 1, 0, 0, 1, 0, 0, 1, 1, 1, 0, 0, 0, 1, 1, 0, 0, 0, 1, 1, 0, 1, 0, 1, 1, 1, 0, 1, 0, 1, 1, 1, 0, 1, 1, 0, 0, 1, 0, 1, 1, 0, 0, 0, 1, 0, 0, 1, 1, 0, 1, 0, 1, 0, 0, 1, 1, 1, 0, 0, 0, 0, 0, 0, 1, 0, 1, 0, 1, 0, 1, 1, 1, 0, 1, 0, 1, 0, 1, 1, 0, 0, 0, 0, 1, 0, 1, 1, 0, 1, 1, 0, 0, 1, 0, 1, 1, 0, 1, 1, 1, 0, 1, 1, 1, 0, 0, 1, 1, 1, 1, 0, 0, 1, 1, 0, 0, 1, 1, 0, 1, 1, 1, 1, 0, 0, 0, 1, 1, 0, 1, 0, 1, 1, 1, 1, 1, 0, 1, 0, 0, 1, 0, 1, 0, 1, 0, 0, 0, 1, 1, 1, 1, 1, 1, 0, 0, 1, 1, 0, 1, 0, 1, 0, 0, 0, 0, 0, 1, 1, 0, 0, 0, 1, 1, 1, 1, 0, 1, 1, 1, 1, 0, 1, 1, 0, 1, 1, 0, 1, 1, 0, 0, 1, 0, 0, 1, 0, 0, 1, 0, 0, 1, 0, 1, 0, 0, 0, 1, 0, 1, 0, 0, 1, 1, 0, 1, 1, 1, 1, 1, 1, 0, 0, 0, 0, 1, 0, 1, 0, 0, 1, 1, 0, 0, 1, 1, 0, 1, 1, 0, 1, 0, 1, 1, 0, 1, 1, 0, 0, 1, 0, 1, 0, 0, 0, 1, 1, 0, 0, 1, 0, 1, 0, 0, 1, 0, 0, 1, 0, 0, 1, 0, 1, 1, 0, 1, 0, 1, 0, 0, 0, 1, 0, 0, 1, 0, 1, 0, 0, 0, 1, 0, 0, 0, 1, 0, 1, 1, 1, 1, 0, 1, 1, 0, 1, 1, 1, 1, 1, 0, 1, 1, 1, 1, 1, 0, 1, 1, 0, 1, 0, 0, 1, 1, 1, 1, 0, 1, 0, 0, 0, 1, 0, 0, 1, 0, 1, 1, 1, 1, 0, 1, 1, 1, 0, 0, 0, 1, 1, 0, 1, 1, 1, 1, 0, 0, 0, 1, 0, 0, 0, 1, 0, 0, 0, 0, 1, 0, 0, 0, 0, 0, 0, 0, 0, 0, 0, 1, 1, 0, 1, 0, 0, 0, 1, 0, 1, 0, 1, 0, 0, 0, 1, 0, 0, 1, 1, 1, 1, 0, 1, 1, 1, 1, 1, 1, 0, 1, 0, 0, 1, 0, 0, 1, 1, 0, 0, 1, 1, 0, 1, 1, 1, 0, 1, 1, 1, 1, 0, 0, 1, 1, 0, 0, 1, 1, 0, 0, 1, 0, 0, 1, 1, 0, 1, 0, 0, 1, 0, 1, 0, 0, 0, 0, 1, 1, 0, 0, 0, 1, 1, 1, 0, 0, 1, 0, 1, 0, 1, 1, 0, 0, 0, 0, 0, 1, 0, 1, 1, 1, 0, 0, 0, 0, 0, 1, 1, 1, 1, 0, 1, 1, 1, 1, 0, 1, 0, 1, 0, 0, 1, 1, 1, 1, 1, 1, 0, 1, 0, 0, 0, 0, 1, 1, 1, 0, 0, 0, 1, 1, 1, 0, 1, 0, 1, 0, 0, 0, 0, 1, 1, 0, 1, 1, 1, 0, 1, 1, 0, 1, 0, 0, 1, 1, 0, 0, 0, 1, 0, 0, 0, 0, 0, 0, 0, 0, 0, 1, 1, 1, 0, 0, 0, 1, 1, 0, 0, 0, 0, 1, 1, 0, 1, 1, 0, 0, 1, 1, 1, 1, 0, 1, 0, 1, 1, 1, 0, 1, 1, 0, 0, 0, 1, 0, 1, 0, 1, 1, 0, 0, 0, 1, 1, 1, 0, 1, 1, 0, 1, 1, 1, 1, 0, 1, 1, 1, 1, 1, 1, 0, 0, 0, 0, 0, 0, 0, 1, 1, 0, 1, 1, 0, 1, 1, 1, 0, 0, 0, 0, 0, 1, 1, 0, 1, 1, 0, 1, 1, 1, 1, 0, 1, 1, 0, 1, 0, 1, 1, 1, 0, 0, 1, 0, 1, 1, 0, 1, 1, 0, 1, 0, 1, 1, 0, 1, 0, 1, 0, 1, 0, 1, 1, 0, 0, 1, 1, 0, 1, 1, 0, 0, 0, 1, 0, 1, 0, 0, 1, 1, 0, 0, 1, 1, 0, 0, 1, 0, 0, 0, 1, 1, 1, 0, 0, 0, 1, 1, 1, 1, 1, 0, 0, 1, 0, 1, 0, 1, 1, 0, 0, 1, 0, 1, 0, 1, 1, 0, 0, 1, 0, 0, 1, 0, 0, 1, 1, 1, 0, 1, 0, 0, 1, 1, 0, 0, 1, 1, 0, 0, 1, 0, 0, 1, 0, 0, 0, 0, 1, 1, 0, 0, 0, 0, 1, 0, 0, 0, 0, 0, 0, 0, 0, 1, 0, 0, 1, 1, 1, 0, 0, 1, 0, 1, 1, 1, 1, 0, 0, 0, 1, 1, 0, 0, 1, 0, 0, 0, 0, 1, 0, 1, 1, 0, 1, 1, 1, 0, 0, 1, 0, 1, 0, 1, 1, 1, 1, 1, 1, 1, 0, 0, 1, 0, 0, 1, 0, 0, 0, 0, 1, 1, 0, 0, 1, 0, 0, 1, 0, 1, 1, 1, 0, 1, 1, 0, 1, 0, 1, 1, 1, 1, 0, 0, 0, 1, 1, 1, 0, 0, 1, 1, 0, 0, 1, 1, 1, 1, 0, 1, 1, 1, 1, 1, 0, 0, 0, 0, 1, 0, 1, 0, 0, 1, 0, 1, 1, 0, 1, 1, 0, 1, 0, 1, 0, 0, 0, 1, 1, 0, 0, 1, 1, 1, 1, 0, 1, 1, 1, 0, 1, 1, 0, 1, 1, 1, 0, 0, 1, 0, 0, 0, 0, 1, 0, 0, 0, 1, 0, 1, 1, 0, 0, 1, 0, 0, 0, 0, 0, 0, 1, 1, 0, 0, 0, 1, 1, 0, 0, 0, 1, 1, 0, 0, 1, 0, 0, 1, 1, 0, 0, 1, 0, 0, 0, 0, 0, 0, 1, 0, 0, 1, 0, 1, 1, 0, 1, 1, 0, 0, 1, 1, 1, 1, 1, 1, 1, 1, 0, 1, 1, 0, 0, 0, 0, 0, 1, 1, 0, 0, 1, 1, 0, 1, 1, 1, 0, 0, 0, 1, 1, 0, 1, 1, 0, 1, 1, 0, 1, 1, 0, 1, 0, 1, 1, 0, 1, 1, 0, 0, 0, 0, 1, 1, 0, 1, 1, 1, 1, 0, 0, 0, 0, 1, 0, 0, 1, 0, 0, 0, 1, 1, 1, 0, 0, 1, 0, 1, 0, 1, 0, 1, 1, 0, 1, 0, 0, 0, 1, 1, 0, 1, 0, 1, 1, 0, 1, 1, 1, 1, 1, 0, 1, 0, 1, 0, 0, 1, 1, 0, 0, 1, 0, 1, 1, 1, 1, 1, 1, 0, 1, 1, 1, 0, 1, 0, 1, 1, 1, 1, 0, 0, 0, 1, 1, 0, 1, 1, 0, 1, 1, 0, 0, 1, 0, 1, 0, 0, 1, 0, 0, 0, 0, 1, 0, 0, 0, 0, 0, 1, 0, 0, 1, 0, 0, 1, 0, 0, 1, 1, 0, 1, 0, 1, 1, 0, 1, 0, 1, 1, 1, 0, 0, 0, 1, 1, 0, 0, 1, 1, 0, 1, 1, 1, 1, 0, 0, 0, 1, 1, 0, 1, 0, 0, 0, 1, 1, 1, 0, 1, 1, 1, 0, 0, 0, 1, 0, 0, 0, 0, 0, 1, 1, 0, 0, 0, 1, 1, 0, 1, 0, 1, 1, 0, 1, 1, 0, 1, 0, 1, 0, 1, 1, 0, 1, 1, 1, 0, 0, 1, 1, 0, 0, 1, 1, 1, 1, 1, 1, 1, 0, 0, 1, 1, 1, 0, 0, 0, 1, 0, 0, 1, 0, 0, 0, 1, 1, 1, 1, 0, 0, 0, 0, 0, 1, 0, 1, 0, 0, 1, 1, 1, 0, 1, 0, 0, 1, 0, 0, 1, 1, 0, 1, 1, 1, 1, 0, 0, 0, 0, 1, 0, 0, 1, 1, 0, 1, 1, 0, 0, 0, 0, 1, 1, 0, 0, 1, 1, 1, 1, 0, 1, 0, 1, 0, 0, 0, 0, 0, 0, 1, 0, 0, 1, 0, 0, 0, 1, 1, 0, 1, 1, 1, 1, 1, 0, 0, 0, 1, 1, 0, 1, 0, 0, 0, 1, 1, 1, 0, 0, 0, 0, 0, 0, 0, 1, 1, 0, 0, 1, 1, 0, 1, 0, 1, 0, 0, 0, 1, 1, 0, 1, 1, 1, 0, 1, 1, 1, 0, 1, 0, 0, 1, 0, 1, 0, 1, 1, 1, 0, 1, 1, 1, 0, 1, 1, 1, 0, 0, 1, 0, 1, 0, 1, 1, 0, 0, 0, 0, 0, 1, 1, 0, 1, 1, 1, 1, 1, 1, 1, 0, 0, 0, 1, 1, 0, 0, 0, 1, 1, 1, 0, 1, 1, 0, 1, 1, 1, 0, 0, 1, 0, 1, 1, 0, 0, 1, 0, 1, 1, 1, 1, 0, 1, 0, 1, 1, 0, 0, 1, 1, 1, 0, 0, 0, 1, 0, 0, 0, 0, 1, 0, 0, 0, 0, 1, 1, 1, 1, 1, 0, 1, 1, 0, 1, 0, 1, 1, 0, 0, 0, 1, 0, 0, 0, 1, 1, 1, 0, 0, 0, 0, 1, 0, 1, 1, 0, 1, 1, 1, 1, 0, 0, 1, 1, 0, 1, 1, 1, 1, 0, 0, 0, 0, 0, 1, 1, 1, 0, 0, 0, 1, 1, 0, 0, 0, 1, 1, 1, 1, 1, 1, 0, 1, 0, 0, 1, 0, 1, 0, 1, 1, 0, 0, 0, 0, 1, 0, 1, 1, 1, 1, 0, 1, 0, 1, 0, 1, 1, 1, 0, 1, 0, 0, 1, 0, 0, 0, 0, 1, 0, 0, 1, 1, 1, 1, 1, 0, 0, 0, 1, 1, 0, 1, 1, 0, 1, 1, 1, 1, 0, 1, 0, 1, 0, 1, 0, 1, 1, 0, 0, 1, 1, 0, 1, 0, 0, 0, 1, 0, 0, 1, 0, 1, 0, 0, 0, 1, 0, 0, 1, 1, 1, 1, 0, 0, 1, 0, 1, 1, 0, 0, 0, 1, 1, 0, 0, 1, 0, 1, 1, 0, 0, 0, 1, 1, 0, 0, 0, 1, 0, 1, 1, 0, 1, 0, 0, 1, 1, 1, 0, 0, 0, 1, 1, 1, 1, 1, 0, 0, 0, 1, 0, 1, 0, 0, 1, 1, 1, 1, 0, 1, 0, 0, 0, 0, 1, 0, 0, 1, 1, 1, 1, 0, 1, 1, 0, 1, 1, 0, 0, 0, 0, 1, 0, 0, 1, 1, 1, 0, 0, 1, 0, 1, 0, 0, 0, 1, 1, 1, 1, 1, 0, 1, 0, 0, 1, 1, 0, 1, 1, 0, 1, 1, 1, 0, 1, 1, 0, 0, 1, 0, 0, 1, 1, 1, 1, 0, 1, 1, 1, 1, 1, 1, 1, 1, 1, 1, 0, 0, 1, 0, 1, 1, 1, 0, 0, 1, 1, 0, 0, 0, 1, 1, 0, 1, 1, 0, 0, 1, 0, 0, 1, 0, 1, 0, 1, 0, 1, 1, 0, 0, 0, 1, 1, 0, 0, 1, 0, 1, 1, 0, 1, 1, 1, 1, 0, 0, 0, 1, 0, 0, 1, 0, 1, 0, 0, 0, 1, 1, 0, 0, 1, 1, 1, 1, 1, 1, 0, 0, 1, 1, 0, 1, 1, 1, 1, 0, 1, 0, 0, 0, 1, 1, 0, 0, 0, 0, 0, 0, 1, 0, 1, 1, 1, 1, 0, 1, 1, 1, 1, 1, 1, 1, 0, 0, 1, 1, 0, 1, 1, 0, 0, 0, 0, 1, 0, 1, 1, 0, 1, 1, 1, 1, 0, 1, 1, 0, 1, 1, 0, 1, 0, 1, 1, 0, 0, 1, 1, 1, 0, 0, 0, 0, 0, 1, 0, 1, 0, 1, 1, 1, 0, 1, 0, 0, 0, 0, 1, 1, 1, 0, 1, 0, 0, 1, 0, 0, 0, 1, 0, 1, 0, 1, 1, 1, 0, 0, 1, 0, 1, 1, 1, 0, 0, 0, 1, 0, 1, 0, 0, 1, 0, 1, 1, 1, 1, 1, 0, 0, 1, 1, 0, 0, 0, 1, 0, 1, 0, 0, 1, 0, 0, 0, 0, 0, 0, 1, 0, 0, 1, 1, 1, 0, 1, 0, 0, 0, 1, 1, 1, 0, 1, 0, 0, 1, 1, 0, 0, 1, 0, 1, 1, 1, 1, 0, 0, 0, 1, 1, 1, 1, 1, 0, 1, 1, 1, 1, 0, 1, 1, 1, 0, 1, 0, 0, 0, 1, 0, 1, 1, 1, 1, 0, 1, 0, 1, 0, 1, 1, 0, 1, 0, 1, 0, 1, 0, 0, 0, 0, 1, 1, 1, 1, 1, 1, 0, 1, 1, 0, 0, 0, 1, 1, 1, 1, 0, 1, 0, 0, 1, 0, 1, 1, 0, 1, 0, 0, 0, 0, 1, 0, 0, 1, 0, 1, 0, 0, 0, 1, 1, 1, 1, 0, 0, 0, 1, 0, 0, 1, 0, 1, 1, 0, 1, 0, 0, 1, 1, 0, 1, 1, 1, 0, 0, 0, 0, 1, 0, 0, 0, 1, 0, 0, 1, 0, 1, 0, 0, 1, 0, 0, 0, 1, 1, 0, 0, 1, 1, 0, 1, 1, 1, 1, 1, 1, 0, 0, 0, 1, 1, 0, 1, 0, 0, 1, 0, 0, 0, 1, 0, 1, 0, 0, 1, 1, 0, 1, 0, 1, 0, 1, 1, 1, 1, 0, 0, 0, 1, 0, 0, 0, 0, 1, 1, 1, 1, 0, 0, 0, 0, 1, 0, 1, 0, 1, 0, 1, 1, 1, 1, 1, 0, 1, 1, 0, 1, 1, 0, 0, 0, 0, 0, 0, 0, 1, 0, 0, 0, 0, 1, 1, 0, 1, 1, 0, 0, 1, 0, 0, 0, 0, 1, 0, 1, 0, 0, 0, 0, 0, 1, 0, 0, 1, 0, 0, 1, 1, 1, 1, 0, 0, 1, 0, 0, 0, 0, 0, 0, 0, 1, 0, 1, 0, 1, 0, 1, 0, 1, 0, 0, 1, 0, 0, 1, 0, 0, 1, 0, 1, 0, 1, 1, 0, 0, 0, 1, 1, 0, 0, 0, 0, 0, 1, 1, 1, 1, 1, 0, 1, 1, 0, 0, 1, 1, 1, 0, 1, 1, 1, 0, 0, 1, 1, 1, 1, 1, 0, 0, 0, 1, 0, 0, 1, 0, 0, 0, 0, 0, 1, 1, 0, 0, 1, 1, 0, 1, 1, 1, 0, 1, 1, 0, 0, 1, 0, 0, 1, 0, 1, 0, 1, 1, 0, 0, 0, 0, 1, 0, 1, 0, 1, 1, 1, 1, 0, 0, 0, 1, 0, 1, 1, 1, 1, 0, 1, 1, 1, 0, 1, 1, 0, 0, 1, 1, 0, 1, 1, 0, 0, 1, 0, 0, 0, 1, 0, 1, 1, 1, 0, 1, 1, 0, 0, 0, 1, 1, 0, 0, 1, 0, 1, 0, 1, 1, 1, 0, 1, 0, 0, 0, 0, 1, 0, 1, 0, 1, 0, 1, 1, 0, 1, 1, 1, 1, 1, 1, 1, 1, 1, 1, 0, 0, 1, 1, 1, 0, 1, 0, 0, 1, 1, 1, 1, 1, 1, 1, 1, 0, 0, 1, 1, 1, 1, 1, 0, 1, 1, 0, 0, 1, 1, 1, 1, 0, 1, 1, 1, 1, 1, 0, 0, 1, 0, 1, 0, 1, 1, 0, 0, 0, 0, 0, 1, 0, 0, 0, 1, 0, 1, 0, 0, 1, 1, 0, 1, 0, 1, 0, 0, 1, 1, 1, 1, 0, 0, 0, 0, 0, 1, 0, 0, 1, 0, 0, 0, 1, 0, 0, 1, 1, 0, 1, 1, 0, 1, 1, 1, 1, 0, 1, 1, 0, 0, 1, 0, 1, 1, 1, 0, 0, 1, 1, 1, 1, 1, 1, 1, 0, 1, 0, 0, 1, 1, 1, 0, 1, 0, 1, 0, 1, 0, 0, 0, 0, 0, 0, 0, 0, 0, 0, 0, 0, 1, 0, 1, 0, 1, 0, 0, 1, 0, 1, 0, 0, 1, 1, 1, 0, 1, 0, 1, 1, 1, 0, 1, 0, 1, 1, 0, 1, 0, 0, 1, 0, 1, 0, 0, 0, 1, 0, 0, 1, 1, 0, 0, 0, 1, 0, 1, 0, 0, 1, 1, 1, 0, 1, 0, 1, 0, 1, 1, 1, 1, 0, 1, 1, 0, 1, 0, 0, 0, 0, 1, 0, 0, 1, 1, 1, 0, 0, 1, 1, 1, 0, 0, 0, 1, 1, 0, 0, 0, 1, 0, 0, 0, 0, 0, 1, 0, 0, 0, 0, 0, 0, 1, 1, 0, 1, 1, 1, 1, 0, 0, 0, 1, 0, 0, 0, 1, 1, 0, 1, 1, 1, 0, 1, 1, 0, 0, 0, 1, 1, 1, 0, 0, 1, 1, 1, 1, 0, 1, 0, 1, 1, 0, 1, 0, 0, 0, 1, 1, 1, 1, 0, 0, 1, 0, 0, 1, 0, 0, 0, 1, 1, 1, 0, 1, 0, 0, 1, 1, 0, 1, 1, 1, 0, 1, 1, 1, 0, 1, 0, 1, 0, 1, 1, 1, 1, 1, 1, 1, 1, 1, 1, 1, 0, 0, 0, 0, 1, 1, 1, 1, 1, 1, 1, 0, 0, 0, 1, 1, 1, 1, 0, 0, 1, 0, 1, 0, 1, 0, 1, 0, 0, 1, 1, 0, 1, 1, 1, 0, 1, 0, 0, 0, 0, 0, 1, 1, 0, 1, 0, 0, 0, 1, 0, 1, 0, 1, 1, 0, 0, 1, 1, 1, 0, 0, 1, 0, 1, 1, 1, 0, 0, 1, 0, 0, 0, 0, 0, 1, 0, 1, 0, 0, 1, 1, 0, 1, 0, 0, 1, 0, 1, 1, 0, 0, 0, 0, 0, 1, 0, 1, 1, 0, 1, 0, 0, 0, 1, 1, 0, 1, 1, 1, 0, 1, 0, 1, 0, 1, 0, 0, 0, 0, 1, 1, 1, 1, 1, 0, 1, 1, 1, 1, 1, 0, 0, 0, 1, 1, 1, 1, 0, 0, 0, 1, 0, 1, 1, 1, 0, 0, 1, 0, 0, 1, 1, 1, 0, 1, 1, 1, 1, 0, 0, 1, 0, 0, 1, 1, 0, 1, 1, 1, 1, 0, 1, 0, 1, 1, 0, 1, 0, 1, 0, 0, 0, 1, 0, 0, 0, 0, 0, 0, 1, 1, 0, 1, 1, 1, 1, 0, 0, 0, 1, 1, 1, 0, 0, 1, 1, 1, 1, 1, 0, 1, 1, 1, 0, 0, 1, 0, 0, 0, 0, 0, 0, 1, 1, 0, 0, 0, 1, 1, 0, 0, 1, 1, 0, 0, 0, 1, 0, 0, 1, 0, 1, 1, 0, 0, 1, 0, 1, 0, 1, 1, 1, 0, 1, 1, 0, 1, 1, 1, 1, 0, 0, 1, 0, 0, 0, 1, 0, 1, 1, 0, 0, 0, 0, 0, 0, 1, 1, 1, 0, 1, 0, 1, 1, 0, 1, 0, 0, 1, 0, 0, 0, 0, 0, 0, 0, 1, 1, 1, 1, 0, 0, 0, 1, 0, 0, 1, 1, 0, 0, 0, 1, 1, 0, 1, 0, 1, 1, 1, 1, 0, 0, 0, 1, 0, 1, 0, 1, 1, 1, 0, 0, 1, 0, 0, 0, 1, 0, 0, 1, 0, 1, 1, 0, 1, 0, 0, 1, 1, 1, 0, 1, 1, 0, 1, 1, 1, 1, 1, 0, 1, 1, 0, 1, 0, 1, 1, 0, 1, 0, 0, 1, 1, 1, 1, 1, 1, 1, 0, 0, 1, 1, 0, 1, 1, 0, 1, 0, 0, 1, 0, 0, 1, 0, 1, 0, 0, 1, 0, 0, 1, 0, 1, 0, 1, 1, 1, 1, 0, 1, 0, 1, 1, 0, 1, 0, 1, 1, 0, 1, 0, 0, 1, 1, 0, 1, 0, 0, 1, 1, 0, 0, 1, 1, 1, 1, 0, 1, 1, 0, 0, 1, 0, 1, 0, 1, 1, 1, 1, 1, 0, 0, 1, 0, 0, 1, 1, 0, 0, 0, 0, 1, 0, 1, 0, 1, 0, 1, 1, 1, 0, 1, 0, 0, 0, 0, 0, 1, 1, 1, 0, 1, 1, 1, 1, 1, 1, 1, 1, 1, 0, 1, 1, 0, 0, 0, 0, 0, 0, 1, 0, 0, 1, 1, 0, 0, 1, 0, 1, 1, 1, 1, 0, 0, 1, 0, 1, 0, 1, 1, 0, 1, 0, 1, 1, 1, 1, 1, 1, 0, 0, 0, 0, 0, 1, 1, 0, 0, 1, 1, 0, 0, 0, 0, 1, 1, 1, 0, 0, 1, 0, 0, 0, 0, 0, 0, 0, 0, 1, 0, 0, 0, 1, 0, 0, 1, 1, 1, 0, 0, 1, 0, 1, 1, 1, 0, 0, 1, 1, 0, 0, 0, 0, 0, 1, 1, 1, 0, 1, 0, 1, 1, 1, 0, 0, 1, 0, 0, 0, 1, 0, 0, 1, 0, 1, 0, 0, 1, 0, 1, 0, 1, 1, 1, 0, 0, 0, 1, 1, 1, 0, 1, 1, 1, 0, 1, 0, 1, 0, 1, 1, 0, 1, 1, 0, 0, 0, 1, 0, 1, 0, 1, 0, 1, 1, 1, 1, 0, 1, 0, 0, 0, 1, 0, 0, 1, 0, 0, 1, 0, 0, 0, 0, 0, 1, 0, 1, 0, 1, 1, 0, 1, 1, 1, 0, 0, 1, 0, 1, 1, 0, 0, 0, 1, 1, 0, 0, 0, 0, 1, 0, 0, 0, 0, 1, 1, 0, 1, 1, 0, 0, 1, 0, 0, 1, 1, 0, 0, 1, 1, 0, 1, 1, 0, 1, 1, 1, 0, 0, 0, 0, 0, 0, 1, 0, 1, 0, 0, 0, 0, 0, 1, 0, 1, 0, 1, 1, 1, 0, 0, 1, 1, 0, 0, 1, 1, 0, 0, 1, 0, 1, 1, 1, 1, 1, 0, 0, 0, 1, 0, 1, 0, 0, 0, 1, 1, 1, 1, 1, 1, 0, 0, 0, 0, 0, 1, 1, 0, 1, 1, 0, 1, 0, 0, 0, 0, 1, 1, 1, 0, 0, 1, 1, 1, 1, 1, 1, 1, 0, 1, 1, 0, 1, 1, 0, 0, 1, 0, 1, 0, 1, 0, 0, 0, 0, 0, 0, 1, 0, 1, 1, 0, 0, 0, 0, 0, 0, 0, 1, 1, 1, 0, 1, 0, 0, 0, 0, 0, 1, 0, 0, 0, 0, 1, 1, 0, 1, 1, 0, 1, 1, 1, 1, 1, 0, 0, 0, 1, 1, 1, 0, 0, 0, 1, 0, 0, 0, 1, 0, 1, 0, 1, 1, 1, 1, 0, 1, 1, 0, 0, 1, 1, 0, 0, 1, 0, 0, 1, 1, 1, 0, 1, 0, 0, 0, 1, 0, 0, 1, 0, 1, 0, 1, 1, 0, 0, 1, 1, 1, 1, 1, 1, 0, 1, 1, 1, 0, 1, 1, 1, 0, 0, 0, 0, 1, 1, 0, 0, 1, 0, 0, 1, 1, 1, 1, 1, 1, 0, 1, 1, 0, 0, 1, 1, 1, 0, 0, 0, 0, 0, 0, 1, 1, 1, 0, 0, 0, 0, 1, 1, 0, 1, 0, 0, 1, 0, 0, 1, 0, 0, 0, 1, 0, 1, 1, 0, 0, 1, 1, 0, 1, 0, 0, 0, 1, 0, 0, 1, 0, 0, 1, 0, 0, 1, 0, 1, 0, 0, 1, 0, 0, 0, 0, 1, 0, 0, 1, 0, 1, 1, 0, 0, 0, 1, 1, 1, 1, 0, 1, 0, 0, 0, 0, 0, 1, 1, 1, 0, 1, 1, 0, 0, 1, 0, 0, 1, 0, 0, 0, 0, 1, 1, 0, 1, 1, 1, 0, 0, 1, 1, 1, 0, 0, 0, 0, 0, 0, 1, 0, 1, 0, 0, 1, 0, 0, 1, 0, 0, 1, 1, 0, 0, 1, 0, 0, 0, 0, 1, 1, 0, 0, 1, 0, 1, 1, 1, 1, 0, 0, 0, 1, 0, 0, 1, 1, 0, 0, 1, 0, 1, 0, 1, 0, 0, 0, 1, 0, 1, 0, 0, 1, 1, 1, 0, 1, 1, 0, 0, 1, 1, 1, 1, 1, 1, 0, 0, 1, 1, 1, 1, 0, 1, 1, 1, 1, 1, 0, 1, 1, 0, 1, 0, 0, 1, 0, 1, 0, 0, 1, 1, 0, 1, 0, 1, 0, 0, 1, 1, 1, 0, 0, 0, 1, 0, 1, 1, 0, 1, 1, 1, 1, 0, 1, 0, 1, 1, 0, 1, 1, 1, 1, 0, 1, 1, 0, 0, 1, 1, 0, 1, 1, 0, 1, 0, 0, 1, 0, 0, 0, 0, 0, 1, 1, 0, 0, 0, 1, 0, 1, 1, 1, 1, 0, 0, 0, 0, 0, 1, 1, 1, 0, 0, 1, 0, 0, 0, 0, 1, 0, 0, 1, 0, 1, 1, 0, 0, 1, 0, 1, 0, 0, 0, 1, 0, 1, 0, 1, 1, 1, 1, 1, 0, 0, 0, 0, 1, 0, 0, 1, 1, 0, 1, 0, 1, 1, 0, 1, 0, 0, 0, 1, 0, 0, 1, 1, 1, 0, 1, 1, 0, 0, 0, 1, 0, 0, 0, 1, 0, 1, 1, 1, 1, 0, 0, 1, 1, 1, 0, 1, 0, 0, 1, 0, 0, 0, 0, 0, 0, 0, 1, 0, 0, 1, 1, 0, 1, 0, 0, 0, 1, 0, 1, 1, 1, 0, 1, 0, 0, 1, 0, 0, 1, 0, 1, 0, 1, 1, 0, 1, 1, 1, 1, 0, 1, 0, 0, 1, 0, 0, 0, 0, 0, 1, 1, 0, 1, 0, 1, 0, 0, 0, 0, 1, 0, 0, 1, 0, 0, 1, 0, 1, 1, 1, 1, 0, 1, 1, 1, 0, 1, 0, 0, 1, 0, 1, 0, 1, 1, 0, 0, 1, 0, 0, 1, 1, 1, 0, 1, 0, 0, 1, 0, 0, 1, 0, 1, 1, 0, 1, 0, 1, 0, 0, 1, 1, 0, 0, 0, 1, 1, 1, 1, 1, 1, 1, 1, 1, 0, 0]\n"
     ]
    }
   ],
   "source": [
    "threshold = 0.5\n",
    "for i in range(5000):\n",
    "    if(predictions[i] > threshold):\n",
    "        predictions[i]=1\n",
    "    else:\n",
    "        predictions[i]=0 \n",
    "    \n",
    "print(predictions)    \n",
    "\n"
   ]
  },
  {
   "cell_type": "markdown",
   "metadata": {},
   "source": [
    "# # 2.2 Train the classifier on the training set, and report the training confusion matrix, accuracy, precision, recall,\n",
    "# F1-score, the ROC curve and the corresponding AUC score."
   ]
  },
  {
   "cell_type": "code",
   "execution_count": null,
   "metadata": {},
   "outputs": [],
   "source": [
    "# 2.3 Using the model, test the test set, and report the testing confusion matrix, accuracy, precision, recall, F1-\n",
    "# score, the ROC curve and the corresponding AUC score."
   ]
  },
  {
   "cell_type": "code",
   "execution_count": null,
   "metadata": {},
   "outputs": [],
   "source": [
    "#this is for train .. test follows "
   ]
  },
  {
   "cell_type": "code",
   "execution_count": 125,
   "metadata": {},
   "outputs": [
    {
     "data": {
      "text/plain": [
       "array([[2427, 2456],\n",
       "       [  61,   56]], dtype=int64)"
      ]
     },
     "execution_count": 125,
     "metadata": {},
     "output_type": "execute_result"
    }
   ],
   "source": [
    "from sklearn.metrics import confusion_matrix\n",
    "confusion_matrix(te_y1,predictions)"
   ]
  },
  {
   "cell_type": "code",
   "execution_count": 126,
   "metadata": {},
   "outputs": [
    {
     "name": "stdout",
     "output_type": "stream",
     "text": [
      "tn= 56\n",
      "fp= 61\n",
      "fn= 2456\n",
      "tp= 2427\n"
     ]
    }
   ],
   "source": [
    "from sklearn.metrics import confusion_matrix\n",
    "tp_test, fn_test, fp_test, tn_test = confusion_matrix(te_y1,predictions).ravel()\n",
    "#t= confusion_matrix(testy,ypred_new)\n",
    "print(\"tn=\",tn_test)\n",
    "print(\"fp=\",fp_test)\n",
    "print(\"fn=\",fn_test)\n",
    "print(\"tp=\",tp_test)"
   ]
  },
  {
   "cell_type": "code",
   "execution_count": 127,
   "metadata": {},
   "outputs": [
    {
     "name": "stdout",
     "output_type": "stream",
     "text": [
      "accuracy = 0.4966\n",
      "F1score = 0.6441140156604591\n",
      "recal = 0.4966\n",
      "precision = 0.9531776849898622\n"
     ]
    }
   ],
   "source": [
    "from sklearn.metrics import accuracy_score\n",
    "from sklearn.metrics import f1_score\n",
    "from sklearn.metrics import recall_score\n",
    "from sklearn.metrics import precision_score\n",
    "accuracy_test = accuracy_score(te_y1,predictions)\n",
    "f1score_test = f1_score(te_y1,predictions,average='weighted')\n",
    "recall_test = recall_score(te_y1,predictions,average='weighted')\n",
    "precision_test = precision_score(te_y1,predictions,average='weighted')\n",
    "\n",
    "print(\"accuracy =\" , accuracy_test)\n",
    "print(\"F1score =\" , f1score_test)\n",
    "print(\"recal =\" ,recall_test)\n",
    "print(\"precision =\", precision_test)"
   ]
  },
  {
   "cell_type": "code",
   "execution_count": 128,
   "metadata": {},
   "outputs": [],
   "source": [
    "import numpy as np\n",
    "from sklearn import metrics\n",
    "N_test =fp_test+tn_test\n",
    "P_test = tp_test+fn_test\n",
    "FPR_test= fp_test/N_test\n",
    "TPR_test=tp_test/P_test"
   ]
  },
  {
   "cell_type": "code",
   "execution_count": 129,
   "metadata": {},
   "outputs": [
    {
     "name": "stdout",
     "output_type": "stream",
     "text": [
      "[0.         0.50296949 1.        ]\n",
      "[0.         0.47863248 1.        ]\n",
      "[2 1 0]\n"
     ]
    }
   ],
   "source": [
    "fpr_test, tpr_test, threshold_test = metrics.roc_curve(te_y1,predictions)\n",
    "roc_auc = metrics.auc(fpr_test, tpr_test)\n",
    "print(fpr_test)\n",
    "print(tpr_test)\n",
    "print(threshold_test)"
   ]
  },
  {
   "cell_type": "code",
   "execution_count": 130,
   "metadata": {},
   "outputs": [
    {
     "name": "stdout",
     "output_type": "stream",
     "text": [
      "0.5213675213675214\n",
      "0.4970305140282613\n"
     ]
    }
   ],
   "source": [
    "print(FPR_test)\n",
    "print(TPR_test)"
   ]
  },
  {
   "cell_type": "code",
   "execution_count": 131,
   "metadata": {},
   "outputs": [
    {
     "data": {
      "image/png": "[encoded data removed]",
      "text/plain": [
       "<Figure size 432x288 with 1 Axes>"
      ]
     },
     "metadata": {
      "needs_background": "light"
     },
     "output_type": "display_data"
    }
   ],
   "source": [
    "import matplotlib.pyplot as plt\n",
    "plt.figure()\n",
    "\n",
    "plt.plot(fpr_test, tpr_test, color='darkorange',\n",
    "         lw=2, label='ROC curve (area = %0.2f)' % roc_auc)\n",
    "plt.xlim([0.0, 1.0])\n",
    "plt.ylim([0.0, 1.0])\n",
    "plt.xlabel('FPR')\n",
    "plt.ylabel('TPR')\n",
    "plt.title('ROC')\n",
    "plt.legend(loc=\"lower right\")\n",
    "plt.show()"
   ]
  },
  {
   "cell_type": "code",
   "execution_count": 132,
   "metadata": {},
   "outputs": [
    {
     "name": "stdout",
     "output_type": "stream",
     "text": [
      "0.48783149633036993\n"
     ]
    }
   ],
   "source": [
    "from sklearn import metrics\n",
    "AUC_test = metrics.auc(fpr_test, tpr_test)\n",
    "print(AUC_test)"
   ]
  },
  {
   "cell_type": "code",
   "execution_count": 133,
   "metadata": {},
   "outputs": [],
   "source": [
    "#test data"
   ]
  },
  {
   "cell_type": "code",
   "execution_count": 134,
   "metadata": {},
   "outputs": [
    {
     "name": "stderr",
     "output_type": "stream",
     "text": [
      "C:\\Users\\kusha\\Anaconda3\\lib\\site-packages\\ipykernel_launcher.py:19: RuntimeWarning: invalid value encountered in double_scalars\n"
     ]
    },
    {
     "name": "stdout",
     "output_type": "stream",
     "text": [
      "{0.4320266889074228: [(1.0, 0.0), (0.4320266889074171, 5.720859837155184e-15)], 0.2160133444537114: [(1.0, 0.0), (0.2160133444537342, 2.2816781907633854e-14)], 0.8331943286071727: [(1.0, 0.0), (0.8331943286071548, 1.787974707640683e-14)], 0.6480400333611342: [(1.0, 0.0), (0.6480400333611916, 5.740261844195332e-14)], 0.1728106755629691: [(1.0, 0.0), (0.17281067556297058, 1.4716708192432382e-15)], 0.9908256880733944: [(1.0, 0.0), (0.9908256880733943, 1.1135420844204956e-16)], 0.5939949958298582: [(1.0, 0.0), (0.5939949958298582, 0.0)], 0.6665554628857381: [(1.0, 0.0), (0.666555462885739, 8.919024545644905e-16)], 0.5829858215179317: [(1.0, 0.0), (0.5829858215179308, 8.949844841335499e-16)], 0.0: [(1.0, 0.0), (0.0, 0.0)], 0.3456213511259382: [(1.0, 0.0), (0.34562135112593695, 1.280765142745659e-15)], 0.5184320266889074: [(1.0, 0.0), (0.5184320266889119, 4.4441755681532715e-15)], 0.1836530442035029: [(1.0, 0.0), (0.18365304420350514, 2.2503215702920446e-15)], 0.20517097581317764: [(1.0, 0.0), (0.20517097581317761, 3.1031676915590914e-17)], 0.19432860717264386: [(1.0, 0.0), (0.19432860717264364, 2.232102014110436e-16)], 0.6155129274395329: [(1.0, 0.0), (0.6155129274395329, 0.0)], 0.41618015012510423: [(1.0, 0.0), (0.4161801501251042, 5.627685845386882e-17)], 1.0: [(1.0, 0.0), (1.0, 0.0)], 0.390325271059216: [(1.0, 0.0), (0.3903252710592159, 1.146633409319802e-16)], 0.5509591326105088: [(1.0, 0.0), (0.5509591326105088, 0.0)], 0.3329441201000834: [(1.0, 0.0), (0.3329441201000834, 0.0)], 0.6263552960800667: [(1.0, 0.0), (0.6263552960800667, 0.0)], 0.26622185154295247: [(1.0, 0.0), (0.26622185154295247, 0.0)], 0.48590492076730607: [(1.0, 0.0), (0.48590492076730607, 0.0)], 0.7926605504587156: [(1.0, 0.0), (0.7926605504587162, 5.649372576400718e-16)], 0.3886572143452877: [(1.0, 0.0), (0.38865721434528766, 5.99588961666477e-17)], 0.3327773144286906: [(1.0, 0.0), (0.3327773144286905, 5.688200336284365e-17)], 0.6048373644703919: [(1.0, 0.0), (0.6048373644703916, 3.3917873657517345e-16)], 0.749791492910759: [(1.0, 0.0), (0.749791492910759, 0.0)], 0.7999999999999999: [(1.0, 0.0), (0.7999999999999999, 0.0)], 0.3673060884070058: [(1.0, 0.0), (0.3673060884070058, 0.0)], 0.4103419516263553: [(1.0, 0.0), (0.4103419516263553, 0.0)], 0.5831526271893245: [(1.0, nan), (0.5831526271893245, nan)], 0.5616346955796497: [(1.0, 0.0), (0.5616346955796497, 0.0)], 0.708256880733945: [(1.0, 0.0), (0.708256880733945, 0.0)], 0.16196830692243538: [(1.0, 0.0), (0.16196830692243538, 0.0)], 0.5399499582985821: [(1.0, 0.0), (0.5399499582985821, 0.0)], 0.38882402001668054: [(1.0, 0.0), (0.38882402001668054, 0.0)], 0.5292743953294412: [(1.0, nan), (0.5292743953294412, nan)], 0.5833194328607172: [(1.0, 0.0), (0.5833194328607173, 1.2161883888976234e-16)], 0.15846538782318598: [(1.0, nan), (0.15846538782318598, nan)], 0.42118432026688907: [(1.0, nan), (0.42118432026688907, nan)], 0.6156797331109257: [(1.0, nan), (0.6156797331109257, nan)], 0.6248540450375313: [(1.0, nan), (0.6248540450375313, nan)], 0.7914929107589658: [(1.0, nan), (0.7914929107589658, nan)], 0.29941618015012506: [(1.0, nan), (0.29941618015012506, nan)]}\n"
     ]
    }
   ],
   "source": [
    "summaries1 = summarizeByClass(scaled_maintest)\n",
    "print(summaries1)\n",
    "\t# test model\n",
    "predictions_nbtest = getPredictions(summaries1,scaled_maintest)"
   ]
  },
  {
   "cell_type": "code",
   "execution_count": 135,
   "metadata": {},
   "outputs": [
    {
     "name": "stdout",
     "output_type": "stream",
     "text": [
      "[0, 0, 0, 1, 0, 1, 0, 0, 1, 0, 0, 1, 1, 1, 1, 0, 1, 0, 1, 1, 1, 1, 0, 0, 0, 1, 1, 0, 1, 0, 1, 1, 1, 1, 0, 0, 0, 0, 1, 0, 1, 0, 0, 1, 0, 1, 0, 1, 1, 1, 0, 0, 1, 1, 1, 1, 1, 0, 0, 0, 0, 1, 1, 0, 0, 1, 0, 0, 1, 0, 1, 0, 0, 1, 0, 1, 0, 0, 0, 0, 0, 1, 1, 1, 0, 0, 0, 1, 0, 0, 1, 1, 0, 1, 1, 0, 0, 1, 1, 0, 0, 0, 1, 1, 1, 1, 1, 1, 0, 0, 0, 1, 1, 1, 0, 0, 0, 1, 1, 0, 0, 0, 1, 1, 1, 0, 1, 1, 0, 0, 0, 1, 0, 0, 1, 1, 0, 1, 0, 0, 0, 1, 0, 1, 0, 1, 0, 1, 1, 1, 1, 0, 0, 1, 0, 0, 0, 0, 1, 1, 1, 0, 0, 1, 1, 1, 0, 1, 1, 1, 1, 1, 0, 1, 0, 1, 0, 0, 0, 1, 0, 1, 1, 1, 0, 0, 1, 0, 0, 0, 1, 0, 1, 1, 0, 1, 1, 0, 0, 1, 0, 0, 0, 0, 0, 0, 1, 0, 0, 1, 0, 1, 1, 1, 1, 1, 0, 1, 1, 1, 0, 1, 1, 1, 1, 1, 0, 1, 1, 1, 0, 0, 0, 1, 0, 0, 1, 1, 1, 1, 0, 0, 0, 0, 1, 0, 1, 1, 1, 0, 0, 1, 0, 0, 0, 1, 0, 1, 0, 1, 1, 0, 0, 0, 1, 1, 1, 1, 1, 0, 1, 1, 1, 0, 0, 1, 1, 1, 0, 1, 0, 0, 0, 1, 1, 0, 0, 1, 1, 1, 1, 1, 0, 1, 0, 1, 1, 1, 0, 1, 0, 0, 0, 0, 0, 1, 0, 1, 0, 0, 1, 1, 1, 1, 1, 0, 1, 1, 0, 0, 1, 1, 1, 1, 1, 0, 1, 0, 0, 1, 1, 0, 1, 1, 0, 1, 0, 0, 1, 1, 0, 0, 0, 0, 0, 1, 1, 1, 0, 1, 0, 1, 0, 0, 1, 0, 0, 1, 1, 1, 0, 1, 0, 1, 1, 0, 0, 1, 1, 0, 1, 1, 0, 1, 1, 0, 0, 0, 1, 1, 0, 1, 1, 0, 1, 1, 0, 1, 1, 0, 1, 1, 1, 0, 0, 1, 1, 1, 0, 0, 1, 0, 0, 1, 1, 1, 0, 0, 1, 1, 1, 0, 1, 1, 1, 1, 1, 1, 1, 0, 0, 1, 0, 0, 0, 1, 1, 1, 1, 1, 0, 1, 0, 0, 0, 1, 0, 1, 1, 0, 0, 1, 0, 1, 1, 1, 0, 0, 1, 0, 0, 1, 0, 0, 0, 0, 0, 0, 0, 1, 1, 1, 1, 1, 1, 0, 1, 1, 1, 1, 0, 0, 0, 0, 0, 1, 1, 0, 0, 1, 1, 0, 1, 1, 1, 0, 0, 0, 1, 0, 0, 1, 0, 0, 1, 1, 0, 1, 0, 0, 1, 1, 0, 1, 0, 0, 0, 1, 1, 1, 0, 0, 0, 1, 0, 0, 0, 0, 0, 1, 0, 1, 1, 1, 1, 0, 1, 0, 1, 0, 0, 0, 0, 1, 1, 1, 1, 1, 1, 0, 1, 1, 1, 0, 1, 1, 0, 0, 0, 1, 0, 1, 0, 0, 0, 1, 1, 1, 1, 1, 0, 1, 0, 0, 1, 1, 1, 0, 1, 0, 1, 0, 1, 0, 0, 1, 0, 0, 1, 1, 1, 1, 0, 0, 1, 1, 0, 0, 0, 1, 0, 1, 0, 0, 0, 1, 0, 1, 1, 0, 1, 0, 1, 0, 0, 1, 1, 1, 0, 1, 0, 0, 0, 0, 0, 0, 0, 0, 0, 1, 1, 0, 1, 1, 1, 1, 1, 1, 0, 0, 1, 0, 1, 0, 1, 0, 1, 1, 0, 0, 1, 1, 0, 0, 0, 0, 1, 0, 1, 1, 1, 1, 0, 0, 0, 0, 1, 1, 1, 1, 1, 0, 1, 1, 0, 1, 0, 1, 0, 0, 0, 1, 1, 0, 1, 1, 1, 1, 0, 0, 1, 1, 1, 1, 1, 1, 1, 0, 0, 1, 0, 1, 1, 1, 1, 1, 0, 0, 0, 0, 0, 0, 0, 0, 0, 0, 1, 0, 0, 1, 1, 0, 1, 0, 1, 0, 0, 0, 0, 1, 1, 1, 0, 0, 0, 1, 1, 1, 0, 1, 1, 1, 0, 0, 1, 1, 0, 0, 0, 0, 1, 0, 1, 0, 0, 1, 1, 0, 0, 1, 1, 1, 1, 1, 1, 0, 0, 0, 1, 0, 0, 0, 0, 1, 0, 1, 0, 0, 1, 0, 0, 1, 0, 0, 0, 1, 0, 1, 1, 0, 1, 0, 1, 1, 0, 1, 1, 1, 1, 1, 1, 1, 1, 1, 0, 1, 0, 0, 0, 1, 0, 0, 1, 1, 0, 0, 0, 1, 1, 1, 1, 1, 0, 0, 0, 1, 0, 0, 1, 0, 0, 0, 0, 0, 0, 1, 1, 0, 1, 1, 1, 0, 0, 0, 1, 1, 0, 1, 0, 1, 1, 0, 0, 1, 0, 0, 1, 0, 0, 1, 1, 1, 0, 0, 0, 1, 0, 1, 1, 1, 0, 0, 1, 1, 1, 0, 1, 1, 1, 0, 0, 0, 0, 1, 1, 0, 0, 1, 1, 0, 1, 1, 0, 0, 1, 0, 1, 0, 0, 1, 0, 0, 0, 0, 1, 0, 0, 1, 0, 1, 0, 1, 1, 0, 0, 0, 0, 1, 1, 0, 1, 1, 1, 1, 0, 1, 0, 1, 1, 0, 1, 0, 1, 1, 0, 0, 1, 0, 0, 0, 1, 0, 1, 0, 0, 0, 1, 1, 1, 1, 1, 1, 0, 0, 1, 0, 0, 0, 0, 0, 1, 0, 1, 0, 1, 0, 1, 1, 0, 0, 0, 0, 1, 0, 1, 1, 1, 0, 1, 0, 1, 0, 1, 1, 0, 1, 1, 0, 0, 1, 0, 0, 1, 0, 0, 1, 0, 0, 0, 1, 1, 1, 0, 1, 1, 0, 0, 1, 0, 0, 0, 1, 1, 0, 1, 0, 1, 0, 0, 1, 1, 0, 1, 0, 1, 1, 1, 0, 0, 0, 0, 0, 1, 1, 1, 0, 1, 1, 1, 0, 1, 1, 0, 1, 1, 1, 1, 0, 0, 1, 1, 0, 1, 1, 0, 0, 1, 1, 0, 0, 0, 0, 1, 0, 1, 1, 0, 1, 1, 1, 0, 1, 0, 0, 1, 1, 1, 0, 0, 1, 1, 0, 0, 1, 0, 1, 1, 0, 1, 1, 0, 0, 1, 0, 0, 0, 0, 0, 1, 1, 1, 0, 0, 1, 1, 0, 1, 1, 0, 1, 1, 1, 0, 0, 1, 0, 0, 0, 0, 1, 1, 0, 0, 1, 1, 0, 0, 0, 0, 1, 1, 0, 1, 0, 1, 0, 0, 0, 0, 0, 0, 1, 0, 0, 0, 0, 0, 0, 0, 1, 0, 0, 0, 0, 1, 1, 0, 0, 0, 1, 0, 0, 1, 0, 0, 0, 0, 0, 1, 1, 0, 0, 1, 1, 1, 0, 0, 0, 0, 1, 0, 0, 1, 0, 0, 0, 1, 0, 1, 1, 0, 1, 0, 0, 0, 1, 1, 0, 1, 0, 1, 1, 1, 1, 1, 1, 1, 1, 0, 0, 0, 1, 0, 0, 1, 0, 1, 1, 1, 1, 1, 0, 1, 0, 0, 0, 1, 0, 0, 1, 0, 1, 1, 0, 0, 0, 1, 0, 0, 0, 0, 1, 1, 1, 0, 0, 0, 0, 1, 0, 0, 1, 0, 1, 1, 0, 0, 0, 0, 0, 1, 0, 0, 1, 1, 1, 1, 1, 1, 1, 1, 0, 0, 1, 0, 1, 1, 0, 0, 1, 0, 0, 0, 0, 0, 0, 0, 0, 1, 0, 1, 1, 0, 0, 0, 1, 1, 1, 1, 1, 1, 1, 0, 0, 0, 1, 1, 1, 0, 1, 0, 1, 1, 1, 0, 0, 1, 0, 1, 0, 1, 0, 0, 0, 1, 0, 0, 1, 1, 0, 1, 1, 1, 0, 1, 1, 0, 0, 0, 0, 0, 0, 1, 1, 1, 1, 0, 1, 0, 1, 1, 0, 1, 0, 1, 1, 1, 0, 1, 1, 1, 1, 0, 0, 0, 0, 0, 1, 1, 1, 1, 0, 1, 1, 1, 1, 1, 0, 0, 0, 1, 1, 0, 0, 0, 0, 1, 0, 0, 1, 1, 0, 0, 0, 0, 0, 0, 0, 1, 1, 1, 0, 0, 1, 1, 1, 0, 1, 1, 0, 1, 1, 1, 0, 0, 1, 0, 0, 1, 1, 1, 1, 1, 0, 0, 0, 0, 0, 1, 1, 1, 1, 1, 1, 0, 0, 1, 0, 1, 1, 1, 0, 0, 1, 0, 1, 0, 1, 0, 0, 0, 0, 0, 0, 1, 1, 1, 0, 0, 1, 0, 1, 0, 0, 0, 1, 1, 0, 0, 0, 1, 1, 0, 1, 0, 1, 1, 0, 0, 1, 1, 1, 1, 0, 0, 1, 0, 0, 0, 0, 0, 1, 1, 0, 1, 0, 1, 1, 0, 1, 1, 1, 1, 1, 0, 0, 1, 0, 1, 0, 0, 1, 0, 0, 0, 1, 1, 1, 0, 0, 1, 1, 0, 1, 0, 0, 1, 1, 1, 0, 0, 0, 1, 1, 1, 1, 1, 1, 0, 1, 0, 1, 0, 0, 1, 1, 0, 0, 1, 0, 0, 0, 1, 1, 1, 0, 0, 1, 0, 1, 0, 0, 0, 0, 0, 0, 1, 1, 0, 0, 1, 0, 1, 0, 0, 1, 0, 0, 0, 0, 0, 1, 1, 0, 1, 1, 0, 1, 0, 0, 0, 1, 1, 1, 0, 1, 1, 1, 0, 1, 0, 0, 1, 1, 1, 0, 0, 1, 0, 1, 0, 0, 0, 0, 1, 1, 0, 1, 0, 0, 1, 1, 1, 1, 0, 0, 0, 0, 1, 0, 1, 1, 1, 1, 1, 1, 1, 1, 0, 1, 0, 0, 0, 1, 0, 1, 0, 0, 1, 0, 1, 1, 0, 0, 1, 0, 1, 1, 0, 0, 1, 0, 1, 0, 0, 1, 1, 1, 0, 0, 0, 0, 0, 0, 1, 0, 1, 1, 0, 1, 0, 1, 0, 1, 1, 0, 0, 0, 1, 0, 0, 0, 1, 0, 0, 0, 0, 1, 0, 1, 0, 1, 0, 1, 0, 0, 0, 0, 1, 0, 0, 1, 0, 1, 1, 1, 0, 0, 1, 0, 0, 1, 1, 0, 0, 1, 0, 0, 1, 1, 0, 0, 1, 1, 1, 0, 1, 0, 1, 1, 0, 0, 1, 1, 0, 0, 1, 1, 0, 1, 0, 0, 0, 0, 1, 0, 0, 0, 1, 1, 1, 1, 1, 0, 0, 1, 0, 1, 1, 0, 0, 0, 1, 1, 0, 1, 1, 0, 1, 0, 0, 1, 1, 1, 0, 1, 0, 0, 1, 0, 0, 0, 0, 0, 0, 1, 1, 0, 1, 1, 0, 0, 1, 0, 1, 1, 1, 1, 0, 0, 1, 0, 0, 1, 1, 0, 0, 1, 1, 1, 1, 0, 0, 1, 1, 1, 1, 1, 0, 1, 1, 1, 1, 0, 0, 1, 0, 0, 0, 0, 1, 0, 1, 0, 1, 1, 0, 1, 0, 1, 0, 1, 1, 1, 0, 0, 1, 0, 1, 1, 1, 1, 0, 1, 0, 1, 1, 0, 0, 0, 1, 0, 0, 1, 0, 0, 1, 0, 0, 0, 1, 1, 1, 0, 0, 1, 0, 0, 1, 0, 0, 1, 1, 1, 1, 1, 1, 0, 0, 1, 0, 0, 1, 1, 0, 0, 0, 1, 1, 0, 1, 0, 0, 0, 1, 1, 0, 0, 0, 1, 1, 1, 1, 0, 1, 0, 0, 0, 0, 1, 1, 1, 0, 1, 0, 0, 1, 0, 0, 1, 1, 0, 1, 0, 0, 0, 1, 0, 1, 1, 0, 0, 0, 0, 0, 0, 0, 0, 1, 1, 1, 1, 0, 0, 0, 0, 1, 0, 1, 0, 1, 0, 1, 0, 0, 1, 1, 1, 1, 1, 1, 1, 0, 0, 1, 0, 0, 1, 0, 1, 0, 1, 0, 1, 0, 0, 1, 0, 0, 0, 1, 0, 0, 1, 0, 0, 0, 1, 1, 1, 0, 1, 1, 1, 0, 1, 1, 1, 1, 1, 1, 1, 1, 0, 0, 0, 0, 0, 1, 1, 0, 0, 0, 1, 0, 0, 1, 0, 0, 1, 0, 0, 0, 0, 1, 1, 1, 0, 0, 0, 1, 1, 0, 0, 0, 1, 0, 0, 0, 0, 0, 1, 0, 0, 1, 0, 0, 1, 1, 0, 0, 0, 1, 1, 1, 1, 0, 0, 1, 0, 0, 0, 0, 0, 0, 1, 0, 1, 0, 0, 1, 0, 1, 1, 1, 1, 0, 0, 1, 0, 1, 1, 0, 1, 1, 1, 1, 0, 0, 0, 1, 1, 0, 1, 0, 0, 1, 1, 1, 0, 0, 1, 1, 0, 1, 0, 0, 0, 1, 0, 0, 1, 0, 1, 1, 0, 0, 1, 0, 1, 1, 0, 1, 0, 1, 0, 0, 1, 1, 1, 1, 0, 1, 0, 1, 0, 1, 0, 0, 0, 1, 0, 1, 1, 1, 1, 1, 0, 1, 1, 0, 0, 0, 1, 1, 0, 1, 1, 1, 0, 0, 0, 1, 0, 0, 0, 1, 1, 0, 0, 0, 0, 1, 1, 0, 1, 1, 0, 0, 0, 0, 0, 1, 1, 0, 1, 1, 1, 1, 1, 1, 0, 1, 1, 1, 1, 0, 0, 0, 1, 1, 1, 0, 0, 0, 1, 1, 1, 1, 0, 1, 1, 0, 1, 1, 0, 1, 1, 0, 1, 0, 1, 0, 0, 0, 0, 1, 0, 1, 0, 0, 0, 0, 1, 1, 0, 0, 1, 0, 0, 0, 1, 0, 1, 1, 0, 1, 0, 1, 0, 1, 1, 1, 0, 1, 0, 1, 0, 0, 0, 1, 1, 1, 0, 0, 0, 1, 1, 0, 1, 0, 1, 0, 1, 1, 1, 1, 0, 0, 1, 1, 0, 1, 1, 1, 0, 1, 0, 1, 1, 0, 0, 1, 0, 1, 1, 1, 1, 1, 1, 1, 1, 1, 0, 1, 1, 0, 0, 1, 1, 1, 0, 1, 1, 0, 1, 1, 0, 1, 1, 0, 1, 1, 1, 1, 1, 0, 1, 0, 1, 0, 1, 0, 1, 0, 1, 0, 1, 0, 1, 0, 1, 1, 0, 1, 1, 1, 0, 0, 1, 1, 1, 1, 0, 1, 0, 0, 1, 0, 0, 1, 0, 1, 1, 0, 0, 0, 1, 0, 1, 0, 0, 0, 0, 0, 0, 0, 0, 0, 0, 1, 0, 0, 1, 1, 1, 1, 0, 0, 0, 1, 0, 0, 1, 1, 0, 1, 1, 1, 1, 0, 0, 0, 1, 1, 1, 1, 0, 0, 1, 0, 0, 1, 1, 1, 1, 1, 1, 0, 1, 1, 1, 0, 1, 1, 1, 1, 1, 0, 0, 0, 1, 0, 1, 0, 0, 0, 0, 0, 1, 0, 1, 1, 1, 0, 1, 0, 1, 0, 0, 0, 0, 1, 0, 0, 0, 0, 0, 0, 0, 0, 0, 1, 0, 1, 0, 0, 0, 0, 0, 1, 1, 1, 1, 0, 1, 0, 0, 0, 1, 1, 1, 0, 0, 1, 1, 0, 0, 1, 0, 0, 1, 1, 1, 1, 0, 1, 0, 1, 0, 1, 1, 1, 0, 0, 1, 1, 1, 1, 0, 0, 0, 1, 1, 1, 1, 1, 1, 0, 0, 1, 1, 0, 0, 0, 0, 0, 1, 0, 0, 1, 0, 0, 0, 0, 1, 1, 0, 0, 1, 1, 1, 0, 1, 0, 1, 0, 0, 0, 0, 0, 0, 1, 1, 0, 1, 0, 1, 1, 1, 1, 1, 0, 1, 0, 1, 0, 0, 1, 0, 1, 1, 1, 1, 1, 1, 1, 0, 0, 0, 0, 0, 1, 0, 1, 1, 0, 0, 1, 0, 0, 1, 1, 0, 1, 0, 0, 0, 0, 0, 1, 0, 0, 1, 0, 1, 1, 0, 1, 1, 1, 0, 0, 1, 0, 1, 0, 0, 0, 0, 0, 1, 0, 1, 0, 0, 1, 0, 0, 1, 1, 1, 0, 1, 0, 0, 1, 1, 1, 0, 0, 0, 1, 0, 1, 0, 0, 1, 1, 0, 1, 0, 1, 1, 0, 1, 1, 0, 0, 0, 0, 1, 0, 1, 0, 1, 1, 0, 0, 0, 1, 0, 1, 1, 0, 0, 1, 1, 0, 0, 1, 0, 1, 1, 0, 1, 0, 1, 0, 0, 1, 1, 0, 0, 0, 0, 0, 0, 0, 0, 0, 1, 0, 0, 1, 0, 1, 1, 1, 1, 0, 1, 1, 1, 0, 0, 0, 0, 1, 1, 1, 0, 0, 1, 1, 0, 1, 0, 1, 0, 0, 0, 1, 0, 0, 0, 1, 0, 0, 0, 0, 0, 0, 1, 0, 0, 0, 1, 1, 0, 1, 0, 0, 1, 1, 1, 0, 1, 0, 1, 0, 1, 0, 1, 1, 1, 0, 0, 1, 0, 1, 0, 1, 1, 1, 0, 0, 0, 1, 0, 0, 1, 1, 1, 1, 1, 1, 1, 1, 0, 1, 0, 1, 1, 0, 1, 1, 0, 0, 0, 1, 0, 0, 1, 1, 1, 1, 1, 0, 0, 1, 1, 0, 0, 0, 0, 0, 1, 1, 0, 1, 0, 1, 1, 0, 0, 0, 0, 0, 0, 1, 0, 1, 0, 1, 1, 1, 1, 0, 1, 1, 1, 0, 0, 0, 1, 1, 0, 0, 1, 1, 1, 1, 0, 0, 0, 1, 1, 0, 1, 1, 0, 0, 0, 0, 0, 1, 1, 0, 1, 0, 1, 1, 0, 1, 1, 0, 0, 0, 0, 0, 0, 0, 0, 1, 0, 1, 0, 0, 0, 0, 0, 0, 0, 1, 0, 0, 0, 0, 1, 0, 1, 0, 1, 1, 1, 1, 0, 1, 1, 0, 0, 0, 1, 0, 0, 0, 1, 1, 1, 1, 0, 1, 1, 0, 1, 1, 0, 1, 0, 0, 0, 0, 0, 1, 1, 1, 0, 0, 0, 0, 0, 1, 1, 1, 1, 0, 1, 0, 1, 0, 0, 1, 1, 0, 0, 1, 0, 0, 0, 1, 0, 1, 1, 0, 1, 1, 0, 1, 1, 1, 1, 1, 0, 1, 1, 1, 0, 0, 1, 0, 0, 0, 1, 0, 0, 0, 1, 1, 0, 1, 0, 1, 0, 1, 0, 1, 1, 0, 0, 0, 0, 1, 1, 0, 1, 0, 0, 1, 1, 1, 1, 0, 1, 1, 1, 0, 0, 0, 1, 0, 1, 1, 0, 0, 0, 1, 0, 0, 0, 0, 0, 1, 0, 0, 1, 0, 0, 1, 0, 1, 1, 1, 0, 1, 0, 0, 0, 0, 0, 1, 0, 1, 1, 0, 1, 1, 0, 1, 0, 0, 1, 1, 1, 1, 1, 1, 1, 0, 0, 0, 0, 1, 1, 0, 0, 1, 1, 1, 0, 0, 0, 0, 0, 1, 0, 0, 0, 0, 1, 1, 1, 1, 1, 0, 1, 1, 0, 1, 1, 0, 1, 1, 1, 1, 1, 0, 0, 1, 1, 0, 1, 1, 1, 1, 0, 0, 0, 0, 1, 1, 1, 0, 1, 1, 0, 0, 1, 0, 0, 1, 0, 0, 0, 1, 0, 1, 0, 1, 0, 1, 0, 1, 0, 0, 1, 0, 0, 1, 1, 1, 0, 0, 1, 0, 1, 0, 0, 1, 0, 0, 0, 1, 1, 0, 1, 0, 1, 0, 1, 0, 1, 1, 0, 0, 1, 0, 0, 1, 1, 0, 1, 1, 0, 0, 0, 0, 1, 0, 1, 1, 0, 0, 0, 0, 1, 1, 1, 0, 0, 0, 0, 0, 0, 1, 0, 1, 0, 0, 1, 1, 1, 0, 1, 1, 1, 0, 1, 0, 1, 0, 0, 1, 0, 0, 0, 0, 0, 0, 1, 0, 0, 0, 0, 0, 1, 1, 0, 0, 1, 1, 0, 0, 1, 0, 1, 0, 1, 1, 0, 0, 1, 1, 1, 0, 1, 0, 0, 0, 0, 0, 0, 0, 0, 1, 1, 0, 1, 0, 0, 0, 0, 1, 1, 1, 0, 0, 1, 0, 0, 0, 1, 1, 1, 1, 1, 0, 0, 0, 0, 0, 1, 0, 1, 1, 1, 0, 1, 1, 1, 1, 1, 0, 0, 0, 0, 0, 0, 1, 1, 0, 0, 0, 0, 1, 0, 0, 1, 0, 0, 0, 0, 0, 1, 1, 1, 1, 0, 1, 1, 0, 1, 0, 1, 0, 0, 1, 0, 0, 1, 0, 0, 1, 1, 1, 1, 0, 0, 0, 1, 1, 1, 1, 1, 1, 1, 0, 0, 1, 0, 1, 0, 0, 0, 0, 1, 0, 1, 1, 0, 0, 0, 1, 1, 0, 1, 0, 1, 0, 0, 1, 1, 0, 1, 0, 1, 0, 0, 1, 1, 0, 1, 1, 1, 1, 0, 1, 1, 1, 1, 0, 1, 0, 0, 1, 0, 0, 1, 1, 1, 1, 0, 1, 1, 1, 0, 1, 0, 1, 1, 1, 0, 0, 0, 0, 1, 1, 1, 0, 1, 0, 1, 1, 1, 0, 0, 1, 1, 1, 0, 0, 1, 0, 1, 0, 1, 1, 1, 0, 0, 0, 0, 1, 1, 1, 0, 1, 1, 1, 1, 0, 1, 0, 1, 1, 1, 1, 0, 0, 0, 1, 0, 1, 0, 1, 0, 1, 1, 1, 1, 0, 1, 0, 1, 1, 0, 0, 0, 1, 0, 1, 0, 0, 1, 0, 1, 1, 0, 0, 1, 1, 0, 1, 0, 1, 1, 0, 0, 0, 0, 0, 1, 1, 1, 0, 1, 0, 1, 1, 1, 1, 1, 0, 1, 1, 1, 1, 1, 1, 1, 1, 0, 1, 1, 0, 1, 1, 0, 1, 1, 1, 1, 0, 0, 1, 0, 1, 0, 0, 0, 0, 0, 0, 1, 0, 1, 0, 1, 0, 1, 0, 0, 1, 0, 0, 1, 0, 1, 0, 0, 1, 1, 0, 0, 0, 0, 1, 1, 0, 0, 1, 1, 1, 1, 1, 1, 0, 1, 0, 0, 0, 1, 0, 0, 1, 1, 1, 0, 0, 1, 1, 0, 1, 1, 0, 0, 1, 0, 0, 1, 1, 1, 0, 0, 0, 1, 1, 0, 0, 0, 1, 0, 1, 1, 1, 1, 0, 1, 0, 0, 0, 0, 1, 1, 1, 1, 1, 1, 1, 0, 0, 1, 0, 1, 1, 0, 1, 1, 0, 0, 0, 1, 0, 1, 1, 0, 1, 1, 1, 0, 1, 0, 1, 1, 1, 1, 1, 0, 0, 1, 1, 1, 1, 1, 0, 1, 0, 1, 1, 1, 1, 1, 1, 1, 0, 0, 0, 1, 1, 1, 1, 1, 1, 0, 1, 0, 0, 1, 1, 1, 1, 1, 1, 0, 0, 0, 0, 1, 1, 1, 0, 0, 1, 1, 1, 0, 1, 1, 0, 0, 0, 1, 1, 0, 0, 1, 0, 0, 0, 1, 1, 1, 1, 0, 0, 1, 0, 0, 0, 0, 1, 1, 0, 1, 1, 0, 1, 1, 0, 0, 0, 0, 0, 0, 0, 1, 0, 1, 1, 0, 1, 0, 0, 0, 1, 1, 0, 1, 1, 1, 0, 0, 1, 0, 1, 0, 1, 0, 1, 1, 1, 0, 1, 1, 0, 1, 1, 1, 0, 1, 0, 1, 0, 1, 0, 0, 0, 0, 0, 1, 1, 0, 1, 1, 0, 1, 1, 0, 1, 1, 0, 0, 1, 1, 1, 1, 1, 1, 1, 0, 1, 0, 1, 1, 1, 0, 1, 0, 0, 0, 1, 1, 0, 1, 1, 1, 0, 1, 0, 1, 0, 1, 1, 0, 0, 0, 1, 1, 0, 1, 1, 1, 1, 0, 0, 0, 0, 1, 1, 1, 0, 0, 0, 0, 1, 0, 0, 0, 1, 1, 1, 1, 1, 1, 1, 0, 1, 1, 0, 1, 0, 0, 1, 0, 0, 1, 1, 1, 0, 0, 1, 0, 1, 1, 0, 1, 1, 0, 0, 1, 1, 0, 0, 1, 1, 0, 0, 0, 0, 1, 1, 1, 1, 0, 1, 1, 0, 1, 1, 1, 0, 0, 0, 1, 1, 0, 1, 0, 1, 0, 0, 0, 1, 0, 1, 1, 0, 0, 1, 0, 1, 0, 0, 1, 0, 1, 1, 0, 0, 0, 1, 0, 1, 0, 1, 0, 0, 0, 0, 1, 0, 1, 1, 0, 1, 0, 1, 1, 0, 0, 0, 1, 1, 1, 1, 0, 0, 0, 0, 0, 1, 1, 1, 0, 1, 1, 0, 1, 0, 0, 0, 1, 0, 0, 0, 0, 1, 0, 1, 0, 0, 1, 0, 0, 0, 0, 0, 0, 1, 0, 1, 0, 1, 0, 0, 0, 0, 1, 0, 0, 1, 1, 0, 0, 1, 0, 1, 1, 1, 0, 1, 1, 1, 1, 0, 1, 0, 0, 1, 0, 1, 1, 0, 0, 1, 1, 1, 1, 0, 1, 0, 1, 1, 0, 0, 0, 0, 0, 1, 0, 1, 1, 0, 1, 0, 0, 0, 1, 0, 0, 1, 1, 1, 1, 1, 1, 0, 0, 0, 0, 0, 0, 1, 1, 0, 1, 0, 1, 0, 1, 1, 1, 0, 0, 1, 0, 0, 1, 0, 1, 0, 0, 1, 0, 0, 0, 1, 0, 0, 1, 0, 1, 1, 0, 1, 0, 0, 0, 1, 1, 0, 0, 0, 0, 1, 1, 0, 1, 1, 1, 0, 1, 0, 1, 0, 1, 1, 0, 0, 0, 1, 0, 1, 0, 1, 1, 1, 1, 1, 0, 0, 0, 1, 1, 1, 0, 1, 0, 0, 0, 0, 1, 0, 1, 1, 1, 0, 0, 0, 0, 0, 1, 1, 1, 1, 0, 1, 0, 0, 1, 1, 1, 0, 0, 0, 1, 0, 0, 1, 1, 0, 0, 0, 0, 1, 0, 0, 0, 0, 0, 0, 1, 1, 1, 1, 1, 1, 0, 1, 1, 0, 1, 1, 1, 0, 1, 0, 0, 0, 1, 0, 1, 0, 0, 0, 1, 0, 0, 1, 1, 0, 0, 1, 0, 1, 0, 0, 1, 0, 0, 1, 1, 0, 1, 0, 1, 0, 1, 0, 1, 1, 0, 1, 0, 0, 1, 1, 0, 0, 0, 1, 0, 0, 0, 0, 1, 0, 0, 1, 0, 0, 1, 1, 0, 1, 1, 0, 1, 0, 1, 0, 0, 0, 1, 1, 1, 1, 1, 0, 1, 1, 0, 1, 0, 1, 1, 1, 0, 1, 0, 1, 1, 0, 1, 1, 0, 0, 0, 1, 0, 1, 1, 1, 0, 0, 1, 1, 0, 0, 1, 0, 0, 0, 0, 1, 1, 1, 1, 1, 0, 0, 0, 0, 1, 1, 0, 1, 0, 1, 0, 0, 0, 0, 1, 0, 0, 0, 0, 1, 1, 0, 1, 0, 1, 1, 0, 1, 0, 1, 1, 1, 0, 0, 1, 0, 0, 1, 1, 0, 0, 0, 1, 1, 1, 1, 1, 1, 1, 1, 0, 1, 0, 1, 0, 0, 0, 1, 1, 0, 1, 1, 1, 0, 0, 1, 1, 1, 0, 0, 0, 1, 0, 0, 0, 1, 0, 0, 0, 0, 1, 0, 0, 0, 0, 1, 0, 0, 0, 0, 1, 1, 1, 1, 1, 1, 0, 1, 1, 1, 1, 0, 1, 1, 1, 1, 1, 1, 1, 1, 1, 0, 0, 0, 1, 1, 1, 1, 1, 0, 0, 1, 0, 0, 1, 0, 0, 1, 0, 1, 0, 0, 0, 0, 0, 0, 1, 0, 1, 1, 1, 1, 0, 1, 1, 1, 0, 1, 1, 1, 0, 0, 0, 1, 1, 1, 0, 0, 0, 0, 0, 0, 0, 1, 1, 0, 1, 0, 1, 0, 0, 1, 1, 0, 0, 0, 0, 1, 1, 1, 1, 1, 1, 0, 0, 1, 0, 0, 0, 1, 1, 0, 0, 1, 0, 1, 1, 0, 1, 0, 0, 0, 1, 0, 1, 0, 1, 1, 1, 0, 0, 0, 1, 0, 0, 1, 0, 0, 0, 0, 0, 0, 1, 1, 1, 0, 0, 0, 0, 1, 0, 1, 1, 0, 0, 1, 0, 1, 0, 0, 1, 0, 1, 0, 1, 0, 1, 0, 1, 0, 0, 0, 0, 1, 0, 1, 1, 1, 0, 1, 0, 1, 1, 1, 1, 0, 0, 0, 0, 1, 1, 1, 1, 0, 1, 1, 0, 0, 0, 0, 1, 1, 1, 0, 0, 1, 0, 0, 1, 0, 0, 1, 0, 0, 0, 0, 1, 0, 1, 0, 1, 1, 1, 1, 0, 1, 1, 1, 1, 0, 1, 1, 1, 1, 0, 1, 1, 1, 1, 0, 0, 0, 0, 0, 1, 0, 0, 1, 1, 0, 0, 0, 1, 0, 0, 0, 0, 0, 0, 1, 1, 0, 0, 0, 1, 0, 0, 0, 0, 1, 0, 0, 1, 0, 1, 1, 1, 1, 0, 1, 0, 0, 1, 1, 1, 0, 1, 0, 1, 0, 0, 1, 0, 1, 1, 1, 1, 0, 0, 1, 0, 0, 0, 1, 0, 1, 0, 0, 0, 0, 0, 0, 1, 0, 0, 0, 0, 1, 0, 0, 1, 0, 0, 1, 1, 0, 0, 1, 1, 1, 1, 1, 1, 1, 1, 1, 1, 1, 1, 1, 1, 1, 1, 0, 1, 1, 1, 0, 0, 1, 1, 1, 0, 1, 1, 0, 0, 0, 0, 0, 1, 0, 1, 0, 1, 1, 1, 0, 1, 0, 1, 0, 1, 0, 1, 1, 0, 0, 0, 1, 0, 1, 0, 0, 0, 0, 0, 0, 0, 1, 0, 0, 1, 1, 0, 0, 1, 0, 0, 0, 1, 0, 0, 0, 0, 1, 1, 1, 1, 0, 1, 1, 1, 0, 1, 0, 1, 1, 0, 0, 1, 1, 0, 0, 1, 0, 1, 0, 1, 1, 0, 0, 0, 0, 1, 0, 1, 1, 0, 0, 1, 0, 1, 1, 0, 0, 0, 0, 1, 0, 1, 0, 0, 1, 0, 0, 1, 1, 0, 0, 1, 0, 0, 0, 1, 0, 0, 1, 0, 0, 1, 0, 1, 0, 0, 1, 1, 1, 1, 1, 1, 0, 1, 1, 0, 1, 1, 1, 1, 1, 0, 1, 1, 0, 1, 0, 1, 0, 0, 0, 0, 1, 0, 0, 0, 0, 1, 0, 1, 1, 0, 0, 0, 1, 1, 0, 0, 1, 1, 0, 0, 0, 0, 0, 1, 0, 0, 1, 1, 0, 1, 1, 1, 1, 1, 0, 0, 0, 0, 0, 1, 1, 0, 0, 0, 1, 0, 1, 0, 0, 1, 1, 0, 0, 1, 0, 1, 1, 0, 1, 1, 1, 0, 1, 0, 0, 0, 1, 1, 0, 0, 0, 0, 1, 1, 0, 1, 0, 1, 1, 1, 0, 0, 0, 1, 1, 0, 0, 1, 0, 0, 1, 1, 1, 0, 0, 0, 1, 1, 1, 0, 1, 1, 0, 1, 0, 1, 0, 1, 1, 1, 1, 1, 0, 0, 1, 1, 1, 0, 1, 1, 0, 1, 0, 1, 1, 1, 0, 1, 1, 0, 1, 0, 1, 1, 0, 0, 0, 0, 0, 1, 0, 1, 0, 0, 0, 1, 1, 1, 0, 1, 1, 0, 0, 1, 1, 1, 1, 1, 1, 1, 1, 1, 1, 1, 1, 0, 0, 1, 0, 0, 0, 1, 0, 1, 1, 0, 1, 0, 1, 1, 1, 1, 1, 1, 0, 1, 0, 0, 0, 0, 1, 1, 1, 1, 1, 0, 1, 0, 0, 1, 0, 0, 1, 1, 1, 1, 0, 0, 1, 0, 1, 1, 1, 0, 0, 1, 0, 0, 0, 0, 0, 0, 1, 0, 1, 1, 1, 0, 1, 0, 1, 1, 0, 1, 1, 1, 1, 1, 0, 0, 0, 1, 1, 0, 0, 0, 1, 1, 1, 0, 0, 0, 1, 0, 0, 1, 1, 1, 0, 0, 0, 1, 0, 1, 0, 1, 1, 0, 1, 0, 0, 0, 0, 0, 0, 0, 0, 0, 1, 1, 1, 1, 1, 1, 0, 1, 1, 0, 0, 0, 1, 1, 0, 1, 0, 1, 1, 0, 0, 0, 1, 1, 0, 0, 0, 0, 1, 1, 1, 1, 0, 1, 0, 0, 0, 1, 1, 0, 1, 0, 1, 1, 0, 0, 1, 0, 0, 1, 0, 1, 1, 0, 0, 1, 0, 1, 1, 0, 1, 1, 0, 1, 0, 0, 0, 1, 1, 0, 0, 0, 1, 1, 1, 1, 0, 0, 0, 0, 1, 1, 0, 1, 0, 1, 0, 1, 1, 1, 0, 1, 0, 1, 1, 1, 0, 0, 0, 0, 1, 1, 0, 1, 1, 0, 1, 1, 1, 0, 0, 0, 1, 0, 0, 0, 0, 0, 1, 0, 1, 1, 0, 0, 1, 0, 1, 0, 1, 1, 0, 1, 0, 0, 0, 1, 1, 0, 1, 1, 1, 1, 1, 0, 1, 1, 0, 1, 1, 1, 1, 0, 1, 1, 0, 1, 0, 1, 1, 0, 0, 1, 1, 0, 1, 1, 1, 1, 1, 0, 0, 0, 1, 0, 0, 1, 0, 0, 1, 1, 0, 1, 0, 0, 1, 1, 0, 1, 1, 1, 1, 0, 1, 1, 1, 1, 1, 0, 1, 1, 1, 1, 1, 1, 0, 1, 1, 0, 0, 1, 0, 0, 0, 1, 1, 1, 1, 0, 0, 1, 1, 1, 1, 0, 1, 1, 1, 1, 0, 0, 1, 1, 1, 0, 0, 1, 1, 1, 0, 1, 1, 1, 1, 1, 1, 1, 0, 1, 0, 0, 0, 1, 0, 1, 0, 0, 0, 1, 0, 1, 0, 1, 1, 0, 1, 0, 0, 0, 0, 0, 1, 0, 0, 1, 0, 0, 0, 1, 0, 1, 0, 1, 1, 1, 0, 0, 0, 0, 1, 0, 0, 1, 1, 0, 1, 0, 0, 0, 1, 1, 0, 1, 1, 0, 1, 1, 0, 1, 1, 1, 0, 1, 0, 1, 0, 0, 0, 1, 0, 1, 1, 1, 1, 0, 0, 0, 0, 0, 0, 0, 0, 1, 0, 1, 1, 1, 0, 1, 1, 0, 0, 1, 0, 0, 0, 1, 1, 1, 0, 1, 1, 0, 0, 0, 1, 0, 1, 0, 0, 1, 1, 0, 0, 0, 1, 1, 1, 1, 1, 0, 1, 0, 1, 1, 0, 0, 0, 0, 0, 1, 0, 0, 0, 1, 0, 0, 1, 1, 1, 0, 1, 1, 0, 0, 1, 1, 0, 0, 1, 0, 0, 1, 1, 0, 0, 0, 1, 1, 1, 1, 0, 0, 0, 0, 1, 1, 1, 0, 0, 0, 0, 0, 1, 1, 0, 0, 0, 0, 0, 0, 0, 1, 0, 1, 1, 1, 0, 1, 1, 1, 0, 0, 1, 1, 1, 0, 0, 1, 1, 0, 1, 1, 0, 1, 0, 0, 0, 0, 1, 1, 1, 0, 1, 0, 1, 0, 1, 0, 0, 0, 1, 1, 1, 0, 0, 0, 0, 0, 1, 0, 1, 0, 1, 1, 1, 0, 1, 1, 1, 0, 0, 0, 0, 1, 1, 0, 1, 1, 0, 1, 0, 0, 1, 1, 0, 0, 0, 0, 0, 1, 0, 0, 0, 1, 0, 0, 1, 0, 1, 0, 1, 0, 1, 1, 1, 1, 1, 1, 1, 1, 0, 1, 1, 1, 0, 0, 0, 1, 0, 0, 0, 1, 1, 0, 1, 1, 1, 1, 0, 1, 1, 0, 0, 1, 1, 1, 0, 0, 0, 0, 0, 1, 1, 0, 0, 1, 1, 0, 0, 1, 0, 0, 1, 1, 1, 1, 1, 1, 0, 0, 1, 0, 1, 0, 1, 0, 1, 0, 0, 1, 1, 1, 1, 0, 1, 0, 1, 0, 1, 1, 1, 1, 1, 0, 0, 0, 1, 1, 0, 1, 0, 0, 0, 1, 1, 1, 0, 0, 0, 0, 1, 0, 0, 0, 1, 0, 1, 0, 0, 0, 0, 1, 0, 0, 0, 1, 1, 0, 0, 0, 1, 1, 1, 0, 0, 0, 0, 0, 0, 1, 1, 0, 0, 1, 1, 0, 0, 0, 1, 0, 0, 1, 1, 1, 1, 0, 0, 1, 1, 0, 0, 0, 0, 0, 0, 1, 0, 1, 1, 0, 1, 1, 0, 1, 0, 0, 1, 0, 0, 0, 0, 1, 0, 1, 0, 1, 1, 0, 1, 1, 0, 0, 0, 0, 1, 0, 0, 1, 0, 0, 1, 1, 1, 0, 0, 0, 1, 0, 0, 0, 0, 1, 1, 1, 1, 0, 1, 1, 0, 0, 0, 1, 1, 1, 1, 0, 1, 0, 0, 0, 0, 1, 1, 0, 1, 0, 0, 0, 0, 0, 1, 1, 0, 0, 0, 0, 0, 1, 1, 1, 0, 1, 0, 0, 1, 0, 0, 1, 0, 0, 1, 1, 0, 1, 0, 1, 0, 1, 0, 1, 1, 1, 0, 0, 0, 1, 0, 0, 1, 0, 0, 1, 0, 1, 0, 1, 0, 1, 0, 0, 1, 0, 1, 1, 0, 0, 0, 0, 1, 0, 0, 0, 1, 1, 1, 0, 0, 1, 0, 1, 0, 0, 1, 1, 1, 1, 1, 1, 1, 1, 0, 0, 1, 1, 0, 1, 0, 0, 0, 1, 0, 0, 1, 1, 0, 1, 1, 0, 1, 0, 1, 0, 0, 1, 1, 1, 0, 0, 1, 1, 1, 1, 1, 1, 0, 0, 0, 1, 0, 1, 1, 1, 0, 0, 1, 0, 1, 1, 1, 1, 1, 1, 0, 0, 0, 1, 1, 0, 1, 0, 1, 1, 0, 0, 1, 0, 1, 0, 0, 0, 1, 0, 1, 0, 1, 0, 1, 1, 1, 1, 1, 0, 0, 1, 0, 0, 0, 1, 0, 1, 0, 1, 1, 1, 0, 0, 0, 0, 1, 0, 0, 0, 1, 0, 1, 1, 0, 1, 1, 0, 0, 1, 0, 1, 1, 0, 0, 1, 1, 0, 0, 0, 0, 0, 1, 1, 1, 1, 0, 1, 0, 0, 0, 1, 0, 0, 0, 0, 1, 0, 0, 1, 0, 0, 0, 0, 0, 1, 1, 1, 1, 0, 1, 0, 1, 0, 1, 0, 1, 1, 0, 1, 1, 1, 0, 1, 0, 1, 1, 0, 1, 0, 0, 1, 1, 0, 1, 0, 1, 1, 1, 1, 0, 1, 0, 1, 0, 1, 1, 0, 0, 1, 1, 0, 0, 0, 1, 0, 0, 0, 0, 1, 1, 0, 1, 0, 1, 0, 1, 1, 0, 1, 1, 1, 0, 0, 1, 0, 0, 1, 0, 0, 0, 0, 0, 0, 1, 1, 1, 0, 0, 0, 1, 0, 1, 0, 0, 0, 0, 1, 1, 0, 1, 1, 0, 0, 1, 1, 1, 1, 0, 0, 0, 1, 0, 1, 1, 0, 1, 0, 0, 0, 0, 1, 0, 1, 1, 0, 1, 1, 0, 1, 0, 1, 1, 0, 1, 0, 0, 0, 1, 1, 1, 1, 0, 0, 1, 1, 0, 0, 0, 0, 0, 0, 1, 0, 0, 0, 1, 0, 0, 1, 1, 1, 0, 1, 1, 1, 0, 1, 1, 0, 1, 0, 1, 0, 0, 0, 0, 1, 0, 0, 1, 1, 1, 1, 0, 0, 0, 0, 0, 1, 0, 0, 1, 0, 0, 0, 0, 1, 0, 0, 1, 1, 1, 0, 0, 1, 1, 1, 1, 1, 1, 0, 0, 1, 0, 0, 0, 0, 1, 1, 1, 0, 0, 1, 1, 1, 0, 0, 1, 1, 0, 1, 1, 1, 1, 1, 1, 1, 0, 1, 1, 1, 0, 0, 1, 0, 0, 0, 1, 0, 1, 1, 0, 0, 1, 0, 0, 0, 1, 1, 0, 0, 0, 0, 0, 0, 0, 0, 0, 1, 0, 0, 0, 1, 1, 0, 0, 1, 1, 1, 1, 0, 1, 0, 0, 0, 1, 0, 1, 1, 1, 0, 1, 0, 0, 0, 1, 1, 0, 1, 1, 0, 0, 1, 0, 0, 1, 1, 1, 0, 1, 0, 0, 0, 0, 1, 0, 0, 0, 0, 1, 0, 1, 0, 1, 1, 0, 1, 1, 1, 1, 1, 0, 1, 1, 1, 1, 0, 0, 0, 0, 1, 0, 1, 1, 0, 1, 0, 0, 0, 0, 1, 0, 1, 1, 1, 1, 1, 1, 1, 1, 0, 1, 0, 0, 0, 1, 0, 0, 0, 0, 1, 0, 1, 1, 0, 0, 0, 1, 0, 1, 0, 1, 0, 0, 0, 1, 1, 0, 0, 1, 1, 1, 1, 1, 1, 1, 0, 1, 1, 1, 0, 1, 0, 0, 1, 1, 1, 0, 0, 0, 1, 0, 0, 1, 0, 1, 0, 1, 1, 0, 0, 0, 0, 1, 1, 0, 1, 0, 0, 0, 0, 1, 1, 1, 1, 1, 0, 1, 0, 0, 1, 1, 0, 1, 0, 1, 0, 1, 0, 1, 1, 1, 0, 1, 1, 1, 0, 0, 1, 0, 0, 1, 1, 1, 1, 1, 0, 1, 1, 0, 1, 1, 1, 0, 1, 1, 1, 0, 0, 0, 0, 0, 1, 1, 0, 1, 1, 1, 1, 1, 0, 0, 1, 0, 0, 0, 1, 0, 0, 0, 1, 1, 0, 0, 0, 1, 0, 1, 0, 1, 1, 0, 0, 0, 0, 1, 1, 0, 1, 0, 1, 0, 1, 1, 0, 1, 1, 1, 1, 1, 1, 1, 0, 1, 0, 0, 1, 1, 0, 0, 1, 1, 0, 1, 0, 1, 0, 0, 0, 0, 1, 1, 0, 1, 1, 0, 1, 0, 1, 1, 0, 0, 0, 0, 0, 0, 1, 1, 0, 0, 1, 1, 0, 0, 0, 1, 0, 0, 0, 1, 1, 0, 1, 1, 1, 1, 0, 1, 0, 0, 1, 0, 0, 1, 1, 0, 1, 0, 0, 1, 0, 1, 1, 1, 1, 0, 1, 0, 0, 1, 1, 0, 1, 0, 1, 1, 0, 0, 0, 1, 0, 1, 1, 0, 1, 1, 0, 0, 0, 1, 0, 1, 1, 0, 1, 1, 1, 1, 1, 1, 1, 0, 1, 1, 0, 0, 1, 0, 1, 1, 1, 1, 0, 1, 1, 1, 1, 0, 0, 1, 0, 1, 1, 0, 1, 1, 1, 0, 0, 1, 1, 0, 0, 1, 1, 0, 0, 1, 1, 0, 0, 0, 0, 0, 0, 0, 1, 0, 1, 1, 0, 1, 0, 1, 1, 0, 1, 1, 0, 1, 1, 1, 0, 1, 1, 1, 1, 1, 0, 1, 0, 0, 1, 0, 1, 1, 1, 1, 1, 1, 1, 1, 0, 0, 0, 1, 1, 1, 0, 1, 0, 0, 0, 0, 0, 0, 1, 1, 1, 0, 1, 0, 1, 1, 1, 1, 0, 0, 0, 0, 1, 0, 0, 1, 0, 0, 1, 1, 1, 1, 0, 0, 0, 1, 0, 0, 0, 1, 0, 1, 0, 1, 0, 1, 0, 1, 1, 0, 0, 1, 1, 0, 0, 1, 0, 0, 0, 1, 1, 1, 0, 1, 1, 1, 1, 1, 1, 0, 0, 1, 1, 0, 0, 0, 0, 1, 0, 0, 1, 1, 1, 1, 1, 0, 1, 0, 0, 0, 0, 0, 1, 1, 1, 0, 1, 0, 1, 0, 0, 0, 1, 1, 0, 0, 0, 0, 1, 0, 0, 1, 1, 0, 1, 1, 0, 1, 1, 1, 0, 0, 0, 1, 0, 1, 1, 1, 1, 0, 0, 1, 0, 0, 1, 1, 1, 0, 0, 1, 0, 0, 1, 0, 0, 1, 0, 0, 1, 0, 0, 1, 1, 0, 1, 0, 0, 1, 0, 1, 1, 1, 1, 0, 0, 1, 1, 1, 0, 0, 0, 0, 0, 0, 1, 1, 0, 0, 0, 1, 0, 0, 0, 1, 0, 1, 1, 0, 0, 1, 0, 1, 1, 1, 1, 0, 0, 0, 1, 1, 1, 1, 0, 0, 0, 1, 0, 1, 0, 1, 0, 1, 0, 1, 0, 0, 0, 1, 0, 0, 1, 0, 1, 1, 0, 1, 1, 0, 1, 1, 1, 0, 1, 0, 0, 1, 1, 0, 0, 1, 1, 0, 0, 0, 0, 1, 0, 1, 0, 1, 0, 0, 1, 0, 0, 0, 0, 0, 1, 1, 0, 0, 1, 0, 1, 0, 1, 0, 0, 0, 0, 1, 1, 0, 1, 1, 0, 1, 0, 0, 0, 1, 1, 1, 1, 1, 1, 1, 1, 0, 0, 0, 1, 0, 0, 1, 1, 1, 0, 1, 1, 0, 1, 0, 1, 0, 0, 1, 0, 1, 0, 1, 0, 1, 0, 1, 0, 1, 0, 1, 1, 0, 1, 0, 1, 0, 0, 1, 1, 0, 1, 1, 1, 0, 1, 0, 0, 1, 1, 1, 1, 0, 1, 1, 1, 0, 0, 1, 0, 0, 0, 0, 1, 1, 1, 1, 1, 0, 1, 1, 1, 0, 1, 0, 0, 1, 0, 1, 1, 0, 0, 0, 1, 0, 1, 1, 0, 1, 0, 0, 0, 1, 0, 1, 0, 0, 1, 0, 1, 1, 0, 1, 1, 1, 0, 1, 1, 1, 1, 1, 0, 0, 0, 1, 0, 1, 1, 0, 0, 0, 0, 0, 0, 1, 1, 0, 1, 1, 0, 1, 0, 1, 0, 1, 1, 0, 0, 0, 1, 1, 0, 0, 1, 0, 0, 0, 0, 0, 1, 0, 1, 0, 1, 1, 1, 0, 1, 0, 1, 0, 1, 0, 1, 1, 1, 1, 1, 1, 1, 1, 1, 1, 1, 0, 1, 0, 0, 0, 0, 0, 0, 1, 1, 0, 1, 0, 1, 0, 0, 1, 1, 0, 0, 1, 1, 1, 1, 1, 0, 1, 1, 1, 1, 0, 1, 0, 1, 0, 1, 1, 0, 1, 0, 0, 1, 1, 1, 0, 0, 0, 1, 1, 1, 0, 1, 1, 1, 0, 0, 0, 0, 1, 0, 0, 0, 0, 0, 1, 0, 1, 0, 1, 1, 0, 1, 1, 1, 1, 0, 1, 0, 0, 1, 0, 0, 1, 1, 1, 1, 1, 1, 1, 1, 1, 1, 0, 0, 0, 0, 1, 0, 0, 0, 0, 1, 0, 0, 1, 1, 0, 1, 0, 0, 0, 0, 1, 1, 1, 1, 1, 0, 1, 0, 1, 1, 0, 0, 1, 1, 1, 1, 1, 0, 1, 1, 1, 0, 0, 0, 0, 0, 0, 1, 0, 1, 0, 0, 1, 0, 1, 0, 0, 1, 1, 1, 0, 1, 1, 0, 0, 0, 0, 1, 0, 1, 1, 1, 0, 0, 1, 1, 0, 1, 1, 0, 0, 1, 1, 1, 1, 0, 0, 1, 0, 0, 0, 0, 1, 0, 1, 0, 0, 1, 1, 1, 1, 1, 1, 0, 1, 0, 0, 1, 0, 1, 0, 1, 1, 0, 0, 1, 1, 1, 1, 1, 0, 0, 0, 0, 1, 0, 1, 1, 1, 1, 1, 1, 0, 0, 1, 0, 0, 1, 1, 0, 0, 0, 0, 1, 0, 1, 0, 0, 1, 1, 0, 0, 0, 0, 0, 1, 0, 0, 1, 1, 0, 1, 0, 0, 1, 0, 1, 0, 0, 0, 0, 1, 0, 0, 0, 0, 0, 1, 0, 0, 1, 1, 0, 0, 0, 0, 1, 1, 0, 0, 0, 1, 1, 1, 0, 1, 0, 1, 0, 1, 0, 0, 1, 0, 1, 0, 0, 0, 1, 1, 1, 0, 0, 0, 0, 0, 1, 0, 1, 1, 1, 1, 1, 0, 1, 1, 0, 0, 0, 0, 0, 0, 0, 1, 1, 0, 1, 1, 1, 0, 0, 1, 0, 0, 1, 1, 1, 1, 0, 0, 1, 0, 1, 0, 1, 1, 0, 0, 1, 1, 1, 0, 0, 1, 1, 1, 1, 1, 1, 0, 1, 0, 1, 0, 0, 1, 1, 0, 1, 1, 1, 1, 0, 0, 1, 1, 0, 0, 1, 0, 1, 0, 1, 1, 1, 0, 0, 0, 0, 0, 0, 0, 1, 1, 0, 1, 1, 0, 0, 1, 1, 1, 1, 0, 1, 1, 1, 0, 0, 1, 0, 0, 1, 1, 1, 0, 1, 1, 1, 0, 1, 1, 0, 0, 0, 0, 1, 0, 1, 1, 1, 1, 0, 1, 0, 1, 1, 1, 1, 0, 1, 0, 1, 0, 0, 0, 1, 1, 0, 1, 1, 1, 1, 1, 0, 0, 0, 0, 0, 1, 0, 0, 1, 1, 0, 0, 0, 1, 1, 0, 1, 0, 0, 0, 0, 1, 1, 1, 1, 1, 1, 0, 1, 1, 0, 1, 1, 1, 0, 0, 1, 0, 0, 1, 1, 0, 1, 0, 1, 0, 1, 1, 1, 1, 1, 0, 0, 0, 0, 1, 1, 1, 1, 1, 0, 0, 1, 1, 1, 1, 1, 0, 0, 0, 0, 1, 1, 0, 1, 0, 1, 1, 1, 0, 0, 1, 0, 0, 1, 1, 0, 1, 1, 1, 0, 1, 0, 1, 0, 1, 0, 0, 0, 1, 1, 1, 0, 0, 1, 1, 1, 0, 0, 0, 1, 0, 1, 1, 1, 1, 0, 1, 1, 1, 1, 1, 0, 0, 0, 1, 0, 0, 0, 1, 0, 1, 0, 0, 1, 1, 1, 1, 0, 0, 0, 0, 0, 1, 0, 1, 0, 0, 0, 0, 1, 0, 0, 1, 1, 1, 1, 0, 1, 0, 0, 0, 1, 1, 0, 0, 1, 0, 1, 1, 1, 1, 1, 0, 1, 1, 0, 1, 1, 0, 0, 0, 0, 0, 0, 1, 0, 0, 0, 1, 0, 0, 0, 0, 1, 1, 0, 0, 0, 1, 1, 1, 1, 1, 0, 0, 0, 1, 1, 0, 0, 1, 0, 1, 1, 0, 0, 0, 1, 1, 1, 0, 0, 0, 1, 0, 1, 1, 0, 0, 1, 1, 0, 0, 1, 1, 1, 1, 0, 1, 0, 1, 0, 1, 0, 0, 0, 1, 1, 0, 0, 0, 0, 0, 1, 0, 1, 0, 1, 1, 0, 1, 1, 1, 1, 1, 1, 1, 0, 0, 0, 1, 0, 0, 1, 0, 1, 0, 1, 0, 1, 0, 1, 1, 1, 1, 0, 0, 1, 0, 1, 0, 0, 1, 0, 1, 0, 0, 1, 1, 1, 1, 0, 1, 1, 1, 0, 1, 1, 1, 1, 1, 1, 1, 0, 1, 1, 1, 1, 1, 1, 0, 1, 0, 0, 1, 0, 1, 0, 0, 0, 1, 0, 1, 0, 1, 0, 1, 1, 1, 0, 0, 1, 1, 0, 0, 1, 1, 1, 0, 0, 0, 0, 0, 0, 0, 1, 0, 1, 0, 0, 0, 1, 1, 0, 0, 1, 1, 1, 1, 0, 1, 1, 1, 0, 0, 0, 0, 0, 1, 0, 1, 1, 0, 1, 0, 1, 1, 0, 1, 1, 0, 0, 0, 1, 1, 1, 0, 1, 1, 0, 0, 1, 0, 0, 1, 0, 0, 0, 0, 0, 0, 1, 1, 0, 1, 0, 0, 1, 0, 1, 1, 1, 0, 1, 1, 1, 0, 0, 1, 0, 1, 1, 1, 0, 1, 1, 1, 1, 0, 1, 1, 0, 1, 0, 1, 1, 0, 0, 1, 0, 1, 0, 0, 0, 0, 0, 0, 1, 0, 0, 0, 0, 1, 0, 1, 1, 0, 0, 1, 0, 1, 0, 1, 1, 1, 0, 1, 1, 1, 0, 1, 1, 0, 0, 0, 0, 1, 1, 0, 1, 1, 0, 1, 0, 0, 1, 0, 1, 1, 0, 1, 1, 0, 0, 0, 0, 0, 0, 0, 1, 1, 0, 0, 0, 1, 1, 0, 1, 0, 1, 0, 0, 0, 1, 1, 1, 1, 1, 1, 1, 1, 0, 0, 0, 1, 1, 0, 1, 0, 0, 1, 0, 0, 0, 1, 1, 1, 0, 1, 0, 0, 1, 0, 1, 1, 1, 0, 0, 1, 0, 0, 1, 1, 0, 1, 0, 0, 1, 0, 0, 0, 0, 1, 0, 1, 0, 0, 0, 0, 1, 1, 1, 0, 0, 1, 1, 1, 1, 1, 0, 1, 0, 0, 1, 0, 1, 1, 1, 1, 0, 1, 0, 1, 0, 1, 0, 0, 0, 1, 0, 1, 1, 0, 0, 0, 0, 1, 1, 0, 1, 1, 1, 1, 1, 0, 1, 1, 1, 0, 0, 0, 1, 0, 1, 1, 0, 0, 0, 1, 0, 1, 0, 0, 0, 0, 0, 0, 0, 1, 0, 1, 1, 0, 1, 1, 0, 1, 0, 0, 1, 1, 1, 1, 1, 0, 0, 0, 0, 1, 0, 0, 1, 1, 0, 0, 0, 0, 0, 1, 1, 1, 0, 1, 1, 0, 0, 0, 1, 0, 0, 0, 0, 0, 1, 1, 0, 0, 1, 0, 0, 1, 0, 1, 1, 1, 0, 1, 0, 0, 1, 0, 1, 1, 0, 1, 1, 1, 0, 0, 0, 0, 0, 0, 0, 1, 0, 1, 1, 1, 1, 0, 1, 0, 0, 1, 1, 1, 0, 0, 0, 1, 0, 0, 0, 0, 0, 1, 0, 0, 1, 1, 0, 1, 0, 0, 0, 0, 0, 0, 1, 0, 1, 1, 1, 0, 0, 0, 1, 0, 1, 1, 1, 0, 1, 1, 0, 0, 1, 1, 0, 1, 1, 1, 1, 0, 0, 1, 0, 0, 1, 0, 1, 1, 1, 1, 1, 0, 0, 0, 0, 1, 0, 0, 0, 1, 1, 1, 0, 0, 0, 0, 1, 1, 1, 0, 1, 0, 1, 0, 1, 1, 0, 0, 1, 0, 0, 0, 0, 1, 0, 1, 0, 1, 0, 0, 1, 1, 1, 0, 0, 0, 0, 1, 0, 0, 1, 1, 1, 0, 0, 0, 1, 0, 1, 1, 1, 0, 0, 0, 0, 0, 1, 1, 0, 0, 0, 0, 0, 0, 1, 0, 1, 1, 1, 0, 1, 1, 0, 0, 0, 0, 1, 1, 0, 0, 0, 0, 0, 1, 0, 0, 0, 1, 0, 1, 1, 1, 1, 1, 0, 1, 0, 0, 0, 0, 0, 0, 0, 0, 1, 0, 0, 0, 0, 1, 1, 1, 1, 1, 1, 0, 0, 0, 0, 1, 0, 0, 0, 0, 0, 1, 1, 0, 0, 1, 1, 1, 0, 1, 1, 0, 0, 0, 0, 0, 1, 0, 0, 1, 0, 0, 0, 1, 1, 0, 0, 1, 1, 0, 1, 1, 1, 1, 0, 1, 0, 0, 1, 0, 0, 0, 0, 1, 1, 0, 0, 0, 0, 0, 1, 1, 1, 0, 0, 0, 0, 1, 0, 0, 0, 0, 1, 1, 1, 1, 0, 0, 1, 0, 0, 1, 0, 0, 0, 1, 0, 0, 1, 0, 0, 1, 1, 1, 1, 0, 1, 0, 1, 0, 0, 0, 0, 1, 0, 1, 0, 0, 1, 1, 0, 0, 1, 1, 1, 1, 0, 1, 0, 0, 0, 0, 1, 1, 0, 0, 1, 0, 1, 0, 1, 1, 1, 1, 0, 1, 1, 0, 0, 0, 0, 0, 0, 0, 0, 0, 0, 1, 1, 0, 1, 1, 1, 1, 0, 1, 1, 0, 0, 1, 0, 1, 0, 0, 1, 1, 1, 0, 1, 1, 0, 1, 0, 1, 1, 0, 0, 1, 0, 0, 0, 1, 0, 1, 0, 0, 1, 0, 0, 0, 1, 0, 1, 0, 0, 0, 0, 0, 1, 0, 0, 0, 0, 1, 0, 1, 1, 1, 0, 1, 0, 1, 1, 1, 0, 0, 0, 1, 0, 0, 1, 1, 0, 0, 0, 1, 0, 1, 0, 1, 1, 1, 0, 0, 1, 0, 0, 0, 0, 1, 1, 0, 0, 1, 1, 1, 1, 0, 1, 1, 1, 1, 0, 1, 1, 0, 1, 1, 1, 0, 1, 0, 0, 0, 0, 0, 1, 0, 1, 1, 1, 0, 0, 0, 0, 1, 0, 0, 0, 1, 1, 1, 1, 1, 0, 1, 0, 0, 1, 1, 1, 1, 1, 0, 0, 0, 0, 0, 0, 0, 0, 1, 1, 0, 1, 1, 0, 1, 0, 0, 0, 1, 1, 0, 0, 0, 1, 1, 0, 1, 0, 0, 1, 1, 1, 1, 1, 0, 0, 1, 1, 0, 1, 0, 0, 1, 1, 1, 1, 1, 0, 1, 1, 0, 1, 1, 1, 1, 0, 1, 1, 1, 0, 1, 1, 0, 1, 1, 1, 1, 0, 1, 1, 1, 1, 1, 0, 1, 0, 0, 0, 0, 1, 1, 1, 1, 0, 1, 1, 1, 1, 0, 1, 0, 0, 1, 1, 1, 1, 0, 1, 0, 1, 0, 0, 1, 0, 1, 1, 0, 0, 1, 0, 0, 1, 1, 0, 0, 1, 0, 0, 1, 1, 1, 1, 1, 0, 0, 1, 1, 0, 1, 0, 0, 1, 1, 0, 1, 1, 0, 0, 0, 1, 0, 1, 1, 1, 0, 0, 1, 0, 1, 1, 0, 0, 0, 0, 1, 1, 1, 0, 0, 0, 1, 0, 0, 1, 1, 0, 0, 0, 0, 0, 0, 0, 1, 1, 0, 1, 1, 0, 1, 0, 0, 0, 1, 1, 0, 0, 0, 1, 0, 0, 1, 0, 0, 0, 0, 1, 0, 1, 0, 0, 1, 0, 1, 0, 0, 0, 0, 0, 1, 0, 1, 0, 0, 0, 0, 1, 0, 1, 0, 0, 0, 0, 0, 1, 1, 1, 1, 1, 0, 1, 0, 0, 1, 1, 0, 0, 1, 1, 0, 0, 1, 1, 0, 0, 1, 0, 0, 0, 0, 1, 0, 0, 1, 1, 0, 1, 0, 1, 1, 0, 1, 0, 1, 1, 0, 0, 1, 1, 1, 0, 0, 0, 1, 0, 0, 1, 0, 0, 0, 0, 1, 1, 0, 0, 0, 0, 0, 0, 0, 1, 1, 1, 1, 1, 0, 0, 1, 1, 1, 1, 0, 0, 0, 0, 0, 0, 0, 0, 1, 0, 0, 0, 1, 0, 1, 1, 1, 0, 0, 0, 1, 1, 1, 0, 1, 0, 1, 0, 0, 0, 0, 1, 0, 0, 0, 0, 1, 0, 0, 1, 1, 1, 0, 0, 0, 1, 0, 0, 1, 1, 0, 1, 1, 0, 0, 1, 0, 1, 0, 0, 1, 0, 0, 0, 1, 0, 0, 0, 0, 0, 1, 0, 1, 1, 1, 0, 1, 1, 1, 0, 1, 1, 0, 0, 0, 1, 1, 1, 1, 0, 0, 0, 1, 1, 0, 1, 0, 0, 1, 1, 0, 0, 1, 1, 1, 1, 1, 0, 0, 0, 0, 0, 0, 1, 0, 0, 1, 0, 0, 1, 0, 1, 0, 1, 1, 1, 1, 1, 0, 1, 1, 1, 0, 1, 0, 0, 0, 0, 0, 0, 1, 1, 0, 1, 1, 0, 1, 0, 0, 1, 0, 1, 0, 0, 0, 0, 1, 1, 0, 0, 1, 0, 0, 0, 0, 1, 0, 0, 1, 1, 1, 1, 1, 0, 1, 1, 1, 1, 1, 0, 1, 0, 1, 0, 1, 0, 0, 0, 1, 0, 0, 1, 0, 1, 0, 1, 1, 0, 1, 1, 1, 1, 1, 0, 0, 0, 0, 0, 1, 0, 1, 0, 0, 1, 1, 0, 0, 0, 1, 1, 1, 0, 0, 1, 0, 1, 0, 0, 1, 0, 0, 1, 1, 0, 1, 0, 1, 1, 0, 0, 1, 1, 0, 0, 1, 1, 0, 0, 1, 0, 1, 1, 1, 1, 0, 0, 1, 0, 0, 1, 0, 1, 0, 1, 1, 0, 0, 0, 1, 1, 0, 1, 1, 1, 1, 1, 1, 0, 1, 1, 1, 0, 1, 0, 1, 1, 0, 0, 0, 1, 1, 1, 0, 1, 0, 0, 1, 0, 0, 0, 1, 0, 1, 0, 1, 0, 1, 0, 1, 0, 0, 0, 0, 1, 1, 0, 1, 0, 0, 1, 1, 1, 1, 0, 0, 1, 0, 1, 1, 1, 1, 1, 0, 0, 1, 0, 0, 1, 1, 1, 0, 0, 0, 0, 1, 0, 0, 0, 1, 1, 1, 0, 0, 1, 0, 0, 1, 0, 1, 0, 1, 0, 1, 0, 1, 0, 0, 0, 1, 0, 1, 1, 0, 0, 1, 1, 0, 0, 1, 0, 1, 1, 1, 0, 0, 0, 0, 0, 0, 0, 1, 0, 0, 0, 1, 0, 1, 1, 0, 1, 0, 0, 0, 0, 1, 0, 1, 1, 1, 1, 0, 0, 1, 1, 0, 0, 1, 1, 0, 0, 0, 0, 1, 0, 0, 1, 1, 0, 0, 1, 0, 1, 0, 0, 0, 1, 0, 1, 0, 1, 0, 1, 0, 1, 1, 0, 1, 0, 1, 0, 1, 0, 1, 0, 1, 1, 1, 1, 0, 1, 1, 1, 1, 1, 1, 1, 1, 1, 1, 0, 1, 0, 1, 1, 0, 1, 0, 0, 0, 1, 1, 0, 1, 1, 0, 1, 1, 0, 1, 0, 0, 0, 0, 0, 0, 1, 0, 0, 0, 1, 0, 0, 0, 0, 0, 0, 0, 0, 0, 1, 1, 0, 0, 0, 1, 0, 1, 0, 1, 1, 1, 0, 1, 0, 1, 0, 1, 0, 0, 1, 1, 0, 1, 0, 0, 0, 0, 1, 1, 0, 0, 0, 1, 1, 0, 0, 1, 1, 0, 1, 0, 0, 1, 0, 1, 0, 0, 1, 0, 0, 1, 1, 1, 1, 0, 1, 1, 1, 1, 1, 1, 1, 1, 1, 1, 0, 1, 0, 1, 1, 0, 1, 0, 0, 1, 1, 1, 1, 0, 1, 1, 0, 0, 1, 0, 1, 0, 1, 0, 0, 1, 0, 0, 1, 1, 0, 1, 0, 1, 0, 0, 1, 1, 1, 0, 0, 1, 1, 0, 1, 0, 1, 0, 1, 1, 1, 1, 0, 0, 1, 1, 0, 0, 1, 0, 0, 1, 0, 1, 0, 1, 1, 1, 1, 1, 0, 1, 0, 1, 0, 0, 0, 0, 0, 0, 1, 0, 0, 1, 0, 0, 1, 1, 0, 0, 1, 0, 0, 1, 0, 1, 1, 0, 1, 0, 0, 1, 1, 1, 0, 0, 1, 0, 0, 1, 1, 0, 1, 0, 0, 0, 1, 1, 0, 1, 1, 0, 0, 1, 1, 1, 1, 1, 0, 0, 0, 0, 0, 0, 1, 1, 1, 0, 0, 1, 0, 1, 1, 0, 1, 0, 1, 1, 0, 0, 1, 0, 1, 1, 1, 0, 0, 0, 1, 0, 1, 1, 1, 1, 0, 0, 1, 0, 0, 1, 1, 1, 0, 1, 0, 0, 0, 1, 0, 1, 0, 1, 1, 0, 1, 1, 1, 1, 0, 1, 0, 0, 1, 0, 0, 1, 1, 0, 1, 1, 0, 1, 0, 0, 1, 0, 1, 1, 1, 1, 0, 0, 0, 1, 0, 0, 0, 1, 0, 0, 1, 1, 0, 1, 0, 1, 1, 1, 1, 0, 0, 0, 1, 0, 1, 0, 0, 1, 0, 1, 0, 1, 0, 1, 1, 1, 1, 0, 1, 1, 1, 1, 1, 0, 1, 0, 1, 0, 0, 1, 1, 0, 1, 1, 1, 0, 1, 1, 0, 0, 0, 1, 0, 1, 1, 1, 0, 1, 1, 0, 0, 0, 1, 0, 0, 1, 0, 0, 1, 1, 1, 0, 0, 0, 0, 1, 1, 1, 0, 0, 0, 1, 0, 1, 1, 1, 1, 1, 1, 1, 0, 1, 1, 1, 0, 1, 0, 1, 1, 0, 0, 0, 1, 0, 0, 0, 0, 0, 1, 0, 0, 1, 1, 1, 0, 0, 0, 0, 1, 0, 1, 1, 1, 1, 1, 1, 1, 0, 0, 1, 0, 1, 0, 0, 0, 1, 0, 0, 1, 1, 1, 1, 0, 1, 0, 1, 0, 1, 1, 1, 0, 0, 0, 1, 1, 1, 1, 0, 0, 1, 1, 1, 0, 0, 1, 0, 0, 0, 0, 1, 0, 0, 1, 0, 0, 1, 1, 1, 0, 0, 0, 0, 0, 1, 1, 1, 0, 0, 0, 0, 1, 1, 0, 1, 1, 0, 0, 1, 0, 0, 0, 1, 0, 0, 1, 1, 0, 0, 1, 1, 0, 1, 1, 1, 1, 1, 1, 0, 0, 0, 1, 0, 0, 1, 0, 1, 0, 1, 1, 0, 1, 1, 1, 1, 1, 1, 0, 0, 0, 0, 0, 0, 1, 1, 1, 1, 1, 1, 0, 1, 0, 0, 1, 1, 0, 1, 0, 1, 0, 0, 1, 1, 1, 0, 1, 0, 1, 0, 0, 0, 0, 1, 1, 1, 1, 1, 1, 0, 1, 1, 1, 0, 1, 1, 1, 0, 0, 0, 1, 1, 0, 0, 1, 0, 1, 1, 1, 0, 1, 0, 1, 0, 0, 1, 1, 1, 0, 1, 1, 1, 0, 1, 1, 1, 0, 1, 1, 1, 0, 0, 1, 0, 1, 0, 0, 0, 1, 1, 1, 0, 1, 0, 0, 1, 1, 0, 0, 1, 1, 1, 0, 0, 1, 0, 1, 0, 1, 0, 0, 0, 0, 0, 1, 1, 0, 1, 1, 1, 1, 1, 0, 1, 0, 1, 0, 0, 1, 0, 1, 1, 1, 0, 0, 0, 0, 1, 1, 1, 0, 1, 1, 1, 0, 0, 1, 1, 1, 0, 1, 0, 1, 1, 1, 0, 1, 1, 1, 0, 0, 0, 0, 0, 0, 1, 1, 1, 1, 0, 1, 0, 1, 1, 0, 0, 1, 0, 1, 0, 0, 0, 0, 1, 0, 1, 0, 0, 0, 1, 1, 1, 1, 0, 1, 0, 0, 1, 1, 1, 0, 0, 0, 0, 0, 1, 1, 0, 1, 0, 0, 0, 0, 1, 0, 0, 0, 1, 1, 0, 1, 1, 1, 1, 0, 0, 0, 1, 1, 1, 0, 0, 0, 0, 1, 1, 0, 1, 1, 0, 1, 0, 0, 1, 1, 0, 0, 0, 0, 0, 0, 0, 0, 1, 1, 1, 0, 0, 1, 0, 1, 0, 0, 1, 0, 1, 1, 0, 0, 0, 1, 0, 0, 1, 1, 1, 0, 1, 1, 1, 0, 0, 1, 0, 0, 1, 1, 1, 0, 1, 0, 0, 0, 1, 0, 0, 0, 1, 1, 0, 0, 0, 1, 0, 0, 0, 1, 0, 0, 1, 1, 0, 0, 1, 0, 0, 0, 0, 1, 1, 0, 1, 1, 0, 1, 1, 0, 0, 1, 0, 1, 1, 0, 0, 0, 1, 0, 0, 1, 1, 1, 1, 0, 0, 0, 1, 0, 1, 0, 1, 1, 0, 0, 0, 0, 0, 1, 1, 0, 0, 0, 1, 1, 1, 0, 0, 1, 1, 0, 0, 0, 1, 1, 0, 0, 0, 0, 1, 0, 1, 0, 0, 0, 0, 1, 0, 1, 1, 1, 1, 0, 1, 0, 1, 1, 0, 1, 1, 1, 0, 0, 0, 0, 0, 0, 1, 1, 0, 1, 1, 0, 0, 0, 1, 1, 0, 0, 0, 0, 1, 0, 0, 0, 1, 0, 1, 1, 1, 1, 1, 1, 1, 1, 0, 1, 0, 0, 0, 1, 0, 0, 1, 0, 0, 1, 0, 1, 0, 0, 1, 0, 1, 1, 1, 0, 1, 1, 0, 1, 0, 0, 0, 1, 1, 0, 1, 0, 1, 1, 1, 1, 1, 0, 1, 1, 1, 0, 0, 0, 1, 1, 1, 0, 0, 1, 0, 0, 1, 0, 1, 0, 0, 0, 0, 0, 0, 0, 0, 0, 0, 1, 1, 0, 1, 1, 1, 1, 1, 1, 0, 0, 1, 0, 1, 0, 1, 0, 0, 0, 1, 0, 0, 0, 0, 1, 1, 0, 0, 0, 0, 1, 0, 1, 0, 0, 0, 0, 1, 0, 1, 1, 0, 1, 0, 0, 0, 0, 1, 0, 1, 1, 1, 0, 0, 1, 0, 0, 1, 1, 1, 1, 1, 1, 0, 0, 1, 0, 0, 0, 1, 1, 0, 0, 0, 0, 1, 0, 1, 1, 1, 1, 0, 1, 1, 0, 1, 0, 1, 1, 1, 0, 0, 1, 0, 0, 1, 0, 0, 1, 1, 1, 0, 0, 0, 0, 1, 0, 0, 1, 1, 0, 0, 1, 0, 0, 1, 1, 1, 1, 0, 0, 1, 1, 0, 1, 0, 1, 0, 0, 1, 1, 0, 0, 1, 0, 0, 0, 1, 0, 1, 1, 1, 0, 1, 0, 1, 1, 0, 1, 0, 1, 1, 0, 1, 0, 1, 1, 1, 0, 0, 1, 0, 0, 1, 0, 0, 1, 1, 1, 0, 0, 0, 0, 1, 1, 0, 0, 0, 1, 0, 0, 0, 0, 0, 1, 0, 1, 1, 0, 0, 0, 1, 1, 0, 1, 0, 0, 0, 1, 1, 1, 1, 0, 0, 0, 0, 0, 0, 0, 0, 0, 0, 0, 1, 1, 1, 0, 1, 1, 1, 1, 0, 0, 0, 0, 0, 0, 1, 1, 1, 0, 0, 0, 0, 0, 1, 0, 0, 0, 0, 1, 1, 1, 0, 1, 1, 0, 0, 1, 1, 1, 1, 1, 1, 0, 1, 1, 1, 1, 1, 0, 1, 1, 0, 0, 0, 1, 1, 0, 0, 1, 0, 0, 0, 0, 1, 0, 0, 1, 1, 1, 1, 1, 1, 1, 1, 1, 1, 1, 1, 0, 0, 1, 0, 0, 0, 0, 1, 0, 1, 0, 1, 1, 1, 1, 0, 0, 1, 1, 1, 0, 0, 0, 0, 1, 0, 1, 1, 1, 1, 0, 1, 1, 0, 1, 0, 1, 0, 0, 0, 0, 0, 1, 0, 1, 0, 1, 1, 0, 1, 0, 0, 0, 0, 0, 1, 1, 0, 0, 0, 0, 1, 1, 0, 0, 1, 1, 0, 0, 0, 1, 1, 0, 0, 0, 0, 0, 1, 0, 0, 1, 0, 0, 0, 0, 0, 0, 0, 1, 1, 1, 0, 0, 0, 0, 1, 1, 0, 0, 1, 0, 1, 1, 0, 0, 1, 1, 0, 0, 0, 0, 0, 0, 0, 1, 0, 0, 0, 0, 1, 0, 1, 1, 1, 0, 1, 0, 1, 1, 1, 0, 1, 0, 0, 0, 0, 1, 0, 1, 0, 1, 1, 0, 1, 0, 1, 1, 1, 1, 0, 0, 1, 1, 0, 0, 1, 0, 1, 0, 1, 0, 1, 0, 1, 1, 0, 1, 1, 1, 0, 0, 0, 1, 1, 1, 0, 0, 0, 1, 1, 1, 0, 1, 0, 0, 0, 1, 1, 1, 1, 0, 1, 1, 0, 1, 0, 0, 1, 1, 1, 0, 0, 1, 1, 0, 0, 0, 1, 1, 1, 1, 1, 1, 0, 1, 1, 0, 1, 1, 1, 0, 0, 1, 1, 0, 0, 0, 0, 0, 0, 0, 1, 1, 1, 1, 0, 0, 0, 1, 1, 1, 0, 1, 0, 0, 0, 0, 0, 1, 1, 1, 1, 1, 0, 1, 1, 1, 1, 1, 0, 0, 1, 0, 1, 0, 0, 0, 1, 0, 1, 1, 0, 1, 1, 0, 0, 0, 0, 0, 1, 0, 1, 0, 1, 1, 1, 1, 0, 1, 1, 0, 0, 0, 0, 1, 0, 1, 1, 0, 1, 1, 0, 1, 0, 0, 0, 1, 1, 1, 0, 1, 1, 0, 0, 1, 0, 1, 1, 0, 0, 1, 1, 0, 1, 0, 0, 0, 1, 1, 0, 1, 1, 1, 0, 1, 0, 1, 0, 1, 1, 0, 1, 0, 0, 0, 0, 1, 1, 1, 1, 1, 0, 0, 0, 1, 1, 1, 1, 1, 0, 0, 1, 1, 0, 0, 1, 1, 1, 0, 0, 1, 0, 0, 0, 0, 1, 0, 1, 1, 0, 0, 0, 1, 0, 1, 1, 1, 1, 1, 1, 0, 0, 0, 1, 0, 0, 0, 0, 1, 0, 0, 0, 1, 0, 0, 1, 1, 1, 1, 1, 0, 0, 0, 0, 0, 0, 0, 1, 1, 0, 1, 0, 0, 1, 0, 0, 1, 0, 0, 0, 1, 1, 1, 1, 1, 1, 0, 0, 1, 0, 0, 1, 1, 0, 1, 1, 1, 1, 0, 0, 1, 1, 1, 1, 0, 0, 0, 1, 0, 0, 0, 0, 1, 0, 1, 1, 0, 0, 1, 0, 1, 0, 0, 1, 1, 0, 0, 0, 0, 1, 1, 0, 1, 0, 1, 0, 1, 0, 1, 0, 0, 1, 0, 0, 0, 1, 1, 0, 1, 0, 1, 0, 1, 1, 0, 1, 1, 0, 1, 1, 1, 1, 1, 0, 1, 0, 0, 0, 0, 0, 0, 0, 1, 1, 0, 0, 0, 1, 1, 0, 1, 1, 0, 1, 1, 1, 0, 1, 0, 1, 1, 0, 1, 0, 1, 1, 1, 1, 1, 0, 1, 0, 1, 1, 1, 1, 0, 1, 1, 0, 1, 1, 0, 1, 1, 0, 0, 1, 1, 0, 1, 0, 0, 1, 1, 0, 1, 1, 1, 1, 1, 0, 1, 1, 1, 0, 1, 0, 1, 1, 1, 0, 1, 0, 1, 0, 0, 1, 0, 0, 1, 1, 1, 1, 1, 1, 1, 0, 1, 1, 1, 0, 0, 0, 0, 1, 1, 1, 1, 1, 0, 1, 0, 0, 0, 0, 0, 0, 1, 1, 0, 1, 1, 1, 1, 0, 1, 1, 1, 0, 0, 1, 1, 0, 0, 1, 1, 0, 1, 0, 0, 0, 0, 0, 1, 0, 1, 0, 0, 0, 0, 0, 0, 1, 1, 1, 1, 1, 0, 1, 0, 0, 0, 0, 0, 1, 1, 1, 1, 0, 1, 0, 0, 0, 0, 0, 0, 0, 0, 1, 1, 0, 1, 0, 1, 0, 1, 0, 0, 0, 1, 1, 0, 0, 0, 1, 0, 0, 0, 1, 1, 0, 0, 0, 0, 1, 0, 1, 0, 1, 0, 1, 1, 0, 0, 1, 1, 0, 0, 1, 0, 1, 0, 1, 0, 0, 0, 0, 0, 0, 1, 1, 1, 1, 0, 1, 1, 0, 0, 1, 1, 0, 1, 1, 0, 1, 1, 1, 1, 0, 0, 1, 0, 1, 0, 1, 1, 1, 0, 1, 1, 0, 0, 1, 1, 0, 0, 1, 0, 0, 0, 0, 0, 0, 1, 1, 0, 1, 0, 0, 0, 1, 1, 1, 0, 1, 1, 1, 1, 0, 1, 1, 0, 1, 0, 1, 0, 1, 1, 1, 1, 1, 1, 1, 1, 0, 1, 1, 1, 1, 1, 1, 1, 0, 0, 0, 1, 0, 1, 0, 1, 0, 0, 0, 0, 0, 0, 1, 1, 1, 0, 1, 0, 0, 1, 1, 1, 1, 1, 1, 0, 0, 1, 0, 1, 1, 0, 0, 1, 0, 0, 1, 0, 1, 1, 1, 0, 1, 1, 1, 1, 1, 0, 0, 1, 1, 1, 0, 0, 1, 0, 0, 0, 1, 1, 0, 1, 0, 0, 1, 0, 0, 1, 1, 1, 0, 0, 0, 1, 1, 0, 1, 1, 0, 0, 1, 0, 1, 0, 0, 0, 0, 1, 1, 0, 1, 1, 1, 1, 1, 1, 0, 1, 0, 0, 1, 0, 1, 0, 0, 1, 0, 1, 1, 1, 1, 1, 1, 1, 0, 1, 1, 0, 0, 0, 0, 1, 1, 1, 1, 0, 0, 0, 1, 0, 1, 1, 1, 1, 1, 0, 1, 1, 0, 0, 0, 0, 0, 1, 1, 1, 1, 0, 0, 0, 1, 0, 0, 0, 1, 1, 0, 0, 1, 0, 1, 0, 0, 0, 1, 1, 0, 1, 1, 1, 0, 0, 0, 0, 1, 1, 1, 0, 1, 1, 0, 1, 0, 0, 1, 1, 0, 0, 1, 0, 0, 1, 1, 0, 1, 1, 0, 1, 0, 0, 0, 0, 0, 1, 0, 0, 1, 0, 0, 1, 1, 0, 1, 0, 1, 0, 0, 0, 1, 0, 0, 0, 1, 0, 1, 0, 1, 1, 0, 0, 1, 0, 0, 1, 0, 0, 0, 0, 0, 1, 0, 1, 0, 0, 0, 1, 1, 1, 1, 1, 1, 1, 1, 1, 0, 1, 1, 0, 1, 1, 1, 1, 0, 1, 0, 1, 1, 0, 0, 1, 1, 0, 1, 0, 1, 0, 1, 0, 0, 0, 1, 1, 1, 0, 1, 1, 1, 1, 1, 0, 0, 0, 0, 0, 0, 0, 1, 0, 1, 1, 0, 0, 0, 0, 1, 1, 0, 1, 1, 0, 1, 0, 1, 0, 1, 0, 1, 0, 1, 1, 1, 0, 1, 1, 1, 0, 1, 0, 0, 0, 1, 0, 0, 1, 1, 0, 1, 1, 0, 0, 1, 1, 0, 1, 0, 1, 1, 0, 1, 1, 1, 0, 0, 1, 0, 1, 0, 1, 0, 1, 1, 1, 1, 1, 1, 1, 1, 1, 1, 0, 0, 0, 0, 0, 0, 1, 1, 1, 0, 1, 0, 0, 0, 0, 0, 0, 0, 0, 1, 1, 1, 1, 1, 0, 0, 0, 1, 1, 0, 0, 0, 0, 0, 1, 0, 1, 0, 1, 0, 0, 1, 1, 1, 1, 1, 0, 1, 0, 0, 0, 1, 1, 0, 0, 0, 1, 1, 1, 1, 1, 0, 0, 0, 0, 0, 0, 1, 1, 0, 1, 0, 0, 0, 0, 0, 0, 0, 1, 1, 0, 1, 1, 0, 1, 0, 1, 1, 1, 1, 1, 1, 0, 0, 1, 1, 1, 1, 0, 0, 0, 1, 0, 1, 1, 1, 1, 0, 1, 1, 1, 0, 0, 1, 0, 0, 0, 1, 0, 1, 0, 0, 1, 1, 1, 1, 1, 0, 1, 1, 0, 0, 0, 1, 0, 0, 0, 0, 0, 1, 1, 0, 0, 1, 0, 0, 1, 0, 1, 1, 0, 1, 0, 1, 1, 1, 0, 0, 0, 0, 0, 0, 0, 1, 0, 1, 1, 0, 1, 0, 0, 0, 1, 1, 0, 0, 0, 0, 1, 0, 1, 0, 0, 1, 1, 0, 1, 1, 1, 0, 0, 0, 1, 0, 0, 1, 1, 1, 1, 0, 0, 0, 0, 0, 1, 0, 1, 1, 1, 1, 0, 0, 0, 1, 1, 0, 1, 0, 0, 1, 0, 1, 0, 0, 1, 0, 1, 1, 0, 0, 1, 1, 0, 1, 0, 1, 0, 1, 0, 0, 1, 0, 0, 1, 1, 1, 0, 0, 0, 0, 1, 1, 0, 1, 0, 0, 1, 1, 1, 1, 1, 1, 0, 1, 0, 1, 1, 1, 1, 0, 0, 1, 0, 0, 1, 1, 0, 1, 0, 0, 1, 0, 0, 0, 1, 0, 0, 0, 1, 0, 0, 0, 1, 0, 0, 0, 0, 1, 1, 1, 0, 0, 1, 1, 1, 0, 0, 0, 0, 1, 0, 0, 1, 1, 1, 0, 0, 1, 0, 0, 1, 1, 1, 1, 1, 0, 0, 1, 1, 1, 1, 0, 1, 1, 0, 0, 1, 1, 0, 0, 1, 1, 1, 0, 1, 1, 1, 0, 1, 0, 0, 1, 0, 0, 1, 0, 1, 1, 0, 1, 0, 0, 1, 1, 1, 0, 0, 0, 0, 1, 0, 0, 0, 1, 0, 1, 0, 0, 1, 0, 1, 1, 1, 1, 0, 0, 0, 1, 0, 0, 0, 1, 1, 0, 1, 1, 0, 0, 0, 0, 0, 0, 0, 0, 0, 1, 1, 0, 1, 0, 1, 1, 1, 0, 1, 0, 1, 1, 1, 1, 1, 1, 1, 0, 1, 1, 0, 0, 1, 1, 0, 0, 1, 0, 1, 1, 1, 0, 0, 0, 0, 0, 0, 1, 1, 1, 1, 0, 1, 1, 1, 0, 0, 0, 1, 0, 0, 0, 0, 0, 0, 1, 0, 0, 1, 1, 1, 1, 0, 0, 1, 1, 0, 0, 1, 0, 1, 0, 0, 0, 1, 1, 1, 0, 0, 0, 1, 0, 1, 0, 0, 0, 0, 1, 1, 1, 1, 1, 1, 0, 1, 1, 0, 0, 1, 0, 1, 1, 0, 0, 0, 1, 0, 0, 0, 0, 0, 0, 1, 0, 0, 0, 1, 0, 1, 1, 1, 0, 1, 0, 0, 1, 1, 0, 1, 0, 1, 1, 1, 1, 0, 0, 1, 0, 0, 0, 1, 1, 0, 0, 1, 0, 1, 1, 0, 1, 1, 1, 1, 1, 0, 1, 0, 1, 0, 1, 1, 0, 1, 1, 0, 1, 0, 1, 0, 0, 0, 1, 0, 1, 1, 0, 1, 1, 0, 0, 1, 0, 1, 1, 1, 1, 0, 1, 0, 1, 0, 0, 1, 0, 1, 1, 1, 0, 1, 0, 0, 0, 0, 1, 0, 1, 0, 1, 0, 0, 1, 1, 1, 1, 0, 0, 1, 1, 1, 0, 0, 1, 1, 1, 1, 0, 1, 1, 0, 1, 1, 0, 1, 0, 0, 1, 1, 1, 0, 0, 1, 0, 1, 0, 1, 1, 1, 0, 0, 0, 0, 0, 0, 0, 1, 1, 1, 1, 0, 0, 1, 1, 1, 1, 1, 0, 0, 0, 0, 0, 0, 0, 0, 0, 1, 0, 0, 1, 1, 0, 0, 1, 1, 1, 1, 1, 1, 0, 1, 1, 1, 0, 0, 0, 1, 0, 0, 1, 0, 0, 0, 1, 0, 0, 1, 0, 0, 0, 0, 0, 0, 1, 1, 1, 0, 0, 0, 1, 0, 1, 1, 0, 1, 0, 1, 1, 0, 1, 0, 0, 0, 1, 0, 1, 1, 1, 1, 1, 0, 1, 1, 1, 0, 0, 1, 1, 0, 0, 0, 0, 1, 0, 0, 0, 0, 0, 1, 0, 1, 0, 1, 1, 1, 0, 1, 0, 0, 0, 0, 0, 0, 0, 1, 0, 1, 0, 1, 1, 0, 1, 0, 0, 1, 0, 1, 1, 1, 0, 0, 1, 1, 0, 0, 1, 1, 1, 1, 1, 0, 0, 1, 1, 0, 1, 1, 1, 1, 1, 1, 1, 1, 1, 1, 1, 0, 0, 1, 0, 1, 0, 1, 0, 0, 0, 0, 0, 1, 1, 0, 1, 0, 0, 1, 0, 1, 1, 0, 1, 1, 0, 0, 1, 0, 0, 0, 0, 1, 0, 0, 1, 1, 1, 0, 1, 0, 0, 0, 0, 0, 0, 0, 0, 0, 0, 1, 0, 0, 0, 1, 1, 0, 0, 1, 0, 1, 0, 0, 0, 0, 0, 0, 0, 0, 1, 0, 1, 1, 0, 1, 1, 0, 0, 0, 1, 1, 0, 1, 0, 0, 0, 1, 1, 0, 1, 1, 0, 1, 1, 0, 1, 1, 0, 0, 1, 0, 0, 0, 0, 0, 0, 1, 1, 1, 1, 1, 1, 1, 0, 0, 0, 0, 0, 1, 0, 1, 1, 0, 0, 1, 1, 0, 0, 1, 0, 0, 0, 0, 1, 1, 0, 0, 0, 1, 0, 1, 1, 1, 1, 0, 1, 0, 1, 0, 1, 1, 1, 1, 1, 0, 0, 0, 0, 0, 0, 0, 1, 1, 1, 0, 0, 1, 0, 1, 1, 0, 1, 1, 1, 0, 0, 1, 1, 1, 0, 1, 1, 1, 0, 1, 0, 1, 1, 0, 1, 1, 1, 0, 0, 1, 0, 0, 0, 1, 1, 0, 0, 0, 0, 0, 0, 1, 1, 0, 1, 1, 1, 0, 0, 1, 0, 0, 1, 1, 1, 0, 0, 1, 0, 1, 0, 1, 1, 0, 0, 0, 0, 0, 0, 1, 0, 0, 0, 0, 0, 1, 0, 0, 1, 0, 1, 0, 0, 0, 0, 1, 1, 1, 1, 1, 1, 1, 1, 0, 1, 0, 1, 0, 0, 0, 0, 0, 0, 1, 0, 1, 1, 1, 0, 0, 1, 0, 1, 0, 1, 1, 1, 1, 1, 1, 0, 1, 1, 0, 1, 1, 1, 1, 0, 0, 0, 0, 0, 0, 0, 1, 0, 0, 1, 1, 0, 0, 0, 0, 1, 1, 1, 0, 0, 0, 1, 1, 0, 0, 1, 1, 1, 0, 1, 0, 1, 1, 0, 0, 1, 1, 1, 1, 1, 1, 0, 0, 1, 0, 0, 0, 1, 1, 0, 1, 0, 1, 1, 1, 0, 0, 0, 0, 0, 0, 0, 1, 1, 1, 1, 1, 1, 0, 1, 1, 1, 0, 1, 0, 1, 0, 0, 1, 0, 1, 1, 1, 1, 0, 1, 1, 1, 1, 0, 1, 0, 1, 1, 0, 1, 0, 1, 1, 1, 1, 1, 0, 1, 1, 1, 1, 1, 1, 0, 1, 1, 0, 1, 1, 0, 0, 0, 0, 0, 1, 1, 0, 1, 1, 0, 0, 0, 1, 1, 1, 1, 0, 1, 0, 1, 0, 0, 1, 1, 0, 0, 0, 0, 0, 1, 1, 1, 0, 1, 1, 1, 1, 0, 0, 0, 0, 1, 1, 1, 1, 1, 1, 1, 1, 1, 0, 0, 0, 1, 1, 1, 0, 1, 1, 0, 1, 1, 1, 0, 1, 1, 0, 0, 0, 0, 0, 0, 1, 1, 1, 0, 0, 0, 0, 1, 1, 1, 0, 1, 0, 0, 0, 0, 1, 1, 0, 0, 0, 0, 1, 1, 1, 0, 0, 0, 1, 1, 0, 0, 0, 1, 1, 0, 0, 0, 1, 1, 1, 0, 0, 1, 0, 0, 1, 0, 1, 1, 0, 0, 0, 1, 0, 1, 0, 0, 1, 0, 0, 0, 1, 1, 0, 0, 0, 1, 1, 1, 1, 1, 1, 0, 0, 1, 0, 0, 0, 1, 1, 0, 0, 1, 1, 1, 1, 0, 1, 0, 0, 0, 0, 1, 0, 1, 0, 1, 0, 1, 1, 0, 1, 0, 1, 1, 1, 1, 0, 1, 0, 1, 0, 1, 0, 1, 0, 0, 0, 1, 1, 0, 1, 0, 0, 1, 1, 1, 0, 1, 1, 1, 0, 1, 1, 1, 0, 0, 0, 0, 1, 1, 1, 1, 1, 1, 0, 1, 0, 1, 1, 0, 1, 0, 0, 0, 0, 0, 1, 0, 1, 1, 0, 0, 1, 1, 1, 0, 0, 1, 0, 0, 0, 1, 1, 1, 1, 1, 0, 1, 1, 1, 0, 0, 1, 1, 1, 1, 1, 1, 1, 0, 0, 1, 0, 1, 0, 1, 1, 1, 0, 1, 1, 0, 1, 0, 0, 0, 1, 1, 0, 1, 1, 0, 0, 1, 1, 0, 1, 1, 0, 1, 0, 1, 1, 1, 0, 0, 1, 0, 1, 1, 1, 0, 1, 0, 1, 0, 0, 0, 0, 0, 1, 1, 0, 1, 1, 0, 1, 0, 0, 0, 0, 1, 1, 0, 0, 1, 1, 1, 0, 1, 1, 1, 0, 0, 0, 1, 0, 1, 1, 1, 0, 1, 0, 1, 1, 0, 1, 1, 0, 0, 1, 0, 1, 1, 1, 1, 1, 0, 0, 0, 1, 0, 1, 0, 1, 1, 1, 1, 1, 1, 1, 0, 1, 1, 0, 1, 1, 0, 0, 0, 1, 1, 0, 0, 0, 1, 1, 0, 1, 1, 0, 0, 1, 1, 1, 1, 0, 1, 1, 0, 1, 0, 0, 1, 0, 0, 1, 1, 0, 1, 0, 0, 1, 1, 1, 0, 1, 1, 1, 1, 0, 1, 0, 0, 0, 0, 1, 1, 0, 0, 1, 0, 0, 0, 0, 1, 0, 1, 0, 1, 0, 0, 0, 1, 0, 0, 0, 0, 0, 0, 0, 0, 1, 1, 1, 1, 0, 1, 1, 0, 0, 1, 0, 1, 1, 0, 1, 0, 1, 1, 0, 0, 0, 0, 0, 0, 1, 1, 0, 0, 1, 1, 0, 1, 1, 0, 0, 1, 0, 1, 0, 0, 0, 0, 0, 1, 1, 1, 0, 0, 0, 0, 1, 0, 1, 0, 1, 0, 0, 0, 0, 0, 1, 1, 0, 0, 0, 0, 1, 1, 0, 1, 1, 1, 1, 1, 1, 1, 1, 1, 1, 0, 0, 0, 0, 0, 1, 1, 1, 0, 0, 0, 1, 0, 0, 1, 0, 1, 0, 0, 0, 1, 0, 1, 1, 1, 1, 1, 0, 1, 0, 1, 1, 0, 1, 1, 0, 1, 0, 1, 1, 1, 1, 1, 1, 0, 1, 1, 1, 0, 1, 1, 1, 1, 1, 1, 0, 0, 0, 1, 0, 1, 0, 1, 1, 0, 0, 0, 0, 1, 1, 0, 0, 1, 1, 1, 0, 0, 0, 0, 0, 1, 0, 1, 1, 1, 0, 1, 1, 1, 1, 1, 1, 0, 1, 1, 0, 0, 0, 0, 0, 0, 1, 1, 0, 0, 1, 0, 1, 0, 1, 0, 1, 1, 1, 0, 0, 0, 0, 1, 0, 0, 1, 0, 1, 1, 0, 0, 0, 1, 1, 1, 1, 1, 0, 1, 1, 0, 1, 1, 0, 0, 1, 1, 0, 0, 1, 1, 1, 1, 0, 0, 1, 1, 1, 1, 0, 0, 1, 1, 0, 1, 0, 1, 0, 1, 0, 0, 0, 0, 0, 0, 1, 0, 0, 1, 0, 0, 0, 1, 0, 1, 1, 0, 0, 1, 1, 0, 0, 0, 1, 0, 1, 0, 1, 1, 1, 1, 1, 0, 0, 0, 0, 0, 1, 0, 1, 1, 1, 1, 1, 0, 1, 1, 1, 0, 1, 1, 1, 1, 0, 1, 0, 1, 0, 1, 0, 1, 0, 0, 0, 0, 1, 0, 0, 0, 0, 1, 1, 0, 1, 0, 0, 0, 0, 0, 0, 1, 1, 0, 1, 0, 1, 0, 0, 0, 1, 0, 1, 1, 0, 0, 1, 0, 0, 0, 1, 0, 0, 0, 1, 0, 0, 0, 0, 0, 0, 0, 1, 0, 0, 0, 0, 0, 0, 0, 1, 0, 0, 1, 1, 0, 1, 1, 1, 0, 1, 0, 0, 1, 1, 1, 1, 0, 0, 0, 0, 0, 0, 1, 1, 1, 1, 0, 1, 1, 1, 1, 1, 1, 1, 1, 1, 0, 1, 0, 1, 1, 1, 1, 0, 0, 0, 1, 0, 0, 1, 1, 1, 1, 0, 1, 0, 1, 1, 0, 1, 1, 0, 0, 1, 1, 1, 0, 1, 0, 1, 1, 1, 0, 1, 1, 1, 0, 1, 0, 1, 1, 1, 0, 0, 0, 0, 1, 0, 1, 1, 0, 1, 0, 0, 1, 1, 0, 1, 1, 0, 1, 0, 0, 1, 1, 1, 1, 0, 1, 1, 1, 0, 1, 1, 0, 0, 1, 1, 0, 0, 1, 1, 0, 1, 1, 1, 0, 1, 1, 0, 1, 0, 1, 0, 1, 0, 1, 1, 0, 1, 0, 1, 0, 0, 1, 0, 1, 1, 0, 1, 1, 0, 1, 1, 1, 1, 0, 0, 1, 0, 1, 1, 0, 0, 1, 0, 1, 1, 1, 0, 1, 1, 0, 1, 1, 0, 1, 0, 1, 0, 1, 1, 0, 1, 0, 1, 1, 1, 1, 1, 0, 1, 0, 0, 0, 0, 1, 0, 0, 1, 0, 1, 1, 1, 0, 0, 1, 1, 0, 0, 1, 1, 0, 1, 1, 0, 1, 0, 0, 1, 0, 1, 1, 1, 1, 0, 0, 1, 1, 0, 0, 0, 1, 1, 0, 1, 0, 1, 1, 0, 1, 0, 1, 1, 1, 1, 1, 0, 0, 0, 0, 1, 0, 0, 0, 1, 1, 1, 1, 0, 1, 0, 1, 1, 0, 0, 0, 1, 1, 1, 0, 0, 1, 0, 1, 0, 0, 0, 0, 0, 1, 0, 1, 0, 0, 1, 0, 1, 0, 0, 1, 0, 0, 1, 0, 1, 1, 0, 1, 1, 0, 1, 1, 1, 1, 1, 1, 1, 1, 0, 1, 0, 0, 1, 0, 1, 1, 1, 1, 1, 0, 0, 0, 0, 0, 0, 0, 1, 0, 0, 1, 0, 0, 0, 0, 0, 0, 1, 0, 0, 1, 1, 1, 1, 0, 0, 0, 1, 1, 1, 1, 0, 0, 0, 1, 0, 1, 1, 1, 0, 1, 1, 1, 1, 0, 1, 1, 0, 0, 1, 1, 0, 1, 1, 0, 1, 0, 0, 1, 0, 1, 0, 1, 0, 0, 1, 1, 0, 0, 1, 0, 1, 0, 1, 0, 1, 1, 0, 0, 0, 0, 0, 0, 0, 0, 0, 0, 1, 0, 1, 1, 1, 0, 1, 0, 0, 1, 1, 0, 1, 1, 1, 1, 0, 0, 1, 0, 0, 0, 0, 0, 1, 0, 0, 0, 1, 0, 1, 1, 0, 1, 0, 1, 1, 1, 0, 1, 0, 0, 1, 1, 0, 0, 0, 1, 1, 1, 1, 1, 1, 1, 0, 0, 0, 1, 0, 0, 0, 0, 0, 0, 1, 1, 0, 0, 1, 0, 1, 0, 0, 0, 0, 1, 1, 1, 1, 0, 1, 1, 1, 1, 0, 1, 0, 0, 1, 0, 0, 0, 1, 0, 0, 1, 0, 1, 0, 0, 1, 0, 1, 0, 1, 1, 1, 0, 1, 0, 0, 1, 0, 1, 1, 0, 0, 0, 0, 0, 0, 0, 0, 1, 1, 0, 1, 0, 0, 0, 1, 0, 1, 1, 0, 0, 1, 1, 1, 1, 0, 1, 0, 0, 0, 1, 0, 1, 1, 0, 1, 1, 1, 0, 1, 0, 0, 1, 1, 0, 0, 0, 0, 0, 1, 1, 0, 0, 0, 0, 1, 0, 0, 1, 1, 1, 0, 0, 0, 1, 0, 1, 0, 1, 0, 0, 1, 0, 0, 1, 0, 1, 0, 0, 0, 1, 1, 0, 0, 1, 0, 0, 0, 0, 1, 1, 0, 0, 0, 0, 0, 1, 1, 1, 0, 0, 1, 0, 1, 1, 1, 0, 1, 0, 1, 1, 0, 0, 0, 1, 1, 1, 0, 1, 0, 1, 0, 1, 1, 0, 0, 0, 0, 1, 1, 0, 0, 1, 1, 1, 0, 1, 0, 0, 1, 0, 1, 0, 0, 0, 0, 1, 0, 1, 1, 1, 0, 1, 0, 1, 1, 1, 0, 0, 0, 0, 1, 1, 1, 0, 0, 0, 0, 0, 1, 0, 1, 0, 1, 1, 1, 1, 0, 0, 1, 1, 1, 0, 0, 0, 1, 0, 0, 1, 1, 1, 1, 0, 0, 0, 0, 0, 1, 1, 1, 1, 0, 1, 0, 1, 0, 1, 0, 0, 1, 1, 1, 1, 1, 0, 1, 1, 1, 1, 0, 1, 1, 0, 1, 1, 0, 1, 0, 0, 1, 1, 1, 1, 1, 0, 1, 0, 0, 0, 1, 1, 0, 1, 0, 0, 1, 1, 0, 0, 0, 1, 1, 1, 1, 0, 0, 0, 0, 0, 1, 0, 0, 0, 0, 0, 0, 0, 1, 1, 0, 1, 1, 1, 0, 0, 1, 1, 0, 1, 0, 0, 0, 1, 0, 0, 1, 1, 0, 1, 0, 1, 1, 1, 1, 0, 1, 0, 0, 1, 0, 1, 1, 0, 1, 0, 1, 0, 0, 1, 1, 0, 1, 0, 0, 1, 0, 1, 0, 0, 1, 1, 0, 0, 1, 0, 0, 0, 1, 0, 0, 0, 0, 1, 1, 0, 1, 0, 0, 0, 0, 1, 1, 0, 0, 1, 1, 1, 0, 1, 0, 0, 0, 1, 1, 0, 0, 1, 0, 0, 0, 0, 1, 0, 1, 0, 1, 1, 1, 0, 1, 0, 0, 0, 0, 1, 1, 1, 1, 1, 0, 1, 0, 0, 1, 1, 1, 0, 0, 0, 0, 1, 0, 0, 1, 1, 1, 0, 1, 0, 0, 1, 1, 0, 1, 0, 0, 0, 0, 0, 0, 1, 0, 0, 0, 0, 1, 0, 0, 1, 0, 1, 0, 1, 1, 1, 1, 0, 0, 1, 0, 0, 0, 1, 0, 0, 0, 0, 1, 1, 0, 1, 1, 1, 1, 1, 0, 0, 1, 1, 1, 1, 0, 1, 0, 0, 0, 1, 1, 0, 0, 1, 0, 0, 1, 0, 0, 0, 1, 1, 0, 0, 1, 0, 1, 1, 1, 0, 1, 1, 0, 1, 1, 0, 1, 1, 1, 1, 0, 1, 0, 0, 0, 1, 1, 1, 1, 1, 0, 1, 1, 0, 0, 0, 1, 1, 1, 0, 0, 1, 1, 1, 1, 1, 0, 0, 0, 1, 0, 1, 0, 1, 1, 1, 0, 0, 1, 1, 1, 0, 0, 0, 1, 1, 1, 0, 0, 1, 0, 1, 1, 0, 0, 1, 1, 1, 1, 1, 1, 1, 1, 0, 1, 0, 1, 1, 1, 0, 0, 0, 0, 0, 1, 0, 0, 0, 0, 0, 0, 0, 1, 0, 0, 1, 0, 0, 1, 1, 1, 0, 1, 0, 0, 0, 0, 0, 1, 0, 0, 1, 1, 1, 0, 1, 0, 0, 1, 1, 0, 1, 1, 1, 1, 1, 1, 0, 0, 0, 1, 0, 1, 1, 0, 0, 1, 0, 1, 0, 0, 0, 0, 0, 0, 1, 1, 0, 1, 0, 0, 0, 0, 0, 1, 0, 1, 0, 0, 1, 1, 1, 1, 0, 1, 1, 1, 0, 1, 0, 0, 0, 0, 0, 1, 0, 1, 1, 0, 0, 0, 0, 1, 1, 0, 0, 1, 0, 0, 0, 0, 0, 0, 1, 0, 1, 0, 0, 0, 0, 1, 0, 1, 1, 1, 0, 1, 0, 0, 1, 1, 1, 0, 1, 0, 1, 1, 0, 0, 1, 0, 0, 1, 0, 1, 0, 1, 0, 0, 0, 0, 1, 0, 0, 0, 0, 1, 1, 0, 1, 0, 1, 1, 0, 0, 0, 0, 1, 0, 0, 0, 1, 0, 0, 0, 0, 0, 1, 1, 0, 0, 0, 1, 1, 1, 0, 1, 0, 1, 1, 0, 0, 1, 0, 0, 0, 0, 0, 0, 1, 0, 0, 0, 0, 1, 0, 0, 0, 0, 1, 1, 1, 1, 0, 1, 1, 0, 1, 0, 0, 1, 0, 0, 1, 0, 1, 0, 0, 1, 0, 0, 0, 0, 0, 0, 0, 0, 1, 1, 0, 1, 1, 0, 0, 0, 1, 1, 0, 1, 0, 0, 1, 1, 0, 0, 0, 1, 0, 0, 1, 1, 0, 1, 1, 0, 1, 1, 0, 0, 0, 1, 0, 0, 1, 1, 1, 0, 1, 1, 0, 0, 1, 0, 1, 1, 1, 1, 1, 1, 1, 0, 0, 1, 0, 0, 1, 1, 0, 1, 0, 0, 0, 1, 1, 0, 0, 1, 1, 0, 1, 1, 1, 1, 0, 0, 0, 0, 0, 0, 1, 1, 0, 1, 1, 0, 1, 0, 1, 1, 0, 1, 1, 1, 0, 0, 0, 1, 1, 1, 1, 0, 1, 0, 1, 1, 1, 0, 1, 1, 0, 1, 1, 1, 0, 1, 1, 1, 1, 0, 0, 0, 0, 0, 1, 1, 0, 0, 0, 1, 0, 0, 0, 1, 0, 1, 0, 0, 1, 1, 1, 1, 1, 0, 0, 1, 0, 1, 0, 1, 0, 0, 1, 0, 1, 0, 0, 0, 1, 0, 0, 1, 1, 0, 0, 1, 0, 0, 0, 0, 0, 1, 1, 1, 1, 1, 0, 0, 0, 1, 0, 1, 0, 0, 1, 1, 0, 0, 0, 0, 1, 1, 1, 1, 1, 0, 1, 1, 1, 1, 0, 0, 0, 1, 1, 0, 0, 1, 0, 0, 1, 0, 0, 1, 1, 0, 1, 1, 1, 1, 1, 0, 1, 1, 1, 1, 1, 0, 1, 1, 0, 0, 1, 0, 1, 0, 0, 1, 0, 1, 0, 1, 1, 0, 0, 0, 0, 1, 1, 0, 1, 0, 1, 0, 0, 1, 1, 0, 1, 0, 0, 0, 0, 0, 1, 0, 0, 1, 1, 0, 1, 1, 0, 1, 0, 0, 0, 0, 1, 1, 1, 1, 1, 1, 0, 1, 0, 1, 0, 1, 0, 0, 1, 1, 1, 0, 1, 1, 0, 1, 0, 1, 0, 1, 1, 0, 1, 0, 0, 0, 0, 1, 1, 0, 0, 1, 1, 0, 1, 0, 1, 0, 1, 1, 1, 0, 0, 1, 0, 0, 1, 1, 1, 1, 1, 1, 0, 0, 1, 1, 0, 1, 0, 1, 0, 1, 1, 1, 1, 0, 1, 1, 0, 1, 0, 0, 0, 0, 0, 1, 1, 0, 0, 1, 1, 0, 1, 1, 1, 0, 1, 1, 0, 1, 0, 1, 1, 0, 0, 0, 0, 1, 0, 0, 1, 1, 1, 0, 1, 0, 1, 1, 1, 0, 0, 1, 0, 0, 1, 0, 1, 0, 1, 0, 1, 0, 1, 1, 1, 1, 1, 0, 1, 0, 0, 0, 0, 0, 1, 1, 1, 0, 1, 0, 0, 1, 1, 1, 1, 0, 1, 0, 0, 0, 1, 0, 0, 1, 0, 0, 1, 0, 0, 1, 0, 1, 1, 1, 1, 1, 1, 0, 0, 1, 0, 1, 1, 1, 0, 0, 0, 0, 1, 1, 1, 1, 1, 0, 1, 1, 0, 0, 0, 0, 1, 0, 1, 0, 0, 1, 1, 0, 0, 0, 1, 1, 1, 1, 0, 1, 0, 0, 0, 1, 1, 0, 1, 0, 0, 1, 1, 0, 0, 0, 1, 1, 1, 1, 0, 1, 1, 1, 0, 0, 1, 1, 0, 0, 1, 0, 0, 0, 0, 0, 1, 1, 1, 1, 1, 1, 1, 0, 1, 1, 0, 1, 1, 0, 0, 0, 0, 0, 0, 0, 1, 0, 0, 1, 0, 1, 0, 0, 0, 0, 0, 1, 0, 1, 1, 0, 0, 1, 1, 0, 0, 0, 0, 0, 0, 0, 0, 0, 0, 1, 1, 1, 1, 1, 0, 1, 1, 1, 0, 0, 0, 0, 0, 1, 0, 0, 0, 1, 0, 1, 1, 0, 0, 0, 1, 1, 1, 0, 1, 1, 1, 1, 1, 1, 1, 0, 1, 0, 1, 0, 0, 1, 0, 0, 1, 0, 1, 1, 0, 0, 0, 0, 1, 1, 0, 0, 1, 1, 0, 0, 0, 0, 1, 1, 1, 0, 0, 1, 1, 0, 0, 1, 0, 0, 1, 1, 0, 0, 1, 0, 1, 1, 0, 1, 0, 1, 0, 1, 0, 1, 0, 0, 0, 1, 1, 0, 0, 1, 0, 0, 0, 1, 0, 1, 0, 0, 1, 1, 1, 1, 0, 0, 0, 1, 1, 1, 0, 1, 1, 1, 1, 1, 1, 0, 0, 0, 1, 0, 0, 1, 1, 1, 1, 1, 1, 1, 1, 1, 1, 0, 1, 0, 0, 1, 0, 0, 0, 0, 1, 0, 0, 0, 1, 0, 0, 0, 0, 1, 0, 0, 1, 1, 1, 1, 1, 0, 1, 0, 1, 1, 0, 0, 1, 1, 1, 0, 1, 0, 1, 0, 0, 1, 0, 1, 0, 1, 1, 1, 1, 0, 1, 0, 0, 0, 1, 1, 1, 1, 1, 1, 1, 0, 1, 0, 1, 0, 0, 0, 1, 1, 1, 0, 0, 0, 1, 0, 0, 0, 0, 1, 0, 0, 0, 1, 1, 1, 0, 0, 0, 1, 1, 1, 0, 1, 1, 0, 0, 1, 1, 0, 1, 1, 0, 0, 0, 1, 0, 0, 0, 0, 0, 1, 0, 0, 1, 0, 1, 1, 0, 1, 1, 0, 1, 0, 0, 1, 0, 0, 1, 1, 1, 0, 0, 0, 1, 0, 1, 1, 1, 1, 0, 1, 1, 0, 0, 1, 1, 0, 0, 0, 0, 0, 1, 0, 1, 1, 0, 0, 0, 0, 1, 0, 1, 0, 0, 1, 0, 0, 0, 0, 0, 1, 0, 1, 0, 1, 1, 0, 0, 1, 0, 1, 0, 1, 0, 0, 1, 0, 1, 0, 0, 1, 1, 0, 0, 1, 1, 0, 1, 1, 0, 0, 1, 0, 0, 0, 1, 0, 0, 1, 0, 1, 1, 1, 0, 0, 1, 0, 1, 1, 0, 0, 0, 0, 0, 0, 1, 0, 1, 1, 0, 1, 0, 1, 0, 0, 0, 1, 0, 0, 1, 0, 1, 1, 0, 1, 0, 1, 1, 1, 1, 0, 0, 0, 1, 1, 1, 0, 0, 1, 0, 1, 1, 0, 1, 0, 0, 0, 0, 1, 1, 1, 1, 1, 0, 1, 1, 1, 0, 0, 1, 0, 1, 1, 1, 0, 0, 1, 1, 0, 0, 0, 0, 1, 0, 1, 1, 1, 0, 1, 1, 0, 1, 0, 0, 1, 0, 0, 1, 0, 0, 0, 1, 1, 0, 1, 0, 1, 1, 1, 0, 1, 0, 1, 1, 0, 0, 0, 1, 0, 0, 1, 0, 1, 1, 1, 0, 0, 1, 0, 1, 1, 1, 0, 1, 0, 0, 0, 0, 0, 1, 1, 1, 0, 0, 0, 1, 1, 1, 0, 1, 1, 0, 0, 0, 0, 0, 0, 0, 1, 1, 1, 0, 0, 0, 0, 1, 0, 1, 1, 1, 1, 1, 0, 0, 1, 1, 1, 1, 1, 1, 1, 1, 1, 1, 0, 1, 1, 1, 0, 1, 0, 0, 1, 1, 1, 0, 1, 1, 1, 1, 1, 1, 1, 1, 1, 1, 1, 1, 0, 0, 1, 0, 0, 0, 0, 0, 1, 0, 0, 1, 1, 1, 0, 1, 1, 1, 1, 0, 0, 1, 0, 0, 0, 1, 1, 1, 0, 0, 1, 1, 0, 0, 1, 0, 0, 1, 1, 0, 0, 0, 1, 1, 0, 0, 0, 1, 1, 0, 1, 0, 0, 0, 0, 1, 0, 0, 1, 1, 1, 1, 0, 0, 1, 0, 0, 0, 0, 0, 1, 1, 0, 0, 0, 1, 1, 0, 1, 0, 0, 0, 1, 1, 0, 0, 1, 1, 1, 0, 0, 1, 1, 0, 0, 1, 1, 1, 0, 1, 0, 1, 0, 1, 1, 0, 0, 1, 1, 1, 0, 1, 0, 0, 1, 1, 1, 0, 0, 0, 0, 0, 1, 1, 0, 1, 0, 1, 0, 1, 0, 1, 1, 0, 1, 1, 0, 0, 0, 1, 0, 0, 1, 1, 1, 1, 0, 1, 1, 0, 1, 1, 0, 0, 0, 1, 0, 0, 1, 0, 1, 0, 0, 0, 1, 1, 1, 1, 0, 0, 0, 0, 0, 1, 1, 0, 1, 0, 0, 0, 1, 0, 1, 1, 0, 1, 0, 1, 1, 0, 1, 0, 1, 1, 0, 1, 1, 1, 0, 0, 1, 0, 1, 1, 1, 0, 1, 1, 0, 1, 0, 0, 0, 0, 0, 1, 1, 1, 0, 1, 1, 0, 0, 1, 0, 0, 0, 0, 1, 1, 0, 0, 1, 0, 1, 0, 1, 1, 0, 1, 0, 1, 1, 0, 0, 1, 1, 0, 0, 0, 0, 1, 0, 1, 1, 1, 0, 0, 1, 1, 1, 1, 1, 1, 0, 1, 1, 0, 1, 0, 0, 0, 1, 0, 0, 1, 0, 0, 0, 0, 0, 1, 0, 0, 1, 0, 1, 1, 0, 0, 0, 1, 1, 0, 0, 0, 0, 1, 0, 0, 0, 1, 0, 0, 0, 1, 0, 1, 1, 0, 1, 0, 1, 0, 1, 0, 1, 0, 0, 0, 1, 1, 0, 1, 0, 0, 1, 1, 0, 0, 1, 1, 1, 1, 0, 1, 1, 1, 1, 0, 0, 1, 1, 1, 0, 0, 0, 0, 0, 1, 0, 0, 1, 0, 1, 1, 0, 1, 0, 0, 0, 1, 0, 1, 0, 0, 0, 1, 0, 0, 0, 0, 0, 1, 0, 1, 0, 0, 1, 0, 0, 1, 0, 0, 1, 0, 0, 1, 0, 1, 1, 0, 1, 0, 0, 0, 1, 1, 1, 0, 1, 0, 0, 1, 1, 1, 1, 1, 0, 0, 1, 1, 1, 1, 0, 0, 1, 1, 1, 0, 1, 0, 1, 0, 1, 0, 0, 1, 1, 1, 1, 1, 1, 0, 0, 0, 0, 0, 1, 1, 0, 1, 1, 0, 0, 0, 1, 1, 0, 1, 1, 0, 0, 1, 1, 1, 1, 1, 0, 0, 1, 1, 1, 1, 0, 1, 1, 1, 1, 1, 1, 1, 0, 0, 0, 1, 0, 1, 0, 1, 1, 1, 1, 1, 0, 1, 1, 0, 1, 1, 1, 0, 1, 0, 0, 0, 0, 1, 1, 0, 0, 0, 1, 0, 1, 0, 1, 0, 1, 0, 0, 0, 0, 0, 0, 0, 1, 1, 0, 0, 0, 1, 0, 1, 0, 0, 1, 1, 1, 0, 0, 0, 0, 0, 0, 0, 1, 0, 1, 0, 1, 1, 0, 1, 1, 0, 1, 1, 0, 1, 1, 1, 1, 0, 0, 0, 1, 0, 1, 0, 1, 0, 1, 0, 1, 1, 0, 1, 0, 0, 0, 0, 0, 1, 1, 0, 0, 0, 0, 0, 0, 1, 1, 1, 1, 1, 1, 0, 1, 0, 1, 0, 0, 0, 0, 0, 0, 1, 0, 0, 1, 0, 0, 1, 1, 0, 1, 1, 0, 1, 1, 0, 1, 1, 0, 0, 0, 0, 1, 0, 0, 1, 1, 0, 1, 1, 0, 1, 1, 1, 0, 1, 0, 1, 0, 0, 1, 1, 0, 0, 0, 0, 1, 1, 0, 1, 1, 0, 0, 1, 1, 1, 1, 1, 1, 1, 0, 0, 1, 0, 0, 0, 0, 0, 1, 0, 1, 0, 1, 1, 1, 1, 1, 0, 0, 0, 0, 1, 0, 0, 0, 1, 0, 0, 0, 1, 0, 0, 1, 0, 1, 1, 1, 1, 1, 1, 1, 0, 0, 0, 1, 0, 1, 0, 0, 0, 0, 1, 0, 1, 1, 0, 1, 0, 1, 0, 1, 0, 0, 0, 1, 1, 0, 0, 0, 1, 1, 1, 1, 0, 0, 1, 1, 1, 0, 1, 0, 0, 1, 1, 0, 0, 0, 0, 0, 1, 1, 1, 0, 1, 1, 0, 1, 1, 0, 0, 1, 1, 0, 1, 0, 0, 0, 1, 1, 0, 0, 0, 0, 0, 1, 0, 0, 0, 1, 0, 0, 1, 1, 1, 1, 1, 0, 1, 0, 1, 1, 1, 1, 1, 0, 1, 0, 1, 0, 1, 0, 0, 0, 1, 1, 1, 1, 0, 1, 0, 0, 1, 1, 0, 1, 0, 0, 0, 0, 1, 0, 0, 0, 1, 0, 0, 0, 0, 1, 1, 1, 1, 0, 0, 1, 0, 1, 1, 0, 0, 0, 0, 1, 1, 1, 1, 0, 0, 0, 0, 0, 1, 0, 0, 1, 0, 1, 1, 1, 0, 0, 0, 0, 0, 1, 1, 1, 0, 1, 1, 0, 1, 1, 1, 0, 1, 1, 1, 1, 1, 0, 1, 1, 1, 0, 0, 0, 1, 0, 1, 0, 1, 0, 0, 1, 0, 1, 1, 1, 0, 0, 0, 0, 0, 1, 0, 0, 1, 0, 0, 1, 1, 0, 0, 0, 0, 1, 1, 0, 0, 1, 0, 0, 0, 1, 0, 1, 0, 1, 0, 1, 1, 0, 1, 0, 0, 1, 0, 1, 0, 0, 0, 1, 0, 1, 0, 0, 0, 1, 1, 1, 1, 1, 1, 1, 0, 0, 0, 1, 1, 1, 0, 0, 0, 1, 1, 1, 0, 0, 1, 0, 0, 0, 0, 1, 0, 0, 1, 0, 1, 1, 1, 1, 1, 0, 1, 0, 0, 0, 1, 1, 1, 0, 1, 1, 0, 0, 0, 1, 0, 0, 0, 1, 0, 1, 1, 0, 0, 0, 0, 0, 0, 0, 1, 0, 1, 1, 0, 0, 0, 1, 0, 1, 1, 1, 0, 0, 0, 1, 0, 1, 1, 0, 0, 0, 0, 0, 0, 1, 1, 0, 1, 1, 1, 0, 0, 0, 0, 0, 1, 0, 1, 1, 1, 1, 0, 0, 1, 1, 0, 0, 0, 0, 0, 1, 1, 0, 0, 0, 1, 1, 0, 1, 1, 1, 0, 0, 0, 1, 1, 0, 1, 1, 0, 0, 0, 1, 1, 1, 1, 1, 1, 1, 0, 0, 1, 0, 1, 1, 0, 1, 1, 0, 0, 0, 0, 0, 0, 0, 0, 0, 1, 1, 1, 1, 1, 0, 1, 0, 0, 1, 1, 1, 1, 0, 0, 0, 0, 0, 1, 1, 1, 1, 1, 1, 1, 1, 1, 0, 0, 1, 1, 0, 1, 0, 0, 0, 0, 0, 1, 1, 0, 0, 1, 1, 1, 1, 0, 0, 0, 0, 0, 0, 1, 1, 0, 0, 0, 1, 1, 0, 0, 1, 0, 1, 0, 0, 0, 0, 1, 1, 1, 0, 1, 1, 0, 1, 0, 0, 0, 0, 1, 1, 0, 0, 0, 1, 1, 1, 0, 0, 0, 0, 1, 0, 1, 1, 1, 0, 1, 0, 0, 0, 1, 1, 0, 1, 1, 1, 1, 1, 0, 1, 0, 0, 1, 0, 0, 0, 1, 1, 0, 1, 1, 1, 0, 1, 1, 0, 1, 1, 0, 0, 1, 0, 1, 1, 1, 0, 0, 0, 1, 1, 1, 1, 1, 1, 1, 1, 0, 0, 0, 1, 0, 1, 0, 0, 0, 1, 0, 1, 1, 0, 0, 0, 0, 1, 0, 1, 0, 1, 1, 0, 0, 0, 0, 1, 0, 1, 1, 0, 1, 1, 1, 1, 0, 0, 1, 1, 0, 0, 0, 0, 1, 1, 0, 1, 1, 0, 0, 1, 0, 0, 0, 0, 0, 1, 0, 1, 1, 0, 1, 0, 0, 1, 1, 0, 1, 0, 0, 0, 1, 1, 0, 0, 1, 0, 0, 1, 1, 1, 1, 0, 0, 0, 1, 0, 1, 1, 0, 0, 1, 1, 1, 0, 1, 0, 0, 0, 1, 0, 1, 0, 0, 0, 1, 1, 1, 1, 0, 0, 0, 0, 1, 0, 0, 1, 0, 0, 0, 0, 0, 1, 1, 0, 1, 0, 1, 0, 1, 1, 1, 0, 1, 0, 1, 1, 1, 1, 0, 0, 0, 0, 0, 0, 0, 0, 0, 1, 0, 1, 1, 1, 0, 1, 0, 0, 0, 0, 0, 0, 1, 1, 0, 0, 0, 1, 0, 1, 1, 0, 1, 0, 0, 1, 1, 0, 0, 1, 0, 1, 1, 0, 1, 1, 1, 0, 0, 0, 0, 1, 1, 1, 0, 0, 0, 0, 0, 1, 0, 0, 1, 1, 1, 1, 1, 0, 1, 1, 0, 1, 0, 1, 1, 1, 1, 1, 1, 0, 0, 1, 1, 1, 1, 1, 0, 0, 1, 0, 0, 0, 1, 0, 0, 0, 1, 0, 1, 1, 0, 0, 1, 1, 0, 1, 1, 1, 0, 1, 1, 0, 0, 0, 1, 1, 0, 1, 0, 1, 1, 1, 1, 1, 1, 1, 0, 0, 1, 0, 1, 0, 0, 1, 0, 0, 1, 0, 0, 1, 0, 0, 1, 1, 1, 1, 0, 1, 0, 1, 1, 0, 0, 1, 0, 0, 1, 0, 1, 1, 1, 1, 0, 1, 0, 0, 1, 1, 0, 1, 1, 1, 1, 1, 1, 1, 1, 0, 0, 0, 1, 0, 1, 1, 0, 0, 0, 0, 0, 0, 1, 1, 1, 1, 0, 0, 0, 0, 1, 1, 0, 1, 1, 1, 1, 1, 1, 1, 1, 0, 1, 0, 0, 1, 0, 0, 0, 0, 0, 0, 0, 0, 0, 0, 1, 1, 0, 0, 1, 1, 1, 0, 0, 1, 0, 0, 1, 0, 1, 1, 1, 0, 0, 0, 0, 1, 1, 0, 1, 1, 0, 0, 1, 1, 1, 1, 1, 1, 0, 1, 0, 1, 0, 0, 0, 0, 1, 1, 0, 1, 1, 1, 0, 1, 1, 1, 0, 0, 0, 0, 0, 1, 1, 0, 0, 0, 0, 1, 0, 1, 1, 1, 1, 1, 0, 1, 1, 1, 1, 1, 0, 1, 1, 1, 0, 1, 0, 0, 0, 0, 0, 1, 1, 0, 0, 1, 1, 1, 1, 1, 0, 1, 1, 0, 0, 1, 1, 0, 1, 0, 1, 0, 0, 0, 1, 0, 0, 0, 0, 0, 1, 0, 0, 0, 1, 1, 1, 1, 1, 0, 0, 0, 1, 0, 0, 0, 0, 1, 1, 0, 1, 1, 1, 1, 0, 0, 1, 0, 0, 1, 1, 0, 1, 0, 1, 1, 0, 0, 1, 0, 0, 0, 0, 1, 1, 0, 0, 1, 1, 0, 1, 0, 1, 1, 1, 1, 0, 1, 0, 0, 0, 0, 1, 0, 1, 1, 1, 0, 0, 1, 0, 0, 0, 1, 1, 1, 0, 1, 0, 0, 1, 0, 0, 0, 0, 0, 0, 1, 1, 1, 1, 0, 0, 0, 1, 1, 1, 0, 0, 0, 1, 0, 1, 1, 0, 1, 0, 0, 0, 1, 0, 1, 1, 0, 1, 0, 0, 0, 0, 1, 1, 0, 0, 1, 1, 0, 0, 0, 0, 1, 1, 1, 1, 1, 1, 0, 0, 1, 0, 0, 1, 0, 0, 0, 1, 0, 0, 0, 1, 1, 1, 1, 1, 0, 0, 1, 0, 1, 1, 1, 1, 1, 0, 1, 1, 0, 1, 0, 1, 1, 1, 1, 0, 1, 0, 1, 1, 1, 1, 1, 0, 0, 0, 0, 0, 0, 0, 0, 0, 0, 1, 0, 0, 0, 1, 0, 0, 1, 0, 1, 1, 0, 1, 1, 1, 1, 0, 0, 1, 1, 1, 1, 0, 0, 0, 0, 1, 1, 0, 1, 0, 0, 0, 1, 0, 0, 1, 0, 1, 1, 1, 0, 1, 1, 1, 0, 1, 0, 1, 1, 1, 0, 1, 1, 0, 1, 1, 0, 1, 0, 0, 0, 1, 0, 1, 0, 1, 0, 1, 0, 0, 0, 0, 1, 0, 1, 0, 0, 0, 0, 0, 1, 1, 0, 1, 1, 0, 1, 1, 1, 0, 1, 0, 0, 1, 1, 0, 0, 0, 1, 1, 1, 0, 0, 0, 1, 1, 1, 0, 1, 1, 1, 1, 0, 1, 0, 1, 1, 1, 1, 0, 0, 1, 1, 1, 1, 1, 0, 1, 0, 0, 0, 0, 0, 1, 1, 1, 0, 0, 0, 0, 1, 0, 1, 1, 1, 0, 0, 0, 1, 1, 1, 0, 1, 1, 1, 1, 0, 1, 1, 1, 1, 1, 0, 0, 0, 0, 0, 0, 1, 0, 1, 0, 0, 1, 0, 0, 1, 0, 1, 0, 0, 0, 1, 1, 1, 0, 0, 1, 1, 0, 1, 1, 1, 1, 0, 0, 1, 0, 0, 1, 1, 1, 1, 1, 0, 1, 1, 0, 0, 1, 1, 1, 0, 1, 0, 1, 0, 1, 1, 0, 0, 0, 0, 1, 0, 0, 0, 0, 1, 0, 0, 0, 0, 1, 1, 1, 0, 0, 1, 0, 1, 0, 1, 0, 0, 1, 1, 1, 1, 0, 1, 0, 0, 1, 0, 0, 0, 1, 1, 0, 1, 1, 0, 0, 1, 1, 1, 0, 1, 0, 1, 0, 0, 1, 1, 0, 1, 0, 1, 1, 1, 0, 0, 1, 0, 0, 1, 1, 0, 0, 1, 0, 0, 0, 1, 1, 0, 1, 1, 1, 0, 1, 1, 0, 0, 0, 0, 0, 1, 0, 0, 0, 0, 0, 0, 1, 0, 0, 1, 0, 1, 0, 1, 1, 1, 0, 1, 0, 1, 0, 1, 1, 0, 0, 1, 0, 0, 1, 0, 0, 0, 1, 0, 1, 0, 1, 1, 1, 0, 1, 1, 0, 0, 1, 0, 1, 1, 0, 0, 0, 1, 0, 0, 0, 1, 1, 1, 0, 1, 1, 1, 1, 1, 1, 0, 0, 1, 1, 1, 0, 0, 1, 0, 0, 1, 0, 1, 0, 0, 1, 0, 0, 1, 1, 0, 1, 0, 0, 1, 0, 0, 0, 0, 0, 0, 1, 1, 0, 1, 0, 1, 1, 1, 0, 0, 1, 1, 1, 1, 1, 1, 1, 1, 0, 0, 0, 0, 0, 1, 0, 0, 1, 0, 0, 0, 1, 0, 0, 0, 0, 1, 1, 0, 1, 0, 0, 0, 1, 0, 1, 0, 0, 1, 0, 0, 1, 0, 0, 0, 0, 1, 1, 0, 1, 1, 0, 0, 0, 0, 1, 0, 0, 1, 0, 1, 1, 0, 0, 0, 0, 1, 1, 1, 1, 0, 0, 0, 0, 0, 1, 0, 0, 0, 1, 0, 0, 1, 1, 1, 1, 0, 1, 0, 1, 0, 1, 1, 1, 1, 1, 1, 1, 0, 1, 0, 0, 1, 1, 0, 0, 1, 0, 0, 0, 1, 1, 0, 0, 1, 1, 0, 0, 1, 1, 1, 0, 1, 0, 1, 1, 1, 0, 0, 1, 0, 1, 1, 1, 0, 0, 1, 0, 1, 0, 1, 1, 0, 0, 0, 1, 1, 0, 0, 1, 0, 1, 0, 0, 1, 0, 1, 1, 1, 1, 0, 0, 0, 0, 0, 1, 0, 0, 1, 1, 1, 1, 0, 0, 0, 0, 0, 1, 0, 0, 1, 1, 0, 1, 1, 0, 1, 0, 1, 0, 0, 1, 0, 0, 1, 0, 1, 0, 1, 0, 0, 0, 0, 0, 0, 0, 0, 0, 1, 1, 0, 1, 0, 0, 0, 1, 0, 1, 0, 0, 1, 0, 0, 0, 0, 0, 0, 0, 1, 0, 1, 1, 0, 1, 0, 1, 1, 0, 1, 1, 0, 1, 0, 1, 1, 1, 1, 1, 1, 1, 0, 0, 0, 1, 0, 1, 1, 0, 1, 0, 1, 1, 0, 1, 1, 1, 1, 0, 0, 1, 0, 0, 1, 0, 1, 0, 1, 0, 0, 0, 1, 0, 1, 0, 0, 1, 0, 1, 1, 1, 1, 0, 1, 1, 0, 0, 1, 1, 1, 0, 0, 0, 0, 0, 0, 0, 1, 1, 1, 1, 1, 1, 1, 0, 1, 1, 0, 0, 0, 0, 1, 1, 0, 0, 1, 0, 1, 0, 0, 1, 0, 1, 0, 0, 1, 0, 0, 0, 0, 0, 1, 1, 1, 1, 1, 1, 1, 0, 1, 1, 1, 0, 1, 1, 1, 0, 0, 1, 0, 1, 0, 1, 1, 1, 1, 0, 1, 0, 0, 1, 1, 1, 1, 1, 1, 1, 0, 1, 1, 1, 0, 1, 0, 1, 1, 1, 0, 1, 0, 1, 1, 0, 0, 0, 0, 1, 1, 0, 1, 0, 0, 1, 0, 0, 1, 1, 0, 0, 0, 1, 0, 0, 0, 0, 1, 0, 1, 1, 0, 0, 0, 1, 0, 1, 1, 0, 1, 0, 0, 1, 0, 1, 0, 1, 1, 0, 1, 0, 0, 1, 1, 0, 1, 1, 1, 0, 1, 0, 0, 0, 1, 1, 0, 0, 0, 0, 1, 0, 1, 0, 0, 1, 1, 0, 1, 1, 0, 1, 0, 0, 0, 1, 1, 1, 1, 1, 1, 1, 0, 1, 1, 1, 1, 0, 1, 1, 0, 0, 1, 1, 1, 0, 0, 1, 0, 0, 0, 1, 0, 1, 0, 0, 1, 0, 1, 0, 1, 1, 1, 1, 0, 0, 1, 0, 1, 0, 0, 0, 0, 0, 0, 0, 0, 0, 0, 1, 1, 0, 0, 0, 0, 1, 1, 0, 1, 1, 0, 0, 0, 1, 1, 1, 0, 1, 0, 0, 1, 1, 1, 1, 0, 1, 1, 0, 1, 0, 1, 0, 0, 0, 0, 1, 1, 0, 1, 0, 0, 1, 1, 0, 1, 1, 0, 1, 1, 1, 0, 1, 0, 0, 1, 1, 1, 1, 1, 0, 0, 1, 0, 0, 0, 1, 1, 1, 0, 0, 1, 0, 0, 1, 1, 1, 1, 1, 1, 1, 1, 1, 0, 0, 0, 0, 0, 1, 0, 1, 1, 1, 0, 0, 1, 0, 1, 1, 1, 0, 1, 1, 0, 1, 1, 1, 0, 1, 0, 1, 1, 0, 1, 0, 1, 1, 1, 0, 0, 0, 0, 1, 1, 1, 0, 0, 0, 0, 0, 1, 1, 1, 0, 0, 1, 1, 1, 0, 1, 0, 0, 0, 0, 1, 0, 1, 0, 1, 1, 0, 0, 1, 0, 1, 1, 0, 1, 0, 0, 1, 0, 0, 0, 1, 0, 0, 0, 0, 0, 1, 0, 1, 0, 1, 1, 0, 1, 1, 1, 0, 0, 0, 1, 0, 1, 1, 1, 0, 0, 1, 1, 0, 0, 1, 0, 1, 0, 1, 0, 0, 1, 0, 1, 1, 1, 0, 1, 1, 1, 0, 1, 0, 0, 0, 1, 0, 1, 1, 1, 0, 0, 0, 1, 1, 0, 0, 0, 1, 0, 1, 0, 1, 0, 0, 1, 0, 0, 0, 1, 1, 0, 1, 0, 0, 1, 0, 1, 1, 1, 0, 0, 0, 1, 0, 1, 0, 0, 0, 0, 0, 0, 0, 1, 0, 0, 1, 0, 0, 1, 0, 1, 0, 0, 1, 1, 1, 1, 0, 1, 1, 0, 1, 0]\n"
     ]
    }
   ],
   "source": [
    "threshold = 0.5\n",
    "for i in range(len(main_testy)):\n",
    "    if predictions_nbtest[i] >= threshold:\n",
    "        predictions_nbtest[i] =1\n",
    "        #print(\"inside if\")\n",
    "    else:\n",
    "        predictions_nbtest[i] = 0\n",
    "       # print(\"inside else\")\n",
    "    \n",
    "print(predictions_nbtest)"
   ]
  },
  {
   "cell_type": "code",
   "execution_count": 137,
   "metadata": {},
   "outputs": [
    {
     "data": {
      "text/plain": [
       "[0,\n",
       " 0,\n",
       " 0,\n",
       " 1,\n",
       " 0,\n",
       " 1,\n",
       " 0,\n",
       " 0,\n",
       " 1,\n",
       " 0,\n",
       " 0,\n",
       " 1,\n",
       " 1,\n",
       " 1,\n",
       " 1,\n",
       " 0,\n",
       " 1,\n",
       " 0,\n",
       " 1,\n",
       " 1,\n",
       " 1,\n",
       " 1,\n",
       " 0,\n",
       " 0,\n",
       " 0,\n",
       " 1,\n",
       " 1,\n",
       " 0,\n",
       " 1,\n",
       " 0,\n",
       " 1,\n",
       " 1,\n",
       " 1,\n",
       " 1,\n",
       " 0,\n",
       " 0,\n",
       " 0,\n",
       " 0,\n",
       " 1,\n",
       " 0,\n",
       " 1,\n",
       " 0,\n",
       " 0,\n",
       " 1,\n",
       " 0,\n",
       " 1,\n",
       " 0,\n",
       " 1,\n",
       " 1,\n",
       " 1,\n",
       " 0,\n",
       " 0,\n",
       " 1,\n",
       " 1,\n",
       " 1,\n",
       " 1,\n",
       " 1,\n",
       " 0,\n",
       " 0,\n",
       " 0,\n",
       " 0,\n",
       " 1,\n",
       " 1,\n",
       " 0,\n",
       " 0,\n",
       " 1,\n",
       " 0,\n",
       " 0,\n",
       " 1,\n",
       " 0,\n",
       " 1,\n",
       " 0,\n",
       " 0,\n",
       " 1,\n",
       " 0,\n",
       " 1,\n",
       " 0,\n",
       " 0,\n",
       " 0,\n",
       " 0,\n",
       " 0,\n",
       " 1,\n",
       " 1,\n",
       " 1,\n",
       " 0,\n",
       " 0,\n",
       " 0,\n",
       " 1,\n",
       " 0,\n",
       " 0,\n",
       " 1,\n",
       " 1,\n",
       " 0,\n",
       " 1,\n",
       " 1,\n",
       " 0,\n",
       " 0,\n",
       " 1,\n",
       " 1,\n",
       " 0,\n",
       " 0,\n",
       " 0,\n",
       " 1,\n",
       " 1,\n",
       " 1,\n",
       " 1,\n",
       " 1,\n",
       " 1,\n",
       " 0,\n",
       " 0,\n",
       " 0,\n",
       " 1,\n",
       " 1,\n",
       " 1,\n",
       " 0,\n",
       " 0,\n",
       " 0,\n",
       " 1,\n",
       " 1,\n",
       " 0,\n",
       " 0,\n",
       " 0,\n",
       " 1,\n",
       " 1,\n",
       " 1,\n",
       " 0,\n",
       " 1,\n",
       " 1,\n",
       " 0,\n",
       " 0,\n",
       " 0,\n",
       " 1,\n",
       " 0,\n",
       " 0,\n",
       " 1,\n",
       " 1,\n",
       " 0,\n",
       " 1,\n",
       " 0,\n",
       " 0,\n",
       " 0,\n",
       " 1,\n",
       " 0,\n",
       " 1,\n",
       " 0,\n",
       " 1,\n",
       " 0,\n",
       " 1,\n",
       " 1,\n",
       " 1,\n",
       " 1,\n",
       " 0,\n",
       " 0,\n",
       " 1,\n",
       " 0,\n",
       " 0,\n",
       " 0,\n",
       " 0,\n",
       " 1,\n",
       " 1,\n",
       " 1,\n",
       " 0,\n",
       " 0,\n",
       " 1,\n",
       " 1,\n",
       " 1,\n",
       " 0,\n",
       " 1,\n",
       " 1,\n",
       " 1,\n",
       " 1,\n",
       " 1,\n",
       " 0,\n",
       " 1,\n",
       " 0,\n",
       " 1,\n",
       " 0,\n",
       " 0,\n",
       " 0,\n",
       " 1,\n",
       " 0,\n",
       " 1,\n",
       " 1,\n",
       " 1,\n",
       " 0,\n",
       " 0,\n",
       " 1,\n",
       " 0,\n",
       " 0,\n",
       " 0,\n",
       " 1,\n",
       " 0,\n",
       " 1,\n",
       " 1,\n",
       " 0,\n",
       " 1,\n",
       " 1,\n",
       " 0,\n",
       " 0,\n",
       " 1,\n",
       " 0,\n",
       " 0,\n",
       " 0,\n",
       " 0,\n",
       " 0,\n",
       " 0,\n",
       " 1,\n",
       " 0,\n",
       " 0,\n",
       " 1,\n",
       " 0,\n",
       " 1,\n",
       " 1,\n",
       " 1,\n",
       " 1,\n",
       " 1,\n",
       " 0,\n",
       " 1,\n",
       " 1,\n",
       " 1,\n",
       " 0,\n",
       " 1,\n",
       " 1,\n",
       " 1,\n",
       " 1,\n",
       " 1,\n",
       " 0,\n",
       " 1,\n",
       " 1,\n",
       " 1,\n",
       " 0,\n",
       " 0,\n",
       " 0,\n",
       " 1,\n",
       " 0,\n",
       " 0,\n",
       " 1,\n",
       " 1,\n",
       " 1,\n",
       " 1,\n",
       " 0,\n",
       " 0,\n",
       " 0,\n",
       " 0,\n",
       " 1,\n",
       " 0,\n",
       " 1,\n",
       " 1,\n",
       " 1,\n",
       " 0,\n",
       " 0,\n",
       " 1,\n",
       " 0,\n",
       " 0,\n",
       " 0,\n",
       " 1,\n",
       " 0,\n",
       " 1,\n",
       " 0,\n",
       " 1,\n",
       " 1,\n",
       " 0,\n",
       " 0,\n",
       " 0,\n",
       " 1,\n",
       " 1,\n",
       " 1,\n",
       " 1,\n",
       " 1,\n",
       " 0,\n",
       " 1,\n",
       " 1,\n",
       " 1,\n",
       " 0,\n",
       " 0,\n",
       " 1,\n",
       " 1,\n",
       " 1,\n",
       " 0,\n",
       " 1,\n",
       " 0,\n",
       " 0,\n",
       " 0,\n",
       " 1,\n",
       " 1,\n",
       " 0,\n",
       " 0,\n",
       " 1,\n",
       " 1,\n",
       " 1,\n",
       " 1,\n",
       " 1,\n",
       " 0,\n",
       " 1,\n",
       " 0,\n",
       " 1,\n",
       " 1,\n",
       " 1,\n",
       " 0,\n",
       " 1,\n",
       " 0,\n",
       " 0,\n",
       " 0,\n",
       " 0,\n",
       " 0,\n",
       " 1,\n",
       " 0,\n",
       " 1,\n",
       " 0,\n",
       " 0,\n",
       " 1,\n",
       " 1,\n",
       " 1,\n",
       " 1,\n",
       " 1,\n",
       " 0,\n",
       " 1,\n",
       " 1,\n",
       " 0,\n",
       " 0,\n",
       " 1,\n",
       " 1,\n",
       " 1,\n",
       " 1,\n",
       " 1,\n",
       " 0,\n",
       " 1,\n",
       " 0,\n",
       " 0,\n",
       " 1,\n",
       " 1,\n",
       " 0,\n",
       " 1,\n",
       " 1,\n",
       " 0,\n",
       " 1,\n",
       " 0,\n",
       " 0,\n",
       " 1,\n",
       " 1,\n",
       " 0,\n",
       " 0,\n",
       " 0,\n",
       " 0,\n",
       " 0,\n",
       " 1,\n",
       " 1,\n",
       " 1,\n",
       " 0,\n",
       " 1,\n",
       " 0,\n",
       " 1,\n",
       " 0,\n",
       " 0,\n",
       " 1,\n",
       " 0,\n",
       " 0,\n",
       " 1,\n",
       " 1,\n",
       " 1,\n",
       " 0,\n",
       " 1,\n",
       " 0,\n",
       " 1,\n",
       " 1,\n",
       " 0,\n",
       " 0,\n",
       " 1,\n",
       " 1,\n",
       " 0,\n",
       " 1,\n",
       " 1,\n",
       " 0,\n",
       " 1,\n",
       " 1,\n",
       " 0,\n",
       " 0,\n",
       " 0,\n",
       " 1,\n",
       " 1,\n",
       " 0,\n",
       " 1,\n",
       " 1,\n",
       " 0,\n",
       " 1,\n",
       " 1,\n",
       " 0,\n",
       " 1,\n",
       " 1,\n",
       " 0,\n",
       " 1,\n",
       " 1,\n",
       " 1,\n",
       " 0,\n",
       " 0,\n",
       " 1,\n",
       " 1,\n",
       " 1,\n",
       " 0,\n",
       " 0,\n",
       " 1,\n",
       " 0,\n",
       " 0,\n",
       " 1,\n",
       " 1,\n",
       " 1,\n",
       " 0,\n",
       " 0,\n",
       " 1,\n",
       " 1,\n",
       " 1,\n",
       " 0,\n",
       " 1,\n",
       " 1,\n",
       " 1,\n",
       " 1,\n",
       " 1,\n",
       " 1,\n",
       " 1,\n",
       " 0,\n",
       " 0,\n",
       " 1,\n",
       " 0,\n",
       " 0,\n",
       " 0,\n",
       " 1,\n",
       " 1,\n",
       " 1,\n",
       " 1,\n",
       " 1,\n",
       " 0,\n",
       " 1,\n",
       " 0,\n",
       " 0,\n",
       " 0,\n",
       " 1,\n",
       " 0,\n",
       " 1,\n",
       " 1,\n",
       " 0,\n",
       " 0,\n",
       " 1,\n",
       " 0,\n",
       " 1,\n",
       " 1,\n",
       " 1,\n",
       " 0,\n",
       " 0,\n",
       " 1,\n",
       " 0,\n",
       " 0,\n",
       " 1,\n",
       " 0,\n",
       " 0,\n",
       " 0,\n",
       " 0,\n",
       " 0,\n",
       " 0,\n",
       " 0,\n",
       " 1,\n",
       " 1,\n",
       " 1,\n",
       " 1,\n",
       " 1,\n",
       " 1,\n",
       " 0,\n",
       " 1,\n",
       " 1,\n",
       " 1,\n",
       " 1,\n",
       " 0,\n",
       " 0,\n",
       " 0,\n",
       " 0,\n",
       " 0,\n",
       " 1,\n",
       " 1,\n",
       " 0,\n",
       " 0,\n",
       " 1,\n",
       " 1,\n",
       " 0,\n",
       " 1,\n",
       " 1,\n",
       " 1,\n",
       " 0,\n",
       " 0,\n",
       " 0,\n",
       " 1,\n",
       " 0,\n",
       " 0,\n",
       " 1,\n",
       " 0,\n",
       " 0,\n",
       " 1,\n",
       " 1,\n",
       " 0,\n",
       " 1,\n",
       " 0,\n",
       " 0,\n",
       " 1,\n",
       " 1,\n",
       " 0,\n",
       " 1,\n",
       " 0,\n",
       " 0,\n",
       " 0,\n",
       " 1,\n",
       " 1,\n",
       " 1,\n",
       " 0,\n",
       " 0,\n",
       " 0,\n",
       " 1,\n",
       " 0,\n",
       " 0,\n",
       " 0,\n",
       " 0,\n",
       " 0,\n",
       " 1,\n",
       " 0,\n",
       " 1,\n",
       " 1,\n",
       " 1,\n",
       " 1,\n",
       " 0,\n",
       " 1,\n",
       " 0,\n",
       " 1,\n",
       " 0,\n",
       " 0,\n",
       " 0,\n",
       " 0,\n",
       " 1,\n",
       " 1,\n",
       " 1,\n",
       " 1,\n",
       " 1,\n",
       " 1,\n",
       " 0,\n",
       " 1,\n",
       " 1,\n",
       " 1,\n",
       " 0,\n",
       " 1,\n",
       " 1,\n",
       " 0,\n",
       " 0,\n",
       " 0,\n",
       " 1,\n",
       " 0,\n",
       " 1,\n",
       " 0,\n",
       " 0,\n",
       " 0,\n",
       " 1,\n",
       " 1,\n",
       " 1,\n",
       " 1,\n",
       " 1,\n",
       " 0,\n",
       " 1,\n",
       " 0,\n",
       " 0,\n",
       " 1,\n",
       " 1,\n",
       " 1,\n",
       " 0,\n",
       " 1,\n",
       " 0,\n",
       " 1,\n",
       " 0,\n",
       " 1,\n",
       " 0,\n",
       " 0,\n",
       " 1,\n",
       " 0,\n",
       " 0,\n",
       " 1,\n",
       " 1,\n",
       " 1,\n",
       " 1,\n",
       " 0,\n",
       " 0,\n",
       " 1,\n",
       " 1,\n",
       " 0,\n",
       " 0,\n",
       " 0,\n",
       " 1,\n",
       " 0,\n",
       " 1,\n",
       " 0,\n",
       " 0,\n",
       " 0,\n",
       " 1,\n",
       " 0,\n",
       " 1,\n",
       " 1,\n",
       " 0,\n",
       " 1,\n",
       " 0,\n",
       " 1,\n",
       " 0,\n",
       " 0,\n",
       " 1,\n",
       " 1,\n",
       " 1,\n",
       " 0,\n",
       " 1,\n",
       " 0,\n",
       " 0,\n",
       " 0,\n",
       " 0,\n",
       " 0,\n",
       " 0,\n",
       " 0,\n",
       " 0,\n",
       " 0,\n",
       " 1,\n",
       " 1,\n",
       " 0,\n",
       " 1,\n",
       " 1,\n",
       " 1,\n",
       " 1,\n",
       " 1,\n",
       " 1,\n",
       " 0,\n",
       " 0,\n",
       " 1,\n",
       " 0,\n",
       " 1,\n",
       " 0,\n",
       " 1,\n",
       " 0,\n",
       " 1,\n",
       " 1,\n",
       " 0,\n",
       " 0,\n",
       " 1,\n",
       " 1,\n",
       " 0,\n",
       " 0,\n",
       " 0,\n",
       " 0,\n",
       " 1,\n",
       " 0,\n",
       " 1,\n",
       " 1,\n",
       " 1,\n",
       " 1,\n",
       " 0,\n",
       " 0,\n",
       " 0,\n",
       " 0,\n",
       " 1,\n",
       " 1,\n",
       " 1,\n",
       " 1,\n",
       " 1,\n",
       " 0,\n",
       " 1,\n",
       " 1,\n",
       " 0,\n",
       " 1,\n",
       " 0,\n",
       " 1,\n",
       " 0,\n",
       " 0,\n",
       " 0,\n",
       " 1,\n",
       " 1,\n",
       " 0,\n",
       " 1,\n",
       " 1,\n",
       " 1,\n",
       " 1,\n",
       " 0,\n",
       " 0,\n",
       " 1,\n",
       " 1,\n",
       " 1,\n",
       " 1,\n",
       " 1,\n",
       " 1,\n",
       " 1,\n",
       " 0,\n",
       " 0,\n",
       " 1,\n",
       " 0,\n",
       " 1,\n",
       " 1,\n",
       " 1,\n",
       " 1,\n",
       " 1,\n",
       " 0,\n",
       " 0,\n",
       " 0,\n",
       " 0,\n",
       " 0,\n",
       " 0,\n",
       " 0,\n",
       " 0,\n",
       " 0,\n",
       " 0,\n",
       " 1,\n",
       " 0,\n",
       " 0,\n",
       " 1,\n",
       " 1,\n",
       " 0,\n",
       " 1,\n",
       " 0,\n",
       " 1,\n",
       " 0,\n",
       " 0,\n",
       " 0,\n",
       " 0,\n",
       " 1,\n",
       " 1,\n",
       " 1,\n",
       " 0,\n",
       " 0,\n",
       " 0,\n",
       " 1,\n",
       " 1,\n",
       " 1,\n",
       " 0,\n",
       " 1,\n",
       " 1,\n",
       " 1,\n",
       " 0,\n",
       " 0,\n",
       " 1,\n",
       " 1,\n",
       " 0,\n",
       " 0,\n",
       " 0,\n",
       " 0,\n",
       " 1,\n",
       " 0,\n",
       " 1,\n",
       " 0,\n",
       " 0,\n",
       " 1,\n",
       " 1,\n",
       " 0,\n",
       " 0,\n",
       " 1,\n",
       " 1,\n",
       " 1,\n",
       " 1,\n",
       " 1,\n",
       " 1,\n",
       " 0,\n",
       " 0,\n",
       " 0,\n",
       " 1,\n",
       " 0,\n",
       " 0,\n",
       " 0,\n",
       " 0,\n",
       " 1,\n",
       " 0,\n",
       " 1,\n",
       " 0,\n",
       " 0,\n",
       " 1,\n",
       " 0,\n",
       " 0,\n",
       " 1,\n",
       " 0,\n",
       " 0,\n",
       " 0,\n",
       " 1,\n",
       " 0,\n",
       " 1,\n",
       " 1,\n",
       " 0,\n",
       " 1,\n",
       " 0,\n",
       " 1,\n",
       " 1,\n",
       " 0,\n",
       " 1,\n",
       " 1,\n",
       " 1,\n",
       " 1,\n",
       " 1,\n",
       " 1,\n",
       " 1,\n",
       " 1,\n",
       " 1,\n",
       " 0,\n",
       " 1,\n",
       " 0,\n",
       " 0,\n",
       " 0,\n",
       " 1,\n",
       " 0,\n",
       " 0,\n",
       " 1,\n",
       " 1,\n",
       " 0,\n",
       " 0,\n",
       " 0,\n",
       " 1,\n",
       " 1,\n",
       " 1,\n",
       " 1,\n",
       " 1,\n",
       " 0,\n",
       " 0,\n",
       " 0,\n",
       " 1,\n",
       " 0,\n",
       " 0,\n",
       " 1,\n",
       " 0,\n",
       " 0,\n",
       " 0,\n",
       " 0,\n",
       " 0,\n",
       " 0,\n",
       " 1,\n",
       " 1,\n",
       " 0,\n",
       " 1,\n",
       " 1,\n",
       " 1,\n",
       " 0,\n",
       " 0,\n",
       " 0,\n",
       " 1,\n",
       " 1,\n",
       " 0,\n",
       " 1,\n",
       " 0,\n",
       " 1,\n",
       " 1,\n",
       " 0,\n",
       " 0,\n",
       " 1,\n",
       " 0,\n",
       " 0,\n",
       " 1,\n",
       " 0,\n",
       " 0,\n",
       " 1,\n",
       " 1,\n",
       " 1,\n",
       " 0,\n",
       " 0,\n",
       " 0,\n",
       " 1,\n",
       " 0,\n",
       " 1,\n",
       " 1,\n",
       " 1,\n",
       " 0,\n",
       " 0,\n",
       " 1,\n",
       " 1,\n",
       " 1,\n",
       " 0,\n",
       " 1,\n",
       " 1,\n",
       " 1,\n",
       " 0,\n",
       " 0,\n",
       " 0,\n",
       " 0,\n",
       " 1,\n",
       " 1,\n",
       " 0,\n",
       " 0,\n",
       " 1,\n",
       " 1,\n",
       " 0,\n",
       " 1,\n",
       " 1,\n",
       " 0,\n",
       " 0,\n",
       " 1,\n",
       " 0,\n",
       " 1,\n",
       " 0,\n",
       " 0,\n",
       " 1,\n",
       " 0,\n",
       " 0,\n",
       " 0,\n",
       " 0,\n",
       " 1,\n",
       " 0,\n",
       " 0,\n",
       " 1,\n",
       " 0,\n",
       " 1,\n",
       " 0,\n",
       " 1,\n",
       " 1,\n",
       " 0,\n",
       " 0,\n",
       " 0,\n",
       " 0,\n",
       " 1,\n",
       " 1,\n",
       " 0,\n",
       " 1,\n",
       " 1,\n",
       " 1,\n",
       " 1,\n",
       " 0,\n",
       " 1,\n",
       " 0,\n",
       " 1,\n",
       " 1,\n",
       " 0,\n",
       " 1,\n",
       " 0,\n",
       " 1,\n",
       " 1,\n",
       " 0,\n",
       " 0,\n",
       " 1,\n",
       " 0,\n",
       " 0,\n",
       " 0,\n",
       " 1,\n",
       " 0,\n",
       " 1,\n",
       " 0,\n",
       " 0,\n",
       " 0,\n",
       " 1,\n",
       " 1,\n",
       " 1,\n",
       " 1,\n",
       " 1,\n",
       " 1,\n",
       " 0,\n",
       " 0,\n",
       " 1,\n",
       " 0,\n",
       " 0,\n",
       " 0,\n",
       " 0,\n",
       " 0,\n",
       " 1,\n",
       " 0,\n",
       " 1,\n",
       " 0,\n",
       " 1,\n",
       " 0,\n",
       " 1,\n",
       " 1,\n",
       " 0,\n",
       " 0,\n",
       " 0,\n",
       " 0,\n",
       " 1,\n",
       " 0,\n",
       " 1,\n",
       " 1,\n",
       " 1,\n",
       " 0,\n",
       " 1,\n",
       " 0,\n",
       " 1,\n",
       " 0,\n",
       " 1,\n",
       " 1,\n",
       " 0,\n",
       " 1,\n",
       " 1,\n",
       " 0,\n",
       " 0,\n",
       " 1,\n",
       " 0,\n",
       " 0,\n",
       " 1,\n",
       " 0,\n",
       " 0,\n",
       " 1,\n",
       " 0,\n",
       " 0,\n",
       " 0,\n",
       " 1,\n",
       " 1,\n",
       " 1,\n",
       " 0,\n",
       " 1,\n",
       " 1,\n",
       " 0,\n",
       " 0,\n",
       " 1,\n",
       " 0,\n",
       " 0,\n",
       " ...]"
      ]
     },
     "execution_count": 137,
     "metadata": {},
     "output_type": "execute_result"
    }
   ],
   "source": [
    "predictions_nbtest"
   ]
  },
  {
   "cell_type": "code",
   "execution_count": 138,
   "metadata": {},
   "outputs": [
    {
     "name": "stdout",
     "output_type": "stream",
     "text": [
      "tn= 263\n",
      "fp= 301\n",
      "fn= 9661\n",
      "tp= 9774\n",
      "accuracy = 0.5018750937546878\n",
      "F1score = 0.6451527270967323\n",
      "recal = 0.5018750937546878\n",
      "precision = 0.9435125799274712\n",
      "[0.         0.49709287 1.        ]\n",
      "[0.         0.46631206 1.        ]\n",
      "[2 1 0]\n",
      "0.5336879432624113\n",
      "0.5029071263184975\n"
     ]
    },
    {
     "data": {
      "image/png": "[encoded data removed]",
      "text/plain": [
       "<Figure size 432x288 with 1 Axes>"
      ]
     },
     "metadata": {
      "needs_background": "light"
     },
     "output_type": "display_data"
    },
    {
     "name": "stdout",
     "output_type": "stream",
     "text": [
      "0.4846095915280431\n"
     ]
    }
   ],
   "source": [
    "from sklearn.metrics import confusion_matrix\n",
    "confusion_matrix(main_testy,predictions_nbtest)\n",
    "\n",
    "from sklearn.metrics import confusion_matrix\n",
    "tp_nbtest, fn_nbtest, fp_nbtest, tn_nbtest = confusion_matrix(main_testy,predictions_nbtest).ravel()\n",
    "#t= confusion_matrix(testy,ypred_new)\n",
    "print(\"tn=\",tn_nbtest)\n",
    "print(\"fp=\",fp_nbtest)\n",
    "print(\"fn=\",fn_nbtest)\n",
    "print(\"tp=\",tp_nbtest)\n",
    "\n",
    "from sklearn.metrics import accuracy_score\n",
    "from sklearn.metrics import f1_score\n",
    "from sklearn.metrics import recall_score\n",
    "from sklearn.metrics import precision_score\n",
    "accuracy_nbtest = accuracy_score(main_testy, predictions_nbtest)\n",
    "f1score_nbtest = f1_score(main_testy, predictions_nbtest,average='weighted')\n",
    "recall_nbtest = recall_score(main_testy, predictions_nbtest,average='weighted')\n",
    "precision_nbtest = precision_score(main_testy, predictions_nbtest,average='weighted')\n",
    "\n",
    "print(\"accuracy =\" , accuracy_nbtest)\n",
    "print(\"F1score =\" , f1score_nbtest)\n",
    "print(\"recal =\" ,recall_nbtest)\n",
    "print(\"precision =\", precision_nbtest)\n",
    "\n",
    "\n",
    "import numpy as np\n",
    "from sklearn import metrics\n",
    "N_nbtest =fp_nbtest+tn_nbtest\n",
    "P_nbtest = tp_nbtest+fn_nbtest\n",
    "FPR_nbtest= fp_nbtest/N_nbtest\n",
    "TPR_nbtest=tp_nbtest/P_nbtest\n",
    "\n",
    "fpr_nbtest, tpr_nbtest, threshold_nbtest = metrics.roc_curve(main_testy, predictions_nbtest)\n",
    "roc_auc_nbtest = metrics.auc(fpr_nbtest, tpr_nbtest)\n",
    "print(fpr_nbtest)\n",
    "print(tpr_nbtest)\n",
    "print(threshold_nbtest)\n",
    "\n",
    "\n",
    "\n",
    "print(FPR_nbtest)\n",
    "print(TPR_nbtest)\n",
    "\n",
    "\n",
    "\n",
    "plt.figure()\n",
    "\n",
    "plt.plot(fpr_nbtest, tpr_nbtest, color='darkorange',\n",
    "         lw=2, label='ROC curve (area = %0.2f)' % roc_auc_nbtest)\n",
    "plt.xlim([0.0, 1.0])\n",
    "plt.ylim([0.0, 1.0])\n",
    "plt.xlabel('FPR')\n",
    "plt.ylabel('TPR')\n",
    "plt.title('ROC')\n",
    "plt.legend(loc=\"lower right\")\n",
    "plt.show()\n",
    "\n",
    "\n",
    "\n",
    "from sklearn import metrics\n",
    "AUC_nbtest = metrics.auc(fpr_nbtest, tpr_nbtest)\n",
    "print(AUC_nbtest)\n"
   ]
  },
  {
   "cell_type": "code",
   "execution_count": 184,
   "metadata": {},
   "outputs": [],
   "source": [
    "# 2.4 Looking at results obtained in Tasks 2.1, 2.2 and 2.3: Is your classifier showing any sign of overfitting, or\n",
    "# underfitting? And explain why do you think that. If yes, can you suggest a solution, and utilize it to solve the\n",
    "# issue (if present)."
   ]
  },
  {
   "cell_type": "code",
   "execution_count": null,
   "metadata": {},
   "outputs": [],
   "source": [
    "## accuracy is very low which means it is a clear case of under fitting . it is because the training data is very less than\n",
    "#test data\n",
    "# solution would be to either increase training data or reduce the test data used "
   ]
  },
  {
   "cell_type": "code",
   "execution_count": null,
   "metadata": {},
   "outputs": [],
   "source": [
    "# 2.5 (Graduate #WE CAN DO UNDER SAMPLING AS SHOWN BELOWStudent Requirement) ) Dataset follows a highly skewed distribution in terms of the target class\n",
    "# label. Can you devise a workaround to this? Please explain and redo tasks 2.1, 2.2, 2.3, and 2.4."
   ]
  },
  {
   "cell_type": "code",
   "execution_count": null,
   "metadata": {},
   "outputs": [],
   "source": [
    "#WE CAN DO UNDER SAMPLING AS SHOWN BELOW"
   ]
  },
  {
   "cell_type": "code",
   "execution_count": 186,
   "metadata": {},
   "outputs": [
    {
     "name": "stdout",
     "output_type": "stream",
     "text": [
      "Skewness: 5.891257\n",
      "2654\n",
      "Int64Index([    0,     1,     2,     3,     4,     5,     6,     7,     8,\n",
      "                9,\n",
      "            ...\n",
      "            99989, 99990, 99991, 99992, 99993, 99994, 99995, 99996, 99997,\n",
      "            99998],\n",
      "           dtype='int64', length=97345)\n",
      "[98626 32472 35915 ... 14146 62451 66182]\n",
      "Int64Index([  111,   157,   181,   191,   201,   217,   219,   220,   275,\n",
      "              280,\n",
      "            ...\n",
      "            99803, 99835, 99851, 99857, 99901, 99905, 99909, 99924, 99928,\n",
      "            99942],\n",
      "           dtype='int64', length=2654)\n",
      "[  111   157   181 ... 14146 62451 66182]\n",
      "       0\n",
      "111    1\n",
      "157    1\n",
      "181    1\n",
      "191    1\n",
      "201    1\n",
      "217    1\n",
      "219    1\n",
      "220    1\n",
      "275    1\n",
      "280    1\n",
      "296    1\n",
      "335    1\n",
      "343    1\n",
      "352    1\n",
      "619    1\n",
      "642    1\n",
      "643    1\n",
      "652    1\n",
      "660    1\n",
      "788    1\n",
      "812    1\n",
      "825    1\n",
      "875    1\n",
      "963    1\n",
      "966    1\n",
      "1016   1\n",
      "1031   1\n",
      "1045   1\n",
      "1074   1\n",
      "1093   1\n",
      "...   ..\n",
      "5297   0\n",
      "80106  0\n",
      "35163  0\n",
      "30017  0\n",
      "38645  0\n",
      "49792  0\n",
      "36585  0\n",
      "1004   0\n",
      "76471  0\n",
      "5887   0\n",
      "66171  0\n",
      "25402  0\n",
      "31946  0\n",
      "53318  0\n",
      "86038  0\n",
      "34906  0\n",
      "43586  0\n",
      "15644  0\n",
      "63199  0\n",
      "66310  0\n",
      "78199  0\n",
      "57413  0\n",
      "68020  0\n",
      "64459  0\n",
      "86314  0\n",
      "20845  0\n",
      "17627  0\n",
      "14146  0\n",
      "62451  0\n",
      "66182  0\n",
      "\n",
      "[5308 rows x 1 columns]\n"
     ]
    },
    {
     "data": {
      "image/png": "[encoded data removed]",
      "text/plain": [
       "<Figure size 432x288 with 1 Axes>"
      ]
     },
     "metadata": {
      "needs_background": "light"
     },
     "output_type": "display_data"
    }
   ],
   "source": [
    "import seaborn as sns\n",
    "sns.distplot(dataBY);\n",
    "\n",
    "print(\"Skewness: %f\" % dataBY.skew())\n",
    "\n",
    "no_frauds = len(dataBY[dataBY['0'] == 1])\n",
    "print(no_frauds)\n",
    "\n",
    "non_fraud_indices = dataBY[dataBY['0'] == 0].index\n",
    "print(non_fraud_indices)\n",
    "\n",
    "random_indices = np.random.choice(non_fraud_indices,no_frauds, replace=False)\n",
    "print(random_indices)\n",
    "\n",
    "fraud_indices = dataBY[dataBY['0'] == 1].index\n",
    "print(fraud_indices)\n",
    "\n",
    "under_sample_indices = np.concatenate([fraud_indices,random_indices])\n",
    "print(under_sample_indices)\n",
    "\n",
    "under_sample = dataBY.loc[under_sample_indices]\n",
    "print(under_sample)"
   ]
  },
  {
   "cell_type": "code",
   "execution_count": null,
   "metadata": {},
   "outputs": [],
   "source": [
    "# Task 3 : kNN Classifier (kNN)\n",
    "# 3. k-NN Classifier construction (considering the normalize to unit vector strategy and Euclidean distance\n",
    "# measure as discussed in class). Once again, do not call library function for kNN fit method.\n",
    "# 3.1 Use a 10-fold cross validation strategy to obtain the best hyper-parameter value of the k-NN classifier (i.e.,\n",
    "# the value of k). Please report a discussion why you would choose the value. (On the training set)"
   ]
  },
  {
   "cell_type": "code",
   "execution_count": 139,
   "metadata": {},
   "outputs": [
    {
     "name": "stdout",
     "output_type": "stream",
     "text": [
      "(99999, 19)\n",
      "(99999, 1)\n"
     ]
    }
   ],
   "source": [
    "print(dataBX.shape)\n",
    "print(dataBY.shape)"
   ]
  },
  {
   "cell_type": "code",
   "execution_count": 140,
   "metadata": {},
   "outputs": [],
   "source": [
    "from sklearn.model_selection import KFold"
   ]
  },
  {
   "cell_type": "code",
   "execution_count": 141,
   "metadata": {},
   "outputs": [
    {
     "name": "stdout",
     "output_type": "stream",
     "text": [
      "(array([    0,     1,     2, ..., 79996, 79997, 79998]), array([    6,     9,    25, ..., 79991, 79992, 79999]))\n"
     ]
    }
   ],
   "source": [
    "kfol = KFold(n_splits = 10, shuffle = True, random_state =None)\n",
    "re = next(kfol.split(main_train1), None)\n",
    "print (re)\n",
    "\n",
    "\n",
    "tra = main_train1.iloc[re[0]]\n",
    "tes = main_train1.iloc[re[1]]"
   ]
  },
  {
   "cell_type": "code",
   "execution_count": 142,
   "metadata": {},
   "outputs": [
    {
     "name": "stdout",
     "output_type": "stream",
     "text": [
      "<class 'numpy.ndarray'>\n",
      "(50, 3)\n"
     ]
    }
   ],
   "source": [
    "tra1 = tra.iloc[0:50]\n",
    "tra1 = tra1.values\n",
    "print(type(tra1))\n",
    "\n",
    "print(tra1.shape)"
   ]
  },
  {
   "cell_type": "code",
   "execution_count": 143,
   "metadata": {},
   "outputs": [],
   "source": [
    "import gc\n",
    "gc.collect()\n",
    "from sklearn.preprocessing import MinMaxScaler\n",
    "scal = MinMaxScaler()\n",
    "scaled_trax = scal.fit_transform(tra1)"
   ]
  },
  {
   "cell_type": "code",
   "execution_count": 144,
   "metadata": {},
   "outputs": [
    {
     "data": {
      "text/plain": [
       "0"
      ]
     },
     "execution_count": 144,
     "metadata": {},
     "output_type": "execute_result"
    }
   ],
   "source": [
    "gc.collect()"
   ]
  },
  {
   "cell_type": "code",
   "execution_count": 145,
   "metadata": {},
   "outputs": [
    {
     "name": "stdout",
     "output_type": "stream",
     "text": [
      "[[1.         0.43602694 0.43602694 0.        ]\n",
      " [1.         0.21801347 0.21801347 0.        ]\n",
      " [1.         0.6540404  0.6540404  0.        ]\n",
      " [1.         1.         1.         0.        ]\n",
      " [1.         0.21801347 0.21801347 0.        ]\n",
      " [1.         0.21801347 0.21801347 0.        ]\n",
      " [1.         0.6540404  0.6540404  0.        ]\n",
      " [1.         0.17441077 0.17441077 0.        ]\n",
      " [1.         0.6540404  0.6540404  0.        ]\n",
      " [1.         0.21801347 0.21801347 0.        ]\n",
      " [1.         0.6540404  0.6540404  0.        ]\n",
      " [1.         0.84090909 0.84090909 0.        ]\n",
      " [1.         0.         0.         0.        ]\n",
      " [1.         0.21801347 0.21801347 0.        ]\n",
      " [1.         0.21801347 0.21801347 1.        ]\n",
      " [1.         0.84090909 0.84090909 0.        ]\n",
      " [1.         0.21801347 0.21801347 0.        ]\n",
      " [1.         0.21801347 0.21801347 1.        ]\n",
      " [1.         0.6540404  0.6540404  0.        ]\n",
      " [1.         0.84090909 0.84090909 0.        ]\n",
      " [1.         0.6540404  0.6540404  0.        ]\n",
      " [1.         0.43602694 0.43602694 0.        ]\n",
      " [1.         0.21801347 0.21801347 0.        ]\n",
      " [1.         0.21801347 0.21801347 0.        ]\n",
      " [1.         0.21801347 0.21801347 0.        ]\n",
      " [1.         0.6540404  0.6540404  0.        ]\n",
      " [1.         0.21801347 0.21801347 0.        ]\n",
      " [1.         0.21801347 0.21801347 0.        ]\n",
      " [1.         0.18535354 0.18535354 0.        ]\n",
      " [1.         0.84090909 0.84090909 0.        ]\n",
      " [1.         0.21801347 0.21801347 0.        ]\n",
      " [1.         0.33585859 0.33585859 0.        ]\n",
      " [1.         0.21801347 0.21801347 0.        ]\n",
      " [1.         0.6540404  0.6540404  0.        ]\n",
      " [1.         0.6540404  0.6540404  0.        ]\n",
      " [1.         0.6540404  0.6540404  0.        ]\n",
      " [1.         0.21801347 0.21801347 0.        ]\n",
      " [1.         0.84090909 0.84090909 0.        ]\n",
      " [1.         0.43602694 0.43602694 0.        ]\n",
      " [1.         0.84090909 0.84090909 0.        ]\n",
      " [1.         0.84090909 0.84090909 0.        ]\n",
      " [1.         0.43602694 0.43602694 0.        ]\n",
      " [1.         0.17441077 0.17441077 0.        ]\n",
      " [1.         0.6540404  0.6540404  0.        ]\n",
      " [1.         0.6540404  0.6540404  0.        ]\n",
      " [1.         0.84090909 0.84090909 0.        ]\n",
      " [1.         0.21801347 0.21801347 0.        ]\n",
      " [1.         0.         0.         0.        ]\n",
      " [1.         0.21801347 0.21801347 0.        ]\n",
      " [1.         0.21801347 0.21801347 0.        ]]\n",
      "(50, 4)\n"
     ]
    }
   ],
   "source": [
    "gc.collect()\n",
    "scaled_trax = np.insert(scaled_trax, 0, 1.0, axis=1)\n",
    "gc.collect()\n",
    "print(scaled_trax)\n",
    "print(scaled_trax.shape)"
   ]
  },
  {
   "cell_type": "code",
   "execution_count": 146,
   "metadata": {},
   "outputs": [
    {
     "name": "stdout",
     "output_type": "stream",
     "text": [
      "(50, 4)\n",
      "<class 'numpy.ndarray'>\n"
     ]
    }
   ],
   "source": [
    "#scaled_trax['y'] = tra_y1\n",
    "print(scaled_trax.shape)\n",
    "print(type(scaled_trax))"
   ]
  },
  {
   "cell_type": "code",
   "execution_count": 147,
   "metadata": {},
   "outputs": [
    {
     "data": {
      "text/plain": [
       "0"
      ]
     },
     "execution_count": 147,
     "metadata": {},
     "output_type": "execute_result"
    }
   ],
   "source": [
    "gc.collect()"
   ]
  },
  {
   "cell_type": "code",
   "execution_count": 148,
   "metadata": {},
   "outputs": [
    {
     "name": "stdout",
     "output_type": "stream",
     "text": [
      "<class 'numpy.ndarray'>\n",
      "(50, 3)\n"
     ]
    }
   ],
   "source": [
    "#tes = d.drop(labels='y', axis=1)\n",
    "tes1 = tes[0:50]\n",
    "tes_y= tes1[\"Y\"]\n",
    "tes1=tes1.values\n",
    "print(type(tes1))\n",
    "\n",
    "print(tes1.shape)"
   ]
  },
  {
   "cell_type": "code",
   "execution_count": 149,
   "metadata": {},
   "outputs": [
    {
     "name": "stdout",
     "output_type": "stream",
     "text": [
      "[[1.         0.77777778 0.77777778 0.        ]\n",
      " [1.         1.         1.         0.        ]\n",
      " [1.         0.77777778 0.77777778 0.        ]\n",
      " [1.         0.25925926 0.25925926 0.        ]\n",
      " [1.         0.77777778 0.77777778 0.        ]\n",
      " [1.         0.77777778 0.77777778 0.        ]\n",
      " [1.         1.         1.         0.        ]\n",
      " [1.         0.77777778 0.77777778 0.        ]\n",
      " [1.         0.25925926 0.25925926 0.        ]\n",
      " [1.         0.         0.         0.        ]\n",
      " [1.         0.77777778 0.77777778 0.        ]\n",
      " [1.         0.25925926 0.25925926 0.        ]\n",
      " [1.         0.77777778 0.77777778 0.        ]\n",
      " [1.         0.25925926 0.25925926 0.        ]\n",
      " [1.         0.51851852 0.51851852 0.        ]\n",
      " [1.         0.22042042 0.22042042 1.        ]\n",
      " [1.         0.25925926 0.25925926 0.        ]\n",
      " [1.         0.77777778 0.77777778 0.        ]\n",
      " [1.         0.25925926 0.25925926 0.        ]\n",
      " [1.         1.         1.         0.        ]\n",
      " [1.         0.25925926 0.25925926 0.        ]\n",
      " [1.         0.25925926 0.25925926 0.        ]\n",
      " [1.         1.         1.         0.        ]\n",
      " [1.         0.66126126 0.66126126 0.        ]\n",
      " [1.         0.25925926 0.25925926 1.        ]\n",
      " [1.         0.25925926 0.25925926 0.        ]\n",
      " [1.         0.25925926 0.25925926 0.        ]\n",
      " [1.         0.25925926 0.25925926 0.        ]\n",
      " [1.         0.77777778 0.77777778 0.        ]\n",
      " [1.         0.77777778 0.77777778 0.        ]\n",
      " [1.         0.20740741 0.20740741 0.        ]\n",
      " [1.         0.25925926 0.25925926 0.        ]\n",
      " [1.         0.20740741 0.20740741 0.        ]\n",
      " [1.         0.77777778 0.77777778 0.        ]\n",
      " [1.         0.25925926 0.25925926 0.        ]\n",
      " [1.         0.51851852 0.51851852 0.        ]\n",
      " [1.         0.77777778 0.77777778 0.        ]\n",
      " [1.         0.25925926 0.25925926 0.        ]\n",
      " [1.         0.25925926 0.25925926 0.        ]\n",
      " [1.         0.25925926 0.25925926 0.        ]\n",
      " [1.         0.25925926 0.25925926 0.        ]\n",
      " [1.         0.62222222 0.62222222 0.        ]\n",
      " [1.         0.77777778 0.77777778 0.        ]\n",
      " [1.         0.77777778 0.77777778 0.        ]\n",
      " [1.         0.51851852 0.51851852 0.        ]\n",
      " [1.         0.22042042 0.22042042 0.        ]\n",
      " [1.         1.         1.         0.        ]\n",
      " [1.         0.77777778 0.77777778 0.        ]\n",
      " [1.         0.25925926 0.25925926 0.        ]\n",
      " [1.         1.         1.         0.        ]]\n",
      "(50, 4)\n"
     ]
    }
   ],
   "source": [
    "\n",
    "import gc\n",
    "gc.collect()\n",
    "from sklearn.preprocessing import MinMaxScaler\n",
    "scal = MinMaxScaler()\n",
    "scaled_tes = scal.fit_transform(tes1)\n",
    "\n",
    "gc.collect()\n",
    "scaled_tes = np.insert(scaled_tes, 0, 1.0, axis=1)\n",
    "gc.collect()\n",
    "print(scaled_tes)\n",
    "print(scaled_tes.shape)"
   ]
  },
  {
   "cell_type": "code",
   "execution_count": 150,
   "metadata": {},
   "outputs": [],
   "source": [
    "\n",
    "tes_y = tes_y[0:50]\n",
    "tes_y = tes_y.values\n",
    "tes_y = np.reshape(tes_y,(-1,1))"
   ]
  },
  {
   "cell_type": "code",
   "execution_count": 151,
   "metadata": {},
   "outputs": [],
   "source": [
    "import math \n",
    "def euclideanDistance(instance1, instance2, length):\n",
    "    distance = 0\n",
    "    for x in range(length):\n",
    "        distance += pow((instance1[x] - instance2[x]), 2)\n",
    "    return np.sqrt(distance)\n",
    "\n"
   ]
  },
  {
   "cell_type": "code",
   "execution_count": 152,
   "metadata": {},
   "outputs": [],
   "source": [
    "import operator \n",
    "def getNeighbors(trainingSet, testInstance, k):\n",
    "    distances = []\n",
    "    length = len(testInstance)-1\n",
    "    #length = len(testInstance)+1\n",
    "    for x in range(len(trainingSet)):\n",
    "    #for x in range(10000):\n",
    "        #dist = euclideanDistance(testInstance, trainingSet[x], length)\n",
    "        #distances.append((trainingSet[x], dist))\n",
    "        trainingset1 = np.delete(trainingSet , -1, axis =1)\n",
    "        dist = euclideanDistance(testInstance, trainingset1[x], length)\n",
    "        distances.append((trainingSet[x,-1], dist))\n",
    "    distances.sort(key=operator.itemgetter(1))\n",
    "    neighbors = []\n",
    "    for x in range(k):\n",
    "        neighbors.append(distances[x])\n",
    "    return neighbors"
   ]
  },
  {
   "cell_type": "code",
   "execution_count": 153,
   "metadata": {},
   "outputs": [],
   "source": [
    "def getResponse(neighbors):\n",
    "    classVotes = {}\n",
    "    #print(len(neighbors))\n",
    "    for x in range(len(neighbors)):\n",
    "        response = neighbors[x][-1]\n",
    "        if response in classVotes:\n",
    "            classVotes[response] += 1\n",
    "        else:\n",
    "            classVotes[response] = 1\n",
    "    sortedVotes = sorted(classVotes.items(), key=operator.itemgetter(1), reverse=True)\n",
    "    return sortedVotes[0][0]"
   ]
  },
  {
   "cell_type": "code",
   "execution_count": 154,
   "metadata": {},
   "outputs": [
    {
     "name": "stdout",
     "output_type": "stream",
     "text": [
      "(50, 4)\n",
      "(50, 4)\n",
      "50\n",
      "50\n"
     ]
    }
   ],
   "source": [
    "print(scaled_trax.shape)\n",
    "print(scaled_tes.shape)\n",
    "print(len(scaled_trax))\n",
    "print(len(scaled_tes))"
   ]
  },
  {
   "cell_type": "code",
   "execution_count": 155,
   "metadata": {},
   "outputs": [
    {
     "data": {
      "text/plain": [
       "(50, 4)"
      ]
     },
     "execution_count": 155,
     "metadata": {},
     "output_type": "execute_result"
    }
   ],
   "source": [
    "scaled_tes.shape"
   ]
  },
  {
   "cell_type": "code",
   "execution_count": 156,
   "metadata": {},
   "outputs": [
    {
     "name": "stdout",
     "output_type": "stream",
     "text": [
      "[0.08928115924072573, 0.22498852128662872, 0.08928115924072573, 0.05833035737060747, 0.08928115924072573, 0.08928115924072573, 0.22498852128662872, 0.08928115924072573, 0.05833035737060747, 0.0, 0.08928115924072573, 0.05833035737060747, 0.08928115924072573, 0.05833035737060747, 0.11666071474121494, 0.0034039447378986973, 0.05833035737060747, 0.08928115924072573, 0.05833035737060747, 0.22498852128662872, 0.05833035737060747, 0.05833035737060747, 0.22498852128662872, 0.010211834213695934, 0.05833035737060747, 0.05833035737060747, 0.05833035737060747, 0.05833035737060747, 0.08928115924072573, 0.08928115924072573, 0.014999234752441895, 0.05833035737060747, 0.014999234752441895, 0.08928115924072573, 0.05833035737060747, 0.11666071474121494, 0.08928115924072573, 0.05833035737060747, 0.05833035737060747, 0.05833035737060747, 0.05833035737060747, 0.044997704257325806, 0.08928115924072573, 0.08928115924072573, 0.11666071474121494, 0.0034039447378986973, 0.22498852128662872, 0.08928115924072573, 0.05833035737060747, 0.22498852128662872]\n"
     ]
    }
   ],
   "source": [
    "predictions=[]\n",
    "k = 3\n",
    "for x in range(len(scaled_tes)):\n",
    "        neighbors = getNeighbors( scaled_trax,scaled_tes[x], k)\n",
    "        result = getResponse(neighbors)\n",
    "        predictions.append(result)\n",
    "        #print('> predicted=' + repr(predictions) + ', actual=' + repr(tes_y))\n",
    "        #print(result)\n",
    "print(predictions)"
   ]
  },
  {
   "cell_type": "code",
   "execution_count": 157,
   "metadata": {},
   "outputs": [
    {
     "name": "stdout",
     "output_type": "stream",
     "text": [
      "[0, 0, 0, 0, 0, 0, 0, 0, 0, 0, 0, 0, 0, 0, 0, 0, 0, 0, 0, 0, 0, 0, 0, 0, 0, 0, 0, 0, 0, 0, 0, 0, 0, 0, 0, 0, 0, 0, 0, 0, 0, 0, 0, 0, 0, 0, 0, 0, 0, 0]\n"
     ]
    }
   ],
   "source": [
    "threshold = 0.5\n",
    "for i in range(len(scaled_tes)):\n",
    "    if predictions[i] >= threshold:\n",
    "        predictions[i] =1\n",
    "        #print(\"inside if\")\n",
    "    else:\n",
    "        predictions[i] = 0\n",
    "       # print(\"inside else\")\n",
    "    \n",
    "print(predictions)"
   ]
  },
  {
   "cell_type": "code",
   "execution_count": 158,
   "metadata": {},
   "outputs": [],
   "source": [
    "\n",
    "# 3.2 Train the classifier on the training set, and report the training confusion matrix, accuracy, precision, recall,\n",
    "# F1-score, the ROC point on the ROC space."
   ]
  },
  {
   "cell_type": "code",
   "execution_count": 159,
   "metadata": {},
   "outputs": [],
   "source": [
    "#doing for the test set as for knn we cant do for train set"
   ]
  },
  {
   "cell_type": "code",
   "execution_count": 160,
   "metadata": {},
   "outputs": [
    {
     "data": {
      "text/plain": [
       "array([[48,  0],\n",
       "       [ 2,  0]], dtype=int64)"
      ]
     },
     "execution_count": 160,
     "metadata": {},
     "output_type": "execute_result"
    }
   ],
   "source": [
    "from sklearn.metrics import confusion_matrix\n",
    "confusion_matrix(tes_y,predictions)"
   ]
  },
  {
   "cell_type": "code",
   "execution_count": 161,
   "metadata": {},
   "outputs": [
    {
     "name": "stdout",
     "output_type": "stream",
     "text": [
      "tn= 0\n",
      "fp= 2\n",
      "fn= 0\n",
      "tp= 48\n"
     ]
    }
   ],
   "source": [
    "from sklearn.metrics import confusion_matrix\n",
    "tp_KNN, fn_KNN, fp_KNN, tn_KNN = confusion_matrix(tes_y,predictions).ravel()\n",
    "#t= confusion_matrix(testy,ypred_new)\n",
    "print(\"tn=\",tn_KNN)\n",
    "print(\"fp=\",fp_KNN)\n",
    "print(\"fn=\",fn_KNN)\n",
    "print(\"tp=\",tp_KNN)"
   ]
  },
  {
   "cell_type": "code",
   "execution_count": 162,
   "metadata": {},
   "outputs": [
    {
     "name": "stdout",
     "output_type": "stream",
     "text": [
      "accuracy = 0.96\n",
      "F1score = 0.9404081632653061\n",
      "recal = 0.96\n",
      "precision = 0.9216\n"
     ]
    },
    {
     "name": "stderr",
     "output_type": "stream",
     "text": [
      "C:\\Users\\kusha\\Anaconda3\\lib\\site-packages\\sklearn\\metrics\\classification.py:1143: UndefinedMetricWarning: F-score is ill-defined and being set to 0.0 in labels with no predicted samples.\n",
      "  'precision', 'predicted', average, warn_for)\n",
      "C:\\Users\\kusha\\Anaconda3\\lib\\site-packages\\sklearn\\metrics\\classification.py:1143: UndefinedMetricWarning: Precision is ill-defined and being set to 0.0 in labels with no predicted samples.\n",
      "  'precision', 'predicted', average, warn_for)\n"
     ]
    }
   ],
   "source": [
    "from sklearn.metrics import accuracy_score\n",
    "from sklearn.metrics import f1_score\n",
    "from sklearn.metrics import recall_score\n",
    "from sklearn.metrics import precision_score\n",
    "accuracy_KNN = accuracy_score(tes_y, predictions)\n",
    "f1score_KNN = f1_score(tes_y, predictions,average='weighted')\n",
    "recall_KNN = recall_score(tes_y, predictions,average='weighted')\n",
    "precision_KNN = precision_score(tes_y, predictions,average='weighted')\n",
    "\n",
    "print(\"accuracy =\" , accuracy_KNN)\n",
    "print(\"F1score =\" , f1score_KNN)\n",
    "print(\"recal =\" ,recall_KNN)\n",
    "print(\"precision =\", precision_KNN)"
   ]
  },
  {
   "cell_type": "code",
   "execution_count": 163,
   "metadata": {},
   "outputs": [],
   "source": [
    "import numpy as np\n",
    "from sklearn import metrics\n",
    "N_KNN =fp_KNN+tn_KNN\n",
    "P_KNN = tp_KNN+fn_KNN\n",
    "FPR_KNN= fp_KNN/N_KNN\n",
    "TPR_KNN=tp_KNN/P_KNN"
   ]
  },
  {
   "cell_type": "code",
   "execution_count": 164,
   "metadata": {},
   "outputs": [
    {
     "name": "stdout",
     "output_type": "stream",
     "text": [
      "[0. 1.]\n",
      "[0. 1.]\n",
      "[1 0]\n"
     ]
    }
   ],
   "source": [
    "fpr_KNN, tpr_KNN, threshold_KNN = metrics.roc_curve(tes_y, predictions)\n",
    "roc_auc = metrics.auc(fpr_KNN, tpr_KNN)\n",
    "print(fpr_KNN)\n",
    "print(tpr_KNN)\n",
    "print(threshold_KNN)"
   ]
  },
  {
   "cell_type": "code",
   "execution_count": 165,
   "metadata": {},
   "outputs": [
    {
     "name": "stdout",
     "output_type": "stream",
     "text": [
      "1.0\n",
      "1.0\n"
     ]
    }
   ],
   "source": [
    "print(FPR_KNN)\n",
    "print(TPR_KNN)"
   ]
  },
  {
   "cell_type": "code",
   "execution_count": 166,
   "metadata": {},
   "outputs": [
    {
     "data": {
      "image/png": "[encoded data removed]",
      "text/plain": [
       "<Figure size 432x288 with 1 Axes>"
      ]
     },
     "metadata": {
      "needs_background": "light"
     },
     "output_type": "display_data"
    }
   ],
   "source": [
    "plt.figure()\n",
    "\n",
    "plt.plot(fpr_KNN, tpr_KNN, color='darkorange',\n",
    "         lw=2, label='ROC curve (area = %0.2f)' % roc_auc)\n",
    "plt.xlim([0.0, 1.0])\n",
    "plt.ylim([0.0, 1.0])\n",
    "plt.xlabel('FPR')\n",
    "plt.ylabel('TPR')\n",
    "plt.title('ROC')\n",
    "plt.legend(loc=\"lower right\")\n",
    "plt.show()"
   ]
  },
  {
   "cell_type": "code",
   "execution_count": 167,
   "metadata": {},
   "outputs": [
    {
     "name": "stdout",
     "output_type": "stream",
     "text": [
      "0.5\n"
     ]
    }
   ],
   "source": [
    "from sklearn import metrics\n",
    "AUC_KNN = metrics.auc(fpr_KNN, tpr_KNN)\n",
    "print(AUC_KNN)"
   ]
  },
  {
   "cell_type": "code",
   "execution_count": 168,
   "metadata": {},
   "outputs": [],
   "source": [
    "\n",
    "# 3.3 Using the model, test the test set, and report the testing confusion matrix, accuracy, precision, recall, F1-\n",
    "# score, the ROC point on the ROC space."
   ]
  },
  {
   "cell_type": "code",
   "execution_count": 183,
   "metadata": {},
   "outputs": [
    {
     "name": "stdout",
     "output_type": "stream",
     "text": [
      "(50, 4)\n",
      "(19999, 3)\n"
     ]
    }
   ],
   "source": [
    "print(scaled_trax.shape)\n",
    "print(scaled_maintest.shape)"
   ]
  },
  {
   "cell_type": "code",
   "execution_count": 169,
   "metadata": {},
   "outputs": [
    {
     "name": "stdout",
     "output_type": "stream",
     "text": [
      "[0.22498852128662872, 0.22498852128662872, 0.22498852128662872, 0.22498852128662872, 0.22498852128662872, 0.22498852128662872, 0.22498852128662872, 0.22498852128662872, 0.22498852128662872, 0.22498852128662872, 0.22498852128662872, 0.22498852128662872, 0.22498852128662872, 0.22498852128662872, 0.22498852128662872, 0.22498852128662872, 0.22498852128662872, 0.22498852128662872, 0.22498852128662872, 0.22498852128662872, 0.22498852128662872, 0.22498852128662872, 0.22498852128662872, 0.22498852128662872, 0.22498852128662872, 0.22498852128662872, 0.22498852128662872, 0.22498852128662872, 0.22498852128662872, 0.22498852128662872, 0.22498852128662872, 0.22498852128662872, 0.22498852128662872, 0.22498852128662872, 0.22498852128662872, 0.22498852128662872, 0.22498852128662872, 0.22498852128662872, 0.22498852128662872, 0.22498852128662872, 0.22498852128662872, 0.22498852128662872, 0.22498852128662872, 0.22498852128662872, 0.22498852128662872, 0.22498852128662872, 0.22498852128662872, 0.22498852128662872, 0.22498852128662872, 0.22498852128662872, 0.22498852128662872, 0.22498852128662872, 0.22498852128662872, 0.22498852128662872, 0.22498852128662872, 0.22498852128662872, 0.22498852128662872, 0.22498852128662872, 0.22498852128662872, 0.22498852128662872, 0.22498852128662872, 0.22498852128662872, 0.22498852128662872, 0.22498852128662872, 0.22498852128662872, 0.22498852128662872, 0.22498852128662872, 0.22498852128662872, 0.22498852128662872, 0.22498852128662872, 0.22498852128662872, 0.22498852128662872, 0.22498852128662872, 0.22498852128662872, 0.22498852128662872, 0.22498852128662872, 0.22498852128662872, 0.22498852128662872, 0.22498852128662872, 0.22498852128662872, 0.22498852128662872, 0.22498852128662872, 0.22498852128662872, 0.22498852128662872, 0.22498852128662872, 0.22498852128662872, 0.22498852128662872, 0.22498852128662872, 0.22498852128662872, 0.22498852128662872, 0.22498852128662872, 0.22498852128662872, 0.22498852128662872, 0.22498852128662872, 0.22498852128662872, 0.22498852128662872, 0.22498852128662872, 0.22498852128662872, 0.22498852128662872, 0.22498852128662872, 0.22498852128662872, 0.22498852128662872, 0.22498852128662872, 0.22498852128662872, 0.22498852128662872, 0.22498852128662872, 0.22498852128662872, 0.22498852128662872, 0.22498852128662872, 0.22498852128662872, 0.22498852128662872, 0.22498852128662872, 0.22498852128662872, 0.22498852128662872, 0.22498852128662872, 0.22498852128662872, 0.22498852128662872, 0.22498852128662872, 0.22498852128662872, 0.22498852128662872, 0.22498852128662872, 0.22498852128662872, 0.22498852128662872, 0.22498852128662872, 0.22498852128662872, 0.22498852128662872, 0.22498852128662872, 0.22498852128662872, 0.22498852128662872, 0.22498852128662872, 0.22498852128662872, 0.22498852128662872, 0.22498852128662872, 0.22498852128662872, 0.22498852128662872, 0.22498852128662872, 0.22498852128662872, 0.22498852128662872, 0.22498852128662872, 0.22498852128662872, 0.22498852128662872, 0.22498852128662872, 0.22498852128662872, 0.22498852128662872, 0.22498852128662872, 0.22498852128662872, 0.22498852128662872, 0.22498852128662872, 0.22498852128662872, 0.22498852128662872, 0.22498852128662872, 0.22498852128662872, 0.22498852128662872, 0.22498852128662872, 0.22498852128662872, 0.22498852128662872, 0.22498852128662872, 0.22498852128662872, 0.22498852128662872, 0.22498852128662872, 0.22498852128662872, 0.22498852128662872, 0.22498852128662872, 0.22498852128662872, 0.22498852128662872, 0.22498852128662872, 0.22498852128662872, 0.22498852128662872, 0.22498852128662872, 0.22498852128662872, 0.22498852128662872, 0.22498852128662872, 0.22498852128662872, 0.22498852128662872, 0.22498852128662872, 0.22498852128662872, 0.22498852128662872, 0.22498852128662872, 0.22498852128662872, 0.22498852128662872, 0.22498852128662872, 0.22498852128662872, 0.22498852128662872, 0.22498852128662872, 0.22498852128662872, 0.22498852128662872, 0.22498852128662872, 0.22498852128662872, 0.22498852128662872, 0.22498852128662872, 0.22498852128662872, 0.22498852128662872, 0.22498852128662872, 0.22498852128662872, 0.22498852128662872, 0.22498852128662872, 0.22498852128662872, 0.22498852128662872, 0.22498852128662872, 0.22498852128662872, 0.22498852128662872, 0.22498852128662872, 0.22498852128662872, 0.22498852128662872, 0.22498852128662872, 0.22498852128662872, 0.22498852128662872, 0.22498852128662872, 0.22498852128662872, 0.22498852128662872, 0.22498852128662872, 0.22498852128662872, 0.22498852128662872, 0.22498852128662872, 0.22498852128662872, 0.22498852128662872, 0.22498852128662872, 0.22498852128662872, 0.22498852128662872, 0.22498852128662872, 0.22498852128662872, 0.22498852128662872, 0.22498852128662872, 0.22498852128662872, 0.22498852128662872, 0.22498852128662872, 0.22498852128662872, 0.22498852128662872, 0.22498852128662872, 0.22498852128662872, 0.22498852128662872, 0.22498852128662872, 0.22498852128662872, 0.22498852128662872, 0.22498852128662872, 0.22498852128662872, 0.22498852128662872, 0.22498852128662872, 0.22498852128662872, 0.22498852128662872, 0.22498852128662872, 0.22498852128662872, 0.22498852128662872, 0.22498852128662872, 0.22498852128662872, 0.22498852128662872, 0.22498852128662872, 0.22498852128662872, 0.22498852128662872, 0.22498852128662872, 0.22498852128662872, 0.22498852128662872, 0.22498852128662872, 0.22498852128662872, 0.22498852128662872, 0.22498852128662872, 0.22498852128662872, 0.22498852128662872, 0.22498852128662872, 0.22498852128662872, 0.22498852128662872, 0.22498852128662872, 0.22498852128662872, 0.22498852128662872, 0.22498852128662872, 0.22498852128662872, 0.22498852128662872, 0.22498852128662872, 0.22498852128662872, 0.22498852128662872, 0.22498852128662872, 0.22498852128662872, 0.22498852128662872, 0.22498852128662872, 0.22498852128662872, 0.22498852128662872, 0.22498852128662872, 0.22498852128662872, 0.22498852128662872, 0.22498852128662872, 0.22498852128662872, 0.22498852128662872, 0.22498852128662872, 0.22498852128662872, 0.22498852128662872, 0.22498852128662872, 0.22498852128662872, 0.22498852128662872, 0.22498852128662872, 0.22498852128662872, 0.22498852128662872, 0.22498852128662872, 0.22498852128662872, 0.22498852128662872, 0.22498852128662872, 0.22498852128662872, 0.22498852128662872, 0.22498852128662872, 0.22498852128662872, 0.22498852128662872, 0.22498852128662872, 0.22498852128662872, 0.22498852128662872, 0.22498852128662872, 0.22498852128662872, 0.22498852128662872, 0.22498852128662872, 0.22498852128662872, 0.22498852128662872, 0.22498852128662872, 0.22498852128662872, 0.22498852128662872, 0.22498852128662872, 0.22498852128662872, 0.22498852128662872, 0.22498852128662872, 0.22498852128662872, 0.22498852128662872, 0.22498852128662872, 0.22498852128662872, 0.22498852128662872, 0.22498852128662872, 0.22498852128662872, 0.22498852128662872, 0.22498852128662872, 0.22498852128662872, 0.22498852128662872, 0.22498852128662872, 0.22498852128662872, 0.22498852128662872, 0.22498852128662872, 0.22498852128662872, 0.22498852128662872, 0.22498852128662872, 0.22498852128662872, 0.22498852128662872, 0.22498852128662872, 0.22498852128662872, 0.22498852128662872, 0.22498852128662872, 0.22498852128662872, 0.22498852128662872, 0.22498852128662872, 0.22498852128662872, 0.22498852128662872, 0.22498852128662872, 0.22498852128662872, 0.22498852128662872, 0.22498852128662872, 0.22498852128662872, 0.22498852128662872, 0.22498852128662872, 0.22498852128662872, 0.22498852128662872, 0.22498852128662872, 0.22498852128662872, 0.22498852128662872, 0.22498852128662872, 0.22498852128662872, 0.22498852128662872, 0.22498852128662872, 0.22498852128662872, 0.22498852128662872, 0.22498852128662872, 0.22498852128662872, 0.22498852128662872, 0.22498852128662872, 0.22498852128662872, 0.22498852128662872, 0.22498852128662872, 0.22498852128662872, 0.22498852128662872, 0.22498852128662872, 0.22498852128662872, 0.22498852128662872, 0.22498852128662872, 0.22498852128662872, 0.22498852128662872, 0.22498852128662872, 0.22498852128662872, 0.22498852128662872, 0.22498852128662872, 0.22498852128662872, 0.22498852128662872, 0.22498852128662872, 0.22498852128662872, 0.22498852128662872, 0.22498852128662872, 0.22498852128662872, 0.22498852128662872, 0.22498852128662872, 0.22498852128662872, 0.22498852128662872, 0.22498852128662872, 0.22498852128662872, 0.22498852128662872, 0.22498852128662872, 0.22498852128662872, 0.22498852128662872, 0.22498852128662872, 0.22498852128662872, 0.22498852128662872, 0.22498852128662872, 0.22498852128662872, 0.22498852128662872, 0.22498852128662872, 0.22498852128662872, 0.22498852128662872, 0.22498852128662872, 0.22498852128662872, 0.22498852128662872, 0.22498852128662872, 0.22498852128662872, 0.22498852128662872, 0.22498852128662872, 0.22498852128662872, 0.22498852128662872, 0.22498852128662872, 0.22498852128662872, 0.22498852128662872, 0.22498852128662872, 0.22498852128662872, 0.22498852128662872, 0.22498852128662872, 0.22498852128662872, 0.22498852128662872, 0.22498852128662872, 0.22498852128662872, 0.22498852128662872, 0.22498852128662872, 0.22498852128662872, 0.22498852128662872, 0.22498852128662872, 0.22498852128662872, 0.22498852128662872, 0.22498852128662872, 0.22498852128662872, 0.22498852128662872, 0.22498852128662872, 0.22498852128662872, 0.22498852128662872, 0.22498852128662872, 0.22498852128662872, 0.22498852128662872, 0.22498852128662872, 0.22498852128662872, 0.22498852128662872, 0.22498852128662872, 0.22498852128662872, 0.22498852128662872, 0.22498852128662872, 0.22498852128662872, 0.22498852128662872, 0.22498852128662872, 0.22498852128662872, 0.22498852128662872, 0.22498852128662872, 0.22498852128662872, 0.22498852128662872, 0.22498852128662872, 0.22498852128662872, 0.22498852128662872, 0.22498852128662872, 0.22498852128662872, 0.22498852128662872, 0.22498852128662872, 0.22498852128662872, 0.22498852128662872, 0.22498852128662872, 0.22498852128662872, 0.22498852128662872, 0.22498852128662872, 0.22498852128662872, 0.22498852128662872, 0.22498852128662872, 0.22498852128662872, 0.22498852128662872, 0.22498852128662872, 0.22498852128662872, 0.22498852128662872, 0.22498852128662872, 0.22498852128662872, 0.22498852128662872, 0.22498852128662872, 0.22498852128662872, 0.22498852128662872, 0.22498852128662872, 0.22498852128662872, 0.22498852128662872, 0.22498852128662872, 0.22498852128662872, 0.22498852128662872, 0.22498852128662872, 0.22498852128662872, 0.22498852128662872, 0.22498852128662872, 0.22498852128662872, 0.22498852128662872, 0.22498852128662872, 0.22498852128662872, 0.22498852128662872, 0.22498852128662872, 0.22498852128662872, 0.22498852128662872, 0.22498852128662872, 0.22498852128662872, 0.22498852128662872, 0.22498852128662872, 0.22498852128662872, 0.22498852128662872, 0.22498852128662872, 0.22498852128662872, 0.22498852128662872, 0.22498852128662872, 0.22498852128662872, 0.22498852128662872, 0.22498852128662872, 0.22498852128662872, 0.22498852128662872, 0.22498852128662872, 0.22498852128662872, 0.22498852128662872, 0.22498852128662872, 0.22498852128662872, 0.22498852128662872, 0.22498852128662872, 0.22498852128662872, 0.22498852128662872, 0.22498852128662872, 0.22498852128662872, 0.22498852128662872, 0.22498852128662872, 0.22498852128662872, 0.22498852128662872, 0.22498852128662872, 0.22498852128662872, 0.22498852128662872, 0.22498852128662872, 0.22498852128662872, 0.22498852128662872, 0.22498852128662872, 0.22498852128662872, 0.22498852128662872, 0.22498852128662872, 0.22498852128662872, 0.22498852128662872, 0.22498852128662872, 0.22498852128662872, 0.22498852128662872, 0.22498852128662872, 0.22498852128662872, 0.22498852128662872, 0.22498852128662872, 0.22498852128662872, 0.22498852128662872, 0.22498852128662872, 0.22498852128662872, 0.22498852128662872, 0.22498852128662872, 0.22498852128662872, 0.22498852128662872, 0.22498852128662872, 0.22498852128662872, 0.22498852128662872, 0.22498852128662872, 0.22498852128662872, 0.22498852128662872, 0.22498852128662872, 0.22498852128662872, 0.22498852128662872, 0.22498852128662872, 0.22498852128662872, 0.22498852128662872, 0.22498852128662872, 0.22498852128662872, 0.22498852128662872, 0.22498852128662872, 0.22498852128662872, 0.22498852128662872, 0.22498852128662872, 0.22498852128662872, 0.22498852128662872, 0.22498852128662872, 0.22498852128662872, 0.22498852128662872, 0.22498852128662872, 0.22498852128662872, 0.22498852128662872, 0.22498852128662872, 0.22498852128662872, 0.22498852128662872, 0.22498852128662872, 0.22498852128662872, 0.22498852128662872, 0.22498852128662872, 0.22498852128662872, 0.22498852128662872, 0.22498852128662872, 0.22498852128662872, 0.22498852128662872, 0.22498852128662872, 0.22498852128662872, 0.22498852128662872, 0.22498852128662872, 0.22498852128662872, 0.22498852128662872, 0.22498852128662872, 0.22498852128662872, 0.22498852128662872, 0.22498852128662872, 0.22498852128662872, 0.22498852128662872, 0.22498852128662872, 0.22498852128662872, 0.22498852128662872, 0.22498852128662872, 0.22498852128662872, 0.22498852128662872, 0.22498852128662872, 0.22498852128662872, 0.22498852128662872, 0.22498852128662872, 0.22498852128662872, 0.22498852128662872, 0.22498852128662872, 0.22498852128662872, 0.22498852128662872, 0.22498852128662872, 0.22498852128662872, 0.22498852128662872, 0.22498852128662872, 0.22498852128662872, 0.22498852128662872, 0.22498852128662872, 0.22498852128662872, 0.22498852128662872, 0.22498852128662872, 0.22498852128662872, 0.22498852128662872, 0.22498852128662872, 0.22498852128662872, 0.22498852128662872, 0.22498852128662872, 0.22498852128662872, 0.22498852128662872, 0.22498852128662872, 0.22498852128662872, 0.22498852128662872, 0.22498852128662872, 0.22498852128662872, 0.22498852128662872, 0.22498852128662872, 0.22498852128662872, 0.22498852128662872, 0.22498852128662872, 0.22498852128662872, 0.22498852128662872, 0.22498852128662872, 0.22498852128662872, 0.22498852128662872, 0.22498852128662872, 0.22498852128662872, 0.22498852128662872, 0.22498852128662872, 0.22498852128662872, 0.22498852128662872, 0.22498852128662872, 0.22498852128662872, 0.22498852128662872, 0.22498852128662872, 0.22498852128662872, 0.22498852128662872, 0.22498852128662872, 0.22498852128662872, 0.22498852128662872, 0.22498852128662872, 0.22498852128662872, 0.22498852128662872, 0.22498852128662872, 0.22498852128662872, 0.22498852128662872, 0.22498852128662872, 0.22498852128662872, 0.22498852128662872, 0.22498852128662872, 0.22498852128662872, 0.22498852128662872, 0.22498852128662872, 0.22498852128662872, 0.22498852128662872, 0.22498852128662872, 0.22498852128662872, 0.22498852128662872, 0.22498852128662872, 0.22498852128662872, 0.22498852128662872, 0.22498852128662872, 0.22498852128662872, 0.22498852128662872, 0.22498852128662872, 0.22498852128662872, 0.22498852128662872, 0.22498852128662872, 0.22498852128662872, 0.22498852128662872, 0.22498852128662872, 0.22498852128662872, 0.22498852128662872, 0.22498852128662872, 0.22498852128662872, 0.22498852128662872, 0.22498852128662872, 0.22498852128662872, 0.22498852128662872, 0.22498852128662872, 0.22498852128662872, 0.22498852128662872, 0.22498852128662872, 0.22498852128662872, 0.22498852128662872, 0.22498852128662872, 0.22498852128662872, 0.22498852128662872, 0.22498852128662872, 0.22498852128662872, 0.22498852128662872, 0.22498852128662872, 0.22498852128662872, 0.22498852128662872, 0.22498852128662872, 0.22498852128662872, 0.22498852128662872, 0.22498852128662872, 0.22498852128662872, 0.22498852128662872, 0.22498852128662872, 0.22498852128662872, 0.22498852128662872, 0.22498852128662872, 0.22498852128662872, 0.22498852128662872, 0.22498852128662872, 0.22498852128662872, 0.22498852128662872, 0.22498852128662872, 0.22498852128662872, 0.22498852128662872, 0.22498852128662872, 0.22498852128662872, 0.22498852128662872, 0.22498852128662872, 0.22498852128662872, 0.22498852128662872, 0.22498852128662872, 0.22498852128662872, 0.22498852128662872, 0.22498852128662872, 0.22498852128662872, 0.22498852128662872, 0.22498852128662872, 0.22498852128662872, 0.22498852128662872, 0.22498852128662872, 0.22498852128662872, 0.22498852128662872, 0.22498852128662872, 0.22498852128662872, 0.22498852128662872, 0.22498852128662872, 0.22498852128662872, 0.22498852128662872, 0.22498852128662872, 0.22498852128662872, 0.22498852128662872, 0.22498852128662872, 0.22498852128662872, 0.22498852128662872, 0.22498852128662872, 0.22498852128662872, 0.22498852128662872, 0.22498852128662872, 0.22498852128662872, 0.22498852128662872, 0.22498852128662872, 0.22498852128662872, 0.22498852128662872, 0.22498852128662872, 0.22498852128662872, 0.22498852128662872, 0.22498852128662872, 0.22498852128662872, 0.22498852128662872, 0.22498852128662872, 0.22498852128662872, 0.22498852128662872, 0.22498852128662872, 0.22498852128662872, 0.22498852128662872, 0.22498852128662872, 0.22498852128662872, 0.22498852128662872, 0.22498852128662872, 0.22498852128662872, 0.22498852128662872, 0.22498852128662872, 0.22498852128662872, 0.22498852128662872, 0.22498852128662872, 0.22498852128662872, 0.22498852128662872, 0.22498852128662872, 0.22498852128662872, 0.22498852128662872, 0.22498852128662872, 0.22498852128662872, 0.22498852128662872, 0.22498852128662872, 0.22498852128662872, 0.22498852128662872, 0.22498852128662872, 0.22498852128662872, 0.22498852128662872, 0.22498852128662872, 0.22498852128662872, 0.22498852128662872, 0.22498852128662872, 0.22498852128662872, 0.22498852128662872, 0.22498852128662872, 0.22498852128662872, 0.22498852128662872, 0.22498852128662872, 0.22498852128662872, 0.22498852128662872, 0.22498852128662872, 0.22498852128662872, 0.22498852128662872, 0.22498852128662872, 0.22498852128662872, 0.22498852128662872, 0.22498852128662872, 0.22498852128662872, 0.22498852128662872, 0.22498852128662872, 0.22498852128662872, 0.22498852128662872, 0.22498852128662872, 0.22498852128662872, 0.22498852128662872, 0.22498852128662872, 0.22498852128662872, 0.22498852128662872, 0.22498852128662872, 0.22498852128662872, 0.22498852128662872, 0.22498852128662872, 0.22498852128662872, 0.22498852128662872, 0.22498852128662872, 0.22498852128662872, 0.22498852128662872, 0.22498852128662872, 0.22498852128662872, 0.22498852128662872, 0.22498852128662872, 0.22498852128662872, 0.22498852128662872, 0.22498852128662872, 0.22498852128662872, 0.22498852128662872, 0.22498852128662872, 0.22498852128662872, 0.22498852128662872, 0.22498852128662872, 0.22498852128662872, 0.22498852128662872, 0.22498852128662872, 0.22498852128662872, 0.22498852128662872, 0.22498852128662872, 0.22498852128662872, 0.22498852128662872, 0.22498852128662872, 0.22498852128662872, 0.22498852128662872, 0.22498852128662872, 0.22498852128662872, 0.22498852128662872, 0.22498852128662872, 0.22498852128662872, 0.22498852128662872, 0.22498852128662872, 0.22498852128662872, 0.22498852128662872, 0.22498852128662872, 0.22498852128662872, 0.22498852128662872, 0.22498852128662872, 0.22498852128662872, 0.22498852128662872, 0.22498852128662872, 0.22498852128662872, 0.22498852128662872, 0.22498852128662872, 0.22498852128662872, 0.22498852128662872, 0.22498852128662872, 0.22498852128662872, 0.22498852128662872, 0.22498852128662872, 0.22498852128662872, 0.22498852128662872, 0.22498852128662872, 0.22498852128662872, 0.22498852128662872, 0.22498852128662872, 0.22498852128662872, 0.22498852128662872, 0.22498852128662872, 0.22498852128662872, 0.22498852128662872, 0.22498852128662872, 0.22498852128662872, 0.22498852128662872, 0.22498852128662872, 0.22498852128662872, 0.22498852128662872, 0.22498852128662872, 0.22498852128662872, 0.22498852128662872, 0.22498852128662872, 0.22498852128662872, 0.22498852128662872, 0.22498852128662872, 0.22498852128662872, 0.22498852128662872, 0.22498852128662872, 0.22498852128662872, 0.22498852128662872, 0.22498852128662872, 0.22498852128662872, 0.22498852128662872, 0.22498852128662872, 0.22498852128662872, 0.22498852128662872, 0.22498852128662872, 0.22498852128662872, 0.22498852128662872, 0.22498852128662872, 0.22498852128662872, 0.22498852128662872, 0.22498852128662872, 0.22498852128662872, 0.22498852128662872, 0.22498852128662872, 0.22498852128662872, 0.22498852128662872, 0.22498852128662872, 0.22498852128662872, 0.22498852128662872, 0.22498852128662872, 0.22498852128662872, 0.22498852128662872, 0.22498852128662872, 0.22498852128662872, 0.22498852128662872, 0.22498852128662872, 0.22498852128662872, 0.22498852128662872, 0.22498852128662872, 0.22498852128662872, 0.22498852128662872, 0.22498852128662872, 0.22498852128662872, 0.22498852128662872, 0.22498852128662872, 0.22498852128662872, 0.22498852128662872, 0.22498852128662872, 0.22498852128662872, 0.22498852128662872, 0.22498852128662872, 0.22498852128662872, 0.22498852128662872, 0.22498852128662872, 0.22498852128662872, 0.22498852128662872, 0.22498852128662872, 0.22498852128662872, 0.22498852128662872, 0.22498852128662872, 0.22498852128662872, 0.22498852128662872, 0.22498852128662872, 0.22498852128662872, 0.22498852128662872, 0.22498852128662872, 0.22498852128662872, 0.22498852128662872, 0.22498852128662872, 0.22498852128662872, 0.22498852128662872, 0.22498852128662872, 0.22498852128662872, 0.22498852128662872, 0.22498852128662872, 0.22498852128662872, 0.22498852128662872, 0.22498852128662872, 0.22498852128662872, 0.22498852128662872, 0.22498852128662872, 0.22498852128662872, 0.22498852128662872, 0.22498852128662872, 0.22498852128662872, 0.22498852128662872, 0.22498852128662872, 0.22498852128662872, 0.22498852128662872, 0.22498852128662872, 0.22498852128662872, 0.22498852128662872, 0.22498852128662872, 0.22498852128662872, 0.22498852128662872, 0.22498852128662872, 0.22498852128662872, 0.22498852128662872, 0.22498852128662872, 0.22498852128662872, 0.22498852128662872, 0.22498852128662872, 0.22498852128662872, 0.22498852128662872, 0.22498852128662872, 0.22498852128662872, 0.22498852128662872, 0.22498852128662872, 0.22498852128662872, 0.22498852128662872, 0.22498852128662872, 0.22498852128662872, 0.22498852128662872, 0.22498852128662872, 0.22498852128662872, 0.22498852128662872, 0.22498852128662872, 0.22498852128662872, 0.22498852128662872, 0.22498852128662872, 0.22498852128662872, 0.22498852128662872, 0.22498852128662872, 0.22498852128662872, 0.22498852128662872, 0.22498852128662872, 0.22498852128662872, 0.22498852128662872, 0.22498852128662872, 0.22498852128662872, 0.22498852128662872, 0.22498852128662872, 0.22498852128662872, 0.22498852128662872, 0.22498852128662872, 0.22498852128662872, 0.22498852128662872, 0.22498852128662872, 0.22498852128662872, 0.22498852128662872, 0.22498852128662872, 0.22498852128662872, 0.22498852128662872, 0.22498852128662872, 0.22498852128662872, 0.22498852128662872, 0.22498852128662872, 0.22498852128662872, 0.22498852128662872, 0.22498852128662872, 0.22498852128662872, 0.22498852128662872, 0.22498852128662872, 0.22498852128662872, 0.22498852128662872, 0.22498852128662872, 0.22498852128662872, 0.22498852128662872, 0.22498852128662872, 0.22498852128662872, 0.22498852128662872, 0.22498852128662872, 0.22498852128662872, 0.22498852128662872, 0.22498852128662872, 0.22498852128662872, 0.22498852128662872, 0.22498852128662872, 0.22498852128662872, 0.22498852128662872, 0.22498852128662872, 0.22498852128662872, 0.22498852128662872, 0.22498852128662872, 0.22498852128662872, 0.22498852128662872, 0.22498852128662872, 0.22498852128662872, 0.22498852128662872, 0.22498852128662872, 0.22498852128662872, 0.22498852128662872, 0.22498852128662872, 0.22498852128662872, 0.22498852128662872, 0.22498852128662872, 0.22498852128662872, 0.22498852128662872, 0.22498852128662872, 0.22498852128662872, 0.22498852128662872, 0.22498852128662872, 0.22498852128662872, 0.22498852128662872, 0.22498852128662872, 0.22498852128662872, 0.22498852128662872, 0.22498852128662872, 0.22498852128662872, 0.22498852128662872, 0.22498852128662872, 0.22498852128662872, 0.22498852128662872, 0.22498852128662872, 0.22498852128662872, 0.22498852128662872, 0.22498852128662872, 0.22498852128662872, 0.22498852128662872, 0.22498852128662872, 0.22498852128662872, 0.22498852128662872, 0.22498852128662872, 0.22498852128662872, 0.22498852128662872, 0.22498852128662872, 0.22498852128662872, 0.22498852128662872, 0.22498852128662872, 0.22498852128662872, 0.22498852128662872, 0.22498852128662872, 0.22498852128662872, 0.22498852128662872, 0.22498852128662872, 0.22498852128662872, 0.22498852128662872, 0.22498852128662872, 0.22498852128662872, 0.22498852128662872, 0.22498852128662872, 0.22498852128662872, 0.22498852128662872, 0.22498852128662872, 0.22498852128662872, 0.22498852128662872, 0.22498852128662872, 0.22498852128662872, 0.22498852128662872, 0.22498852128662872, 0.22498852128662872, 0.22498852128662872, 0.22498852128662872, 0.22498852128662872, 0.22498852128662872, 0.22498852128662872, 0.22498852128662872, 0.22498852128662872, 0.22498852128662872, 0.22498852128662872, 0.22498852128662872, 0.22498852128662872, 0.22498852128662872, 0.22498852128662872, 0.22498852128662872, 0.22498852128662872, 0.22498852128662872, 0.22498852128662872, 0.22498852128662872, 0.22498852128662872, 0.22498852128662872, 0.22498852128662872, 0.22498852128662872, 0.22498852128662872, 0.22498852128662872, 0.22498852128662872, 0.22498852128662872, 0.22498852128662872, 0.22498852128662872, 0.22498852128662872, 0.22498852128662872, 0.22498852128662872, 0.22498852128662872, 0.22498852128662872, 0.22498852128662872, 0.22498852128662872, 0.22498852128662872, 0.22498852128662872, 0.22498852128662872, 0.22498852128662872, 0.22498852128662872, 0.22498852128662872, 0.22498852128662872, 0.22498852128662872, 0.22498852128662872, 0.22498852128662872, 0.22498852128662872, 0.22498852128662872, 0.22498852128662872, 0.22498852128662872, 0.22498852128662872, 0.22498852128662872, 0.22498852128662872, 0.22498852128662872, 0.22498852128662872, 0.22498852128662872, 0.22498852128662872, 0.22498852128662872, 0.22498852128662872, 0.22498852128662872, 0.22498852128662872, 0.22498852128662872, 0.22498852128662872, 0.22498852128662872, 0.22498852128662872, 0.22498852128662872, 0.22498852128662872, 0.22498852128662872, 0.22498852128662872, 0.22498852128662872, 0.22498852128662872, 0.22498852128662872, 0.22498852128662872, 0.22498852128662872, 0.22498852128662872, 0.22498852128662872, 0.22498852128662872, 0.22498852128662872, 0.22498852128662872, 0.22498852128662872, 0.22498852128662872, 0.22498852128662872, 0.22498852128662872, 0.22498852128662872, 0.22498852128662872, 0.22498852128662872, 0.22498852128662872, 0.22498852128662872, 0.22498852128662872, 0.22498852128662872, 0.22498852128662872, 0.22498852128662872, 0.22498852128662872, 0.22498852128662872, 0.22498852128662872, 0.22498852128662872, 0.22498852128662872, 0.22498852128662872, 0.22498852128662872, 0.22498852128662872, 0.22498852128662872, 0.22498852128662872, 0.22498852128662872, 0.22498852128662872, 0.22498852128662872, 0.22498852128662872, 0.22498852128662872, 0.22498852128662872, 0.22498852128662872, 0.22498852128662872, 0.22498852128662872, 0.22498852128662872, 0.22498852128662872, 0.22498852128662872, 0.22498852128662872, 0.22498852128662872, 0.22498852128662872, 0.22498852128662872, 0.22498852128662872, 0.22498852128662872, 0.22498852128662872, 0.22498852128662872, 0.22498852128662872, 0.22498852128662872, 0.22498852128662872, 0.22498852128662872, 0.22498852128662872, 0.22498852128662872, 0.22498852128662872, 0.22498852128662872, 0.22498852128662872, 0.22498852128662872, 0.22498852128662872, 0.22498852128662872, 0.22498852128662872, 0.22498852128662872, 0.22498852128662872, 0.22498852128662872, 0.22498852128662872, 0.22498852128662872, 0.22498852128662872, 0.22498852128662872, 0.22498852128662872, 0.22498852128662872, 0.22498852128662872, 0.22498852128662872, 0.22498852128662872, 0.22498852128662872, 0.22498852128662872, 0.22498852128662872, 0.22498852128662872, 0.22498852128662872, 0.22498852128662872, 0.22498852128662872, 0.22498852128662872, 0.22498852128662872, 0.22498852128662872, 0.22498852128662872, 0.22498852128662872, 0.22498852128662872, 0.22498852128662872, 0.22498852128662872, 0.22498852128662872, 0.22498852128662872, 0.22498852128662872, 0.22498852128662872, 0.22498852128662872, 0.22498852128662872, 0.22498852128662872, 0.22498852128662872, 0.22498852128662872, 0.22498852128662872, 0.22498852128662872, 0.22498852128662872, 0.22498852128662872, 0.22498852128662872, 0.22498852128662872, 0.22498852128662872, 0.22498852128662872, 0.22498852128662872, 0.22498852128662872, 0.22498852128662872, 0.22498852128662872, 0.22498852128662872, 0.22498852128662872, 0.22498852128662872, 0.22498852128662872, 0.22498852128662872, 0.22498852128662872, 0.22498852128662872, 0.22498852128662872, 0.22498852128662872, 0.22498852128662872, 0.22498852128662872, 0.22498852128662872, 0.22498852128662872, 0.22498852128662872, 0.22498852128662872, 0.22498852128662872, 0.22498852128662872, 0.22498852128662872, 0.22498852128662872, 0.22498852128662872, 0.22498852128662872, 0.22498852128662872, 0.22498852128662872, 0.22498852128662872, 0.22498852128662872, 0.22498852128662872, 0.22498852128662872, 0.22498852128662872, 0.22498852128662872, 0.22498852128662872, 0.22498852128662872, 0.22498852128662872, 0.22498852128662872, 0.22498852128662872, 0.22498852128662872, 0.22498852128662872, 0.22498852128662872, 0.22498852128662872, 0.22498852128662872, 0.22498852128662872, 0.22498852128662872, 0.22498852128662872, 0.22498852128662872, 0.22498852128662872, 0.22498852128662872, 0.22498852128662872, 0.22498852128662872, 0.22498852128662872, 0.22498852128662872, 0.22498852128662872, 0.22498852128662872, 0.22498852128662872, 0.22498852128662872, 0.22498852128662872, 0.22498852128662872, 0.22498852128662872, 0.22498852128662872, 0.22498852128662872, 0.22498852128662872, 0.22498852128662872, 0.22498852128662872, 0.22498852128662872, 0.22498852128662872, 0.22498852128662872, 0.22498852128662872, 0.22498852128662872, 0.22498852128662872, 0.22498852128662872, 0.22498852128662872, 0.22498852128662872, 0.22498852128662872, 0.22498852128662872, 0.22498852128662872, 0.22498852128662872, 0.22498852128662872, 0.22498852128662872, 0.22498852128662872, 0.22498852128662872, 0.22498852128662872, 0.22498852128662872, 0.22498852128662872, 0.22498852128662872, 0.22498852128662872, 0.22498852128662872, 0.22498852128662872, 0.22498852128662872, 0.22498852128662872, 0.22498852128662872, 0.22498852128662872, 0.22498852128662872, 0.22498852128662872, 0.22498852128662872, 0.22498852128662872, 0.22498852128662872, 0.22498852128662872, 0.22498852128662872, 0.22498852128662872, 0.22498852128662872, 0.22498852128662872, 0.22498852128662872, 0.22498852128662872, 0.22498852128662872, 0.22498852128662872, 0.22498852128662872, 0.22498852128662872, 0.22498852128662872, 0.22498852128662872, 0.22498852128662872, 0.22498852128662872, 0.22498852128662872, 0.22498852128662872, 0.22498852128662872, 0.22498852128662872, 0.22498852128662872, 0.22498852128662872, 0.22498852128662872, 0.22498852128662872, 0.22498852128662872, 0.22498852128662872, 0.22498852128662872, 0.22498852128662872, 0.22498852128662872, 0.22498852128662872, 0.22498852128662872, 0.22498852128662872, 0.22498852128662872, 0.22498852128662872, 0.22498852128662872, 0.22498852128662872, 0.22498852128662872, 0.22498852128662872, 0.22498852128662872, 0.22498852128662872, 0.22498852128662872, 0.22498852128662872, 0.22498852128662872, 0.22498852128662872, 0.22498852128662872, 0.22498852128662872, 0.22498852128662872, 0.22498852128662872, 0.22498852128662872, 0.22498852128662872, 0.22498852128662872, 0.22498852128662872, 0.22498852128662872, 0.22498852128662872, 0.22498852128662872, 0.22498852128662872, 0.22498852128662872, 0.22498852128662872, 0.22498852128662872, 0.22498852128662872, 0.22498852128662872, 0.22498852128662872, 0.22498852128662872, 0.22498852128662872, 0.22498852128662872, 0.22498852128662872, 0.22498852128662872, 0.22498852128662872, 0.22498852128662872, 0.22498852128662872, 0.22498852128662872, 0.22498852128662872, 0.22498852128662872, 0.22498852128662872, 0.22498852128662872, 0.22498852128662872, 0.22498852128662872, 0.22498852128662872, 0.22498852128662872, 0.22498852128662872, 0.22498852128662872, 0.22498852128662872, 0.22498852128662872, 0.22498852128662872, 0.22498852128662872, 0.22498852128662872, 0.22498852128662872, 0.22498852128662872, 0.22498852128662872, 0.22498852128662872, 0.22498852128662872, 0.22498852128662872, 0.22498852128662872, 0.22498852128662872, 0.22498852128662872, 0.22498852128662872, 0.22498852128662872, 0.22498852128662872, 0.22498852128662872, 0.22498852128662872, 0.22498852128662872, 0.22498852128662872, 0.22498852128662872, 0.22498852128662872, 0.22498852128662872, 0.22498852128662872, 0.22498852128662872, 0.22498852128662872, 0.22498852128662872, 0.22498852128662872, 0.22498852128662872, 0.22498852128662872, 0.22498852128662872, 0.22498852128662872, 0.22498852128662872, 0.22498852128662872, 0.22498852128662872, 0.22498852128662872, 0.22498852128662872, 0.22498852128662872, 0.22498852128662872, 0.22498852128662872, 0.22498852128662872, 0.22498852128662872, 0.22498852128662872, 0.22498852128662872, 0.22498852128662872, 0.22498852128662872, 0.22498852128662872, 0.22498852128662872, 0.22498852128662872, 0.22498852128662872, 0.22498852128662872, 0.22498852128662872, 0.22498852128662872, 0.22498852128662872, 0.22498852128662872, 0.22498852128662872, 0.22498852128662872, 0.22498852128662872, 0.22498852128662872, 0.22498852128662872, 0.22498852128662872, 0.22498852128662872, 0.22498852128662872, 0.22498852128662872, 0.22498852128662872, 0.22498852128662872, 0.22498852128662872, 0.22498852128662872, 0.22498852128662872, 0.22498852128662872, 0.22498852128662872, 0.22498852128662872, 0.22498852128662872, 0.22498852128662872, 0.22498852128662872, 0.22498852128662872, 0.22498852128662872, 0.22498852128662872, 0.22498852128662872, 0.22498852128662872, 0.22498852128662872, 0.22498852128662872, 0.22498852128662872, 0.22498852128662872, 0.22498852128662872, 0.22498852128662872, 0.22498852128662872, 0.22498852128662872, 0.22498852128662872, 0.22498852128662872, 0.22498852128662872, 0.22498852128662872, 0.22498852128662872, 0.22498852128662872, 0.22498852128662872, 0.22498852128662872, 0.22498852128662872, 0.22498852128662872, 0.22498852128662872, 0.22498852128662872, 0.22498852128662872, 0.22498852128662872, 0.22498852128662872, 0.22498852128662872, 0.22498852128662872, 0.22498852128662872, 0.22498852128662872, 0.22498852128662872, 0.22498852128662872, 0.22498852128662872, 0.22498852128662872, 0.22498852128662872, 0.22498852128662872, 0.22498852128662872, 0.22498852128662872, 0.22498852128662872, 0.22498852128662872, 0.22498852128662872, 0.22498852128662872, 0.22498852128662872, 0.22498852128662872, 0.22498852128662872, 0.22498852128662872, 0.22498852128662872, 0.22498852128662872, 0.22498852128662872, 0.22498852128662872, 0.22498852128662872, 0.22498852128662872, 0.22498852128662872, 0.22498852128662872, 0.22498852128662872, 0.22498852128662872, 0.22498852128662872, 0.22498852128662872, 0.22498852128662872, 0.22498852128662872, 0.22498852128662872, 0.22498852128662872, 0.22498852128662872, 0.22498852128662872, 0.22498852128662872, 0.22498852128662872, 0.22498852128662872, 0.22498852128662872, 0.22498852128662872, 0.22498852128662872, 0.22498852128662872, 0.22498852128662872, 0.22498852128662872, 0.22498852128662872, 0.22498852128662872, 0.22498852128662872, 0.22498852128662872, 0.22498852128662872, 0.22498852128662872, 0.22498852128662872, 0.22498852128662872, 0.22498852128662872, 0.22498852128662872, 0.22498852128662872, 0.22498852128662872, 0.22498852128662872, 0.22498852128662872, 0.22498852128662872, 0.22498852128662872, 0.22498852128662872, 0.22498852128662872, 0.22498852128662872, 0.22498852128662872, 0.22498852128662872, 0.22498852128662872, 0.22498852128662872, 0.22498852128662872, 0.22498852128662872, 0.22498852128662872, 0.22498852128662872, 0.22498852128662872, 0.22498852128662872, 0.22498852128662872, 0.22498852128662872, 0.22498852128662872, 0.22498852128662872, 0.22498852128662872, 0.22498852128662872, 0.22498852128662872, 0.22498852128662872, 0.22498852128662872, 0.22498852128662872, 0.22498852128662872, 0.22498852128662872, 0.22498852128662872, 0.22498852128662872, 0.22498852128662872, 0.22498852128662872, 0.22498852128662872, 0.22498852128662872, 0.22498852128662872, 0.22498852128662872, 0.22498852128662872, 0.22498852128662872, 0.22498852128662872, 0.22498852128662872, 0.22498852128662872, 0.22498852128662872, 0.22498852128662872, 0.22498852128662872, 0.22498852128662872, 0.22498852128662872, 0.22498852128662872, 0.22498852128662872, 0.22498852128662872, 0.22498852128662872, 0.22498852128662872, 0.22498852128662872, 0.22498852128662872, 0.22498852128662872, 0.22498852128662872, 0.22498852128662872, 0.22498852128662872, 0.22498852128662872, 0.22498852128662872, 0.22498852128662872, 0.22498852128662872, 0.22498852128662872, 0.22498852128662872, 0.22498852128662872, 0.22498852128662872, 0.22498852128662872, 0.22498852128662872, 0.22498852128662872, 0.22498852128662872, 0.22498852128662872, 0.22498852128662872, 0.22498852128662872, 0.22498852128662872, 0.22498852128662872, 0.22498852128662872, 0.22498852128662872, 0.22498852128662872, 0.22498852128662872, 0.22498852128662872, 0.22498852128662872, 0.22498852128662872, 0.22498852128662872, 0.22498852128662872, 0.22498852128662872, 0.22498852128662872, 0.22498852128662872, 0.22498852128662872, 0.22498852128662872, 0.22498852128662872, 0.22498852128662872, 0.22498852128662872, 0.22498852128662872, 0.22498852128662872, 0.22498852128662872, 0.22498852128662872, 0.22498852128662872, 0.22498852128662872, 0.22498852128662872, 0.22498852128662872, 0.22498852128662872, 0.22498852128662872, 0.22498852128662872, 0.22498852128662872, 0.22498852128662872, 0.22498852128662872, 0.22498852128662872, 0.22498852128662872, 0.22498852128662872, 0.22498852128662872, 0.22498852128662872, 0.22498852128662872, 0.22498852128662872, 0.22498852128662872, 0.22498852128662872, 0.22498852128662872, 0.22498852128662872, 0.22498852128662872, 0.22498852128662872, 0.22498852128662872, 0.22498852128662872, 0.22498852128662872, 0.22498852128662872, 0.22498852128662872, 0.22498852128662872, 0.22498852128662872, 0.22498852128662872, 0.22498852128662872, 0.22498852128662872, 0.22498852128662872, 0.22498852128662872, 0.22498852128662872, 0.22498852128662872, 0.22498852128662872, 0.22498852128662872, 0.22498852128662872, 0.22498852128662872, 0.22498852128662872, 0.22498852128662872, 0.22498852128662872, 0.22498852128662872, 0.22498852128662872, 0.22498852128662872, 0.22498852128662872, 0.22498852128662872, 0.22498852128662872, 0.22498852128662872, 0.22498852128662872, 0.22498852128662872, 0.22498852128662872, 0.22498852128662872, 0.22498852128662872, 0.22498852128662872, 0.22498852128662872, 0.22498852128662872, 0.22498852128662872, 0.22498852128662872, 0.22498852128662872, 0.22498852128662872, 0.22498852128662872, 0.22498852128662872, 0.22498852128662872, 0.22498852128662872, 0.22498852128662872, 0.22498852128662872, 0.22498852128662872, 0.22498852128662872, 0.22498852128662872, 0.22498852128662872, 0.22498852128662872, 0.22498852128662872, 0.22498852128662872, 0.22498852128662872, 0.22498852128662872, 0.22498852128662872, 0.22498852128662872, 0.22498852128662872, 0.22498852128662872, 0.22498852128662872, 0.22498852128662872, 0.22498852128662872, 0.22498852128662872, 0.22498852128662872, 0.22498852128662872, 0.22498852128662872, 0.22498852128662872, 0.22498852128662872, 0.22498852128662872, 0.22498852128662872, 0.22498852128662872, 0.22498852128662872, 0.22498852128662872, 0.22498852128662872, 0.22498852128662872, 0.22498852128662872, 0.22498852128662872, 0.22498852128662872, 0.22498852128662872, 0.22498852128662872, 0.22498852128662872, 0.22498852128662872, 0.22498852128662872, 0.22498852128662872, 0.22498852128662872, 0.22498852128662872, 0.22498852128662872, 0.22498852128662872, 0.22498852128662872, 0.22498852128662872, 0.22498852128662872, 0.22498852128662872, 0.22498852128662872, 0.22498852128662872, 0.22498852128662872, 0.22498852128662872, 0.22498852128662872, 0.22498852128662872, 0.22498852128662872, 0.22498852128662872, 0.22498852128662872, 0.22498852128662872, 0.22498852128662872, 0.22498852128662872, 0.22498852128662872, 0.22498852128662872, 0.22498852128662872, 0.22498852128662872, 0.22498852128662872, 0.22498852128662872, 0.22498852128662872, 0.22498852128662872, 0.22498852128662872, 0.22498852128662872, 0.22498852128662872, 0.22498852128662872, 0.22498852128662872, 0.22498852128662872, 0.22498852128662872, 0.22498852128662872, 0.22498852128662872, 0.22498852128662872, 0.22498852128662872, 0.22498852128662872, 0.22498852128662872, 0.22498852128662872, 0.22498852128662872, 0.22498852128662872, 0.22498852128662872, 0.22498852128662872, 0.22498852128662872, 0.22498852128662872, 0.22498852128662872, 0.22498852128662872, 0.22498852128662872, 0.22498852128662872, 0.22498852128662872, 0.22498852128662872, 0.22498852128662872, 0.22498852128662872, 0.22498852128662872, 0.22498852128662872, 0.22498852128662872, 0.22498852128662872, 0.22498852128662872, 0.22498852128662872, 0.22498852128662872, 0.22498852128662872, 0.22498852128662872, 0.22498852128662872, 0.22498852128662872, 0.22498852128662872, 0.22498852128662872, 0.22498852128662872, 0.22498852128662872, 0.22498852128662872, 0.22498852128662872, 0.22498852128662872, 0.22498852128662872, 0.22498852128662872, 0.22498852128662872, 0.22498852128662872, 0.22498852128662872, 0.22498852128662872, 0.22498852128662872, 0.22498852128662872, 0.22498852128662872, 0.22498852128662872, 0.22498852128662872, 0.22498852128662872, 0.22498852128662872, 0.22498852128662872, 0.22498852128662872, 0.22498852128662872, 0.22498852128662872, 0.22498852128662872, 0.22498852128662872, 0.22498852128662872, 0.22498852128662872, 0.22498852128662872, 0.22498852128662872, 0.22498852128662872, 0.22498852128662872, 0.22498852128662872, 0.22498852128662872, 0.22498852128662872, 0.22498852128662872, 0.22498852128662872, 0.22498852128662872, 0.22498852128662872, 0.22498852128662872, 0.22498852128662872, 0.22498852128662872, 0.22498852128662872, 0.22498852128662872, 0.22498852128662872, 0.22498852128662872, 0.22498852128662872, 0.22498852128662872, 0.22498852128662872, 0.22498852128662872, 0.22498852128662872, 0.22498852128662872, 0.22498852128662872, 0.22498852128662872, 0.22498852128662872, 0.22498852128662872, 0.22498852128662872, 0.22498852128662872, 0.22498852128662872, 0.22498852128662872, 0.22498852128662872, 0.22498852128662872, 0.22498852128662872, 0.22498852128662872, 0.22498852128662872, 0.22498852128662872, 0.22498852128662872, 0.22498852128662872, 0.22498852128662872, 0.22498852128662872, 0.22498852128662872, 0.22498852128662872, 0.22498852128662872, 0.22498852128662872, 0.22498852128662872, 0.22498852128662872, 0.22498852128662872, 0.22498852128662872, 0.22498852128662872, 0.22498852128662872, 0.22498852128662872, 0.22498852128662872, 0.22498852128662872, 0.22498852128662872, 0.22498852128662872, 0.22498852128662872, 0.22498852128662872, 0.22498852128662872, 0.22498852128662872, 0.22498852128662872, 0.22498852128662872, 0.22498852128662872, 0.22498852128662872, 0.22498852128662872, 0.22498852128662872, 0.22498852128662872, 0.22498852128662872, 0.22498852128662872, 0.22498852128662872, 0.22498852128662872, 0.22498852128662872, 0.22498852128662872, 0.22498852128662872, 0.22498852128662872, 0.22498852128662872, 0.22498852128662872, 0.22498852128662872, 0.22498852128662872, 0.22498852128662872, 0.22498852128662872, 0.22498852128662872, 0.22498852128662872, 0.22498852128662872, 0.22498852128662872, 0.22498852128662872, 0.22498852128662872, 0.22498852128662872, 0.22498852128662872, 0.22498852128662872, 0.22498852128662872, 0.22498852128662872, 0.22498852128662872, 0.22498852128662872, 0.22498852128662872, 0.22498852128662872, 0.22498852128662872, 0.22498852128662872, 0.22498852128662872, 0.22498852128662872, 0.22498852128662872, 0.22498852128662872, 0.22498852128662872, 0.22498852128662872, 0.22498852128662872, 0.22498852128662872, 0.22498852128662872, 0.22498852128662872, 0.22498852128662872, 0.22498852128662872, 0.22498852128662872, 0.22498852128662872, 0.22498852128662872, 0.22498852128662872, 0.22498852128662872, 0.22498852128662872, 0.22498852128662872, 0.22498852128662872, 0.22498852128662872, 0.22498852128662872, 0.22498852128662872, 0.22498852128662872, 0.22498852128662872, 0.22498852128662872, 0.22498852128662872, 0.22498852128662872, 0.22498852128662872, 0.22498852128662872, 0.22498852128662872, 0.22498852128662872, 0.22498852128662872, 0.22498852128662872, 0.22498852128662872, 0.22498852128662872, 0.22498852128662872, 0.22498852128662872, 0.22498852128662872, 0.22498852128662872, 0.22498852128662872, 0.22498852128662872, 0.22498852128662872, 0.22498852128662872, 0.22498852128662872, 0.22498852128662872, 0.22498852128662872, 0.22498852128662872, 0.22498852128662872, 0.22498852128662872, 0.22498852128662872, 0.22498852128662872, 0.22498852128662872, 0.22498852128662872, 0.22498852128662872, 0.22498852128662872, 0.22498852128662872, 0.22498852128662872, 0.22498852128662872, 0.22498852128662872, 0.22498852128662872, 0.22498852128662872, 0.22498852128662872, 0.22498852128662872, 0.22498852128662872, 0.22498852128662872, 0.22498852128662872, 0.22498852128662872, 0.22498852128662872, 0.22498852128662872, 0.22498852128662872, 0.22498852128662872, 0.22498852128662872, 0.22498852128662872, 0.22498852128662872, 0.22498852128662872, 0.22498852128662872, 0.22498852128662872, 0.22498852128662872, 0.22498852128662872, 0.22498852128662872, 0.22498852128662872, 0.22498852128662872, 0.22498852128662872, 0.22498852128662872, 0.22498852128662872, 0.22498852128662872, 0.22498852128662872, 0.22498852128662872, 0.22498852128662872, 0.22498852128662872, 0.22498852128662872, 0.22498852128662872, 0.22498852128662872, 0.22498852128662872, 0.22498852128662872, 0.22498852128662872, 0.22498852128662872, 0.22498852128662872, 0.22498852128662872, 0.22498852128662872, 0.22498852128662872, 0.22498852128662872, 0.22498852128662872, 0.22498852128662872, 0.22498852128662872, 0.22498852128662872, 0.22498852128662872, 0.22498852128662872, 0.22498852128662872, 0.22498852128662872, 0.22498852128662872, 0.22498852128662872, 0.22498852128662872, 0.22498852128662872, 0.22498852128662872, 0.22498852128662872, 0.22498852128662872, 0.22498852128662872, 0.22498852128662872, 0.22498852128662872, 0.22498852128662872, 0.22498852128662872, 0.22498852128662872, 0.22498852128662872, 0.22498852128662872, 0.22498852128662872, 0.22498852128662872, 0.22498852128662872, 0.22498852128662872, 0.22498852128662872, 0.22498852128662872, 0.22498852128662872, 0.22498852128662872, 0.22498852128662872, 0.22498852128662872, 0.22498852128662872, 0.22498852128662872, 0.22498852128662872, 0.22498852128662872, 0.22498852128662872, 0.22498852128662872, 0.22498852128662872, 0.22498852128662872, 0.22498852128662872, 0.22498852128662872, 0.22498852128662872, 0.22498852128662872, 0.22498852128662872, 0.22498852128662872, 0.22498852128662872, 0.22498852128662872, 0.22498852128662872, 0.22498852128662872, 0.22498852128662872, 0.22498852128662872, 0.22498852128662872, 0.22498852128662872, 0.22498852128662872, 0.22498852128662872, 0.22498852128662872, 0.22498852128662872, 0.22498852128662872, 0.22498852128662872, 0.22498852128662872, 0.22498852128662872, 0.22498852128662872, 0.22498852128662872, 0.22498852128662872, 0.22498852128662872, 0.22498852128662872, 0.22498852128662872, 0.22498852128662872, 0.22498852128662872, 0.22498852128662872, 0.22498852128662872, 0.22498852128662872, 0.22498852128662872, 0.22498852128662872, 0.22498852128662872, 0.22498852128662872, 0.22498852128662872, 0.22498852128662872, 0.22498852128662872, 0.22498852128662872, 0.22498852128662872, 0.22498852128662872, 0.22498852128662872, 0.22498852128662872, 0.22498852128662872, 0.22498852128662872, 0.22498852128662872, 0.22498852128662872, 0.22498852128662872, 0.22498852128662872, 0.22498852128662872, 0.22498852128662872, 0.22498852128662872, 0.22498852128662872, 0.22498852128662872, 0.22498852128662872, 0.22498852128662872, 0.22498852128662872, 0.22498852128662872, 0.22498852128662872, 0.22498852128662872, 0.22498852128662872, 0.22498852128662872, 0.22498852128662872, 0.22498852128662872, 0.22498852128662872, 0.22498852128662872, 0.22498852128662872, 0.22498852128662872, 0.22498852128662872, 0.22498852128662872, 0.22498852128662872, 0.22498852128662872, 0.22498852128662872, 0.22498852128662872, 0.22498852128662872, 0.22498852128662872, 0.22498852128662872, 0.22498852128662872, 0.22498852128662872, 0.22498852128662872, 0.22498852128662872, 0.22498852128662872, 0.22498852128662872, 0.22498852128662872, 0.22498852128662872, 0.22498852128662872, 0.22498852128662872, 0.22498852128662872, 0.22498852128662872, 0.22498852128662872, 0.22498852128662872, 0.22498852128662872, 0.22498852128662872, 0.22498852128662872, 0.22498852128662872, 0.22498852128662872, 0.22498852128662872, 0.22498852128662872, 0.22498852128662872, 0.22498852128662872, 0.22498852128662872, 0.22498852128662872, 0.22498852128662872, 0.22498852128662872, 0.22498852128662872, 0.22498852128662872, 0.22498852128662872, 0.22498852128662872, 0.22498852128662872, 0.22498852128662872, 0.22498852128662872, 0.22498852128662872, 0.22498852128662872, 0.22498852128662872, 0.22498852128662872, 0.22498852128662872, 0.22498852128662872, 0.22498852128662872, 0.22498852128662872, 0.22498852128662872, 0.22498852128662872, 0.22498852128662872, 0.22498852128662872, 0.22498852128662872, 0.22498852128662872, 0.22498852128662872, 0.22498852128662872, 0.22498852128662872, 0.22498852128662872, 0.22498852128662872, 0.22498852128662872, 0.22498852128662872, 0.22498852128662872, 0.22498852128662872, 0.22498852128662872, 0.22498852128662872, 0.22498852128662872, 0.22498852128662872, 0.22498852128662872, 0.22498852128662872, 0.22498852128662872, 0.22498852128662872, 0.22498852128662872, 0.22498852128662872, 0.22498852128662872, 0.22498852128662872, 0.22498852128662872, 0.22498852128662872, 0.22498852128662872, 0.22498852128662872, 0.22498852128662872, 0.22498852128662872, 0.22498852128662872, 0.22498852128662872, 0.22498852128662872, 0.22498852128662872, 0.22498852128662872, 0.22498852128662872, 0.22498852128662872, 0.22498852128662872, 0.22498852128662872, 0.22498852128662872, 0.22498852128662872, 0.22498852128662872, 0.22498852128662872, 0.22498852128662872, 0.22498852128662872, 0.22498852128662872, 0.22498852128662872, 0.22498852128662872, 0.22498852128662872, 0.22498852128662872, 0.22498852128662872, 0.22498852128662872, 0.22498852128662872, 0.22498852128662872, 0.22498852128662872, 0.22498852128662872, 0.22498852128662872, 0.22498852128662872, 0.22498852128662872, 0.22498852128662872, 0.22498852128662872, 0.22498852128662872, 0.22498852128662872, 0.22498852128662872, 0.22498852128662872, 0.22498852128662872, 0.22498852128662872, 0.22498852128662872, 0.22498852128662872, 0.22498852128662872, 0.22498852128662872, 0.22498852128662872, 0.22498852128662872, 0.22498852128662872, 0.22498852128662872, 0.22498852128662872, 0.22498852128662872, 0.22498852128662872, 0.22498852128662872, 0.22498852128662872, 0.22498852128662872, 0.22498852128662872, 0.22498852128662872, 0.22498852128662872, 0.22498852128662872, 0.22498852128662872, 0.22498852128662872, 0.22498852128662872, 0.22498852128662872, 0.22498852128662872, 0.22498852128662872, 0.22498852128662872, 0.22498852128662872, 0.22498852128662872, 0.22498852128662872, 0.22498852128662872, 0.22498852128662872, 0.22498852128662872, 0.22498852128662872, 0.22498852128662872, 0.22498852128662872, 0.22498852128662872, 0.22498852128662872, 0.22498852128662872, 0.22498852128662872, 0.22498852128662872, 0.22498852128662872, 0.22498852128662872, 0.22498852128662872, 0.22498852128662872, 0.22498852128662872, 0.22498852128662872, 0.22498852128662872, 0.22498852128662872, 0.22498852128662872, 0.22498852128662872, 0.22498852128662872, 0.22498852128662872, 0.22498852128662872, 0.22498852128662872, 0.22498852128662872, 0.22498852128662872, 0.22498852128662872, 0.22498852128662872, 0.22498852128662872, 0.22498852128662872, 0.22498852128662872, 0.22498852128662872, 0.22498852128662872, 0.22498852128662872, 0.22498852128662872, 0.22498852128662872, 0.22498852128662872, 0.22498852128662872, 0.22498852128662872, 0.22498852128662872, 0.22498852128662872, 0.22498852128662872, 0.22498852128662872, 0.22498852128662872, 0.22498852128662872, 0.22498852128662872, 0.22498852128662872, 0.22498852128662872, 0.22498852128662872, 0.22498852128662872, 0.22498852128662872, 0.22498852128662872, 0.22498852128662872, 0.22498852128662872, 0.22498852128662872, 0.22498852128662872, 0.22498852128662872, 0.22498852128662872, 0.22498852128662872, 0.22498852128662872, 0.22498852128662872, 0.22498852128662872, 0.22498852128662872, 0.22498852128662872, 0.22498852128662872, 0.22498852128662872, 0.22498852128662872, 0.22498852128662872, 0.22498852128662872, 0.22498852128662872, 0.22498852128662872, 0.22498852128662872, 0.22498852128662872, 0.22498852128662872, 0.22498852128662872, 0.22498852128662872, 0.22498852128662872, 0.22498852128662872, 0.22498852128662872, 0.22498852128662872, 0.22498852128662872, 0.22498852128662872, 0.22498852128662872, 0.22498852128662872, 0.22498852128662872, 0.22498852128662872, 0.22498852128662872, 0.22498852128662872, 0.22498852128662872, 0.22498852128662872, 0.22498852128662872, 0.22498852128662872, 0.22498852128662872, 0.22498852128662872, 0.22498852128662872, 0.22498852128662872, 0.22498852128662872, 0.22498852128662872, 0.22498852128662872, 0.22498852128662872, 0.22498852128662872, 0.22498852128662872, 0.22498852128662872, 0.22498852128662872, 0.22498852128662872, 0.22498852128662872, 0.22498852128662872, 0.22498852128662872, 0.22498852128662872, 0.22498852128662872, 0.22498852128662872, 0.22498852128662872, 0.22498852128662872, 0.22498852128662872, 0.22498852128662872, 0.22498852128662872, 0.22498852128662872, 0.22498852128662872, 0.22498852128662872, 0.22498852128662872, 0.22498852128662872, 0.22498852128662872, 0.22498852128662872, 0.22498852128662872, 0.22498852128662872, 0.22498852128662872, 0.22498852128662872, 0.22498852128662872, 0.22498852128662872, 0.22498852128662872, 0.22498852128662872, 0.22498852128662872, 0.22498852128662872, 0.22498852128662872, 0.22498852128662872, 0.22498852128662872, 0.22498852128662872, 0.22498852128662872, 0.22498852128662872, 0.22498852128662872, 0.22498852128662872, 0.22498852128662872, 0.22498852128662872, 0.22498852128662872, 0.22498852128662872, 0.22498852128662872, 0.22498852128662872, 0.22498852128662872, 0.22498852128662872, 0.22498852128662872, 0.22498852128662872, 0.22498852128662872, 0.22498852128662872, 0.22498852128662872, 0.22498852128662872, 0.22498852128662872, 0.22498852128662872, 0.22498852128662872, 0.22498852128662872, 0.22498852128662872, 0.22498852128662872, 0.22498852128662872, 0.22498852128662872, 0.22498852128662872, 0.22498852128662872, 0.22498852128662872, 0.22498852128662872, 0.22498852128662872, 0.22498852128662872, 0.22498852128662872, 0.22498852128662872, 0.22498852128662872, 0.22498852128662872, 0.22498852128662872, 0.22498852128662872, 0.22498852128662872, 0.22498852128662872, 0.22498852128662872, 0.22498852128662872, 0.22498852128662872, 0.22498852128662872, 0.22498852128662872, 0.22498852128662872, 0.22498852128662872, 0.22498852128662872, 0.22498852128662872, 0.22498852128662872, 0.22498852128662872, 0.22498852128662872, 0.22498852128662872, 0.22498852128662872, 0.22498852128662872, 0.22498852128662872, 0.22498852128662872, 0.22498852128662872, 0.22498852128662872, 0.22498852128662872, 0.22498852128662872, 0.22498852128662872, 0.22498852128662872, 0.22498852128662872, 0.22498852128662872, 0.22498852128662872, 0.22498852128662872, 0.22498852128662872, 0.22498852128662872, 0.22498852128662872, 0.22498852128662872, 0.22498852128662872, 0.22498852128662872, 0.22498852128662872, 0.22498852128662872, 0.22498852128662872, 0.22498852128662872, 0.22498852128662872, 0.22498852128662872, 0.22498852128662872, 0.22498852128662872, 0.22498852128662872, 0.22498852128662872, 0.22498852128662872, 0.22498852128662872, 0.22498852128662872, 0.22498852128662872, 0.22498852128662872, 0.22498852128662872, 0.22498852128662872, 0.22498852128662872, 0.22498852128662872, 0.22498852128662872, 0.22498852128662872, 0.22498852128662872, 0.22498852128662872, 0.22498852128662872, 0.22498852128662872, 0.22498852128662872, 0.22498852128662872, 0.22498852128662872, 0.22498852128662872, 0.22498852128662872, 0.22498852128662872, 0.22498852128662872, 0.22498852128662872, 0.22498852128662872, 0.22498852128662872, 0.22498852128662872, 0.22498852128662872, 0.22498852128662872, 0.22498852128662872, 0.22498852128662872, 0.22498852128662872, 0.22498852128662872, 0.22498852128662872, 0.22498852128662872, 0.22498852128662872, 0.22498852128662872, 0.22498852128662872, 0.22498852128662872, 0.22498852128662872, 0.22498852128662872, 0.22498852128662872, 0.22498852128662872, 0.22498852128662872, 0.22498852128662872, 0.22498852128662872, 0.22498852128662872, 0.22498852128662872, 0.22498852128662872, 0.22498852128662872, 0.22498852128662872, 0.22498852128662872, 0.22498852128662872, 0.22498852128662872, 0.22498852128662872, 0.22498852128662872, 0.22498852128662872, 0.22498852128662872, 0.22498852128662872, 0.22498852128662872, 0.22498852128662872, 0.22498852128662872, 0.22498852128662872, 0.22498852128662872, 0.22498852128662872, 0.22498852128662872, 0.22498852128662872, 0.22498852128662872, 0.22498852128662872, 0.22498852128662872, 0.22498852128662872, 0.22498852128662872, 0.22498852128662872, 0.22498852128662872, 0.22498852128662872, 0.22498852128662872, 0.22498852128662872, 0.22498852128662872, 0.22498852128662872, 0.22498852128662872, 0.22498852128662872, 0.22498852128662872, 0.22498852128662872, 0.22498852128662872, 0.22498852128662872, 0.22498852128662872, 0.22498852128662872, 0.22498852128662872, 0.22498852128662872, 0.22498852128662872, 0.22498852128662872, 0.22498852128662872, 0.22498852128662872, 0.22498852128662872, 0.22498852128662872, 0.22498852128662872, 0.22498852128662872, 0.22498852128662872, 0.22498852128662872, 0.22498852128662872, 0.22498852128662872, 0.22498852128662872, 0.22498852128662872, 0.22498852128662872, 0.22498852128662872, 0.22498852128662872, 0.22498852128662872, 0.22498852128662872, 0.22498852128662872, 0.22498852128662872, 0.22498852128662872, 0.22498852128662872, 0.22498852128662872, 0.22498852128662872, 0.22498852128662872, 0.22498852128662872, 0.22498852128662872, 0.22498852128662872, 0.22498852128662872, 0.22498852128662872, 0.22498852128662872, 0.22498852128662872, 0.22498852128662872, 0.22498852128662872, 0.22498852128662872, 0.22498852128662872, 0.22498852128662872, 0.22498852128662872, 0.22498852128662872, 0.22498852128662872, 0.22498852128662872, 0.22498852128662872, 0.22498852128662872, 0.22498852128662872, 0.22498852128662872, 0.22498852128662872, 0.22498852128662872, 0.22498852128662872, 0.22498852128662872, 0.22498852128662872, 0.22498852128662872, 0.22498852128662872, 0.22498852128662872, 0.22498852128662872, 0.22498852128662872, 0.22498852128662872, 0.22498852128662872, 0.22498852128662872, 0.22498852128662872, 0.22498852128662872, 0.22498852128662872, 0.22498852128662872, 0.22498852128662872, 0.22498852128662872, 0.22498852128662872, 0.22498852128662872, 0.22498852128662872, 0.22498852128662872, 0.22498852128662872, 0.22498852128662872, 0.22498852128662872, 0.22498852128662872, 0.22498852128662872, 0.22498852128662872, 0.22498852128662872, 0.22498852128662872, 0.22498852128662872, 0.22498852128662872, 0.22498852128662872, 0.22498852128662872, 0.22498852128662872, 0.22498852128662872, 0.22498852128662872, 0.22498852128662872, 0.22498852128662872, 0.22498852128662872, 0.22498852128662872, 0.22498852128662872, 0.22498852128662872, 0.22498852128662872, 0.22498852128662872, 0.22498852128662872, 0.22498852128662872, 0.22498852128662872, 0.22498852128662872, 0.22498852128662872, 0.22498852128662872, 0.22498852128662872, 0.22498852128662872, 0.22498852128662872, 0.22498852128662872, 0.22498852128662872, 0.22498852128662872, 0.22498852128662872, 0.22498852128662872, 0.22498852128662872, 0.22498852128662872, 0.22498852128662872, 0.22498852128662872, 0.22498852128662872, 0.22498852128662872, 0.22498852128662872, 0.22498852128662872, 0.22498852128662872, 0.22498852128662872, 0.22498852128662872, 0.22498852128662872, 0.22498852128662872, 0.22498852128662872, 0.22498852128662872, 0.22498852128662872, 0.22498852128662872, 0.22498852128662872, 0.22498852128662872, 0.22498852128662872, 0.22498852128662872, 0.22498852128662872, 0.22498852128662872, 0.22498852128662872, 0.22498852128662872, 0.22498852128662872, 0.22498852128662872, 0.22498852128662872, 0.22498852128662872, 0.22498852128662872, 0.22498852128662872, 0.22498852128662872, 0.22498852128662872, 0.22498852128662872, 0.22498852128662872, 0.22498852128662872, 0.22498852128662872, 0.22498852128662872, 0.22498852128662872, 0.22498852128662872, 0.22498852128662872, 0.22498852128662872, 0.22498852128662872, 0.22498852128662872, 0.22498852128662872, 0.22498852128662872, 0.22498852128662872, 0.22498852128662872, 0.22498852128662872, 0.22498852128662872, 0.22498852128662872, 0.22498852128662872, 0.22498852128662872, 0.22498852128662872, 0.22498852128662872, 0.22498852128662872, 0.22498852128662872, 0.22498852128662872, 0.22498852128662872, 0.22498852128662872, 0.22498852128662872, 0.22498852128662872, 0.22498852128662872, 0.22498852128662872, 0.22498852128662872, 0.22498852128662872, 0.22498852128662872, 0.22498852128662872, 0.22498852128662872, 0.22498852128662872, 0.22498852128662872, 0.22498852128662872, 0.22498852128662872, 0.22498852128662872, 0.22498852128662872, 0.22498852128662872, 0.22498852128662872, 0.22498852128662872, 0.22498852128662872, 0.22498852128662872, 0.22498852128662872, 0.22498852128662872, 0.22498852128662872, 0.22498852128662872, 0.22498852128662872, 0.22498852128662872, 0.22498852128662872, 0.22498852128662872, 0.22498852128662872, 0.22498852128662872, 0.22498852128662872, 0.22498852128662872, 0.22498852128662872, 0.22498852128662872, 0.22498852128662872, 0.22498852128662872, 0.22498852128662872, 0.22498852128662872, 0.22498852128662872, 0.22498852128662872, 0.22498852128662872, 0.22498852128662872, 0.22498852128662872, 0.22498852128662872, 0.22498852128662872, 0.22498852128662872, 0.22498852128662872, 0.22498852128662872, 0.22498852128662872, 0.22498852128662872, 0.22498852128662872, 0.22498852128662872, 0.22498852128662872, 0.22498852128662872, 0.22498852128662872, 0.22498852128662872, 0.22498852128662872, 0.22498852128662872, 0.22498852128662872, 0.22498852128662872, 0.22498852128662872, 0.22498852128662872, 0.22498852128662872, 0.22498852128662872, 0.22498852128662872, 0.22498852128662872, 0.22498852128662872, 0.22498852128662872, 0.22498852128662872, 0.22498852128662872, 0.22498852128662872, 0.22498852128662872, 0.22498852128662872, 0.22498852128662872, 0.22498852128662872, 0.22498852128662872, 0.22498852128662872, 0.22498852128662872, 0.22498852128662872, 0.22498852128662872, 0.22498852128662872, 0.22498852128662872, 0.22498852128662872, 0.22498852128662872, 0.22498852128662872, 0.22498852128662872, 0.22498852128662872, 0.22498852128662872, 0.22498852128662872, 0.22498852128662872, 0.22498852128662872, 0.22498852128662872, 0.22498852128662872, 0.22498852128662872, 0.22498852128662872, 0.22498852128662872, 0.22498852128662872, 0.22498852128662872, 0.22498852128662872, 0.22498852128662872, 0.22498852128662872, 0.22498852128662872, 0.22498852128662872, 0.22498852128662872, 0.22498852128662872, 0.22498852128662872, 0.22498852128662872, 0.22498852128662872, 0.22498852128662872, 0.22498852128662872, 0.22498852128662872, 0.22498852128662872, 0.22498852128662872, 0.22498852128662872, 0.22498852128662872, 0.22498852128662872, 0.22498852128662872, 0.22498852128662872, 0.22498852128662872, 0.22498852128662872, 0.22498852128662872, 0.22498852128662872, 0.22498852128662872, 0.22498852128662872, 0.22498852128662872, 0.22498852128662872, 0.22498852128662872, 0.22498852128662872, 0.22498852128662872, 0.22498852128662872, 0.22498852128662872, 0.22498852128662872, 0.22498852128662872, 0.22498852128662872, 0.22498852128662872, 0.22498852128662872, 0.22498852128662872, 0.22498852128662872, 0.22498852128662872, 0.22498852128662872, 0.22498852128662872, 0.22498852128662872, 0.22498852128662872, 0.22498852128662872, 0.22498852128662872, 0.22498852128662872, 0.22498852128662872, 0.22498852128662872, 0.22498852128662872, 0.22498852128662872, 0.22498852128662872, 0.22498852128662872, 0.22498852128662872, 0.22498852128662872, 0.22498852128662872, 0.22498852128662872, 0.22498852128662872, 0.22498852128662872, 0.22498852128662872, 0.22498852128662872, 0.22498852128662872, 0.22498852128662872, 0.22498852128662872, 0.22498852128662872, 0.22498852128662872, 0.22498852128662872, 0.22498852128662872, 0.22498852128662872, 0.22498852128662872, 0.22498852128662872, 0.22498852128662872, 0.22498852128662872, 0.22498852128662872, 0.22498852128662872, 0.22498852128662872, 0.22498852128662872, 0.22498852128662872, 0.22498852128662872, 0.22498852128662872, 0.22498852128662872, 0.22498852128662872, 0.22498852128662872, 0.22498852128662872, 0.22498852128662872, 0.22498852128662872, 0.22498852128662872, 0.22498852128662872, 0.22498852128662872, 0.22498852128662872, 0.22498852128662872, 0.22498852128662872, 0.22498852128662872, 0.22498852128662872, 0.22498852128662872, 0.22498852128662872, 0.22498852128662872, 0.22498852128662872, 0.22498852128662872, 0.22498852128662872, 0.22498852128662872, 0.22498852128662872, 0.22498852128662872, 0.22498852128662872, 0.22498852128662872, 0.22498852128662872, 0.22498852128662872, 0.22498852128662872, 0.22498852128662872, 0.22498852128662872, 0.22498852128662872, 0.22498852128662872, 0.22498852128662872, 0.22498852128662872, 0.22498852128662872, 0.22498852128662872, 0.22498852128662872, 0.22498852128662872, 0.22498852128662872, 0.22498852128662872, 0.22498852128662872, 0.22498852128662872, 0.22498852128662872, 0.22498852128662872, 0.22498852128662872, 0.22498852128662872, 0.22498852128662872, 0.22498852128662872, 0.22498852128662872, 0.22498852128662872, 0.22498852128662872, 0.22498852128662872, 0.22498852128662872, 0.22498852128662872, 0.22498852128662872, 0.22498852128662872, 0.22498852128662872, 0.22498852128662872, 0.22498852128662872, 0.22498852128662872, 0.22498852128662872, 0.22498852128662872, 0.22498852128662872, 0.22498852128662872, 0.22498852128662872, 0.22498852128662872, 0.22498852128662872, 0.22498852128662872, 0.22498852128662872, 0.22498852128662872, 0.22498852128662872, 0.22498852128662872, 0.22498852128662872, 0.22498852128662872, 0.22498852128662872, 0.22498852128662872, 0.22498852128662872, 0.22498852128662872, 0.22498852128662872, 0.22498852128662872, 0.22498852128662872, 0.22498852128662872, 0.22498852128662872, 0.22498852128662872, 0.22498852128662872, 0.22498852128662872, 0.22498852128662872, 0.22498852128662872, 0.22498852128662872, 0.22498852128662872, 0.22498852128662872, 0.22498852128662872, 0.22498852128662872, 0.22498852128662872, 0.22498852128662872, 0.22498852128662872, 0.22498852128662872, 0.22498852128662872, 0.22498852128662872, 0.22498852128662872, 0.22498852128662872, 0.22498852128662872, 0.22498852128662872, 0.22498852128662872, 0.22498852128662872, 0.22498852128662872, 0.22498852128662872, 0.22498852128662872, 0.22498852128662872, 0.22498852128662872, 0.22498852128662872, 0.22498852128662872, 0.22498852128662872, 0.22498852128662872, 0.22498852128662872, 0.22498852128662872, 0.22498852128662872, 0.22498852128662872, 0.22498852128662872, 0.22498852128662872, 0.22498852128662872, 0.22498852128662872, 0.22498852128662872, 0.22498852128662872, 0.22498852128662872, 0.22498852128662872, 0.22498852128662872, 0.22498852128662872, 0.22498852128662872, 0.22498852128662872, 0.22498852128662872, 0.22498852128662872, 0.22498852128662872, 0.22498852128662872, 0.22498852128662872, 0.22498852128662872, 0.22498852128662872, 0.22498852128662872, 0.22498852128662872, 0.22498852128662872, 0.22498852128662872, 0.22498852128662872, 0.22498852128662872, 0.22498852128662872, 0.22498852128662872, 0.22498852128662872, 0.22498852128662872, 0.22498852128662872, 0.22498852128662872, 0.22498852128662872, 0.22498852128662872, 0.22498852128662872, 0.22498852128662872, 0.22498852128662872, 0.22498852128662872, 0.22498852128662872, 0.22498852128662872, 0.22498852128662872, 0.22498852128662872, 0.22498852128662872, 0.22498852128662872, 0.22498852128662872, 0.22498852128662872, 0.22498852128662872, 0.22498852128662872, 0.22498852128662872, 0.22498852128662872, 0.22498852128662872, 0.22498852128662872, 0.22498852128662872, 0.22498852128662872, 0.22498852128662872, 0.22498852128662872, 0.22498852128662872, 0.22498852128662872, 0.22498852128662872, 0.22498852128662872, 0.22498852128662872, 0.22498852128662872, 0.22498852128662872, 0.22498852128662872, 0.22498852128662872, 0.22498852128662872, 0.22498852128662872, 0.22498852128662872, 0.22498852128662872, 0.22498852128662872, 0.22498852128662872, 0.22498852128662872, 0.22498852128662872, 0.22498852128662872, 0.22498852128662872, 0.22498852128662872, 0.22498852128662872, 0.22498852128662872, 0.22498852128662872, 0.22498852128662872, 0.22498852128662872, 0.22498852128662872, 0.22498852128662872, 0.22498852128662872, 0.22498852128662872, 0.22498852128662872, 0.22498852128662872, 0.22498852128662872, 0.22498852128662872, 0.22498852128662872, 0.22498852128662872, 0.22498852128662872, 0.22498852128662872, 0.22498852128662872, 0.22498852128662872, 0.22498852128662872, 0.22498852128662872, 0.22498852128662872, 0.22498852128662872, 0.22498852128662872, 0.22498852128662872, 0.22498852128662872, 0.22498852128662872, 0.22498852128662872, 0.22498852128662872, 0.22498852128662872, 0.22498852128662872, 0.22498852128662872, 0.22498852128662872, 0.22498852128662872, 0.22498852128662872, 0.22498852128662872, 0.22498852128662872, 0.22498852128662872, 0.22498852128662872, 0.22498852128662872, 0.22498852128662872, 0.22498852128662872, 0.22498852128662872, 0.22498852128662872, 0.22498852128662872, 0.22498852128662872, 0.22498852128662872, 0.22498852128662872, 0.22498852128662872, 0.22498852128662872, 0.22498852128662872, 0.22498852128662872, 0.22498852128662872, 0.22498852128662872, 0.22498852128662872, 0.22498852128662872, 0.22498852128662872, 0.22498852128662872, 0.22498852128662872, 0.22498852128662872, 0.22498852128662872, 0.22498852128662872, 0.22498852128662872, 0.22498852128662872, 0.22498852128662872, 0.22498852128662872, 0.22498852128662872, 0.22498852128662872, 0.22498852128662872, 0.22498852128662872, 0.22498852128662872, 0.22498852128662872, 0.22498852128662872, 0.22498852128662872, 0.22498852128662872, 0.22498852128662872, 0.22498852128662872, 0.22498852128662872, 0.22498852128662872, 0.22498852128662872, 0.22498852128662872, 0.22498852128662872, 0.22498852128662872, 0.22498852128662872, 0.22498852128662872, 0.22498852128662872, 0.22498852128662872, 0.22498852128662872, 0.22498852128662872, 0.22498852128662872, 0.22498852128662872, 0.22498852128662872, 0.22498852128662872, 0.22498852128662872, 0.22498852128662872, 0.22498852128662872, 0.22498852128662872, 0.22498852128662872, 0.22498852128662872, 0.22498852128662872, 0.22498852128662872, 0.22498852128662872, 0.22498852128662872, 0.22498852128662872, 0.22498852128662872, 0.22498852128662872, 0.22498852128662872, 0.22498852128662872, 0.22498852128662872, 0.22498852128662872, 0.22498852128662872, 0.22498852128662872, 0.22498852128662872, 0.22498852128662872, 0.22498852128662872, 0.22498852128662872, 0.22498852128662872, 0.22498852128662872, 0.22498852128662872, 0.22498852128662872, 0.22498852128662872, 0.22498852128662872, 0.22498852128662872, 0.22498852128662872, 0.22498852128662872, 0.22498852128662872, 0.22498852128662872, 0.22498852128662872, 0.22498852128662872, 0.22498852128662872, 0.22498852128662872, 0.22498852128662872, 0.22498852128662872, 0.22498852128662872, 0.22498852128662872, 0.22498852128662872, 0.22498852128662872, 0.22498852128662872, 0.22498852128662872, 0.22498852128662872, 0.22498852128662872, 0.22498852128662872, 0.22498852128662872, 0.22498852128662872, 0.22498852128662872, 0.22498852128662872, 0.22498852128662872, 0.22498852128662872, 0.22498852128662872, 0.22498852128662872, 0.22498852128662872, 0.22498852128662872, 0.22498852128662872, 0.22498852128662872, 0.22498852128662872, 0.22498852128662872, 0.22498852128662872, 0.22498852128662872, 0.22498852128662872, 0.22498852128662872, 0.22498852128662872, 0.22498852128662872, 0.22498852128662872, 0.22498852128662872, 0.22498852128662872, 0.22498852128662872, 0.22498852128662872, 0.22498852128662872, 0.22498852128662872, 0.22498852128662872, 0.22498852128662872, 0.22498852128662872, 0.22498852128662872, 0.22498852128662872, 0.22498852128662872, 0.22498852128662872, 0.22498852128662872, 0.22498852128662872, 0.22498852128662872, 0.22498852128662872, 0.22498852128662872, 0.22498852128662872, 0.22498852128662872, 0.22498852128662872, 0.22498852128662872, 0.22498852128662872, 0.22498852128662872, 0.22498852128662872, 0.22498852128662872, 0.22498852128662872, 0.22498852128662872, 0.22498852128662872, 0.22498852128662872, 0.22498852128662872, 0.22498852128662872, 0.22498852128662872, 0.22498852128662872, 0.22498852128662872, 0.22498852128662872, 0.22498852128662872, 0.22498852128662872, 0.22498852128662872, 0.22498852128662872, 0.22498852128662872, 0.22498852128662872, 0.22498852128662872, 0.22498852128662872, 0.22498852128662872, 0.22498852128662872, 0.22498852128662872, 0.22498852128662872, 0.22498852128662872, 0.22498852128662872, 0.22498852128662872, 0.22498852128662872, 0.22498852128662872, 0.22498852128662872, 0.22498852128662872, 0.22498852128662872, 0.22498852128662872, 0.22498852128662872, 0.22498852128662872, 0.22498852128662872, 0.22498852128662872, 0.22498852128662872, 0.22498852128662872, 0.22498852128662872, 0.22498852128662872, 0.22498852128662872, 0.22498852128662872, 0.22498852128662872, 0.22498852128662872, 0.22498852128662872, 0.22498852128662872, 0.22498852128662872, 0.22498852128662872, 0.22498852128662872, 0.22498852128662872, 0.22498852128662872, 0.22498852128662872, 0.22498852128662872, 0.22498852128662872, 0.22498852128662872, 0.22498852128662872, 0.22498852128662872, 0.22498852128662872, 0.22498852128662872, 0.22498852128662872, 0.22498852128662872, 0.22498852128662872, 0.22498852128662872, 0.22498852128662872, 0.22498852128662872, 0.22498852128662872, 0.22498852128662872, 0.22498852128662872, 0.22498852128662872, 0.22498852128662872, 0.22498852128662872, 0.22498852128662872, 0.22498852128662872, 0.22498852128662872, 0.22498852128662872, 0.22498852128662872, 0.22498852128662872, 0.22498852128662872, 0.22498852128662872, 0.22498852128662872, 0.22498852128662872, 0.22498852128662872, 0.22498852128662872, 0.22498852128662872, 0.22498852128662872, 0.22498852128662872, 0.22498852128662872, 0.22498852128662872, 0.22498852128662872, 0.22498852128662872, 0.22498852128662872, 0.22498852128662872, 0.22498852128662872, 0.22498852128662872, 0.22498852128662872, 0.22498852128662872, 0.22498852128662872, 0.22498852128662872, 0.22498852128662872, 0.22498852128662872, 0.22498852128662872, 0.22498852128662872, 0.22498852128662872, 0.22498852128662872, 0.22498852128662872, 0.22498852128662872, 0.22498852128662872, 0.22498852128662872, 0.22498852128662872, 0.22498852128662872, 0.22498852128662872, 0.22498852128662872, 0.22498852128662872, 0.22498852128662872, 0.22498852128662872, 0.22498852128662872, 0.22498852128662872, 0.22498852128662872, 0.22498852128662872, 0.22498852128662872, 0.22498852128662872, 0.22498852128662872, 0.22498852128662872, 0.22498852128662872, 0.22498852128662872, 0.22498852128662872, 0.22498852128662872, 0.22498852128662872, 0.22498852128662872, 0.22498852128662872, 0.22498852128662872, 0.22498852128662872, 0.22498852128662872, 0.22498852128662872, 0.22498852128662872, 0.22498852128662872, 0.22498852128662872, 0.22498852128662872, 0.22498852128662872, 0.22498852128662872, 0.22498852128662872, 0.22498852128662872, 0.22498852128662872, 0.22498852128662872, 0.22498852128662872, 0.22498852128662872, 0.22498852128662872, 0.22498852128662872, 0.22498852128662872, 0.22498852128662872, 0.22498852128662872, 0.22498852128662872, 0.22498852128662872, 0.22498852128662872, 0.22498852128662872, 0.22498852128662872, 0.22498852128662872, 0.22498852128662872, 0.22498852128662872, 0.22498852128662872, 0.22498852128662872, 0.22498852128662872, 0.22498852128662872, 0.22498852128662872, 0.22498852128662872, 0.22498852128662872, 0.22498852128662872, 0.22498852128662872, 0.22498852128662872, 0.22498852128662872, 0.22498852128662872, 0.22498852128662872, 0.22498852128662872, 0.22498852128662872, 0.22498852128662872, 0.22498852128662872, 0.22498852128662872, 0.22498852128662872, 0.22498852128662872, 0.22498852128662872, 0.22498852128662872, 0.22498852128662872, 0.22498852128662872, 0.22498852128662872, 0.22498852128662872, 0.22498852128662872, 0.22498852128662872, 0.22498852128662872, 0.22498852128662872, 0.22498852128662872, 0.22498852128662872, 0.22498852128662872, 0.22498852128662872, 0.22498852128662872, 0.22498852128662872, 0.22498852128662872, 0.22498852128662872, 0.22498852128662872, 0.22498852128662872, 0.22498852128662872, 0.22498852128662872, 0.22498852128662872, 0.22498852128662872, 0.22498852128662872, 0.22498852128662872, 0.22498852128662872, 0.22498852128662872, 0.22498852128662872, 0.22498852128662872, 0.22498852128662872, 0.22498852128662872, 0.22498852128662872, 0.22498852128662872, 0.22498852128662872, 0.22498852128662872, 0.22498852128662872, 0.22498852128662872, 0.22498852128662872, 0.22498852128662872, 0.22498852128662872, 0.22498852128662872, 0.22498852128662872, 0.22498852128662872, 0.22498852128662872, 0.22498852128662872, 0.22498852128662872, 0.22498852128662872, 0.22498852128662872, 0.22498852128662872, 0.22498852128662872, 0.22498852128662872, 0.22498852128662872, 0.22498852128662872, 0.22498852128662872, 0.22498852128662872, 0.22498852128662872, 0.22498852128662872, 0.22498852128662872, 0.22498852128662872, 0.22498852128662872, 0.22498852128662872, 0.22498852128662872, 0.22498852128662872, 0.22498852128662872, 0.22498852128662872, 0.22498852128662872, 0.22498852128662872, 0.22498852128662872, 0.22498852128662872, 0.22498852128662872, 0.22498852128662872, 0.22498852128662872, 0.22498852128662872, 0.22498852128662872, 0.22498852128662872, 0.22498852128662872, 0.22498852128662872, 0.22498852128662872, 0.22498852128662872, 0.22498852128662872, 0.22498852128662872, 0.22498852128662872, 0.22498852128662872, 0.22498852128662872, 0.22498852128662872, 0.22498852128662872, 0.22498852128662872, 0.22498852128662872, 0.22498852128662872, 0.22498852128662872, 0.22498852128662872, 0.22498852128662872, 0.22498852128662872, 0.22498852128662872, 0.22498852128662872, 0.22498852128662872, 0.22498852128662872, 0.22498852128662872, 0.22498852128662872, 0.22498852128662872, 0.22498852128662872, 0.22498852128662872, 0.22498852128662872, 0.22498852128662872, 0.22498852128662872, 0.22498852128662872, 0.22498852128662872, 0.22498852128662872, 0.22498852128662872, 0.22498852128662872, 0.22498852128662872, 0.22498852128662872, 0.22498852128662872, 0.22498852128662872, 0.22498852128662872, 0.22498852128662872, 0.22498852128662872, 0.22498852128662872, 0.22498852128662872, 0.22498852128662872, 0.22498852128662872, 0.22498852128662872, 0.22498852128662872, 0.22498852128662872, 0.22498852128662872, 0.22498852128662872, 0.22498852128662872, 0.22498852128662872, 0.22498852128662872, 0.22498852128662872, 0.22498852128662872, 0.22498852128662872, 0.22498852128662872, 0.22498852128662872, 0.22498852128662872, 0.22498852128662872, 0.22498852128662872, 0.22498852128662872, 0.22498852128662872, 0.22498852128662872, 0.22498852128662872, 0.22498852128662872, 0.22498852128662872, 0.22498852128662872, 0.22498852128662872, 0.22498852128662872, 0.22498852128662872, 0.22498852128662872, 0.22498852128662872, 0.22498852128662872, 0.22498852128662872, 0.22498852128662872, 0.22498852128662872, 0.22498852128662872, 0.22498852128662872, 0.22498852128662872, 0.22498852128662872, 0.22498852128662872, 0.22498852128662872, 0.22498852128662872, 0.22498852128662872, 0.22498852128662872, 0.22498852128662872, 0.22498852128662872, 0.22498852128662872, 0.22498852128662872, 0.22498852128662872, 0.22498852128662872, 0.22498852128662872, 0.22498852128662872, 0.22498852128662872, 0.22498852128662872, 0.22498852128662872, 0.22498852128662872, 0.22498852128662872, 0.22498852128662872, 0.22498852128662872, 0.22498852128662872, 0.22498852128662872, 0.22498852128662872, 0.22498852128662872, 0.22498852128662872, 0.22498852128662872, 0.22498852128662872, 0.22498852128662872, 0.22498852128662872, 0.22498852128662872, 0.22498852128662872, 0.22498852128662872, 0.22498852128662872, 0.22498852128662872, 0.22498852128662872, 0.22498852128662872, 0.22498852128662872, 0.22498852128662872, 0.22498852128662872, 0.22498852128662872, 0.22498852128662872, 0.22498852128662872, 0.22498852128662872, 0.22498852128662872, 0.22498852128662872, 0.22498852128662872, 0.22498852128662872, 0.22498852128662872, 0.22498852128662872, 0.22498852128662872, 0.22498852128662872, 0.22498852128662872, 0.22498852128662872, 0.22498852128662872, 0.22498852128662872, 0.22498852128662872, 0.22498852128662872, 0.22498852128662872, 0.22498852128662872, 0.22498852128662872, 0.22498852128662872, 0.22498852128662872, 0.22498852128662872, 0.22498852128662872, 0.22498852128662872, 0.22498852128662872, 0.22498852128662872, 0.22498852128662872, 0.22498852128662872, 0.22498852128662872, 0.22498852128662872, 0.22498852128662872, 0.22498852128662872, 0.22498852128662872, 0.22498852128662872, 0.22498852128662872, 0.22498852128662872, 0.22498852128662872, 0.22498852128662872, 0.22498852128662872, 0.22498852128662872, 0.22498852128662872, 0.22498852128662872, 0.22498852128662872, 0.22498852128662872, 0.22498852128662872, 0.22498852128662872, 0.22498852128662872, 0.22498852128662872, 0.22498852128662872, 0.22498852128662872, 0.22498852128662872, 0.22498852128662872, 0.22498852128662872, 0.22498852128662872, 0.22498852128662872, 0.22498852128662872, 0.22498852128662872, 0.22498852128662872, 0.22498852128662872, 0.22498852128662872, 0.22498852128662872, 0.22498852128662872, 0.22498852128662872, 0.22498852128662872, 0.22498852128662872, 0.22498852128662872, 0.22498852128662872, 0.22498852128662872, 0.22498852128662872, 0.22498852128662872, 0.22498852128662872, 0.22498852128662872, 0.22498852128662872, 0.22498852128662872, 0.22498852128662872, 0.22498852128662872, 0.22498852128662872, 0.22498852128662872, 0.22498852128662872, 0.22498852128662872, 0.22498852128662872, 0.22498852128662872, 0.22498852128662872, 0.22498852128662872, 0.22498852128662872, 0.22498852128662872, 0.22498852128662872, 0.22498852128662872, 0.22498852128662872, 0.22498852128662872, 0.22498852128662872, 0.22498852128662872, 0.22498852128662872, 0.22498852128662872, 0.22498852128662872, 0.22498852128662872, 0.22498852128662872, 0.22498852128662872, 0.22498852128662872, 0.22498852128662872, 0.22498852128662872, 0.22498852128662872, 0.22498852128662872, 0.22498852128662872, 0.22498852128662872, 0.22498852128662872, 0.22498852128662872, 0.22498852128662872, 0.22498852128662872, 0.22498852128662872, 0.22498852128662872, 0.22498852128662872, 0.22498852128662872, 0.22498852128662872, 0.22498852128662872, 0.22498852128662872, 0.22498852128662872, 0.22498852128662872, 0.22498852128662872, 0.22498852128662872, 0.22498852128662872, 0.22498852128662872, 0.22498852128662872, 0.22498852128662872, 0.22498852128662872, 0.22498852128662872, 0.22498852128662872, 0.22498852128662872, 0.22498852128662872, 0.22498852128662872, 0.22498852128662872, 0.22498852128662872, 0.22498852128662872, 0.22498852128662872, 0.22498852128662872, 0.22498852128662872, 0.22498852128662872, 0.22498852128662872, 0.22498852128662872, 0.22498852128662872, 0.22498852128662872, 0.22498852128662872, 0.22498852128662872, 0.22498852128662872, 0.22498852128662872, 0.22498852128662872, 0.22498852128662872, 0.22498852128662872, 0.22498852128662872, 0.22498852128662872, 0.22498852128662872, 0.22498852128662872, 0.22498852128662872, 0.22498852128662872, 0.22498852128662872, 0.22498852128662872, 0.22498852128662872, 0.22498852128662872, 0.22498852128662872, 0.22498852128662872, 0.22498852128662872, 0.22498852128662872, 0.22498852128662872, 0.22498852128662872, 0.22498852128662872, 0.22498852128662872, 0.22498852128662872, 0.22498852128662872, 0.22498852128662872, 0.22498852128662872, 0.22498852128662872, 0.22498852128662872, 0.22498852128662872, 0.22498852128662872, 0.22498852128662872, 0.22498852128662872, 0.22498852128662872, 0.22498852128662872, 0.22498852128662872, 0.22498852128662872, 0.22498852128662872, 0.22498852128662872, 0.22498852128662872, 0.22498852128662872, 0.22498852128662872, 0.22498852128662872, 0.22498852128662872, 0.22498852128662872, 0.22498852128662872, 0.22498852128662872, 0.22498852128662872, 0.22498852128662872, 0.22498852128662872, 0.22498852128662872, 0.22498852128662872, 0.22498852128662872, 0.22498852128662872, 0.22498852128662872, 0.22498852128662872, 0.22498852128662872, 0.22498852128662872, 0.22498852128662872, 0.22498852128662872, 0.22498852128662872, 0.22498852128662872, 0.22498852128662872, 0.22498852128662872, 0.22498852128662872, 0.22498852128662872, 0.22498852128662872, 0.22498852128662872, 0.22498852128662872, 0.22498852128662872, 0.22498852128662872, 0.22498852128662872, 0.22498852128662872, 0.22498852128662872, 0.22498852128662872, 0.22498852128662872, 0.22498852128662872, 0.22498852128662872, 0.22498852128662872, 0.22498852128662872, 0.22498852128662872, 0.22498852128662872, 0.22498852128662872, 0.22498852128662872, 0.22498852128662872, 0.22498852128662872, 0.22498852128662872, 0.22498852128662872, 0.22498852128662872, 0.22498852128662872, 0.22498852128662872, 0.22498852128662872, 0.22498852128662872, 0.22498852128662872, 0.22498852128662872, 0.22498852128662872, 0.22498852128662872, 0.22498852128662872, 0.22498852128662872, 0.22498852128662872, 0.22498852128662872, 0.22498852128662872, 0.22498852128662872, 0.22498852128662872, 0.22498852128662872, 0.22498852128662872, 0.22498852128662872, 0.22498852128662872, 0.22498852128662872, 0.22498852128662872, 0.22498852128662872, 0.22498852128662872, 0.22498852128662872, 0.22498852128662872, 0.22498852128662872, 0.22498852128662872, 0.22498852128662872, 0.22498852128662872, 0.22498852128662872, 0.22498852128662872, 0.22498852128662872, 0.22498852128662872, 0.22498852128662872, 0.22498852128662872, 0.22498852128662872, 0.22498852128662872, 0.22498852128662872, 0.22498852128662872, 0.22498852128662872, 0.22498852128662872, 0.22498852128662872, 0.22498852128662872, 0.22498852128662872, 0.22498852128662872, 0.22498852128662872, 0.22498852128662872, 0.22498852128662872, 0.22498852128662872, 0.22498852128662872, 0.22498852128662872, 0.22498852128662872, 0.22498852128662872, 0.22498852128662872, 0.22498852128662872, 0.22498852128662872, 0.22498852128662872, 0.22498852128662872, 0.22498852128662872, 0.22498852128662872, 0.22498852128662872, 0.22498852128662872, 0.22498852128662872, 0.22498852128662872, 0.22498852128662872, 0.22498852128662872, 0.22498852128662872, 0.22498852128662872, 0.22498852128662872, 0.22498852128662872, 0.22498852128662872, 0.22498852128662872, 0.22498852128662872, 0.22498852128662872, 0.22498852128662872, 0.22498852128662872, 0.22498852128662872, 0.22498852128662872, 0.22498852128662872, 0.22498852128662872, 0.22498852128662872, 0.22498852128662872, 0.22498852128662872, 0.22498852128662872, 0.22498852128662872, 0.22498852128662872, 0.22498852128662872, 0.22498852128662872, 0.22498852128662872, 0.22498852128662872, 0.22498852128662872, 0.22498852128662872, 0.22498852128662872, 0.22498852128662872, 0.22498852128662872, 0.22498852128662872, 0.22498852128662872, 0.22498852128662872, 0.22498852128662872, 0.22498852128662872, 0.22498852128662872, 0.22498852128662872, 0.22498852128662872, 0.22498852128662872, 0.22498852128662872, 0.22498852128662872, 0.22498852128662872, 0.22498852128662872, 0.22498852128662872, 0.22498852128662872, 0.22498852128662872, 0.22498852128662872, 0.22498852128662872, 0.22498852128662872, 0.22498852128662872, 0.22498852128662872, 0.22498852128662872, 0.22498852128662872, 0.22498852128662872, 0.22498852128662872, 0.22498852128662872, 0.22498852128662872, 0.22498852128662872, 0.22498852128662872, 0.22498852128662872, 0.22498852128662872, 0.22498852128662872, 0.22498852128662872, 0.22498852128662872, 0.22498852128662872, 0.22498852128662872, 0.22498852128662872, 0.22498852128662872, 0.22498852128662872, 0.22498852128662872, 0.22498852128662872, 0.22498852128662872, 0.22498852128662872, 0.22498852128662872, 0.22498852128662872, 0.22498852128662872, 0.22498852128662872, 0.22498852128662872, 0.22498852128662872, 0.22498852128662872, 0.22498852128662872, 0.22498852128662872, 0.22498852128662872, 0.22498852128662872, 0.22498852128662872, 0.22498852128662872, 0.22498852128662872, 0.22498852128662872, 0.22498852128662872, 0.22498852128662872, 0.22498852128662872, 0.22498852128662872, 0.22498852128662872, 0.22498852128662872, 0.22498852128662872, 0.22498852128662872, 0.22498852128662872, 0.22498852128662872, 0.22498852128662872, 0.22498852128662872, 0.22498852128662872, 0.22498852128662872, 0.22498852128662872, 0.22498852128662872, 0.22498852128662872, 0.22498852128662872, 0.22498852128662872, 0.22498852128662872, 0.22498852128662872, 0.22498852128662872, 0.22498852128662872, 0.22498852128662872, 0.22498852128662872, 0.22498852128662872, 0.22498852128662872, 0.22498852128662872, 0.22498852128662872, 0.22498852128662872, 0.22498852128662872, 0.22498852128662872, 0.22498852128662872, 0.22498852128662872, 0.22498852128662872, 0.22498852128662872, 0.22498852128662872, 0.22498852128662872, 0.22498852128662872, 0.22498852128662872, 0.22498852128662872, 0.22498852128662872, 0.22498852128662872, 0.22498852128662872, 0.22498852128662872, 0.22498852128662872, 0.22498852128662872, 0.22498852128662872, 0.22498852128662872, 0.22498852128662872, 0.22498852128662872, 0.22498852128662872, 0.22498852128662872, 0.22498852128662872, 0.22498852128662872, 0.22498852128662872, 0.22498852128662872, 0.22498852128662872, 0.22498852128662872, 0.22498852128662872, 0.22498852128662872, 0.22498852128662872, 0.22498852128662872, 0.22498852128662872, 0.22498852128662872, 0.22498852128662872, 0.22498852128662872, 0.22498852128662872, 0.22498852128662872, 0.22498852128662872, 0.22498852128662872, 0.22498852128662872, 0.22498852128662872, 0.22498852128662872, 0.22498852128662872, 0.22498852128662872, 0.22498852128662872, 0.22498852128662872, 0.22498852128662872, 0.22498852128662872, 0.22498852128662872, 0.22498852128662872, 0.22498852128662872, 0.22498852128662872, 0.22498852128662872, 0.22498852128662872, 0.22498852128662872, 0.22498852128662872, 0.22498852128662872, 0.22498852128662872, 0.22498852128662872, 0.22498852128662872, 0.22498852128662872, 0.22498852128662872, 0.22498852128662872, 0.22498852128662872, 0.22498852128662872, 0.22498852128662872, 0.22498852128662872, 0.22498852128662872, 0.22498852128662872, 0.22498852128662872, 0.22498852128662872, 0.22498852128662872, 0.22498852128662872, 0.22498852128662872, 0.22498852128662872, 0.22498852128662872, 0.22498852128662872, 0.22498852128662872, 0.22498852128662872, 0.22498852128662872, 0.22498852128662872, 0.22498852128662872, 0.22498852128662872, 0.22498852128662872, 0.22498852128662872, 0.22498852128662872, 0.22498852128662872, 0.22498852128662872, 0.22498852128662872, 0.22498852128662872, 0.22498852128662872, 0.22498852128662872, 0.22498852128662872, 0.22498852128662872, 0.22498852128662872, 0.22498852128662872, 0.22498852128662872, 0.22498852128662872, 0.22498852128662872, 0.22498852128662872, 0.22498852128662872, 0.22498852128662872, 0.22498852128662872, 0.22498852128662872, 0.22498852128662872, 0.22498852128662872, 0.22498852128662872, 0.22498852128662872, 0.22498852128662872, 0.22498852128662872, 0.22498852128662872, 0.22498852128662872, 0.22498852128662872, 0.22498852128662872, 0.22498852128662872, 0.22498852128662872, 0.22498852128662872, 0.22498852128662872, 0.22498852128662872, 0.22498852128662872, 0.22498852128662872, 0.22498852128662872, 0.22498852128662872, 0.22498852128662872, 0.22498852128662872, 0.22498852128662872, 0.22498852128662872, 0.22498852128662872, 0.22498852128662872, 0.22498852128662872, 0.22498852128662872, 0.22498852128662872, 0.22498852128662872, 0.22498852128662872, 0.22498852128662872, 0.22498852128662872, 0.22498852128662872, 0.22498852128662872, 0.22498852128662872, 0.22498852128662872, 0.22498852128662872, 0.22498852128662872, 0.22498852128662872, 0.22498852128662872, 0.22498852128662872, 0.22498852128662872, 0.22498852128662872, 0.22498852128662872, 0.22498852128662872, 0.22498852128662872, 0.22498852128662872, 0.22498852128662872, 0.22498852128662872, 0.22498852128662872, 0.22498852128662872, 0.22498852128662872, 0.22498852128662872, 0.22498852128662872, 0.22498852128662872, 0.22498852128662872, 0.22498852128662872, 0.22498852128662872, 0.22498852128662872, 0.22498852128662872, 0.22498852128662872, 0.22498852128662872, 0.22498852128662872, 0.22498852128662872, 0.22498852128662872, 0.22498852128662872, 0.22498852128662872, 0.22498852128662872, 0.22498852128662872, 0.22498852128662872, 0.22498852128662872, 0.22498852128662872, 0.22498852128662872, 0.22498852128662872, 0.22498852128662872, 0.22498852128662872, 0.22498852128662872, 0.22498852128662872, 0.22498852128662872, 0.22498852128662872, 0.22498852128662872, 0.22498852128662872, 0.22498852128662872, 0.22498852128662872, 0.22498852128662872, 0.22498852128662872, 0.22498852128662872, 0.22498852128662872, 0.22498852128662872, 0.22498852128662872, 0.22498852128662872, 0.22498852128662872, 0.22498852128662872, 0.22498852128662872, 0.22498852128662872, 0.22498852128662872, 0.22498852128662872, 0.22498852128662872, 0.22498852128662872, 0.22498852128662872, 0.22498852128662872, 0.22498852128662872, 0.22498852128662872, 0.22498852128662872, 0.22498852128662872, 0.22498852128662872, 0.22498852128662872, 0.22498852128662872, 0.22498852128662872, 0.22498852128662872, 0.22498852128662872, 0.22498852128662872, 0.22498852128662872, 0.22498852128662872, 0.22498852128662872, 0.22498852128662872, 0.22498852128662872, 0.22498852128662872, 0.22498852128662872, 0.22498852128662872, 0.22498852128662872, 0.22498852128662872, 0.22498852128662872, 0.22498852128662872, 0.22498852128662872, 0.22498852128662872, 0.22498852128662872, 0.22498852128662872, 0.22498852128662872, 0.22498852128662872, 0.22498852128662872, 0.22498852128662872, 0.22498852128662872, 0.22498852128662872, 0.22498852128662872, 0.22498852128662872, 0.22498852128662872, 0.22498852128662872, 0.22498852128662872, 0.22498852128662872, 0.22498852128662872, 0.22498852128662872, 0.22498852128662872, 0.22498852128662872, 0.22498852128662872, 0.22498852128662872, 0.22498852128662872, 0.22498852128662872, 0.22498852128662872, 0.22498852128662872, 0.22498852128662872, 0.22498852128662872, 0.22498852128662872, 0.22498852128662872, 0.22498852128662872, 0.22498852128662872, 0.22498852128662872, 0.22498852128662872, 0.22498852128662872, 0.22498852128662872, 0.22498852128662872, 0.22498852128662872, 0.22498852128662872, 0.22498852128662872, 0.22498852128662872, 0.22498852128662872, 0.22498852128662872, 0.22498852128662872, 0.22498852128662872, 0.22498852128662872, 0.22498852128662872, 0.22498852128662872, 0.22498852128662872, 0.22498852128662872, 0.22498852128662872, 0.22498852128662872, 0.22498852128662872, 0.22498852128662872, 0.22498852128662872, 0.22498852128662872, 0.22498852128662872, 0.22498852128662872, 0.22498852128662872, 0.22498852128662872, 0.22498852128662872, 0.22498852128662872, 0.22498852128662872, 0.22498852128662872, 0.22498852128662872, 0.22498852128662872, 0.22498852128662872, 0.22498852128662872, 0.22498852128662872, 0.22498852128662872, 0.22498852128662872, 0.22498852128662872, 0.22498852128662872, 0.22498852128662872, 0.22498852128662872, 0.22498852128662872, 0.22498852128662872, 0.22498852128662872, 0.22498852128662872, 0.22498852128662872, 0.22498852128662872, 0.22498852128662872, 0.22498852128662872, 0.22498852128662872, 0.22498852128662872, 0.22498852128662872, 0.22498852128662872, 0.22498852128662872, 0.22498852128662872, 0.22498852128662872, 0.22498852128662872, 0.22498852128662872, 0.22498852128662872, 0.22498852128662872, 0.22498852128662872, 0.22498852128662872, 0.22498852128662872, 0.22498852128662872, 0.22498852128662872, 0.22498852128662872, 0.22498852128662872, 0.22498852128662872, 0.22498852128662872, 0.22498852128662872, 0.22498852128662872, 0.22498852128662872, 0.22498852128662872, 0.22498852128662872, 0.22498852128662872, 0.22498852128662872, 0.22498852128662872, 0.22498852128662872, 0.22498852128662872, 0.22498852128662872, 0.22498852128662872, 0.22498852128662872, 0.22498852128662872, 0.22498852128662872, 0.22498852128662872, 0.22498852128662872, 0.22498852128662872, 0.22498852128662872, 0.22498852128662872, 0.22498852128662872, 0.22498852128662872, 0.22498852128662872, 0.22498852128662872, 0.22498852128662872, 0.22498852128662872, 0.22498852128662872, 0.22498852128662872, 0.22498852128662872, 0.22498852128662872, 0.22498852128662872, 0.22498852128662872, 0.22498852128662872, 0.22498852128662872, 0.22498852128662872, 0.22498852128662872, 0.22498852128662872, 0.22498852128662872, 0.22498852128662872, 0.22498852128662872, 0.22498852128662872, 0.22498852128662872, 0.22498852128662872, 0.22498852128662872, 0.22498852128662872, 0.22498852128662872, 0.22498852128662872, 0.22498852128662872, 0.22498852128662872, 0.22498852128662872, 0.22498852128662872, 0.22498852128662872, 0.22498852128662872, 0.22498852128662872, 0.22498852128662872, 0.22498852128662872, 0.22498852128662872, 0.22498852128662872, 0.22498852128662872, 0.22498852128662872, 0.22498852128662872, 0.22498852128662872, 0.22498852128662872, 0.22498852128662872, 0.22498852128662872, 0.22498852128662872, 0.22498852128662872, 0.22498852128662872, 0.22498852128662872, 0.22498852128662872, 0.22498852128662872, 0.22498852128662872, 0.22498852128662872, 0.22498852128662872, 0.22498852128662872, 0.22498852128662872, 0.22498852128662872, 0.22498852128662872, 0.22498852128662872, 0.22498852128662872, 0.22498852128662872, 0.22498852128662872, 0.22498852128662872, 0.22498852128662872, 0.22498852128662872, 0.22498852128662872, 0.22498852128662872, 0.22498852128662872, 0.22498852128662872, 0.22498852128662872, 0.22498852128662872, 0.22498852128662872, 0.22498852128662872, 0.22498852128662872, 0.22498852128662872, 0.22498852128662872, 0.22498852128662872, 0.22498852128662872, 0.22498852128662872, 0.22498852128662872, 0.22498852128662872, 0.22498852128662872, 0.22498852128662872, 0.22498852128662872, 0.22498852128662872, 0.22498852128662872, 0.22498852128662872, 0.22498852128662872, 0.22498852128662872, 0.22498852128662872, 0.22498852128662872, 0.22498852128662872, 0.22498852128662872, 0.22498852128662872, 0.22498852128662872, 0.22498852128662872, 0.22498852128662872, 0.22498852128662872, 0.22498852128662872, 0.22498852128662872, 0.22498852128662872, 0.22498852128662872, 0.22498852128662872, 0.22498852128662872, 0.22498852128662872, 0.22498852128662872, 0.22498852128662872, 0.22498852128662872, 0.22498852128662872, 0.22498852128662872, 0.22498852128662872, 0.22498852128662872, 0.22498852128662872, 0.22498852128662872, 0.22498852128662872, 0.22498852128662872, 0.22498852128662872, 0.22498852128662872, 0.22498852128662872, 0.22498852128662872, 0.22498852128662872, 0.22498852128662872, 0.22498852128662872, 0.22498852128662872, 0.22498852128662872, 0.22498852128662872, 0.22498852128662872, 0.22498852128662872, 0.22498852128662872, 0.22498852128662872, 0.22498852128662872, 0.22498852128662872, 0.22498852128662872, 0.22498852128662872, 0.22498852128662872, 0.22498852128662872, 0.22498852128662872, 0.22498852128662872, 0.22498852128662872, 0.22498852128662872, 0.22498852128662872, 0.22498852128662872, 0.22498852128662872, 0.22498852128662872, 0.22498852128662872, 0.22498852128662872, 0.22498852128662872, 0.22498852128662872, 0.22498852128662872, 0.22498852128662872, 0.22498852128662872, 0.22498852128662872, 0.22498852128662872, 0.22498852128662872, 0.22498852128662872, 0.22498852128662872, 0.22498852128662872, 0.22498852128662872, 0.22498852128662872, 0.22498852128662872, 0.22498852128662872, 0.22498852128662872, 0.22498852128662872, 0.22498852128662872, 0.22498852128662872, 0.22498852128662872, 0.22498852128662872, 0.22498852128662872, 0.22498852128662872, 0.22498852128662872, 0.22498852128662872, 0.22498852128662872, 0.22498852128662872, 0.22498852128662872, 0.22498852128662872, 0.22498852128662872, 0.22498852128662872, 0.22498852128662872, 0.22498852128662872, 0.22498852128662872, 0.22498852128662872, 0.22498852128662872, 0.22498852128662872, 0.22498852128662872, 0.22498852128662872, 0.22498852128662872, 0.22498852128662872, 0.22498852128662872, 0.22498852128662872, 0.22498852128662872, 0.22498852128662872, 0.22498852128662872, 0.22498852128662872, 0.22498852128662872, 0.22498852128662872, 0.22498852128662872, 0.22498852128662872, 0.22498852128662872, 0.22498852128662872, 0.22498852128662872, 0.22498852128662872, 0.22498852128662872, 0.22498852128662872, 0.22498852128662872, 0.22498852128662872, 0.22498852128662872, 0.22498852128662872, 0.22498852128662872, 0.22498852128662872, 0.22498852128662872, 0.22498852128662872, 0.22498852128662872, 0.22498852128662872, 0.22498852128662872, 0.22498852128662872, 0.22498852128662872, 0.22498852128662872, 0.22498852128662872, 0.22498852128662872, 0.22498852128662872, 0.22498852128662872, 0.22498852128662872, 0.22498852128662872, 0.22498852128662872, 0.22498852128662872, 0.22498852128662872, 0.22498852128662872, 0.22498852128662872, 0.22498852128662872, 0.22498852128662872, 0.22498852128662872, 0.22498852128662872, 0.22498852128662872, 0.22498852128662872, 0.22498852128662872, 0.22498852128662872, 0.22498852128662872, 0.22498852128662872, 0.22498852128662872, 0.22498852128662872, 0.22498852128662872, 0.22498852128662872, 0.22498852128662872, 0.22498852128662872, 0.22498852128662872, 0.22498852128662872, 0.22498852128662872, 0.22498852128662872, 0.22498852128662872, 0.22498852128662872, 0.22498852128662872, 0.22498852128662872, 0.22498852128662872, 0.22498852128662872, 0.22498852128662872, 0.22498852128662872, 0.22498852128662872, 0.22498852128662872, 0.22498852128662872, 0.22498852128662872, 0.22498852128662872, 0.22498852128662872, 0.22498852128662872, 0.22498852128662872, 0.22498852128662872, 0.22498852128662872, 0.22498852128662872, 0.22498852128662872, 0.22498852128662872, 0.22498852128662872, 0.22498852128662872, 0.22498852128662872, 0.22498852128662872, 0.22498852128662872, 0.22498852128662872, 0.22498852128662872, 0.22498852128662872, 0.22498852128662872, 0.22498852128662872, 0.22498852128662872, 0.22498852128662872, 0.22498852128662872, 0.22498852128662872, 0.22498852128662872, 0.22498852128662872, 0.22498852128662872, 0.22498852128662872, 0.22498852128662872, 0.22498852128662872, 0.22498852128662872, 0.22498852128662872, 0.22498852128662872, 0.22498852128662872, 0.22498852128662872, 0.22498852128662872, 0.22498852128662872, 0.22498852128662872, 0.22498852128662872, 0.22498852128662872, 0.22498852128662872, 0.22498852128662872, 0.22498852128662872, 0.22498852128662872, 0.22498852128662872, 0.22498852128662872, 0.22498852128662872, 0.22498852128662872, 0.22498852128662872, 0.22498852128662872, 0.22498852128662872, 0.22498852128662872, 0.22498852128662872, 0.22498852128662872, 0.22498852128662872, 0.22498852128662872, 0.22498852128662872, 0.22498852128662872, 0.22498852128662872, 0.22498852128662872, 0.22498852128662872, 0.22498852128662872, 0.22498852128662872, 0.22498852128662872, 0.22498852128662872, 0.22498852128662872, 0.22498852128662872, 0.22498852128662872, 0.22498852128662872, 0.22498852128662872, 0.22498852128662872, 0.22498852128662872, 0.22498852128662872, 0.22498852128662872, 0.22498852128662872, 0.22498852128662872, 0.22498852128662872, 0.22498852128662872, 0.22498852128662872, 0.22498852128662872, 0.22498852128662872, 0.22498852128662872, 0.22498852128662872, 0.22498852128662872, 0.22498852128662872, 0.22498852128662872, 0.22498852128662872, 0.22498852128662872, 0.22498852128662872, 0.22498852128662872, 0.22498852128662872, 0.22498852128662872, 0.22498852128662872, 0.22498852128662872, 0.22498852128662872, 0.22498852128662872, 0.22498852128662872, 0.22498852128662872, 0.22498852128662872, 0.22498852128662872, 0.22498852128662872, 0.22498852128662872, 0.22498852128662872, 0.22498852128662872, 0.22498852128662872, 0.22498852128662872, 0.22498852128662872, 0.22498852128662872, 0.22498852128662872, 0.22498852128662872, 0.22498852128662872, 0.22498852128662872, 0.22498852128662872, 0.22498852128662872, 0.22498852128662872, 0.22498852128662872, 0.22498852128662872, 0.22498852128662872, 0.22498852128662872, 0.22498852128662872, 0.22498852128662872, 0.22498852128662872, 0.22498852128662872, 0.22498852128662872, 0.22498852128662872, 0.22498852128662872, 0.22498852128662872, 0.22498852128662872, 0.22498852128662872, 0.22498852128662872, 0.22498852128662872, 0.22498852128662872, 0.22498852128662872, 0.22498852128662872, 0.22498852128662872, 0.22498852128662872, 0.22498852128662872, 0.22498852128662872, 0.22498852128662872, 0.22498852128662872, 0.22498852128662872, 0.22498852128662872, 0.22498852128662872, 0.22498852128662872, 0.22498852128662872, 0.22498852128662872, 0.22498852128662872, 0.22498852128662872, 0.22498852128662872, 0.22498852128662872, 0.22498852128662872, 0.22498852128662872, 0.22498852128662872, 0.22498852128662872, 0.22498852128662872, 0.22498852128662872, 0.22498852128662872, 0.22498852128662872, 0.22498852128662872, 0.22498852128662872, 0.22498852128662872, 0.22498852128662872, 0.22498852128662872, 0.22498852128662872, 0.22498852128662872, 0.22498852128662872, 0.22498852128662872, 0.22498852128662872, 0.22498852128662872, 0.22498852128662872, 0.22498852128662872, 0.22498852128662872, 0.22498852128662872, 0.22498852128662872, 0.22498852128662872, 0.22498852128662872, 0.22498852128662872, 0.22498852128662872, 0.22498852128662872, 0.22498852128662872, 0.22498852128662872, 0.22498852128662872, 0.22498852128662872, 0.22498852128662872, 0.22498852128662872, 0.22498852128662872, 0.22498852128662872, 0.22498852128662872, 0.22498852128662872, 0.22498852128662872, 0.22498852128662872, 0.22498852128662872, 0.22498852128662872, 0.22498852128662872, 0.22498852128662872, 0.22498852128662872, 0.22498852128662872, 0.22498852128662872, 0.22498852128662872, 0.22498852128662872, 0.22498852128662872, 0.22498852128662872, 0.22498852128662872, 0.22498852128662872, 0.22498852128662872, 0.22498852128662872, 0.22498852128662872, 0.22498852128662872, 0.22498852128662872, 0.22498852128662872, 0.22498852128662872, 0.22498852128662872, 0.22498852128662872, 0.22498852128662872, 0.22498852128662872, 0.22498852128662872, 0.22498852128662872, 0.22498852128662872, 0.22498852128662872, 0.22498852128662872, 0.22498852128662872, 0.22498852128662872, 0.22498852128662872, 0.22498852128662872, 0.22498852128662872, 0.22498852128662872, 0.22498852128662872, 0.22498852128662872, 0.22498852128662872, 0.22498852128662872, 0.22498852128662872, 0.22498852128662872, 0.22498852128662872, 0.22498852128662872, 0.22498852128662872, 0.22498852128662872, 0.22498852128662872, 0.22498852128662872, 0.22498852128662872, 0.22498852128662872, 0.22498852128662872, 0.22498852128662872, 0.22498852128662872, 0.22498852128662872, 0.22498852128662872, 0.22498852128662872, 0.22498852128662872, 0.22498852128662872, 0.22498852128662872, 0.22498852128662872, 0.22498852128662872, 0.22498852128662872, 0.22498852128662872, 0.22498852128662872, 0.22498852128662872, 0.22498852128662872, 0.22498852128662872, 0.22498852128662872, 0.22498852128662872, 0.22498852128662872, 0.22498852128662872, 0.22498852128662872, 0.22498852128662872, 0.22498852128662872, 0.22498852128662872, 0.22498852128662872, 0.22498852128662872, 0.22498852128662872, 0.22498852128662872, 0.22498852128662872, 0.22498852128662872, 0.22498852128662872, 0.22498852128662872, 0.22498852128662872, 0.22498852128662872, 0.22498852128662872, 0.22498852128662872, 0.22498852128662872, 0.22498852128662872, 0.22498852128662872, 0.22498852128662872, 0.22498852128662872, 0.22498852128662872, 0.22498852128662872, 0.22498852128662872, 0.22498852128662872, 0.22498852128662872, 0.22498852128662872, 0.22498852128662872, 0.22498852128662872, 0.22498852128662872, 0.22498852128662872, 0.22498852128662872, 0.22498852128662872, 0.22498852128662872, 0.22498852128662872, 0.22498852128662872, 0.22498852128662872, 0.22498852128662872, 0.22498852128662872, 0.22498852128662872, 0.22498852128662872, 0.22498852128662872, 0.22498852128662872, 0.22498852128662872, 0.22498852128662872, 0.22498852128662872, 0.22498852128662872, 0.22498852128662872, 0.22498852128662872, 0.22498852128662872, 0.22498852128662872, 0.22498852128662872, 0.22498852128662872, 0.22498852128662872, 0.22498852128662872, 0.22498852128662872, 0.22498852128662872, 0.22498852128662872, 0.22498852128662872, 0.22498852128662872, 0.22498852128662872, 0.22498852128662872, 0.22498852128662872, 0.22498852128662872, 0.22498852128662872, 0.22498852128662872, 0.22498852128662872, 0.22498852128662872, 0.22498852128662872, 0.22498852128662872, 0.22498852128662872, 0.22498852128662872, 0.22498852128662872, 0.22498852128662872, 0.22498852128662872, 0.22498852128662872, 0.22498852128662872, 0.22498852128662872, 0.22498852128662872, 0.22498852128662872, 0.22498852128662872, 0.22498852128662872, 0.22498852128662872, 0.22498852128662872, 0.22498852128662872, 0.22498852128662872, 0.22498852128662872, 0.22498852128662872, 0.22498852128662872, 0.22498852128662872, 0.22498852128662872, 0.22498852128662872, 0.22498852128662872, 0.22498852128662872, 0.22498852128662872, 0.22498852128662872, 0.22498852128662872, 0.22498852128662872, 0.22498852128662872, 0.22498852128662872, 0.22498852128662872, 0.22498852128662872, 0.22498852128662872, 0.22498852128662872, 0.22498852128662872, 0.22498852128662872, 0.22498852128662872, 0.22498852128662872, 0.22498852128662872, 0.22498852128662872, 0.22498852128662872, 0.22498852128662872, 0.22498852128662872, 0.22498852128662872, 0.22498852128662872, 0.22498852128662872, 0.22498852128662872, 0.22498852128662872, 0.22498852128662872, 0.22498852128662872, 0.22498852128662872, 0.22498852128662872, 0.22498852128662872, 0.22498852128662872, 0.22498852128662872, 0.22498852128662872, 0.22498852128662872, 0.22498852128662872, 0.22498852128662872, 0.22498852128662872, 0.22498852128662872, 0.22498852128662872, 0.22498852128662872, 0.22498852128662872, 0.22498852128662872, 0.22498852128662872, 0.22498852128662872, 0.22498852128662872, 0.22498852128662872, 0.22498852128662872, 0.22498852128662872, 0.22498852128662872, 0.22498852128662872, 0.22498852128662872, 0.22498852128662872, 0.22498852128662872, 0.22498852128662872, 0.22498852128662872, 0.22498852128662872, 0.22498852128662872, 0.22498852128662872, 0.22498852128662872, 0.22498852128662872, 0.22498852128662872, 0.22498852128662872, 0.22498852128662872, 0.22498852128662872, 0.22498852128662872, 0.22498852128662872, 0.22498852128662872, 0.22498852128662872, 0.22498852128662872, 0.22498852128662872, 0.22498852128662872, 0.22498852128662872, 0.22498852128662872, 0.22498852128662872, 0.22498852128662872, 0.22498852128662872, 0.22498852128662872, 0.22498852128662872, 0.22498852128662872, 0.22498852128662872, 0.22498852128662872, 0.22498852128662872, 0.22498852128662872, 0.22498852128662872, 0.22498852128662872, 0.22498852128662872, 0.22498852128662872, 0.22498852128662872, 0.22498852128662872, 0.22498852128662872, 0.22498852128662872, 0.22498852128662872, 0.22498852128662872, 0.22498852128662872, 0.22498852128662872, 0.22498852128662872, 0.22498852128662872, 0.22498852128662872, 0.22498852128662872, 0.22498852128662872, 0.22498852128662872, 0.22498852128662872, 0.22498852128662872, 0.22498852128662872, 0.22498852128662872, 0.22498852128662872, 0.22498852128662872, 0.22498852128662872, 0.22498852128662872, 0.22498852128662872, 0.22498852128662872, 0.22498852128662872, 0.22498852128662872, 0.22498852128662872, 0.22498852128662872, 0.22498852128662872, 0.22498852128662872, 0.22498852128662872, 0.22498852128662872, 0.22498852128662872, 0.22498852128662872, 0.22498852128662872, 0.22498852128662872, 0.22498852128662872, 0.22498852128662872, 0.22498852128662872, 0.22498852128662872, 0.22498852128662872, 0.22498852128662872, 0.22498852128662872, 0.22498852128662872, 0.22498852128662872, 0.22498852128662872, 0.22498852128662872, 0.22498852128662872, 0.22498852128662872, 0.22498852128662872, 0.22498852128662872, 0.22498852128662872, 0.22498852128662872, 0.22498852128662872, 0.22498852128662872, 0.22498852128662872, 0.22498852128662872, 0.22498852128662872, 0.22498852128662872, 0.22498852128662872, 0.22498852128662872, 0.22498852128662872, 0.22498852128662872, 0.22498852128662872, 0.22498852128662872, 0.22498852128662872, 0.22498852128662872, 0.22498852128662872, 0.22498852128662872, 0.22498852128662872, 0.22498852128662872, 0.22498852128662872, 0.22498852128662872, 0.22498852128662872, 0.22498852128662872, 0.22498852128662872, 0.22498852128662872, 0.22498852128662872, 0.22498852128662872, 0.22498852128662872, 0.22498852128662872, 0.22498852128662872, 0.22498852128662872, 0.22498852128662872, 0.22498852128662872, 0.22498852128662872, 0.22498852128662872, 0.22498852128662872, 0.22498852128662872, 0.22498852128662872, 0.22498852128662872, 0.22498852128662872, 0.22498852128662872, 0.22498852128662872, 0.22498852128662872, 0.22498852128662872, 0.22498852128662872, 0.22498852128662872, 0.22498852128662872, 0.22498852128662872, 0.22498852128662872, 0.22498852128662872, 0.22498852128662872, 0.22498852128662872, 0.22498852128662872, 0.22498852128662872, 0.22498852128662872, 0.22498852128662872, 0.22498852128662872, 0.22498852128662872, 0.22498852128662872, 0.22498852128662872, 0.22498852128662872, 0.22498852128662872, 0.22498852128662872, 0.22498852128662872, 0.22498852128662872, 0.22498852128662872, 0.22498852128662872, 0.22498852128662872, 0.22498852128662872, 0.22498852128662872, 0.22498852128662872, 0.22498852128662872, 0.22498852128662872, 0.22498852128662872, 0.22498852128662872, 0.22498852128662872, 0.22498852128662872, 0.22498852128662872, 0.22498852128662872, 0.22498852128662872, 0.22498852128662872, 0.22498852128662872, 0.22498852128662872, 0.22498852128662872, 0.22498852128662872, 0.22498852128662872, 0.22498852128662872, 0.22498852128662872, 0.22498852128662872, 0.22498852128662872, 0.22498852128662872, 0.22498852128662872, 0.22498852128662872, 0.22498852128662872, 0.22498852128662872, 0.22498852128662872, 0.22498852128662872, 0.22498852128662872, 0.22498852128662872, 0.22498852128662872, 0.22498852128662872, 0.22498852128662872, 0.22498852128662872, 0.22498852128662872, 0.22498852128662872, 0.22498852128662872, 0.22498852128662872, 0.22498852128662872, 0.22498852128662872, 0.22498852128662872, 0.22498852128662872, 0.22498852128662872, 0.22498852128662872, 0.22498852128662872, 0.22498852128662872, 0.22498852128662872, 0.22498852128662872, 0.22498852128662872, 0.22498852128662872, 0.22498852128662872, 0.22498852128662872, 0.22498852128662872, 0.22498852128662872, 0.22498852128662872, 0.22498852128662872, 0.22498852128662872, 0.22498852128662872, 0.22498852128662872, 0.22498852128662872, 0.22498852128662872, 0.22498852128662872, 0.22498852128662872, 0.22498852128662872, 0.22498852128662872, 0.22498852128662872, 0.22498852128662872, 0.22498852128662872, 0.22498852128662872, 0.22498852128662872, 0.22498852128662872, 0.22498852128662872, 0.22498852128662872, 0.22498852128662872, 0.22498852128662872, 0.22498852128662872, 0.22498852128662872, 0.22498852128662872, 0.22498852128662872, 0.22498852128662872, 0.22498852128662872, 0.22498852128662872, 0.22498852128662872, 0.22498852128662872, 0.22498852128662872, 0.22498852128662872, 0.22498852128662872, 0.22498852128662872, 0.22498852128662872, 0.22498852128662872, 0.22498852128662872, 0.22498852128662872, 0.22498852128662872, 0.22498852128662872, 0.22498852128662872, 0.22498852128662872, 0.22498852128662872, 0.22498852128662872, 0.22498852128662872, 0.22498852128662872, 0.22498852128662872, 0.22498852128662872, 0.22498852128662872, 0.22498852128662872, 0.22498852128662872, 0.22498852128662872, 0.22498852128662872, 0.22498852128662872, 0.22498852128662872, 0.22498852128662872, 0.22498852128662872, 0.22498852128662872, 0.22498852128662872, 0.22498852128662872, 0.22498852128662872, 0.22498852128662872, 0.22498852128662872, 0.22498852128662872, 0.22498852128662872, 0.22498852128662872, 0.22498852128662872, 0.22498852128662872, 0.22498852128662872, 0.22498852128662872, 0.22498852128662872, 0.22498852128662872, 0.22498852128662872, 0.22498852128662872, 0.22498852128662872, 0.22498852128662872, 0.22498852128662872, 0.22498852128662872, 0.22498852128662872, 0.22498852128662872, 0.22498852128662872, 0.22498852128662872, 0.22498852128662872, 0.22498852128662872, 0.22498852128662872, 0.22498852128662872, 0.22498852128662872, 0.22498852128662872, 0.22498852128662872, 0.22498852128662872, 0.22498852128662872, 0.22498852128662872, 0.22498852128662872, 0.22498852128662872, 0.22498852128662872, 0.22498852128662872, 0.22498852128662872, 0.22498852128662872, 0.22498852128662872, 0.22498852128662872, 0.22498852128662872, 0.22498852128662872, 0.22498852128662872, 0.22498852128662872, 0.22498852128662872, 0.22498852128662872, 0.22498852128662872, 0.22498852128662872, 0.22498852128662872, 0.22498852128662872, 0.22498852128662872, 0.22498852128662872, 0.22498852128662872, 0.22498852128662872, 0.22498852128662872, 0.22498852128662872, 0.22498852128662872, 0.22498852128662872, 0.22498852128662872, 0.22498852128662872, 0.22498852128662872, 0.22498852128662872, 0.22498852128662872, 0.22498852128662872, 0.22498852128662872, 0.22498852128662872, 0.22498852128662872, 0.22498852128662872, 0.22498852128662872, 0.22498852128662872, 0.22498852128662872, 0.22498852128662872, 0.22498852128662872, 0.22498852128662872, 0.22498852128662872, 0.22498852128662872, 0.22498852128662872, 0.22498852128662872, 0.22498852128662872, 0.22498852128662872, 0.22498852128662872, 0.22498852128662872, 0.22498852128662872, 0.22498852128662872, 0.22498852128662872, 0.22498852128662872, 0.22498852128662872, 0.22498852128662872, 0.22498852128662872, 0.22498852128662872, 0.22498852128662872, 0.22498852128662872, 0.22498852128662872, 0.22498852128662872, 0.22498852128662872, 0.22498852128662872, 0.22498852128662872, 0.22498852128662872, 0.22498852128662872, 0.22498852128662872, 0.22498852128662872, 0.22498852128662872, 0.22498852128662872, 0.22498852128662872, 0.22498852128662872, 0.22498852128662872, 0.22498852128662872, 0.22498852128662872, 0.22498852128662872, 0.22498852128662872, 0.22498852128662872, 0.22498852128662872, 0.22498852128662872, 0.22498852128662872, 0.22498852128662872, 0.22498852128662872, 0.22498852128662872, 0.22498852128662872, 0.22498852128662872, 0.22498852128662872, 0.22498852128662872, 0.22498852128662872, 0.22498852128662872, 0.22498852128662872, 0.22498852128662872, 0.22498852128662872, 0.22498852128662872, 0.22498852128662872, 0.22498852128662872, 0.22498852128662872, 0.22498852128662872, 0.22498852128662872, 0.22498852128662872, 0.22498852128662872, 0.22498852128662872, 0.22498852128662872, 0.22498852128662872, 0.22498852128662872, 0.22498852128662872, 0.22498852128662872, 0.22498852128662872, 0.22498852128662872, 0.22498852128662872, 0.22498852128662872, 0.22498852128662872, 0.22498852128662872, 0.22498852128662872, 0.22498852128662872, 0.22498852128662872, 0.22498852128662872, 0.22498852128662872, 0.22498852128662872, 0.22498852128662872, 0.22498852128662872, 0.22498852128662872, 0.22498852128662872, 0.22498852128662872, 0.22498852128662872, 0.22498852128662872, 0.22498852128662872, 0.22498852128662872, 0.22498852128662872, 0.22498852128662872, 0.22498852128662872, 0.22498852128662872, 0.22498852128662872, 0.22498852128662872, 0.22498852128662872, 0.22498852128662872, 0.22498852128662872, 0.22498852128662872, 0.22498852128662872, 0.22498852128662872, 0.22498852128662872, 0.22498852128662872, 0.22498852128662872, 0.22498852128662872, 0.22498852128662872, 0.22498852128662872, 0.22498852128662872, 0.22498852128662872, 0.22498852128662872, 0.22498852128662872, 0.22498852128662872, 0.22498852128662872, 0.22498852128662872, 0.22498852128662872, 0.22498852128662872, 0.22498852128662872, 0.22498852128662872, 0.22498852128662872, 0.22498852128662872, 0.22498852128662872, 0.22498852128662872, 0.22498852128662872, 0.22498852128662872, 0.22498852128662872, 0.22498852128662872, 0.22498852128662872, 0.22498852128662872, 0.22498852128662872, 0.22498852128662872, 0.22498852128662872, 0.22498852128662872, 0.22498852128662872, 0.22498852128662872, 0.22498852128662872, 0.22498852128662872, 0.22498852128662872, 0.22498852128662872, 0.22498852128662872, 0.22498852128662872, 0.22498852128662872, 0.22498852128662872, 0.22498852128662872, 0.22498852128662872, 0.22498852128662872, 0.22498852128662872, 0.22498852128662872, 0.22498852128662872, 0.22498852128662872, 0.22498852128662872, 0.22498852128662872, 0.22498852128662872, 0.22498852128662872, 0.22498852128662872, 0.22498852128662872, 0.22498852128662872, 0.22498852128662872, 0.22498852128662872, 0.22498852128662872, 0.22498852128662872, 0.22498852128662872, 0.22498852128662872, 0.22498852128662872, 0.22498852128662872, 0.22498852128662872, 0.22498852128662872, 0.22498852128662872, 0.22498852128662872, 0.22498852128662872, 0.22498852128662872, 0.22498852128662872, 0.22498852128662872, 0.22498852128662872, 0.22498852128662872, 0.22498852128662872, 0.22498852128662872, 0.22498852128662872, 0.22498852128662872, 0.22498852128662872, 0.22498852128662872, 0.22498852128662872, 0.22498852128662872, 0.22498852128662872, 0.22498852128662872, 0.22498852128662872, 0.22498852128662872, 0.22498852128662872, 0.22498852128662872, 0.22498852128662872, 0.22498852128662872, 0.22498852128662872, 0.22498852128662872, 0.22498852128662872, 0.22498852128662872, 0.22498852128662872, 0.22498852128662872, 0.22498852128662872, 0.22498852128662872, 0.22498852128662872, 0.22498852128662872, 0.22498852128662872, 0.22498852128662872, 0.22498852128662872, 0.22498852128662872, 0.22498852128662872, 0.22498852128662872, 0.22498852128662872, 0.22498852128662872, 0.22498852128662872, 0.22498852128662872, 0.22498852128662872, 0.22498852128662872, 0.22498852128662872, 0.22498852128662872, 0.22498852128662872, 0.22498852128662872, 0.22498852128662872, 0.22498852128662872, 0.22498852128662872, 0.22498852128662872, 0.22498852128662872, 0.22498852128662872, 0.22498852128662872, 0.22498852128662872, 0.22498852128662872, 0.22498852128662872, 0.22498852128662872, 0.22498852128662872, 0.22498852128662872, 0.22498852128662872, 0.22498852128662872, 0.22498852128662872, 0.22498852128662872, 0.22498852128662872, 0.22498852128662872, 0.22498852128662872, 0.22498852128662872, 0.22498852128662872, 0.22498852128662872, 0.22498852128662872, 0.22498852128662872, 0.22498852128662872, 0.22498852128662872, 0.22498852128662872, 0.22498852128662872, 0.22498852128662872, 0.22498852128662872, 0.22498852128662872, 0.22498852128662872, 0.22498852128662872, 0.22498852128662872, 0.22498852128662872, 0.22498852128662872, 0.22498852128662872, 0.22498852128662872, 0.22498852128662872, 0.22498852128662872, 0.22498852128662872, 0.22498852128662872, 0.22498852128662872, 0.22498852128662872, 0.22498852128662872, 0.22498852128662872, 0.22498852128662872, 0.22498852128662872, 0.22498852128662872, 0.22498852128662872, 0.22498852128662872, 0.22498852128662872, 0.22498852128662872, 0.22498852128662872, 0.22498852128662872, 0.22498852128662872, 0.22498852128662872, 0.22498852128662872, 0.22498852128662872, 0.22498852128662872, 0.22498852128662872, 0.22498852128662872, 0.22498852128662872, 0.22498852128662872, 0.22498852128662872, 0.22498852128662872, 0.22498852128662872, 0.22498852128662872, 0.22498852128662872, 0.22498852128662872, 0.22498852128662872, 0.22498852128662872, 0.22498852128662872, 0.22498852128662872, 0.22498852128662872, 0.22498852128662872, 0.22498852128662872, 0.22498852128662872, 0.22498852128662872, 0.22498852128662872, 0.22498852128662872, 0.22498852128662872, 0.22498852128662872, 0.22498852128662872, 0.22498852128662872, 0.22498852128662872, 0.22498852128662872, 0.22498852128662872, 0.22498852128662872, 0.22498852128662872, 0.22498852128662872, 0.22498852128662872, 0.22498852128662872, 0.22498852128662872, 0.22498852128662872, 0.22498852128662872, 0.22498852128662872, 0.22498852128662872, 0.22498852128662872, 0.22498852128662872, 0.22498852128662872, 0.22498852128662872, 0.22498852128662872, 0.22498852128662872, 0.22498852128662872, 0.22498852128662872, 0.22498852128662872, 0.22498852128662872, 0.22498852128662872, 0.22498852128662872, 0.22498852128662872, 0.22498852128662872, 0.22498852128662872, 0.22498852128662872, 0.22498852128662872, 0.22498852128662872, 0.22498852128662872, 0.22498852128662872, 0.22498852128662872, 0.22498852128662872, 0.22498852128662872, 0.22498852128662872, 0.22498852128662872, 0.22498852128662872, 0.22498852128662872, 0.22498852128662872, 0.22498852128662872, 0.22498852128662872, 0.22498852128662872, 0.22498852128662872, 0.22498852128662872, 0.22498852128662872, 0.22498852128662872, 0.22498852128662872, 0.22498852128662872, 0.22498852128662872, 0.22498852128662872, 0.22498852128662872, 0.22498852128662872, 0.22498852128662872, 0.22498852128662872, 0.22498852128662872, 0.22498852128662872, 0.22498852128662872, 0.22498852128662872, 0.22498852128662872, 0.22498852128662872, 0.22498852128662872, 0.22498852128662872, 0.22498852128662872, 0.22498852128662872, 0.22498852128662872, 0.22498852128662872, 0.22498852128662872, 0.22498852128662872, 0.22498852128662872, 0.22498852128662872, 0.22498852128662872, 0.22498852128662872, 0.22498852128662872, 0.22498852128662872, 0.22498852128662872, 0.22498852128662872, 0.22498852128662872, 0.22498852128662872, 0.22498852128662872, 0.22498852128662872, 0.22498852128662872, 0.22498852128662872, 0.22498852128662872, 0.22498852128662872, 0.22498852128662872, 0.22498852128662872, 0.22498852128662872, 0.22498852128662872, 0.22498852128662872, 0.22498852128662872, 0.22498852128662872, 0.22498852128662872, 0.22498852128662872, 0.22498852128662872, 0.22498852128662872, 0.22498852128662872, 0.22498852128662872, 0.22498852128662872, 0.22498852128662872, 0.22498852128662872, 0.22498852128662872, 0.22498852128662872, 0.22498852128662872, 0.22498852128662872, 0.22498852128662872, 0.22498852128662872, 0.22498852128662872, 0.22498852128662872, 0.22498852128662872, 0.22498852128662872, 0.22498852128662872, 0.22498852128662872, 0.22498852128662872, 0.22498852128662872, 0.22498852128662872, 0.22498852128662872, 0.22498852128662872, 0.22498852128662872, 0.22498852128662872, 0.22498852128662872, 0.22498852128662872, 0.22498852128662872, 0.22498852128662872, 0.22498852128662872, 0.22498852128662872, 0.22498852128662872, 0.22498852128662872, 0.22498852128662872, 0.22498852128662872, 0.22498852128662872, 0.22498852128662872, 0.22498852128662872, 0.22498852128662872, 0.22498852128662872, 0.22498852128662872, 0.22498852128662872, 0.22498852128662872, 0.22498852128662872, 0.22498852128662872, 0.22498852128662872, 0.22498852128662872, 0.22498852128662872, 0.22498852128662872, 0.22498852128662872, 0.22498852128662872, 0.22498852128662872, 0.22498852128662872, 0.22498852128662872, 0.22498852128662872, 0.22498852128662872, 0.22498852128662872, 0.22498852128662872, 0.22498852128662872, 0.22498852128662872, 0.22498852128662872, 0.22498852128662872, 0.22498852128662872, 0.22498852128662872, 0.22498852128662872, 0.22498852128662872, 0.22498852128662872, 0.22498852128662872, 0.22498852128662872, 0.22498852128662872, 0.22498852128662872, 0.22498852128662872, 0.22498852128662872, 0.22498852128662872, 0.22498852128662872, 0.22498852128662872, 0.22498852128662872, 0.22498852128662872, 0.22498852128662872, 0.22498852128662872, 0.22498852128662872, 0.22498852128662872, 0.22498852128662872, 0.22498852128662872, 0.22498852128662872, 0.22498852128662872, 0.22498852128662872, 0.22498852128662872, 0.22498852128662872, 0.22498852128662872, 0.22498852128662872, 0.22498852128662872, 0.22498852128662872, 0.22498852128662872, 0.22498852128662872, 0.22498852128662872, 0.22498852128662872, 0.22498852128662872, 0.22498852128662872, 0.22498852128662872, 0.22498852128662872, 0.22498852128662872, 0.22498852128662872, 0.22498852128662872, 0.22498852128662872, 0.22498852128662872, 0.22498852128662872, 0.22498852128662872, 0.22498852128662872, 0.22498852128662872, 0.22498852128662872, 0.22498852128662872, 0.22498852128662872, 0.22498852128662872, 0.22498852128662872, 0.22498852128662872, 0.22498852128662872, 0.22498852128662872, 0.22498852128662872, 0.22498852128662872, 0.22498852128662872, 0.22498852128662872, 0.22498852128662872, 0.22498852128662872, 0.22498852128662872, 0.22498852128662872, 0.22498852128662872, 0.22498852128662872, 0.22498852128662872, 0.22498852128662872, 0.22498852128662872, 0.22498852128662872, 0.22498852128662872, 0.22498852128662872, 0.22498852128662872, 0.22498852128662872, 0.22498852128662872, 0.22498852128662872, 0.22498852128662872, 0.22498852128662872, 0.22498852128662872, 0.22498852128662872, 0.22498852128662872, 0.22498852128662872, 0.22498852128662872, 0.22498852128662872, 0.22498852128662872, 0.22498852128662872, 0.22498852128662872, 0.22498852128662872, 0.22498852128662872, 0.22498852128662872, 0.22498852128662872, 0.22498852128662872, 0.22498852128662872, 0.22498852128662872, 0.22498852128662872, 0.22498852128662872, 0.22498852128662872, 0.22498852128662872, 0.22498852128662872, 0.22498852128662872, 0.22498852128662872, 0.22498852128662872, 0.22498852128662872, 0.22498852128662872, 0.22498852128662872, 0.22498852128662872, 0.22498852128662872, 0.22498852128662872, 0.22498852128662872, 0.22498852128662872, 0.22498852128662872, 0.22498852128662872, 0.22498852128662872, 0.22498852128662872, 0.22498852128662872, 0.22498852128662872, 0.22498852128662872, 0.22498852128662872, 0.22498852128662872, 0.22498852128662872, 0.22498852128662872, 0.22498852128662872, 0.22498852128662872, 0.22498852128662872, 0.22498852128662872, 0.22498852128662872, 0.22498852128662872, 0.22498852128662872, 0.22498852128662872, 0.22498852128662872, 0.22498852128662872, 0.22498852128662872, 0.22498852128662872, 0.22498852128662872, 0.22498852128662872, 0.22498852128662872, 0.22498852128662872, 0.22498852128662872, 0.22498852128662872, 0.22498852128662872, 0.22498852128662872, 0.22498852128662872, 0.22498852128662872, 0.22498852128662872, 0.22498852128662872, 0.22498852128662872, 0.22498852128662872, 0.22498852128662872, 0.22498852128662872, 0.22498852128662872, 0.22498852128662872, 0.22498852128662872, 0.22498852128662872, 0.22498852128662872, 0.22498852128662872, 0.22498852128662872, 0.22498852128662872, 0.22498852128662872, 0.22498852128662872, 0.22498852128662872, 0.22498852128662872, 0.22498852128662872, 0.22498852128662872, 0.22498852128662872, 0.22498852128662872, 0.22498852128662872, 0.22498852128662872, 0.22498852128662872, 0.22498852128662872, 0.22498852128662872, 0.22498852128662872, 0.22498852128662872, 0.22498852128662872, 0.22498852128662872, 0.22498852128662872, 0.22498852128662872, 0.22498852128662872, 0.22498852128662872, 0.22498852128662872, 0.22498852128662872, 0.22498852128662872, 0.22498852128662872, 0.22498852128662872, 0.22498852128662872, 0.22498852128662872, 0.22498852128662872, 0.22498852128662872, 0.22498852128662872, 0.22498852128662872, 0.22498852128662872, 0.22498852128662872, 0.22498852128662872, 0.22498852128662872, 0.22498852128662872, 0.22498852128662872, 0.22498852128662872, 0.22498852128662872, 0.22498852128662872, 0.22498852128662872, 0.22498852128662872, 0.22498852128662872, 0.22498852128662872, 0.22498852128662872, 0.22498852128662872, 0.22498852128662872, 0.22498852128662872, 0.22498852128662872, 0.22498852128662872, 0.22498852128662872, 0.22498852128662872, 0.22498852128662872, 0.22498852128662872, 0.22498852128662872, 0.22498852128662872, 0.22498852128662872, 0.22498852128662872, 0.22498852128662872, 0.22498852128662872, 0.22498852128662872, 0.22498852128662872, 0.22498852128662872, 0.22498852128662872, 0.22498852128662872, 0.22498852128662872, 0.22498852128662872, 0.22498852128662872, 0.22498852128662872, 0.22498852128662872, 0.22498852128662872, 0.22498852128662872, 0.22498852128662872, 0.22498852128662872, 0.22498852128662872, 0.22498852128662872, 0.22498852128662872, 0.22498852128662872, 0.22498852128662872, 0.22498852128662872, 0.22498852128662872, 0.22498852128662872, 0.22498852128662872, 0.22498852128662872, 0.22498852128662872, 0.22498852128662872, 0.22498852128662872, 0.22498852128662872, 0.22498852128662872, 0.22498852128662872, 0.22498852128662872, 0.22498852128662872, 0.22498852128662872, 0.22498852128662872, 0.22498852128662872, 0.22498852128662872, 0.22498852128662872, 0.22498852128662872, 0.22498852128662872, 0.22498852128662872, 0.22498852128662872, 0.22498852128662872, 0.22498852128662872, 0.22498852128662872, 0.22498852128662872, 0.22498852128662872, 0.22498852128662872, 0.22498852128662872, 0.22498852128662872, 0.22498852128662872, 0.22498852128662872, 0.22498852128662872, 0.22498852128662872, 0.22498852128662872, 0.22498852128662872, 0.22498852128662872, 0.22498852128662872, 0.22498852128662872, 0.22498852128662872, 0.22498852128662872, 0.22498852128662872, 0.22498852128662872, 0.22498852128662872, 0.22498852128662872, 0.22498852128662872, 0.22498852128662872, 0.22498852128662872, 0.22498852128662872, 0.22498852128662872, 0.22498852128662872, 0.22498852128662872, 0.22498852128662872, 0.22498852128662872, 0.22498852128662872, 0.22498852128662872, 0.22498852128662872, 0.22498852128662872, 0.22498852128662872, 0.22498852128662872, 0.22498852128662872, 0.22498852128662872, 0.22498852128662872, 0.22498852128662872, 0.22498852128662872, 0.22498852128662872, 0.22498852128662872, 0.22498852128662872, 0.22498852128662872, 0.22498852128662872, 0.22498852128662872, 0.22498852128662872, 0.22498852128662872, 0.22498852128662872, 0.22498852128662872, 0.22498852128662872, 0.22498852128662872, 0.22498852128662872, 0.22498852128662872, 0.22498852128662872, 0.22498852128662872, 0.22498852128662872, 0.22498852128662872, 0.22498852128662872, 0.22498852128662872, 0.22498852128662872, 0.22498852128662872, 0.22498852128662872, 0.22498852128662872, 0.22498852128662872, 0.22498852128662872, 0.22498852128662872, 0.22498852128662872, 0.22498852128662872, 0.22498852128662872, 0.22498852128662872, 0.22498852128662872, 0.22498852128662872, 0.22498852128662872, 0.22498852128662872, 0.22498852128662872, 0.22498852128662872, 0.22498852128662872, 0.22498852128662872, 0.22498852128662872, 0.22498852128662872, 0.22498852128662872, 0.22498852128662872, 0.22498852128662872, 0.22498852128662872, 0.22498852128662872, 0.22498852128662872, 0.22498852128662872, 0.22498852128662872, 0.22498852128662872, 0.22498852128662872, 0.22498852128662872, 0.22498852128662872, 0.22498852128662872, 0.22498852128662872, 0.22498852128662872, 0.22498852128662872, 0.22498852128662872, 0.22498852128662872, 0.22498852128662872, 0.22498852128662872, 0.22498852128662872, 0.22498852128662872, 0.22498852128662872, 0.22498852128662872, 0.22498852128662872, 0.22498852128662872, 0.22498852128662872, 0.22498852128662872, 0.22498852128662872, 0.22498852128662872, 0.22498852128662872, 0.22498852128662872, 0.22498852128662872, 0.22498852128662872, 0.22498852128662872, 0.22498852128662872, 0.22498852128662872, 0.22498852128662872, 0.22498852128662872, 0.22498852128662872, 0.22498852128662872, 0.22498852128662872, 0.22498852128662872, 0.22498852128662872, 0.22498852128662872, 0.22498852128662872, 0.22498852128662872, 0.22498852128662872, 0.22498852128662872, 0.22498852128662872, 0.22498852128662872, 0.22498852128662872, 0.22498852128662872, 0.22498852128662872, 0.22498852128662872, 0.22498852128662872, 0.22498852128662872, 0.22498852128662872, 0.22498852128662872, 0.22498852128662872, 0.22498852128662872, 0.22498852128662872, 0.22498852128662872, 0.22498852128662872, 0.22498852128662872, 0.22498852128662872, 0.22498852128662872, 0.22498852128662872, 0.22498852128662872, 0.22498852128662872, 0.22498852128662872, 0.22498852128662872, 0.22498852128662872, 0.22498852128662872, 0.22498852128662872, 0.22498852128662872, 0.22498852128662872, 0.22498852128662872, 0.22498852128662872, 0.22498852128662872, 0.22498852128662872, 0.22498852128662872, 0.22498852128662872, 0.22498852128662872, 0.22498852128662872, 0.22498852128662872, 0.22498852128662872, 0.22498852128662872, 0.22498852128662872, 0.22498852128662872, 0.22498852128662872, 0.22498852128662872, 0.22498852128662872, 0.22498852128662872, 0.22498852128662872, 0.22498852128662872, 0.22498852128662872, 0.22498852128662872, 0.22498852128662872, 0.22498852128662872, 0.22498852128662872, 0.22498852128662872, 0.22498852128662872, 0.22498852128662872, 0.22498852128662872, 0.22498852128662872, 0.22498852128662872, 0.22498852128662872, 0.22498852128662872, 0.22498852128662872, 0.22498852128662872, 0.22498852128662872, 0.22498852128662872, 0.22498852128662872, 0.22498852128662872, 0.22498852128662872, 0.22498852128662872, 0.22498852128662872, 0.22498852128662872, 0.22498852128662872, 0.22498852128662872, 0.22498852128662872, 0.22498852128662872, 0.22498852128662872, 0.22498852128662872, 0.22498852128662872, 0.22498852128662872, 0.22498852128662872, 0.22498852128662872, 0.22498852128662872, 0.22498852128662872, 0.22498852128662872, 0.22498852128662872, 0.22498852128662872, 0.22498852128662872, 0.22498852128662872, 0.22498852128662872, 0.22498852128662872, 0.22498852128662872, 0.22498852128662872, 0.22498852128662872, 0.22498852128662872, 0.22498852128662872, 0.22498852128662872, 0.22498852128662872, 0.22498852128662872, 0.22498852128662872, 0.22498852128662872, 0.22498852128662872, 0.22498852128662872, 0.22498852128662872, 0.22498852128662872, 0.22498852128662872, 0.22498852128662872, 0.22498852128662872, 0.22498852128662872, 0.22498852128662872, 0.22498852128662872, 0.22498852128662872, 0.22498852128662872, 0.22498852128662872, 0.22498852128662872, 0.22498852128662872, 0.22498852128662872, 0.22498852128662872, 0.22498852128662872, 0.22498852128662872, 0.22498852128662872, 0.22498852128662872, 0.22498852128662872, 0.22498852128662872, 0.22498852128662872, 0.22498852128662872, 0.22498852128662872, 0.22498852128662872, 0.22498852128662872, 0.22498852128662872, 0.22498852128662872, 0.22498852128662872, 0.22498852128662872, 0.22498852128662872, 0.22498852128662872, 0.22498852128662872, 0.22498852128662872, 0.22498852128662872, 0.22498852128662872, 0.22498852128662872, 0.22498852128662872, 0.22498852128662872, 0.22498852128662872, 0.22498852128662872, 0.22498852128662872, 0.22498852128662872, 0.22498852128662872, 0.22498852128662872, 0.22498852128662872, 0.22498852128662872, 0.22498852128662872, 0.22498852128662872, 0.22498852128662872, 0.22498852128662872, 0.22498852128662872, 0.22498852128662872, 0.22498852128662872, 0.22498852128662872, 0.22498852128662872, 0.22498852128662872, 0.22498852128662872, 0.22498852128662872, 0.22498852128662872, 0.22498852128662872, 0.22498852128662872, 0.22498852128662872, 0.22498852128662872, 0.22498852128662872, 0.22498852128662872, 0.22498852128662872, 0.22498852128662872, 0.22498852128662872, 0.22498852128662872, 0.22498852128662872, 0.22498852128662872, 0.22498852128662872, 0.22498852128662872, 0.22498852128662872, 0.22498852128662872, 0.22498852128662872, 0.22498852128662872, 0.22498852128662872, 0.22498852128662872, 0.22498852128662872, 0.22498852128662872, 0.22498852128662872, 0.22498852128662872, 0.22498852128662872, 0.22498852128662872, 0.22498852128662872, 0.22498852128662872, 0.22498852128662872, 0.22498852128662872, 0.22498852128662872, 0.22498852128662872, 0.22498852128662872, 0.22498852128662872, 0.22498852128662872, 0.22498852128662872, 0.22498852128662872, 0.22498852128662872, 0.22498852128662872, 0.22498852128662872, 0.22498852128662872, 0.22498852128662872, 0.22498852128662872, 0.22498852128662872, 0.22498852128662872, 0.22498852128662872, 0.22498852128662872, 0.22498852128662872, 0.22498852128662872, 0.22498852128662872, 0.22498852128662872, 0.22498852128662872, 0.22498852128662872, 0.22498852128662872, 0.22498852128662872, 0.22498852128662872, 0.22498852128662872, 0.22498852128662872, 0.22498852128662872, 0.22498852128662872, 0.22498852128662872, 0.22498852128662872, 0.22498852128662872, 0.22498852128662872, 0.22498852128662872, 0.22498852128662872, 0.22498852128662872, 0.22498852128662872, 0.22498852128662872, 0.22498852128662872, 0.22498852128662872, 0.22498852128662872, 0.22498852128662872, 0.22498852128662872, 0.22498852128662872, 0.22498852128662872, 0.22498852128662872, 0.22498852128662872, 0.22498852128662872, 0.22498852128662872, 0.22498852128662872, 0.22498852128662872, 0.22498852128662872, 0.22498852128662872, 0.22498852128662872, 0.22498852128662872, 0.22498852128662872, 0.22498852128662872, 0.22498852128662872, 0.22498852128662872, 0.22498852128662872, 0.22498852128662872, 0.22498852128662872, 0.22498852128662872, 0.22498852128662872, 0.22498852128662872, 0.22498852128662872, 0.22498852128662872, 0.22498852128662872, 0.22498852128662872, 0.22498852128662872, 0.22498852128662872, 0.22498852128662872, 0.22498852128662872, 0.22498852128662872, 0.22498852128662872, 0.22498852128662872, 0.22498852128662872, 0.22498852128662872, 0.22498852128662872, 0.22498852128662872, 0.22498852128662872, 0.22498852128662872, 0.22498852128662872, 0.22498852128662872, 0.22498852128662872, 0.22498852128662872, 0.22498852128662872, 0.22498852128662872, 0.22498852128662872, 0.22498852128662872, 0.22498852128662872, 0.22498852128662872, 0.22498852128662872, 0.22498852128662872, 0.22498852128662872, 0.22498852128662872, 0.22498852128662872, 0.22498852128662872, 0.22498852128662872, 0.22498852128662872, 0.22498852128662872, 0.22498852128662872, 0.22498852128662872, 0.22498852128662872, 0.22498852128662872, 0.22498852128662872, 0.22498852128662872, 0.22498852128662872, 0.22498852128662872, 0.22498852128662872, 0.22498852128662872, 0.22498852128662872, 0.22498852128662872, 0.22498852128662872, 0.22498852128662872, 0.22498852128662872, 0.22498852128662872, 0.22498852128662872, 0.22498852128662872, 0.22498852128662872, 0.22498852128662872, 0.22498852128662872, 0.22498852128662872, 0.22498852128662872, 0.22498852128662872, 0.22498852128662872, 0.22498852128662872, 0.22498852128662872, 0.22498852128662872, 0.22498852128662872, 0.22498852128662872, 0.22498852128662872, 0.22498852128662872, 0.22498852128662872, 0.22498852128662872, 0.22498852128662872, 0.22498852128662872, 0.22498852128662872, 0.22498852128662872, 0.22498852128662872, 0.22498852128662872, 0.22498852128662872, 0.22498852128662872, 0.22498852128662872, 0.22498852128662872, 0.22498852128662872, 0.22498852128662872, 0.22498852128662872, 0.22498852128662872, 0.22498852128662872, 0.22498852128662872, 0.22498852128662872, 0.22498852128662872, 0.22498852128662872, 0.22498852128662872, 0.22498852128662872, 0.22498852128662872, 0.22498852128662872, 0.22498852128662872, 0.22498852128662872, 0.22498852128662872, 0.22498852128662872, 0.22498852128662872, 0.22498852128662872, 0.22498852128662872, 0.22498852128662872, 0.22498852128662872, 0.22498852128662872, 0.22498852128662872, 0.22498852128662872, 0.22498852128662872, 0.22498852128662872, 0.22498852128662872, 0.22498852128662872, 0.22498852128662872, 0.22498852128662872, 0.22498852128662872, 0.22498852128662872, 0.22498852128662872, 0.22498852128662872, 0.22498852128662872, 0.22498852128662872, 0.22498852128662872, 0.22498852128662872, 0.22498852128662872, 0.22498852128662872, 0.22498852128662872, 0.22498852128662872, 0.22498852128662872, 0.22498852128662872, 0.22498852128662872, 0.22498852128662872, 0.22498852128662872, 0.22498852128662872, 0.22498852128662872, 0.22498852128662872, 0.22498852128662872, 0.22498852128662872, 0.22498852128662872, 0.22498852128662872, 0.22498852128662872, 0.22498852128662872, 0.22498852128662872, 0.22498852128662872, 0.22498852128662872, 0.22498852128662872, 0.22498852128662872, 0.22498852128662872, 0.22498852128662872, 0.22498852128662872, 0.22498852128662872, 0.22498852128662872, 0.22498852128662872, 0.22498852128662872, 0.22498852128662872, 0.22498852128662872, 0.22498852128662872, 0.22498852128662872, 0.22498852128662872, 0.22498852128662872, 0.22498852128662872, 0.22498852128662872, 0.22498852128662872, 0.22498852128662872, 0.22498852128662872, 0.22498852128662872, 0.22498852128662872, 0.22498852128662872, 0.22498852128662872, 0.22498852128662872, 0.22498852128662872, 0.22498852128662872, 0.22498852128662872, 0.22498852128662872, 0.22498852128662872, 0.22498852128662872, 0.22498852128662872, 0.22498852128662872, 0.22498852128662872, 0.22498852128662872, 0.22498852128662872, 0.22498852128662872, 0.22498852128662872, 0.22498852128662872, 0.22498852128662872, 0.22498852128662872, 0.22498852128662872, 0.22498852128662872, 0.22498852128662872, 0.22498852128662872, 0.22498852128662872, 0.22498852128662872, 0.22498852128662872, 0.22498852128662872, 0.22498852128662872, 0.22498852128662872, 0.22498852128662872, 0.22498852128662872, 0.22498852128662872, 0.22498852128662872, 0.22498852128662872, 0.22498852128662872, 0.22498852128662872, 0.22498852128662872, 0.22498852128662872, 0.22498852128662872, 0.22498852128662872, 0.22498852128662872, 0.22498852128662872, 0.22498852128662872, 0.22498852128662872, 0.22498852128662872, 0.22498852128662872, 0.22498852128662872, 0.22498852128662872, 0.22498852128662872, 0.22498852128662872, 0.22498852128662872, 0.22498852128662872, 0.22498852128662872, 0.22498852128662872, 0.22498852128662872, 0.22498852128662872, 0.22498852128662872, 0.22498852128662872, 0.22498852128662872, 0.22498852128662872, 0.22498852128662872, 0.22498852128662872, 0.22498852128662872, 0.22498852128662872, 0.22498852128662872, 0.22498852128662872, 0.22498852128662872, 0.22498852128662872, 0.22498852128662872, 0.22498852128662872, 0.22498852128662872, 0.22498852128662872, 0.22498852128662872, 0.22498852128662872, 0.22498852128662872, 0.22498852128662872, 0.22498852128662872, 0.22498852128662872, 0.22498852128662872, 0.22498852128662872, 0.22498852128662872, 0.22498852128662872, 0.22498852128662872, 0.22498852128662872, 0.22498852128662872, 0.22498852128662872, 0.22498852128662872, 0.22498852128662872, 0.22498852128662872, 0.22498852128662872, 0.22498852128662872, 0.22498852128662872, 0.22498852128662872, 0.22498852128662872, 0.22498852128662872, 0.22498852128662872, 0.22498852128662872, 0.22498852128662872, 0.22498852128662872, 0.22498852128662872, 0.22498852128662872, 0.22498852128662872, 0.22498852128662872, 0.22498852128662872, 0.22498852128662872, 0.22498852128662872, 0.22498852128662872, 0.22498852128662872, 0.22498852128662872, 0.22498852128662872, 0.22498852128662872, 0.22498852128662872, 0.22498852128662872, 0.22498852128662872, 0.22498852128662872, 0.22498852128662872, 0.22498852128662872, 0.22498852128662872, 0.22498852128662872, 0.22498852128662872, 0.22498852128662872, 0.22498852128662872, 0.22498852128662872, 0.22498852128662872, 0.22498852128662872, 0.22498852128662872, 0.22498852128662872, 0.22498852128662872, 0.22498852128662872, 0.22498852128662872, 0.22498852128662872, 0.22498852128662872, 0.22498852128662872, 0.22498852128662872, 0.22498852128662872, 0.22498852128662872, 0.22498852128662872, 0.22498852128662872, 0.22498852128662872, 0.22498852128662872, 0.22498852128662872, 0.22498852128662872, 0.22498852128662872, 0.22498852128662872, 0.22498852128662872, 0.22498852128662872, 0.22498852128662872, 0.22498852128662872, 0.22498852128662872, 0.22498852128662872, 0.22498852128662872, 0.22498852128662872, 0.22498852128662872, 0.22498852128662872, 0.22498852128662872, 0.22498852128662872, 0.22498852128662872, 0.22498852128662872, 0.22498852128662872, 0.22498852128662872, 0.22498852128662872, 0.22498852128662872, 0.22498852128662872, 0.22498852128662872, 0.22498852128662872, 0.22498852128662872, 0.22498852128662872, 0.22498852128662872, 0.22498852128662872, 0.22498852128662872, 0.22498852128662872, 0.22498852128662872, 0.22498852128662872, 0.22498852128662872, 0.22498852128662872, 0.22498852128662872, 0.22498852128662872, 0.22498852128662872, 0.22498852128662872, 0.22498852128662872, 0.22498852128662872, 0.22498852128662872, 0.22498852128662872, 0.22498852128662872, 0.22498852128662872, 0.22498852128662872, 0.22498852128662872, 0.22498852128662872, 0.22498852128662872, 0.22498852128662872, 0.22498852128662872, 0.22498852128662872, 0.22498852128662872, 0.22498852128662872, 0.22498852128662872, 0.22498852128662872, 0.22498852128662872, 0.22498852128662872, 0.22498852128662872, 0.22498852128662872, 0.22498852128662872, 0.22498852128662872, 0.22498852128662872, 0.22498852128662872, 0.22498852128662872, 0.22498852128662872, 0.22498852128662872, 0.22498852128662872, 0.22498852128662872, 0.22498852128662872, 0.22498852128662872, 0.22498852128662872, 0.22498852128662872, 0.22498852128662872, 0.22498852128662872, 0.22498852128662872, 0.22498852128662872, 0.22498852128662872, 0.22498852128662872, 0.22498852128662872, 0.22498852128662872, 0.22498852128662872, 0.22498852128662872, 0.22498852128662872, 0.22498852128662872, 0.22498852128662872, 0.22498852128662872, 0.22498852128662872, 0.22498852128662872, 0.22498852128662872, 0.22498852128662872, 0.22498852128662872, 0.22498852128662872, 0.22498852128662872, 0.22498852128662872, 0.22498852128662872, 0.22498852128662872, 0.22498852128662872, 0.22498852128662872, 0.22498852128662872, 0.22498852128662872, 0.22498852128662872, 0.22498852128662872, 0.22498852128662872, 0.22498852128662872, 0.22498852128662872, 0.22498852128662872, 0.22498852128662872, 0.22498852128662872, 0.22498852128662872, 0.22498852128662872, 0.22498852128662872, 0.22498852128662872, 0.22498852128662872, 0.22498852128662872, 0.22498852128662872, 0.22498852128662872, 0.22498852128662872, 0.22498852128662872, 0.22498852128662872, 0.22498852128662872, 0.22498852128662872, 0.22498852128662872, 0.22498852128662872, 0.22498852128662872, 0.22498852128662872, 0.22498852128662872, 0.22498852128662872, 0.22498852128662872, 0.22498852128662872, 0.22498852128662872, 0.22498852128662872, 0.22498852128662872, 0.22498852128662872, 0.22498852128662872, 0.22498852128662872, 0.22498852128662872, 0.22498852128662872, 0.22498852128662872, 0.22498852128662872, 0.22498852128662872, 0.22498852128662872, 0.22498852128662872, 0.22498852128662872, 0.22498852128662872, 0.22498852128662872, 0.22498852128662872, 0.22498852128662872, 0.22498852128662872, 0.22498852128662872, 0.22498852128662872, 0.22498852128662872, 0.22498852128662872, 0.22498852128662872, 0.22498852128662872, 0.22498852128662872, 0.22498852128662872, 0.22498852128662872, 0.22498852128662872, 0.22498852128662872, 0.22498852128662872, 0.22498852128662872, 0.22498852128662872, 0.22498852128662872, 0.22498852128662872, 0.22498852128662872, 0.22498852128662872, 0.22498852128662872, 0.22498852128662872, 0.22498852128662872, 0.22498852128662872, 0.22498852128662872, 0.22498852128662872, 0.22498852128662872, 0.22498852128662872, 0.22498852128662872, 0.22498852128662872, 0.22498852128662872, 0.22498852128662872, 0.22498852128662872, 0.22498852128662872, 0.22498852128662872, 0.22498852128662872, 0.22498852128662872, 0.22498852128662872, 0.22498852128662872, 0.22498852128662872, 0.22498852128662872, 0.22498852128662872, 0.22498852128662872, 0.22498852128662872, 0.22498852128662872, 0.22498852128662872, 0.22498852128662872, 0.22498852128662872, 0.22498852128662872, 0.22498852128662872, 0.22498852128662872, 0.22498852128662872, 0.22498852128662872, 0.22498852128662872, 0.22498852128662872, 0.22498852128662872, 0.22498852128662872, 0.22498852128662872, 0.22498852128662872, 0.22498852128662872, 0.22498852128662872, 0.22498852128662872, 0.22498852128662872, 0.22498852128662872, 0.22498852128662872, 0.22498852128662872, 0.22498852128662872, 0.22498852128662872, 0.22498852128662872, 0.22498852128662872, 0.22498852128662872, 0.22498852128662872, 0.22498852128662872, 0.22498852128662872, 0.22498852128662872, 0.22498852128662872, 0.22498852128662872, 0.22498852128662872, 0.22498852128662872, 0.22498852128662872, 0.22498852128662872, 0.22498852128662872, 0.22498852128662872, 0.22498852128662872, 0.22498852128662872, 0.22498852128662872, 0.22498852128662872, 0.22498852128662872, 0.22498852128662872, 0.22498852128662872, 0.22498852128662872, 0.22498852128662872, 0.22498852128662872, 0.22498852128662872, 0.22498852128662872, 0.22498852128662872, 0.22498852128662872, 0.22498852128662872, 0.22498852128662872, 0.22498852128662872, 0.22498852128662872, 0.22498852128662872, 0.22498852128662872, 0.22498852128662872, 0.22498852128662872, 0.22498852128662872, 0.22498852128662872, 0.22498852128662872, 0.22498852128662872, 0.22498852128662872, 0.22498852128662872, 0.22498852128662872, 0.22498852128662872, 0.22498852128662872, 0.22498852128662872, 0.22498852128662872, 0.22498852128662872, 0.22498852128662872, 0.22498852128662872, 0.22498852128662872, 0.22498852128662872, 0.22498852128662872, 0.22498852128662872, 0.22498852128662872, 0.22498852128662872, 0.22498852128662872, 0.22498852128662872, 0.22498852128662872, 0.22498852128662872, 0.22498852128662872, 0.22498852128662872, 0.22498852128662872, 0.22498852128662872, 0.22498852128662872, 0.22498852128662872, 0.22498852128662872, 0.22498852128662872, 0.22498852128662872, 0.22498852128662872, 0.22498852128662872, 0.22498852128662872, 0.22498852128662872, 0.22498852128662872, 0.22498852128662872, 0.22498852128662872, 0.22498852128662872, 0.22498852128662872, 0.22498852128662872, 0.22498852128662872, 0.22498852128662872, 0.22498852128662872, 0.22498852128662872, 0.22498852128662872, 0.22498852128662872, 0.22498852128662872, 0.22498852128662872, 0.22498852128662872, 0.22498852128662872, 0.22498852128662872, 0.22498852128662872, 0.22498852128662872, 0.22498852128662872, 0.22498852128662872, 0.22498852128662872, 0.22498852128662872, 0.22498852128662872, 0.22498852128662872, 0.22498852128662872, 0.22498852128662872, 0.22498852128662872, 0.22498852128662872, 0.22498852128662872, 0.22498852128662872, 0.22498852128662872, 0.22498852128662872, 0.22498852128662872, 0.22498852128662872, 0.22498852128662872, 0.22498852128662872, 0.22498852128662872, 0.22498852128662872, 0.22498852128662872, 0.22498852128662872, 0.22498852128662872, 0.22498852128662872, 0.22498852128662872, 0.22498852128662872, 0.22498852128662872, 0.22498852128662872, 0.22498852128662872, 0.22498852128662872, 0.22498852128662872, 0.22498852128662872, 0.22498852128662872, 0.22498852128662872, 0.22498852128662872, 0.22498852128662872, 0.22498852128662872, 0.22498852128662872, 0.22498852128662872, 0.22498852128662872, 0.22498852128662872, 0.22498852128662872, 0.22498852128662872, 0.22498852128662872, 0.22498852128662872, 0.22498852128662872, 0.22498852128662872, 0.22498852128662872, 0.22498852128662872, 0.22498852128662872, 0.22498852128662872, 0.22498852128662872, 0.22498852128662872, 0.22498852128662872, 0.22498852128662872, 0.22498852128662872, 0.22498852128662872, 0.22498852128662872, 0.22498852128662872, 0.22498852128662872, 0.22498852128662872, 0.22498852128662872, 0.22498852128662872, 0.22498852128662872, 0.22498852128662872, 0.22498852128662872, 0.22498852128662872, 0.22498852128662872, 0.22498852128662872, 0.22498852128662872, 0.22498852128662872, 0.22498852128662872, 0.22498852128662872, 0.22498852128662872, 0.22498852128662872, 0.22498852128662872, 0.22498852128662872, 0.22498852128662872, 0.22498852128662872, 0.22498852128662872, 0.22498852128662872, 0.22498852128662872, 0.22498852128662872, 0.22498852128662872, 0.22498852128662872, 0.22498852128662872, 0.22498852128662872, 0.22498852128662872, 0.22498852128662872, 0.22498852128662872, 0.22498852128662872, 0.22498852128662872, 0.22498852128662872, 0.22498852128662872, 0.22498852128662872, 0.22498852128662872, 0.22498852128662872, 0.22498852128662872, 0.22498852128662872, 0.22498852128662872, 0.22498852128662872, 0.22498852128662872, 0.22498852128662872, 0.22498852128662872, 0.22498852128662872, 0.22498852128662872, 0.22498852128662872, 0.22498852128662872, 0.22498852128662872, 0.22498852128662872, 0.22498852128662872, 0.22498852128662872, 0.22498852128662872, 0.22498852128662872, 0.22498852128662872, 0.22498852128662872, 0.22498852128662872, 0.22498852128662872, 0.22498852128662872, 0.22498852128662872, 0.22498852128662872, 0.22498852128662872, 0.22498852128662872, 0.22498852128662872, 0.22498852128662872, 0.22498852128662872, 0.22498852128662872, 0.22498852128662872, 0.22498852128662872, 0.22498852128662872, 0.22498852128662872, 0.22498852128662872, 0.22498852128662872, 0.22498852128662872, 0.22498852128662872, 0.22498852128662872, 0.22498852128662872, 0.22498852128662872, 0.22498852128662872, 0.22498852128662872, 0.22498852128662872, 0.22498852128662872, 0.22498852128662872, 0.22498852128662872, 0.22498852128662872, 0.22498852128662872, 0.22498852128662872, 0.22498852128662872, 0.22498852128662872, 0.22498852128662872, 0.22498852128662872, 0.22498852128662872, 0.22498852128662872, 0.22498852128662872, 0.22498852128662872, 0.22498852128662872, 0.22498852128662872, 0.22498852128662872, 0.22498852128662872, 0.22498852128662872, 0.22498852128662872, 0.22498852128662872, 0.22498852128662872, 0.22498852128662872, 0.22498852128662872, 0.22498852128662872, 0.22498852128662872, 0.22498852128662872, 0.22498852128662872, 0.22498852128662872, 0.22498852128662872, 0.22498852128662872, 0.22498852128662872, 0.22498852128662872, 0.22498852128662872, 0.22498852128662872, 0.22498852128662872, 0.22498852128662872, 0.22498852128662872, 0.22498852128662872, 0.22498852128662872, 0.22498852128662872, 0.22498852128662872, 0.22498852128662872, 0.22498852128662872, 0.22498852128662872, 0.22498852128662872, 0.22498852128662872, 0.22498852128662872, 0.22498852128662872, 0.22498852128662872, 0.22498852128662872, 0.22498852128662872, 0.22498852128662872, 0.22498852128662872, 0.22498852128662872, 0.22498852128662872, 0.22498852128662872, 0.22498852128662872, 0.22498852128662872, 0.22498852128662872, 0.22498852128662872, 0.22498852128662872, 0.22498852128662872, 0.22498852128662872, 0.22498852128662872, 0.22498852128662872, 0.22498852128662872, 0.22498852128662872, 0.22498852128662872, 0.22498852128662872, 0.22498852128662872, 0.22498852128662872, 0.22498852128662872, 0.22498852128662872, 0.22498852128662872, 0.22498852128662872, 0.22498852128662872, 0.22498852128662872, 0.22498852128662872, 0.22498852128662872, 0.22498852128662872, 0.22498852128662872, 0.22498852128662872, 0.22498852128662872, 0.22498852128662872, 0.22498852128662872, 0.22498852128662872, 0.22498852128662872, 0.22498852128662872, 0.22498852128662872, 0.22498852128662872, 0.22498852128662872, 0.22498852128662872, 0.22498852128662872, 0.22498852128662872, 0.22498852128662872, 0.22498852128662872, 0.22498852128662872, 0.22498852128662872, 0.22498852128662872, 0.22498852128662872, 0.22498852128662872, 0.22498852128662872, 0.22498852128662872, 0.22498852128662872, 0.22498852128662872, 0.22498852128662872, 0.22498852128662872, 0.22498852128662872, 0.22498852128662872, 0.22498852128662872, 0.22498852128662872, 0.22498852128662872, 0.22498852128662872, 0.22498852128662872, 0.22498852128662872, 0.22498852128662872, 0.22498852128662872, 0.22498852128662872, 0.22498852128662872, 0.22498852128662872, 0.22498852128662872, 0.22498852128662872, 0.22498852128662872, 0.22498852128662872, 0.22498852128662872, 0.22498852128662872, 0.22498852128662872, 0.22498852128662872, 0.22498852128662872, 0.22498852128662872, 0.22498852128662872, 0.22498852128662872, 0.22498852128662872, 0.22498852128662872, 0.22498852128662872, 0.22498852128662872, 0.22498852128662872, 0.22498852128662872, 0.22498852128662872, 0.22498852128662872, 0.22498852128662872, 0.22498852128662872, 0.22498852128662872, 0.22498852128662872, 0.22498852128662872, 0.22498852128662872, 0.22498852128662872, 0.22498852128662872, 0.22498852128662872, 0.22498852128662872, 0.22498852128662872, 0.22498852128662872, 0.22498852128662872, 0.22498852128662872, 0.22498852128662872, 0.22498852128662872, 0.22498852128662872, 0.22498852128662872, 0.22498852128662872, 0.22498852128662872, 0.22498852128662872, 0.22498852128662872, 0.22498852128662872, 0.22498852128662872, 0.22498852128662872, 0.22498852128662872, 0.22498852128662872, 0.22498852128662872, 0.22498852128662872, 0.22498852128662872, 0.22498852128662872, 0.22498852128662872, 0.22498852128662872, 0.22498852128662872, 0.22498852128662872, 0.22498852128662872, 0.22498852128662872, 0.22498852128662872, 0.22498852128662872, 0.22498852128662872, 0.22498852128662872, 0.22498852128662872, 0.22498852128662872, 0.22498852128662872, 0.22498852128662872, 0.22498852128662872, 0.22498852128662872, 0.22498852128662872, 0.22498852128662872, 0.22498852128662872, 0.22498852128662872, 0.22498852128662872, 0.22498852128662872, 0.22498852128662872, 0.22498852128662872, 0.22498852128662872, 0.22498852128662872, 0.22498852128662872, 0.22498852128662872, 0.22498852128662872, 0.22498852128662872, 0.22498852128662872, 0.22498852128662872, 0.22498852128662872, 0.22498852128662872, 0.22498852128662872, 0.22498852128662872, 0.22498852128662872, 0.22498852128662872, 0.22498852128662872, 0.22498852128662872, 0.22498852128662872, 0.22498852128662872, 0.22498852128662872, 0.22498852128662872, 0.22498852128662872, 0.22498852128662872, 0.22498852128662872, 0.22498852128662872, 0.22498852128662872, 0.22498852128662872, 0.22498852128662872, 0.22498852128662872, 0.22498852128662872, 0.22498852128662872, 0.22498852128662872, 0.22498852128662872, 0.22498852128662872, 0.22498852128662872, 0.22498852128662872, 0.22498852128662872, 0.22498852128662872, 0.22498852128662872, 0.22498852128662872, 0.22498852128662872, 0.22498852128662872, 0.22498852128662872, 0.22498852128662872, 0.22498852128662872, 0.22498852128662872, 0.22498852128662872, 0.22498852128662872, 0.22498852128662872, 0.22498852128662872, 0.22498852128662872, 0.22498852128662872, 0.22498852128662872, 0.22498852128662872, 0.22498852128662872, 0.22498852128662872, 0.22498852128662872, 0.22498852128662872, 0.22498852128662872, 0.22498852128662872, 0.22498852128662872, 0.22498852128662872, 0.22498852128662872, 0.22498852128662872, 0.22498852128662872, 0.22498852128662872, 0.22498852128662872, 0.22498852128662872, 0.22498852128662872, 0.22498852128662872, 0.22498852128662872, 0.22498852128662872, 0.22498852128662872, 0.22498852128662872, 0.22498852128662872, 0.22498852128662872, 0.22498852128662872, 0.22498852128662872, 0.22498852128662872, 0.22498852128662872, 0.22498852128662872, 0.22498852128662872, 0.22498852128662872, 0.22498852128662872, 0.22498852128662872, 0.22498852128662872, 0.22498852128662872, 0.22498852128662872, 0.22498852128662872, 0.22498852128662872, 0.22498852128662872, 0.22498852128662872, 0.22498852128662872, 0.22498852128662872, 0.22498852128662872, 0.22498852128662872, 0.22498852128662872, 0.22498852128662872, 0.22498852128662872, 0.22498852128662872, 0.22498852128662872, 0.22498852128662872, 0.22498852128662872, 0.22498852128662872, 0.22498852128662872, 0.22498852128662872, 0.22498852128662872, 0.22498852128662872, 0.22498852128662872, 0.22498852128662872, 0.22498852128662872, 0.22498852128662872, 0.22498852128662872, 0.22498852128662872, 0.22498852128662872, 0.22498852128662872, 0.22498852128662872, 0.22498852128662872, 0.22498852128662872, 0.22498852128662872, 0.22498852128662872, 0.22498852128662872, 0.22498852128662872, 0.22498852128662872, 0.22498852128662872, 0.22498852128662872, 0.22498852128662872, 0.22498852128662872, 0.22498852128662872, 0.22498852128662872, 0.22498852128662872, 0.22498852128662872, 0.22498852128662872, 0.22498852128662872, 0.22498852128662872, 0.22498852128662872, 0.22498852128662872, 0.22498852128662872, 0.22498852128662872, 0.22498852128662872, 0.22498852128662872, 0.22498852128662872, 0.22498852128662872, 0.22498852128662872, 0.22498852128662872, 0.22498852128662872, 0.22498852128662872, 0.22498852128662872, 0.22498852128662872, 0.22498852128662872, 0.22498852128662872, 0.22498852128662872, 0.22498852128662872, 0.22498852128662872, 0.22498852128662872, 0.22498852128662872, 0.22498852128662872, 0.22498852128662872, 0.22498852128662872, 0.22498852128662872, 0.22498852128662872, 0.22498852128662872, 0.22498852128662872, 0.22498852128662872, 0.22498852128662872, 0.22498852128662872, 0.22498852128662872, 0.22498852128662872, 0.22498852128662872, 0.22498852128662872, 0.22498852128662872, 0.22498852128662872, 0.22498852128662872, 0.22498852128662872, 0.22498852128662872, 0.22498852128662872, 0.22498852128662872, 0.22498852128662872, 0.22498852128662872, 0.22498852128662872, 0.22498852128662872, 0.22498852128662872, 0.22498852128662872, 0.22498852128662872, 0.22498852128662872, 0.22498852128662872, 0.22498852128662872, 0.22498852128662872, 0.22498852128662872, 0.22498852128662872, 0.22498852128662872, 0.22498852128662872, 0.22498852128662872, 0.22498852128662872, 0.22498852128662872, 0.22498852128662872, 0.22498852128662872, 0.22498852128662872, 0.22498852128662872, 0.22498852128662872, 0.22498852128662872, 0.22498852128662872, 0.22498852128662872, 0.22498852128662872, 0.22498852128662872, 0.22498852128662872, 0.22498852128662872, 0.22498852128662872, 0.22498852128662872, 0.22498852128662872, 0.22498852128662872, 0.22498852128662872, 0.22498852128662872, 0.22498852128662872, 0.22498852128662872, 0.22498852128662872, 0.22498852128662872, 0.22498852128662872, 0.22498852128662872, 0.22498852128662872, 0.22498852128662872, 0.22498852128662872, 0.22498852128662872, 0.22498852128662872, 0.22498852128662872, 0.22498852128662872, 0.22498852128662872, 0.22498852128662872, 0.22498852128662872, 0.22498852128662872, 0.22498852128662872, 0.22498852128662872, 0.22498852128662872, 0.22498852128662872, 0.22498852128662872, 0.22498852128662872, 0.22498852128662872, 0.22498852128662872, 0.22498852128662872, 0.22498852128662872, 0.22498852128662872, 0.22498852128662872, 0.22498852128662872, 0.22498852128662872, 0.22498852128662872, 0.22498852128662872, 0.22498852128662872, 0.22498852128662872, 0.22498852128662872, 0.22498852128662872, 0.22498852128662872, 0.22498852128662872, 0.22498852128662872, 0.22498852128662872, 0.22498852128662872, 0.22498852128662872, 0.22498852128662872, 0.22498852128662872, 0.22498852128662872, 0.22498852128662872, 0.22498852128662872, 0.22498852128662872, 0.22498852128662872, 0.22498852128662872, 0.22498852128662872, 0.22498852128662872, 0.22498852128662872, 0.22498852128662872, 0.22498852128662872, 0.22498852128662872, 0.22498852128662872, 0.22498852128662872, 0.22498852128662872, 0.22498852128662872, 0.22498852128662872, 0.22498852128662872, 0.22498852128662872, 0.22498852128662872, 0.22498852128662872, 0.22498852128662872, 0.22498852128662872, 0.22498852128662872, 0.22498852128662872, 0.22498852128662872, 0.22498852128662872, 0.22498852128662872, 0.22498852128662872, 0.22498852128662872, 0.22498852128662872, 0.22498852128662872, 0.22498852128662872, 0.22498852128662872, 0.22498852128662872, 0.22498852128662872, 0.22498852128662872, 0.22498852128662872, 0.22498852128662872, 0.22498852128662872, 0.22498852128662872, 0.22498852128662872, 0.22498852128662872, 0.22498852128662872, 0.22498852128662872, 0.22498852128662872, 0.22498852128662872, 0.22498852128662872, 0.22498852128662872, 0.22498852128662872, 0.22498852128662872, 0.22498852128662872, 0.22498852128662872, 0.22498852128662872, 0.22498852128662872, 0.22498852128662872, 0.22498852128662872, 0.22498852128662872, 0.22498852128662872, 0.22498852128662872, 0.22498852128662872, 0.22498852128662872, 0.22498852128662872, 0.22498852128662872, 0.22498852128662872, 0.22498852128662872, 0.22498852128662872, 0.22498852128662872, 0.22498852128662872, 0.22498852128662872, 0.22498852128662872, 0.22498852128662872, 0.22498852128662872, 0.22498852128662872, 0.22498852128662872, 0.22498852128662872, 0.22498852128662872, 0.22498852128662872, 0.22498852128662872, 0.22498852128662872, 0.22498852128662872, 0.22498852128662872, 0.22498852128662872, 0.22498852128662872, 0.22498852128662872, 0.22498852128662872, 0.22498852128662872, 0.22498852128662872, 0.22498852128662872, 0.22498852128662872, 0.22498852128662872, 0.22498852128662872, 0.22498852128662872, 0.22498852128662872, 0.22498852128662872, 0.22498852128662872, 0.22498852128662872, 0.22498852128662872, 0.22498852128662872, 0.22498852128662872, 0.22498852128662872, 0.22498852128662872, 0.22498852128662872, 0.22498852128662872, 0.22498852128662872, 0.22498852128662872, 0.22498852128662872, 0.22498852128662872, 0.22498852128662872, 0.22498852128662872, 0.22498852128662872, 0.22498852128662872, 0.22498852128662872, 0.22498852128662872, 0.22498852128662872, 0.22498852128662872, 0.22498852128662872, 0.22498852128662872, 0.22498852128662872, 0.22498852128662872, 0.22498852128662872, 0.22498852128662872, 0.22498852128662872, 0.22498852128662872, 0.22498852128662872, 0.22498852128662872, 0.22498852128662872, 0.22498852128662872, 0.22498852128662872, 0.22498852128662872, 0.22498852128662872, 0.22498852128662872, 0.22498852128662872, 0.22498852128662872, 0.22498852128662872, 0.22498852128662872, 0.22498852128662872, 0.22498852128662872, 0.22498852128662872, 0.22498852128662872, 0.22498852128662872, 0.22498852128662872, 0.22498852128662872, 0.22498852128662872, 0.22498852128662872, 0.22498852128662872, 0.22498852128662872, 0.22498852128662872, 0.22498852128662872, 0.22498852128662872, 0.22498852128662872, 0.22498852128662872, 0.22498852128662872, 0.22498852128662872, 0.22498852128662872, 0.22498852128662872, 0.22498852128662872, 0.22498852128662872, 0.22498852128662872, 0.22498852128662872, 0.22498852128662872, 0.22498852128662872, 0.22498852128662872, 0.22498852128662872, 0.22498852128662872, 0.22498852128662872, 0.22498852128662872, 0.22498852128662872, 0.22498852128662872, 0.22498852128662872, 0.22498852128662872, 0.22498852128662872, 0.22498852128662872, 0.22498852128662872, 0.22498852128662872, 0.22498852128662872, 0.22498852128662872, 0.22498852128662872, 0.22498852128662872, 0.22498852128662872, 0.22498852128662872, 0.22498852128662872, 0.22498852128662872, 0.22498852128662872, 0.22498852128662872, 0.22498852128662872, 0.22498852128662872, 0.22498852128662872, 0.22498852128662872, 0.22498852128662872, 0.22498852128662872, 0.22498852128662872, 0.22498852128662872, 0.22498852128662872, 0.22498852128662872, 0.22498852128662872, 0.22498852128662872, 0.22498852128662872, 0.22498852128662872, 0.22498852128662872, 0.22498852128662872, 0.22498852128662872, 0.22498852128662872, 0.22498852128662872, 0.22498852128662872, 0.22498852128662872, 0.22498852128662872, 0.22498852128662872, 0.22498852128662872, 0.22498852128662872, 0.22498852128662872, 0.22498852128662872, 0.22498852128662872, 0.22498852128662872, 0.22498852128662872, 0.22498852128662872, 0.22498852128662872, 0.22498852128662872, 0.22498852128662872, 0.22498852128662872, 0.22498852128662872, 0.22498852128662872, 0.22498852128662872, 0.22498852128662872, 0.22498852128662872, 0.22498852128662872, 0.22498852128662872, 0.22498852128662872, 0.22498852128662872, 0.22498852128662872, 0.22498852128662872, 0.22498852128662872, 0.22498852128662872, 0.22498852128662872, 0.22498852128662872, 0.22498852128662872, 0.22498852128662872, 0.22498852128662872, 0.22498852128662872, 0.22498852128662872, 0.22498852128662872, 0.22498852128662872, 0.22498852128662872, 0.22498852128662872, 0.22498852128662872, 0.22498852128662872, 0.22498852128662872, 0.22498852128662872, 0.22498852128662872, 0.22498852128662872, 0.22498852128662872, 0.22498852128662872, 0.22498852128662872, 0.22498852128662872, 0.22498852128662872, 0.22498852128662872, 0.22498852128662872, 0.22498852128662872, 0.22498852128662872, 0.22498852128662872, 0.22498852128662872, 0.22498852128662872, 0.22498852128662872, 0.22498852128662872, 0.22498852128662872, 0.22498852128662872, 0.22498852128662872, 0.22498852128662872, 0.22498852128662872, 0.22498852128662872, 0.22498852128662872, 0.22498852128662872, 0.22498852128662872, 0.22498852128662872, 0.22498852128662872, 0.22498852128662872, 0.22498852128662872, 0.22498852128662872, 0.22498852128662872, 0.22498852128662872, 0.22498852128662872, 0.22498852128662872, 0.22498852128662872, 0.22498852128662872, 0.22498852128662872, 0.22498852128662872, 0.22498852128662872, 0.22498852128662872, 0.22498852128662872, 0.22498852128662872, 0.22498852128662872, 0.22498852128662872, 0.22498852128662872, 0.22498852128662872, 0.22498852128662872, 0.22498852128662872, 0.22498852128662872, 0.22498852128662872, 0.22498852128662872, 0.22498852128662872, 0.22498852128662872, 0.22498852128662872, 0.22498852128662872, 0.22498852128662872, 0.22498852128662872, 0.22498852128662872, 0.22498852128662872, 0.22498852128662872, 0.22498852128662872, 0.22498852128662872, 0.22498852128662872, 0.22498852128662872, 0.22498852128662872, 0.22498852128662872, 0.22498852128662872, 0.22498852128662872, 0.22498852128662872, 0.22498852128662872, 0.22498852128662872, 0.22498852128662872, 0.22498852128662872, 0.22498852128662872, 0.22498852128662872, 0.22498852128662872, 0.22498852128662872, 0.22498852128662872, 0.22498852128662872, 0.22498852128662872, 0.22498852128662872, 0.22498852128662872, 0.22498852128662872, 0.22498852128662872, 0.22498852128662872, 0.22498852128662872, 0.22498852128662872, 0.22498852128662872, 0.22498852128662872, 0.22498852128662872, 0.22498852128662872, 0.22498852128662872, 0.22498852128662872, 0.22498852128662872, 0.22498852128662872, 0.22498852128662872, 0.22498852128662872, 0.22498852128662872, 0.22498852128662872, 0.22498852128662872, 0.22498852128662872, 0.22498852128662872, 0.22498852128662872, 0.22498852128662872, 0.22498852128662872, 0.22498852128662872, 0.22498852128662872, 0.22498852128662872, 0.22498852128662872, 0.22498852128662872, 0.22498852128662872, 0.22498852128662872, 0.22498852128662872, 0.22498852128662872, 0.22498852128662872, 0.22498852128662872, 0.22498852128662872, 0.22498852128662872, 0.22498852128662872, 0.22498852128662872, 0.22498852128662872, 0.22498852128662872, 0.22498852128662872, 0.22498852128662872, 0.22498852128662872, 0.22498852128662872, 0.22498852128662872, 0.22498852128662872, 0.22498852128662872, 0.22498852128662872, 0.22498852128662872, 0.22498852128662872, 0.22498852128662872, 0.22498852128662872, 0.22498852128662872, 0.22498852128662872, 0.22498852128662872, 0.22498852128662872, 0.22498852128662872, 0.22498852128662872, 0.22498852128662872, 0.22498852128662872, 0.22498852128662872, 0.22498852128662872, 0.22498852128662872, 0.22498852128662872, 0.22498852128662872, 0.22498852128662872, 0.22498852128662872, 0.22498852128662872, 0.22498852128662872, 0.22498852128662872, 0.22498852128662872, 0.22498852128662872, 0.22498852128662872, 0.22498852128662872, 0.22498852128662872, 0.22498852128662872, 0.22498852128662872, 0.22498852128662872, 0.22498852128662872, 0.22498852128662872, 0.22498852128662872, 0.22498852128662872, 0.22498852128662872, 0.22498852128662872, 0.22498852128662872, 0.22498852128662872, 0.22498852128662872, 0.22498852128662872, 0.22498852128662872, 0.22498852128662872, 0.22498852128662872, 0.22498852128662872, 0.22498852128662872, 0.22498852128662872, 0.22498852128662872, 0.22498852128662872, 0.22498852128662872, 0.22498852128662872, 0.22498852128662872, 0.22498852128662872, 0.22498852128662872, 0.22498852128662872, 0.22498852128662872, 0.22498852128662872, 0.22498852128662872, 0.22498852128662872, 0.22498852128662872, 0.22498852128662872, 0.22498852128662872, 0.22498852128662872, 0.22498852128662872, 0.22498852128662872, 0.22498852128662872, 0.22498852128662872, 0.22498852128662872, 0.22498852128662872, 0.22498852128662872, 0.22498852128662872, 0.22498852128662872, 0.22498852128662872, 0.22498852128662872, 0.22498852128662872, 0.22498852128662872, 0.22498852128662872, 0.22498852128662872, 0.22498852128662872, 0.22498852128662872, 0.22498852128662872, 0.22498852128662872, 0.22498852128662872, 0.22498852128662872, 0.22498852128662872, 0.22498852128662872, 0.22498852128662872, 0.22498852128662872, 0.22498852128662872, 0.22498852128662872, 0.22498852128662872, 0.22498852128662872, 0.22498852128662872, 0.22498852128662872, 0.22498852128662872, 0.22498852128662872, 0.22498852128662872, 0.22498852128662872, 0.22498852128662872, 0.22498852128662872, 0.22498852128662872, 0.22498852128662872, 0.22498852128662872, 0.22498852128662872, 0.22498852128662872, 0.22498852128662872, 0.22498852128662872, 0.22498852128662872, 0.22498852128662872, 0.22498852128662872, 0.22498852128662872, 0.22498852128662872, 0.22498852128662872, 0.22498852128662872, 0.22498852128662872, 0.22498852128662872, 0.22498852128662872, 0.22498852128662872, 0.22498852128662872, 0.22498852128662872, 0.22498852128662872, 0.22498852128662872, 0.22498852128662872, 0.22498852128662872, 0.22498852128662872, 0.22498852128662872, 0.22498852128662872, 0.22498852128662872, 0.22498852128662872, 0.22498852128662872, 0.22498852128662872, 0.22498852128662872, 0.22498852128662872, 0.22498852128662872, 0.22498852128662872, 0.22498852128662872, 0.22498852128662872, 0.22498852128662872, 0.22498852128662872, 0.22498852128662872, 0.22498852128662872, 0.22498852128662872, 0.22498852128662872, 0.22498852128662872, 0.22498852128662872, 0.22498852128662872, 0.22498852128662872, 0.22498852128662872, 0.22498852128662872, 0.22498852128662872, 0.22498852128662872, 0.22498852128662872, 0.22498852128662872, 0.22498852128662872, 0.22498852128662872, 0.22498852128662872, 0.22498852128662872, 0.22498852128662872, 0.22498852128662872, 0.22498852128662872, 0.22498852128662872, 0.22498852128662872, 0.22498852128662872, 0.22498852128662872, 0.22498852128662872, 0.22498852128662872, 0.22498852128662872, 0.22498852128662872, 0.22498852128662872, 0.22498852128662872, 0.22498852128662872, 0.22498852128662872, 0.22498852128662872, 0.22498852128662872, 0.22498852128662872, 0.22498852128662872, 0.22498852128662872, 0.22498852128662872, 0.22498852128662872, 0.22498852128662872, 0.22498852128662872, 0.22498852128662872, 0.22498852128662872, 0.22498852128662872, 0.22498852128662872, 0.22498852128662872, 0.22498852128662872, 0.22498852128662872, 0.22498852128662872, 0.22498852128662872, 0.22498852128662872, 0.22498852128662872, 0.22498852128662872, 0.22498852128662872, 0.22498852128662872, 0.22498852128662872, 0.22498852128662872, 0.22498852128662872, 0.22498852128662872, 0.22498852128662872, 0.22498852128662872, 0.22498852128662872, 0.22498852128662872, 0.22498852128662872, 0.22498852128662872, 0.22498852128662872, 0.22498852128662872, 0.22498852128662872, 0.22498852128662872, 0.22498852128662872, 0.22498852128662872, 0.22498852128662872, 0.22498852128662872, 0.22498852128662872, 0.22498852128662872, 0.22498852128662872, 0.22498852128662872, 0.22498852128662872, 0.22498852128662872, 0.22498852128662872, 0.22498852128662872, 0.22498852128662872, 0.22498852128662872, 0.22498852128662872, 0.22498852128662872, 0.22498852128662872, 0.22498852128662872, 0.22498852128662872, 0.22498852128662872, 0.22498852128662872, 0.22498852128662872, 0.22498852128662872, 0.22498852128662872, 0.22498852128662872, 0.22498852128662872, 0.22498852128662872, 0.22498852128662872, 0.22498852128662872, 0.22498852128662872, 0.22498852128662872, 0.22498852128662872, 0.22498852128662872, 0.22498852128662872, 0.22498852128662872, 0.22498852128662872, 0.22498852128662872, 0.22498852128662872, 0.22498852128662872, 0.22498852128662872, 0.22498852128662872, 0.22498852128662872, 0.22498852128662872, 0.22498852128662872, 0.22498852128662872, 0.22498852128662872, 0.22498852128662872, 0.22498852128662872, 0.22498852128662872, 0.22498852128662872, 0.22498852128662872, 0.22498852128662872, 0.22498852128662872, 0.22498852128662872, 0.22498852128662872, 0.22498852128662872, 0.22498852128662872, 0.22498852128662872, 0.22498852128662872, 0.22498852128662872, 0.22498852128662872, 0.22498852128662872, 0.22498852128662872, 0.22498852128662872, 0.22498852128662872, 0.22498852128662872, 0.22498852128662872, 0.22498852128662872, 0.22498852128662872, 0.22498852128662872, 0.22498852128662872, 0.22498852128662872, 0.22498852128662872, 0.22498852128662872, 0.22498852128662872, 0.22498852128662872, 0.22498852128662872, 0.22498852128662872, 0.22498852128662872, 0.22498852128662872, 0.22498852128662872, 0.22498852128662872, 0.22498852128662872, 0.22498852128662872, 0.22498852128662872, 0.22498852128662872, 0.22498852128662872, 0.22498852128662872, 0.22498852128662872, 0.22498852128662872, 0.22498852128662872, 0.22498852128662872, 0.22498852128662872, 0.22498852128662872, 0.22498852128662872, 0.22498852128662872, 0.22498852128662872, 0.22498852128662872, 0.22498852128662872, 0.22498852128662872, 0.22498852128662872, 0.22498852128662872, 0.22498852128662872, 0.22498852128662872, 0.22498852128662872, 0.22498852128662872, 0.22498852128662872, 0.22498852128662872, 0.22498852128662872, 0.22498852128662872, 0.22498852128662872, 0.22498852128662872, 0.22498852128662872, 0.22498852128662872, 0.22498852128662872, 0.22498852128662872, 0.22498852128662872, 0.22498852128662872, 0.22498852128662872, 0.22498852128662872, 0.22498852128662872, 0.22498852128662872, 0.22498852128662872, 0.22498852128662872, 0.22498852128662872, 0.22498852128662872, 0.22498852128662872, 0.22498852128662872, 0.22498852128662872, 0.22498852128662872, 0.22498852128662872, 0.22498852128662872, 0.22498852128662872, 0.22498852128662872, 0.22498852128662872, 0.22498852128662872, 0.22498852128662872, 0.22498852128662872, 0.22498852128662872, 0.22498852128662872, 0.22498852128662872, 0.22498852128662872, 0.22498852128662872, 0.22498852128662872, 0.22498852128662872, 0.22498852128662872, 0.22498852128662872, 0.22498852128662872, 0.22498852128662872, 0.22498852128662872, 0.22498852128662872, 0.22498852128662872, 0.22498852128662872, 0.22498852128662872, 0.22498852128662872, 0.22498852128662872, 0.22498852128662872, 0.22498852128662872, 0.22498852128662872, 0.22498852128662872, 0.22498852128662872, 0.22498852128662872, 0.22498852128662872, 0.22498852128662872, 0.22498852128662872, 0.22498852128662872, 0.22498852128662872, 0.22498852128662872, 0.22498852128662872, 0.22498852128662872, 0.22498852128662872, 0.22498852128662872, 0.22498852128662872, 0.22498852128662872, 0.22498852128662872, 0.22498852128662872, 0.22498852128662872, 0.22498852128662872, 0.22498852128662872, 0.22498852128662872, 0.22498852128662872, 0.22498852128662872, 0.22498852128662872, 0.22498852128662872, 0.22498852128662872, 0.22498852128662872, 0.22498852128662872, 0.22498852128662872, 0.22498852128662872, 0.22498852128662872, 0.22498852128662872, 0.22498852128662872, 0.22498852128662872, 0.22498852128662872, 0.22498852128662872, 0.22498852128662872, 0.22498852128662872, 0.22498852128662872, 0.22498852128662872, 0.22498852128662872, 0.22498852128662872, 0.22498852128662872, 0.22498852128662872, 0.22498852128662872, 0.22498852128662872, 0.22498852128662872, 0.22498852128662872, 0.22498852128662872, 0.22498852128662872, 0.22498852128662872, 0.22498852128662872, 0.22498852128662872, 0.22498852128662872, 0.22498852128662872, 0.22498852128662872, 0.22498852128662872, 0.22498852128662872, 0.22498852128662872, 0.22498852128662872, 0.22498852128662872, 0.22498852128662872, 0.22498852128662872, 0.22498852128662872, 0.22498852128662872, 0.22498852128662872, 0.22498852128662872, 0.22498852128662872, 0.22498852128662872, 0.22498852128662872, 0.22498852128662872, 0.22498852128662872, 0.22498852128662872, 0.22498852128662872, 0.22498852128662872, 0.22498852128662872, 0.22498852128662872, 0.22498852128662872, 0.22498852128662872, 0.22498852128662872, 0.22498852128662872, 0.22498852128662872, 0.22498852128662872, 0.22498852128662872, 0.22498852128662872, 0.22498852128662872, 0.22498852128662872, 0.22498852128662872, 0.22498852128662872, 0.22498852128662872, 0.22498852128662872, 0.22498852128662872, 0.22498852128662872, 0.22498852128662872, 0.22498852128662872, 0.22498852128662872, 0.22498852128662872, 0.22498852128662872, 0.22498852128662872, 0.22498852128662872, 0.22498852128662872, 0.22498852128662872, 0.22498852128662872, 0.22498852128662872, 0.22498852128662872, 0.22498852128662872, 0.22498852128662872, 0.22498852128662872, 0.22498852128662872, 0.22498852128662872, 0.22498852128662872, 0.22498852128662872, 0.22498852128662872, 0.22498852128662872, 0.22498852128662872, 0.22498852128662872, 0.22498852128662872, 0.22498852128662872, 0.22498852128662872, 0.22498852128662872, 0.22498852128662872, 0.22498852128662872, 0.22498852128662872, 0.22498852128662872, 0.22498852128662872, 0.22498852128662872, 0.22498852128662872, 0.22498852128662872, 0.22498852128662872, 0.22498852128662872, 0.22498852128662872, 0.22498852128662872, 0.22498852128662872, 0.22498852128662872, 0.22498852128662872, 0.22498852128662872, 0.22498852128662872, 0.22498852128662872, 0.22498852128662872, 0.22498852128662872, 0.22498852128662872, 0.22498852128662872, 0.22498852128662872, 0.22498852128662872, 0.22498852128662872, 0.22498852128662872, 0.22498852128662872, 0.22498852128662872, 0.22498852128662872, 0.22498852128662872, 0.22498852128662872, 0.22498852128662872, 0.22498852128662872, 0.22498852128662872, 0.22498852128662872, 0.22498852128662872, 0.22498852128662872, 0.22498852128662872, 0.22498852128662872, 0.22498852128662872, 0.22498852128662872, 0.22498852128662872, 0.22498852128662872, 0.22498852128662872, 0.22498852128662872, 0.22498852128662872, 0.22498852128662872, 0.22498852128662872, 0.22498852128662872, 0.22498852128662872, 0.22498852128662872, 0.22498852128662872, 0.22498852128662872, 0.22498852128662872, 0.22498852128662872, 0.22498852128662872, 0.22498852128662872, 0.22498852128662872, 0.22498852128662872, 0.22498852128662872, 0.22498852128662872, 0.22498852128662872, 0.22498852128662872, 0.22498852128662872, 0.22498852128662872, 0.22498852128662872, 0.22498852128662872, 0.22498852128662872, 0.22498852128662872, 0.22498852128662872, 0.22498852128662872, 0.22498852128662872, 0.22498852128662872, 0.22498852128662872, 0.22498852128662872, 0.22498852128662872, 0.22498852128662872, 0.22498852128662872, 0.22498852128662872, 0.22498852128662872, 0.22498852128662872, 0.22498852128662872, 0.22498852128662872, 0.22498852128662872, 0.22498852128662872, 0.22498852128662872, 0.22498852128662872, 0.22498852128662872, 0.22498852128662872, 0.22498852128662872, 0.22498852128662872, 0.22498852128662872, 0.22498852128662872, 0.22498852128662872, 0.22498852128662872, 0.22498852128662872, 0.22498852128662872, 0.22498852128662872, 0.22498852128662872, 0.22498852128662872, 0.22498852128662872, 0.22498852128662872, 0.22498852128662872, 0.22498852128662872, 0.22498852128662872, 0.22498852128662872, 0.22498852128662872, 0.22498852128662872, 0.22498852128662872, 0.22498852128662872, 0.22498852128662872, 0.22498852128662872, 0.22498852128662872, 0.22498852128662872, 0.22498852128662872, 0.22498852128662872, 0.22498852128662872, 0.22498852128662872, 0.22498852128662872, 0.22498852128662872, 0.22498852128662872, 0.22498852128662872, 0.22498852128662872, 0.22498852128662872, 0.22498852128662872, 0.22498852128662872, 0.22498852128662872, 0.22498852128662872, 0.22498852128662872, 0.22498852128662872, 0.22498852128662872, 0.22498852128662872, 0.22498852128662872, 0.22498852128662872, 0.22498852128662872, 0.22498852128662872, 0.22498852128662872, 0.22498852128662872, 0.22498852128662872, 0.22498852128662872, 0.22498852128662872, 0.22498852128662872, 0.22498852128662872, 0.22498852128662872, 0.22498852128662872, 0.22498852128662872, 0.22498852128662872, 0.22498852128662872, 0.22498852128662872, 0.22498852128662872, 0.22498852128662872, 0.22498852128662872, 0.22498852128662872, 0.22498852128662872, 0.22498852128662872, 0.22498852128662872, 0.22498852128662872, 0.22498852128662872, 0.22498852128662872, 0.22498852128662872, 0.22498852128662872, 0.22498852128662872, 0.22498852128662872, 0.22498852128662872, 0.22498852128662872, 0.22498852128662872, 0.22498852128662872, 0.22498852128662872, 0.22498852128662872, 0.22498852128662872, 0.22498852128662872, 0.22498852128662872, 0.22498852128662872, 0.22498852128662872, 0.22498852128662872, 0.22498852128662872, 0.22498852128662872, 0.22498852128662872, 0.22498852128662872, 0.22498852128662872, 0.22498852128662872, 0.22498852128662872, 0.22498852128662872, 0.22498852128662872, 0.22498852128662872, 0.22498852128662872, 0.22498852128662872, 0.22498852128662872, 0.22498852128662872, 0.22498852128662872, 0.22498852128662872, 0.22498852128662872, 0.22498852128662872, 0.22498852128662872, 0.22498852128662872, 0.22498852128662872, 0.22498852128662872, 0.22498852128662872, 0.22498852128662872, 0.22498852128662872, 0.22498852128662872, 0.22498852128662872, 0.22498852128662872, 0.22498852128662872, 0.22498852128662872, 0.22498852128662872, 0.22498852128662872, 0.22498852128662872, 0.22498852128662872, 0.22498852128662872, 0.22498852128662872, 0.22498852128662872, 0.22498852128662872, 0.22498852128662872, 0.22498852128662872, 0.22498852128662872, 0.22498852128662872, 0.22498852128662872, 0.22498852128662872, 0.22498852128662872, 0.22498852128662872, 0.22498852128662872, 0.22498852128662872, 0.22498852128662872, 0.22498852128662872, 0.22498852128662872, 0.22498852128662872, 0.22498852128662872, 0.22498852128662872, 0.22498852128662872, 0.22498852128662872, 0.22498852128662872, 0.22498852128662872, 0.22498852128662872, 0.22498852128662872, 0.22498852128662872, 0.22498852128662872, 0.22498852128662872, 0.22498852128662872, 0.22498852128662872, 0.22498852128662872, 0.22498852128662872, 0.22498852128662872, 0.22498852128662872, 0.22498852128662872, 0.22498852128662872, 0.22498852128662872, 0.22498852128662872, 0.22498852128662872, 0.22498852128662872, 0.22498852128662872, 0.22498852128662872, 0.22498852128662872, 0.22498852128662872, 0.22498852128662872, 0.22498852128662872, 0.22498852128662872, 0.22498852128662872, 0.22498852128662872, 0.22498852128662872, 0.22498852128662872, 0.22498852128662872, 0.22498852128662872, 0.22498852128662872, 0.22498852128662872, 0.22498852128662872, 0.22498852128662872, 0.22498852128662872, 0.22498852128662872, 0.22498852128662872, 0.22498852128662872, 0.22498852128662872, 0.22498852128662872, 0.22498852128662872, 0.22498852128662872, 0.22498852128662872, 0.22498852128662872, 0.22498852128662872, 0.22498852128662872, 0.22498852128662872, 0.22498852128662872, 0.22498852128662872, 0.22498852128662872, 0.22498852128662872, 0.22498852128662872, 0.22498852128662872, 0.22498852128662872, 0.22498852128662872, 0.22498852128662872, 0.22498852128662872, 0.22498852128662872, 0.22498852128662872, 0.22498852128662872, 0.22498852128662872, 0.22498852128662872, 0.22498852128662872, 0.22498852128662872, 0.22498852128662872, 0.22498852128662872, 0.22498852128662872, 0.22498852128662872, 0.22498852128662872, 0.22498852128662872, 0.22498852128662872, 0.22498852128662872, 0.22498852128662872, 0.22498852128662872, 0.22498852128662872, 0.22498852128662872, 0.22498852128662872, 0.22498852128662872, 0.22498852128662872, 0.22498852128662872, 0.22498852128662872, 0.22498852128662872, 0.22498852128662872, 0.22498852128662872, 0.22498852128662872, 0.22498852128662872, 0.22498852128662872, 0.22498852128662872, 0.22498852128662872, 0.22498852128662872, 0.22498852128662872, 0.22498852128662872, 0.22498852128662872, 0.22498852128662872, 0.22498852128662872, 0.22498852128662872, 0.22498852128662872, 0.22498852128662872, 0.22498852128662872, 0.22498852128662872, 0.22498852128662872, 0.22498852128662872, 0.22498852128662872, 0.22498852128662872, 0.22498852128662872, 0.22498852128662872, 0.22498852128662872, 0.22498852128662872, 0.22498852128662872, 0.22498852128662872, 0.22498852128662872, 0.22498852128662872, 0.22498852128662872, 0.22498852128662872, 0.22498852128662872, 0.22498852128662872, 0.22498852128662872, 0.22498852128662872, 0.22498852128662872, 0.22498852128662872, 0.22498852128662872, 0.22498852128662872, 0.22498852128662872, 0.22498852128662872, 0.22498852128662872, 0.22498852128662872, 0.22498852128662872, 0.22498852128662872, 0.22498852128662872, 0.22498852128662872, 0.22498852128662872, 0.22498852128662872, 0.22498852128662872, 0.22498852128662872, 0.22498852128662872, 0.22498852128662872, 0.22498852128662872, 0.22498852128662872, 0.22498852128662872, 0.22498852128662872, 0.22498852128662872, 0.22498852128662872, 0.22498852128662872, 0.22498852128662872, 0.22498852128662872, 0.22498852128662872, 0.22498852128662872, 0.22498852128662872, 0.22498852128662872, 0.22498852128662872, 0.22498852128662872, 0.22498852128662872, 0.22498852128662872, 0.22498852128662872, 0.22498852128662872, 0.22498852128662872, 0.22498852128662872, 0.22498852128662872, 0.22498852128662872, 0.22498852128662872, 0.22498852128662872, 0.22498852128662872, 0.22498852128662872, 0.22498852128662872, 0.22498852128662872, 0.22498852128662872, 0.22498852128662872, 0.22498852128662872, 0.22498852128662872, 0.22498852128662872, 0.22498852128662872, 0.22498852128662872, 0.22498852128662872, 0.22498852128662872, 0.22498852128662872, 0.22498852128662872, 0.22498852128662872, 0.22498852128662872, 0.22498852128662872, 0.22498852128662872, 0.22498852128662872, 0.22498852128662872, 0.22498852128662872, 0.22498852128662872, 0.22498852128662872, 0.22498852128662872, 0.22498852128662872, 0.22498852128662872, 0.22498852128662872, 0.22498852128662872, 0.22498852128662872, 0.22498852128662872, 0.22498852128662872, 0.22498852128662872, 0.22498852128662872, 0.22498852128662872, 0.22498852128662872, 0.22498852128662872, 0.22498852128662872, 0.22498852128662872, 0.22498852128662872, 0.22498852128662872, 0.22498852128662872, 0.22498852128662872, 0.22498852128662872, 0.22498852128662872, 0.22498852128662872, 0.22498852128662872, 0.22498852128662872, 0.22498852128662872, 0.22498852128662872, 0.22498852128662872, 0.22498852128662872, 0.22498852128662872, 0.22498852128662872, 0.22498852128662872, 0.22498852128662872, 0.22498852128662872, 0.22498852128662872, 0.22498852128662872, 0.22498852128662872, 0.22498852128662872, 0.22498852128662872, 0.22498852128662872, 0.22498852128662872, 0.22498852128662872, 0.22498852128662872, 0.22498852128662872, 0.22498852128662872, 0.22498852128662872, 0.22498852128662872, 0.22498852128662872, 0.22498852128662872, 0.22498852128662872, 0.22498852128662872, 0.22498852128662872, 0.22498852128662872, 0.22498852128662872, 0.22498852128662872, 0.22498852128662872, 0.22498852128662872, 0.22498852128662872, 0.22498852128662872, 0.22498852128662872, 0.22498852128662872, 0.22498852128662872, 0.22498852128662872, 0.22498852128662872, 0.22498852128662872, 0.22498852128662872, 0.22498852128662872, 0.22498852128662872, 0.22498852128662872, 0.22498852128662872, 0.22498852128662872, 0.22498852128662872, 0.22498852128662872, 0.22498852128662872, 0.22498852128662872, 0.22498852128662872, 0.22498852128662872, 0.22498852128662872, 0.22498852128662872, 0.22498852128662872, 0.22498852128662872, 0.22498852128662872, 0.22498852128662872, 0.22498852128662872, 0.22498852128662872, 0.22498852128662872, 0.22498852128662872, 0.22498852128662872, 0.22498852128662872, 0.22498852128662872, 0.22498852128662872, 0.22498852128662872, 0.22498852128662872, 0.22498852128662872, 0.22498852128662872, 0.22498852128662872, 0.22498852128662872, 0.22498852128662872, 0.22498852128662872, 0.22498852128662872, 0.22498852128662872, 0.22498852128662872, 0.22498852128662872, 0.22498852128662872, 0.22498852128662872, 0.22498852128662872, 0.22498852128662872, 0.22498852128662872, 0.22498852128662872, 0.22498852128662872, 0.22498852128662872, 0.22498852128662872, 0.22498852128662872, 0.22498852128662872, 0.22498852128662872, 0.22498852128662872, 0.22498852128662872, 0.22498852128662872, 0.22498852128662872, 0.22498852128662872, 0.22498852128662872, 0.22498852128662872, 0.22498852128662872, 0.22498852128662872, 0.22498852128662872, 0.22498852128662872, 0.22498852128662872, 0.22498852128662872, 0.22498852128662872, 0.22498852128662872, 0.22498852128662872, 0.22498852128662872, 0.22498852128662872, 0.22498852128662872, 0.22498852128662872, 0.22498852128662872, 0.22498852128662872, 0.22498852128662872, 0.22498852128662872, 0.22498852128662872, 0.22498852128662872, 0.22498852128662872, 0.22498852128662872, 0.22498852128662872, 0.22498852128662872, 0.22498852128662872, 0.22498852128662872, 0.22498852128662872, 0.22498852128662872, 0.22498852128662872, 0.22498852128662872, 0.22498852128662872, 0.22498852128662872, 0.22498852128662872, 0.22498852128662872, 0.22498852128662872, 0.22498852128662872, 0.22498852128662872, 0.22498852128662872, 0.22498852128662872, 0.22498852128662872, 0.22498852128662872, 0.22498852128662872, 0.22498852128662872, 0.22498852128662872, 0.22498852128662872, 0.22498852128662872, 0.22498852128662872, 0.22498852128662872, 0.22498852128662872, 0.22498852128662872, 0.22498852128662872, 0.22498852128662872, 0.22498852128662872, 0.22498852128662872, 0.22498852128662872, 0.22498852128662872, 0.22498852128662872, 0.22498852128662872, 0.22498852128662872, 0.22498852128662872, 0.22498852128662872, 0.22498852128662872, 0.22498852128662872, 0.22498852128662872, 0.22498852128662872, 0.22498852128662872, 0.22498852128662872, 0.22498852128662872, 0.22498852128662872, 0.22498852128662872, 0.22498852128662872, 0.22498852128662872, 0.22498852128662872, 0.22498852128662872, 0.22498852128662872, 0.22498852128662872, 0.22498852128662872, 0.22498852128662872, 0.22498852128662872, 0.22498852128662872, 0.22498852128662872, 0.22498852128662872, 0.22498852128662872, 0.22498852128662872, 0.22498852128662872, 0.22498852128662872, 0.22498852128662872, 0.22498852128662872, 0.22498852128662872, 0.22498852128662872, 0.22498852128662872, 0.22498852128662872, 0.22498852128662872, 0.22498852128662872, 0.22498852128662872, 0.22498852128662872, 0.22498852128662872, 0.22498852128662872, 0.22498852128662872, 0.22498852128662872, 0.22498852128662872, 0.22498852128662872, 0.22498852128662872, 0.22498852128662872, 0.22498852128662872, 0.22498852128662872, 0.22498852128662872, 0.22498852128662872, 0.22498852128662872, 0.22498852128662872, 0.22498852128662872, 0.22498852128662872, 0.22498852128662872, 0.22498852128662872, 0.22498852128662872, 0.22498852128662872, 0.22498852128662872, 0.22498852128662872, 0.22498852128662872, 0.22498852128662872, 0.22498852128662872, 0.22498852128662872, 0.22498852128662872, 0.22498852128662872, 0.22498852128662872, 0.22498852128662872, 0.22498852128662872, 0.22498852128662872, 0.22498852128662872, 0.22498852128662872, 0.22498852128662872, 0.22498852128662872, 0.22498852128662872, 0.22498852128662872, 0.22498852128662872, 0.22498852128662872, 0.22498852128662872, 0.22498852128662872, 0.22498852128662872, 0.22498852128662872, 0.22498852128662872, 0.22498852128662872, 0.22498852128662872, 0.22498852128662872, 0.22498852128662872, 0.22498852128662872, 0.22498852128662872, 0.22498852128662872, 0.22498852128662872, 0.22498852128662872, 0.22498852128662872, 0.22498852128662872, 0.22498852128662872, 0.22498852128662872, 0.22498852128662872, 0.22498852128662872, 0.22498852128662872, 0.22498852128662872, 0.22498852128662872, 0.22498852128662872, 0.22498852128662872, 0.22498852128662872, 0.22498852128662872, 0.22498852128662872, 0.22498852128662872, 0.22498852128662872, 0.22498852128662872, 0.22498852128662872, 0.22498852128662872, 0.22498852128662872, 0.22498852128662872, 0.22498852128662872, 0.22498852128662872, 0.22498852128662872, 0.22498852128662872, 0.22498852128662872, 0.22498852128662872, 0.22498852128662872, 0.22498852128662872, 0.22498852128662872, 0.22498852128662872, 0.22498852128662872, 0.22498852128662872, 0.22498852128662872, 0.22498852128662872, 0.22498852128662872, 0.22498852128662872, 0.22498852128662872, 0.22498852128662872, 0.22498852128662872, 0.22498852128662872, 0.22498852128662872, 0.22498852128662872, 0.22498852128662872, 0.22498852128662872, 0.22498852128662872, 0.22498852128662872, 0.22498852128662872, 0.22498852128662872, 0.22498852128662872, 0.22498852128662872, 0.22498852128662872, 0.22498852128662872, 0.22498852128662872, 0.22498852128662872, 0.22498852128662872, 0.22498852128662872, 0.22498852128662872, 0.22498852128662872, 0.22498852128662872, 0.22498852128662872, 0.22498852128662872, 0.22498852128662872, 0.22498852128662872, 0.22498852128662872, 0.22498852128662872, 0.22498852128662872, 0.22498852128662872, 0.22498852128662872, 0.22498852128662872, 0.22498852128662872, 0.22498852128662872, 0.22498852128662872, 0.22498852128662872, 0.22498852128662872, 0.22498852128662872, 0.22498852128662872, 0.22498852128662872, 0.22498852128662872, 0.22498852128662872, 0.22498852128662872, 0.22498852128662872, 0.22498852128662872, 0.22498852128662872, 0.22498852128662872, 0.22498852128662872, 0.22498852128662872, 0.22498852128662872, 0.22498852128662872, 0.22498852128662872, 0.22498852128662872, 0.22498852128662872, 0.22498852128662872, 0.22498852128662872, 0.22498852128662872, 0.22498852128662872, 0.22498852128662872, 0.22498852128662872, 0.22498852128662872, 0.22498852128662872, 0.22498852128662872, 0.22498852128662872, 0.22498852128662872, 0.22498852128662872, 0.22498852128662872, 0.22498852128662872, 0.22498852128662872, 0.22498852128662872, 0.22498852128662872, 0.22498852128662872, 0.22498852128662872, 0.22498852128662872, 0.22498852128662872, 0.22498852128662872, 0.22498852128662872, 0.22498852128662872, 0.22498852128662872, 0.22498852128662872, 0.22498852128662872, 0.22498852128662872, 0.22498852128662872, 0.22498852128662872, 0.22498852128662872, 0.22498852128662872, 0.22498852128662872, 0.22498852128662872, 0.22498852128662872, 0.22498852128662872, 0.22498852128662872, 0.22498852128662872, 0.22498852128662872, 0.22498852128662872, 0.22498852128662872, 0.22498852128662872, 0.22498852128662872, 0.22498852128662872, 0.22498852128662872, 0.22498852128662872, 0.22498852128662872, 0.22498852128662872, 0.22498852128662872, 0.22498852128662872, 0.22498852128662872, 0.22498852128662872, 0.22498852128662872, 0.22498852128662872, 0.22498852128662872, 0.22498852128662872, 0.22498852128662872, 0.22498852128662872, 0.22498852128662872, 0.22498852128662872, 0.22498852128662872, 0.22498852128662872, 0.22498852128662872, 0.22498852128662872, 0.22498852128662872, 0.22498852128662872, 0.22498852128662872, 0.22498852128662872, 0.22498852128662872, 0.22498852128662872, 0.22498852128662872, 0.22498852128662872, 0.22498852128662872, 0.22498852128662872, 0.22498852128662872, 0.22498852128662872, 0.22498852128662872, 0.22498852128662872, 0.22498852128662872, 0.22498852128662872, 0.22498852128662872, 0.22498852128662872, 0.22498852128662872, 0.22498852128662872, 0.22498852128662872, 0.22498852128662872, 0.22498852128662872, 0.22498852128662872, 0.22498852128662872, 0.22498852128662872, 0.22498852128662872, 0.22498852128662872, 0.22498852128662872, 0.22498852128662872, 0.22498852128662872, 0.22498852128662872, 0.22498852128662872, 0.22498852128662872, 0.22498852128662872, 0.22498852128662872, 0.22498852128662872, 0.22498852128662872, 0.22498852128662872, 0.22498852128662872, 0.22498852128662872, 0.22498852128662872, 0.22498852128662872, 0.22498852128662872, 0.22498852128662872, 0.22498852128662872, 0.22498852128662872, 0.22498852128662872, 0.22498852128662872, 0.22498852128662872, 0.22498852128662872, 0.22498852128662872, 0.22498852128662872, 0.22498852128662872, 0.22498852128662872, 0.22498852128662872, 0.22498852128662872, 0.22498852128662872, 0.22498852128662872, 0.22498852128662872, 0.22498852128662872, 0.22498852128662872, 0.22498852128662872, 0.22498852128662872, 0.22498852128662872, 0.22498852128662872, 0.22498852128662872, 0.22498852128662872, 0.22498852128662872, 0.22498852128662872, 0.22498852128662872, 0.22498852128662872, 0.22498852128662872, 0.22498852128662872, 0.22498852128662872, 0.22498852128662872, 0.22498852128662872, 0.22498852128662872, 0.22498852128662872, 0.22498852128662872, 0.22498852128662872, 0.22498852128662872, 0.22498852128662872, 0.22498852128662872, 0.22498852128662872, 0.22498852128662872, 0.22498852128662872, 0.22498852128662872, 0.22498852128662872, 0.22498852128662872, 0.22498852128662872, 0.22498852128662872, 0.22498852128662872, 0.22498852128662872, 0.22498852128662872, 0.22498852128662872, 0.22498852128662872, 0.22498852128662872, 0.22498852128662872, 0.22498852128662872, 0.22498852128662872, 0.22498852128662872, 0.22498852128662872, 0.22498852128662872, 0.22498852128662872, 0.22498852128662872, 0.22498852128662872, 0.22498852128662872, 0.22498852128662872, 0.22498852128662872, 0.22498852128662872, 0.22498852128662872, 0.22498852128662872, 0.22498852128662872, 0.22498852128662872, 0.22498852128662872, 0.22498852128662872, 0.22498852128662872, 0.22498852128662872, 0.22498852128662872, 0.22498852128662872, 0.22498852128662872, 0.22498852128662872, 0.22498852128662872, 0.22498852128662872, 0.22498852128662872, 0.22498852128662872, 0.22498852128662872, 0.22498852128662872, 0.22498852128662872, 0.22498852128662872, 0.22498852128662872, 0.22498852128662872, 0.22498852128662872, 0.22498852128662872, 0.22498852128662872, 0.22498852128662872, 0.22498852128662872, 0.22498852128662872, 0.22498852128662872, 0.22498852128662872, 0.22498852128662872, 0.22498852128662872, 0.22498852128662872, 0.22498852128662872, 0.22498852128662872, 0.22498852128662872, 0.22498852128662872, 0.22498852128662872, 0.22498852128662872, 0.22498852128662872, 0.22498852128662872, 0.22498852128662872, 0.22498852128662872, 0.22498852128662872, 0.22498852128662872, 0.22498852128662872, 0.22498852128662872, 0.22498852128662872, 0.22498852128662872, 0.22498852128662872, 0.22498852128662872, 0.22498852128662872, 0.22498852128662872, 0.22498852128662872, 0.22498852128662872, 0.22498852128662872, 0.22498852128662872, 0.22498852128662872, 0.22498852128662872, 0.22498852128662872, 0.22498852128662872, 0.22498852128662872, 0.22498852128662872, 0.22498852128662872, 0.22498852128662872, 0.22498852128662872, 0.22498852128662872, 0.22498852128662872, 0.22498852128662872, 0.22498852128662872, 0.22498852128662872, 0.22498852128662872, 0.22498852128662872, 0.22498852128662872, 0.22498852128662872, 0.22498852128662872, 0.22498852128662872, 0.22498852128662872, 0.22498852128662872, 0.22498852128662872, 0.22498852128662872, 0.22498852128662872, 0.22498852128662872, 0.22498852128662872, 0.22498852128662872, 0.22498852128662872, 0.22498852128662872, 0.22498852128662872, 0.22498852128662872, 0.22498852128662872, 0.22498852128662872, 0.22498852128662872, 0.22498852128662872, 0.22498852128662872, 0.22498852128662872, 0.22498852128662872, 0.22498852128662872, 0.22498852128662872, 0.22498852128662872, 0.22498852128662872, 0.22498852128662872, 0.22498852128662872, 0.22498852128662872, 0.22498852128662872, 0.22498852128662872, 0.22498852128662872, 0.22498852128662872, 0.22498852128662872, 0.22498852128662872, 0.22498852128662872, 0.22498852128662872, 0.22498852128662872, 0.22498852128662872, 0.22498852128662872, 0.22498852128662872, 0.22498852128662872, 0.22498852128662872, 0.22498852128662872, 0.22498852128662872, 0.22498852128662872, 0.22498852128662872, 0.22498852128662872, 0.22498852128662872, 0.22498852128662872, 0.22498852128662872, 0.22498852128662872, 0.22498852128662872, 0.22498852128662872, 0.22498852128662872, 0.22498852128662872, 0.22498852128662872, 0.22498852128662872, 0.22498852128662872, 0.22498852128662872, 0.22498852128662872, 0.22498852128662872, 0.22498852128662872, 0.22498852128662872, 0.22498852128662872, 0.22498852128662872, 0.22498852128662872, 0.22498852128662872, 0.22498852128662872, 0.22498852128662872, 0.22498852128662872, 0.22498852128662872, 0.22498852128662872, 0.22498852128662872, 0.22498852128662872, 0.22498852128662872, 0.22498852128662872, 0.22498852128662872, 0.22498852128662872, 0.22498852128662872, 0.22498852128662872, 0.22498852128662872, 0.22498852128662872, 0.22498852128662872, 0.22498852128662872, 0.22498852128662872, 0.22498852128662872, 0.22498852128662872, 0.22498852128662872, 0.22498852128662872, 0.22498852128662872, 0.22498852128662872, 0.22498852128662872, 0.22498852128662872, 0.22498852128662872, 0.22498852128662872, 0.22498852128662872, 0.22498852128662872, 0.22498852128662872, 0.22498852128662872, 0.22498852128662872, 0.22498852128662872, 0.22498852128662872, 0.22498852128662872, 0.22498852128662872, 0.22498852128662872, 0.22498852128662872, 0.22498852128662872, 0.22498852128662872, 0.22498852128662872, 0.22498852128662872, 0.22498852128662872, 0.22498852128662872, 0.22498852128662872, 0.22498852128662872, 0.22498852128662872, 0.22498852128662872, 0.22498852128662872, 0.22498852128662872, 0.22498852128662872, 0.22498852128662872, 0.22498852128662872, 0.22498852128662872, 0.22498852128662872, 0.22498852128662872, 0.22498852128662872, 0.22498852128662872, 0.22498852128662872, 0.22498852128662872, 0.22498852128662872, 0.22498852128662872, 0.22498852128662872, 0.22498852128662872, 0.22498852128662872, 0.22498852128662872, 0.22498852128662872, 0.22498852128662872, 0.22498852128662872, 0.22498852128662872, 0.22498852128662872, 0.22498852128662872, 0.22498852128662872, 0.22498852128662872, 0.22498852128662872, 0.22498852128662872, 0.22498852128662872, 0.22498852128662872, 0.22498852128662872, 0.22498852128662872, 0.22498852128662872, 0.22498852128662872, 0.22498852128662872, 0.22498852128662872, 0.22498852128662872, 0.22498852128662872, 0.22498852128662872, 0.22498852128662872, 0.22498852128662872, 0.22498852128662872, 0.22498852128662872, 0.22498852128662872, 0.22498852128662872, 0.22498852128662872, 0.22498852128662872, 0.22498852128662872, 0.22498852128662872, 0.22498852128662872, 0.22498852128662872, 0.22498852128662872, 0.22498852128662872, 0.22498852128662872, 0.22498852128662872, 0.22498852128662872, 0.22498852128662872, 0.22498852128662872, 0.22498852128662872, 0.22498852128662872, 0.22498852128662872, 0.22498852128662872, 0.22498852128662872, 0.22498852128662872, 0.22498852128662872, 0.22498852128662872, 0.22498852128662872, 0.22498852128662872, 0.22498852128662872, 0.22498852128662872, 0.22498852128662872, 0.22498852128662872, 0.22498852128662872, 0.22498852128662872, 0.22498852128662872, 0.22498852128662872, 0.22498852128662872, 0.22498852128662872, 0.22498852128662872, 0.22498852128662872, 0.22498852128662872, 0.22498852128662872, 0.22498852128662872, 0.22498852128662872, 0.22498852128662872, 0.22498852128662872, 0.22498852128662872, 0.22498852128662872, 0.22498852128662872, 0.22498852128662872, 0.22498852128662872, 0.22498852128662872, 0.22498852128662872, 0.22498852128662872, 0.22498852128662872, 0.22498852128662872, 0.22498852128662872, 0.22498852128662872, 0.22498852128662872, 0.22498852128662872, 0.22498852128662872, 0.22498852128662872, 0.22498852128662872, 0.22498852128662872, 0.22498852128662872, 0.22498852128662872, 0.22498852128662872, 0.22498852128662872, 0.22498852128662872, 0.22498852128662872, 0.22498852128662872, 0.22498852128662872, 0.22498852128662872, 0.22498852128662872, 0.22498852128662872, 0.22498852128662872, 0.22498852128662872, 0.22498852128662872, 0.22498852128662872, 0.22498852128662872, 0.22498852128662872, 0.22498852128662872, 0.22498852128662872, 0.22498852128662872, 0.22498852128662872, 0.22498852128662872, 0.22498852128662872, 0.22498852128662872, 0.22498852128662872, 0.22498852128662872, 0.22498852128662872, 0.22498852128662872, 0.22498852128662872, 0.22498852128662872, 0.22498852128662872, 0.22498852128662872, 0.22498852128662872, 0.22498852128662872, 0.22498852128662872, 0.22498852128662872, 0.22498852128662872, 0.22498852128662872, 0.22498852128662872, 0.22498852128662872, 0.22498852128662872, 0.22498852128662872, 0.22498852128662872, 0.22498852128662872, 0.22498852128662872, 0.22498852128662872, 0.22498852128662872, 0.22498852128662872, 0.22498852128662872, 0.22498852128662872, 0.22498852128662872, 0.22498852128662872, 0.22498852128662872, 0.22498852128662872, 0.22498852128662872, 0.22498852128662872, 0.22498852128662872, 0.22498852128662872, 0.22498852128662872, 0.22498852128662872, 0.22498852128662872, 0.22498852128662872, 0.22498852128662872, 0.22498852128662872, 0.22498852128662872, 0.22498852128662872, 0.22498852128662872, 0.22498852128662872, 0.22498852128662872, 0.22498852128662872, 0.22498852128662872, 0.22498852128662872, 0.22498852128662872, 0.22498852128662872, 0.22498852128662872, 0.22498852128662872, 0.22498852128662872, 0.22498852128662872, 0.22498852128662872, 0.22498852128662872, 0.22498852128662872, 0.22498852128662872, 0.22498852128662872, 0.22498852128662872, 0.22498852128662872, 0.22498852128662872, 0.22498852128662872, 0.22498852128662872, 0.22498852128662872, 0.22498852128662872, 0.22498852128662872, 0.22498852128662872, 0.22498852128662872, 0.22498852128662872, 0.22498852128662872, 0.22498852128662872, 0.22498852128662872, 0.22498852128662872, 0.22498852128662872, 0.22498852128662872, 0.22498852128662872, 0.22498852128662872, 0.22498852128662872, 0.22498852128662872, 0.22498852128662872, 0.22498852128662872, 0.22498852128662872, 0.22498852128662872, 0.22498852128662872, 0.22498852128662872, 0.22498852128662872, 0.22498852128662872, 0.22498852128662872, 0.22498852128662872, 0.22498852128662872, 0.22498852128662872, 0.22498852128662872, 0.22498852128662872, 0.22498852128662872, 0.22498852128662872, 0.22498852128662872, 0.22498852128662872, 0.22498852128662872, 0.22498852128662872, 0.22498852128662872, 0.22498852128662872, 0.22498852128662872, 0.22498852128662872, 0.22498852128662872, 0.22498852128662872, 0.22498852128662872, 0.22498852128662872, 0.22498852128662872, 0.22498852128662872, 0.22498852128662872, 0.22498852128662872, 0.22498852128662872, 0.22498852128662872, 0.22498852128662872, 0.22498852128662872, 0.22498852128662872, 0.22498852128662872, 0.22498852128662872, 0.22498852128662872, 0.22498852128662872, 0.22498852128662872, 0.22498852128662872, 0.22498852128662872, 0.22498852128662872, 0.22498852128662872, 0.22498852128662872, 0.22498852128662872, 0.22498852128662872, 0.22498852128662872, 0.22498852128662872, 0.22498852128662872, 0.22498852128662872, 0.22498852128662872, 0.22498852128662872, 0.22498852128662872, 0.22498852128662872, 0.22498852128662872, 0.22498852128662872, 0.22498852128662872, 0.22498852128662872, 0.22498852128662872, 0.22498852128662872, 0.22498852128662872, 0.22498852128662872, 0.22498852128662872, 0.22498852128662872, 0.22498852128662872, 0.22498852128662872, 0.22498852128662872, 0.22498852128662872, 0.22498852128662872, 0.22498852128662872, 0.22498852128662872, 0.22498852128662872, 0.22498852128662872, 0.22498852128662872, 0.22498852128662872, 0.22498852128662872, 0.22498852128662872, 0.22498852128662872, 0.22498852128662872, 0.22498852128662872, 0.22498852128662872, 0.22498852128662872, 0.22498852128662872, 0.22498852128662872, 0.22498852128662872, 0.22498852128662872, 0.22498852128662872, 0.22498852128662872, 0.22498852128662872, 0.22498852128662872, 0.22498852128662872, 0.22498852128662872, 0.22498852128662872, 0.22498852128662872, 0.22498852128662872, 0.22498852128662872, 0.22498852128662872, 0.22498852128662872, 0.22498852128662872, 0.22498852128662872, 0.22498852128662872, 0.22498852128662872, 0.22498852128662872, 0.22498852128662872, 0.22498852128662872, 0.22498852128662872, 0.22498852128662872, 0.22498852128662872, 0.22498852128662872, 0.22498852128662872, 0.22498852128662872, 0.22498852128662872, 0.22498852128662872, 0.22498852128662872, 0.22498852128662872, 0.22498852128662872, 0.22498852128662872, 0.22498852128662872, 0.22498852128662872, 0.22498852128662872, 0.22498852128662872, 0.22498852128662872, 0.22498852128662872, 0.22498852128662872, 0.22498852128662872, 0.22498852128662872, 0.22498852128662872, 0.22498852128662872, 0.22498852128662872, 0.22498852128662872, 0.22498852128662872, 0.22498852128662872, 0.22498852128662872, 0.22498852128662872, 0.22498852128662872, 0.22498852128662872, 0.22498852128662872, 0.22498852128662872, 0.22498852128662872, 0.22498852128662872, 0.22498852128662872, 0.22498852128662872, 0.22498852128662872, 0.22498852128662872, 0.22498852128662872, 0.22498852128662872, 0.22498852128662872, 0.22498852128662872, 0.22498852128662872, 0.22498852128662872, 0.22498852128662872, 0.22498852128662872, 0.22498852128662872, 0.22498852128662872, 0.22498852128662872, 0.22498852128662872, 0.22498852128662872, 0.22498852128662872, 0.22498852128662872, 0.22498852128662872, 0.22498852128662872, 0.22498852128662872, 0.22498852128662872, 0.22498852128662872, 0.22498852128662872, 0.22498852128662872, 0.22498852128662872, 0.22498852128662872, 0.22498852128662872, 0.22498852128662872, 0.22498852128662872, 0.22498852128662872, 0.22498852128662872, 0.22498852128662872, 0.22498852128662872, 0.22498852128662872, 0.22498852128662872, 0.22498852128662872, 0.22498852128662872, 0.22498852128662872, 0.22498852128662872, 0.22498852128662872, 0.22498852128662872, 0.22498852128662872, 0.22498852128662872, 0.22498852128662872, 0.22498852128662872, 0.22498852128662872, 0.22498852128662872, 0.22498852128662872, 0.22498852128662872, 0.22498852128662872, 0.22498852128662872, 0.22498852128662872, 0.22498852128662872, 0.22498852128662872, 0.22498852128662872, 0.22498852128662872, 0.22498852128662872, 0.22498852128662872, 0.22498852128662872, 0.22498852128662872, 0.22498852128662872, 0.22498852128662872, 0.22498852128662872, 0.22498852128662872, 0.22498852128662872, 0.22498852128662872, 0.22498852128662872, 0.22498852128662872, 0.22498852128662872, 0.22498852128662872, 0.22498852128662872, 0.22498852128662872, 0.22498852128662872, 0.22498852128662872, 0.22498852128662872, 0.22498852128662872, 0.22498852128662872, 0.22498852128662872, 0.22498852128662872, 0.22498852128662872, 0.22498852128662872, 0.22498852128662872, 0.22498852128662872, 0.22498852128662872, 0.22498852128662872, 0.22498852128662872, 0.22498852128662872, 0.22498852128662872, 0.22498852128662872, 0.22498852128662872, 0.22498852128662872, 0.22498852128662872, 0.22498852128662872, 0.22498852128662872, 0.22498852128662872, 0.22498852128662872, 0.22498852128662872, 0.22498852128662872, 0.22498852128662872, 0.22498852128662872, 0.22498852128662872, 0.22498852128662872, 0.22498852128662872, 0.22498852128662872, 0.22498852128662872, 0.22498852128662872, 0.22498852128662872, 0.22498852128662872, 0.22498852128662872, 0.22498852128662872, 0.22498852128662872, 0.22498852128662872, 0.22498852128662872, 0.22498852128662872, 0.22498852128662872, 0.22498852128662872, 0.22498852128662872, 0.22498852128662872, 0.22498852128662872, 0.22498852128662872, 0.22498852128662872, 0.22498852128662872, 0.22498852128662872, 0.22498852128662872, 0.22498852128662872, 0.22498852128662872, 0.22498852128662872, 0.22498852128662872, 0.22498852128662872, 0.22498852128662872, 0.22498852128662872, 0.22498852128662872, 0.22498852128662872, 0.22498852128662872, 0.22498852128662872, 0.22498852128662872, 0.22498852128662872, 0.22498852128662872, 0.22498852128662872, 0.22498852128662872, 0.22498852128662872, 0.22498852128662872, 0.22498852128662872, 0.22498852128662872, 0.22498852128662872, 0.22498852128662872, 0.22498852128662872, 0.22498852128662872, 0.22498852128662872, 0.22498852128662872, 0.22498852128662872, 0.22498852128662872, 0.22498852128662872, 0.22498852128662872, 0.22498852128662872, 0.22498852128662872, 0.22498852128662872, 0.22498852128662872, 0.22498852128662872, 0.22498852128662872, 0.22498852128662872, 0.22498852128662872, 0.22498852128662872, 0.22498852128662872, 0.22498852128662872, 0.22498852128662872, 0.22498852128662872, 0.22498852128662872, 0.22498852128662872, 0.22498852128662872, 0.22498852128662872, 0.22498852128662872, 0.22498852128662872, 0.22498852128662872, 0.22498852128662872, 0.22498852128662872, 0.22498852128662872, 0.22498852128662872, 0.22498852128662872, 0.22498852128662872, 0.22498852128662872, 0.22498852128662872, 0.22498852128662872, 0.22498852128662872, 0.22498852128662872, 0.22498852128662872, 0.22498852128662872, 0.22498852128662872, 0.22498852128662872, 0.22498852128662872, 0.22498852128662872, 0.22498852128662872, 0.22498852128662872, 0.22498852128662872, 0.22498852128662872, 0.22498852128662872, 0.22498852128662872, 0.22498852128662872, 0.22498852128662872, 0.22498852128662872, 0.22498852128662872, 0.22498852128662872, 0.22498852128662872, 0.22498852128662872, 0.22498852128662872, 0.22498852128662872, 0.22498852128662872, 0.22498852128662872, 0.22498852128662872, 0.22498852128662872, 0.22498852128662872, 0.22498852128662872, 0.22498852128662872, 0.22498852128662872, 0.22498852128662872, 0.22498852128662872, 0.22498852128662872, 0.22498852128662872, 0.22498852128662872, 0.22498852128662872, 0.22498852128662872, 0.22498852128662872, 0.22498852128662872, 0.22498852128662872, 0.22498852128662872, 0.22498852128662872, 0.22498852128662872, 0.22498852128662872, 0.22498852128662872, 0.22498852128662872, 0.22498852128662872, 0.22498852128662872, 0.22498852128662872, 0.22498852128662872, 0.22498852128662872, 0.22498852128662872, 0.22498852128662872, 0.22498852128662872, 0.22498852128662872, 0.22498852128662872, 0.22498852128662872, 0.22498852128662872, 0.22498852128662872, 0.22498852128662872, 0.22498852128662872, 0.22498852128662872, 0.22498852128662872, 0.22498852128662872, 0.22498852128662872, 0.22498852128662872, 0.22498852128662872, 0.22498852128662872, 0.22498852128662872, 0.22498852128662872, 0.22498852128662872, 0.22498852128662872, 0.22498852128662872, 0.22498852128662872, 0.22498852128662872, 0.22498852128662872, 0.22498852128662872, 0.22498852128662872, 0.22498852128662872, 0.22498852128662872, 0.22498852128662872, 0.22498852128662872, 0.22498852128662872, 0.22498852128662872, 0.22498852128662872, 0.22498852128662872, 0.22498852128662872, 0.22498852128662872, 0.22498852128662872, 0.22498852128662872, 0.22498852128662872, 0.22498852128662872, 0.22498852128662872, 0.22498852128662872, 0.22498852128662872, 0.22498852128662872, 0.22498852128662872, 0.22498852128662872, 0.22498852128662872, 0.22498852128662872, 0.22498852128662872, 0.22498852128662872, 0.22498852128662872, 0.22498852128662872, 0.22498852128662872, 0.22498852128662872, 0.22498852128662872, 0.22498852128662872, 0.22498852128662872, 0.22498852128662872, 0.22498852128662872, 0.22498852128662872, 0.22498852128662872, 0.22498852128662872, 0.22498852128662872, 0.22498852128662872, 0.22498852128662872, 0.22498852128662872, 0.22498852128662872, 0.22498852128662872, 0.22498852128662872, 0.22498852128662872, 0.22498852128662872, 0.22498852128662872, 0.22498852128662872, 0.22498852128662872, 0.22498852128662872, 0.22498852128662872, 0.22498852128662872, 0.22498852128662872, 0.22498852128662872, 0.22498852128662872, 0.22498852128662872, 0.22498852128662872, 0.22498852128662872, 0.22498852128662872, 0.22498852128662872, 0.22498852128662872, 0.22498852128662872, 0.22498852128662872, 0.22498852128662872, 0.22498852128662872, 0.22498852128662872, 0.22498852128662872, 0.22498852128662872, 0.22498852128662872, 0.22498852128662872, 0.22498852128662872, 0.22498852128662872, 0.22498852128662872, 0.22498852128662872, 0.22498852128662872, 0.22498852128662872, 0.22498852128662872, 0.22498852128662872, 0.22498852128662872, 0.22498852128662872, 0.22498852128662872, 0.22498852128662872, 0.22498852128662872, 0.22498852128662872, 0.22498852128662872, 0.22498852128662872, 0.22498852128662872, 0.22498852128662872, 0.22498852128662872, 0.22498852128662872, 0.22498852128662872, 0.22498852128662872, 0.22498852128662872, 0.22498852128662872, 0.22498852128662872, 0.22498852128662872, 0.22498852128662872, 0.22498852128662872, 0.22498852128662872, 0.22498852128662872, 0.22498852128662872, 0.22498852128662872, 0.22498852128662872, 0.22498852128662872, 0.22498852128662872, 0.22498852128662872, 0.22498852128662872, 0.22498852128662872, 0.22498852128662872, 0.22498852128662872, 0.22498852128662872, 0.22498852128662872, 0.22498852128662872, 0.22498852128662872, 0.22498852128662872, 0.22498852128662872, 0.22498852128662872, 0.22498852128662872, 0.22498852128662872, 0.22498852128662872, 0.22498852128662872, 0.22498852128662872, 0.22498852128662872, 0.22498852128662872, 0.22498852128662872, 0.22498852128662872, 0.22498852128662872, 0.22498852128662872, 0.22498852128662872, 0.22498852128662872, 0.22498852128662872, 0.22498852128662872, 0.22498852128662872, 0.22498852128662872, 0.22498852128662872, 0.22498852128662872, 0.22498852128662872, 0.22498852128662872, 0.22498852128662872, 0.22498852128662872, 0.22498852128662872, 0.22498852128662872, 0.22498852128662872, 0.22498852128662872, 0.22498852128662872, 0.22498852128662872, 0.22498852128662872, 0.22498852128662872, 0.22498852128662872, 0.22498852128662872, 0.22498852128662872, 0.22498852128662872, 0.22498852128662872, 0.22498852128662872, 0.22498852128662872, 0.22498852128662872, 0.22498852128662872, 0.22498852128662872, 0.22498852128662872, 0.22498852128662872, 0.22498852128662872, 0.22498852128662872, 0.22498852128662872, 0.22498852128662872, 0.22498852128662872, 0.22498852128662872, 0.22498852128662872, 0.22498852128662872, 0.22498852128662872, 0.22498852128662872, 0.22498852128662872, 0.22498852128662872, 0.22498852128662872, 0.22498852128662872, 0.22498852128662872, 0.22498852128662872, 0.22498852128662872, 0.22498852128662872, 0.22498852128662872, 0.22498852128662872, 0.22498852128662872, 0.22498852128662872, 0.22498852128662872, 0.22498852128662872, 0.22498852128662872, 0.22498852128662872, 0.22498852128662872, 0.22498852128662872, 0.22498852128662872, 0.22498852128662872, 0.22498852128662872, 0.22498852128662872, 0.22498852128662872, 0.22498852128662872, 0.22498852128662872, 0.22498852128662872, 0.22498852128662872, 0.22498852128662872, 0.22498852128662872, 0.22498852128662872, 0.22498852128662872, 0.22498852128662872, 0.22498852128662872, 0.22498852128662872, 0.22498852128662872, 0.22498852128662872, 0.22498852128662872, 0.22498852128662872, 0.22498852128662872, 0.22498852128662872, 0.22498852128662872, 0.22498852128662872, 0.22498852128662872, 0.22498852128662872, 0.22498852128662872, 0.22498852128662872, 0.22498852128662872, 0.22498852128662872, 0.22498852128662872, 0.22498852128662872, 0.22498852128662872, 0.22498852128662872, 0.22498852128662872, 0.22498852128662872, 0.22498852128662872, 0.22498852128662872, 0.22498852128662872, 0.22498852128662872, 0.22498852128662872, 0.22498852128662872, 0.22498852128662872, 0.22498852128662872, 0.22498852128662872, 0.22498852128662872, 0.22498852128662872, 0.22498852128662872, 0.22498852128662872, 0.22498852128662872, 0.22498852128662872, 0.22498852128662872, 0.22498852128662872, 0.22498852128662872, 0.22498852128662872, 0.22498852128662872, 0.22498852128662872, 0.22498852128662872, 0.22498852128662872, 0.22498852128662872, 0.22498852128662872, 0.22498852128662872, 0.22498852128662872, 0.22498852128662872, 0.22498852128662872, 0.22498852128662872, 0.22498852128662872, 0.22498852128662872, 0.22498852128662872, 0.22498852128662872, 0.22498852128662872, 0.22498852128662872, 0.22498852128662872, 0.22498852128662872, 0.22498852128662872, 0.22498852128662872, 0.22498852128662872, 0.22498852128662872, 0.22498852128662872, 0.22498852128662872, 0.22498852128662872, 0.22498852128662872, 0.22498852128662872, 0.22498852128662872, 0.22498852128662872, 0.22498852128662872, 0.22498852128662872, 0.22498852128662872, 0.22498852128662872, 0.22498852128662872, 0.22498852128662872, 0.22498852128662872, 0.22498852128662872, 0.22498852128662872, 0.22498852128662872, 0.22498852128662872, 0.22498852128662872, 0.22498852128662872, 0.22498852128662872, 0.22498852128662872, 0.22498852128662872, 0.22498852128662872, 0.22498852128662872, 0.22498852128662872, 0.22498852128662872, 0.22498852128662872, 0.22498852128662872, 0.22498852128662872, 0.22498852128662872, 0.22498852128662872, 0.22498852128662872, 0.22498852128662872, 0.22498852128662872, 0.22498852128662872, 0.22498852128662872, 0.22498852128662872, 0.22498852128662872, 0.22498852128662872, 0.22498852128662872, 0.22498852128662872, 0.22498852128662872, 0.22498852128662872, 0.22498852128662872, 0.22498852128662872, 0.22498852128662872, 0.22498852128662872, 0.22498852128662872, 0.22498852128662872, 0.22498852128662872, 0.22498852128662872, 0.22498852128662872, 0.22498852128662872, 0.22498852128662872, 0.22498852128662872, 0.22498852128662872, 0.22498852128662872, 0.22498852128662872, 0.22498852128662872, 0.22498852128662872, 0.22498852128662872, 0.22498852128662872, 0.22498852128662872, 0.22498852128662872, 0.22498852128662872, 0.22498852128662872, 0.22498852128662872, 0.22498852128662872, 0.22498852128662872, 0.22498852128662872, 0.22498852128662872, 0.22498852128662872, 0.22498852128662872, 0.22498852128662872, 0.22498852128662872, 0.22498852128662872, 0.22498852128662872, 0.22498852128662872, 0.22498852128662872, 0.22498852128662872, 0.22498852128662872, 0.22498852128662872, 0.22498852128662872, 0.22498852128662872, 0.22498852128662872, 0.22498852128662872, 0.22498852128662872, 0.22498852128662872, 0.22498852128662872, 0.22498852128662872, 0.22498852128662872, 0.22498852128662872, 0.22498852128662872, 0.22498852128662872, 0.22498852128662872, 0.22498852128662872, 0.22498852128662872, 0.22498852128662872, 0.22498852128662872, 0.22498852128662872, 0.22498852128662872, 0.22498852128662872, 0.22498852128662872, 0.22498852128662872, 0.22498852128662872, 0.22498852128662872, 0.22498852128662872, 0.22498852128662872, 0.22498852128662872, 0.22498852128662872, 0.22498852128662872, 0.22498852128662872, 0.22498852128662872, 0.22498852128662872, 0.22498852128662872, 0.22498852128662872, 0.22498852128662872, 0.22498852128662872, 0.22498852128662872, 0.22498852128662872, 0.22498852128662872, 0.22498852128662872, 0.22498852128662872, 0.22498852128662872, 0.22498852128662872, 0.22498852128662872, 0.22498852128662872, 0.22498852128662872, 0.22498852128662872, 0.22498852128662872, 0.22498852128662872, 0.22498852128662872, 0.22498852128662872, 0.22498852128662872, 0.22498852128662872, 0.22498852128662872, 0.22498852128662872, 0.22498852128662872, 0.22498852128662872, 0.22498852128662872, 0.22498852128662872, 0.22498852128662872, 0.22498852128662872, 0.22498852128662872, 0.22498852128662872, 0.22498852128662872, 0.22498852128662872, 0.22498852128662872, 0.22498852128662872, 0.22498852128662872, 0.22498852128662872, 0.22498852128662872, 0.22498852128662872, 0.22498852128662872, 0.22498852128662872, 0.22498852128662872, 0.22498852128662872, 0.22498852128662872, 0.22498852128662872, 0.22498852128662872, 0.22498852128662872, 0.22498852128662872, 0.22498852128662872, 0.22498852128662872, 0.22498852128662872, 0.22498852128662872, 0.22498852128662872, 0.22498852128662872, 0.22498852128662872, 0.22498852128662872, 0.22498852128662872, 0.22498852128662872, 0.22498852128662872, 0.22498852128662872, 0.22498852128662872, 0.22498852128662872, 0.22498852128662872, 0.22498852128662872, 0.22498852128662872, 0.22498852128662872, 0.22498852128662872, 0.22498852128662872, 0.22498852128662872, 0.22498852128662872, 0.22498852128662872, 0.22498852128662872, 0.22498852128662872, 0.22498852128662872, 0.22498852128662872, 0.22498852128662872, 0.22498852128662872, 0.22498852128662872, 0.22498852128662872, 0.22498852128662872, 0.22498852128662872, 0.22498852128662872, 0.22498852128662872, 0.22498852128662872, 0.22498852128662872, 0.22498852128662872, 0.22498852128662872, 0.22498852128662872, 0.22498852128662872, 0.22498852128662872, 0.22498852128662872, 0.22498852128662872, 0.22498852128662872, 0.22498852128662872, 0.22498852128662872, 0.22498852128662872, 0.22498852128662872, 0.22498852128662872, 0.22498852128662872, 0.22498852128662872, 0.22498852128662872, 0.22498852128662872, 0.22498852128662872, 0.22498852128662872, 0.22498852128662872, 0.22498852128662872, 0.22498852128662872, 0.22498852128662872, 0.22498852128662872, 0.22498852128662872, 0.22498852128662872, 0.22498852128662872, 0.22498852128662872, 0.22498852128662872, 0.22498852128662872, 0.22498852128662872, 0.22498852128662872, 0.22498852128662872, 0.22498852128662872, 0.22498852128662872, 0.22498852128662872, 0.22498852128662872, 0.22498852128662872, 0.22498852128662872, 0.22498852128662872, 0.22498852128662872, 0.22498852128662872, 0.22498852128662872, 0.22498852128662872, 0.22498852128662872, 0.22498852128662872, 0.22498852128662872, 0.22498852128662872, 0.22498852128662872, 0.22498852128662872, 0.22498852128662872, 0.22498852128662872, 0.22498852128662872, 0.22498852128662872, 0.22498852128662872, 0.22498852128662872, 0.22498852128662872, 0.22498852128662872, 0.22498852128662872, 0.22498852128662872, 0.22498852128662872, 0.22498852128662872, 0.22498852128662872, 0.22498852128662872, 0.22498852128662872, 0.22498852128662872, 0.22498852128662872, 0.22498852128662872, 0.22498852128662872, 0.22498852128662872, 0.22498852128662872, 0.22498852128662872, 0.22498852128662872, 0.22498852128662872, 0.22498852128662872, 0.22498852128662872, 0.22498852128662872, 0.22498852128662872, 0.22498852128662872, 0.22498852128662872, 0.22498852128662872, 0.22498852128662872, 0.22498852128662872, 0.22498852128662872, 0.22498852128662872, 0.22498852128662872, 0.22498852128662872, 0.22498852128662872, 0.22498852128662872, 0.22498852128662872, 0.22498852128662872, 0.22498852128662872, 0.22498852128662872, 0.22498852128662872, 0.22498852128662872, 0.22498852128662872, 0.22498852128662872, 0.22498852128662872, 0.22498852128662872, 0.22498852128662872, 0.22498852128662872, 0.22498852128662872, 0.22498852128662872, 0.22498852128662872, 0.22498852128662872, 0.22498852128662872, 0.22498852128662872, 0.22498852128662872, 0.22498852128662872, 0.22498852128662872, 0.22498852128662872, 0.22498852128662872, 0.22498852128662872, 0.22498852128662872, 0.22498852128662872, 0.22498852128662872, 0.22498852128662872, 0.22498852128662872, 0.22498852128662872, 0.22498852128662872, 0.22498852128662872, 0.22498852128662872, 0.22498852128662872, 0.22498852128662872, 0.22498852128662872, 0.22498852128662872, 0.22498852128662872, 0.22498852128662872, 0.22498852128662872, 0.22498852128662872, 0.22498852128662872, 0.22498852128662872, 0.22498852128662872, 0.22498852128662872, 0.22498852128662872, 0.22498852128662872, 0.22498852128662872, 0.22498852128662872, 0.22498852128662872, 0.22498852128662872, 0.22498852128662872, 0.22498852128662872, 0.22498852128662872, 0.22498852128662872, 0.22498852128662872, 0.22498852128662872, 0.22498852128662872, 0.22498852128662872, 0.22498852128662872, 0.22498852128662872, 0.22498852128662872, 0.22498852128662872, 0.22498852128662872, 0.22498852128662872, 0.22498852128662872, 0.22498852128662872, 0.22498852128662872, 0.22498852128662872, 0.22498852128662872, 0.22498852128662872, 0.22498852128662872, 0.22498852128662872, 0.22498852128662872, 0.22498852128662872, 0.22498852128662872, 0.22498852128662872, 0.22498852128662872, 0.22498852128662872, 0.22498852128662872, 0.22498852128662872, 0.22498852128662872, 0.22498852128662872, 0.22498852128662872, 0.22498852128662872, 0.22498852128662872, 0.22498852128662872, 0.22498852128662872, 0.22498852128662872, 0.22498852128662872, 0.22498852128662872, 0.22498852128662872, 0.22498852128662872, 0.22498852128662872, 0.22498852128662872, 0.22498852128662872, 0.22498852128662872, 0.22498852128662872, 0.22498852128662872, 0.22498852128662872, 0.22498852128662872, 0.22498852128662872, 0.22498852128662872, 0.22498852128662872, 0.22498852128662872, 0.22498852128662872, 0.22498852128662872, 0.22498852128662872, 0.22498852128662872, 0.22498852128662872, 0.22498852128662872, 0.22498852128662872, 0.22498852128662872, 0.22498852128662872, 0.22498852128662872, 0.22498852128662872, 0.22498852128662872, 0.22498852128662872, 0.22498852128662872, 0.22498852128662872, 0.22498852128662872, 0.22498852128662872, 0.22498852128662872, 0.22498852128662872, 0.22498852128662872, 0.22498852128662872, 0.22498852128662872, 0.22498852128662872, 0.22498852128662872, 0.22498852128662872, 0.22498852128662872, 0.22498852128662872, 0.22498852128662872, 0.22498852128662872, 0.22498852128662872, 0.22498852128662872, 0.22498852128662872, 0.22498852128662872, 0.22498852128662872, 0.22498852128662872, 0.22498852128662872, 0.22498852128662872, 0.22498852128662872, 0.22498852128662872, 0.22498852128662872, 0.22498852128662872, 0.22498852128662872, 0.22498852128662872, 0.22498852128662872, 0.22498852128662872, 0.22498852128662872, 0.22498852128662872, 0.22498852128662872, 0.22498852128662872, 0.22498852128662872, 0.22498852128662872, 0.22498852128662872, 0.22498852128662872, 0.22498852128662872, 0.22498852128662872, 0.22498852128662872, 0.22498852128662872, 0.22498852128662872, 0.22498852128662872, 0.22498852128662872, 0.22498852128662872, 0.22498852128662872, 0.22498852128662872, 0.22498852128662872, 0.22498852128662872, 0.22498852128662872, 0.22498852128662872, 0.22498852128662872, 0.22498852128662872, 0.22498852128662872, 0.22498852128662872, 0.22498852128662872, 0.22498852128662872, 0.22498852128662872, 0.22498852128662872, 0.22498852128662872, 0.22498852128662872, 0.22498852128662872, 0.22498852128662872, 0.22498852128662872, 0.22498852128662872, 0.22498852128662872, 0.22498852128662872, 0.22498852128662872, 0.22498852128662872, 0.22498852128662872, 0.22498852128662872, 0.22498852128662872, 0.22498852128662872, 0.22498852128662872, 0.22498852128662872, 0.22498852128662872, 0.22498852128662872, 0.22498852128662872, 0.22498852128662872, 0.22498852128662872, 0.22498852128662872, 0.22498852128662872, 0.22498852128662872, 0.22498852128662872, 0.22498852128662872, 0.22498852128662872, 0.22498852128662872, 0.22498852128662872, 0.22498852128662872, 0.22498852128662872, 0.22498852128662872, 0.22498852128662872, 0.22498852128662872, 0.22498852128662872, 0.22498852128662872, 0.22498852128662872, 0.22498852128662872, 0.22498852128662872, 0.22498852128662872, 0.22498852128662872, 0.22498852128662872, 0.22498852128662872, 0.22498852128662872, 0.22498852128662872, 0.22498852128662872, 0.22498852128662872, 0.22498852128662872, 0.22498852128662872, 0.22498852128662872, 0.22498852128662872, 0.22498852128662872, 0.22498852128662872, 0.22498852128662872, 0.22498852128662872, 0.22498852128662872, 0.22498852128662872, 0.22498852128662872, 0.22498852128662872, 0.22498852128662872, 0.22498852128662872, 0.22498852128662872, 0.22498852128662872, 0.22498852128662872, 0.22498852128662872, 0.22498852128662872, 0.22498852128662872, 0.22498852128662872, 0.22498852128662872, 0.22498852128662872, 0.22498852128662872, 0.22498852128662872, 0.22498852128662872, 0.22498852128662872, 0.22498852128662872, 0.22498852128662872, 0.22498852128662872, 0.22498852128662872, 0.22498852128662872, 0.22498852128662872, 0.22498852128662872, 0.22498852128662872, 0.22498852128662872, 0.22498852128662872, 0.22498852128662872, 0.22498852128662872, 0.22498852128662872, 0.22498852128662872, 0.22498852128662872, 0.22498852128662872, 0.22498852128662872, 0.22498852128662872, 0.22498852128662872, 0.22498852128662872, 0.22498852128662872, 0.22498852128662872, 0.22498852128662872, 0.22498852128662872, 0.22498852128662872, 0.22498852128662872, 0.22498852128662872, 0.22498852128662872, 0.22498852128662872, 0.22498852128662872, 0.22498852128662872, 0.22498852128662872, 0.22498852128662872, 0.22498852128662872, 0.22498852128662872, 0.22498852128662872, 0.22498852128662872, 0.22498852128662872, 0.22498852128662872, 0.22498852128662872, 0.22498852128662872, 0.22498852128662872, 0.22498852128662872, 0.22498852128662872, 0.22498852128662872, 0.22498852128662872, 0.22498852128662872, 0.22498852128662872, 0.22498852128662872, 0.22498852128662872, 0.22498852128662872, 0.22498852128662872, 0.22498852128662872, 0.22498852128662872, 0.22498852128662872, 0.22498852128662872, 0.22498852128662872, 0.22498852128662872, 0.22498852128662872, 0.22498852128662872, 0.22498852128662872, 0.22498852128662872, 0.22498852128662872, 0.22498852128662872, 0.22498852128662872, 0.22498852128662872, 0.22498852128662872, 0.22498852128662872, 0.22498852128662872, 0.22498852128662872, 0.22498852128662872, 0.22498852128662872, 0.22498852128662872, 0.22498852128662872, 0.22498852128662872, 0.22498852128662872, 0.22498852128662872, 0.22498852128662872, 0.22498852128662872, 0.22498852128662872, 0.22498852128662872, 0.22498852128662872, 0.22498852128662872, 0.22498852128662872, 0.22498852128662872, 0.22498852128662872, 0.22498852128662872, 0.22498852128662872, 0.22498852128662872, 0.22498852128662872, 0.22498852128662872, 0.22498852128662872, 0.22498852128662872, 0.22498852128662872, 0.22498852128662872, 0.22498852128662872, 0.22498852128662872, 0.22498852128662872, 0.22498852128662872, 0.22498852128662872, 0.22498852128662872, 0.22498852128662872, 0.22498852128662872, 0.22498852128662872, 0.22498852128662872, 0.22498852128662872, 0.22498852128662872, 0.22498852128662872, 0.22498852128662872, 0.22498852128662872, 0.22498852128662872, 0.22498852128662872, 0.22498852128662872, 0.22498852128662872, 0.22498852128662872, 0.22498852128662872, 0.22498852128662872, 0.22498852128662872, 0.22498852128662872, 0.22498852128662872, 0.22498852128662872, 0.22498852128662872, 0.22498852128662872, 0.22498852128662872, 0.22498852128662872, 0.22498852128662872, 0.22498852128662872, 0.22498852128662872, 0.22498852128662872, 0.22498852128662872, 0.22498852128662872, 0.22498852128662872, 0.22498852128662872, 0.22498852128662872, 0.22498852128662872, 0.22498852128662872, 0.22498852128662872, 0.22498852128662872, 0.22498852128662872, 0.22498852128662872, 0.22498852128662872, 0.22498852128662872, 0.22498852128662872, 0.22498852128662872, 0.22498852128662872, 0.22498852128662872, 0.22498852128662872, 0.22498852128662872, 0.22498852128662872, 0.22498852128662872, 0.22498852128662872, 0.22498852128662872, 0.22498852128662872, 0.22498852128662872, 0.22498852128662872, 0.22498852128662872, 0.22498852128662872, 0.22498852128662872, 0.22498852128662872, 0.22498852128662872, 0.22498852128662872, 0.22498852128662872, 0.22498852128662872, 0.22498852128662872, 0.22498852128662872, 0.22498852128662872, 0.22498852128662872, 0.22498852128662872, 0.22498852128662872, 0.22498852128662872, 0.22498852128662872, 0.22498852128662872, 0.22498852128662872, 0.22498852128662872, 0.22498852128662872, 0.22498852128662872, 0.22498852128662872, 0.22498852128662872, 0.22498852128662872, 0.22498852128662872, 0.22498852128662872, 0.22498852128662872, 0.22498852128662872, 0.22498852128662872, 0.22498852128662872, 0.22498852128662872, 0.22498852128662872, 0.22498852128662872, 0.22498852128662872, 0.22498852128662872, 0.22498852128662872, 0.22498852128662872, 0.22498852128662872, 0.22498852128662872, 0.22498852128662872, 0.22498852128662872, 0.22498852128662872, 0.22498852128662872, 0.22498852128662872, 0.22498852128662872, 0.22498852128662872, 0.22498852128662872, 0.22498852128662872, 0.22498852128662872, 0.22498852128662872, 0.22498852128662872, 0.22498852128662872, 0.22498852128662872, 0.22498852128662872, 0.22498852128662872, 0.22498852128662872, 0.22498852128662872, 0.22498852128662872, 0.22498852128662872, 0.22498852128662872, 0.22498852128662872, 0.22498852128662872, 0.22498852128662872, 0.22498852128662872, 0.22498852128662872, 0.22498852128662872, 0.22498852128662872, 0.22498852128662872, 0.22498852128662872, 0.22498852128662872, 0.22498852128662872, 0.22498852128662872, 0.22498852128662872, 0.22498852128662872, 0.22498852128662872, 0.22498852128662872, 0.22498852128662872, 0.22498852128662872, 0.22498852128662872, 0.22498852128662872, 0.22498852128662872, 0.22498852128662872, 0.22498852128662872, 0.22498852128662872, 0.22498852128662872, 0.22498852128662872, 0.22498852128662872, 0.22498852128662872, 0.22498852128662872, 0.22498852128662872, 0.22498852128662872, 0.22498852128662872, 0.22498852128662872, 0.22498852128662872, 0.22498852128662872, 0.22498852128662872, 0.22498852128662872, 0.22498852128662872, 0.22498852128662872, 0.22498852128662872, 0.22498852128662872, 0.22498852128662872, 0.22498852128662872, 0.22498852128662872, 0.22498852128662872, 0.22498852128662872, 0.22498852128662872, 0.22498852128662872, 0.22498852128662872, 0.22498852128662872, 0.22498852128662872, 0.22498852128662872, 0.22498852128662872, 0.22498852128662872, 0.22498852128662872, 0.22498852128662872, 0.22498852128662872, 0.22498852128662872, 0.22498852128662872, 0.22498852128662872, 0.22498852128662872, 0.22498852128662872, 0.22498852128662872, 0.22498852128662872, 0.22498852128662872, 0.22498852128662872, 0.22498852128662872, 0.22498852128662872, 0.22498852128662872, 0.22498852128662872, 0.22498852128662872, 0.22498852128662872, 0.22498852128662872, 0.22498852128662872, 0.22498852128662872, 0.22498852128662872, 0.22498852128662872, 0.22498852128662872, 0.22498852128662872, 0.22498852128662872, 0.22498852128662872, 0.22498852128662872, 0.22498852128662872, 0.22498852128662872, 0.22498852128662872, 0.22498852128662872, 0.22498852128662872, 0.22498852128662872, 0.22498852128662872, 0.22498852128662872, 0.22498852128662872, 0.22498852128662872, 0.22498852128662872, 0.22498852128662872, 0.22498852128662872, 0.22498852128662872, 0.22498852128662872, 0.22498852128662872, 0.22498852128662872, 0.22498852128662872, 0.22498852128662872, 0.22498852128662872, 0.22498852128662872, 0.22498852128662872, 0.22498852128662872, 0.22498852128662872, 0.22498852128662872, 0.22498852128662872, 0.22498852128662872, 0.22498852128662872, 0.22498852128662872, 0.22498852128662872, 0.22498852128662872, 0.22498852128662872, 0.22498852128662872, 0.22498852128662872, 0.22498852128662872, 0.22498852128662872, 0.22498852128662872, 0.22498852128662872, 0.22498852128662872, 0.22498852128662872, 0.22498852128662872, 0.22498852128662872, 0.22498852128662872, 0.22498852128662872, 0.22498852128662872, 0.22498852128662872, 0.22498852128662872, 0.22498852128662872, 0.22498852128662872, 0.22498852128662872, 0.22498852128662872, 0.22498852128662872, 0.22498852128662872, 0.22498852128662872, 0.22498852128662872, 0.22498852128662872, 0.22498852128662872, 0.22498852128662872, 0.22498852128662872, 0.22498852128662872, 0.22498852128662872, 0.22498852128662872, 0.22498852128662872, 0.22498852128662872, 0.22498852128662872, 0.22498852128662872, 0.22498852128662872, 0.22498852128662872, 0.22498852128662872, 0.22498852128662872, 0.22498852128662872, 0.22498852128662872, 0.22498852128662872, 0.22498852128662872, 0.22498852128662872, 0.22498852128662872, 0.22498852128662872, 0.22498852128662872, 0.22498852128662872, 0.22498852128662872, 0.22498852128662872, 0.22498852128662872, 0.22498852128662872, 0.22498852128662872, 0.22498852128662872, 0.22498852128662872, 0.22498852128662872, 0.22498852128662872, 0.22498852128662872, 0.22498852128662872, 0.22498852128662872, 0.22498852128662872, 0.22498852128662872, 0.22498852128662872, 0.22498852128662872, 0.22498852128662872, 0.22498852128662872, 0.22498852128662872, 0.22498852128662872, 0.22498852128662872, 0.22498852128662872, 0.22498852128662872, 0.22498852128662872, 0.22498852128662872, 0.22498852128662872, 0.22498852128662872, 0.22498852128662872, 0.22498852128662872, 0.22498852128662872, 0.22498852128662872, 0.22498852128662872, 0.22498852128662872, 0.22498852128662872, 0.22498852128662872, 0.22498852128662872, 0.22498852128662872, 0.22498852128662872, 0.22498852128662872, 0.22498852128662872, 0.22498852128662872, 0.22498852128662872, 0.22498852128662872, 0.22498852128662872, 0.22498852128662872, 0.22498852128662872, 0.22498852128662872, 0.22498852128662872, 0.22498852128662872, 0.22498852128662872, 0.22498852128662872, 0.22498852128662872, 0.22498852128662872, 0.22498852128662872, 0.22498852128662872, 0.22498852128662872, 0.22498852128662872, 0.22498852128662872, 0.22498852128662872, 0.22498852128662872, 0.22498852128662872, 0.22498852128662872, 0.22498852128662872, 0.22498852128662872, 0.22498852128662872, 0.22498852128662872, 0.22498852128662872, 0.22498852128662872, 0.22498852128662872, 0.22498852128662872, 0.22498852128662872, 0.22498852128662872, 0.22498852128662872, 0.22498852128662872, 0.22498852128662872, 0.22498852128662872, 0.22498852128662872, 0.22498852128662872, 0.22498852128662872, 0.22498852128662872, 0.22498852128662872, 0.22498852128662872, 0.22498852128662872, 0.22498852128662872, 0.22498852128662872, 0.22498852128662872, 0.22498852128662872, 0.22498852128662872, 0.22498852128662872, 0.22498852128662872, 0.22498852128662872, 0.22498852128662872, 0.22498852128662872, 0.22498852128662872, 0.22498852128662872, 0.22498852128662872, 0.22498852128662872, 0.22498852128662872, 0.22498852128662872, 0.22498852128662872, 0.22498852128662872, 0.22498852128662872, 0.22498852128662872, 0.22498852128662872, 0.22498852128662872, 0.22498852128662872, 0.22498852128662872, 0.22498852128662872, 0.22498852128662872, 0.22498852128662872, 0.22498852128662872, 0.22498852128662872, 0.22498852128662872, 0.22498852128662872, 0.22498852128662872, 0.22498852128662872, 0.22498852128662872, 0.22498852128662872, 0.22498852128662872, 0.22498852128662872, 0.22498852128662872, 0.22498852128662872, 0.22498852128662872, 0.22498852128662872, 0.22498852128662872, 0.22498852128662872, 0.22498852128662872, 0.22498852128662872, 0.22498852128662872, 0.22498852128662872, 0.22498852128662872, 0.22498852128662872, 0.22498852128662872, 0.22498852128662872, 0.22498852128662872, 0.22498852128662872, 0.22498852128662872, 0.22498852128662872, 0.22498852128662872, 0.22498852128662872, 0.22498852128662872, 0.22498852128662872, 0.22498852128662872, 0.22498852128662872, 0.22498852128662872, 0.22498852128662872, 0.22498852128662872, 0.22498852128662872, 0.22498852128662872, 0.22498852128662872, 0.22498852128662872, 0.22498852128662872, 0.22498852128662872, 0.22498852128662872, 0.22498852128662872, 0.22498852128662872, 0.22498852128662872, 0.22498852128662872, 0.22498852128662872, 0.22498852128662872, 0.22498852128662872, 0.22498852128662872, 0.22498852128662872, 0.22498852128662872, 0.22498852128662872, 0.22498852128662872, 0.22498852128662872, 0.22498852128662872, 0.22498852128662872, 0.22498852128662872, 0.22498852128662872, 0.22498852128662872, 0.22498852128662872, 0.22498852128662872, 0.22498852128662872, 0.22498852128662872, 0.22498852128662872, 0.22498852128662872, 0.22498852128662872, 0.22498852128662872, 0.22498852128662872, 0.22498852128662872, 0.22498852128662872, 0.22498852128662872, 0.22498852128662872, 0.22498852128662872, 0.22498852128662872, 0.22498852128662872, 0.22498852128662872, 0.22498852128662872, 0.22498852128662872, 0.22498852128662872, 0.22498852128662872, 0.22498852128662872, 0.22498852128662872, 0.22498852128662872, 0.22498852128662872, 0.22498852128662872, 0.22498852128662872, 0.22498852128662872, 0.22498852128662872, 0.22498852128662872, 0.22498852128662872, 0.22498852128662872, 0.22498852128662872, 0.22498852128662872, 0.22498852128662872, 0.22498852128662872, 0.22498852128662872, 0.22498852128662872, 0.22498852128662872, 0.22498852128662872, 0.22498852128662872, 0.22498852128662872, 0.22498852128662872, 0.22498852128662872, 0.22498852128662872, 0.22498852128662872, 0.22498852128662872, 0.22498852128662872, 0.22498852128662872, 0.22498852128662872, 0.22498852128662872, 0.22498852128662872, 0.22498852128662872, 0.22498852128662872, 0.22498852128662872, 0.22498852128662872, 0.22498852128662872, 0.22498852128662872, 0.22498852128662872, 0.22498852128662872, 0.22498852128662872, 0.22498852128662872, 0.22498852128662872, 0.22498852128662872, 0.22498852128662872, 0.22498852128662872, 0.22498852128662872, 0.22498852128662872, 0.22498852128662872, 0.22498852128662872, 0.22498852128662872, 0.22498852128662872, 0.22498852128662872, 0.22498852128662872, 0.22498852128662872, 0.22498852128662872, 0.22498852128662872, 0.22498852128662872, 0.22498852128662872, 0.22498852128662872, 0.22498852128662872, 0.22498852128662872, 0.22498852128662872, 0.22498852128662872, 0.22498852128662872, 0.22498852128662872, 0.22498852128662872, 0.22498852128662872, 0.22498852128662872, 0.22498852128662872, 0.22498852128662872, 0.22498852128662872, 0.22498852128662872, 0.22498852128662872, 0.22498852128662872, 0.22498852128662872, 0.22498852128662872, 0.22498852128662872, 0.22498852128662872, 0.22498852128662872, 0.22498852128662872, 0.22498852128662872, 0.22498852128662872, 0.22498852128662872, 0.22498852128662872, 0.22498852128662872, 0.22498852128662872, 0.22498852128662872, 0.22498852128662872, 0.22498852128662872, 0.22498852128662872, 0.22498852128662872, 0.22498852128662872, 0.22498852128662872, 0.22498852128662872, 0.22498852128662872, 0.22498852128662872, 0.22498852128662872, 0.22498852128662872, 0.22498852128662872, 0.22498852128662872, 0.22498852128662872, 0.22498852128662872, 0.22498852128662872, 0.22498852128662872, 0.22498852128662872, 0.22498852128662872, 0.22498852128662872, 0.22498852128662872, 0.22498852128662872, 0.22498852128662872, 0.22498852128662872, 0.22498852128662872, 0.22498852128662872, 0.22498852128662872, 0.22498852128662872, 0.22498852128662872, 0.22498852128662872, 0.22498852128662872, 0.22498852128662872, 0.22498852128662872, 0.22498852128662872, 0.22498852128662872, 0.22498852128662872, 0.22498852128662872, 0.22498852128662872, 0.22498852128662872, 0.22498852128662872, 0.22498852128662872, 0.22498852128662872, 0.22498852128662872, 0.22498852128662872, 0.22498852128662872, 0.22498852128662872, 0.22498852128662872, 0.22498852128662872, 0.22498852128662872, 0.22498852128662872, 0.22498852128662872, 0.22498852128662872, 0.22498852128662872, 0.22498852128662872, 0.22498852128662872, 0.22498852128662872, 0.22498852128662872, 0.22498852128662872, 0.22498852128662872, 0.22498852128662872, 0.22498852128662872, 0.22498852128662872, 0.22498852128662872, 0.22498852128662872, 0.22498852128662872, 0.22498852128662872, 0.22498852128662872, 0.22498852128662872, 0.22498852128662872, 0.22498852128662872, 0.22498852128662872, 0.22498852128662872, 0.22498852128662872, 0.22498852128662872, 0.22498852128662872, 0.22498852128662872, 0.22498852128662872, 0.22498852128662872, 0.22498852128662872, 0.22498852128662872, 0.22498852128662872, 0.22498852128662872, 0.22498852128662872, 0.22498852128662872, 0.22498852128662872, 0.22498852128662872, 0.22498852128662872, 0.22498852128662872, 0.22498852128662872, 0.22498852128662872, 0.22498852128662872, 0.22498852128662872, 0.22498852128662872, 0.22498852128662872, 0.22498852128662872, 0.22498852128662872, 0.22498852128662872, 0.22498852128662872, 0.22498852128662872, 0.22498852128662872, 0.22498852128662872, 0.22498852128662872, 0.22498852128662872, 0.22498852128662872, 0.22498852128662872, 0.22498852128662872, 0.22498852128662872, 0.22498852128662872, 0.22498852128662872, 0.22498852128662872, 0.22498852128662872, 0.22498852128662872, 0.22498852128662872, 0.22498852128662872, 0.22498852128662872, 0.22498852128662872, 0.22498852128662872, 0.22498852128662872, 0.22498852128662872, 0.22498852128662872, 0.22498852128662872, 0.22498852128662872, 0.22498852128662872, 0.22498852128662872, 0.22498852128662872, 0.22498852128662872, 0.22498852128662872, 0.22498852128662872, 0.22498852128662872, 0.22498852128662872, 0.22498852128662872, 0.22498852128662872, 0.22498852128662872, 0.22498852128662872, 0.22498852128662872, 0.22498852128662872, 0.22498852128662872, 0.22498852128662872, 0.22498852128662872, 0.22498852128662872, 0.22498852128662872, 0.22498852128662872, 0.22498852128662872, 0.22498852128662872, 0.22498852128662872, 0.22498852128662872, 0.22498852128662872, 0.22498852128662872, 0.22498852128662872, 0.22498852128662872, 0.22498852128662872, 0.22498852128662872, 0.22498852128662872, 0.22498852128662872, 0.22498852128662872, 0.22498852128662872, 0.22498852128662872, 0.22498852128662872, 0.22498852128662872, 0.22498852128662872, 0.22498852128662872, 0.22498852128662872, 0.22498852128662872, 0.22498852128662872, 0.22498852128662872, 0.22498852128662872, 0.22498852128662872, 0.22498852128662872, 0.22498852128662872, 0.22498852128662872, 0.22498852128662872, 0.22498852128662872, 0.22498852128662872, 0.22498852128662872, 0.22498852128662872, 0.22498852128662872, 0.22498852128662872, 0.22498852128662872, 0.22498852128662872, 0.22498852128662872, 0.22498852128662872, 0.22498852128662872, 0.22498852128662872, 0.22498852128662872, 0.22498852128662872, 0.22498852128662872, 0.22498852128662872, 0.22498852128662872, 0.22498852128662872, 0.22498852128662872, 0.22498852128662872, 0.22498852128662872, 0.22498852128662872, 0.22498852128662872, 0.22498852128662872, 0.22498852128662872, 0.22498852128662872, 0.22498852128662872, 0.22498852128662872, 0.22498852128662872, 0.22498852128662872, 0.22498852128662872, 0.22498852128662872, 0.22498852128662872, 0.22498852128662872, 0.22498852128662872, 0.22498852128662872, 0.22498852128662872, 0.22498852128662872, 0.22498852128662872, 0.22498852128662872, 0.22498852128662872, 0.22498852128662872, 0.22498852128662872, 0.22498852128662872, 0.22498852128662872, 0.22498852128662872, 0.22498852128662872, 0.22498852128662872, 0.22498852128662872, 0.22498852128662872, 0.22498852128662872, 0.22498852128662872, 0.22498852128662872, 0.22498852128662872, 0.22498852128662872, 0.22498852128662872, 0.22498852128662872, 0.22498852128662872, 0.22498852128662872, 0.22498852128662872, 0.22498852128662872, 0.22498852128662872, 0.22498852128662872, 0.22498852128662872, 0.22498852128662872, 0.22498852128662872, 0.22498852128662872, 0.22498852128662872, 0.22498852128662872, 0.22498852128662872, 0.22498852128662872, 0.22498852128662872, 0.22498852128662872, 0.22498852128662872, 0.22498852128662872, 0.22498852128662872, 0.22498852128662872, 0.22498852128662872, 0.22498852128662872, 0.22498852128662872, 0.22498852128662872, 0.22498852128662872, 0.22498852128662872, 0.22498852128662872, 0.22498852128662872, 0.22498852128662872, 0.22498852128662872, 0.22498852128662872, 0.22498852128662872, 0.22498852128662872, 0.22498852128662872, 0.22498852128662872, 0.22498852128662872, 0.22498852128662872, 0.22498852128662872, 0.22498852128662872, 0.22498852128662872, 0.22498852128662872, 0.22498852128662872, 0.22498852128662872, 0.22498852128662872, 0.22498852128662872, 0.22498852128662872, 0.22498852128662872, 0.22498852128662872, 0.22498852128662872, 0.22498852128662872, 0.22498852128662872, 0.22498852128662872, 0.22498852128662872, 0.22498852128662872, 0.22498852128662872, 0.22498852128662872, 0.22498852128662872, 0.22498852128662872, 0.22498852128662872, 0.22498852128662872, 0.22498852128662872, 0.22498852128662872, 0.22498852128662872, 0.22498852128662872, 0.22498852128662872, 0.22498852128662872, 0.22498852128662872, 0.22498852128662872, 0.22498852128662872, 0.22498852128662872, 0.22498852128662872, 0.22498852128662872, 0.22498852128662872, 0.22498852128662872, 0.22498852128662872, 0.22498852128662872, 0.22498852128662872, 0.22498852128662872, 0.22498852128662872, 0.22498852128662872, 0.22498852128662872, 0.22498852128662872, 0.22498852128662872, 0.22498852128662872, 0.22498852128662872, 0.22498852128662872, 0.22498852128662872, 0.22498852128662872, 0.22498852128662872, 0.22498852128662872, 0.22498852128662872, 0.22498852128662872, 0.22498852128662872, 0.22498852128662872, 0.22498852128662872, 0.22498852128662872, 0.22498852128662872, 0.22498852128662872, 0.22498852128662872, 0.22498852128662872, 0.22498852128662872, 0.22498852128662872, 0.22498852128662872, 0.22498852128662872, 0.22498852128662872, 0.22498852128662872, 0.22498852128662872, 0.22498852128662872, 0.22498852128662872, 0.22498852128662872, 0.22498852128662872, 0.22498852128662872, 0.22498852128662872, 0.22498852128662872, 0.22498852128662872, 0.22498852128662872, 0.22498852128662872, 0.22498852128662872, 0.22498852128662872, 0.22498852128662872, 0.22498852128662872, 0.22498852128662872, 0.22498852128662872, 0.22498852128662872, 0.22498852128662872, 0.22498852128662872, 0.22498852128662872, 0.22498852128662872, 0.22498852128662872, 0.22498852128662872, 0.22498852128662872, 0.22498852128662872, 0.22498852128662872, 0.22498852128662872, 0.22498852128662872, 0.22498852128662872, 0.22498852128662872, 0.22498852128662872, 0.22498852128662872, 0.22498852128662872, 0.22498852128662872, 0.22498852128662872, 0.22498852128662872, 0.22498852128662872, 0.22498852128662872, 0.22498852128662872, 0.22498852128662872, 0.22498852128662872, 0.22498852128662872, 0.22498852128662872, 0.22498852128662872, 0.22498852128662872, 0.22498852128662872, 0.22498852128662872, 0.22498852128662872, 0.22498852128662872, 0.22498852128662872, 0.22498852128662872, 0.22498852128662872, 0.22498852128662872, 0.22498852128662872, 0.22498852128662872, 0.22498852128662872, 0.22498852128662872, 0.22498852128662872, 0.22498852128662872, 0.22498852128662872, 0.22498852128662872, 0.22498852128662872, 0.22498852128662872, 0.22498852128662872, 0.22498852128662872, 0.22498852128662872, 0.22498852128662872, 0.22498852128662872, 0.22498852128662872, 0.22498852128662872, 0.22498852128662872, 0.22498852128662872, 0.22498852128662872, 0.22498852128662872, 0.22498852128662872, 0.22498852128662872, 0.22498852128662872, 0.22498852128662872, 0.22498852128662872, 0.22498852128662872, 0.22498852128662872, 0.22498852128662872, 0.22498852128662872, 0.22498852128662872, 0.22498852128662872, 0.22498852128662872, 0.22498852128662872, 0.22498852128662872, 0.22498852128662872, 0.22498852128662872, 0.22498852128662872, 0.22498852128662872, 0.22498852128662872, 0.22498852128662872, 0.22498852128662872, 0.22498852128662872, 0.22498852128662872, 0.22498852128662872, 0.22498852128662872, 0.22498852128662872, 0.22498852128662872, 0.22498852128662872, 0.22498852128662872, 0.22498852128662872, 0.22498852128662872, 0.22498852128662872, 0.22498852128662872, 0.22498852128662872, 0.22498852128662872, 0.22498852128662872, 0.22498852128662872, 0.22498852128662872, 0.22498852128662872, 0.22498852128662872, 0.22498852128662872, 0.22498852128662872, 0.22498852128662872, 0.22498852128662872, 0.22498852128662872, 0.22498852128662872, 0.22498852128662872, 0.22498852128662872, 0.22498852128662872, 0.22498852128662872, 0.22498852128662872, 0.22498852128662872, 0.22498852128662872, 0.22498852128662872, 0.22498852128662872, 0.22498852128662872, 0.22498852128662872, 0.22498852128662872, 0.22498852128662872, 0.22498852128662872, 0.22498852128662872, 0.22498852128662872, 0.22498852128662872, 0.22498852128662872, 0.22498852128662872, 0.22498852128662872, 0.22498852128662872, 0.22498852128662872, 0.22498852128662872, 0.22498852128662872, 0.22498852128662872, 0.22498852128662872, 0.22498852128662872, 0.22498852128662872, 0.22498852128662872, 0.22498852128662872, 0.22498852128662872, 0.22498852128662872, 0.22498852128662872, 0.22498852128662872, 0.22498852128662872, 0.22498852128662872, 0.22498852128662872, 0.22498852128662872, 0.22498852128662872, 0.22498852128662872, 0.22498852128662872, 0.22498852128662872, 0.22498852128662872, 0.22498852128662872, 0.22498852128662872, 0.22498852128662872, 0.22498852128662872, 0.22498852128662872, 0.22498852128662872, 0.22498852128662872, 0.22498852128662872, 0.22498852128662872, 0.22498852128662872, 0.22498852128662872, 0.22498852128662872, 0.22498852128662872, 0.22498852128662872, 0.22498852128662872, 0.22498852128662872, 0.22498852128662872, 0.22498852128662872, 0.22498852128662872, 0.22498852128662872, 0.22498852128662872, 0.22498852128662872, 0.22498852128662872, 0.22498852128662872, 0.22498852128662872, 0.22498852128662872, 0.22498852128662872, 0.22498852128662872, 0.22498852128662872, 0.22498852128662872, 0.22498852128662872, 0.22498852128662872, 0.22498852128662872, 0.22498852128662872, 0.22498852128662872, 0.22498852128662872, 0.22498852128662872, 0.22498852128662872, 0.22498852128662872, 0.22498852128662872, 0.22498852128662872, 0.22498852128662872, 0.22498852128662872, 0.22498852128662872, 0.22498852128662872, 0.22498852128662872, 0.22498852128662872, 0.22498852128662872, 0.22498852128662872, 0.22498852128662872, 0.22498852128662872, 0.22498852128662872, 0.22498852128662872, 0.22498852128662872, 0.22498852128662872, 0.22498852128662872, 0.22498852128662872, 0.22498852128662872, 0.22498852128662872, 0.22498852128662872, 0.22498852128662872, 0.22498852128662872, 0.22498852128662872, 0.22498852128662872, 0.22498852128662872, 0.22498852128662872, 0.22498852128662872, 0.22498852128662872, 0.22498852128662872, 0.22498852128662872, 0.22498852128662872, 0.22498852128662872, 0.22498852128662872, 0.22498852128662872, 0.22498852128662872, 0.22498852128662872, 0.22498852128662872, 0.22498852128662872, 0.22498852128662872, 0.22498852128662872, 0.22498852128662872, 0.22498852128662872, 0.22498852128662872, 0.22498852128662872, 0.22498852128662872, 0.22498852128662872, 0.22498852128662872, 0.22498852128662872, 0.22498852128662872, 0.22498852128662872, 0.22498852128662872, 0.22498852128662872, 0.22498852128662872, 0.22498852128662872, 0.22498852128662872, 0.22498852128662872, 0.22498852128662872, 0.22498852128662872, 0.22498852128662872, 0.22498852128662872, 0.22498852128662872, 0.22498852128662872, 0.22498852128662872, 0.22498852128662872, 0.22498852128662872, 0.22498852128662872, 0.22498852128662872, 0.22498852128662872, 0.22498852128662872, 0.22498852128662872, 0.22498852128662872, 0.22498852128662872, 0.22498852128662872, 0.22498852128662872, 0.22498852128662872, 0.22498852128662872, 0.22498852128662872, 0.22498852128662872, 0.22498852128662872, 0.22498852128662872, 0.22498852128662872, 0.22498852128662872, 0.22498852128662872, 0.22498852128662872, 0.22498852128662872, 0.22498852128662872, 0.22498852128662872, 0.22498852128662872, 0.22498852128662872, 0.22498852128662872, 0.22498852128662872, 0.22498852128662872, 0.22498852128662872, 0.22498852128662872, 0.22498852128662872, 0.22498852128662872, 0.22498852128662872, 0.22498852128662872, 0.22498852128662872, 0.22498852128662872, 0.22498852128662872, 0.22498852128662872, 0.22498852128662872, 0.22498852128662872, 0.22498852128662872, 0.22498852128662872, 0.22498852128662872, 0.22498852128662872, 0.22498852128662872, 0.22498852128662872, 0.22498852128662872, 0.22498852128662872, 0.22498852128662872, 0.22498852128662872, 0.22498852128662872, 0.22498852128662872, 0.22498852128662872, 0.22498852128662872, 0.22498852128662872, 0.22498852128662872, 0.22498852128662872, 0.22498852128662872, 0.22498852128662872, 0.22498852128662872, 0.22498852128662872, 0.22498852128662872, 0.22498852128662872, 0.22498852128662872, 0.22498852128662872, 0.22498852128662872, 0.22498852128662872, 0.22498852128662872, 0.22498852128662872, 0.22498852128662872, 0.22498852128662872, 0.22498852128662872, 0.22498852128662872, 0.22498852128662872, 0.22498852128662872, 0.22498852128662872, 0.22498852128662872, 0.22498852128662872, 0.22498852128662872, 0.22498852128662872, 0.22498852128662872, 0.22498852128662872, 0.22498852128662872, 0.22498852128662872, 0.22498852128662872, 0.22498852128662872, 0.22498852128662872, 0.22498852128662872, 0.22498852128662872, 0.22498852128662872, 0.22498852128662872, 0.22498852128662872, 0.22498852128662872, 0.22498852128662872, 0.22498852128662872, 0.22498852128662872, 0.22498852128662872, 0.22498852128662872, 0.22498852128662872, 0.22498852128662872, 0.22498852128662872, 0.22498852128662872, 0.22498852128662872, 0.22498852128662872, 0.22498852128662872, 0.22498852128662872, 0.22498852128662872, 0.22498852128662872, 0.22498852128662872, 0.22498852128662872, 0.22498852128662872, 0.22498852128662872, 0.22498852128662872, 0.22498852128662872, 0.22498852128662872, 0.22498852128662872, 0.22498852128662872, 0.22498852128662872, 0.22498852128662872, 0.22498852128662872, 0.22498852128662872, 0.22498852128662872, 0.22498852128662872, 0.22498852128662872, 0.22498852128662872, 0.22498852128662872, 0.22498852128662872, 0.22498852128662872, 0.22498852128662872, 0.22498852128662872, 0.22498852128662872, 0.22498852128662872, 0.22498852128662872, 0.22498852128662872, 0.22498852128662872, 0.22498852128662872, 0.22498852128662872, 0.22498852128662872, 0.22498852128662872, 0.22498852128662872, 0.22498852128662872, 0.22498852128662872, 0.22498852128662872, 0.22498852128662872, 0.22498852128662872, 0.22498852128662872, 0.22498852128662872, 0.22498852128662872, 0.22498852128662872, 0.22498852128662872, 0.22498852128662872, 0.22498852128662872, 0.22498852128662872, 0.22498852128662872, 0.22498852128662872, 0.22498852128662872, 0.22498852128662872, 0.22498852128662872, 0.22498852128662872, 0.22498852128662872, 0.22498852128662872, 0.22498852128662872, 0.22498852128662872, 0.22498852128662872, 0.22498852128662872, 0.22498852128662872, 0.22498852128662872, 0.22498852128662872, 0.22498852128662872, 0.22498852128662872, 0.22498852128662872, 0.22498852128662872, 0.22498852128662872, 0.22498852128662872, 0.22498852128662872, 0.22498852128662872, 0.22498852128662872, 0.22498852128662872, 0.22498852128662872, 0.22498852128662872, 0.22498852128662872, 0.22498852128662872, 0.22498852128662872, 0.22498852128662872, 0.22498852128662872, 0.22498852128662872, 0.22498852128662872, 0.22498852128662872, 0.22498852128662872, 0.22498852128662872, 0.22498852128662872, 0.22498852128662872, 0.22498852128662872, 0.22498852128662872, 0.22498852128662872, 0.22498852128662872, 0.22498852128662872, 0.22498852128662872, 0.22498852128662872, 0.22498852128662872, 0.22498852128662872, 0.22498852128662872, 0.22498852128662872, 0.22498852128662872, 0.22498852128662872, 0.22498852128662872, 0.22498852128662872, 0.22498852128662872, 0.22498852128662872, 0.22498852128662872, 0.22498852128662872, 0.22498852128662872, 0.22498852128662872, 0.22498852128662872, 0.22498852128662872, 0.22498852128662872, 0.22498852128662872, 0.22498852128662872, 0.22498852128662872, 0.22498852128662872, 0.22498852128662872, 0.22498852128662872, 0.22498852128662872, 0.22498852128662872, 0.22498852128662872, 0.22498852128662872, 0.22498852128662872, 0.22498852128662872, 0.22498852128662872, 0.22498852128662872, 0.22498852128662872, 0.22498852128662872, 0.22498852128662872, 0.22498852128662872, 0.22498852128662872, 0.22498852128662872, 0.22498852128662872, 0.22498852128662872, 0.22498852128662872, 0.22498852128662872, 0.22498852128662872, 0.22498852128662872, 0.22498852128662872, 0.22498852128662872, 0.22498852128662872, 0.22498852128662872, 0.22498852128662872, 0.22498852128662872, 0.22498852128662872, 0.22498852128662872, 0.22498852128662872, 0.22498852128662872, 0.22498852128662872, 0.22498852128662872, 0.22498852128662872, 0.22498852128662872, 0.22498852128662872, 0.22498852128662872, 0.22498852128662872, 0.22498852128662872, 0.22498852128662872, 0.22498852128662872, 0.22498852128662872, 0.22498852128662872, 0.22498852128662872, 0.22498852128662872, 0.22498852128662872, 0.22498852128662872, 0.22498852128662872, 0.22498852128662872, 0.22498852128662872, 0.22498852128662872, 0.22498852128662872, 0.22498852128662872, 0.22498852128662872, 0.22498852128662872, 0.22498852128662872, 0.22498852128662872, 0.22498852128662872, 0.22498852128662872, 0.22498852128662872, 0.22498852128662872, 0.22498852128662872, 0.22498852128662872, 0.22498852128662872, 0.22498852128662872, 0.22498852128662872, 0.22498852128662872, 0.22498852128662872, 0.22498852128662872, 0.22498852128662872, 0.22498852128662872, 0.22498852128662872, 0.22498852128662872, 0.22498852128662872, 0.22498852128662872, 0.22498852128662872, 0.22498852128662872, 0.22498852128662872, 0.22498852128662872, 0.22498852128662872, 0.22498852128662872, 0.22498852128662872, 0.22498852128662872, 0.22498852128662872, 0.22498852128662872, 0.22498852128662872, 0.22498852128662872, 0.22498852128662872, 0.22498852128662872, 0.22498852128662872, 0.22498852128662872, 0.22498852128662872, 0.22498852128662872, 0.22498852128662872, 0.22498852128662872, 0.22498852128662872, 0.22498852128662872, 0.22498852128662872, 0.22498852128662872, 0.22498852128662872, 0.22498852128662872, 0.22498852128662872, 0.22498852128662872, 0.22498852128662872, 0.22498852128662872, 0.22498852128662872, 0.22498852128662872, 0.22498852128662872, 0.22498852128662872, 0.22498852128662872, 0.22498852128662872, 0.22498852128662872, 0.22498852128662872, 0.22498852128662872, 0.22498852128662872, 0.22498852128662872, 0.22498852128662872, 0.22498852128662872, 0.22498852128662872, 0.22498852128662872, 0.22498852128662872, 0.22498852128662872, 0.22498852128662872, 0.22498852128662872, 0.22498852128662872, 0.22498852128662872, 0.22498852128662872, 0.22498852128662872, 0.22498852128662872, 0.22498852128662872, 0.22498852128662872, 0.22498852128662872, 0.22498852128662872, 0.22498852128662872, 0.22498852128662872, 0.22498852128662872, 0.22498852128662872, 0.22498852128662872, 0.22498852128662872, 0.22498852128662872, 0.22498852128662872, 0.22498852128662872, 0.22498852128662872, 0.22498852128662872, 0.22498852128662872, 0.22498852128662872, 0.22498852128662872, 0.22498852128662872, 0.22498852128662872, 0.22498852128662872, 0.22498852128662872, 0.22498852128662872, 0.22498852128662872, 0.22498852128662872, 0.22498852128662872, 0.22498852128662872, 0.22498852128662872, 0.22498852128662872, 0.22498852128662872, 0.22498852128662872, 0.22498852128662872, 0.22498852128662872, 0.22498852128662872, 0.22498852128662872, 0.22498852128662872, 0.22498852128662872, 0.22498852128662872, 0.22498852128662872, 0.22498852128662872, 0.22498852128662872, 0.22498852128662872, 0.22498852128662872, 0.22498852128662872, 0.22498852128662872, 0.22498852128662872, 0.22498852128662872, 0.22498852128662872, 0.22498852128662872, 0.22498852128662872, 0.22498852128662872, 0.22498852128662872, 0.22498852128662872, 0.22498852128662872, 0.22498852128662872, 0.22498852128662872, 0.22498852128662872, 0.22498852128662872, 0.22498852128662872, 0.22498852128662872, 0.22498852128662872, 0.22498852128662872, 0.22498852128662872, 0.22498852128662872, 0.22498852128662872, 0.22498852128662872, 0.22498852128662872, 0.22498852128662872, 0.22498852128662872, 0.22498852128662872, 0.22498852128662872, 0.22498852128662872, 0.22498852128662872, 0.22498852128662872, 0.22498852128662872, 0.22498852128662872, 0.22498852128662872, 0.22498852128662872, 0.22498852128662872, 0.22498852128662872, 0.22498852128662872, 0.22498852128662872, 0.22498852128662872, 0.22498852128662872, 0.22498852128662872, 0.22498852128662872, 0.22498852128662872, 0.22498852128662872, 0.22498852128662872, 0.22498852128662872, 0.22498852128662872, 0.22498852128662872, 0.22498852128662872, 0.22498852128662872, 0.22498852128662872, 0.22498852128662872, 0.22498852128662872, 0.22498852128662872, 0.22498852128662872, 0.22498852128662872, 0.22498852128662872, 0.22498852128662872, 0.22498852128662872, 0.22498852128662872, 0.22498852128662872, 0.22498852128662872, 0.22498852128662872, 0.22498852128662872, 0.22498852128662872, 0.22498852128662872, 0.22498852128662872, 0.22498852128662872, 0.22498852128662872, 0.22498852128662872, 0.22498852128662872, 0.22498852128662872, 0.22498852128662872, 0.22498852128662872, 0.22498852128662872, 0.22498852128662872, 0.22498852128662872, 0.22498852128662872, 0.22498852128662872, 0.22498852128662872, 0.22498852128662872, 0.22498852128662872, 0.22498852128662872, 0.22498852128662872, 0.22498852128662872, 0.22498852128662872, 0.22498852128662872, 0.22498852128662872, 0.22498852128662872, 0.22498852128662872, 0.22498852128662872, 0.22498852128662872, 0.22498852128662872, 0.22498852128662872, 0.22498852128662872, 0.22498852128662872, 0.22498852128662872, 0.22498852128662872, 0.22498852128662872, 0.22498852128662872, 0.22498852128662872, 0.22498852128662872, 0.22498852128662872, 0.22498852128662872, 0.22498852128662872, 0.22498852128662872, 0.22498852128662872, 0.22498852128662872, 0.22498852128662872, 0.22498852128662872, 0.22498852128662872, 0.22498852128662872, 0.22498852128662872, 0.22498852128662872, 0.22498852128662872, 0.22498852128662872, 0.22498852128662872, 0.22498852128662872, 0.22498852128662872, 0.22498852128662872, 0.22498852128662872, 0.22498852128662872, 0.22498852128662872, 0.22498852128662872, 0.22498852128662872, 0.22498852128662872, 0.22498852128662872, 0.22498852128662872, 0.22498852128662872, 0.22498852128662872, 0.22498852128662872, 0.22498852128662872, 0.22498852128662872, 0.22498852128662872, 0.22498852128662872, 0.22498852128662872, 0.22498852128662872, 0.22498852128662872, 0.22498852128662872, 0.22498852128662872, 0.22498852128662872, 0.22498852128662872, 0.22498852128662872, 0.22498852128662872, 0.22498852128662872, 0.22498852128662872, 0.22498852128662872, 0.22498852128662872, 0.22498852128662872, 0.22498852128662872, 0.22498852128662872, 0.22498852128662872, 0.22498852128662872, 0.22498852128662872, 0.22498852128662872, 0.22498852128662872, 0.22498852128662872, 0.22498852128662872, 0.22498852128662872, 0.22498852128662872, 0.22498852128662872, 0.22498852128662872, 0.22498852128662872, 0.22498852128662872, 0.22498852128662872, 0.22498852128662872, 0.22498852128662872, 0.22498852128662872, 0.22498852128662872, 0.22498852128662872, 0.22498852128662872, 0.22498852128662872, 0.22498852128662872, 0.22498852128662872, 0.22498852128662872, 0.22498852128662872, 0.22498852128662872, 0.22498852128662872, 0.22498852128662872, 0.22498852128662872, 0.22498852128662872, 0.22498852128662872, 0.22498852128662872, 0.22498852128662872, 0.22498852128662872, 0.22498852128662872, 0.22498852128662872, 0.22498852128662872, 0.22498852128662872, 0.22498852128662872, 0.22498852128662872, 0.22498852128662872, 0.22498852128662872, 0.22498852128662872, 0.22498852128662872, 0.22498852128662872, 0.22498852128662872, 0.22498852128662872, 0.22498852128662872, 0.22498852128662872, 0.22498852128662872, 0.22498852128662872, 0.22498852128662872, 0.22498852128662872, 0.22498852128662872, 0.22498852128662872, 0.22498852128662872, 0.22498852128662872, 0.22498852128662872, 0.22498852128662872, 0.22498852128662872, 0.22498852128662872, 0.22498852128662872, 0.22498852128662872, 0.22498852128662872, 0.22498852128662872, 0.22498852128662872, 0.22498852128662872, 0.22498852128662872, 0.22498852128662872, 0.22498852128662872, 0.22498852128662872, 0.22498852128662872, 0.22498852128662872, 0.22498852128662872, 0.22498852128662872, 0.22498852128662872, 0.22498852128662872, 0.22498852128662872, 0.22498852128662872, 0.22498852128662872, 0.22498852128662872, 0.22498852128662872, 0.22498852128662872, 0.22498852128662872, 0.22498852128662872, 0.22498852128662872, 0.22498852128662872, 0.22498852128662872, 0.22498852128662872, 0.22498852128662872, 0.22498852128662872, 0.22498852128662872, 0.22498852128662872, 0.22498852128662872, 0.22498852128662872, 0.22498852128662872, 0.22498852128662872, 0.22498852128662872, 0.22498852128662872, 0.22498852128662872, 0.22498852128662872, 0.22498852128662872, 0.22498852128662872, 0.22498852128662872, 0.22498852128662872, 0.22498852128662872, 0.22498852128662872, 0.22498852128662872, 0.22498852128662872, 0.22498852128662872, 0.22498852128662872, 0.22498852128662872, 0.22498852128662872, 0.22498852128662872, 0.22498852128662872, 0.22498852128662872, 0.22498852128662872, 0.22498852128662872, 0.22498852128662872, 0.22498852128662872, 0.22498852128662872, 0.22498852128662872, 0.22498852128662872, 0.22498852128662872, 0.22498852128662872, 0.22498852128662872, 0.22498852128662872, 0.22498852128662872, 0.22498852128662872, 0.22498852128662872, 0.22498852128662872, 0.22498852128662872, 0.22498852128662872, 0.22498852128662872, 0.22498852128662872, 0.22498852128662872, 0.22498852128662872, 0.22498852128662872, 0.22498852128662872, 0.22498852128662872, 0.22498852128662872, 0.22498852128662872, 0.22498852128662872, 0.22498852128662872, 0.22498852128662872, 0.22498852128662872, 0.22498852128662872, 0.22498852128662872, 0.22498852128662872, 0.22498852128662872, 0.22498852128662872, 0.22498852128662872, 0.22498852128662872, 0.22498852128662872, 0.22498852128662872, 0.22498852128662872, 0.22498852128662872, 0.22498852128662872, 0.22498852128662872, 0.22498852128662872, 0.22498852128662872, 0.22498852128662872, 0.22498852128662872, 0.22498852128662872, 0.22498852128662872, 0.22498852128662872, 0.22498852128662872, 0.22498852128662872, 0.22498852128662872, 0.22498852128662872, 0.22498852128662872, 0.22498852128662872, 0.22498852128662872, 0.22498852128662872, 0.22498852128662872, 0.22498852128662872, 0.22498852128662872, 0.22498852128662872, 0.22498852128662872, 0.22498852128662872, 0.22498852128662872, 0.22498852128662872, 0.22498852128662872, 0.22498852128662872, 0.22498852128662872, 0.22498852128662872, 0.22498852128662872, 0.22498852128662872, 0.22498852128662872, 0.22498852128662872, 0.22498852128662872, 0.22498852128662872, 0.22498852128662872, 0.22498852128662872, 0.22498852128662872, 0.22498852128662872, 0.22498852128662872, 0.22498852128662872, 0.22498852128662872, 0.22498852128662872, 0.22498852128662872, 0.22498852128662872, 0.22498852128662872, 0.22498852128662872, 0.22498852128662872, 0.22498852128662872, 0.22498852128662872, 0.22498852128662872, 0.22498852128662872, 0.22498852128662872, 0.22498852128662872, 0.22498852128662872, 0.22498852128662872, 0.22498852128662872, 0.22498852128662872, 0.22498852128662872, 0.22498852128662872, 0.22498852128662872, 0.22498852128662872, 0.22498852128662872, 0.22498852128662872, 0.22498852128662872, 0.22498852128662872, 0.22498852128662872, 0.22498852128662872, 0.22498852128662872, 0.22498852128662872, 0.22498852128662872, 0.22498852128662872, 0.22498852128662872, 0.22498852128662872, 0.22498852128662872, 0.22498852128662872, 0.22498852128662872, 0.22498852128662872, 0.22498852128662872, 0.22498852128662872, 0.22498852128662872, 0.22498852128662872, 0.22498852128662872, 0.22498852128662872, 0.22498852128662872, 0.22498852128662872, 0.22498852128662872, 0.22498852128662872, 0.22498852128662872, 0.22498852128662872, 0.22498852128662872, 0.22498852128662872, 0.22498852128662872, 0.22498852128662872, 0.22498852128662872, 0.22498852128662872, 0.22498852128662872, 0.22498852128662872, 0.22498852128662872, 0.22498852128662872, 0.22498852128662872, 0.22498852128662872, 0.22498852128662872, 0.22498852128662872, 0.22498852128662872, 0.22498852128662872, 0.22498852128662872, 0.22498852128662872, 0.22498852128662872, 0.22498852128662872, 0.22498852128662872, 0.22498852128662872, 0.22498852128662872, 0.22498852128662872, 0.22498852128662872, 0.22498852128662872, 0.22498852128662872, 0.22498852128662872, 0.22498852128662872, 0.22498852128662872, 0.22498852128662872, 0.22498852128662872, 0.22498852128662872, 0.22498852128662872, 0.22498852128662872, 0.22498852128662872, 0.22498852128662872, 0.22498852128662872, 0.22498852128662872, 0.22498852128662872, 0.22498852128662872, 0.22498852128662872, 0.22498852128662872, 0.22498852128662872, 0.22498852128662872, 0.22498852128662872, 0.22498852128662872, 0.22498852128662872, 0.22498852128662872, 0.22498852128662872, 0.22498852128662872, 0.22498852128662872, 0.22498852128662872, 0.22498852128662872, 0.22498852128662872, 0.22498852128662872, 0.22498852128662872, 0.22498852128662872, 0.22498852128662872, 0.22498852128662872, 0.22498852128662872, 0.22498852128662872, 0.22498852128662872, 0.22498852128662872, 0.22498852128662872, 0.22498852128662872, 0.22498852128662872, 0.22498852128662872, 0.22498852128662872, 0.22498852128662872, 0.22498852128662872, 0.22498852128662872, 0.22498852128662872, 0.22498852128662872, 0.22498852128662872, 0.22498852128662872, 0.22498852128662872, 0.22498852128662872, 0.22498852128662872, 0.22498852128662872, 0.22498852128662872, 0.22498852128662872, 0.22498852128662872, 0.22498852128662872, 0.22498852128662872, 0.22498852128662872, 0.22498852128662872, 0.22498852128662872, 0.22498852128662872, 0.22498852128662872, 0.22498852128662872, 0.22498852128662872, 0.22498852128662872, 0.22498852128662872, 0.22498852128662872, 0.22498852128662872, 0.22498852128662872, 0.22498852128662872, 0.22498852128662872, 0.22498852128662872, 0.22498852128662872, 0.22498852128662872, 0.22498852128662872, 0.22498852128662872, 0.22498852128662872, 0.22498852128662872, 0.22498852128662872, 0.22498852128662872, 0.22498852128662872, 0.22498852128662872, 0.22498852128662872, 0.22498852128662872, 0.22498852128662872, 0.22498852128662872, 0.22498852128662872, 0.22498852128662872, 0.22498852128662872, 0.22498852128662872, 0.22498852128662872, 0.22498852128662872, 0.22498852128662872, 0.22498852128662872, 0.22498852128662872, 0.22498852128662872, 0.22498852128662872, 0.22498852128662872, 0.22498852128662872, 0.22498852128662872, 0.22498852128662872, 0.22498852128662872, 0.22498852128662872, 0.22498852128662872, 0.22498852128662872, 0.22498852128662872, 0.22498852128662872, 0.22498852128662872, 0.22498852128662872, 0.22498852128662872, 0.22498852128662872, 0.22498852128662872, 0.22498852128662872, 0.22498852128662872, 0.22498852128662872, 0.22498852128662872, 0.22498852128662872, 0.22498852128662872, 0.22498852128662872, 0.22498852128662872, 0.22498852128662872, 0.22498852128662872, 0.22498852128662872, 0.22498852128662872, 0.22498852128662872, 0.22498852128662872, 0.22498852128662872, 0.22498852128662872, 0.22498852128662872, 0.22498852128662872, 0.22498852128662872, 0.22498852128662872, 0.22498852128662872, 0.22498852128662872, 0.22498852128662872, 0.22498852128662872, 0.22498852128662872, 0.22498852128662872, 0.22498852128662872, 0.22498852128662872, 0.22498852128662872, 0.22498852128662872, 0.22498852128662872, 0.22498852128662872, 0.22498852128662872, 0.22498852128662872, 0.22498852128662872, 0.22498852128662872, 0.22498852128662872, 0.22498852128662872, 0.22498852128662872, 0.22498852128662872, 0.22498852128662872, 0.22498852128662872, 0.22498852128662872, 0.22498852128662872, 0.22498852128662872, 0.22498852128662872, 0.22498852128662872, 0.22498852128662872, 0.22498852128662872, 0.22498852128662872, 0.22498852128662872, 0.22498852128662872, 0.22498852128662872, 0.22498852128662872, 0.22498852128662872, 0.22498852128662872, 0.22498852128662872, 0.22498852128662872, 0.22498852128662872, 0.22498852128662872, 0.22498852128662872, 0.22498852128662872, 0.22498852128662872, 0.22498852128662872, 0.22498852128662872, 0.22498852128662872, 0.22498852128662872, 0.22498852128662872, 0.22498852128662872, 0.22498852128662872, 0.22498852128662872, 0.22498852128662872, 0.22498852128662872, 0.22498852128662872, 0.22498852128662872, 0.22498852128662872, 0.22498852128662872, 0.22498852128662872, 0.22498852128662872, 0.22498852128662872, 0.22498852128662872, 0.22498852128662872, 0.22498852128662872, 0.22498852128662872, 0.22498852128662872, 0.22498852128662872, 0.22498852128662872, 0.22498852128662872, 0.22498852128662872, 0.22498852128662872, 0.22498852128662872, 0.22498852128662872, 0.22498852128662872, 0.22498852128662872, 0.22498852128662872, 0.22498852128662872, 0.22498852128662872, 0.22498852128662872, 0.22498852128662872, 0.22498852128662872, 0.22498852128662872, 0.22498852128662872, 0.22498852128662872, 0.22498852128662872, 0.22498852128662872, 0.22498852128662872, 0.22498852128662872, 0.22498852128662872, 0.22498852128662872, 0.22498852128662872, 0.22498852128662872, 0.22498852128662872, 0.22498852128662872, 0.22498852128662872, 0.22498852128662872, 0.22498852128662872, 0.22498852128662872, 0.22498852128662872, 0.22498852128662872, 0.22498852128662872, 0.22498852128662872, 0.22498852128662872, 0.22498852128662872, 0.22498852128662872, 0.22498852128662872, 0.22498852128662872, 0.22498852128662872, 0.22498852128662872, 0.22498852128662872, 0.22498852128662872, 0.22498852128662872, 0.22498852128662872, 0.22498852128662872, 0.22498852128662872, 0.22498852128662872, 0.22498852128662872, 0.22498852128662872, 0.22498852128662872, 0.22498852128662872, 0.22498852128662872, 0.22498852128662872, 0.22498852128662872, 0.22498852128662872, 0.22498852128662872, 0.22498852128662872, 0.22498852128662872, 0.22498852128662872, 0.22498852128662872, 0.22498852128662872, 0.22498852128662872, 0.22498852128662872, 0.22498852128662872, 0.22498852128662872, 0.22498852128662872, 0.22498852128662872, 0.22498852128662872, 0.22498852128662872, 0.22498852128662872, 0.22498852128662872, 0.22498852128662872, 0.22498852128662872, 0.22498852128662872, 0.22498852128662872, 0.22498852128662872, 0.22498852128662872, 0.22498852128662872, 0.22498852128662872, 0.22498852128662872, 0.22498852128662872, 0.22498852128662872, 0.22498852128662872, 0.22498852128662872, 0.22498852128662872, 0.22498852128662872, 0.22498852128662872, 0.22498852128662872, 0.22498852128662872, 0.22498852128662872, 0.22498852128662872, 0.22498852128662872, 0.22498852128662872, 0.22498852128662872, 0.22498852128662872, 0.22498852128662872, 0.22498852128662872, 0.22498852128662872, 0.22498852128662872, 0.22498852128662872, 0.22498852128662872, 0.22498852128662872, 0.22498852128662872, 0.22498852128662872, 0.22498852128662872, 0.22498852128662872, 0.22498852128662872, 0.22498852128662872, 0.22498852128662872, 0.22498852128662872, 0.22498852128662872, 0.22498852128662872, 0.22498852128662872, 0.22498852128662872, 0.22498852128662872, 0.22498852128662872, 0.22498852128662872, 0.22498852128662872, 0.22498852128662872, 0.22498852128662872, 0.22498852128662872, 0.22498852128662872, 0.22498852128662872, 0.22498852128662872, 0.22498852128662872, 0.22498852128662872, 0.22498852128662872, 0.22498852128662872, 0.22498852128662872, 0.22498852128662872, 0.22498852128662872, 0.22498852128662872, 0.22498852128662872, 0.22498852128662872, 0.22498852128662872, 0.22498852128662872, 0.22498852128662872, 0.22498852128662872, 0.22498852128662872, 0.22498852128662872, 0.22498852128662872, 0.22498852128662872, 0.22498852128662872, 0.22498852128662872, 0.22498852128662872, 0.22498852128662872, 0.22498852128662872, 0.22498852128662872, 0.22498852128662872, 0.22498852128662872, 0.22498852128662872, 0.22498852128662872, 0.22498852128662872, 0.22498852128662872, 0.22498852128662872, 0.22498852128662872, 0.22498852128662872, 0.22498852128662872, 0.22498852128662872, 0.22498852128662872, 0.22498852128662872, 0.22498852128662872, 0.22498852128662872, 0.22498852128662872, 0.22498852128662872, 0.22498852128662872, 0.22498852128662872, 0.22498852128662872, 0.22498852128662872, 0.22498852128662872, 0.22498852128662872, 0.22498852128662872, 0.22498852128662872, 0.22498852128662872, 0.22498852128662872, 0.22498852128662872, 0.22498852128662872, 0.22498852128662872, 0.22498852128662872, 0.22498852128662872, 0.22498852128662872, 0.22498852128662872, 0.22498852128662872, 0.22498852128662872, 0.22498852128662872, 0.22498852128662872, 0.22498852128662872, 0.22498852128662872, 0.22498852128662872, 0.22498852128662872, 0.22498852128662872, 0.22498852128662872, 0.22498852128662872, 0.22498852128662872, 0.22498852128662872, 0.22498852128662872, 0.22498852128662872, 0.22498852128662872, 0.22498852128662872, 0.22498852128662872, 0.22498852128662872, 0.22498852128662872, 0.22498852128662872, 0.22498852128662872, 0.22498852128662872, 0.22498852128662872, 0.22498852128662872, 0.22498852128662872, 0.22498852128662872, 0.22498852128662872, 0.22498852128662872, 0.22498852128662872, 0.22498852128662872, 0.22498852128662872, 0.22498852128662872, 0.22498852128662872, 0.22498852128662872, 0.22498852128662872, 0.22498852128662872, 0.22498852128662872, 0.22498852128662872, 0.22498852128662872, 0.22498852128662872, 0.22498852128662872, 0.22498852128662872, 0.22498852128662872, 0.22498852128662872, 0.22498852128662872, 0.22498852128662872, 0.22498852128662872, 0.22498852128662872, 0.22498852128662872, 0.22498852128662872, 0.22498852128662872, 0.22498852128662872, 0.22498852128662872, 0.22498852128662872, 0.22498852128662872, 0.22498852128662872, 0.22498852128662872, 0.22498852128662872, 0.22498852128662872, 0.22498852128662872, 0.22498852128662872, 0.22498852128662872, 0.22498852128662872, 0.22498852128662872, 0.22498852128662872, 0.22498852128662872, 0.22498852128662872, 0.22498852128662872, 0.22498852128662872, 0.22498852128662872, 0.22498852128662872, 0.22498852128662872, 0.22498852128662872, 0.22498852128662872, 0.22498852128662872, 0.22498852128662872, 0.22498852128662872, 0.22498852128662872, 0.22498852128662872, 0.22498852128662872, 0.22498852128662872, 0.22498852128662872, 0.22498852128662872, 0.22498852128662872, 0.22498852128662872, 0.22498852128662872, 0.22498852128662872, 0.22498852128662872, 0.22498852128662872, 0.22498852128662872, 0.22498852128662872, 0.22498852128662872, 0.22498852128662872, 0.22498852128662872, 0.22498852128662872, 0.22498852128662872, 0.22498852128662872, 0.22498852128662872, 0.22498852128662872, 0.22498852128662872, 0.22498852128662872, 0.22498852128662872, 0.22498852128662872, 0.22498852128662872, 0.22498852128662872, 0.22498852128662872, 0.22498852128662872, 0.22498852128662872, 0.22498852128662872, 0.22498852128662872, 0.22498852128662872, 0.22498852128662872, 0.22498852128662872, 0.22498852128662872, 0.22498852128662872, 0.22498852128662872, 0.22498852128662872, 0.22498852128662872, 0.22498852128662872, 0.22498852128662872, 0.22498852128662872, 0.22498852128662872, 0.22498852128662872, 0.22498852128662872, 0.22498852128662872, 0.22498852128662872, 0.22498852128662872, 0.22498852128662872, 0.22498852128662872, 0.22498852128662872, 0.22498852128662872, 0.22498852128662872, 0.22498852128662872, 0.22498852128662872, 0.22498852128662872, 0.22498852128662872, 0.22498852128662872, 0.22498852128662872, 0.22498852128662872, 0.22498852128662872, 0.22498852128662872, 0.22498852128662872, 0.22498852128662872, 0.22498852128662872, 0.22498852128662872, 0.22498852128662872, 0.22498852128662872, 0.22498852128662872, 0.22498852128662872, 0.22498852128662872, 0.22498852128662872, 0.22498852128662872, 0.22498852128662872, 0.22498852128662872, 0.22498852128662872, 0.22498852128662872, 0.22498852128662872, 0.22498852128662872, 0.22498852128662872, 0.22498852128662872, 0.22498852128662872, 0.22498852128662872, 0.22498852128662872, 0.22498852128662872, 0.22498852128662872, 0.22498852128662872, 0.22498852128662872, 0.22498852128662872, 0.22498852128662872, 0.22498852128662872, 0.22498852128662872, 0.22498852128662872, 0.22498852128662872, 0.22498852128662872, 0.22498852128662872, 0.22498852128662872, 0.22498852128662872, 0.22498852128662872, 0.22498852128662872, 0.22498852128662872, 0.22498852128662872, 0.22498852128662872, 0.22498852128662872, 0.22498852128662872, 0.22498852128662872, 0.22498852128662872, 0.22498852128662872, 0.22498852128662872, 0.22498852128662872, 0.22498852128662872, 0.22498852128662872, 0.22498852128662872, 0.22498852128662872, 0.22498852128662872, 0.22498852128662872, 0.22498852128662872, 0.22498852128662872, 0.22498852128662872, 0.22498852128662872, 0.22498852128662872, 0.22498852128662872, 0.22498852128662872, 0.22498852128662872, 0.22498852128662872, 0.22498852128662872, 0.22498852128662872, 0.22498852128662872, 0.22498852128662872, 0.22498852128662872, 0.22498852128662872, 0.22498852128662872, 0.22498852128662872, 0.22498852128662872, 0.22498852128662872, 0.22498852128662872, 0.22498852128662872, 0.22498852128662872, 0.22498852128662872, 0.22498852128662872, 0.22498852128662872, 0.22498852128662872, 0.22498852128662872, 0.22498852128662872, 0.22498852128662872, 0.22498852128662872, 0.22498852128662872, 0.22498852128662872, 0.22498852128662872, 0.22498852128662872, 0.22498852128662872, 0.22498852128662872, 0.22498852128662872, 0.22498852128662872, 0.22498852128662872, 0.22498852128662872, 0.22498852128662872, 0.22498852128662872, 0.22498852128662872, 0.22498852128662872, 0.22498852128662872, 0.22498852128662872, 0.22498852128662872, 0.22498852128662872, 0.22498852128662872, 0.22498852128662872, 0.22498852128662872, 0.22498852128662872, 0.22498852128662872, 0.22498852128662872, 0.22498852128662872, 0.22498852128662872, 0.22498852128662872, 0.22498852128662872, 0.22498852128662872, 0.22498852128662872, 0.22498852128662872, 0.22498852128662872, 0.22498852128662872, 0.22498852128662872, 0.22498852128662872, 0.22498852128662872, 0.22498852128662872, 0.22498852128662872, 0.22498852128662872, 0.22498852128662872, 0.22498852128662872, 0.22498852128662872, 0.22498852128662872, 0.22498852128662872, 0.22498852128662872, 0.22498852128662872, 0.22498852128662872, 0.22498852128662872, 0.22498852128662872, 0.22498852128662872, 0.22498852128662872, 0.22498852128662872, 0.22498852128662872, 0.22498852128662872, 0.22498852128662872, 0.22498852128662872, 0.22498852128662872, 0.22498852128662872, 0.22498852128662872, 0.22498852128662872, 0.22498852128662872, 0.22498852128662872, 0.22498852128662872, 0.22498852128662872, 0.22498852128662872, 0.22498852128662872, 0.22498852128662872, 0.22498852128662872, 0.22498852128662872, 0.22498852128662872, 0.22498852128662872, 0.22498852128662872, 0.22498852128662872, 0.22498852128662872, 0.22498852128662872, 0.22498852128662872, 0.22498852128662872, 0.22498852128662872, 0.22498852128662872, 0.22498852128662872, 0.22498852128662872, 0.22498852128662872, 0.22498852128662872, 0.22498852128662872, 0.22498852128662872, 0.22498852128662872, 0.22498852128662872, 0.22498852128662872, 0.22498852128662872, 0.22498852128662872, 0.22498852128662872, 0.22498852128662872, 0.22498852128662872, 0.22498852128662872, 0.22498852128662872, 0.22498852128662872, 0.22498852128662872, 0.22498852128662872, 0.22498852128662872, 0.22498852128662872, 0.22498852128662872, 0.22498852128662872, 0.22498852128662872, 0.22498852128662872, 0.22498852128662872, 0.22498852128662872, 0.22498852128662872, 0.22498852128662872, 0.22498852128662872, 0.22498852128662872, 0.22498852128662872, 0.22498852128662872, 0.22498852128662872, 0.22498852128662872, 0.22498852128662872, 0.22498852128662872, 0.22498852128662872, 0.22498852128662872, 0.22498852128662872, 0.22498852128662872, 0.22498852128662872, 0.22498852128662872, 0.22498852128662872, 0.22498852128662872, 0.22498852128662872, 0.22498852128662872, 0.22498852128662872, 0.22498852128662872, 0.22498852128662872, 0.22498852128662872, 0.22498852128662872, 0.22498852128662872, 0.22498852128662872, 0.22498852128662872, 0.22498852128662872, 0.22498852128662872, 0.22498852128662872, 0.22498852128662872, 0.22498852128662872, 0.22498852128662872, 0.22498852128662872, 0.22498852128662872, 0.22498852128662872, 0.22498852128662872, 0.22498852128662872, 0.22498852128662872, 0.22498852128662872, 0.22498852128662872, 0.22498852128662872, 0.22498852128662872, 0.22498852128662872, 0.22498852128662872, 0.22498852128662872, 0.22498852128662872, 0.22498852128662872, 0.22498852128662872, 0.22498852128662872, 0.22498852128662872, 0.22498852128662872, 0.22498852128662872, 0.22498852128662872, 0.22498852128662872, 0.22498852128662872, 0.22498852128662872, 0.22498852128662872, 0.22498852128662872, 0.22498852128662872, 0.22498852128662872, 0.22498852128662872, 0.22498852128662872, 0.22498852128662872, 0.22498852128662872, 0.22498852128662872, 0.22498852128662872, 0.22498852128662872, 0.22498852128662872, 0.22498852128662872, 0.22498852128662872, 0.22498852128662872, 0.22498852128662872, 0.22498852128662872, 0.22498852128662872, 0.22498852128662872, 0.22498852128662872, 0.22498852128662872, 0.22498852128662872, 0.22498852128662872, 0.22498852128662872, 0.22498852128662872, 0.22498852128662872, 0.22498852128662872, 0.22498852128662872, 0.22498852128662872, 0.22498852128662872, 0.22498852128662872, 0.22498852128662872, 0.22498852128662872, 0.22498852128662872, 0.22498852128662872, 0.22498852128662872, 0.22498852128662872, 0.22498852128662872, 0.22498852128662872, 0.22498852128662872, 0.22498852128662872, 0.22498852128662872, 0.22498852128662872, 0.22498852128662872, 0.22498852128662872, 0.22498852128662872, 0.22498852128662872, 0.22498852128662872, 0.22498852128662872, 0.22498852128662872, 0.22498852128662872, 0.22498852128662872, 0.22498852128662872, 0.22498852128662872, 0.22498852128662872, 0.22498852128662872, 0.22498852128662872, 0.22498852128662872, 0.22498852128662872, 0.22498852128662872, 0.22498852128662872, 0.22498852128662872, 0.22498852128662872, 0.22498852128662872, 0.22498852128662872, 0.22498852128662872, 0.22498852128662872, 0.22498852128662872, 0.22498852128662872, 0.22498852128662872, 0.22498852128662872, 0.22498852128662872, 0.22498852128662872, 0.22498852128662872, 0.22498852128662872, 0.22498852128662872, 0.22498852128662872, 0.22498852128662872, 0.22498852128662872, 0.22498852128662872, 0.22498852128662872, 0.22498852128662872, 0.22498852128662872, 0.22498852128662872, 0.22498852128662872, 0.22498852128662872, 0.22498852128662872, 0.22498852128662872, 0.22498852128662872, 0.22498852128662872, 0.22498852128662872, 0.22498852128662872, 0.22498852128662872, 0.22498852128662872, 0.22498852128662872, 0.22498852128662872, 0.22498852128662872, 0.22498852128662872, 0.22498852128662872, 0.22498852128662872, 0.22498852128662872, 0.22498852128662872, 0.22498852128662872, 0.22498852128662872, 0.22498852128662872, 0.22498852128662872, 0.22498852128662872, 0.22498852128662872, 0.22498852128662872, 0.22498852128662872, 0.22498852128662872, 0.22498852128662872, 0.22498852128662872, 0.22498852128662872, 0.22498852128662872, 0.22498852128662872, 0.22498852128662872, 0.22498852128662872, 0.22498852128662872, 0.22498852128662872, 0.22498852128662872, 0.22498852128662872, 0.22498852128662872, 0.22498852128662872, 0.22498852128662872, 0.22498852128662872, 0.22498852128662872, 0.22498852128662872, 0.22498852128662872, 0.22498852128662872, 0.22498852128662872, 0.22498852128662872, 0.22498852128662872, 0.22498852128662872, 0.22498852128662872, 0.22498852128662872, 0.22498852128662872, 0.22498852128662872, 0.22498852128662872, 0.22498852128662872, 0.22498852128662872, 0.22498852128662872, 0.22498852128662872, 0.22498852128662872, 0.22498852128662872, 0.22498852128662872, 0.22498852128662872, 0.22498852128662872, 0.22498852128662872, 0.22498852128662872, 0.22498852128662872, 0.22498852128662872, 0.22498852128662872, 0.22498852128662872, 0.22498852128662872, 0.22498852128662872, 0.22498852128662872, 0.22498852128662872, 0.22498852128662872, 0.22498852128662872, 0.22498852128662872, 0.22498852128662872, 0.22498852128662872, 0.22498852128662872, 0.22498852128662872, 0.22498852128662872, 0.22498852128662872, 0.22498852128662872, 0.22498852128662872, 0.22498852128662872, 0.22498852128662872, 0.22498852128662872, 0.22498852128662872, 0.22498852128662872, 0.22498852128662872, 0.22498852128662872, 0.22498852128662872, 0.22498852128662872, 0.22498852128662872, 0.22498852128662872, 0.22498852128662872, 0.22498852128662872, 0.22498852128662872, 0.22498852128662872, 0.22498852128662872, 0.22498852128662872, 0.22498852128662872, 0.22498852128662872, 0.22498852128662872, 0.22498852128662872, 0.22498852128662872, 0.22498852128662872, 0.22498852128662872, 0.22498852128662872, 0.22498852128662872, 0.22498852128662872, 0.22498852128662872, 0.22498852128662872, 0.22498852128662872, 0.22498852128662872, 0.22498852128662872, 0.22498852128662872, 0.22498852128662872, 0.22498852128662872, 0.22498852128662872, 0.22498852128662872, 0.22498852128662872, 0.22498852128662872, 0.22498852128662872, 0.22498852128662872, 0.22498852128662872, 0.22498852128662872, 0.22498852128662872, 0.22498852128662872, 0.22498852128662872, 0.22498852128662872, 0.22498852128662872, 0.22498852128662872, 0.22498852128662872, 0.22498852128662872, 0.22498852128662872, 0.22498852128662872, 0.22498852128662872, 0.22498852128662872, 0.22498852128662872, 0.22498852128662872, 0.22498852128662872, 0.22498852128662872, 0.22498852128662872, 0.22498852128662872, 0.22498852128662872, 0.22498852128662872, 0.22498852128662872, 0.22498852128662872, 0.22498852128662872, 0.22498852128662872, 0.22498852128662872, 0.22498852128662872, 0.22498852128662872, 0.22498852128662872, 0.22498852128662872, 0.22498852128662872, 0.22498852128662872, 0.22498852128662872, 0.22498852128662872, 0.22498852128662872, 0.22498852128662872, 0.22498852128662872, 0.22498852128662872, 0.22498852128662872, 0.22498852128662872, 0.22498852128662872, 0.22498852128662872, 0.22498852128662872, 0.22498852128662872, 0.22498852128662872, 0.22498852128662872, 0.22498852128662872, 0.22498852128662872, 0.22498852128662872, 0.22498852128662872, 0.22498852128662872, 0.22498852128662872, 0.22498852128662872, 0.22498852128662872, 0.22498852128662872, 0.22498852128662872, 0.22498852128662872, 0.22498852128662872, 0.22498852128662872, 0.22498852128662872, 0.22498852128662872, 0.22498852128662872, 0.22498852128662872, 0.22498852128662872, 0.22498852128662872, 0.22498852128662872, 0.22498852128662872, 0.22498852128662872, 0.22498852128662872, 0.22498852128662872, 0.22498852128662872, 0.22498852128662872, 0.22498852128662872, 0.22498852128662872, 0.22498852128662872, 0.22498852128662872, 0.22498852128662872, 0.22498852128662872, 0.22498852128662872, 0.22498852128662872, 0.22498852128662872, 0.22498852128662872, 0.22498852128662872, 0.22498852128662872, 0.22498852128662872, 0.22498852128662872, 0.22498852128662872, 0.22498852128662872, 0.22498852128662872, 0.22498852128662872, 0.22498852128662872, 0.22498852128662872, 0.22498852128662872, 0.22498852128662872, 0.22498852128662872, 0.22498852128662872, 0.22498852128662872, 0.22498852128662872, 0.22498852128662872, 0.22498852128662872, 0.22498852128662872, 0.22498852128662872, 0.22498852128662872, 0.22498852128662872, 0.22498852128662872, 0.22498852128662872, 0.22498852128662872, 0.22498852128662872, 0.22498852128662872, 0.22498852128662872, 0.22498852128662872, 0.22498852128662872, 0.22498852128662872, 0.22498852128662872, 0.22498852128662872, 0.22498852128662872, 0.22498852128662872, 0.22498852128662872, 0.22498852128662872, 0.22498852128662872, 0.22498852128662872, 0.22498852128662872, 0.22498852128662872, 0.22498852128662872, 0.22498852128662872, 0.22498852128662872, 0.22498852128662872, 0.22498852128662872, 0.22498852128662872, 0.22498852128662872, 0.22498852128662872, 0.22498852128662872, 0.22498852128662872, 0.22498852128662872, 0.22498852128662872, 0.22498852128662872, 0.22498852128662872, 0.22498852128662872, 0.22498852128662872, 0.22498852128662872, 0.22498852128662872, 0.22498852128662872, 0.22498852128662872, 0.22498852128662872, 0.22498852128662872, 0.22498852128662872, 0.22498852128662872, 0.22498852128662872, 0.22498852128662872, 0.22498852128662872, 0.22498852128662872, 0.22498852128662872, 0.22498852128662872, 0.22498852128662872, 0.22498852128662872, 0.22498852128662872, 0.22498852128662872, 0.22498852128662872, 0.22498852128662872, 0.22498852128662872, 0.22498852128662872, 0.22498852128662872, 0.22498852128662872, 0.22498852128662872, 0.22498852128662872, 0.22498852128662872, 0.22498852128662872, 0.22498852128662872, 0.22498852128662872, 0.22498852128662872, 0.22498852128662872, 0.22498852128662872, 0.22498852128662872, 0.22498852128662872, 0.22498852128662872, 0.22498852128662872, 0.22498852128662872, 0.22498852128662872, 0.22498852128662872, 0.22498852128662872, 0.22498852128662872, 0.22498852128662872, 0.22498852128662872, 0.22498852128662872, 0.22498852128662872, 0.22498852128662872, 0.22498852128662872, 0.22498852128662872, 0.22498852128662872, 0.22498852128662872, 0.22498852128662872, 0.22498852128662872, 0.22498852128662872, 0.22498852128662872, 0.22498852128662872, 0.22498852128662872, 0.22498852128662872, 0.22498852128662872, 0.22498852128662872, 0.22498852128662872, 0.22498852128662872, 0.22498852128662872, 0.22498852128662872, 0.22498852128662872, 0.22498852128662872, 0.22498852128662872, 0.22498852128662872, 0.22498852128662872, 0.22498852128662872, 0.22498852128662872, 0.22498852128662872, 0.22498852128662872, 0.22498852128662872, 0.22498852128662872, 0.22498852128662872, 0.22498852128662872, 0.22498852128662872, 0.22498852128662872, 0.22498852128662872, 0.22498852128662872, 0.22498852128662872, 0.22498852128662872, 0.22498852128662872, 0.22498852128662872, 0.22498852128662872, 0.22498852128662872, 0.22498852128662872, 0.22498852128662872, 0.22498852128662872, 0.22498852128662872, 0.22498852128662872, 0.22498852128662872, 0.22498852128662872, 0.22498852128662872, 0.22498852128662872, 0.22498852128662872, 0.22498852128662872, 0.22498852128662872, 0.22498852128662872, 0.22498852128662872, 0.22498852128662872, 0.22498852128662872, 0.22498852128662872, 0.22498852128662872, 0.22498852128662872, 0.22498852128662872, 0.22498852128662872, 0.22498852128662872, 0.22498852128662872, 0.22498852128662872, 0.22498852128662872, 0.22498852128662872, 0.22498852128662872, 0.22498852128662872, 0.22498852128662872, 0.22498852128662872, 0.22498852128662872, 0.22498852128662872, 0.22498852128662872, 0.22498852128662872, 0.22498852128662872, 0.22498852128662872, 0.22498852128662872, 0.22498852128662872, 0.22498852128662872, 0.22498852128662872, 0.22498852128662872, 0.22498852128662872, 0.22498852128662872, 0.22498852128662872, 0.22498852128662872, 0.22498852128662872, 0.22498852128662872, 0.22498852128662872, 0.22498852128662872, 0.22498852128662872, 0.22498852128662872, 0.22498852128662872, 0.22498852128662872, 0.22498852128662872, 0.22498852128662872, 0.22498852128662872, 0.22498852128662872, 0.22498852128662872, 0.22498852128662872, 0.22498852128662872, 0.22498852128662872, 0.22498852128662872, 0.22498852128662872, 0.22498852128662872, 0.22498852128662872, 0.22498852128662872, 0.22498852128662872, 0.22498852128662872, 0.22498852128662872, 0.22498852128662872, 0.22498852128662872, 0.22498852128662872, 0.22498852128662872, 0.22498852128662872, 0.22498852128662872, 0.22498852128662872, 0.22498852128662872, 0.22498852128662872, 0.22498852128662872, 0.22498852128662872, 0.22498852128662872, 0.22498852128662872, 0.22498852128662872, 0.22498852128662872, 0.22498852128662872, 0.22498852128662872, 0.22498852128662872, 0.22498852128662872, 0.22498852128662872, 0.22498852128662872, 0.22498852128662872, 0.22498852128662872, 0.22498852128662872, 0.22498852128662872, 0.22498852128662872, 0.22498852128662872, 0.22498852128662872, 0.22498852128662872, 0.22498852128662872, 0.22498852128662872, 0.22498852128662872, 0.22498852128662872, 0.22498852128662872, 0.22498852128662872, 0.22498852128662872, 0.22498852128662872, 0.22498852128662872, 0.22498852128662872, 0.22498852128662872, 0.22498852128662872, 0.22498852128662872, 0.22498852128662872, 0.22498852128662872, 0.22498852128662872, 0.22498852128662872, 0.22498852128662872, 0.22498852128662872, 0.22498852128662872, 0.22498852128662872, 0.22498852128662872, 0.22498852128662872, 0.22498852128662872, 0.22498852128662872, 0.22498852128662872, 0.22498852128662872, 0.22498852128662872, 0.22498852128662872, 0.22498852128662872, 0.22498852128662872, 0.22498852128662872, 0.22498852128662872, 0.22498852128662872, 0.22498852128662872, 0.22498852128662872, 0.22498852128662872, 0.22498852128662872, 0.22498852128662872, 0.22498852128662872, 0.22498852128662872, 0.22498852128662872, 0.22498852128662872, 0.22498852128662872, 0.22498852128662872, 0.22498852128662872, 0.22498852128662872, 0.22498852128662872, 0.22498852128662872, 0.22498852128662872, 0.22498852128662872, 0.22498852128662872, 0.22498852128662872, 0.22498852128662872, 0.22498852128662872, 0.22498852128662872, 0.22498852128662872, 0.22498852128662872, 0.22498852128662872, 0.22498852128662872, 0.22498852128662872, 0.22498852128662872, 0.22498852128662872, 0.22498852128662872, 0.22498852128662872, 0.22498852128662872, 0.22498852128662872, 0.22498852128662872, 0.22498852128662872, 0.22498852128662872, 0.22498852128662872, 0.22498852128662872, 0.22498852128662872, 0.22498852128662872, 0.22498852128662872, 0.22498852128662872, 0.22498852128662872, 0.22498852128662872, 0.22498852128662872, 0.22498852128662872, 0.22498852128662872, 0.22498852128662872, 0.22498852128662872, 0.22498852128662872, 0.22498852128662872, 0.22498852128662872, 0.22498852128662872, 0.22498852128662872, 0.22498852128662872, 0.22498852128662872, 0.22498852128662872, 0.22498852128662872, 0.22498852128662872, 0.22498852128662872, 0.22498852128662872, 0.22498852128662872, 0.22498852128662872, 0.22498852128662872, 0.22498852128662872, 0.22498852128662872, 0.22498852128662872, 0.22498852128662872, 0.22498852128662872, 0.22498852128662872, 0.22498852128662872, 0.22498852128662872, 0.22498852128662872, 0.22498852128662872, 0.22498852128662872, 0.22498852128662872, 0.22498852128662872, 0.22498852128662872, 0.22498852128662872, 0.22498852128662872, 0.22498852128662872, 0.22498852128662872, 0.22498852128662872, 0.22498852128662872, 0.22498852128662872, 0.22498852128662872, 0.22498852128662872, 0.22498852128662872, 0.22498852128662872, 0.22498852128662872, 0.22498852128662872, 0.22498852128662872, 0.22498852128662872, 0.22498852128662872, 0.22498852128662872, 0.22498852128662872, 0.22498852128662872, 0.22498852128662872, 0.22498852128662872, 0.22498852128662872, 0.22498852128662872, 0.22498852128662872, 0.22498852128662872, 0.22498852128662872, 0.22498852128662872, 0.22498852128662872, 0.22498852128662872, 0.22498852128662872, 0.22498852128662872, 0.22498852128662872, 0.22498852128662872, 0.22498852128662872, 0.22498852128662872, 0.22498852128662872, 0.22498852128662872, 0.22498852128662872, 0.22498852128662872, 0.22498852128662872, 0.22498852128662872, 0.22498852128662872, 0.22498852128662872, 0.22498852128662872, 0.22498852128662872, 0.22498852128662872, 0.22498852128662872, 0.22498852128662872, 0.22498852128662872, 0.22498852128662872, 0.22498852128662872, 0.22498852128662872, 0.22498852128662872, 0.22498852128662872, 0.22498852128662872, 0.22498852128662872, 0.22498852128662872, 0.22498852128662872, 0.22498852128662872, 0.22498852128662872, 0.22498852128662872, 0.22498852128662872, 0.22498852128662872, 0.22498852128662872, 0.22498852128662872, 0.22498852128662872, 0.22498852128662872, 0.22498852128662872, 0.22498852128662872, 0.22498852128662872, 0.22498852128662872, 0.22498852128662872, 0.22498852128662872, 0.22498852128662872, 0.22498852128662872, 0.22498852128662872, 0.22498852128662872, 0.22498852128662872, 0.22498852128662872, 0.22498852128662872, 0.22498852128662872, 0.22498852128662872, 0.22498852128662872, 0.22498852128662872, 0.22498852128662872, 0.22498852128662872, 0.22498852128662872, 0.22498852128662872, 0.22498852128662872, 0.22498852128662872, 0.22498852128662872, 0.22498852128662872, 0.22498852128662872, 0.22498852128662872, 0.22498852128662872, 0.22498852128662872, 0.22498852128662872, 0.22498852128662872, 0.22498852128662872, 0.22498852128662872, 0.22498852128662872, 0.22498852128662872, 0.22498852128662872, 0.22498852128662872, 0.22498852128662872, 0.22498852128662872, 0.22498852128662872, 0.22498852128662872, 0.22498852128662872, 0.22498852128662872, 0.22498852128662872, 0.22498852128662872, 0.22498852128662872, 0.22498852128662872, 0.22498852128662872, 0.22498852128662872, 0.22498852128662872, 0.22498852128662872, 0.22498852128662872, 0.22498852128662872, 0.22498852128662872, 0.22498852128662872, 0.22498852128662872, 0.22498852128662872, 0.22498852128662872, 0.22498852128662872, 0.22498852128662872, 0.22498852128662872, 0.22498852128662872, 0.22498852128662872, 0.22498852128662872, 0.22498852128662872, 0.22498852128662872, 0.22498852128662872, 0.22498852128662872, 0.22498852128662872, 0.22498852128662872, 0.22498852128662872, 0.22498852128662872, 0.22498852128662872, 0.22498852128662872, 0.22498852128662872, 0.22498852128662872, 0.22498852128662872, 0.22498852128662872, 0.22498852128662872, 0.22498852128662872, 0.22498852128662872, 0.22498852128662872, 0.22498852128662872, 0.22498852128662872, 0.22498852128662872, 0.22498852128662872, 0.22498852128662872, 0.22498852128662872, 0.22498852128662872, 0.22498852128662872, 0.22498852128662872, 0.22498852128662872, 0.22498852128662872, 0.22498852128662872, 0.22498852128662872, 0.22498852128662872, 0.22498852128662872, 0.22498852128662872, 0.22498852128662872, 0.22498852128662872, 0.22498852128662872, 0.22498852128662872, 0.22498852128662872, 0.22498852128662872, 0.22498852128662872, 0.22498852128662872, 0.22498852128662872, 0.22498852128662872, 0.22498852128662872, 0.22498852128662872, 0.22498852128662872, 0.22498852128662872, 0.22498852128662872, 0.22498852128662872, 0.22498852128662872, 0.22498852128662872, 0.22498852128662872, 0.22498852128662872, 0.22498852128662872, 0.22498852128662872, 0.22498852128662872, 0.22498852128662872, 0.22498852128662872, 0.22498852128662872, 0.22498852128662872, 0.22498852128662872, 0.22498852128662872, 0.22498852128662872, 0.22498852128662872, 0.22498852128662872, 0.22498852128662872, 0.22498852128662872, 0.22498852128662872, 0.22498852128662872, 0.22498852128662872, 0.22498852128662872, 0.22498852128662872, 0.22498852128662872, 0.22498852128662872, 0.22498852128662872, 0.22498852128662872, 0.22498852128662872, 0.22498852128662872, 0.22498852128662872, 0.22498852128662872, 0.22498852128662872, 0.22498852128662872, 0.22498852128662872, 0.22498852128662872, 0.22498852128662872, 0.22498852128662872, 0.22498852128662872, 0.22498852128662872, 0.22498852128662872, 0.22498852128662872, 0.22498852128662872, 0.22498852128662872, 0.22498852128662872, 0.22498852128662872, 0.22498852128662872, 0.22498852128662872, 0.22498852128662872, 0.22498852128662872, 0.22498852128662872, 0.22498852128662872, 0.22498852128662872, 0.22498852128662872, 0.22498852128662872, 0.22498852128662872, 0.22498852128662872, 0.22498852128662872, 0.22498852128662872, 0.22498852128662872, 0.22498852128662872, 0.22498852128662872, 0.22498852128662872, 0.22498852128662872, 0.22498852128662872, 0.22498852128662872, 0.22498852128662872, 0.22498852128662872, 0.22498852128662872, 0.22498852128662872, 0.22498852128662872, 0.22498852128662872, 0.22498852128662872, 0.22498852128662872, 0.22498852128662872, 0.22498852128662872, 0.22498852128662872, 0.22498852128662872, 0.22498852128662872, 0.22498852128662872, 0.22498852128662872, 0.22498852128662872, 0.22498852128662872, 0.22498852128662872, 0.22498852128662872, 0.22498852128662872, 0.22498852128662872, 0.22498852128662872, 0.22498852128662872, 0.22498852128662872, 0.22498852128662872, 0.22498852128662872, 0.22498852128662872, 0.22498852128662872, 0.22498852128662872, 0.22498852128662872, 0.22498852128662872, 0.22498852128662872, 0.22498852128662872, 0.22498852128662872, 0.22498852128662872, 0.22498852128662872, 0.22498852128662872, 0.22498852128662872, 0.22498852128662872, 0.22498852128662872, 0.22498852128662872, 0.22498852128662872, 0.22498852128662872, 0.22498852128662872, 0.22498852128662872, 0.22498852128662872, 0.22498852128662872, 0.22498852128662872, 0.22498852128662872, 0.22498852128662872, 0.22498852128662872, 0.22498852128662872, 0.22498852128662872, 0.22498852128662872, 0.22498852128662872, 0.22498852128662872, 0.22498852128662872, 0.22498852128662872, 0.22498852128662872, 0.22498852128662872, 0.22498852128662872, 0.22498852128662872, 0.22498852128662872, 0.22498852128662872, 0.22498852128662872, 0.22498852128662872, 0.22498852128662872, 0.22498852128662872, 0.22498852128662872, 0.22498852128662872, 0.22498852128662872, 0.22498852128662872, 0.22498852128662872, 0.22498852128662872, 0.22498852128662872, 0.22498852128662872, 0.22498852128662872, 0.22498852128662872, 0.22498852128662872, 0.22498852128662872, 0.22498852128662872, 0.22498852128662872, 0.22498852128662872, 0.22498852128662872, 0.22498852128662872, 0.22498852128662872, 0.22498852128662872, 0.22498852128662872, 0.22498852128662872, 0.22498852128662872, 0.22498852128662872, 0.22498852128662872, 0.22498852128662872, 0.22498852128662872, 0.22498852128662872, 0.22498852128662872, 0.22498852128662872, 0.22498852128662872, 0.22498852128662872, 0.22498852128662872, 0.22498852128662872, 0.22498852128662872, 0.22498852128662872, 0.22498852128662872, 0.22498852128662872, 0.22498852128662872, 0.22498852128662872, 0.22498852128662872, 0.22498852128662872, 0.22498852128662872, 0.22498852128662872, 0.22498852128662872, 0.22498852128662872, 0.22498852128662872, 0.22498852128662872, 0.22498852128662872, 0.22498852128662872, 0.22498852128662872, 0.22498852128662872, 0.22498852128662872, 0.22498852128662872, 0.22498852128662872, 0.22498852128662872, 0.22498852128662872, 0.22498852128662872, 0.22498852128662872, 0.22498852128662872, 0.22498852128662872, 0.22498852128662872, 0.22498852128662872, 0.22498852128662872, 0.22498852128662872, 0.22498852128662872, 0.22498852128662872, 0.22498852128662872, 0.22498852128662872, 0.22498852128662872, 0.22498852128662872, 0.22498852128662872, 0.22498852128662872, 0.22498852128662872, 0.22498852128662872, 0.22498852128662872, 0.22498852128662872, 0.22498852128662872, 0.22498852128662872, 0.22498852128662872, 0.22498852128662872, 0.22498852128662872, 0.22498852128662872, 0.22498852128662872, 0.22498852128662872, 0.22498852128662872, 0.22498852128662872, 0.22498852128662872, 0.22498852128662872, 0.22498852128662872, 0.22498852128662872, 0.22498852128662872, 0.22498852128662872, 0.22498852128662872, 0.22498852128662872, 0.22498852128662872, 0.22498852128662872, 0.22498852128662872, 0.22498852128662872, 0.22498852128662872, 0.22498852128662872, 0.22498852128662872, 0.22498852128662872, 0.22498852128662872, 0.22498852128662872, 0.22498852128662872, 0.22498852128662872, 0.22498852128662872, 0.22498852128662872, 0.22498852128662872, 0.22498852128662872, 0.22498852128662872, 0.22498852128662872, 0.22498852128662872, 0.22498852128662872, 0.22498852128662872, 0.22498852128662872, 0.22498852128662872, 0.22498852128662872, 0.22498852128662872, 0.22498852128662872, 0.22498852128662872, 0.22498852128662872, 0.22498852128662872, 0.22498852128662872, 0.22498852128662872, 0.22498852128662872, 0.22498852128662872, 0.22498852128662872, 0.22498852128662872, 0.22498852128662872, 0.22498852128662872, 0.22498852128662872, 0.22498852128662872, 0.22498852128662872, 0.22498852128662872, 0.22498852128662872, 0.22498852128662872, 0.22498852128662872, 0.22498852128662872, 0.22498852128662872, 0.22498852128662872, 0.22498852128662872, 0.22498852128662872, 0.22498852128662872, 0.22498852128662872, 0.22498852128662872, 0.22498852128662872, 0.22498852128662872, 0.22498852128662872, 0.22498852128662872, 0.22498852128662872, 0.22498852128662872, 0.22498852128662872, 0.22498852128662872, 0.22498852128662872, 0.22498852128662872, 0.22498852128662872, 0.22498852128662872, 0.22498852128662872, 0.22498852128662872, 0.22498852128662872, 0.22498852128662872, 0.22498852128662872, 0.22498852128662872, 0.22498852128662872, 0.22498852128662872, 0.22498852128662872, 0.22498852128662872, 0.22498852128662872, 0.22498852128662872, 0.22498852128662872, 0.22498852128662872, 0.22498852128662872, 0.22498852128662872, 0.22498852128662872, 0.22498852128662872, 0.22498852128662872, 0.22498852128662872, 0.22498852128662872, 0.22498852128662872, 0.22498852128662872, 0.22498852128662872, 0.22498852128662872, 0.22498852128662872, 0.22498852128662872, 0.22498852128662872, 0.22498852128662872, 0.22498852128662872, 0.22498852128662872, 0.22498852128662872, 0.22498852128662872, 0.22498852128662872, 0.22498852128662872, 0.22498852128662872, 0.22498852128662872, 0.22498852128662872, 0.22498852128662872, 0.22498852128662872, 0.22498852128662872, 0.22498852128662872, 0.22498852128662872, 0.22498852128662872, 0.22498852128662872, 0.22498852128662872, 0.22498852128662872, 0.22498852128662872, 0.22498852128662872, 0.22498852128662872, 0.22498852128662872, 0.22498852128662872, 0.22498852128662872, 0.22498852128662872, 0.22498852128662872, 0.22498852128662872, 0.22498852128662872, 0.22498852128662872, 0.22498852128662872, 0.22498852128662872, 0.22498852128662872, 0.22498852128662872, 0.22498852128662872, 0.22498852128662872, 0.22498852128662872, 0.22498852128662872, 0.22498852128662872, 0.22498852128662872, 0.22498852128662872, 0.22498852128662872, 0.22498852128662872, 0.22498852128662872, 0.22498852128662872, 0.22498852128662872, 0.22498852128662872, 0.22498852128662872, 0.22498852128662872, 0.22498852128662872, 0.22498852128662872, 0.22498852128662872, 0.22498852128662872, 0.22498852128662872, 0.22498852128662872, 0.22498852128662872, 0.22498852128662872, 0.22498852128662872, 0.22498852128662872, 0.22498852128662872, 0.22498852128662872, 0.22498852128662872, 0.22498852128662872, 0.22498852128662872, 0.22498852128662872, 0.22498852128662872, 0.22498852128662872, 0.22498852128662872, 0.22498852128662872, 0.22498852128662872, 0.22498852128662872, 0.22498852128662872, 0.22498852128662872, 0.22498852128662872, 0.22498852128662872, 0.22498852128662872, 0.22498852128662872, 0.22498852128662872, 0.22498852128662872, 0.22498852128662872, 0.22498852128662872, 0.22498852128662872, 0.22498852128662872, 0.22498852128662872, 0.22498852128662872, 0.22498852128662872, 0.22498852128662872, 0.22498852128662872, 0.22498852128662872, 0.22498852128662872, 0.22498852128662872, 0.22498852128662872, 0.22498852128662872, 0.22498852128662872, 0.22498852128662872, 0.22498852128662872, 0.22498852128662872, 0.22498852128662872, 0.22498852128662872, 0.22498852128662872, 0.22498852128662872, 0.22498852128662872, 0.22498852128662872, 0.22498852128662872, 0.22498852128662872, 0.22498852128662872, 0.22498852128662872, 0.22498852128662872, 0.22498852128662872, 0.22498852128662872, 0.22498852128662872, 0.22498852128662872, 0.22498852128662872, 0.22498852128662872, 0.22498852128662872, 0.22498852128662872, 0.22498852128662872, 0.22498852128662872, 0.22498852128662872, 0.22498852128662872, 0.22498852128662872, 0.22498852128662872, 0.22498852128662872, 0.22498852128662872, 0.22498852128662872, 0.22498852128662872, 0.22498852128662872, 0.22498852128662872, 0.22498852128662872, 0.22498852128662872, 0.22498852128662872, 0.22498852128662872, 0.22498852128662872, 0.22498852128662872, 0.22498852128662872, 0.22498852128662872, 0.22498852128662872, 0.22498852128662872, 0.22498852128662872, 0.22498852128662872, 0.22498852128662872, 0.22498852128662872, 0.22498852128662872, 0.22498852128662872, 0.22498852128662872, 0.22498852128662872, 0.22498852128662872, 0.22498852128662872, 0.22498852128662872, 0.22498852128662872, 0.22498852128662872, 0.22498852128662872, 0.22498852128662872, 0.22498852128662872, 0.22498852128662872, 0.22498852128662872, 0.22498852128662872, 0.22498852128662872, 0.22498852128662872, 0.22498852128662872, 0.22498852128662872, 0.22498852128662872, 0.22498852128662872, 0.22498852128662872, 0.22498852128662872, 0.22498852128662872, 0.22498852128662872, 0.22498852128662872, 0.22498852128662872, 0.22498852128662872, 0.22498852128662872, 0.22498852128662872, 0.22498852128662872, 0.22498852128662872, 0.22498852128662872, 0.22498852128662872, 0.22498852128662872, 0.22498852128662872, 0.22498852128662872, 0.22498852128662872, 0.22498852128662872, 0.22498852128662872, 0.22498852128662872, 0.22498852128662872, 0.22498852128662872, 0.22498852128662872, 0.22498852128662872, 0.22498852128662872, 0.22498852128662872, 0.22498852128662872, 0.22498852128662872, 0.22498852128662872, 0.22498852128662872, 0.22498852128662872, 0.22498852128662872, 0.22498852128662872, 0.22498852128662872, 0.22498852128662872, 0.22498852128662872, 0.22498852128662872, 0.22498852128662872, 0.22498852128662872, 0.22498852128662872, 0.22498852128662872, 0.22498852128662872, 0.22498852128662872, 0.22498852128662872, 0.22498852128662872, 0.22498852128662872, 0.22498852128662872, 0.22498852128662872, 0.22498852128662872, 0.22498852128662872, 0.22498852128662872, 0.22498852128662872, 0.22498852128662872, 0.22498852128662872, 0.22498852128662872, 0.22498852128662872, 0.22498852128662872, 0.22498852128662872, 0.22498852128662872, 0.22498852128662872, 0.22498852128662872, 0.22498852128662872, 0.22498852128662872, 0.22498852128662872, 0.22498852128662872, 0.22498852128662872, 0.22498852128662872, 0.22498852128662872, 0.22498852128662872, 0.22498852128662872, 0.22498852128662872, 0.22498852128662872, 0.22498852128662872, 0.22498852128662872, 0.22498852128662872, 0.22498852128662872, 0.22498852128662872, 0.22498852128662872, 0.22498852128662872, 0.22498852128662872, 0.22498852128662872, 0.22498852128662872, 0.22498852128662872, 0.22498852128662872, 0.22498852128662872, 0.22498852128662872, 0.22498852128662872, 0.22498852128662872, 0.22498852128662872, 0.22498852128662872, 0.22498852128662872, 0.22498852128662872, 0.22498852128662872, 0.22498852128662872, 0.22498852128662872, 0.22498852128662872, 0.22498852128662872, 0.22498852128662872, 0.22498852128662872, 0.22498852128662872, 0.22498852128662872, 0.22498852128662872, 0.22498852128662872, 0.22498852128662872, 0.22498852128662872, 0.22498852128662872, 0.22498852128662872, 0.22498852128662872, 0.22498852128662872, 0.22498852128662872, 0.22498852128662872, 0.22498852128662872, 0.22498852128662872, 0.22498852128662872, 0.22498852128662872, 0.22498852128662872, 0.22498852128662872, 0.22498852128662872, 0.22498852128662872, 0.22498852128662872, 0.22498852128662872, 0.22498852128662872, 0.22498852128662872, 0.22498852128662872, 0.22498852128662872, 0.22498852128662872, 0.22498852128662872, 0.22498852128662872, 0.22498852128662872, 0.22498852128662872, 0.22498852128662872, 0.22498852128662872, 0.22498852128662872, 0.22498852128662872, 0.22498852128662872, 0.22498852128662872, 0.22498852128662872, 0.22498852128662872, 0.22498852128662872, 0.22498852128662872, 0.22498852128662872, 0.22498852128662872, 0.22498852128662872, 0.22498852128662872, 0.22498852128662872, 0.22498852128662872, 0.22498852128662872, 0.22498852128662872, 0.22498852128662872, 0.22498852128662872, 0.22498852128662872, 0.22498852128662872, 0.22498852128662872, 0.22498852128662872, 0.22498852128662872, 0.22498852128662872, 0.22498852128662872, 0.22498852128662872, 0.22498852128662872, 0.22498852128662872, 0.22498852128662872, 0.22498852128662872, 0.22498852128662872, 0.22498852128662872, 0.22498852128662872, 0.22498852128662872, 0.22498852128662872, 0.22498852128662872, 0.22498852128662872, 0.22498852128662872, 0.22498852128662872, 0.22498852128662872, 0.22498852128662872, 0.22498852128662872, 0.22498852128662872, 0.22498852128662872, 0.22498852128662872, 0.22498852128662872, 0.22498852128662872, 0.22498852128662872, 0.22498852128662872, 0.22498852128662872, 0.22498852128662872, 0.22498852128662872, 0.22498852128662872, 0.22498852128662872, 0.22498852128662872, 0.22498852128662872, 0.22498852128662872, 0.22498852128662872, 0.22498852128662872, 0.22498852128662872, 0.22498852128662872, 0.22498852128662872, 0.22498852128662872, 0.22498852128662872, 0.22498852128662872, 0.22498852128662872, 0.22498852128662872, 0.22498852128662872, 0.22498852128662872, 0.22498852128662872, 0.22498852128662872, 0.22498852128662872, 0.22498852128662872, 0.22498852128662872, 0.22498852128662872, 0.22498852128662872, 0.22498852128662872, 0.22498852128662872, 0.22498852128662872, 0.22498852128662872, 0.22498852128662872, 0.22498852128662872, 0.22498852128662872, 0.22498852128662872, 0.22498852128662872, 0.22498852128662872, 0.22498852128662872, 0.22498852128662872, 0.22498852128662872, 0.22498852128662872, 0.22498852128662872, 0.22498852128662872, 0.22498852128662872, 0.22498852128662872, 0.22498852128662872, 0.22498852128662872, 0.22498852128662872, 0.22498852128662872, 0.22498852128662872, 0.22498852128662872, 0.22498852128662872, 0.22498852128662872, 0.22498852128662872, 0.22498852128662872, 0.22498852128662872, 0.22498852128662872, 0.22498852128662872, 0.22498852128662872, 0.22498852128662872, 0.22498852128662872, 0.22498852128662872, 0.22498852128662872, 0.22498852128662872, 0.22498852128662872, 0.22498852128662872, 0.22498852128662872, 0.22498852128662872, 0.22498852128662872, 0.22498852128662872, 0.22498852128662872, 0.22498852128662872, 0.22498852128662872, 0.22498852128662872, 0.22498852128662872, 0.22498852128662872, 0.22498852128662872, 0.22498852128662872, 0.22498852128662872, 0.22498852128662872, 0.22498852128662872, 0.22498852128662872, 0.22498852128662872, 0.22498852128662872, 0.22498852128662872, 0.22498852128662872, 0.22498852128662872, 0.22498852128662872, 0.22498852128662872, 0.22498852128662872, 0.22498852128662872, 0.22498852128662872, 0.22498852128662872, 0.22498852128662872, 0.22498852128662872, 0.22498852128662872, 0.22498852128662872, 0.22498852128662872, 0.22498852128662872, 0.22498852128662872, 0.22498852128662872, 0.22498852128662872, 0.22498852128662872, 0.22498852128662872, 0.22498852128662872, 0.22498852128662872, 0.22498852128662872, 0.22498852128662872, 0.22498852128662872, 0.22498852128662872, 0.22498852128662872, 0.22498852128662872, 0.22498852128662872, 0.22498852128662872, 0.22498852128662872, 0.22498852128662872, 0.22498852128662872, 0.22498852128662872, 0.22498852128662872, 0.22498852128662872, 0.22498852128662872, 0.22498852128662872, 0.22498852128662872, 0.22498852128662872, 0.22498852128662872, 0.22498852128662872, 0.22498852128662872, 0.22498852128662872, 0.22498852128662872, 0.22498852128662872, 0.22498852128662872, 0.22498852128662872, 0.22498852128662872, 0.22498852128662872, 0.22498852128662872, 0.22498852128662872, 0.22498852128662872, 0.22498852128662872, 0.22498852128662872, 0.22498852128662872, 0.22498852128662872, 0.22498852128662872, 0.22498852128662872, 0.22498852128662872, 0.22498852128662872, 0.22498852128662872, 0.22498852128662872, 0.22498852128662872, 0.22498852128662872, 0.22498852128662872, 0.22498852128662872, 0.22498852128662872, 0.22498852128662872, 0.22498852128662872, 0.22498852128662872, 0.22498852128662872, 0.22498852128662872, 0.22498852128662872, 0.22498852128662872, 0.22498852128662872, 0.22498852128662872, 0.22498852128662872, 0.22498852128662872, 0.22498852128662872, 0.22498852128662872, 0.22498852128662872, 0.22498852128662872, 0.22498852128662872, 0.22498852128662872, 0.22498852128662872, 0.22498852128662872, 0.22498852128662872, 0.22498852128662872, 0.22498852128662872, 0.22498852128662872, 0.22498852128662872, 0.22498852128662872, 0.22498852128662872, 0.22498852128662872, 0.22498852128662872, 0.22498852128662872, 0.22498852128662872, 0.22498852128662872, 0.22498852128662872, 0.22498852128662872, 0.22498852128662872, 0.22498852128662872, 0.22498852128662872, 0.22498852128662872, 0.22498852128662872, 0.22498852128662872, 0.22498852128662872, 0.22498852128662872, 0.22498852128662872, 0.22498852128662872, 0.22498852128662872, 0.22498852128662872, 0.22498852128662872, 0.22498852128662872, 0.22498852128662872, 0.22498852128662872, 0.22498852128662872, 0.22498852128662872, 0.22498852128662872, 0.22498852128662872, 0.22498852128662872, 0.22498852128662872, 0.22498852128662872, 0.22498852128662872, 0.22498852128662872, 0.22498852128662872, 0.22498852128662872, 0.22498852128662872, 0.22498852128662872, 0.22498852128662872, 0.22498852128662872, 0.22498852128662872, 0.22498852128662872, 0.22498852128662872, 0.22498852128662872, 0.22498852128662872, 0.22498852128662872, 0.22498852128662872, 0.22498852128662872, 0.22498852128662872, 0.22498852128662872, 0.22498852128662872, 0.22498852128662872, 0.22498852128662872, 0.22498852128662872, 0.22498852128662872, 0.22498852128662872, 0.22498852128662872, 0.22498852128662872, 0.22498852128662872, 0.22498852128662872, 0.22498852128662872, 0.22498852128662872, 0.22498852128662872, 0.22498852128662872, 0.22498852128662872, 0.22498852128662872, 0.22498852128662872, 0.22498852128662872, 0.22498852128662872, 0.22498852128662872, 0.22498852128662872, 0.22498852128662872, 0.22498852128662872, 0.22498852128662872, 0.22498852128662872, 0.22498852128662872, 0.22498852128662872, 0.22498852128662872, 0.22498852128662872, 0.22498852128662872, 0.22498852128662872, 0.22498852128662872, 0.22498852128662872, 0.22498852128662872, 0.22498852128662872, 0.22498852128662872, 0.22498852128662872, 0.22498852128662872, 0.22498852128662872, 0.22498852128662872, 0.22498852128662872, 0.22498852128662872, 0.22498852128662872, 0.22498852128662872, 0.22498852128662872, 0.22498852128662872, 0.22498852128662872, 0.22498852128662872, 0.22498852128662872, 0.22498852128662872, 0.22498852128662872, 0.22498852128662872, 0.22498852128662872, 0.22498852128662872, 0.22498852128662872, 0.22498852128662872, 0.22498852128662872, 0.22498852128662872, 0.22498852128662872, 0.22498852128662872, 0.22498852128662872, 0.22498852128662872, 0.22498852128662872, 0.22498852128662872, 0.22498852128662872, 0.22498852128662872, 0.22498852128662872, 0.22498852128662872, 0.22498852128662872, 0.22498852128662872, 0.22498852128662872, 0.22498852128662872, 0.22498852128662872, 0.22498852128662872, 0.22498852128662872, 0.22498852128662872, 0.22498852128662872, 0.22498852128662872, 0.22498852128662872, 0.22498852128662872, 0.22498852128662872, 0.22498852128662872, 0.22498852128662872, 0.22498852128662872, 0.22498852128662872, 0.22498852128662872, 0.22498852128662872, 0.22498852128662872, 0.22498852128662872, 0.22498852128662872, 0.22498852128662872, 0.22498852128662872, 0.22498852128662872, 0.22498852128662872, 0.22498852128662872, 0.22498852128662872, 0.22498852128662872, 0.22498852128662872, 0.22498852128662872, 0.22498852128662872, 0.22498852128662872, 0.22498852128662872, 0.22498852128662872, 0.22498852128662872, 0.22498852128662872, 0.22498852128662872, 0.22498852128662872, 0.22498852128662872, 0.22498852128662872, 0.22498852128662872, 0.22498852128662872, 0.22498852128662872, 0.22498852128662872, 0.22498852128662872, 0.22498852128662872, 0.22498852128662872, 0.22498852128662872, 0.22498852128662872, 0.22498852128662872, 0.22498852128662872, 0.22498852128662872, 0.22498852128662872, 0.22498852128662872, 0.22498852128662872, 0.22498852128662872, 0.22498852128662872, 0.22498852128662872, 0.22498852128662872, 0.22498852128662872, 0.22498852128662872, 0.22498852128662872, 0.22498852128662872, 0.22498852128662872, 0.22498852128662872, 0.22498852128662872, 0.22498852128662872, 0.22498852128662872, 0.22498852128662872, 0.22498852128662872, 0.22498852128662872, 0.22498852128662872, 0.22498852128662872, 0.22498852128662872, 0.22498852128662872, 0.22498852128662872, 0.22498852128662872, 0.22498852128662872, 0.22498852128662872, 0.22498852128662872, 0.22498852128662872, 0.22498852128662872, 0.22498852128662872, 0.22498852128662872, 0.22498852128662872, 0.22498852128662872, 0.22498852128662872, 0.22498852128662872, 0.22498852128662872, 0.22498852128662872, 0.22498852128662872, 0.22498852128662872, 0.22498852128662872, 0.22498852128662872, 0.22498852128662872, 0.22498852128662872, 0.22498852128662872, 0.22498852128662872, 0.22498852128662872, 0.22498852128662872, 0.22498852128662872, 0.22498852128662872, 0.22498852128662872, 0.22498852128662872, 0.22498852128662872, 0.22498852128662872, 0.22498852128662872, 0.22498852128662872, 0.22498852128662872, 0.22498852128662872, 0.22498852128662872, 0.22498852128662872, 0.22498852128662872, 0.22498852128662872, 0.22498852128662872, 0.22498852128662872, 0.22498852128662872, 0.22498852128662872, 0.22498852128662872, 0.22498852128662872, 0.22498852128662872, 0.22498852128662872, 0.22498852128662872, 0.22498852128662872, 0.22498852128662872, 0.22498852128662872, 0.22498852128662872, 0.22498852128662872, 0.22498852128662872, 0.22498852128662872, 0.22498852128662872, 0.22498852128662872, 0.22498852128662872, 0.22498852128662872, 0.22498852128662872, 0.22498852128662872, 0.22498852128662872, 0.22498852128662872, 0.22498852128662872, 0.22498852128662872, 0.22498852128662872, 0.22498852128662872, 0.22498852128662872, 0.22498852128662872, 0.22498852128662872, 0.22498852128662872, 0.22498852128662872, 0.22498852128662872, 0.22498852128662872, 0.22498852128662872, 0.22498852128662872, 0.22498852128662872, 0.22498852128662872, 0.22498852128662872, 0.22498852128662872, 0.22498852128662872, 0.22498852128662872, 0.22498852128662872, 0.22498852128662872, 0.22498852128662872, 0.22498852128662872, 0.22498852128662872, 0.22498852128662872, 0.22498852128662872, 0.22498852128662872, 0.22498852128662872, 0.22498852128662872, 0.22498852128662872, 0.22498852128662872, 0.22498852128662872, 0.22498852128662872, 0.22498852128662872, 0.22498852128662872, 0.22498852128662872, 0.22498852128662872, 0.22498852128662872, 0.22498852128662872, 0.22498852128662872, 0.22498852128662872, 0.22498852128662872, 0.22498852128662872, 0.22498852128662872, 0.22498852128662872, 0.22498852128662872, 0.22498852128662872, 0.22498852128662872, 0.22498852128662872, 0.22498852128662872, 0.22498852128662872, 0.22498852128662872, 0.22498852128662872, 0.22498852128662872, 0.22498852128662872, 0.22498852128662872, 0.22498852128662872, 0.22498852128662872, 0.22498852128662872, 0.22498852128662872, 0.22498852128662872, 0.22498852128662872, 0.22498852128662872, 0.22498852128662872, 0.22498852128662872, 0.22498852128662872, 0.22498852128662872, 0.22498852128662872, 0.22498852128662872, 0.22498852128662872, 0.22498852128662872, 0.22498852128662872, 0.22498852128662872, 0.22498852128662872, 0.22498852128662872, 0.22498852128662872, 0.22498852128662872, 0.22498852128662872, 0.22498852128662872, 0.22498852128662872, 0.22498852128662872, 0.22498852128662872, 0.22498852128662872, 0.22498852128662872, 0.22498852128662872, 0.22498852128662872, 0.22498852128662872, 0.22498852128662872, 0.22498852128662872, 0.22498852128662872, 0.22498852128662872, 0.22498852128662872, 0.22498852128662872, 0.22498852128662872, 0.22498852128662872, 0.22498852128662872, 0.22498852128662872, 0.22498852128662872, 0.22498852128662872, 0.22498852128662872, 0.22498852128662872, 0.22498852128662872, 0.22498852128662872, 0.22498852128662872, 0.22498852128662872, 0.22498852128662872, 0.22498852128662872, 0.22498852128662872, 0.22498852128662872, 0.22498852128662872, 0.22498852128662872, 0.22498852128662872, 0.22498852128662872, 0.22498852128662872, 0.22498852128662872, 0.22498852128662872, 0.22498852128662872, 0.22498852128662872, 0.22498852128662872, 0.22498852128662872, 0.22498852128662872, 0.22498852128662872, 0.22498852128662872, 0.22498852128662872, 0.22498852128662872, 0.22498852128662872, 0.22498852128662872, 0.22498852128662872, 0.22498852128662872, 0.22498852128662872, 0.22498852128662872, 0.22498852128662872, 0.22498852128662872, 0.22498852128662872, 0.22498852128662872, 0.22498852128662872, 0.22498852128662872, 0.22498852128662872, 0.22498852128662872, 0.22498852128662872, 0.22498852128662872, 0.22498852128662872, 0.22498852128662872, 0.22498852128662872, 0.22498852128662872, 0.22498852128662872, 0.22498852128662872, 0.22498852128662872, 0.22498852128662872, 0.22498852128662872, 0.22498852128662872, 0.22498852128662872, 0.22498852128662872, 0.22498852128662872, 0.22498852128662872, 0.22498852128662872, 0.22498852128662872, 0.22498852128662872, 0.22498852128662872, 0.22498852128662872, 0.22498852128662872, 0.22498852128662872, 0.22498852128662872, 0.22498852128662872, 0.22498852128662872, 0.22498852128662872, 0.22498852128662872, 0.22498852128662872, 0.22498852128662872, 0.22498852128662872, 0.22498852128662872, 0.22498852128662872, 0.22498852128662872, 0.22498852128662872, 0.22498852128662872, 0.22498852128662872, 0.22498852128662872, 0.22498852128662872, 0.22498852128662872, 0.22498852128662872, 0.22498852128662872, 0.22498852128662872, 0.22498852128662872, 0.22498852128662872, 0.22498852128662872, 0.22498852128662872, 0.22498852128662872, 0.22498852128662872, 0.22498852128662872, 0.22498852128662872, 0.22498852128662872, 0.22498852128662872, 0.22498852128662872, 0.22498852128662872, 0.22498852128662872, 0.22498852128662872, 0.22498852128662872, 0.22498852128662872, 0.22498852128662872, 0.22498852128662872, 0.22498852128662872, 0.22498852128662872, 0.22498852128662872, 0.22498852128662872, 0.22498852128662872, 0.22498852128662872, 0.22498852128662872, 0.22498852128662872, 0.22498852128662872, 0.22498852128662872, 0.22498852128662872, 0.22498852128662872, 0.22498852128662872, 0.22498852128662872, 0.22498852128662872, 0.22498852128662872, 0.22498852128662872, 0.22498852128662872, 0.22498852128662872, 0.22498852128662872, 0.22498852128662872, 0.22498852128662872, 0.22498852128662872, 0.22498852128662872, 0.22498852128662872, 0.22498852128662872, 0.22498852128662872, 0.22498852128662872, 0.22498852128662872, 0.22498852128662872, 0.22498852128662872, 0.22498852128662872, 0.22498852128662872, 0.22498852128662872, 0.22498852128662872, 0.22498852128662872, 0.22498852128662872, 0.22498852128662872, 0.22498852128662872, 0.22498852128662872, 0.22498852128662872, 0.22498852128662872, 0.22498852128662872, 0.22498852128662872, 0.22498852128662872, 0.22498852128662872, 0.22498852128662872, 0.22498852128662872, 0.22498852128662872, 0.22498852128662872, 0.22498852128662872, 0.22498852128662872, 0.22498852128662872, 0.22498852128662872, 0.22498852128662872, 0.22498852128662872, 0.22498852128662872, 0.22498852128662872, 0.22498852128662872, 0.22498852128662872, 0.22498852128662872, 0.22498852128662872, 0.22498852128662872, 0.22498852128662872, 0.22498852128662872, 0.22498852128662872, 0.22498852128662872, 0.22498852128662872, 0.22498852128662872, 0.22498852128662872, 0.22498852128662872, 0.22498852128662872, 0.22498852128662872, 0.22498852128662872, 0.22498852128662872, 0.22498852128662872, 0.22498852128662872, 0.22498852128662872, 0.22498852128662872, 0.22498852128662872, 0.22498852128662872, 0.22498852128662872, 0.22498852128662872, 0.22498852128662872, 0.22498852128662872, 0.22498852128662872, 0.22498852128662872, 0.22498852128662872, 0.22498852128662872, 0.22498852128662872, 0.22498852128662872, 0.22498852128662872, 0.22498852128662872, 0.22498852128662872, 0.22498852128662872, 0.22498852128662872, 0.22498852128662872, 0.22498852128662872, 0.22498852128662872, 0.22498852128662872, 0.22498852128662872, 0.22498852128662872, 0.22498852128662872, 0.22498852128662872, 0.22498852128662872, 0.22498852128662872, 0.22498852128662872, 0.22498852128662872, 0.22498852128662872, 0.22498852128662872, 0.22498852128662872, 0.22498852128662872, 0.22498852128662872, 0.22498852128662872, 0.22498852128662872, 0.22498852128662872, 0.22498852128662872, 0.22498852128662872, 0.22498852128662872, 0.22498852128662872, 0.22498852128662872, 0.22498852128662872, 0.22498852128662872, 0.22498852128662872, 0.22498852128662872, 0.22498852128662872, 0.22498852128662872, 0.22498852128662872, 0.22498852128662872, 0.22498852128662872, 0.22498852128662872, 0.22498852128662872, 0.22498852128662872, 0.22498852128662872, 0.22498852128662872, 0.22498852128662872, 0.22498852128662872, 0.22498852128662872, 0.22498852128662872, 0.22498852128662872, 0.22498852128662872, 0.22498852128662872, 0.22498852128662872, 0.22498852128662872, 0.22498852128662872, 0.22498852128662872, 0.22498852128662872, 0.22498852128662872, 0.22498852128662872, 0.22498852128662872, 0.22498852128662872, 0.22498852128662872, 0.22498852128662872, 0.22498852128662872, 0.22498852128662872, 0.22498852128662872, 0.22498852128662872, 0.22498852128662872, 0.22498852128662872, 0.22498852128662872, 0.22498852128662872, 0.22498852128662872, 0.22498852128662872, 0.22498852128662872, 0.22498852128662872, 0.22498852128662872, 0.22498852128662872, 0.22498852128662872, 0.22498852128662872, 0.22498852128662872, 0.22498852128662872, 0.22498852128662872, 0.22498852128662872, 0.22498852128662872, 0.22498852128662872, 0.22498852128662872, 0.22498852128662872, 0.22498852128662872, 0.22498852128662872, 0.22498852128662872, 0.22498852128662872, 0.22498852128662872, 0.22498852128662872, 0.22498852128662872, 0.22498852128662872, 0.22498852128662872, 0.22498852128662872, 0.22498852128662872, 0.22498852128662872, 0.22498852128662872, 0.22498852128662872, 0.22498852128662872, 0.22498852128662872, 0.22498852128662872, 0.22498852128662872, 0.22498852128662872, 0.22498852128662872, 0.22498852128662872, 0.22498852128662872, 0.22498852128662872, 0.22498852128662872, 0.22498852128662872, 0.22498852128662872, 0.22498852128662872, 0.22498852128662872, 0.22498852128662872, 0.22498852128662872, 0.22498852128662872, 0.22498852128662872, 0.22498852128662872, 0.22498852128662872, 0.22498852128662872, 0.22498852128662872, 0.22498852128662872, 0.22498852128662872, 0.22498852128662872, 0.22498852128662872, 0.22498852128662872, 0.22498852128662872, 0.22498852128662872, 0.22498852128662872, 0.22498852128662872, 0.22498852128662872, 0.22498852128662872, 0.22498852128662872, 0.22498852128662872, 0.22498852128662872, 0.22498852128662872, 0.22498852128662872, 0.22498852128662872, 0.22498852128662872, 0.22498852128662872, 0.22498852128662872, 0.22498852128662872, 0.22498852128662872, 0.22498852128662872, 0.22498852128662872, 0.22498852128662872, 0.22498852128662872, 0.22498852128662872, 0.22498852128662872, 0.22498852128662872, 0.22498852128662872, 0.22498852128662872, 0.22498852128662872, 0.22498852128662872, 0.22498852128662872, 0.22498852128662872, 0.22498852128662872, 0.22498852128662872, 0.22498852128662872, 0.22498852128662872, 0.22498852128662872, 0.22498852128662872, 0.22498852128662872, 0.22498852128662872, 0.22498852128662872, 0.22498852128662872, 0.22498852128662872, 0.22498852128662872, 0.22498852128662872, 0.22498852128662872, 0.22498852128662872, 0.22498852128662872, 0.22498852128662872, 0.22498852128662872, 0.22498852128662872, 0.22498852128662872, 0.22498852128662872, 0.22498852128662872, 0.22498852128662872, 0.22498852128662872, 0.22498852128662872, 0.22498852128662872, 0.22498852128662872, 0.22498852128662872, 0.22498852128662872, 0.22498852128662872, 0.22498852128662872, 0.22498852128662872, 0.22498852128662872, 0.22498852128662872, 0.22498852128662872, 0.22498852128662872, 0.22498852128662872, 0.22498852128662872, 0.22498852128662872, 0.22498852128662872, 0.22498852128662872, 0.22498852128662872, 0.22498852128662872, 0.22498852128662872, 0.22498852128662872, 0.22498852128662872, 0.22498852128662872, 0.22498852128662872, 0.22498852128662872, 0.22498852128662872, 0.22498852128662872, 0.22498852128662872, 0.22498852128662872, 0.22498852128662872, 0.22498852128662872, 0.22498852128662872, 0.22498852128662872, 0.22498852128662872, 0.22498852128662872, 0.22498852128662872, 0.22498852128662872, 0.22498852128662872, 0.22498852128662872, 0.22498852128662872, 0.22498852128662872, 0.22498852128662872, 0.22498852128662872, 0.22498852128662872, 0.22498852128662872, 0.22498852128662872, 0.22498852128662872, 0.22498852128662872, 0.22498852128662872, 0.22498852128662872, 0.22498852128662872, 0.22498852128662872, 0.22498852128662872, 0.22498852128662872, 0.22498852128662872, 0.22498852128662872, 0.22498852128662872, 0.22498852128662872, 0.22498852128662872, 0.22498852128662872, 0.22498852128662872, 0.22498852128662872, 0.22498852128662872, 0.22498852128662872, 0.22498852128662872, 0.22498852128662872, 0.22498852128662872, 0.22498852128662872, 0.22498852128662872, 0.22498852128662872, 0.22498852128662872, 0.22498852128662872, 0.22498852128662872, 0.22498852128662872, 0.22498852128662872, 0.22498852128662872, 0.22498852128662872, 0.22498852128662872, 0.22498852128662872, 0.22498852128662872, 0.22498852128662872, 0.22498852128662872, 0.22498852128662872, 0.22498852128662872, 0.22498852128662872, 0.22498852128662872, 0.22498852128662872, 0.22498852128662872, 0.22498852128662872, 0.22498852128662872, 0.22498852128662872, 0.22498852128662872, 0.22498852128662872, 0.22498852128662872, 0.22498852128662872, 0.22498852128662872, 0.22498852128662872, 0.22498852128662872, 0.22498852128662872, 0.22498852128662872, 0.22498852128662872, 0.22498852128662872, 0.22498852128662872, 0.22498852128662872, 0.22498852128662872, 0.22498852128662872, 0.22498852128662872, 0.22498852128662872, 0.22498852128662872, 0.22498852128662872, 0.22498852128662872, 0.22498852128662872, 0.22498852128662872, 0.22498852128662872, 0.22498852128662872, 0.22498852128662872, 0.22498852128662872, 0.22498852128662872, 0.22498852128662872, 0.22498852128662872, 0.22498852128662872, 0.22498852128662872, 0.22498852128662872, 0.22498852128662872, 0.22498852128662872, 0.22498852128662872, 0.22498852128662872, 0.22498852128662872, 0.22498852128662872, 0.22498852128662872, 0.22498852128662872, 0.22498852128662872, 0.22498852128662872, 0.22498852128662872, 0.22498852128662872, 0.22498852128662872, 0.22498852128662872, 0.22498852128662872, 0.22498852128662872, 0.22498852128662872, 0.22498852128662872, 0.22498852128662872, 0.22498852128662872, 0.22498852128662872, 0.22498852128662872, 0.22498852128662872, 0.22498852128662872, 0.22498852128662872, 0.22498852128662872, 0.22498852128662872, 0.22498852128662872, 0.22498852128662872, 0.22498852128662872, 0.22498852128662872, 0.22498852128662872, 0.22498852128662872, 0.22498852128662872, 0.22498852128662872, 0.22498852128662872, 0.22498852128662872, 0.22498852128662872, 0.22498852128662872, 0.22498852128662872, 0.22498852128662872, 0.22498852128662872, 0.22498852128662872, 0.22498852128662872, 0.22498852128662872, 0.22498852128662872, 0.22498852128662872, 0.22498852128662872, 0.22498852128662872, 0.22498852128662872, 0.22498852128662872, 0.22498852128662872, 0.22498852128662872, 0.22498852128662872, 0.22498852128662872, 0.22498852128662872, 0.22498852128662872, 0.22498852128662872, 0.22498852128662872, 0.22498852128662872, 0.22498852128662872, 0.22498852128662872, 0.22498852128662872, 0.22498852128662872, 0.22498852128662872, 0.22498852128662872, 0.22498852128662872, 0.22498852128662872, 0.22498852128662872, 0.22498852128662872, 0.22498852128662872, 0.22498852128662872, 0.22498852128662872, 0.22498852128662872, 0.22498852128662872, 0.22498852128662872, 0.22498852128662872, 0.22498852128662872, 0.22498852128662872, 0.22498852128662872, 0.22498852128662872, 0.22498852128662872, 0.22498852128662872, 0.22498852128662872, 0.22498852128662872, 0.22498852128662872, 0.22498852128662872, 0.22498852128662872, 0.22498852128662872, 0.22498852128662872, 0.22498852128662872, 0.22498852128662872, 0.22498852128662872, 0.22498852128662872, 0.22498852128662872, 0.22498852128662872, 0.22498852128662872, 0.22498852128662872, 0.22498852128662872, 0.22498852128662872, 0.22498852128662872, 0.22498852128662872, 0.22498852128662872, 0.22498852128662872, 0.22498852128662872, 0.22498852128662872, 0.22498852128662872, 0.22498852128662872, 0.22498852128662872, 0.22498852128662872, 0.22498852128662872, 0.22498852128662872, 0.22498852128662872, 0.22498852128662872, 0.22498852128662872, 0.22498852128662872, 0.22498852128662872, 0.22498852128662872, 0.22498852128662872, 0.22498852128662872, 0.22498852128662872, 0.22498852128662872, 0.22498852128662872, 0.22498852128662872, 0.22498852128662872, 0.22498852128662872, 0.22498852128662872, 0.22498852128662872, 0.22498852128662872, 0.22498852128662872, 0.22498852128662872, 0.22498852128662872, 0.22498852128662872, 0.22498852128662872, 0.22498852128662872, 0.22498852128662872, 0.22498852128662872, 0.22498852128662872, 0.22498852128662872, 0.22498852128662872, 0.22498852128662872, 0.22498852128662872, 0.22498852128662872, 0.22498852128662872, 0.22498852128662872, 0.22498852128662872, 0.22498852128662872, 0.22498852128662872, 0.22498852128662872, 0.22498852128662872, 0.22498852128662872, 0.22498852128662872, 0.22498852128662872, 0.22498852128662872, 0.22498852128662872, 0.22498852128662872, 0.22498852128662872, 0.22498852128662872, 0.22498852128662872, 0.22498852128662872, 0.22498852128662872, 0.22498852128662872, 0.22498852128662872, 0.22498852128662872, 0.22498852128662872, 0.22498852128662872, 0.22498852128662872, 0.22498852128662872, 0.22498852128662872, 0.22498852128662872, 0.22498852128662872, 0.22498852128662872, 0.22498852128662872, 0.22498852128662872, 0.22498852128662872, 0.22498852128662872, 0.22498852128662872, 0.22498852128662872, 0.22498852128662872, 0.22498852128662872, 0.22498852128662872, 0.22498852128662872, 0.22498852128662872, 0.22498852128662872, 0.22498852128662872, 0.22498852128662872, 0.22498852128662872, 0.22498852128662872, 0.22498852128662872, 0.22498852128662872, 0.22498852128662872, 0.22498852128662872, 0.22498852128662872, 0.22498852128662872, 0.22498852128662872, 0.22498852128662872, 0.22498852128662872, 0.22498852128662872, 0.22498852128662872, 0.22498852128662872, 0.22498852128662872, 0.22498852128662872, 0.22498852128662872, 0.22498852128662872, 0.22498852128662872, 0.22498852128662872, 0.22498852128662872, 0.22498852128662872, 0.22498852128662872, 0.22498852128662872, 0.22498852128662872, 0.22498852128662872, 0.22498852128662872, 0.22498852128662872, 0.22498852128662872, 0.22498852128662872, 0.22498852128662872, 0.22498852128662872, 0.22498852128662872, 0.22498852128662872, 0.22498852128662872, 0.22498852128662872, 0.22498852128662872, 0.22498852128662872, 0.22498852128662872, 0.22498852128662872, 0.22498852128662872, 0.22498852128662872, 0.22498852128662872, 0.22498852128662872, 0.22498852128662872, 0.22498852128662872, 0.22498852128662872, 0.22498852128662872, 0.22498852128662872, 0.22498852128662872, 0.22498852128662872, 0.22498852128662872, 0.22498852128662872, 0.22498852128662872, 0.22498852128662872, 0.22498852128662872, 0.22498852128662872, 0.22498852128662872, 0.22498852128662872, 0.22498852128662872, 0.22498852128662872, 0.22498852128662872, 0.22498852128662872, 0.22498852128662872, 0.22498852128662872, 0.22498852128662872, 0.22498852128662872, 0.22498852128662872, 0.22498852128662872, 0.22498852128662872, 0.22498852128662872, 0.22498852128662872, 0.22498852128662872, 0.22498852128662872, 0.22498852128662872, 0.22498852128662872, 0.22498852128662872, 0.22498852128662872, 0.22498852128662872, 0.22498852128662872, 0.22498852128662872, 0.22498852128662872, 0.22498852128662872, 0.22498852128662872, 0.22498852128662872, 0.22498852128662872, 0.22498852128662872, 0.22498852128662872, 0.22498852128662872, 0.22498852128662872, 0.22498852128662872, 0.22498852128662872, 0.22498852128662872, 0.22498852128662872, 0.22498852128662872, 0.22498852128662872, 0.22498852128662872, 0.22498852128662872, 0.22498852128662872, 0.22498852128662872, 0.22498852128662872, 0.22498852128662872, 0.22498852128662872, 0.22498852128662872, 0.22498852128662872, 0.22498852128662872, 0.22498852128662872, 0.22498852128662872, 0.22498852128662872, 0.22498852128662872, 0.22498852128662872, 0.22498852128662872, 0.22498852128662872, 0.22498852128662872, 0.22498852128662872, 0.22498852128662872, 0.22498852128662872, 0.22498852128662872, 0.22498852128662872, 0.22498852128662872, 0.22498852128662872, 0.22498852128662872, 0.22498852128662872, 0.22498852128662872, 0.22498852128662872, 0.22498852128662872, 0.22498852128662872, 0.22498852128662872, 0.22498852128662872, 0.22498852128662872, 0.22498852128662872, 0.22498852128662872, 0.22498852128662872, 0.22498852128662872, 0.22498852128662872, 0.22498852128662872, 0.22498852128662872, 0.22498852128662872, 0.22498852128662872, 0.22498852128662872, 0.22498852128662872, 0.22498852128662872, 0.22498852128662872, 0.22498852128662872, 0.22498852128662872, 0.22498852128662872, 0.22498852128662872, 0.22498852128662872, 0.22498852128662872, 0.22498852128662872, 0.22498852128662872, 0.22498852128662872, 0.22498852128662872, 0.22498852128662872, 0.22498852128662872, 0.22498852128662872, 0.22498852128662872, 0.22498852128662872, 0.22498852128662872, 0.22498852128662872, 0.22498852128662872, 0.22498852128662872, 0.22498852128662872, 0.22498852128662872, 0.22498852128662872, 0.22498852128662872, 0.22498852128662872, 0.22498852128662872, 0.22498852128662872, 0.22498852128662872, 0.22498852128662872, 0.22498852128662872, 0.22498852128662872, 0.22498852128662872, 0.22498852128662872, 0.22498852128662872, 0.22498852128662872, 0.22498852128662872, 0.22498852128662872, 0.22498852128662872, 0.22498852128662872, 0.22498852128662872, 0.22498852128662872, 0.22498852128662872, 0.22498852128662872, 0.22498852128662872, 0.22498852128662872, 0.22498852128662872, 0.22498852128662872, 0.22498852128662872, 0.22498852128662872, 0.22498852128662872, 0.22498852128662872, 0.22498852128662872, 0.22498852128662872, 0.22498852128662872, 0.22498852128662872, 0.22498852128662872, 0.22498852128662872, 0.22498852128662872, 0.22498852128662872, 0.22498852128662872, 0.22498852128662872, 0.22498852128662872, 0.22498852128662872, 0.22498852128662872, 0.22498852128662872, 0.22498852128662872, 0.22498852128662872, 0.22498852128662872, 0.22498852128662872, 0.22498852128662872, 0.22498852128662872, 0.22498852128662872, 0.22498852128662872, 0.22498852128662872, 0.22498852128662872, 0.22498852128662872, 0.22498852128662872, 0.22498852128662872, 0.22498852128662872, 0.22498852128662872, 0.22498852128662872, 0.22498852128662872, 0.22498852128662872, 0.22498852128662872, 0.22498852128662872, 0.22498852128662872, 0.22498852128662872, 0.22498852128662872, 0.22498852128662872, 0.22498852128662872, 0.22498852128662872, 0.22498852128662872, 0.22498852128662872, 0.22498852128662872, 0.22498852128662872, 0.22498852128662872, 0.22498852128662872, 0.22498852128662872, 0.22498852128662872, 0.22498852128662872, 0.22498852128662872, 0.22498852128662872, 0.22498852128662872, 0.22498852128662872, 0.22498852128662872, 0.22498852128662872, 0.22498852128662872, 0.22498852128662872, 0.22498852128662872, 0.22498852128662872, 0.22498852128662872, 0.22498852128662872, 0.22498852128662872, 0.22498852128662872, 0.22498852128662872, 0.22498852128662872, 0.22498852128662872, 0.22498852128662872, 0.22498852128662872, 0.22498852128662872, 0.22498852128662872, 0.22498852128662872, 0.22498852128662872, 0.22498852128662872, 0.22498852128662872, 0.22498852128662872, 0.22498852128662872, 0.22498852128662872, 0.22498852128662872, 0.22498852128662872, 0.22498852128662872, 0.22498852128662872, 0.22498852128662872, 0.22498852128662872, 0.22498852128662872, 0.22498852128662872, 0.22498852128662872, 0.22498852128662872, 0.22498852128662872, 0.22498852128662872, 0.22498852128662872, 0.22498852128662872, 0.22498852128662872, 0.22498852128662872, 0.22498852128662872, 0.22498852128662872, 0.22498852128662872, 0.22498852128662872, 0.22498852128662872, 0.22498852128662872, 0.22498852128662872, 0.22498852128662872, 0.22498852128662872, 0.22498852128662872, 0.22498852128662872, 0.22498852128662872, 0.22498852128662872, 0.22498852128662872, 0.22498852128662872, 0.22498852128662872, 0.22498852128662872, 0.22498852128662872, 0.22498852128662872, 0.22498852128662872, 0.22498852128662872, 0.22498852128662872, 0.22498852128662872, 0.22498852128662872, 0.22498852128662872, 0.22498852128662872, 0.22498852128662872, 0.22498852128662872, 0.22498852128662872, 0.22498852128662872, 0.22498852128662872, 0.22498852128662872, 0.22498852128662872, 0.22498852128662872, 0.22498852128662872, 0.22498852128662872, 0.22498852128662872, 0.22498852128662872, 0.22498852128662872, 0.22498852128662872, 0.22498852128662872, 0.22498852128662872, 0.22498852128662872, 0.22498852128662872, 0.22498852128662872, 0.22498852128662872, 0.22498852128662872, 0.22498852128662872, 0.22498852128662872, 0.22498852128662872, 0.22498852128662872, 0.22498852128662872, 0.22498852128662872, 0.22498852128662872, 0.22498852128662872, 0.22498852128662872, 0.22498852128662872, 0.22498852128662872, 0.22498852128662872, 0.22498852128662872, 0.22498852128662872, 0.22498852128662872, 0.22498852128662872, 0.22498852128662872, 0.22498852128662872, 0.22498852128662872, 0.22498852128662872, 0.22498852128662872, 0.22498852128662872, 0.22498852128662872, 0.22498852128662872, 0.22498852128662872, 0.22498852128662872, 0.22498852128662872, 0.22498852128662872, 0.22498852128662872, 0.22498852128662872, 0.22498852128662872, 0.22498852128662872, 0.22498852128662872, 0.22498852128662872, 0.22498852128662872, 0.22498852128662872, 0.22498852128662872, 0.22498852128662872, 0.22498852128662872, 0.22498852128662872, 0.22498852128662872, 0.22498852128662872, 0.22498852128662872, 0.22498852128662872, 0.22498852128662872, 0.22498852128662872, 0.22498852128662872, 0.22498852128662872, 0.22498852128662872, 0.22498852128662872, 0.22498852128662872, 0.22498852128662872, 0.22498852128662872, 0.22498852128662872, 0.22498852128662872, 0.22498852128662872, 0.22498852128662872, 0.22498852128662872, 0.22498852128662872, 0.22498852128662872, 0.22498852128662872, 0.22498852128662872, 0.22498852128662872, 0.22498852128662872, 0.22498852128662872, 0.22498852128662872, 0.22498852128662872, 0.22498852128662872, 0.22498852128662872, 0.22498852128662872, 0.22498852128662872, 0.22498852128662872, 0.22498852128662872, 0.22498852128662872, 0.22498852128662872, 0.22498852128662872, 0.22498852128662872, 0.22498852128662872, 0.22498852128662872, 0.22498852128662872, 0.22498852128662872, 0.22498852128662872, 0.22498852128662872, 0.22498852128662872, 0.22498852128662872, 0.22498852128662872, 0.22498852128662872, 0.22498852128662872, 0.22498852128662872, 0.22498852128662872, 0.22498852128662872, 0.22498852128662872, 0.22498852128662872, 0.22498852128662872, 0.22498852128662872, 0.22498852128662872, 0.22498852128662872, 0.22498852128662872, 0.22498852128662872, 0.22498852128662872, 0.22498852128662872, 0.22498852128662872, 0.22498852128662872, 0.22498852128662872, 0.22498852128662872, 0.22498852128662872, 0.22498852128662872, 0.22498852128662872, 0.22498852128662872, 0.22498852128662872, 0.22498852128662872, 0.22498852128662872, 0.22498852128662872, 0.22498852128662872, 0.22498852128662872, 0.22498852128662872, 0.22498852128662872, 0.22498852128662872, 0.22498852128662872, 0.22498852128662872, 0.22498852128662872, 0.22498852128662872, 0.22498852128662872, 0.22498852128662872, 0.22498852128662872, 0.22498852128662872, 0.22498852128662872, 0.22498852128662872, 0.22498852128662872, 0.22498852128662872, 0.22498852128662872, 0.22498852128662872, 0.22498852128662872, 0.22498852128662872, 0.22498852128662872, 0.22498852128662872, 0.22498852128662872, 0.22498852128662872, 0.22498852128662872, 0.22498852128662872, 0.22498852128662872, 0.22498852128662872, 0.22498852128662872, 0.22498852128662872, 0.22498852128662872, 0.22498852128662872, 0.22498852128662872, 0.22498852128662872, 0.22498852128662872, 0.22498852128662872, 0.22498852128662872, 0.22498852128662872, 0.22498852128662872, 0.22498852128662872, 0.22498852128662872, 0.22498852128662872, 0.22498852128662872, 0.22498852128662872, 0.22498852128662872, 0.22498852128662872, 0.22498852128662872, 0.22498852128662872, 0.22498852128662872, 0.22498852128662872, 0.22498852128662872, 0.22498852128662872, 0.22498852128662872, 0.22498852128662872, 0.22498852128662872, 0.22498852128662872, 0.22498852128662872, 0.22498852128662872, 0.22498852128662872, 0.22498852128662872, 0.22498852128662872, 0.22498852128662872, 0.22498852128662872, 0.22498852128662872, 0.22498852128662872, 0.22498852128662872, 0.22498852128662872, 0.22498852128662872, 0.22498852128662872, 0.22498852128662872, 0.22498852128662872, 0.22498852128662872, 0.22498852128662872, 0.22498852128662872, 0.22498852128662872, 0.22498852128662872, 0.22498852128662872, 0.22498852128662872, 0.22498852128662872, 0.22498852128662872, 0.22498852128662872, 0.22498852128662872, 0.22498852128662872, 0.22498852128662872, 0.22498852128662872, 0.22498852128662872, 0.22498852128662872, 0.22498852128662872, 0.22498852128662872, 0.22498852128662872, 0.22498852128662872, 0.22498852128662872, 0.22498852128662872, 0.22498852128662872, 0.22498852128662872, 0.22498852128662872, 0.22498852128662872, 0.22498852128662872, 0.22498852128662872, 0.22498852128662872, 0.22498852128662872, 0.22498852128662872, 0.22498852128662872, 0.22498852128662872, 0.22498852128662872, 0.22498852128662872, 0.22498852128662872, 0.22498852128662872, 0.22498852128662872, 0.22498852128662872, 0.22498852128662872, 0.22498852128662872, 0.22498852128662872, 0.22498852128662872, 0.22498852128662872, 0.22498852128662872, 0.22498852128662872, 0.22498852128662872, 0.22498852128662872, 0.22498852128662872, 0.22498852128662872, 0.22498852128662872, 0.22498852128662872, 0.22498852128662872, 0.22498852128662872, 0.22498852128662872, 0.22498852128662872, 0.22498852128662872, 0.22498852128662872, 0.22498852128662872, 0.22498852128662872, 0.22498852128662872, 0.22498852128662872, 0.22498852128662872, 0.22498852128662872, 0.22498852128662872, 0.22498852128662872, 0.22498852128662872, 0.22498852128662872, 0.22498852128662872, 0.22498852128662872, 0.22498852128662872, 0.22498852128662872, 0.22498852128662872, 0.22498852128662872, 0.22498852128662872, 0.22498852128662872, 0.22498852128662872, 0.22498852128662872, 0.22498852128662872, 0.22498852128662872, 0.22498852128662872, 0.22498852128662872, 0.22498852128662872, 0.22498852128662872, 0.22498852128662872, 0.22498852128662872, 0.22498852128662872, 0.22498852128662872, 0.22498852128662872, 0.22498852128662872, 0.22498852128662872, 0.22498852128662872, 0.22498852128662872, 0.22498852128662872, 0.22498852128662872, 0.22498852128662872, 0.22498852128662872, 0.22498852128662872, 0.22498852128662872, 0.22498852128662872, 0.22498852128662872, 0.22498852128662872, 0.22498852128662872, 0.22498852128662872, 0.22498852128662872, 0.22498852128662872, 0.22498852128662872, 0.22498852128662872, 0.22498852128662872, 0.22498852128662872, 0.22498852128662872, 0.22498852128662872, 0.22498852128662872, 0.22498852128662872, 0.22498852128662872, 0.22498852128662872, 0.22498852128662872, 0.22498852128662872, 0.22498852128662872, 0.22498852128662872, 0.22498852128662872, 0.22498852128662872, 0.22498852128662872, 0.22498852128662872, 0.22498852128662872, 0.22498852128662872, 0.22498852128662872, 0.22498852128662872, 0.22498852128662872, 0.22498852128662872, 0.22498852128662872, 0.22498852128662872, 0.22498852128662872, 0.22498852128662872, 0.22498852128662872, 0.22498852128662872, 0.22498852128662872, 0.22498852128662872, 0.22498852128662872, 0.22498852128662872, 0.22498852128662872, 0.22498852128662872, 0.22498852128662872, 0.22498852128662872, 0.22498852128662872, 0.22498852128662872, 0.22498852128662872, 0.22498852128662872, 0.22498852128662872, 0.22498852128662872, 0.22498852128662872, 0.22498852128662872, 0.22498852128662872, 0.22498852128662872, 0.22498852128662872, 0.22498852128662872, 0.22498852128662872, 0.22498852128662872, 0.22498852128662872, 0.22498852128662872, 0.22498852128662872, 0.22498852128662872, 0.22498852128662872, 0.22498852128662872, 0.22498852128662872, 0.22498852128662872, 0.22498852128662872, 0.22498852128662872, 0.22498852128662872, 0.22498852128662872, 0.22498852128662872, 0.22498852128662872, 0.22498852128662872, 0.22498852128662872, 0.22498852128662872, 0.22498852128662872, 0.22498852128662872, 0.22498852128662872, 0.22498852128662872, 0.22498852128662872, 0.22498852128662872, 0.22498852128662872, 0.22498852128662872, 0.22498852128662872, 0.22498852128662872, 0.22498852128662872, 0.22498852128662872, 0.22498852128662872, 0.22498852128662872, 0.22498852128662872, 0.22498852128662872, 0.22498852128662872, 0.22498852128662872, 0.22498852128662872, 0.22498852128662872, 0.22498852128662872, 0.22498852128662872, 0.22498852128662872, 0.22498852128662872, 0.22498852128662872, 0.22498852128662872, 0.22498852128662872, 0.22498852128662872, 0.22498852128662872, 0.22498852128662872, 0.22498852128662872, 0.22498852128662872, 0.22498852128662872, 0.22498852128662872, 0.22498852128662872, 0.22498852128662872, 0.22498852128662872, 0.22498852128662872, 0.22498852128662872, 0.22498852128662872, 0.22498852128662872, 0.22498852128662872, 0.22498852128662872, 0.22498852128662872, 0.22498852128662872, 0.22498852128662872, 0.22498852128662872, 0.22498852128662872, 0.22498852128662872, 0.22498852128662872, 0.22498852128662872, 0.22498852128662872, 0.22498852128662872, 0.22498852128662872, 0.22498852128662872, 0.22498852128662872, 0.22498852128662872, 0.22498852128662872, 0.22498852128662872, 0.22498852128662872, 0.22498852128662872, 0.22498852128662872, 0.22498852128662872, 0.22498852128662872, 0.22498852128662872, 0.22498852128662872, 0.22498852128662872, 0.22498852128662872, 0.22498852128662872, 0.22498852128662872, 0.22498852128662872, 0.22498852128662872, 0.22498852128662872, 0.22498852128662872, 0.22498852128662872, 0.22498852128662872, 0.22498852128662872, 0.22498852128662872, 0.22498852128662872, 0.22498852128662872, 0.22498852128662872, 0.22498852128662872, 0.22498852128662872, 0.22498852128662872, 0.22498852128662872, 0.22498852128662872, 0.22498852128662872, 0.22498852128662872, 0.22498852128662872, 0.22498852128662872, 0.22498852128662872, 0.22498852128662872, 0.22498852128662872, 0.22498852128662872, 0.22498852128662872, 0.22498852128662872, 0.22498852128662872, 0.22498852128662872, 0.22498852128662872, 0.22498852128662872, 0.22498852128662872, 0.22498852128662872, 0.22498852128662872, 0.22498852128662872, 0.22498852128662872, 0.22498852128662872, 0.22498852128662872, 0.22498852128662872, 0.22498852128662872, 0.22498852128662872, 0.22498852128662872, 0.22498852128662872, 0.22498852128662872, 0.22498852128662872, 0.22498852128662872, 0.22498852128662872, 0.22498852128662872, 0.22498852128662872, 0.22498852128662872, 0.22498852128662872, 0.22498852128662872, 0.22498852128662872, 0.22498852128662872, 0.22498852128662872, 0.22498852128662872, 0.22498852128662872, 0.22498852128662872, 0.22498852128662872, 0.22498852128662872, 0.22498852128662872, 0.22498852128662872, 0.22498852128662872, 0.22498852128662872, 0.22498852128662872, 0.22498852128662872, 0.22498852128662872, 0.22498852128662872, 0.22498852128662872, 0.22498852128662872, 0.22498852128662872, 0.22498852128662872, 0.22498852128662872, 0.22498852128662872, 0.22498852128662872, 0.22498852128662872, 0.22498852128662872, 0.22498852128662872, 0.22498852128662872, 0.22498852128662872, 0.22498852128662872, 0.22498852128662872, 0.22498852128662872, 0.22498852128662872, 0.22498852128662872, 0.22498852128662872, 0.22498852128662872, 0.22498852128662872, 0.22498852128662872, 0.22498852128662872, 0.22498852128662872, 0.22498852128662872, 0.22498852128662872, 0.22498852128662872, 0.22498852128662872, 0.22498852128662872, 0.22498852128662872, 0.22498852128662872, 0.22498852128662872, 0.22498852128662872, 0.22498852128662872, 0.22498852128662872, 0.22498852128662872, 0.22498852128662872, 0.22498852128662872, 0.22498852128662872, 0.22498852128662872, 0.22498852128662872, 0.22498852128662872, 0.22498852128662872, 0.22498852128662872, 0.22498852128662872, 0.22498852128662872, 0.22498852128662872, 0.22498852128662872, 0.22498852128662872, 0.22498852128662872, 0.22498852128662872, 0.22498852128662872, 0.22498852128662872, 0.22498852128662872, 0.22498852128662872, 0.22498852128662872, 0.22498852128662872, 0.22498852128662872, 0.22498852128662872, 0.22498852128662872, 0.22498852128662872, 0.22498852128662872, 0.22498852128662872, 0.22498852128662872, 0.22498852128662872, 0.22498852128662872, 0.22498852128662872, 0.22498852128662872, 0.22498852128662872, 0.22498852128662872, 0.22498852128662872, 0.22498852128662872, 0.22498852128662872, 0.22498852128662872, 0.22498852128662872, 0.22498852128662872, 0.22498852128662872, 0.22498852128662872, 0.22498852128662872, 0.22498852128662872, 0.22498852128662872, 0.22498852128662872, 0.22498852128662872, 0.22498852128662872, 0.22498852128662872, 0.22498852128662872, 0.22498852128662872, 0.22498852128662872, 0.22498852128662872, 0.22498852128662872, 0.22498852128662872, 0.22498852128662872, 0.22498852128662872, 0.22498852128662872, 0.22498852128662872, 0.22498852128662872, 0.22498852128662872, 0.22498852128662872, 0.22498852128662872, 0.22498852128662872, 0.22498852128662872, 0.22498852128662872, 0.22498852128662872, 0.22498852128662872, 0.22498852128662872, 0.22498852128662872, 0.22498852128662872, 0.22498852128662872, 0.22498852128662872, 0.22498852128662872, 0.22498852128662872, 0.22498852128662872, 0.22498852128662872, 0.22498852128662872, 0.22498852128662872, 0.22498852128662872, 0.22498852128662872, 0.22498852128662872, 0.22498852128662872, 0.22498852128662872, 0.22498852128662872, 0.22498852128662872, 0.22498852128662872, 0.22498852128662872, 0.22498852128662872, 0.22498852128662872, 0.22498852128662872, 0.22498852128662872, 0.22498852128662872, 0.22498852128662872, 0.22498852128662872, 0.22498852128662872, 0.22498852128662872, 0.22498852128662872, 0.22498852128662872, 0.22498852128662872, 0.22498852128662872, 0.22498852128662872, 0.22498852128662872, 0.22498852128662872, 0.22498852128662872, 0.22498852128662872, 0.22498852128662872, 0.22498852128662872, 0.22498852128662872, 0.22498852128662872, 0.22498852128662872, 0.22498852128662872, 0.22498852128662872, 0.22498852128662872, 0.22498852128662872, 0.22498852128662872, 0.22498852128662872, 0.22498852128662872, 0.22498852128662872, 0.22498852128662872, 0.22498852128662872, 0.22498852128662872, 0.22498852128662872, 0.22498852128662872, 0.22498852128662872, 0.22498852128662872, 0.22498852128662872, 0.22498852128662872, 0.22498852128662872, 0.22498852128662872, 0.22498852128662872, 0.22498852128662872, 0.22498852128662872, 0.22498852128662872, 0.22498852128662872, 0.22498852128662872, 0.22498852128662872, 0.22498852128662872, 0.22498852128662872, 0.22498852128662872, 0.22498852128662872, 0.22498852128662872, 0.22498852128662872, 0.22498852128662872, 0.22498852128662872, 0.22498852128662872, 0.22498852128662872, 0.22498852128662872, 0.22498852128662872, 0.22498852128662872, 0.22498852128662872, 0.22498852128662872, 0.22498852128662872, 0.22498852128662872, 0.22498852128662872, 0.22498852128662872, 0.22498852128662872, 0.22498852128662872, 0.22498852128662872, 0.22498852128662872, 0.22498852128662872, 0.22498852128662872, 0.22498852128662872, 0.22498852128662872, 0.22498852128662872, 0.22498852128662872, 0.22498852128662872, 0.22498852128662872, 0.22498852128662872, 0.22498852128662872, 0.22498852128662872, 0.22498852128662872, 0.22498852128662872, 0.22498852128662872, 0.22498852128662872, 0.22498852128662872, 0.22498852128662872, 0.22498852128662872, 0.22498852128662872, 0.22498852128662872, 0.22498852128662872, 0.22498852128662872, 0.22498852128662872, 0.22498852128662872, 0.22498852128662872, 0.22498852128662872, 0.22498852128662872, 0.22498852128662872, 0.22498852128662872, 0.22498852128662872, 0.22498852128662872, 0.22498852128662872, 0.22498852128662872, 0.22498852128662872, 0.22498852128662872, 0.22498852128662872, 0.22498852128662872, 0.22498852128662872, 0.22498852128662872, 0.22498852128662872, 0.22498852128662872, 0.22498852128662872, 0.22498852128662872, 0.22498852128662872, 0.22498852128662872, 0.22498852128662872, 0.22498852128662872, 0.22498852128662872, 0.22498852128662872, 0.22498852128662872, 0.22498852128662872, 0.22498852128662872, 0.22498852128662872, 0.22498852128662872, 0.22498852128662872, 0.22498852128662872, 0.22498852128662872, 0.22498852128662872, 0.22498852128662872, 0.22498852128662872, 0.22498852128662872, 0.22498852128662872, 0.22498852128662872, 0.22498852128662872, 0.22498852128662872, 0.22498852128662872, 0.22498852128662872, 0.22498852128662872, 0.22498852128662872, 0.22498852128662872, 0.22498852128662872, 0.22498852128662872, 0.22498852128662872, 0.22498852128662872, 0.22498852128662872, 0.22498852128662872, 0.22498852128662872, 0.22498852128662872, 0.22498852128662872, 0.22498852128662872, 0.22498852128662872, 0.22498852128662872, 0.22498852128662872, 0.22498852128662872, 0.22498852128662872, 0.22498852128662872, 0.22498852128662872, 0.22498852128662872, 0.22498852128662872, 0.22498852128662872, 0.22498852128662872, 0.22498852128662872, 0.22498852128662872, 0.22498852128662872, 0.22498852128662872, 0.22498852128662872, 0.22498852128662872, 0.22498852128662872, 0.22498852128662872, 0.22498852128662872, 0.22498852128662872, 0.22498852128662872, 0.22498852128662872, 0.22498852128662872, 0.22498852128662872, 0.22498852128662872, 0.22498852128662872, 0.22498852128662872, 0.22498852128662872, 0.22498852128662872, 0.22498852128662872, 0.22498852128662872, 0.22498852128662872, 0.22498852128662872, 0.22498852128662872, 0.22498852128662872, 0.22498852128662872, 0.22498852128662872, 0.22498852128662872, 0.22498852128662872, 0.22498852128662872, 0.22498852128662872, 0.22498852128662872, 0.22498852128662872, 0.22498852128662872, 0.22498852128662872, 0.22498852128662872, 0.22498852128662872, 0.22498852128662872, 0.22498852128662872, 0.22498852128662872, 0.22498852128662872, 0.22498852128662872, 0.22498852128662872, 0.22498852128662872, 0.22498852128662872, 0.22498852128662872, 0.22498852128662872, 0.22498852128662872, 0.22498852128662872, 0.22498852128662872, 0.22498852128662872, 0.22498852128662872, 0.22498852128662872, 0.22498852128662872, 0.22498852128662872, 0.22498852128662872, 0.22498852128662872, 0.22498852128662872, 0.22498852128662872, 0.22498852128662872, 0.22498852128662872, 0.22498852128662872, 0.22498852128662872, 0.22498852128662872, 0.22498852128662872, 0.22498852128662872, 0.22498852128662872, 0.22498852128662872, 0.22498852128662872, 0.22498852128662872, 0.22498852128662872, 0.22498852128662872, 0.22498852128662872, 0.22498852128662872, 0.22498852128662872, 0.22498852128662872, 0.22498852128662872, 0.22498852128662872, 0.22498852128662872, 0.22498852128662872, 0.22498852128662872, 0.22498852128662872, 0.22498852128662872, 0.22498852128662872, 0.22498852128662872, 0.22498852128662872, 0.22498852128662872, 0.22498852128662872, 0.22498852128662872, 0.22498852128662872, 0.22498852128662872, 0.22498852128662872, 0.22498852128662872, 0.22498852128662872, 0.22498852128662872, 0.22498852128662872, 0.22498852128662872, 0.22498852128662872, 0.22498852128662872, 0.22498852128662872, 0.22498852128662872, 0.22498852128662872, 0.22498852128662872, 0.22498852128662872, 0.22498852128662872, 0.22498852128662872, 0.22498852128662872, 0.22498852128662872, 0.22498852128662872, 0.22498852128662872, 0.22498852128662872, 0.22498852128662872, 0.22498852128662872, 0.22498852128662872, 0.22498852128662872, 0.22498852128662872, 0.22498852128662872, 0.22498852128662872, 0.22498852128662872, 0.22498852128662872, 0.22498852128662872, 0.22498852128662872, 0.22498852128662872, 0.22498852128662872, 0.22498852128662872, 0.22498852128662872, 0.22498852128662872, 0.22498852128662872, 0.22498852128662872, 0.22498852128662872, 0.22498852128662872, 0.22498852128662872, 0.22498852128662872, 0.22498852128662872, 0.22498852128662872, 0.22498852128662872, 0.22498852128662872, 0.22498852128662872, 0.22498852128662872, 0.22498852128662872, 0.22498852128662872, 0.22498852128662872, 0.22498852128662872, 0.22498852128662872, 0.22498852128662872, 0.22498852128662872, 0.22498852128662872, 0.22498852128662872, 0.22498852128662872, 0.22498852128662872, 0.22498852128662872, 0.22498852128662872, 0.22498852128662872, 0.22498852128662872, 0.22498852128662872, 0.22498852128662872, 0.22498852128662872, 0.22498852128662872, 0.22498852128662872, 0.22498852128662872, 0.22498852128662872, 0.22498852128662872, 0.22498852128662872, 0.22498852128662872, 0.22498852128662872, 0.22498852128662872, 0.22498852128662872, 0.22498852128662872, 0.22498852128662872, 0.22498852128662872, 0.22498852128662872, 0.22498852128662872, 0.22498852128662872, 0.22498852128662872, 0.22498852128662872, 0.22498852128662872, 0.22498852128662872, 0.22498852128662872, 0.22498852128662872, 0.22498852128662872, 0.22498852128662872, 0.22498852128662872, 0.22498852128662872, 0.22498852128662872, 0.22498852128662872, 0.22498852128662872, 0.22498852128662872, 0.22498852128662872, 0.22498852128662872, 0.22498852128662872, 0.22498852128662872, 0.22498852128662872, 0.22498852128662872, 0.22498852128662872, 0.22498852128662872, 0.22498852128662872, 0.22498852128662872, 0.22498852128662872, 0.22498852128662872, 0.22498852128662872, 0.22498852128662872, 0.22498852128662872, 0.22498852128662872, 0.22498852128662872, 0.22498852128662872, 0.22498852128662872, 0.22498852128662872, 0.22498852128662872, 0.22498852128662872, 0.22498852128662872, 0.22498852128662872, 0.22498852128662872, 0.22498852128662872, 0.22498852128662872, 0.22498852128662872, 0.22498852128662872, 0.22498852128662872, 0.22498852128662872, 0.22498852128662872, 0.22498852128662872, 0.22498852128662872, 0.22498852128662872, 0.22498852128662872, 0.22498852128662872, 0.22498852128662872, 0.22498852128662872, 0.22498852128662872, 0.22498852128662872, 0.22498852128662872, 0.22498852128662872, 0.22498852128662872, 0.22498852128662872, 0.22498852128662872, 0.22498852128662872, 0.22498852128662872, 0.22498852128662872, 0.22498852128662872, 0.22498852128662872, 0.22498852128662872, 0.22498852128662872, 0.22498852128662872, 0.22498852128662872, 0.22498852128662872, 0.22498852128662872, 0.22498852128662872, 0.22498852128662872, 0.22498852128662872, 0.22498852128662872, 0.22498852128662872, 0.22498852128662872, 0.22498852128662872, 0.22498852128662872, 0.22498852128662872, 0.22498852128662872, 0.22498852128662872, 0.22498852128662872, 0.22498852128662872, 0.22498852128662872, 0.22498852128662872, 0.22498852128662872, 0.22498852128662872, 0.22498852128662872, 0.22498852128662872, 0.22498852128662872, 0.22498852128662872, 0.22498852128662872, 0.22498852128662872, 0.22498852128662872, 0.22498852128662872, 0.22498852128662872, 0.22498852128662872, 0.22498852128662872, 0.22498852128662872, 0.22498852128662872, 0.22498852128662872, 0.22498852128662872, 0.22498852128662872, 0.22498852128662872, 0.22498852128662872, 0.22498852128662872, 0.22498852128662872, 0.22498852128662872, 0.22498852128662872, 0.22498852128662872, 0.22498852128662872, 0.22498852128662872, 0.22498852128662872, 0.22498852128662872, 0.22498852128662872, 0.22498852128662872, 0.22498852128662872, 0.22498852128662872, 0.22498852128662872, 0.22498852128662872, 0.22498852128662872, 0.22498852128662872, 0.22498852128662872, 0.22498852128662872, 0.22498852128662872, 0.22498852128662872, 0.22498852128662872, 0.22498852128662872, 0.22498852128662872, 0.22498852128662872, 0.22498852128662872, 0.22498852128662872, 0.22498852128662872, 0.22498852128662872, 0.22498852128662872, 0.22498852128662872, 0.22498852128662872, 0.22498852128662872, 0.22498852128662872, 0.22498852128662872, 0.22498852128662872, 0.22498852128662872, 0.22498852128662872, 0.22498852128662872, 0.22498852128662872, 0.22498852128662872, 0.22498852128662872, 0.22498852128662872, 0.22498852128662872, 0.22498852128662872, 0.22498852128662872, 0.22498852128662872, 0.22498852128662872, 0.22498852128662872, 0.22498852128662872, 0.22498852128662872, 0.22498852128662872, 0.22498852128662872, 0.22498852128662872, 0.22498852128662872, 0.22498852128662872, 0.22498852128662872, 0.22498852128662872, 0.22498852128662872, 0.22498852128662872, 0.22498852128662872, 0.22498852128662872, 0.22498852128662872, 0.22498852128662872, 0.22498852128662872, 0.22498852128662872, 0.22498852128662872, 0.22498852128662872, 0.22498852128662872, 0.22498852128662872, 0.22498852128662872, 0.22498852128662872, 0.22498852128662872, 0.22498852128662872, 0.22498852128662872, 0.22498852128662872, 0.22498852128662872, 0.22498852128662872, 0.22498852128662872, 0.22498852128662872, 0.22498852128662872, 0.22498852128662872, 0.22498852128662872, 0.22498852128662872, 0.22498852128662872, 0.22498852128662872, 0.22498852128662872, 0.22498852128662872, 0.22498852128662872, 0.22498852128662872, 0.22498852128662872, 0.22498852128662872, 0.22498852128662872, 0.22498852128662872, 0.22498852128662872, 0.22498852128662872, 0.22498852128662872, 0.22498852128662872, 0.22498852128662872, 0.22498852128662872, 0.22498852128662872, 0.22498852128662872, 0.22498852128662872, 0.22498852128662872, 0.22498852128662872, 0.22498852128662872, 0.22498852128662872, 0.22498852128662872, 0.22498852128662872, 0.22498852128662872, 0.22498852128662872, 0.22498852128662872, 0.22498852128662872, 0.22498852128662872, 0.22498852128662872, 0.22498852128662872, 0.22498852128662872, 0.22498852128662872, 0.22498852128662872, 0.22498852128662872, 0.22498852128662872, 0.22498852128662872, 0.22498852128662872, 0.22498852128662872, 0.22498852128662872, 0.22498852128662872, 0.22498852128662872, 0.22498852128662872, 0.22498852128662872, 0.22498852128662872, 0.22498852128662872, 0.22498852128662872, 0.22498852128662872, 0.22498852128662872, 0.22498852128662872, 0.22498852128662872, 0.22498852128662872, 0.22498852128662872, 0.22498852128662872, 0.22498852128662872, 0.22498852128662872, 0.22498852128662872, 0.22498852128662872, 0.22498852128662872, 0.22498852128662872, 0.22498852128662872, 0.22498852128662872, 0.22498852128662872, 0.22498852128662872, 0.22498852128662872, 0.22498852128662872, 0.22498852128662872, 0.22498852128662872, 0.22498852128662872, 0.22498852128662872, 0.22498852128662872, 0.22498852128662872, 0.22498852128662872, 0.22498852128662872, 0.22498852128662872, 0.22498852128662872, 0.22498852128662872, 0.22498852128662872, 0.22498852128662872, 0.22498852128662872, 0.22498852128662872, 0.22498852128662872, 0.22498852128662872, 0.22498852128662872, 0.22498852128662872, 0.22498852128662872, 0.22498852128662872, 0.22498852128662872, 0.22498852128662872, 0.22498852128662872, 0.22498852128662872, 0.22498852128662872, 0.22498852128662872, 0.22498852128662872, 0.22498852128662872, 0.22498852128662872, 0.22498852128662872, 0.22498852128662872, 0.22498852128662872, 0.22498852128662872, 0.22498852128662872, 0.22498852128662872, 0.22498852128662872, 0.22498852128662872, 0.22498852128662872, 0.22498852128662872, 0.22498852128662872, 0.22498852128662872, 0.22498852128662872, 0.22498852128662872, 0.22498852128662872, 0.22498852128662872, 0.22498852128662872, 0.22498852128662872, 0.22498852128662872, 0.22498852128662872, 0.22498852128662872, 0.22498852128662872, 0.22498852128662872, 0.22498852128662872, 0.22498852128662872, 0.22498852128662872, 0.22498852128662872, 0.22498852128662872, 0.22498852128662872, 0.22498852128662872, 0.22498852128662872, 0.22498852128662872, 0.22498852128662872, 0.22498852128662872, 0.22498852128662872, 0.22498852128662872, 0.22498852128662872, 0.22498852128662872, 0.22498852128662872, 0.22498852128662872, 0.22498852128662872, 0.22498852128662872, 0.22498852128662872, 0.22498852128662872, 0.22498852128662872, 0.22498852128662872, 0.22498852128662872, 0.22498852128662872, 0.22498852128662872, 0.22498852128662872, 0.22498852128662872, 0.22498852128662872, 0.22498852128662872, 0.22498852128662872, 0.22498852128662872, 0.22498852128662872, 0.22498852128662872, 0.22498852128662872, 0.22498852128662872, 0.22498852128662872, 0.22498852128662872, 0.22498852128662872, 0.22498852128662872, 0.22498852128662872, 0.22498852128662872, 0.22498852128662872, 0.22498852128662872, 0.22498852128662872, 0.22498852128662872, 0.22498852128662872, 0.22498852128662872, 0.22498852128662872, 0.22498852128662872, 0.22498852128662872, 0.22498852128662872, 0.22498852128662872, 0.22498852128662872, 0.22498852128662872, 0.22498852128662872, 0.22498852128662872, 0.22498852128662872, 0.22498852128662872, 0.22498852128662872, 0.22498852128662872, 0.22498852128662872, 0.22498852128662872, 0.22498852128662872, 0.22498852128662872, 0.22498852128662872, 0.22498852128662872, 0.22498852128662872, 0.22498852128662872, 0.22498852128662872, 0.22498852128662872, 0.22498852128662872, 0.22498852128662872, 0.22498852128662872, 0.22498852128662872, 0.22498852128662872, 0.22498852128662872, 0.22498852128662872, 0.22498852128662872, 0.22498852128662872, 0.22498852128662872, 0.22498852128662872, 0.22498852128662872, 0.22498852128662872, 0.22498852128662872, 0.22498852128662872, 0.22498852128662872, 0.22498852128662872, 0.22498852128662872, 0.22498852128662872, 0.22498852128662872, 0.22498852128662872, 0.22498852128662872, 0.22498852128662872, 0.22498852128662872, 0.22498852128662872, 0.22498852128662872, 0.22498852128662872, 0.22498852128662872, 0.22498852128662872, 0.22498852128662872, 0.22498852128662872, 0.22498852128662872, 0.22498852128662872, 0.22498852128662872, 0.22498852128662872, 0.22498852128662872, 0.22498852128662872, 0.22498852128662872, 0.22498852128662872, 0.22498852128662872, 0.22498852128662872, 0.22498852128662872, 0.22498852128662872, 0.22498852128662872, 0.22498852128662872, 0.22498852128662872, 0.22498852128662872, 0.22498852128662872, 0.22498852128662872, 0.22498852128662872, 0.22498852128662872, 0.22498852128662872, 0.22498852128662872, 0.22498852128662872, 0.22498852128662872, 0.22498852128662872, 0.22498852128662872, 0.22498852128662872, 0.22498852128662872, 0.22498852128662872, 0.22498852128662872, 0.22498852128662872, 0.22498852128662872, 0.22498852128662872, 0.22498852128662872, 0.22498852128662872, 0.22498852128662872, 0.22498852128662872, 0.22498852128662872, 0.22498852128662872, 0.22498852128662872, 0.22498852128662872, 0.22498852128662872, 0.22498852128662872, 0.22498852128662872, 0.22498852128662872, 0.22498852128662872, 0.22498852128662872, 0.22498852128662872, 0.22498852128662872, 0.22498852128662872, 0.22498852128662872, 0.22498852128662872, 0.22498852128662872, 0.22498852128662872, 0.22498852128662872, 0.22498852128662872, 0.22498852128662872, 0.22498852128662872, 0.22498852128662872, 0.22498852128662872, 0.22498852128662872, 0.22498852128662872, 0.22498852128662872, 0.22498852128662872, 0.22498852128662872, 0.22498852128662872, 0.22498852128662872, 0.22498852128662872, 0.22498852128662872, 0.22498852128662872, 0.22498852128662872, 0.22498852128662872, 0.22498852128662872, 0.22498852128662872, 0.22498852128662872, 0.22498852128662872, 0.22498852128662872, 0.22498852128662872, 0.22498852128662872, 0.22498852128662872, 0.22498852128662872, 0.22498852128662872, 0.22498852128662872, 0.22498852128662872, 0.22498852128662872, 0.22498852128662872, 0.22498852128662872, 0.22498852128662872, 0.22498852128662872, 0.22498852128662872, 0.22498852128662872, 0.22498852128662872, 0.22498852128662872, 0.22498852128662872, 0.22498852128662872, 0.22498852128662872, 0.22498852128662872, 0.22498852128662872, 0.22498852128662872, 0.22498852128662872, 0.22498852128662872, 0.22498852128662872, 0.22498852128662872, 0.22498852128662872, 0.22498852128662872, 0.22498852128662872, 0.22498852128662872, 0.22498852128662872, 0.22498852128662872, 0.22498852128662872, 0.22498852128662872, 0.22498852128662872, 0.22498852128662872, 0.22498852128662872, 0.22498852128662872, 0.22498852128662872, 0.22498852128662872, 0.22498852128662872, 0.22498852128662872, 0.22498852128662872, 0.22498852128662872, 0.22498852128662872, 0.22498852128662872, 0.22498852128662872, 0.22498852128662872, 0.22498852128662872, 0.22498852128662872, 0.22498852128662872, 0.22498852128662872, 0.22498852128662872, 0.22498852128662872, 0.22498852128662872, 0.22498852128662872, 0.22498852128662872, 0.22498852128662872, 0.22498852128662872, 0.22498852128662872, 0.22498852128662872, 0.22498852128662872, 0.22498852128662872, 0.22498852128662872, 0.22498852128662872, 0.22498852128662872, 0.22498852128662872, 0.22498852128662872, 0.22498852128662872, 0.22498852128662872, 0.22498852128662872, 0.22498852128662872, 0.22498852128662872, 0.22498852128662872, 0.22498852128662872, 0.22498852128662872, 0.22498852128662872, 0.22498852128662872, 0.22498852128662872, 0.22498852128662872, 0.22498852128662872, 0.22498852128662872, 0.22498852128662872, 0.22498852128662872, 0.22498852128662872, 0.22498852128662872, 0.22498852128662872, 0.22498852128662872, 0.22498852128662872, 0.22498852128662872, 0.22498852128662872, 0.22498852128662872, 0.22498852128662872, 0.22498852128662872, 0.22498852128662872, 0.22498852128662872, 0.22498852128662872, 0.22498852128662872, 0.22498852128662872, 0.22498852128662872, 0.22498852128662872, 0.22498852128662872, 0.22498852128662872, 0.22498852128662872, 0.22498852128662872, 0.22498852128662872, 0.22498852128662872, 0.22498852128662872, 0.22498852128662872, 0.22498852128662872, 0.22498852128662872, 0.22498852128662872, 0.22498852128662872, 0.22498852128662872, 0.22498852128662872, 0.22498852128662872, 0.22498852128662872, 0.22498852128662872, 0.22498852128662872, 0.22498852128662872, 0.22498852128662872, 0.22498852128662872, 0.22498852128662872, 0.22498852128662872, 0.22498852128662872, 0.22498852128662872, 0.22498852128662872, 0.22498852128662872, 0.22498852128662872, 0.22498852128662872, 0.22498852128662872, 0.22498852128662872, 0.22498852128662872, 0.22498852128662872, 0.22498852128662872, 0.22498852128662872, 0.22498852128662872, 0.22498852128662872, 0.22498852128662872, 0.22498852128662872, 0.22498852128662872, 0.22498852128662872, 0.22498852128662872, 0.22498852128662872, 0.22498852128662872, 0.22498852128662872, 0.22498852128662872, 0.22498852128662872, 0.22498852128662872, 0.22498852128662872, 0.22498852128662872, 0.22498852128662872, 0.22498852128662872, 0.22498852128662872, 0.22498852128662872, 0.22498852128662872, 0.22498852128662872, 0.22498852128662872, 0.22498852128662872, 0.22498852128662872, 0.22498852128662872, 0.22498852128662872, 0.22498852128662872, 0.22498852128662872, 0.22498852128662872, 0.22498852128662872, 0.22498852128662872, 0.22498852128662872, 0.22498852128662872, 0.22498852128662872, 0.22498852128662872, 0.22498852128662872, 0.22498852128662872, 0.22498852128662872, 0.22498852128662872, 0.22498852128662872, 0.22498852128662872, 0.22498852128662872, 0.22498852128662872, 0.22498852128662872, 0.22498852128662872, 0.22498852128662872, 0.22498852128662872, 0.22498852128662872, 0.22498852128662872, 0.22498852128662872, 0.22498852128662872, 0.22498852128662872, 0.22498852128662872, 0.22498852128662872, 0.22498852128662872, 0.22498852128662872, 0.22498852128662872, 0.22498852128662872, 0.22498852128662872, 0.22498852128662872, 0.22498852128662872, 0.22498852128662872, 0.22498852128662872, 0.22498852128662872, 0.22498852128662872, 0.22498852128662872, 0.22498852128662872, 0.22498852128662872, 0.22498852128662872, 0.22498852128662872, 0.22498852128662872, 0.22498852128662872, 0.22498852128662872, 0.22498852128662872, 0.22498852128662872, 0.22498852128662872, 0.22498852128662872, 0.22498852128662872, 0.22498852128662872, 0.22498852128662872, 0.22498852128662872, 0.22498852128662872, 0.22498852128662872, 0.22498852128662872, 0.22498852128662872, 0.22498852128662872, 0.22498852128662872, 0.22498852128662872, 0.22498852128662872, 0.22498852128662872, 0.22498852128662872, 0.22498852128662872, 0.22498852128662872, 0.22498852128662872, 0.22498852128662872, 0.22498852128662872, 0.22498852128662872, 0.22498852128662872, 0.22498852128662872, 0.22498852128662872, 0.22498852128662872, 0.22498852128662872, 0.22498852128662872, 0.22498852128662872, 0.22498852128662872, 0.22498852128662872, 0.22498852128662872, 0.22498852128662872, 0.22498852128662872, 0.22498852128662872, 0.22498852128662872, 0.22498852128662872, 0.22498852128662872, 0.22498852128662872, 0.22498852128662872, 0.22498852128662872, 0.22498852128662872, 0.22498852128662872, 0.22498852128662872, 0.22498852128662872, 0.22498852128662872, 0.22498852128662872, 0.22498852128662872, 0.22498852128662872, 0.22498852128662872, 0.22498852128662872, 0.22498852128662872, 0.22498852128662872, 0.22498852128662872, 0.22498852128662872, 0.22498852128662872, 0.22498852128662872, 0.22498852128662872, 0.22498852128662872, 0.22498852128662872, 0.22498852128662872, 0.22498852128662872, 0.22498852128662872, 0.22498852128662872, 0.22498852128662872, 0.22498852128662872, 0.22498852128662872, 0.22498852128662872, 0.22498852128662872, 0.22498852128662872, 0.22498852128662872, 0.22498852128662872, 0.22498852128662872, 0.22498852128662872, 0.22498852128662872, 0.22498852128662872, 0.22498852128662872, 0.22498852128662872, 0.22498852128662872, 0.22498852128662872, 0.22498852128662872, 0.22498852128662872, 0.22498852128662872, 0.22498852128662872, 0.22498852128662872, 0.22498852128662872, 0.22498852128662872, 0.22498852128662872, 0.22498852128662872, 0.22498852128662872, 0.22498852128662872, 0.22498852128662872, 0.22498852128662872, 0.22498852128662872, 0.22498852128662872, 0.22498852128662872, 0.22498852128662872, 0.22498852128662872, 0.22498852128662872, 0.22498852128662872, 0.22498852128662872, 0.22498852128662872, 0.22498852128662872, 0.22498852128662872, 0.22498852128662872, 0.22498852128662872, 0.22498852128662872, 0.22498852128662872, 0.22498852128662872, 0.22498852128662872, 0.22498852128662872, 0.22498852128662872, 0.22498852128662872, 0.22498852128662872, 0.22498852128662872, 0.22498852128662872, 0.22498852128662872, 0.22498852128662872, 0.22498852128662872, 0.22498852128662872, 0.22498852128662872, 0.22498852128662872, 0.22498852128662872, 0.22498852128662872, 0.22498852128662872, 0.22498852128662872, 0.22498852128662872, 0.22498852128662872, 0.22498852128662872, 0.22498852128662872, 0.22498852128662872, 0.22498852128662872, 0.22498852128662872, 0.22498852128662872, 0.22498852128662872, 0.22498852128662872, 0.22498852128662872, 0.22498852128662872, 0.22498852128662872, 0.22498852128662872, 0.22498852128662872, 0.22498852128662872, 0.22498852128662872, 0.22498852128662872, 0.22498852128662872, 0.22498852128662872, 0.22498852128662872, 0.22498852128662872, 0.22498852128662872, 0.22498852128662872, 0.22498852128662872, 0.22498852128662872, 0.22498852128662872, 0.22498852128662872, 0.22498852128662872, 0.22498852128662872, 0.22498852128662872, 0.22498852128662872, 0.22498852128662872, 0.22498852128662872, 0.22498852128662872, 0.22498852128662872, 0.22498852128662872, 0.22498852128662872, 0.22498852128662872, 0.22498852128662872, 0.22498852128662872, 0.22498852128662872, 0.22498852128662872, 0.22498852128662872, 0.22498852128662872, 0.22498852128662872, 0.22498852128662872, 0.22498852128662872, 0.22498852128662872, 0.22498852128662872, 0.22498852128662872, 0.22498852128662872, 0.22498852128662872, 0.22498852128662872, 0.22498852128662872, 0.22498852128662872, 0.22498852128662872, 0.22498852128662872, 0.22498852128662872, 0.22498852128662872, 0.22498852128662872, 0.22498852128662872, 0.22498852128662872, 0.22498852128662872, 0.22498852128662872, 0.22498852128662872, 0.22498852128662872, 0.22498852128662872, 0.22498852128662872, 0.22498852128662872, 0.22498852128662872, 0.22498852128662872, 0.22498852128662872, 0.22498852128662872, 0.22498852128662872, 0.22498852128662872, 0.22498852128662872, 0.22498852128662872, 0.22498852128662872, 0.22498852128662872, 0.22498852128662872, 0.22498852128662872, 0.22498852128662872, 0.22498852128662872, 0.22498852128662872, 0.22498852128662872, 0.22498852128662872, 0.22498852128662872, 0.22498852128662872, 0.22498852128662872, 0.22498852128662872, 0.22498852128662872, 0.22498852128662872, 0.22498852128662872, 0.22498852128662872, 0.22498852128662872, 0.22498852128662872, 0.22498852128662872, 0.22498852128662872, 0.22498852128662872, 0.22498852128662872, 0.22498852128662872, 0.22498852128662872, 0.22498852128662872, 0.22498852128662872, 0.22498852128662872, 0.22498852128662872, 0.22498852128662872, 0.22498852128662872, 0.22498852128662872, 0.22498852128662872, 0.22498852128662872, 0.22498852128662872, 0.22498852128662872, 0.22498852128662872, 0.22498852128662872, 0.22498852128662872, 0.22498852128662872, 0.22498852128662872, 0.22498852128662872, 0.22498852128662872, 0.22498852128662872, 0.22498852128662872, 0.22498852128662872, 0.22498852128662872, 0.22498852128662872, 0.22498852128662872, 0.22498852128662872, 0.22498852128662872, 0.22498852128662872, 0.22498852128662872, 0.22498852128662872, 0.22498852128662872, 0.22498852128662872, 0.22498852128662872, 0.22498852128662872, 0.22498852128662872, 0.22498852128662872, 0.22498852128662872, 0.22498852128662872, 0.22498852128662872, 0.22498852128662872, 0.22498852128662872, 0.22498852128662872, 0.22498852128662872, 0.22498852128662872, 0.22498852128662872, 0.22498852128662872, 0.22498852128662872, 0.22498852128662872, 0.22498852128662872, 0.22498852128662872, 0.22498852128662872, 0.22498852128662872, 0.22498852128662872, 0.22498852128662872, 0.22498852128662872, 0.22498852128662872, 0.22498852128662872, 0.22498852128662872, 0.22498852128662872, 0.22498852128662872, 0.22498852128662872, 0.22498852128662872, 0.22498852128662872, 0.22498852128662872, 0.22498852128662872, 0.22498852128662872, 0.22498852128662872, 0.22498852128662872, 0.22498852128662872, 0.22498852128662872, 0.22498852128662872, 0.22498852128662872, 0.22498852128662872, 0.22498852128662872, 0.22498852128662872, 0.22498852128662872, 0.22498852128662872, 0.22498852128662872, 0.22498852128662872, 0.22498852128662872, 0.22498852128662872, 0.22498852128662872, 0.22498852128662872, 0.22498852128662872, 0.22498852128662872, 0.22498852128662872, 0.22498852128662872, 0.22498852128662872, 0.22498852128662872, 0.22498852128662872, 0.22498852128662872, 0.22498852128662872, 0.22498852128662872, 0.22498852128662872, 0.22498852128662872, 0.22498852128662872, 0.22498852128662872, 0.22498852128662872, 0.22498852128662872, 0.22498852128662872, 0.22498852128662872, 0.22498852128662872, 0.22498852128662872, 0.22498852128662872, 0.22498852128662872, 0.22498852128662872, 0.22498852128662872, 0.22498852128662872, 0.22498852128662872, 0.22498852128662872, 0.22498852128662872, 0.22498852128662872, 0.22498852128662872, 0.22498852128662872, 0.22498852128662872, 0.22498852128662872, 0.22498852128662872, 0.22498852128662872, 0.22498852128662872, 0.22498852128662872, 0.22498852128662872, 0.22498852128662872, 0.22498852128662872, 0.22498852128662872, 0.22498852128662872, 0.22498852128662872, 0.22498852128662872, 0.22498852128662872, 0.22498852128662872, 0.22498852128662872, 0.22498852128662872, 0.22498852128662872, 0.22498852128662872, 0.22498852128662872, 0.22498852128662872, 0.22498852128662872, 0.22498852128662872, 0.22498852128662872, 0.22498852128662872, 0.22498852128662872, 0.22498852128662872, 0.22498852128662872, 0.22498852128662872, 0.22498852128662872, 0.22498852128662872, 0.22498852128662872, 0.22498852128662872, 0.22498852128662872, 0.22498852128662872, 0.22498852128662872, 0.22498852128662872, 0.22498852128662872, 0.22498852128662872, 0.22498852128662872, 0.22498852128662872, 0.22498852128662872, 0.22498852128662872, 0.22498852128662872, 0.22498852128662872, 0.22498852128662872, 0.22498852128662872, 0.22498852128662872, 0.22498852128662872, 0.22498852128662872, 0.22498852128662872, 0.22498852128662872, 0.22498852128662872, 0.22498852128662872, 0.22498852128662872, 0.22498852128662872, 0.22498852128662872, 0.22498852128662872, 0.22498852128662872, 0.22498852128662872, 0.22498852128662872, 0.22498852128662872, 0.22498852128662872, 0.22498852128662872, 0.22498852128662872, 0.22498852128662872, 0.22498852128662872, 0.22498852128662872, 0.22498852128662872, 0.22498852128662872, 0.22498852128662872, 0.22498852128662872, 0.22498852128662872, 0.22498852128662872, 0.22498852128662872, 0.22498852128662872, 0.22498852128662872, 0.22498852128662872, 0.22498852128662872, 0.22498852128662872, 0.22498852128662872, 0.22498852128662872, 0.22498852128662872, 0.22498852128662872, 0.22498852128662872, 0.22498852128662872, 0.22498852128662872, 0.22498852128662872, 0.22498852128662872, 0.22498852128662872, 0.22498852128662872, 0.22498852128662872, 0.22498852128662872, 0.22498852128662872, 0.22498852128662872, 0.22498852128662872, 0.22498852128662872, 0.22498852128662872, 0.22498852128662872, 0.22498852128662872, 0.22498852128662872, 0.22498852128662872, 0.22498852128662872, 0.22498852128662872, 0.22498852128662872, 0.22498852128662872, 0.22498852128662872, 0.22498852128662872, 0.22498852128662872, 0.22498852128662872, 0.22498852128662872, 0.22498852128662872, 0.22498852128662872, 0.22498852128662872, 0.22498852128662872, 0.22498852128662872, 0.22498852128662872, 0.22498852128662872, 0.22498852128662872, 0.22498852128662872, 0.22498852128662872, 0.22498852128662872, 0.22498852128662872, 0.22498852128662872, 0.22498852128662872, 0.22498852128662872, 0.22498852128662872, 0.22498852128662872, 0.22498852128662872, 0.22498852128662872, 0.22498852128662872, 0.22498852128662872, 0.22498852128662872, 0.22498852128662872, 0.22498852128662872, 0.22498852128662872, 0.22498852128662872, 0.22498852128662872, 0.22498852128662872, 0.22498852128662872, 0.22498852128662872, 0.22498852128662872, 0.22498852128662872, 0.22498852128662872, 0.22498852128662872, 0.22498852128662872, 0.22498852128662872, 0.22498852128662872, 0.22498852128662872, 0.22498852128662872, 0.22498852128662872, 0.22498852128662872, 0.22498852128662872, 0.22498852128662872, 0.22498852128662872, 0.22498852128662872, 0.22498852128662872, 0.22498852128662872, 0.22498852128662872, 0.22498852128662872, 0.22498852128662872, 0.22498852128662872, 0.22498852128662872, 0.22498852128662872, 0.22498852128662872, 0.22498852128662872, 0.22498852128662872, 0.22498852128662872, 0.22498852128662872, 0.22498852128662872, 0.22498852128662872, 0.22498852128662872, 0.22498852128662872, 0.22498852128662872, 0.22498852128662872, 0.22498852128662872, 0.22498852128662872, 0.22498852128662872, 0.22498852128662872, 0.22498852128662872, 0.22498852128662872, 0.22498852128662872, 0.22498852128662872, 0.22498852128662872, 0.22498852128662872, 0.22498852128662872, 0.22498852128662872, 0.22498852128662872, 0.22498852128662872, 0.22498852128662872, 0.22498852128662872, 0.22498852128662872, 0.22498852128662872, 0.22498852128662872, 0.22498852128662872, 0.22498852128662872, 0.22498852128662872, 0.22498852128662872, 0.22498852128662872, 0.22498852128662872, 0.22498852128662872, 0.22498852128662872, 0.22498852128662872, 0.22498852128662872, 0.22498852128662872, 0.22498852128662872, 0.22498852128662872, 0.22498852128662872, 0.22498852128662872, 0.22498852128662872, 0.22498852128662872, 0.22498852128662872, 0.22498852128662872, 0.22498852128662872, 0.22498852128662872, 0.22498852128662872, 0.22498852128662872, 0.22498852128662872, 0.22498852128662872, 0.22498852128662872, 0.22498852128662872, 0.22498852128662872, 0.22498852128662872, 0.22498852128662872, 0.22498852128662872, 0.22498852128662872, 0.22498852128662872, 0.22498852128662872, 0.22498852128662872, 0.22498852128662872, 0.22498852128662872, 0.22498852128662872, 0.22498852128662872, 0.22498852128662872, 0.22498852128662872, 0.22498852128662872, 0.22498852128662872, 0.22498852128662872, 0.22498852128662872, 0.22498852128662872, 0.22498852128662872, 0.22498852128662872, 0.22498852128662872, 0.22498852128662872, 0.22498852128662872, 0.22498852128662872, 0.22498852128662872, 0.22498852128662872, 0.22498852128662872, 0.22498852128662872, 0.22498852128662872, 0.22498852128662872, 0.22498852128662872, 0.22498852128662872, 0.22498852128662872, 0.22498852128662872, 0.22498852128662872, 0.22498852128662872, 0.22498852128662872, 0.22498852128662872, 0.22498852128662872, 0.22498852128662872, 0.22498852128662872, 0.22498852128662872, 0.22498852128662872, 0.22498852128662872, 0.22498852128662872, 0.22498852128662872, 0.22498852128662872, 0.22498852128662872, 0.22498852128662872, 0.22498852128662872, 0.22498852128662872, 0.22498852128662872, 0.22498852128662872, 0.22498852128662872, 0.22498852128662872, 0.22498852128662872, 0.22498852128662872, 0.22498852128662872, 0.22498852128662872, 0.22498852128662872, 0.22498852128662872, 0.22498852128662872, 0.22498852128662872, 0.22498852128662872, 0.22498852128662872, 0.22498852128662872, 0.22498852128662872, 0.22498852128662872, 0.22498852128662872, 0.22498852128662872, 0.22498852128662872, 0.22498852128662872, 0.22498852128662872, 0.22498852128662872, 0.22498852128662872, 0.22498852128662872, 0.22498852128662872, 0.22498852128662872, 0.22498852128662872, 0.22498852128662872, 0.22498852128662872, 0.22498852128662872, 0.22498852128662872, 0.22498852128662872, 0.22498852128662872, 0.22498852128662872, 0.22498852128662872, 0.22498852128662872, 0.22498852128662872, 0.22498852128662872, 0.22498852128662872, 0.22498852128662872, 0.22498852128662872, 0.22498852128662872, 0.22498852128662872, 0.22498852128662872, 0.22498852128662872, 0.22498852128662872, 0.22498852128662872, 0.22498852128662872, 0.22498852128662872, 0.22498852128662872, 0.22498852128662872, 0.22498852128662872, 0.22498852128662872, 0.22498852128662872, 0.22498852128662872, 0.22498852128662872, 0.22498852128662872, 0.22498852128662872, 0.22498852128662872, 0.22498852128662872, 0.22498852128662872, 0.22498852128662872, 0.22498852128662872, 0.22498852128662872, 0.22498852128662872, 0.22498852128662872, 0.22498852128662872, 0.22498852128662872, 0.22498852128662872, 0.22498852128662872, 0.22498852128662872, 0.22498852128662872, 0.22498852128662872, 0.22498852128662872, 0.22498852128662872, 0.22498852128662872, 0.22498852128662872, 0.22498852128662872, 0.22498852128662872, 0.22498852128662872, 0.22498852128662872, 0.22498852128662872, 0.22498852128662872, 0.22498852128662872, 0.22498852128662872, 0.22498852128662872, 0.22498852128662872, 0.22498852128662872, 0.22498852128662872, 0.22498852128662872, 0.22498852128662872, 0.22498852128662872, 0.22498852128662872, 0.22498852128662872, 0.22498852128662872, 0.22498852128662872, 0.22498852128662872, 0.22498852128662872, 0.22498852128662872, 0.22498852128662872, 0.22498852128662872, 0.22498852128662872, 0.22498852128662872, 0.22498852128662872, 0.22498852128662872, 0.22498852128662872, 0.22498852128662872, 0.22498852128662872, 0.22498852128662872, 0.22498852128662872, 0.22498852128662872, 0.22498852128662872, 0.22498852128662872, 0.22498852128662872, 0.22498852128662872, 0.22498852128662872, 0.22498852128662872, 0.22498852128662872, 0.22498852128662872, 0.22498852128662872, 0.22498852128662872, 0.22498852128662872, 0.22498852128662872, 0.22498852128662872, 0.22498852128662872, 0.22498852128662872, 0.22498852128662872, 0.22498852128662872, 0.22498852128662872, 0.22498852128662872, 0.22498852128662872, 0.22498852128662872, 0.22498852128662872, 0.22498852128662872, 0.22498852128662872, 0.22498852128662872, 0.22498852128662872, 0.22498852128662872, 0.22498852128662872, 0.22498852128662872, 0.22498852128662872, 0.22498852128662872, 0.22498852128662872, 0.22498852128662872, 0.22498852128662872, 0.22498852128662872, 0.22498852128662872, 0.22498852128662872, 0.22498852128662872, 0.22498852128662872, 0.22498852128662872, 0.22498852128662872, 0.22498852128662872, 0.22498852128662872, 0.22498852128662872, 0.22498852128662872, 0.22498852128662872, 0.22498852128662872, 0.22498852128662872, 0.22498852128662872, 0.22498852128662872, 0.22498852128662872, 0.22498852128662872, 0.22498852128662872, 0.22498852128662872, 0.22498852128662872, 0.22498852128662872, 0.22498852128662872, 0.22498852128662872, 0.22498852128662872, 0.22498852128662872, 0.22498852128662872, 0.22498852128662872, 0.22498852128662872, 0.22498852128662872, 0.22498852128662872, 0.22498852128662872, 0.22498852128662872, 0.22498852128662872, 0.22498852128662872, 0.22498852128662872, 0.22498852128662872, 0.22498852128662872, 0.22498852128662872, 0.22498852128662872, 0.22498852128662872, 0.22498852128662872, 0.22498852128662872, 0.22498852128662872, 0.22498852128662872, 0.22498852128662872, 0.22498852128662872, 0.22498852128662872, 0.22498852128662872, 0.22498852128662872, 0.22498852128662872, 0.22498852128662872, 0.22498852128662872, 0.22498852128662872, 0.22498852128662872, 0.22498852128662872, 0.22498852128662872, 0.22498852128662872, 0.22498852128662872, 0.22498852128662872, 0.22498852128662872, 0.22498852128662872, 0.22498852128662872, 0.22498852128662872, 0.22498852128662872, 0.22498852128662872, 0.22498852128662872, 0.22498852128662872, 0.22498852128662872, 0.22498852128662872, 0.22498852128662872, 0.22498852128662872, 0.22498852128662872, 0.22498852128662872, 0.22498852128662872, 0.22498852128662872, 0.22498852128662872, 0.22498852128662872, 0.22498852128662872, 0.22498852128662872, 0.22498852128662872, 0.22498852128662872, 0.22498852128662872, 0.22498852128662872, 0.22498852128662872, 0.22498852128662872, 0.22498852128662872, 0.22498852128662872, 0.22498852128662872, 0.22498852128662872, 0.22498852128662872, 0.22498852128662872, 0.22498852128662872, 0.22498852128662872, 0.22498852128662872, 0.22498852128662872, 0.22498852128662872, 0.22498852128662872, 0.22498852128662872, 0.22498852128662872, 0.22498852128662872, 0.22498852128662872, 0.22498852128662872, 0.22498852128662872, 0.22498852128662872, 0.22498852128662872, 0.22498852128662872, 0.22498852128662872, 0.22498852128662872, 0.22498852128662872, 0.22498852128662872, 0.22498852128662872, 0.22498852128662872, 0.22498852128662872, 0.22498852128662872, 0.22498852128662872, 0.22498852128662872, 0.22498852128662872, 0.22498852128662872, 0.22498852128662872, 0.22498852128662872, 0.22498852128662872, 0.22498852128662872, 0.22498852128662872, 0.22498852128662872, 0.22498852128662872, 0.22498852128662872, 0.22498852128662872, 0.22498852128662872, 0.22498852128662872, 0.22498852128662872, 0.22498852128662872, 0.22498852128662872, 0.22498852128662872, 0.22498852128662872, 0.22498852128662872, 0.22498852128662872, 0.22498852128662872, 0.22498852128662872, 0.22498852128662872, 0.22498852128662872, 0.22498852128662872, 0.22498852128662872, 0.22498852128662872, 0.22498852128662872, 0.22498852128662872, 0.22498852128662872, 0.22498852128662872, 0.22498852128662872, 0.22498852128662872, 0.22498852128662872, 0.22498852128662872, 0.22498852128662872, 0.22498852128662872, 0.22498852128662872, 0.22498852128662872, 0.22498852128662872, 0.22498852128662872, 0.22498852128662872, 0.22498852128662872, 0.22498852128662872, 0.22498852128662872, 0.22498852128662872, 0.22498852128662872, 0.22498852128662872, 0.22498852128662872, 0.22498852128662872, 0.22498852128662872, 0.22498852128662872, 0.22498852128662872, 0.22498852128662872, 0.22498852128662872, 0.22498852128662872, 0.22498852128662872, 0.22498852128662872, 0.22498852128662872, 0.22498852128662872, 0.22498852128662872, 0.22498852128662872, 0.22498852128662872, 0.22498852128662872, 0.22498852128662872, 0.22498852128662872, 0.22498852128662872, 0.22498852128662872, 0.22498852128662872, 0.22498852128662872, 0.22498852128662872, 0.22498852128662872, 0.22498852128662872, 0.22498852128662872, 0.22498852128662872, 0.22498852128662872, 0.22498852128662872, 0.22498852128662872, 0.22498852128662872, 0.22498852128662872, 0.22498852128662872, 0.22498852128662872, 0.22498852128662872, 0.22498852128662872, 0.22498852128662872, 0.22498852128662872, 0.22498852128662872, 0.22498852128662872, 0.22498852128662872, 0.22498852128662872, 0.22498852128662872, 0.22498852128662872, 0.22498852128662872, 0.22498852128662872, 0.22498852128662872, 0.22498852128662872, 0.22498852128662872, 0.22498852128662872, 0.22498852128662872, 0.22498852128662872, 0.22498852128662872, 0.22498852128662872, 0.22498852128662872, 0.22498852128662872, 0.22498852128662872, 0.22498852128662872, 0.22498852128662872, 0.22498852128662872, 0.22498852128662872, 0.22498852128662872, 0.22498852128662872, 0.22498852128662872, 0.22498852128662872, 0.22498852128662872, 0.22498852128662872, 0.22498852128662872, 0.22498852128662872, 0.22498852128662872, 0.22498852128662872, 0.22498852128662872, 0.22498852128662872, 0.22498852128662872, 0.22498852128662872, 0.22498852128662872, 0.22498852128662872, 0.22498852128662872, 0.22498852128662872, 0.22498852128662872, 0.22498852128662872, 0.22498852128662872, 0.22498852128662872, 0.22498852128662872, 0.22498852128662872, 0.22498852128662872, 0.22498852128662872, 0.22498852128662872, 0.22498852128662872, 0.22498852128662872, 0.22498852128662872, 0.22498852128662872, 0.22498852128662872, 0.22498852128662872, 0.22498852128662872, 0.22498852128662872, 0.22498852128662872, 0.22498852128662872, 0.22498852128662872, 0.22498852128662872, 0.22498852128662872, 0.22498852128662872, 0.22498852128662872, 0.22498852128662872, 0.22498852128662872, 0.22498852128662872, 0.22498852128662872, 0.22498852128662872, 0.22498852128662872, 0.22498852128662872, 0.22498852128662872, 0.22498852128662872, 0.22498852128662872, 0.22498852128662872, 0.22498852128662872, 0.22498852128662872, 0.22498852128662872, 0.22498852128662872, 0.22498852128662872, 0.22498852128662872, 0.22498852128662872, 0.22498852128662872, 0.22498852128662872, 0.22498852128662872, 0.22498852128662872, 0.22498852128662872, 0.22498852128662872, 0.22498852128662872, 0.22498852128662872, 0.22498852128662872, 0.22498852128662872, 0.22498852128662872, 0.22498852128662872, 0.22498852128662872, 0.22498852128662872, 0.22498852128662872, 0.22498852128662872, 0.22498852128662872, 0.22498852128662872, 0.22498852128662872, 0.22498852128662872, 0.22498852128662872, 0.22498852128662872]\n"
     ]
    }
   ],
   "source": [
    "predictions_knntest =[]\n",
    "k = 3\n",
    "for x in range(len(scaled_maintest)):\n",
    "        neighbors_knntest = getNeighbors(scaled_trax,scaled_maintest[x], k)\n",
    "        result_knntest = getResponse(neighbors)\n",
    "        predictions_knntest.append(result)\n",
    "        #print('> predicted=' + repr(predictions) + ', actual=' + repr(tes_y))\n",
    "        #print(result)\n",
    "print(predictions_knntest)"
   ]
  },
  {
   "cell_type": "code",
   "execution_count": 170,
   "metadata": {},
   "outputs": [
    {
     "name": "stdout",
     "output_type": "stream",
     "text": [
      "[0, 0, 0, 0, 0, 0, 0, 0, 0, 0, 0, 0, 0, 0, 0, 0, 0, 0, 0, 0, 0, 0, 0, 0, 0, 0, 0, 0, 0, 0, 0, 0, 0, 0, 0, 0, 0, 0, 0, 0, 0, 0, 0, 0, 0, 0, 0, 0, 0, 0, 0, 0, 0, 0, 0, 0, 0, 0, 0, 0, 0, 0, 0, 0, 0, 0, 0, 0, 0, 0, 0, 0, 0, 0, 0, 0, 0, 0, 0, 0, 0, 0, 0, 0, 0, 0, 0, 0, 0, 0, 0, 0, 0, 0, 0, 0, 0, 0, 0, 0, 0, 0, 0, 0, 0, 0, 0, 0, 0, 0, 0, 0, 0, 0, 0, 0, 0, 0, 0, 0, 0, 0, 0, 0, 0, 0, 0, 0, 0, 0, 0, 0, 0, 0, 0, 0, 0, 0, 0, 0, 0, 0, 0, 0, 0, 0, 0, 0, 0, 0, 0, 0, 0, 0, 0, 0, 0, 0, 0, 0, 0, 0, 0, 0, 0, 0, 0, 0, 0, 0, 0, 0, 0, 0, 0, 0, 0, 0, 0, 0, 0, 0, 0, 0, 0, 0, 0, 0, 0, 0, 0, 0, 0, 0, 0, 0, 0, 0, 0, 0, 0, 0, 0, 0, 0, 0, 0, 0, 0, 0, 0, 0, 0, 0, 0, 0, 0, 0, 0, 0, 0, 0, 0, 0, 0, 0, 0, 0, 0, 0, 0, 0, 0, 0, 0, 0, 0, 0, 0, 0, 0, 0, 0, 0, 0, 0, 0, 0, 0, 0, 0, 0, 0, 0, 0, 0, 0, 0, 0, 0, 0, 0, 0, 0, 0, 0, 0, 0, 0, 0, 0, 0, 0, 0, 0, 0, 0, 0, 0, 0, 0, 0, 0, 0, 0, 0, 0, 0, 0, 0, 0, 0, 0, 0, 0, 0, 0, 0, 0, 0, 0, 0, 0, 0, 0, 0, 0, 0, 0, 0, 0, 0, 0, 0, 0, 0, 0, 0, 0, 0, 0, 0, 0, 0, 0, 0, 0, 0, 0, 0, 0, 0, 0, 0, 0, 0, 0, 0, 0, 0, 0, 0, 0, 0, 0, 0, 0, 0, 0, 0, 0, 0, 0, 0, 0, 0, 0, 0, 0, 0, 0, 0, 0, 0, 0, 0, 0, 0, 0, 0, 0, 0, 0, 0, 0, 0, 0, 0, 0, 0, 0, 0, 0, 0, 0, 0, 0, 0, 0, 0, 0, 0, 0, 0, 0, 0, 0, 0, 0, 0, 0, 0, 0, 0, 0, 0, 0, 0, 0, 0, 0, 0, 0, 0, 0, 0, 0, 0, 0, 0, 0, 0, 0, 0, 0, 0, 0, 0, 0, 0, 0, 0, 0, 0, 0, 0, 0, 0, 0, 0, 0, 0, 0, 0, 0, 0, 0, 0, 0, 0, 0, 0, 0, 0, 0, 0, 0, 0, 0, 0, 0, 0, 0, 0, 0, 0, 0, 0, 0, 0, 0, 0, 0, 0, 0, 0, 0, 0, 0, 0, 0, 0, 0, 0, 0, 0, 0, 0, 0, 0, 0, 0, 0, 0, 0, 0, 0, 0, 0, 0, 0, 0, 0, 0, 0, 0, 0, 0, 0, 0, 0, 0, 0, 0, 0, 0, 0, 0, 0, 0, 0, 0, 0, 0, 0, 0, 0, 0, 0, 0, 0, 0, 0, 0, 0, 0, 0, 0, 0, 0, 0, 0, 0, 0, 0, 0, 0, 0, 0, 0, 0, 0, 0, 0, 0, 0, 0, 0, 0, 0, 0, 0, 0, 0, 0, 0, 0, 0, 0, 0, 0, 0, 0, 0, 0, 0, 0, 0, 0, 0, 0, 0, 0, 0, 0, 0, 0, 0, 0, 0, 0, 0, 0, 0, 0, 0, 0, 0, 0, 0, 0, 0, 0, 0, 0, 0, 0, 0, 0, 0, 0, 0, 0, 0, 0, 0, 0, 0, 0, 0, 0, 0, 0, 0, 0, 0, 0, 0, 0, 0, 0, 0, 0, 0, 0, 0, 0, 0, 0, 0, 0, 0, 0, 0, 0, 0, 0, 0, 0, 0, 0, 0, 0, 0, 0, 0, 0, 0, 0, 0, 0, 0, 0, 0, 0, 0, 0, 0, 0, 0, 0, 0, 0, 0, 0, 0, 0, 0, 0, 0, 0, 0, 0, 0, 0, 0, 0, 0, 0, 0, 0, 0, 0, 0, 0, 0, 0, 0, 0, 0, 0, 0, 0, 0, 0, 0, 0, 0, 0, 0, 0, 0, 0, 0, 0, 0, 0, 0, 0, 0, 0, 0, 0, 0, 0, 0, 0, 0, 0, 0, 0, 0, 0, 0, 0, 0, 0, 0, 0, 0, 0, 0, 0, 0, 0, 0, 0, 0, 0, 0, 0, 0, 0, 0, 0, 0, 0, 0, 0, 0, 0, 0, 0, 0, 0, 0, 0, 0, 0, 0, 0, 0, 0, 0, 0, 0, 0, 0, 0, 0, 0, 0, 0, 0, 0, 0, 0, 0, 0, 0, 0, 0, 0, 0, 0, 0, 0, 0, 0, 0, 0, 0, 0, 0, 0, 0, 0, 0, 0, 0, 0, 0, 0, 0, 0, 0, 0, 0, 0, 0, 0, 0, 0, 0, 0, 0, 0, 0, 0, 0, 0, 0, 0, 0, 0, 0, 0, 0, 0, 0, 0, 0, 0, 0, 0, 0, 0, 0, 0, 0, 0, 0, 0, 0, 0, 0, 0, 0, 0, 0, 0, 0, 0, 0, 0, 0, 0, 0, 0, 0, 0, 0, 0, 0, 0, 0, 0, 0, 0, 0, 0, 0, 0, 0, 0, 0, 0, 0, 0, 0, 0, 0, 0, 0, 0, 0, 0, 0, 0, 0, 0, 0, 0, 0, 0, 0, 0, 0, 0, 0, 0, 0, 0, 0, 0, 0, 0, 0, 0, 0, 0, 0, 0, 0, 0, 0, 0, 0, 0, 0, 0, 0, 0, 0, 0, 0, 0, 0, 0, 0, 0, 0, 0, 0, 0, 0, 0, 0, 0, 0, 0, 0, 0, 0, 0, 0, 0, 0, 0, 0, 0, 0, 0, 0, 0, 0, 0, 0, 0, 0, 0, 0, 0, 0, 0, 0, 0, 0, 0, 0, 0, 0, 0, 0, 0, 0, 0, 0, 0, 0, 0, 0, 0, 0, 0, 0, 0, 0, 0, 0, 0, 0, 0, 0, 0, 0, 0, 0, 0, 0, 0, 0, 0, 0, 0, 0, 0, 0, 0, 0, 0, 0, 0, 0, 0, 0, 0, 0, 0, 0, 0, 0, 0, 0, 0, 0, 0, 0, 0, 0, 0, 0, 0, 0, 0, 0, 0, 0, 0, 0, 0, 0, 0, 0, 0, 0, 0, 0, 0, 0, 0, 0, 0, 0, 0, 0, 0, 0, 0, 0, 0, 0, 0, 0, 0, 0, 0, 0, 0, 0, 0, 0, 0, 0, 0, 0, 0, 0, 0, 0, 0, 0, 0, 0, 0, 0, 0, 0, 0, 0, 0, 0, 0, 0, 0, 0, 0, 0, 0, 0, 0, 0, 0, 0, 0, 0, 0, 0, 0, 0, 0, 0, 0, 0, 0, 0, 0, 0, 0, 0, 0, 0, 0, 0, 0, 0, 0, 0, 0, 0, 0, 0, 0, 0, 0, 0, 0, 0, 0, 0, 0, 0, 0, 0, 0, 0, 0, 0, 0, 0, 0, 0, 0, 0, 0, 0, 0, 0, 0, 0, 0, 0, 0, 0, 0, 0, 0, 0, 0, 0, 0, 0, 0, 0, 0, 0, 0, 0, 0, 0, 0, 0, 0, 0, 0, 0, 0, 0, 0, 0, 0, 0, 0, 0, 0, 0, 0, 0, 0, 0, 0, 0, 0, 0, 0, 0, 0, 0, 0, 0, 0, 0, 0, 0, 0, 0, 0, 0, 0, 0, 0, 0, 0, 0, 0, 0, 0, 0, 0, 0, 0, 0, 0, 0, 0, 0, 0, 0, 0, 0, 0, 0, 0, 0, 0, 0, 0, 0, 0, 0, 0, 0, 0, 0, 0, 0, 0, 0, 0, 0, 0, 0, 0, 0, 0, 0, 0, 0, 0, 0, 0, 0, 0, 0, 0, 0, 0, 0, 0, 0, 0, 0, 0, 0, 0, 0, 0, 0, 0, 0, 0, 0, 0, 0, 0, 0, 0, 0, 0, 0, 0, 0, 0, 0, 0, 0, 0, 0, 0, 0, 0, 0, 0, 0, 0, 0, 0, 0, 0, 0, 0, 0, 0, 0, 0, 0, 0, 0, 0, 0, 0, 0, 0, 0, 0, 0, 0, 0, 0, 0, 0, 0, 0, 0, 0, 0, 0, 0, 0, 0, 0, 0, 0, 0, 0, 0, 0, 0, 0, 0, 0, 0, 0, 0, 0, 0, 0, 0, 0, 0, 0, 0, 0, 0, 0, 0, 0, 0, 0, 0, 0, 0, 0, 0, 0, 0, 0, 0, 0, 0, 0, 0, 0, 0, 0, 0, 0, 0, 0, 0, 0, 0, 0, 0, 0, 0, 0, 0, 0, 0, 0, 0, 0, 0, 0, 0, 0, 0, 0, 0, 0, 0, 0, 0, 0, 0, 0, 0, 0, 0, 0, 0, 0, 0, 0, 0, 0, 0, 0, 0, 0, 0, 0, 0, 0, 0, 0, 0, 0, 0, 0, 0, 0, 0, 0, 0, 0, 0, 0, 0, 0, 0, 0, 0, 0, 0, 0, 0, 0, 0, 0, 0, 0, 0, 0, 0, 0, 0, 0, 0, 0, 0, 0, 0, 0, 0, 0, 0, 0, 0, 0, 0, 0, 0, 0, 0, 0, 0, 0, 0, 0, 0, 0, 0, 0, 0, 0, 0, 0, 0, 0, 0, 0, 0, 0, 0, 0, 0, 0, 0, 0, 0, 0, 0, 0, 0, 0, 0, 0, 0, 0, 0, 0, 0, 0, 0, 0, 0, 0, 0, 0, 0, 0, 0, 0, 0, 0, 0, 0, 0, 0, 0, 0, 0, 0, 0, 0, 0, 0, 0, 0, 0, 0, 0, 0, 0, 0, 0, 0, 0, 0, 0, 0, 0, 0, 0, 0, 0, 0, 0, 0, 0, 0, 0, 0, 0, 0, 0, 0, 0, 0, 0, 0, 0, 0, 0, 0, 0, 0, 0, 0, 0, 0, 0, 0, 0, 0, 0, 0, 0, 0, 0, 0, 0, 0, 0, 0, 0, 0, 0, 0, 0, 0, 0, 0, 0, 0, 0, 0, 0, 0, 0, 0, 0, 0, 0, 0, 0, 0, 0, 0, 0, 0, 0, 0, 0, 0, 0, 0, 0, 0, 0, 0, 0, 0, 0, 0, 0, 0, 0, 0, 0, 0, 0, 0, 0, 0, 0, 0, 0, 0, 0, 0, 0, 0, 0, 0, 0, 0, 0, 0, 0, 0, 0, 0, 0, 0, 0, 0, 0, 0, 0, 0, 0, 0, 0, 0, 0, 0, 0, 0, 0, 0, 0, 0, 0, 0, 0, 0, 0, 0, 0, 0, 0, 0, 0, 0, 0, 0, 0, 0, 0, 0, 0, 0, 0, 0, 0, 0, 0, 0, 0, 0, 0, 0, 0, 0, 0, 0, 0, 0, 0, 0, 0, 0, 0, 0, 0, 0, 0, 0, 0, 0, 0, 0, 0, 0, 0, 0, 0, 0, 0, 0, 0, 0, 0, 0, 0, 0, 0, 0, 0, 0, 0, 0, 0, 0, 0, 0, 0, 0, 0, 0, 0, 0, 0, 0, 0, 0, 0, 0, 0, 0, 0, 0, 0, 0, 0, 0, 0, 0, 0, 0, 0, 0, 0, 0, 0, 0, 0, 0, 0, 0, 0, 0, 0, 0, 0, 0, 0, 0, 0, 0, 0, 0, 0, 0, 0, 0, 0, 0, 0, 0, 0, 0, 0, 0, 0, 0, 0, 0, 0, 0, 0, 0, 0, 0, 0, 0, 0, 0, 0, 0, 0, 0, 0, 0, 0, 0, 0, 0, 0, 0, 0, 0, 0, 0, 0, 0, 0, 0, 0, 0, 0, 0, 0, 0, 0, 0, 0, 0, 0, 0, 0, 0, 0, 0, 0, 0, 0, 0, 0, 0, 0, 0, 0, 0, 0, 0, 0, 0, 0, 0, 0, 0, 0, 0, 0, 0, 0, 0, 0, 0, 0, 0, 0, 0, 0, 0, 0, 0, 0, 0, 0, 0, 0, 0, 0, 0, 0, 0, 0, 0, 0, 0, 0, 0, 0, 0, 0, 0, 0, 0, 0, 0, 0, 0, 0, 0, 0, 0, 0, 0, 0, 0, 0, 0, 0, 0, 0, 0, 0, 0, 0, 0, 0, 0, 0, 0, 0, 0, 0, 0, 0, 0, 0, 0, 0, 0, 0, 0, 0, 0, 0, 0, 0, 0, 0, 0, 0, 0, 0, 0, 0, 0, 0, 0, 0, 0, 0, 0, 0, 0, 0, 0, 0, 0, 0, 0, 0, 0, 0, 0, 0, 0, 0, 0, 0, 0, 0, 0, 0, 0, 0, 0, 0, 0, 0, 0, 0, 0, 0, 0, 0, 0, 0, 0, 0, 0, 0, 0, 0, 0, 0, 0, 0, 0, 0, 0, 0, 0, 0, 0, 0, 0, 0, 0, 0, 0, 0, 0, 0, 0, 0, 0, 0, 0, 0, 0, 0, 0, 0, 0, 0, 0, 0, 0, 0, 0, 0, 0, 0, 0, 0, 0, 0, 0, 0, 0, 0, 0, 0, 0, 0, 0, 0, 0, 0, 0, 0, 0, 0, 0, 0, 0, 0, 0, 0, 0, 0, 0, 0, 0, 0, 0, 0, 0, 0, 0, 0, 0, 0, 0, 0, 0, 0, 0, 0, 0, 0, 0, 0, 0, 0, 0, 0, 0, 0, 0, 0, 0, 0, 0, 0, 0, 0, 0, 0, 0, 0, 0, 0, 0, 0, 0, 0, 0, 0, 0, 0, 0, 0, 0, 0, 0, 0, 0, 0, 0, 0, 0, 0, 0, 0, 0, 0, 0, 0, 0, 0, 0, 0, 0, 0, 0, 0, 0, 0, 0, 0, 0, 0, 0, 0, 0, 0, 0, 0, 0, 0, 0, 0, 0, 0, 0, 0, 0, 0, 0, 0, 0, 0, 0, 0, 0, 0, 0, 0, 0, 0, 0, 0, 0, 0, 0, 0, 0, 0, 0, 0, 0, 0, 0, 0, 0, 0, 0, 0, 0, 0, 0, 0, 0, 0, 0, 0, 0, 0, 0, 0, 0, 0, 0, 0, 0, 0, 0, 0, 0, 0, 0, 0, 0, 0, 0, 0, 0, 0, 0, 0, 0, 0, 0, 0, 0, 0, 0, 0, 0, 0, 0, 0, 0, 0, 0, 0, 0, 0, 0, 0, 0, 0, 0, 0, 0, 0, 0, 0, 0, 0, 0, 0, 0, 0, 0, 0, 0, 0, 0, 0, 0, 0, 0, 0, 0, 0, 0, 0, 0, 0, 0, 0, 0, 0, 0, 0, 0, 0, 0, 0, 0, 0, 0, 0, 0, 0, 0, 0, 0, 0, 0, 0, 0, 0, 0, 0, 0, 0, 0, 0, 0, 0, 0, 0, 0, 0, 0, 0, 0, 0, 0, 0, 0, 0, 0, 0, 0, 0, 0, 0, 0, 0, 0, 0, 0, 0, 0, 0, 0, 0, 0, 0, 0, 0, 0, 0, 0, 0, 0, 0, 0, 0, 0, 0, 0, 0, 0, 0, 0, 0, 0, 0, 0, 0, 0, 0, 0, 0, 0, 0, 0, 0, 0, 0, 0, 0, 0, 0, 0, 0, 0, 0, 0, 0, 0, 0, 0, 0, 0, 0, 0, 0, 0, 0, 0, 0, 0, 0, 0, 0, 0, 0, 0, 0, 0, 0, 0, 0, 0, 0, 0, 0, 0, 0, 0, 0, 0, 0, 0, 0, 0, 0, 0, 0, 0, 0, 0, 0, 0, 0, 0, 0, 0, 0, 0, 0, 0, 0, 0, 0, 0, 0, 0, 0, 0, 0, 0, 0, 0, 0, 0, 0, 0, 0, 0, 0, 0, 0, 0, 0, 0, 0, 0, 0, 0, 0, 0, 0, 0, 0, 0, 0, 0, 0, 0, 0, 0, 0, 0, 0, 0, 0, 0, 0, 0, 0, 0, 0, 0, 0, 0, 0, 0, 0, 0, 0, 0, 0, 0, 0, 0, 0, 0, 0, 0, 0, 0, 0, 0, 0, 0, 0, 0, 0, 0, 0, 0, 0, 0, 0, 0, 0, 0, 0, 0, 0, 0, 0, 0, 0, 0, 0, 0, 0, 0, 0, 0, 0, 0, 0, 0, 0, 0, 0, 0, 0, 0, 0, 0, 0, 0, 0, 0, 0, 0, 0, 0, 0, 0, 0, 0, 0, 0, 0, 0, 0, 0, 0, 0, 0, 0, 0, 0, 0, 0, 0, 0, 0, 0, 0, 0, 0, 0, 0, 0, 0, 0, 0, 0, 0, 0, 0, 0, 0, 0, 0, 0, 0, 0, 0, 0, 0, 0, 0, 0, 0, 0, 0, 0, 0, 0, 0, 0, 0, 0, 0, 0, 0, 0, 0, 0, 0, 0, 0, 0, 0, 0, 0, 0, 0, 0, 0, 0, 0, 0, 0, 0, 0, 0, 0, 0, 0, 0, 0, 0, 0, 0, 0, 0, 0, 0, 0, 0, 0, 0, 0, 0, 0, 0, 0, 0, 0, 0, 0, 0, 0, 0, 0, 0, 0, 0, 0, 0, 0, 0, 0, 0, 0, 0, 0, 0, 0, 0, 0, 0, 0, 0, 0, 0, 0, 0, 0, 0, 0, 0, 0, 0, 0, 0, 0, 0, 0, 0, 0, 0, 0, 0, 0, 0, 0, 0, 0, 0, 0, 0, 0, 0, 0, 0, 0, 0, 0, 0, 0, 0, 0, 0, 0, 0, 0, 0, 0, 0, 0, 0, 0, 0, 0, 0, 0, 0, 0, 0, 0, 0, 0, 0, 0, 0, 0, 0, 0, 0, 0, 0, 0, 0, 0, 0, 0, 0, 0, 0, 0, 0, 0, 0, 0, 0, 0, 0, 0, 0, 0, 0, 0, 0, 0, 0, 0, 0, 0, 0, 0, 0, 0, 0, 0, 0, 0, 0, 0, 0, 0, 0, 0, 0, 0, 0, 0, 0, 0, 0, 0, 0, 0, 0, 0, 0, 0, 0, 0, 0, 0, 0, 0, 0, 0, 0, 0, 0, 0, 0, 0, 0, 0, 0, 0, 0, 0, 0, 0, 0, 0, 0, 0, 0, 0, 0, 0, 0, 0, 0, 0, 0, 0, 0, 0, 0, 0, 0, 0, 0, 0, 0, 0, 0, 0, 0, 0, 0, 0, 0, 0, 0, 0, 0, 0, 0, 0, 0, 0, 0, 0, 0, 0, 0, 0, 0, 0, 0, 0, 0, 0, 0, 0, 0, 0, 0, 0, 0, 0, 0, 0, 0, 0, 0, 0, 0, 0, 0, 0, 0, 0, 0, 0, 0, 0, 0, 0, 0, 0, 0, 0, 0, 0, 0, 0, 0, 0, 0, 0, 0, 0, 0, 0, 0, 0, 0, 0, 0, 0, 0, 0, 0, 0, 0, 0, 0, 0, 0, 0, 0, 0, 0, 0, 0, 0, 0, 0, 0, 0, 0, 0, 0, 0, 0, 0, 0, 0, 0, 0, 0, 0, 0, 0, 0, 0, 0, 0, 0, 0, 0, 0, 0, 0, 0, 0, 0, 0, 0, 0, 0, 0, 0, 0, 0, 0, 0, 0, 0, 0, 0, 0, 0, 0, 0, 0, 0, 0, 0, 0, 0, 0, 0, 0, 0, 0, 0, 0, 0, 0, 0, 0, 0, 0, 0, 0, 0, 0, 0, 0, 0, 0, 0, 0, 0, 0, 0, 0, 0, 0, 0, 0, 0, 0, 0, 0, 0, 0, 0, 0, 0, 0, 0, 0, 0, 0, 0, 0, 0, 0, 0, 0, 0, 0, 0, 0, 0, 0, 0, 0, 0, 0, 0, 0, 0, 0, 0, 0, 0, 0, 0, 0, 0, 0, 0, 0, 0, 0, 0, 0, 0, 0, 0, 0, 0, 0, 0, 0, 0, 0, 0, 0, 0, 0, 0, 0, 0, 0, 0, 0, 0, 0, 0, 0, 0, 0, 0, 0, 0, 0, 0, 0, 0, 0, 0, 0, 0, 0, 0, 0, 0, 0, 0, 0, 0, 0, 0, 0, 0, 0, 0, 0, 0, 0, 0, 0, 0, 0, 0, 0, 0, 0, 0, 0, 0, 0, 0, 0, 0, 0, 0, 0, 0, 0, 0, 0, 0, 0, 0, 0, 0, 0, 0, 0, 0, 0, 0, 0, 0, 0, 0, 0, 0, 0, 0, 0, 0, 0, 0, 0, 0, 0, 0, 0, 0, 0, 0, 0, 0, 0, 0, 0, 0, 0, 0, 0, 0, 0, 0, 0, 0, 0, 0, 0, 0, 0, 0, 0, 0, 0, 0, 0, 0, 0, 0, 0, 0, 0, 0, 0, 0, 0, 0, 0, 0, 0, 0, 0, 0, 0, 0, 0, 0, 0, 0, 0, 0, 0, 0, 0, 0, 0, 0, 0, 0, 0, 0, 0, 0, 0, 0, 0, 0, 0, 0, 0, 0, 0, 0, 0, 0, 0, 0, 0, 0, 0, 0, 0, 0, 0, 0, 0, 0, 0, 0, 0, 0, 0, 0, 0, 0, 0, 0, 0, 0, 0, 0, 0, 0, 0, 0, 0, 0, 0, 0, 0, 0, 0, 0, 0, 0, 0, 0, 0, 0, 0, 0, 0, 0, 0, 0, 0, 0, 0, 0, 0, 0, 0, 0, 0, 0, 0, 0, 0, 0, 0, 0, 0, 0, 0, 0, 0, 0, 0, 0, 0, 0, 0, 0, 0, 0, 0, 0, 0, 0, 0, 0, 0, 0, 0, 0, 0, 0, 0, 0, 0, 0, 0, 0, 0, 0, 0, 0, 0, 0, 0, 0, 0, 0, 0, 0, 0, 0, 0, 0, 0, 0, 0, 0, 0, 0, 0, 0, 0, 0, 0, 0, 0, 0, 0, 0, 0, 0, 0, 0, 0, 0, 0, 0, 0, 0, 0, 0, 0, 0, 0, 0, 0, 0, 0, 0, 0, 0, 0, 0, 0, 0, 0, 0, 0, 0, 0, 0, 0, 0, 0, 0, 0, 0, 0, 0, 0, 0, 0, 0, 0, 0, 0, 0, 0, 0, 0, 0, 0, 0, 0, 0, 0, 0, 0, 0, 0, 0, 0, 0, 0, 0, 0, 0, 0, 0, 0, 0, 0, 0, 0, 0, 0, 0, 0, 0, 0, 0, 0, 0, 0, 0, 0, 0, 0, 0, 0, 0, 0, 0, 0, 0, 0, 0, 0, 0, 0, 0, 0, 0, 0, 0, 0, 0, 0, 0, 0, 0, 0, 0, 0, 0, 0, 0, 0, 0, 0, 0, 0, 0, 0, 0, 0, 0, 0, 0, 0, 0, 0, 0, 0, 0, 0, 0, 0, 0, 0, 0, 0, 0, 0, 0, 0, 0, 0, 0, 0, 0, 0, 0, 0, 0, 0, 0, 0, 0, 0, 0, 0, 0, 0, 0, 0, 0, 0, 0, 0, 0, 0, 0, 0, 0, 0, 0, 0, 0, 0, 0, 0, 0, 0, 0, 0, 0, 0, 0, 0, 0, 0, 0, 0, 0, 0, 0, 0, 0, 0, 0, 0, 0, 0, 0, 0, 0, 0, 0, 0, 0, 0, 0, 0, 0, 0, 0, 0, 0, 0, 0, 0, 0, 0, 0, 0, 0, 0, 0, 0, 0, 0, 0, 0, 0, 0, 0, 0, 0, 0, 0, 0, 0, 0, 0, 0, 0, 0, 0, 0, 0, 0, 0, 0, 0, 0, 0, 0, 0, 0, 0, 0, 0, 0, 0, 0, 0, 0, 0, 0, 0, 0, 0, 0, 0, 0, 0, 0, 0, 0, 0, 0, 0, 0, 0, 0, 0, 0, 0, 0, 0, 0, 0, 0, 0, 0, 0, 0, 0, 0, 0, 0, 0, 0, 0, 0, 0, 0, 0, 0, 0, 0, 0, 0, 0, 0, 0, 0, 0, 0, 0, 0, 0, 0, 0, 0, 0, 0, 0, 0, 0, 0, 0, 0, 0, 0, 0, 0, 0, 0, 0, 0, 0, 0, 0, 0, 0, 0, 0, 0, 0, 0, 0, 0, 0, 0, 0, 0, 0, 0, 0, 0, 0, 0, 0, 0, 0, 0, 0, 0, 0, 0, 0, 0, 0, 0, 0, 0, 0, 0, 0, 0, 0, 0, 0, 0, 0, 0, 0, 0, 0, 0, 0, 0, 0, 0, 0, 0, 0, 0, 0, 0, 0, 0, 0, 0, 0, 0, 0, 0, 0, 0, 0, 0, 0, 0, 0, 0, 0, 0, 0, 0, 0, 0, 0, 0, 0, 0, 0, 0, 0, 0, 0, 0, 0, 0, 0, 0, 0, 0, 0, 0, 0, 0, 0, 0, 0, 0, 0, 0, 0, 0, 0, 0, 0, 0, 0, 0, 0, 0, 0, 0, 0, 0, 0, 0, 0, 0, 0, 0, 0, 0, 0, 0, 0, 0, 0, 0, 0, 0, 0, 0, 0, 0, 0, 0, 0, 0, 0, 0, 0, 0, 0, 0, 0, 0, 0, 0, 0, 0, 0, 0, 0, 0, 0, 0, 0, 0, 0, 0, 0, 0, 0, 0, 0, 0, 0, 0, 0, 0, 0, 0, 0, 0, 0, 0, 0, 0, 0, 0, 0, 0, 0, 0, 0, 0, 0, 0, 0, 0, 0, 0, 0, 0, 0, 0, 0, 0, 0, 0, 0, 0, 0, 0, 0, 0, 0, 0, 0, 0, 0, 0, 0, 0, 0, 0, 0, 0, 0, 0, 0, 0, 0, 0, 0, 0, 0, 0, 0, 0, 0, 0, 0, 0, 0, 0, 0, 0, 0, 0, 0, 0, 0, 0, 0, 0, 0, 0, 0, 0, 0, 0, 0, 0, 0, 0, 0, 0, 0, 0, 0, 0, 0, 0, 0, 0, 0, 0, 0, 0, 0, 0, 0, 0, 0, 0, 0, 0, 0, 0, 0, 0, 0, 0, 0, 0, 0, 0, 0, 0, 0, 0, 0, 0, 0, 0, 0, 0, 0, 0, 0, 0, 0, 0, 0, 0, 0, 0, 0, 0, 0, 0, 0, 0, 0, 0, 0, 0, 0, 0, 0, 0, 0, 0, 0, 0, 0, 0, 0, 0, 0, 0, 0, 0, 0, 0, 0, 0, 0, 0, 0, 0, 0, 0, 0, 0, 0, 0, 0, 0, 0, 0, 0, 0, 0, 0, 0, 0, 0, 0, 0, 0, 0, 0, 0, 0, 0, 0, 0, 0, 0, 0, 0, 0, 0, 0, 0, 0, 0, 0, 0, 0, 0, 0, 0, 0, 0, 0, 0, 0, 0, 0, 0, 0, 0, 0, 0, 0, 0, 0, 0, 0, 0, 0, 0, 0, 0, 0, 0, 0, 0, 0, 0, 0, 0, 0, 0, 0, 0, 0, 0, 0, 0, 0, 0, 0, 0, 0, 0, 0, 0, 0, 0, 0, 0, 0, 0, 0, 0, 0, 0, 0, 0, 0, 0, 0, 0, 0, 0, 0, 0, 0, 0, 0, 0, 0, 0, 0, 0, 0, 0, 0, 0, 0, 0, 0, 0, 0, 0, 0, 0, 0, 0, 0, 0, 0, 0, 0, 0, 0, 0, 0, 0, 0, 0, 0, 0, 0, 0, 0, 0, 0, 0, 0, 0, 0, 0, 0, 0, 0, 0, 0, 0, 0, 0, 0, 0, 0, 0, 0, 0, 0, 0, 0, 0, 0, 0, 0, 0, 0, 0, 0, 0, 0, 0, 0, 0, 0, 0, 0, 0, 0, 0, 0, 0, 0, 0, 0, 0, 0, 0, 0, 0, 0, 0, 0, 0, 0, 0, 0, 0, 0, 0, 0, 0, 0, 0, 0, 0, 0, 0, 0, 0, 0, 0, 0, 0, 0, 0, 0, 0, 0, 0, 0, 0, 0, 0, 0, 0, 0, 0, 0, 0, 0, 0, 0, 0, 0, 0, 0, 0, 0, 0, 0, 0, 0, 0, 0, 0, 0, 0, 0, 0, 0, 0, 0, 0, 0, 0, 0, 0, 0, 0, 0, 0, 0, 0, 0, 0, 0, 0, 0, 0, 0, 0, 0, 0, 0, 0, 0, 0, 0, 0, 0, 0, 0, 0, 0, 0, 0, 0, 0, 0, 0, 0, 0, 0, 0, 0, 0, 0, 0, 0, 0, 0, 0, 0, 0, 0, 0, 0, 0, 0, 0, 0, 0, 0, 0, 0, 0, 0, 0, 0, 0, 0, 0, 0, 0, 0, 0, 0, 0, 0, 0, 0, 0, 0, 0, 0, 0, 0, 0, 0, 0, 0, 0, 0, 0, 0, 0, 0, 0, 0, 0, 0, 0, 0, 0, 0, 0, 0, 0, 0, 0, 0, 0, 0, 0, 0, 0, 0, 0, 0, 0, 0, 0, 0, 0, 0, 0, 0, 0, 0, 0, 0, 0, 0, 0, 0, 0, 0, 0, 0, 0, 0, 0, 0, 0, 0, 0, 0, 0, 0, 0, 0, 0, 0, 0, 0, 0, 0, 0, 0, 0, 0, 0, 0, 0, 0, 0, 0, 0, 0, 0, 0, 0, 0, 0, 0, 0, 0, 0, 0, 0, 0, 0, 0, 0, 0, 0, 0, 0, 0, 0, 0, 0, 0, 0, 0, 0, 0, 0, 0, 0, 0, 0, 0, 0, 0, 0, 0, 0, 0, 0, 0, 0, 0, 0, 0, 0, 0, 0, 0, 0, 0, 0, 0, 0, 0, 0, 0, 0, 0, 0, 0, 0, 0, 0, 0, 0, 0, 0, 0, 0, 0, 0, 0, 0, 0, 0, 0, 0, 0, 0, 0, 0, 0, 0, 0, 0, 0, 0, 0, 0, 0, 0, 0, 0, 0, 0, 0, 0, 0, 0, 0, 0, 0, 0, 0, 0, 0, 0, 0, 0, 0, 0, 0, 0, 0, 0, 0, 0, 0, 0, 0, 0, 0, 0, 0, 0, 0, 0, 0, 0, 0, 0, 0, 0, 0, 0, 0, 0, 0, 0, 0, 0, 0, 0, 0, 0, 0, 0, 0, 0, 0, 0, 0, 0, 0, 0, 0, 0, 0, 0, 0, 0, 0, 0, 0, 0, 0, 0, 0, 0, 0, 0, 0, 0, 0, 0, 0, 0, 0, 0, 0, 0, 0, 0, 0, 0, 0, 0, 0, 0, 0, 0, 0, 0, 0, 0, 0, 0, 0, 0, 0, 0, 0, 0, 0, 0, 0, 0, 0, 0, 0, 0, 0, 0, 0, 0, 0, 0, 0, 0, 0, 0, 0, 0, 0, 0, 0, 0, 0, 0, 0, 0, 0, 0, 0, 0, 0, 0, 0, 0, 0, 0, 0, 0, 0, 0, 0, 0, 0, 0, 0, 0, 0, 0, 0, 0, 0, 0, 0, 0, 0, 0, 0, 0, 0, 0, 0, 0, 0, 0, 0, 0, 0, 0, 0, 0, 0, 0, 0, 0, 0, 0, 0, 0, 0, 0, 0, 0, 0, 0, 0, 0, 0, 0, 0, 0, 0, 0, 0, 0, 0, 0, 0, 0, 0, 0, 0, 0, 0, 0, 0, 0, 0, 0, 0, 0, 0, 0, 0, 0, 0, 0, 0, 0, 0, 0, 0, 0, 0, 0, 0, 0, 0, 0, 0, 0, 0, 0, 0, 0, 0, 0, 0, 0, 0, 0, 0, 0, 0, 0, 0, 0, 0, 0, 0, 0, 0, 0, 0, 0, 0, 0, 0, 0, 0, 0, 0, 0, 0, 0, 0, 0, 0, 0, 0, 0, 0, 0, 0, 0, 0, 0, 0, 0, 0, 0, 0, 0, 0, 0, 0, 0, 0, 0, 0, 0, 0, 0, 0, 0, 0, 0, 0, 0, 0, 0, 0, 0, 0, 0, 0, 0, 0, 0, 0, 0, 0, 0, 0, 0, 0, 0, 0, 0, 0, 0, 0, 0, 0, 0, 0, 0, 0, 0, 0, 0, 0, 0, 0, 0, 0, 0, 0, 0, 0, 0, 0, 0, 0, 0, 0, 0, 0, 0, 0, 0, 0, 0, 0, 0, 0, 0, 0, 0, 0, 0, 0, 0, 0, 0, 0, 0, 0, 0, 0, 0, 0, 0, 0, 0, 0, 0, 0, 0, 0, 0, 0, 0, 0, 0, 0, 0, 0, 0, 0, 0, 0, 0, 0, 0, 0, 0, 0, 0, 0, 0, 0, 0, 0, 0, 0, 0, 0, 0, 0, 0, 0, 0, 0, 0, 0, 0, 0, 0, 0, 0, 0, 0, 0, 0, 0, 0, 0, 0, 0, 0, 0, 0, 0, 0, 0, 0, 0, 0, 0, 0, 0, 0, 0, 0, 0, 0, 0, 0, 0, 0, 0, 0, 0, 0, 0, 0, 0, 0, 0, 0, 0, 0, 0, 0, 0, 0, 0, 0, 0, 0, 0, 0, 0, 0, 0, 0, 0, 0, 0, 0, 0, 0, 0, 0, 0, 0, 0, 0, 0, 0, 0, 0, 0, 0, 0, 0, 0, 0, 0, 0, 0, 0, 0, 0, 0, 0, 0, 0, 0, 0, 0, 0, 0, 0, 0, 0, 0, 0, 0, 0, 0, 0, 0, 0, 0, 0, 0, 0, 0, 0, 0, 0, 0, 0, 0, 0, 0, 0, 0, 0, 0, 0, 0, 0, 0, 0, 0, 0, 0, 0, 0, 0, 0, 0, 0, 0, 0, 0, 0, 0, 0, 0, 0, 0, 0, 0, 0, 0, 0, 0, 0, 0, 0, 0, 0, 0, 0, 0, 0, 0, 0, 0, 0, 0, 0, 0, 0, 0, 0, 0, 0, 0, 0, 0, 0, 0, 0, 0, 0, 0, 0, 0, 0, 0, 0, 0, 0, 0, 0, 0, 0, 0, 0, 0, 0, 0, 0, 0, 0, 0, 0, 0, 0, 0, 0, 0, 0, 0, 0, 0, 0, 0, 0, 0, 0, 0, 0, 0, 0, 0, 0, 0, 0, 0, 0, 0, 0, 0, 0, 0, 0, 0, 0, 0, 0, 0, 0, 0, 0, 0, 0, 0, 0, 0, 0, 0, 0, 0, 0, 0, 0, 0, 0, 0, 0, 0, 0, 0, 0, 0, 0, 0, 0, 0, 0, 0, 0, 0, 0, 0, 0, 0, 0, 0, 0, 0, 0, 0, 0, 0, 0, 0, 0, 0, 0, 0, 0, 0, 0, 0, 0, 0, 0, 0, 0, 0, 0, 0, 0, 0, 0, 0, 0, 0, 0, 0, 0, 0, 0, 0, 0, 0, 0, 0, 0, 0, 0, 0, 0, 0, 0, 0, 0, 0, 0, 0, 0, 0, 0, 0, 0, 0, 0, 0, 0, 0, 0, 0, 0, 0, 0, 0, 0, 0, 0, 0, 0, 0, 0, 0, 0, 0, 0, 0, 0, 0, 0, 0, 0, 0, 0, 0, 0, 0, 0, 0, 0, 0, 0, 0, 0, 0, 0, 0, 0, 0, 0, 0, 0, 0, 0, 0, 0, 0, 0, 0, 0, 0, 0, 0, 0, 0, 0, 0, 0, 0, 0, 0, 0, 0, 0, 0, 0, 0, 0, 0, 0, 0, 0, 0, 0, 0, 0, 0, 0, 0, 0, 0, 0, 0, 0, 0, 0, 0, 0, 0, 0, 0, 0, 0, 0, 0, 0, 0, 0, 0, 0, 0, 0, 0, 0, 0, 0, 0, 0, 0, 0, 0, 0, 0, 0, 0, 0, 0, 0, 0, 0, 0, 0, 0, 0, 0, 0, 0, 0, 0, 0, 0, 0, 0, 0, 0, 0, 0, 0, 0, 0, 0, 0, 0, 0, 0, 0, 0, 0, 0, 0, 0, 0, 0, 0, 0, 0, 0, 0, 0, 0, 0, 0, 0, 0, 0, 0, 0, 0, 0, 0, 0, 0, 0, 0, 0, 0, 0, 0, 0, 0, 0, 0, 0, 0, 0, 0, 0, 0, 0, 0, 0, 0, 0, 0, 0, 0, 0, 0, 0, 0, 0, 0, 0, 0, 0, 0, 0, 0, 0, 0, 0, 0, 0, 0, 0, 0, 0, 0, 0, 0, 0, 0, 0, 0, 0, 0, 0, 0, 0, 0, 0, 0, 0, 0, 0, 0, 0, 0, 0, 0, 0, 0, 0, 0, 0, 0, 0, 0, 0, 0, 0, 0, 0, 0, 0, 0, 0, 0, 0, 0, 0, 0, 0, 0, 0, 0, 0, 0, 0, 0, 0, 0, 0, 0, 0, 0, 0, 0, 0, 0, 0, 0, 0, 0, 0, 0, 0, 0, 0, 0, 0, 0, 0, 0, 0, 0, 0, 0, 0, 0, 0, 0, 0, 0, 0, 0, 0, 0, 0, 0, 0, 0, 0, 0, 0, 0, 0, 0, 0, 0, 0, 0, 0, 0, 0, 0, 0, 0, 0, 0, 0, 0, 0, 0, 0, 0, 0, 0, 0, 0, 0, 0, 0, 0, 0, 0, 0, 0, 0, 0, 0, 0, 0, 0, 0, 0, 0, 0, 0, 0, 0, 0, 0, 0, 0, 0, 0, 0, 0, 0, 0, 0, 0, 0, 0, 0, 0, 0, 0, 0, 0, 0, 0, 0, 0, 0, 0, 0, 0, 0, 0, 0, 0, 0, 0, 0, 0, 0, 0, 0, 0, 0, 0, 0, 0, 0, 0, 0, 0, 0, 0, 0, 0, 0, 0, 0, 0, 0, 0, 0, 0, 0, 0, 0, 0, 0, 0, 0, 0, 0, 0, 0, 0, 0, 0, 0, 0, 0, 0, 0, 0, 0, 0, 0, 0, 0, 0, 0, 0, 0, 0, 0, 0, 0, 0, 0, 0, 0, 0, 0, 0, 0, 0, 0, 0, 0, 0, 0, 0, 0, 0, 0, 0, 0, 0, 0, 0, 0, 0, 0, 0, 0, 0, 0, 0, 0, 0, 0, 0, 0, 0, 0, 0, 0, 0, 0, 0, 0, 0, 0, 0, 0, 0, 0, 0, 0, 0, 0, 0, 0, 0, 0, 0, 0, 0, 0, 0, 0, 0, 0, 0, 0, 0, 0, 0, 0, 0, 0, 0, 0, 0, 0, 0, 0, 0, 0, 0, 0, 0, 0, 0, 0, 0, 0, 0, 0, 0, 0, 0, 0, 0, 0, 0, 0, 0, 0, 0, 0, 0, 0, 0, 0, 0, 0, 0, 0, 0, 0, 0, 0, 0, 0, 0, 0, 0, 0, 0, 0, 0, 0, 0, 0, 0, 0, 0, 0, 0, 0, 0, 0, 0, 0, 0, 0, 0, 0, 0, 0, 0, 0, 0, 0, 0, 0, 0, 0, 0, 0, 0, 0, 0, 0, 0, 0, 0, 0, 0, 0, 0, 0, 0, 0, 0, 0, 0, 0, 0, 0, 0, 0, 0, 0, 0, 0, 0, 0, 0, 0, 0, 0, 0, 0, 0, 0, 0, 0, 0, 0, 0, 0, 0, 0, 0, 0, 0, 0, 0, 0, 0, 0, 0, 0, 0, 0, 0, 0, 0, 0, 0, 0, 0, 0, 0, 0, 0, 0, 0, 0, 0, 0, 0, 0, 0, 0, 0, 0, 0, 0, 0, 0, 0, 0, 0, 0, 0, 0, 0, 0, 0, 0, 0, 0, 0, 0, 0, 0, 0, 0, 0, 0, 0, 0, 0, 0, 0, 0, 0, 0, 0, 0, 0, 0, 0, 0, 0, 0, 0, 0, 0, 0, 0, 0, 0, 0, 0, 0, 0, 0, 0, 0, 0, 0, 0, 0, 0, 0, 0, 0, 0, 0, 0, 0, 0, 0, 0, 0, 0, 0, 0, 0, 0, 0, 0, 0, 0, 0, 0, 0, 0, 0, 0, 0, 0, 0, 0, 0, 0, 0, 0, 0, 0, 0, 0, 0, 0, 0, 0, 0, 0, 0, 0, 0, 0, 0, 0, 0, 0, 0, 0, 0, 0, 0, 0, 0, 0, 0, 0, 0, 0, 0, 0, 0, 0, 0, 0, 0, 0, 0, 0, 0, 0, 0, 0, 0, 0, 0, 0, 0, 0, 0, 0, 0, 0, 0, 0, 0, 0, 0, 0, 0, 0, 0, 0, 0, 0, 0, 0, 0, 0, 0, 0, 0, 0, 0, 0, 0, 0, 0, 0, 0, 0, 0, 0, 0, 0, 0, 0, 0, 0, 0, 0, 0, 0, 0, 0, 0, 0, 0, 0, 0, 0, 0, 0, 0, 0, 0, 0, 0, 0, 0, 0, 0, 0, 0, 0, 0, 0, 0, 0, 0, 0, 0, 0, 0, 0, 0, 0, 0, 0, 0, 0, 0, 0, 0, 0, 0, 0, 0, 0, 0, 0, 0, 0, 0, 0, 0, 0, 0, 0, 0, 0, 0, 0, 0, 0, 0, 0, 0, 0, 0, 0, 0, 0, 0, 0, 0, 0, 0, 0, 0, 0, 0, 0, 0, 0, 0, 0, 0, 0, 0, 0, 0, 0, 0, 0, 0, 0, 0, 0, 0, 0, 0, 0, 0, 0, 0, 0, 0, 0, 0, 0, 0, 0, 0, 0, 0, 0, 0, 0, 0, 0, 0, 0, 0, 0, 0, 0, 0, 0, 0, 0, 0, 0, 0, 0, 0, 0, 0, 0, 0, 0, 0, 0, 0, 0, 0, 0, 0, 0, 0, 0, 0, 0, 0, 0, 0, 0, 0, 0, 0, 0, 0, 0, 0, 0, 0, 0, 0, 0, 0, 0, 0, 0, 0, 0, 0, 0, 0, 0, 0, 0, 0, 0, 0, 0, 0, 0, 0, 0, 0, 0, 0, 0, 0, 0, 0, 0, 0, 0, 0, 0, 0, 0, 0, 0, 0, 0, 0, 0, 0, 0, 0, 0, 0, 0, 0, 0, 0, 0, 0, 0, 0, 0, 0, 0, 0, 0, 0, 0, 0, 0, 0, 0, 0, 0, 0, 0, 0, 0, 0, 0, 0, 0, 0, 0, 0, 0, 0, 0, 0, 0, 0, 0, 0, 0, 0, 0, 0, 0, 0, 0, 0, 0, 0, 0, 0, 0, 0, 0, 0, 0, 0, 0, 0, 0, 0, 0, 0, 0, 0, 0, 0, 0, 0, 0, 0, 0, 0, 0, 0, 0, 0, 0, 0, 0, 0, 0, 0, 0, 0, 0, 0, 0, 0, 0, 0, 0, 0, 0, 0, 0, 0, 0, 0, 0, 0, 0, 0, 0, 0, 0, 0, 0, 0, 0, 0, 0, 0, 0, 0, 0, 0, 0, 0, 0, 0, 0, 0, 0, 0, 0, 0, 0, 0, 0, 0, 0, 0, 0, 0, 0, 0, 0, 0, 0, 0, 0, 0, 0, 0, 0, 0, 0, 0, 0, 0, 0, 0, 0, 0, 0, 0, 0, 0, 0, 0, 0, 0, 0, 0, 0, 0, 0, 0, 0, 0, 0, 0, 0, 0, 0, 0, 0, 0, 0, 0, 0, 0, 0, 0, 0, 0, 0, 0, 0, 0, 0, 0, 0, 0, 0, 0, 0, 0, 0, 0, 0, 0, 0, 0, 0, 0, 0, 0, 0, 0, 0, 0, 0, 0, 0, 0, 0, 0, 0, 0, 0, 0, 0, 0, 0, 0, 0, 0, 0, 0, 0, 0, 0, 0, 0, 0, 0, 0, 0, 0, 0, 0, 0, 0, 0, 0, 0, 0, 0, 0, 0, 0, 0, 0, 0, 0, 0, 0, 0, 0, 0, 0, 0, 0, 0, 0, 0, 0, 0, 0, 0, 0, 0, 0, 0, 0, 0, 0, 0, 0, 0, 0, 0, 0, 0, 0, 0, 0, 0, 0, 0, 0, 0, 0, 0, 0, 0, 0, 0, 0, 0, 0, 0, 0, 0, 0, 0, 0, 0, 0, 0, 0, 0, 0, 0, 0, 0, 0, 0, 0, 0, 0, 0, 0, 0, 0, 0, 0, 0, 0, 0, 0, 0, 0, 0, 0, 0, 0, 0, 0, 0, 0, 0, 0, 0, 0, 0, 0, 0, 0, 0, 0, 0, 0, 0, 0, 0, 0, 0, 0, 0, 0, 0, 0, 0, 0, 0, 0, 0, 0, 0, 0, 0, 0, 0, 0, 0, 0, 0, 0, 0, 0, 0, 0, 0, 0, 0, 0, 0, 0, 0, 0, 0, 0, 0, 0, 0, 0, 0, 0, 0, 0, 0, 0, 0, 0, 0, 0, 0, 0, 0, 0, 0, 0, 0, 0, 0, 0, 0, 0, 0, 0, 0, 0, 0, 0, 0, 0, 0, 0, 0, 0, 0, 0, 0, 0, 0, 0, 0, 0, 0, 0, 0, 0, 0, 0, 0, 0, 0, 0, 0, 0, 0, 0, 0, 0, 0, 0, 0, 0, 0, 0, 0, 0, 0, 0, 0, 0, 0, 0, 0, 0, 0, 0, 0, 0, 0, 0, 0, 0, 0, 0, 0, 0, 0, 0, 0, 0, 0, 0, 0, 0, 0, 0, 0, 0, 0, 0, 0, 0, 0, 0, 0, 0, 0, 0, 0, 0, 0, 0, 0, 0, 0, 0, 0, 0, 0, 0, 0, 0, 0, 0, 0, 0, 0, 0, 0, 0, 0, 0, 0, 0, 0, 0, 0, 0, 0, 0, 0, 0, 0, 0, 0, 0, 0, 0, 0, 0, 0, 0, 0, 0, 0, 0, 0, 0, 0, 0, 0, 0, 0, 0, 0, 0, 0, 0, 0, 0, 0, 0, 0, 0, 0, 0, 0, 0, 0, 0, 0, 0, 0, 0, 0, 0, 0, 0, 0, 0, 0, 0, 0, 0, 0, 0, 0, 0, 0, 0, 0, 0, 0, 0, 0, 0, 0, 0, 0, 0, 0, 0, 0, 0, 0, 0, 0, 0, 0, 0, 0, 0, 0, 0, 0, 0, 0, 0, 0, 0, 0, 0, 0, 0, 0, 0, 0, 0, 0, 0, 0, 0, 0, 0, 0, 0, 0, 0, 0, 0, 0, 0, 0, 0, 0, 0, 0, 0, 0, 0, 0, 0, 0, 0, 0, 0, 0, 0, 0, 0, 0, 0, 0, 0, 0, 0, 0, 0, 0, 0, 0, 0, 0, 0, 0, 0, 0, 0, 0, 0, 0, 0, 0, 0, 0, 0, 0, 0, 0, 0, 0, 0, 0, 0, 0, 0, 0, 0, 0, 0, 0, 0, 0, 0, 0, 0, 0, 0, 0, 0, 0, 0, 0, 0, 0, 0, 0, 0, 0, 0, 0, 0, 0, 0, 0, 0, 0, 0, 0, 0, 0, 0, 0, 0, 0, 0, 0, 0, 0, 0, 0, 0, 0, 0, 0, 0, 0, 0, 0, 0, 0, 0, 0, 0, 0, 0, 0, 0, 0, 0, 0, 0, 0, 0, 0, 0, 0, 0, 0, 0, 0, 0, 0, 0, 0, 0, 0, 0, 0, 0, 0, 0, 0, 0, 0, 0, 0, 0, 0, 0, 0, 0, 0, 0, 0, 0, 0, 0, 0, 0, 0, 0, 0, 0, 0, 0, 0, 0, 0, 0, 0, 0, 0, 0, 0, 0, 0, 0, 0, 0, 0, 0, 0, 0, 0, 0, 0, 0, 0, 0, 0, 0, 0, 0, 0, 0, 0, 0, 0, 0, 0, 0, 0, 0, 0, 0, 0, 0, 0, 0, 0, 0, 0, 0, 0, 0, 0, 0, 0, 0, 0, 0, 0, 0, 0, 0, 0, 0, 0, 0, 0, 0, 0, 0, 0, 0, 0, 0, 0, 0, 0, 0, 0, 0, 0, 0, 0, 0, 0, 0, 0, 0, 0, 0, 0, 0, 0, 0, 0, 0, 0, 0, 0, 0, 0, 0, 0, 0, 0, 0, 0, 0, 0, 0, 0, 0, 0, 0, 0, 0, 0, 0, 0, 0, 0, 0, 0, 0, 0, 0, 0, 0, 0, 0, 0, 0, 0, 0, 0, 0, 0, 0, 0, 0, 0, 0, 0, 0, 0, 0, 0, 0, 0, 0, 0, 0, 0, 0, 0, 0, 0, 0, 0, 0, 0, 0, 0, 0, 0, 0, 0, 0, 0, 0, 0, 0, 0, 0, 0, 0, 0, 0, 0, 0, 0, 0, 0, 0, 0, 0, 0, 0, 0, 0, 0, 0, 0, 0, 0, 0, 0, 0, 0, 0, 0, 0, 0, 0, 0, 0, 0, 0, 0, 0, 0, 0, 0, 0, 0, 0, 0, 0, 0, 0, 0, 0, 0, 0, 0, 0, 0, 0, 0, 0, 0, 0, 0, 0, 0, 0, 0, 0, 0, 0, 0, 0, 0, 0, 0, 0, 0, 0, 0, 0, 0, 0, 0, 0, 0, 0, 0, 0, 0, 0, 0, 0, 0, 0, 0, 0, 0, 0, 0, 0, 0, 0, 0, 0, 0, 0, 0, 0, 0, 0, 0, 0, 0, 0, 0, 0, 0, 0, 0, 0, 0, 0, 0, 0, 0, 0, 0, 0, 0, 0, 0, 0, 0, 0, 0, 0, 0, 0, 0, 0, 0, 0, 0, 0, 0, 0, 0, 0, 0, 0, 0, 0, 0, 0, 0, 0, 0, 0, 0, 0, 0, 0, 0, 0, 0, 0, 0, 0, 0, 0, 0, 0, 0, 0, 0, 0, 0, 0, 0, 0, 0, 0, 0, 0, 0, 0, 0, 0, 0, 0, 0, 0, 0, 0, 0, 0, 0, 0, 0, 0, 0, 0, 0, 0, 0, 0, 0, 0, 0, 0, 0, 0, 0, 0, 0, 0, 0, 0, 0, 0, 0, 0, 0, 0, 0, 0, 0, 0, 0, 0, 0, 0, 0, 0, 0, 0, 0, 0, 0, 0, 0, 0, 0, 0, 0, 0, 0, 0, 0, 0, 0, 0, 0, 0, 0, 0, 0, 0, 0, 0, 0, 0, 0, 0, 0, 0, 0, 0, 0, 0, 0, 0, 0, 0, 0, 0, 0, 0, 0, 0, 0, 0, 0, 0, 0, 0, 0, 0, 0, 0, 0, 0, 0, 0, 0, 0, 0, 0, 0, 0, 0, 0, 0, 0, 0, 0, 0, 0, 0, 0, 0, 0, 0, 0, 0, 0, 0, 0, 0, 0, 0, 0, 0, 0, 0, 0, 0, 0, 0, 0, 0, 0, 0, 0, 0, 0, 0, 0, 0, 0, 0, 0, 0, 0, 0, 0, 0, 0, 0, 0, 0, 0, 0, 0, 0, 0, 0, 0, 0, 0, 0, 0, 0, 0, 0, 0, 0, 0, 0, 0, 0, 0, 0, 0, 0, 0, 0, 0, 0, 0, 0, 0, 0, 0, 0, 0, 0, 0, 0, 0, 0, 0, 0, 0, 0, 0, 0, 0, 0, 0, 0, 0, 0, 0, 0, 0, 0, 0, 0, 0, 0, 0, 0, 0, 0, 0, 0, 0, 0, 0, 0, 0, 0, 0, 0, 0, 0, 0, 0, 0, 0, 0, 0, 0, 0, 0, 0, 0, 0, 0, 0, 0, 0, 0, 0, 0, 0, 0, 0, 0, 0, 0, 0, 0, 0, 0, 0, 0, 0, 0, 0, 0, 0, 0, 0, 0, 0, 0, 0, 0, 0, 0, 0, 0, 0, 0, 0, 0, 0, 0, 0, 0, 0, 0, 0, 0, 0, 0, 0, 0, 0, 0, 0, 0, 0, 0, 0, 0, 0, 0, 0, 0, 0, 0, 0, 0, 0, 0, 0, 0, 0, 0, 0, 0, 0, 0, 0, 0, 0, 0, 0, 0, 0, 0, 0, 0, 0, 0, 0, 0, 0, 0, 0, 0, 0, 0, 0, 0, 0, 0, 0, 0, 0, 0, 0, 0, 0, 0, 0, 0, 0, 0, 0, 0, 0, 0, 0, 0, 0, 0, 0, 0, 0, 0, 0, 0, 0, 0, 0, 0, 0, 0, 0, 0, 0, 0, 0, 0, 0, 0, 0, 0, 0, 0, 0, 0, 0, 0, 0, 0, 0, 0, 0, 0, 0, 0, 0, 0, 0, 0, 0, 0, 0, 0, 0, 0, 0, 0, 0, 0, 0, 0, 0, 0, 0, 0, 0, 0, 0, 0, 0, 0, 0, 0, 0, 0, 0, 0, 0, 0, 0, 0, 0, 0, 0, 0, 0, 0, 0, 0, 0, 0, 0, 0, 0, 0, 0, 0, 0, 0, 0, 0, 0, 0, 0, 0, 0, 0, 0, 0, 0, 0, 0, 0, 0, 0, 0, 0, 0, 0, 0, 0, 0, 0, 0, 0, 0, 0, 0, 0, 0, 0, 0, 0, 0, 0, 0, 0, 0, 0, 0, 0, 0, 0, 0, 0, 0, 0, 0, 0, 0, 0, 0, 0, 0, 0, 0, 0, 0, 0, 0, 0, 0, 0, 0, 0, 0, 0, 0, 0, 0, 0, 0, 0, 0, 0, 0, 0, 0, 0, 0, 0, 0, 0, 0, 0, 0, 0, 0, 0, 0, 0, 0, 0, 0, 0, 0, 0, 0, 0, 0, 0, 0, 0, 0, 0, 0, 0, 0, 0, 0, 0, 0, 0, 0, 0, 0, 0, 0, 0, 0, 0, 0, 0, 0, 0, 0, 0, 0, 0, 0, 0, 0, 0, 0, 0, 0, 0, 0, 0, 0, 0, 0, 0, 0, 0, 0, 0, 0, 0, 0, 0, 0, 0, 0, 0, 0, 0, 0, 0, 0, 0, 0, 0, 0, 0, 0, 0, 0, 0, 0, 0, 0, 0, 0, 0, 0, 0, 0, 0, 0, 0, 0, 0, 0, 0, 0, 0, 0, 0, 0, 0, 0, 0, 0, 0, 0, 0, 0, 0, 0, 0, 0, 0, 0, 0, 0, 0, 0, 0, 0, 0, 0, 0, 0, 0, 0, 0, 0, 0, 0, 0, 0, 0, 0, 0, 0, 0, 0, 0, 0, 0, 0, 0, 0, 0, 0, 0, 0, 0, 0, 0, 0, 0, 0, 0, 0, 0, 0, 0, 0, 0, 0, 0, 0, 0, 0, 0, 0, 0, 0, 0, 0, 0, 0, 0, 0, 0, 0, 0, 0, 0, 0, 0, 0, 0, 0, 0, 0, 0, 0, 0, 0, 0, 0, 0, 0, 0, 0, 0, 0, 0, 0, 0, 0, 0, 0, 0, 0, 0, 0, 0, 0, 0, 0, 0, 0, 0, 0, 0, 0, 0, 0, 0, 0, 0, 0, 0, 0, 0, 0, 0, 0, 0, 0, 0, 0, 0, 0, 0, 0, 0, 0, 0, 0, 0, 0, 0, 0, 0, 0, 0, 0, 0, 0, 0, 0, 0, 0, 0, 0, 0, 0, 0, 0, 0, 0, 0, 0, 0, 0, 0, 0, 0, 0, 0, 0, 0, 0, 0, 0, 0, 0, 0, 0, 0, 0, 0, 0, 0, 0, 0, 0, 0, 0, 0, 0, 0, 0, 0, 0, 0, 0, 0, 0, 0, 0, 0, 0, 0, 0, 0, 0, 0, 0, 0, 0, 0, 0, 0, 0, 0, 0, 0, 0, 0, 0, 0, 0, 0, 0, 0, 0, 0, 0, 0, 0, 0, 0, 0, 0, 0, 0, 0, 0, 0, 0, 0, 0, 0, 0, 0, 0, 0, 0, 0, 0, 0, 0, 0, 0, 0, 0, 0, 0, 0, 0, 0, 0, 0, 0, 0, 0, 0, 0, 0, 0, 0, 0, 0, 0, 0, 0, 0, 0, 0, 0, 0, 0, 0, 0, 0, 0, 0, 0, 0, 0, 0, 0, 0, 0, 0, 0, 0, 0, 0, 0, 0, 0, 0, 0, 0, 0, 0, 0, 0, 0, 0, 0, 0, 0, 0, 0, 0, 0, 0, 0, 0, 0, 0, 0, 0, 0, 0, 0, 0, 0, 0, 0, 0, 0, 0, 0, 0, 0, 0, 0, 0, 0, 0, 0, 0, 0, 0, 0, 0, 0, 0, 0, 0, 0, 0, 0, 0, 0, 0, 0, 0, 0, 0, 0, 0, 0, 0, 0, 0, 0, 0, 0, 0, 0, 0, 0, 0, 0, 0, 0, 0, 0, 0, 0, 0, 0, 0, 0, 0, 0, 0, 0, 0, 0, 0, 0, 0, 0, 0, 0, 0, 0, 0, 0, 0, 0, 0, 0, 0, 0, 0, 0, 0, 0, 0, 0, 0, 0, 0, 0, 0, 0, 0, 0, 0, 0, 0, 0, 0, 0, 0, 0, 0, 0, 0, 0, 0, 0, 0, 0, 0, 0, 0, 0, 0, 0, 0, 0, 0, 0, 0, 0, 0, 0, 0, 0, 0, 0, 0, 0, 0, 0, 0, 0, 0, 0, 0, 0, 0, 0, 0, 0, 0, 0, 0, 0, 0, 0, 0, 0, 0, 0, 0, 0, 0, 0, 0, 0, 0, 0, 0, 0, 0, 0, 0, 0, 0, 0, 0, 0, 0, 0, 0, 0, 0, 0, 0, 0, 0, 0, 0, 0, 0, 0, 0, 0, 0, 0, 0, 0, 0, 0, 0, 0, 0, 0, 0, 0, 0, 0, 0, 0, 0, 0, 0, 0, 0, 0, 0, 0, 0, 0, 0, 0, 0, 0, 0, 0, 0, 0, 0, 0, 0, 0, 0, 0, 0, 0, 0, 0, 0, 0, 0, 0, 0, 0, 0, 0, 0, 0, 0, 0, 0, 0, 0, 0, 0, 0, 0, 0, 0, 0, 0, 0, 0, 0, 0, 0, 0, 0, 0, 0, 0, 0, 0, 0, 0, 0, 0, 0, 0, 0, 0, 0, 0, 0, 0, 0, 0, 0, 0, 0, 0, 0, 0, 0, 0, 0, 0, 0, 0, 0, 0, 0, 0, 0, 0, 0, 0, 0, 0, 0, 0, 0, 0, 0, 0, 0, 0, 0, 0, 0, 0, 0, 0, 0, 0, 0, 0, 0, 0, 0, 0, 0, 0, 0, 0, 0, 0, 0, 0, 0, 0, 0, 0, 0, 0, 0, 0, 0, 0, 0, 0, 0, 0, 0, 0, 0, 0, 0, 0, 0, 0, 0, 0, 0, 0, 0, 0, 0, 0, 0, 0, 0, 0, 0, 0, 0, 0, 0, 0, 0, 0, 0, 0, 0, 0, 0, 0, 0, 0, 0, 0, 0, 0, 0, 0, 0, 0, 0, 0, 0, 0, 0, 0, 0, 0, 0, 0, 0, 0, 0, 0, 0, 0, 0, 0, 0, 0, 0, 0, 0, 0, 0, 0, 0, 0, 0, 0, 0, 0, 0, 0, 0, 0, 0, 0, 0, 0, 0, 0, 0, 0, 0, 0, 0, 0, 0, 0, 0, 0, 0, 0, 0, 0, 0, 0, 0, 0, 0, 0, 0, 0, 0, 0, 0, 0, 0, 0, 0, 0, 0, 0, 0, 0, 0, 0, 0, 0, 0, 0, 0, 0, 0, 0, 0, 0, 0, 0, 0, 0, 0, 0, 0, 0, 0, 0, 0, 0, 0, 0, 0, 0, 0, 0, 0, 0, 0, 0, 0, 0, 0, 0, 0, 0, 0, 0, 0, 0, 0, 0, 0, 0, 0, 0, 0, 0, 0, 0, 0, 0, 0, 0, 0, 0, 0, 0, 0, 0, 0, 0, 0, 0, 0, 0, 0, 0, 0, 0, 0, 0, 0, 0, 0, 0, 0, 0, 0, 0, 0, 0, 0, 0, 0, 0, 0, 0, 0, 0, 0, 0, 0, 0, 0, 0, 0, 0, 0, 0, 0, 0, 0, 0, 0, 0, 0, 0, 0, 0, 0, 0, 0, 0, 0, 0, 0, 0, 0, 0, 0, 0, 0, 0, 0, 0, 0, 0, 0, 0, 0, 0, 0, 0, 0, 0, 0, 0, 0, 0, 0, 0, 0, 0, 0, 0, 0, 0, 0, 0, 0, 0, 0, 0, 0, 0, 0, 0, 0, 0, 0, 0, 0, 0, 0, 0, 0, 0, 0, 0, 0, 0, 0, 0, 0, 0, 0, 0, 0, 0, 0, 0, 0, 0, 0, 0, 0, 0, 0, 0, 0, 0, 0, 0, 0, 0, 0, 0, 0, 0, 0, 0, 0, 0, 0, 0, 0, 0, 0, 0, 0, 0, 0, 0, 0, 0, 0, 0, 0, 0, 0, 0, 0, 0, 0, 0, 0, 0, 0, 0, 0, 0, 0, 0, 0, 0, 0, 0, 0, 0, 0, 0, 0, 0, 0, 0, 0, 0, 0, 0, 0, 0, 0, 0, 0, 0, 0, 0, 0, 0, 0, 0, 0, 0, 0, 0, 0, 0, 0, 0, 0, 0, 0, 0, 0, 0, 0, 0, 0, 0, 0, 0, 0, 0, 0, 0, 0, 0, 0, 0, 0, 0, 0, 0, 0, 0, 0, 0, 0, 0, 0, 0, 0, 0, 0, 0, 0, 0, 0, 0, 0, 0, 0, 0, 0, 0, 0, 0, 0, 0, 0, 0, 0, 0, 0, 0, 0, 0, 0, 0, 0, 0, 0, 0, 0, 0, 0, 0, 0, 0, 0, 0, 0, 0, 0, 0, 0, 0, 0, 0, 0, 0, 0, 0, 0, 0, 0, 0, 0, 0, 0, 0, 0, 0, 0, 0, 0, 0, 0, 0, 0, 0, 0, 0, 0, 0, 0, 0, 0, 0, 0, 0, 0, 0, 0, 0, 0, 0, 0, 0, 0, 0, 0, 0, 0, 0, 0, 0, 0, 0, 0, 0, 0, 0, 0, 0, 0, 0, 0, 0, 0, 0, 0, 0, 0, 0, 0, 0, 0, 0, 0, 0, 0, 0, 0, 0, 0, 0, 0, 0, 0, 0, 0, 0, 0, 0, 0, 0, 0, 0, 0, 0, 0, 0, 0, 0, 0, 0, 0, 0, 0, 0, 0, 0, 0, 0, 0, 0, 0, 0, 0, 0, 0, 0, 0, 0, 0, 0, 0, 0, 0, 0, 0, 0, 0, 0, 0, 0, 0, 0, 0, 0, 0, 0, 0, 0, 0, 0, 0, 0, 0, 0, 0, 0, 0, 0, 0, 0, 0, 0, 0, 0, 0, 0, 0, 0, 0, 0, 0, 0, 0, 0, 0, 0, 0, 0, 0, 0, 0, 0, 0, 0, 0, 0, 0, 0, 0, 0, 0, 0, 0, 0, 0, 0, 0, 0, 0, 0, 0, 0, 0, 0, 0, 0, 0, 0, 0, 0, 0, 0, 0, 0, 0, 0, 0, 0, 0, 0, 0, 0, 0, 0, 0, 0, 0, 0, 0, 0, 0, 0, 0, 0, 0, 0, 0, 0, 0, 0, 0, 0, 0, 0, 0, 0, 0, 0, 0, 0, 0, 0, 0, 0, 0, 0, 0, 0, 0, 0, 0, 0, 0, 0, 0, 0, 0, 0, 0, 0, 0, 0, 0, 0, 0, 0, 0, 0, 0, 0, 0, 0, 0, 0, 0, 0, 0, 0, 0, 0, 0, 0, 0, 0, 0, 0, 0, 0, 0, 0, 0, 0, 0, 0, 0, 0, 0, 0, 0, 0, 0, 0, 0, 0, 0, 0, 0, 0, 0, 0, 0, 0, 0, 0, 0, 0, 0, 0, 0, 0, 0, 0, 0, 0, 0, 0, 0, 0, 0, 0, 0, 0, 0, 0, 0, 0, 0, 0, 0, 0, 0, 0, 0, 0, 0, 0, 0, 0, 0, 0, 0, 0, 0, 0, 0, 0, 0, 0, 0, 0, 0, 0, 0, 0, 0, 0, 0, 0, 0, 0, 0, 0, 0, 0, 0, 0, 0, 0, 0, 0, 0, 0, 0, 0, 0, 0, 0, 0, 0, 0, 0, 0, 0, 0, 0, 0, 0, 0, 0, 0, 0, 0, 0, 0, 0, 0, 0, 0, 0, 0, 0, 0, 0, 0, 0, 0, 0, 0, 0, 0, 0, 0, 0, 0, 0, 0, 0, 0, 0, 0, 0, 0, 0, 0, 0, 0, 0, 0, 0, 0, 0, 0, 0, 0, 0, 0, 0, 0, 0, 0, 0, 0, 0, 0, 0, 0, 0, 0, 0, 0, 0, 0, 0, 0, 0, 0, 0, 0, 0, 0, 0, 0, 0, 0, 0, 0, 0, 0, 0, 0, 0, 0, 0, 0, 0, 0, 0, 0, 0, 0, 0, 0, 0, 0, 0, 0, 0, 0, 0, 0, 0, 0, 0, 0, 0, 0, 0, 0, 0, 0, 0, 0, 0, 0, 0, 0, 0, 0, 0, 0, 0, 0, 0, 0, 0, 0, 0, 0, 0, 0, 0, 0, 0, 0, 0, 0, 0, 0, 0, 0, 0, 0, 0, 0, 0, 0, 0, 0, 0, 0, 0, 0, 0, 0, 0, 0, 0, 0, 0, 0, 0, 0, 0, 0, 0, 0, 0, 0, 0, 0, 0, 0, 0, 0, 0, 0, 0, 0, 0, 0, 0, 0, 0, 0, 0, 0, 0, 0, 0, 0, 0, 0, 0, 0, 0, 0, 0, 0, 0, 0, 0, 0, 0, 0, 0, 0, 0, 0, 0, 0, 0, 0, 0, 0, 0, 0, 0, 0, 0, 0, 0, 0, 0, 0, 0, 0, 0, 0, 0, 0, 0, 0, 0, 0, 0, 0, 0, 0, 0, 0, 0, 0, 0, 0, 0, 0, 0, 0, 0, 0, 0, 0, 0, 0, 0, 0, 0, 0, 0, 0, 0, 0, 0, 0, 0, 0, 0, 0, 0, 0, 0, 0, 0, 0, 0, 0, 0, 0, 0, 0, 0, 0, 0, 0, 0, 0, 0, 0, 0, 0, 0, 0, 0, 0, 0, 0, 0, 0, 0, 0, 0, 0, 0, 0, 0, 0, 0, 0, 0, 0, 0, 0, 0, 0, 0, 0, 0, 0, 0, 0, 0, 0, 0, 0, 0, 0, 0, 0, 0, 0, 0, 0, 0, 0, 0, 0, 0, 0, 0, 0, 0, 0, 0, 0, 0, 0, 0, 0, 0, 0, 0, 0, 0, 0, 0, 0, 0, 0, 0, 0, 0, 0, 0, 0, 0, 0, 0, 0, 0, 0, 0, 0, 0, 0, 0, 0, 0, 0, 0, 0, 0, 0, 0, 0, 0, 0, 0, 0, 0, 0, 0, 0, 0, 0, 0, 0, 0, 0, 0, 0, 0, 0, 0, 0, 0, 0, 0, 0, 0, 0, 0, 0, 0, 0, 0, 0, 0, 0, 0, 0, 0, 0, 0, 0, 0, 0, 0, 0, 0, 0, 0, 0, 0, 0, 0, 0, 0, 0, 0, 0, 0, 0, 0, 0, 0, 0, 0, 0, 0, 0, 0, 0, 0, 0, 0, 0, 0, 0, 0, 0, 0, 0, 0, 0, 0, 0, 0, 0, 0, 0, 0, 0, 0, 0, 0, 0, 0, 0, 0, 0, 0, 0, 0, 0, 0, 0, 0, 0, 0, 0, 0, 0, 0, 0, 0, 0, 0, 0, 0, 0, 0, 0, 0, 0, 0, 0, 0, 0, 0, 0, 0, 0, 0, 0, 0, 0, 0, 0, 0, 0, 0, 0, 0, 0, 0, 0, 0, 0, 0, 0, 0, 0, 0, 0, 0, 0, 0, 0, 0, 0, 0, 0, 0, 0, 0, 0, 0, 0, 0, 0, 0, 0, 0, 0, 0, 0, 0, 0, 0, 0, 0, 0, 0, 0, 0, 0, 0, 0, 0, 0, 0, 0, 0, 0, 0, 0, 0, 0, 0, 0, 0, 0, 0, 0, 0, 0, 0, 0, 0, 0, 0, 0, 0, 0, 0, 0, 0, 0, 0, 0, 0, 0, 0, 0, 0, 0, 0, 0, 0, 0, 0, 0, 0, 0, 0, 0, 0, 0, 0, 0, 0, 0, 0, 0, 0, 0, 0, 0, 0, 0, 0, 0, 0, 0, 0, 0, 0, 0, 0, 0, 0, 0, 0, 0, 0, 0, 0, 0, 0, 0, 0, 0, 0, 0, 0, 0, 0, 0, 0, 0, 0, 0, 0, 0, 0, 0, 0, 0, 0, 0, 0, 0, 0, 0, 0, 0, 0, 0, 0, 0, 0, 0, 0, 0, 0, 0, 0, 0, 0, 0, 0, 0, 0, 0, 0, 0, 0, 0, 0, 0, 0, 0, 0, 0, 0, 0, 0, 0, 0, 0, 0, 0, 0, 0, 0, 0, 0, 0, 0, 0, 0, 0, 0, 0, 0, 0, 0, 0, 0, 0, 0, 0, 0, 0, 0, 0, 0, 0, 0, 0, 0, 0, 0, 0, 0, 0, 0, 0, 0, 0, 0, 0, 0, 0, 0, 0, 0, 0, 0, 0, 0, 0, 0, 0, 0, 0, 0, 0, 0, 0, 0, 0, 0, 0, 0, 0, 0, 0, 0, 0, 0, 0, 0, 0, 0, 0, 0, 0, 0, 0, 0, 0, 0, 0, 0, 0, 0, 0, 0, 0, 0, 0, 0, 0, 0, 0, 0, 0, 0, 0, 0, 0, 0, 0, 0, 0, 0, 0, 0, 0, 0, 0, 0, 0, 0, 0, 0, 0, 0, 0, 0, 0, 0, 0, 0, 0, 0, 0, 0, 0, 0, 0, 0, 0, 0, 0, 0, 0, 0, 0, 0, 0, 0, 0, 0, 0, 0, 0, 0, 0, 0, 0, 0, 0, 0, 0, 0, 0, 0, 0, 0, 0, 0, 0, 0, 0, 0, 0, 0, 0, 0, 0, 0, 0, 0, 0, 0, 0, 0, 0, 0, 0, 0, 0, 0, 0, 0, 0, 0, 0, 0, 0, 0, 0, 0, 0, 0, 0, 0, 0, 0, 0, 0, 0, 0, 0, 0, 0, 0, 0, 0, 0, 0, 0, 0, 0, 0, 0, 0, 0, 0, 0, 0, 0, 0, 0, 0, 0, 0, 0, 0, 0, 0, 0, 0, 0, 0, 0, 0, 0, 0, 0, 0, 0, 0, 0, 0, 0, 0, 0, 0, 0, 0, 0, 0, 0, 0, 0, 0, 0, 0, 0, 0, 0, 0, 0, 0, 0, 0, 0, 0, 0, 0, 0, 0, 0, 0, 0, 0, 0, 0, 0, 0, 0, 0, 0, 0, 0, 0, 0, 0, 0, 0, 0, 0, 0, 0, 0, 0, 0, 0, 0, 0, 0, 0, 0, 0, 0, 0, 0, 0, 0, 0, 0, 0, 0, 0, 0, 0, 0, 0, 0, 0, 0, 0, 0, 0, 0, 0, 0, 0, 0, 0, 0, 0, 0, 0, 0, 0, 0, 0, 0, 0, 0, 0, 0, 0, 0, 0, 0, 0, 0, 0, 0, 0, 0, 0, 0, 0, 0, 0, 0, 0, 0, 0, 0, 0, 0, 0, 0, 0, 0, 0, 0, 0, 0, 0, 0, 0, 0, 0, 0, 0, 0, 0, 0, 0, 0, 0, 0, 0, 0, 0, 0, 0, 0, 0, 0, 0, 0, 0, 0, 0, 0, 0, 0, 0, 0, 0, 0, 0, 0, 0, 0, 0, 0, 0, 0, 0, 0, 0, 0, 0, 0, 0, 0, 0, 0, 0, 0, 0, 0, 0, 0, 0, 0, 0, 0, 0, 0, 0, 0, 0, 0, 0, 0, 0, 0, 0, 0, 0, 0, 0, 0, 0, 0, 0, 0, 0, 0, 0, 0, 0, 0, 0, 0, 0, 0, 0, 0, 0, 0, 0, 0, 0, 0, 0, 0, 0, 0, 0, 0, 0, 0, 0, 0, 0, 0, 0, 0, 0, 0, 0, 0, 0, 0, 0, 0, 0, 0, 0, 0, 0, 0, 0, 0, 0, 0, 0, 0, 0, 0, 0, 0, 0, 0, 0, 0, 0, 0, 0, 0, 0, 0, 0, 0, 0, 0, 0, 0, 0, 0, 0, 0, 0, 0, 0, 0, 0, 0, 0, 0, 0, 0, 0, 0, 0, 0, 0, 0, 0, 0, 0, 0, 0, 0, 0, 0, 0, 0, 0, 0, 0, 0, 0, 0, 0, 0, 0, 0, 0, 0, 0, 0, 0, 0, 0, 0, 0, 0, 0, 0, 0, 0, 0, 0, 0, 0, 0, 0, 0, 0, 0, 0, 0, 0, 0, 0, 0, 0, 0, 0, 0, 0, 0, 0, 0, 0, 0, 0, 0, 0, 0, 0, 0, 0, 0, 0, 0, 0, 0, 0, 0, 0, 0, 0, 0, 0, 0, 0, 0, 0, 0, 0, 0, 0, 0, 0, 0, 0, 0, 0, 0, 0, 0, 0, 0, 0, 0, 0, 0, 0, 0, 0, 0, 0, 0, 0, 0, 0, 0, 0, 0, 0, 0, 0, 0, 0, 0, 0, 0, 0, 0, 0, 0, 0, 0, 0, 0, 0, 0, 0, 0, 0, 0, 0, 0, 0, 0, 0, 0, 0, 0, 0, 0, 0, 0, 0, 0, 0, 0, 0, 0, 0, 0, 0, 0, 0, 0, 0, 0, 0, 0, 0, 0, 0, 0, 0, 0, 0, 0, 0, 0, 0, 0, 0, 0, 0, 0, 0, 0, 0, 0, 0, 0, 0, 0, 0, 0, 0, 0, 0, 0, 0, 0, 0, 0, 0, 0, 0, 0, 0, 0, 0, 0, 0, 0, 0, 0, 0, 0, 0, 0, 0, 0, 0, 0, 0, 0, 0, 0, 0, 0, 0, 0, 0, 0, 0, 0, 0, 0, 0, 0, 0, 0, 0, 0, 0, 0, 0, 0, 0, 0, 0, 0, 0, 0, 0, 0, 0, 0, 0, 0, 0, 0, 0, 0, 0, 0, 0, 0, 0, 0, 0, 0, 0, 0, 0, 0, 0, 0, 0, 0, 0, 0, 0, 0, 0, 0, 0, 0, 0, 0, 0, 0, 0, 0, 0, 0, 0, 0, 0, 0, 0, 0, 0, 0, 0, 0, 0, 0, 0, 0, 0, 0, 0, 0, 0, 0, 0, 0, 0, 0, 0, 0, 0, 0, 0, 0, 0, 0, 0, 0, 0, 0, 0, 0, 0, 0, 0, 0, 0, 0, 0, 0, 0, 0, 0, 0, 0, 0, 0, 0, 0, 0, 0, 0, 0, 0, 0, 0, 0, 0, 0, 0, 0, 0, 0, 0, 0, 0, 0, 0, 0, 0, 0, 0, 0, 0, 0, 0, 0, 0, 0, 0, 0, 0, 0, 0, 0, 0, 0, 0, 0, 0, 0, 0, 0, 0, 0, 0, 0, 0, 0, 0, 0, 0, 0, 0, 0, 0, 0, 0, 0, 0, 0, 0, 0, 0, 0, 0, 0, 0, 0, 0, 0, 0, 0, 0, 0, 0, 0, 0, 0, 0, 0, 0, 0, 0, 0, 0, 0, 0, 0, 0, 0, 0, 0, 0, 0, 0, 0, 0, 0, 0, 0, 0, 0, 0, 0, 0, 0, 0, 0, 0, 0, 0, 0, 0, 0, 0, 0, 0, 0, 0, 0, 0, 0, 0, 0, 0, 0, 0, 0, 0, 0, 0, 0, 0, 0, 0, 0, 0, 0, 0, 0, 0, 0, 0, 0, 0, 0, 0, 0, 0, 0, 0, 0, 0, 0, 0, 0, 0, 0, 0, 0, 0, 0, 0, 0, 0, 0, 0, 0, 0, 0, 0, 0, 0, 0, 0, 0, 0, 0, 0, 0, 0, 0, 0, 0, 0, 0, 0, 0, 0, 0, 0, 0, 0, 0, 0, 0, 0, 0, 0, 0, 0, 0, 0, 0, 0, 0, 0, 0, 0, 0, 0, 0, 0, 0, 0, 0, 0, 0, 0, 0, 0, 0, 0, 0, 0, 0, 0, 0, 0, 0, 0, 0, 0, 0, 0, 0, 0, 0, 0, 0, 0, 0, 0, 0, 0, 0, 0, 0, 0, 0, 0, 0, 0, 0, 0, 0, 0, 0, 0, 0, 0, 0, 0, 0, 0, 0, 0, 0, 0, 0, 0, 0, 0, 0, 0, 0, 0, 0, 0, 0, 0, 0, 0, 0, 0, 0, 0, 0, 0, 0, 0, 0, 0, 0, 0, 0, 0, 0, 0, 0, 0, 0, 0, 0, 0, 0, 0, 0, 0, 0, 0, 0, 0, 0, 0, 0, 0, 0, 0, 0, 0, 0, 0, 0, 0, 0, 0, 0, 0, 0, 0, 0, 0, 0, 0, 0, 0, 0, 0, 0, 0, 0, 0, 0, 0, 0, 0, 0, 0, 0, 0, 0, 0, 0, 0, 0, 0, 0, 0, 0, 0, 0, 0, 0, 0, 0, 0, 0, 0, 0, 0, 0, 0, 0, 0, 0, 0, 0, 0, 0, 0, 0, 0, 0, 0, 0, 0, 0, 0, 0, 0, 0, 0, 0, 0, 0, 0, 0, 0, 0, 0, 0, 0, 0, 0, 0, 0, 0, 0, 0, 0, 0, 0, 0, 0, 0, 0, 0, 0, 0, 0, 0, 0, 0, 0, 0, 0, 0, 0, 0, 0, 0, 0, 0, 0, 0, 0, 0, 0, 0, 0, 0, 0, 0, 0, 0, 0, 0, 0, 0, 0, 0, 0, 0, 0, 0, 0, 0, 0, 0, 0, 0, 0, 0, 0, 0, 0, 0, 0, 0, 0, 0, 0, 0, 0, 0, 0, 0, 0, 0, 0, 0, 0, 0, 0, 0, 0, 0, 0, 0, 0, 0, 0, 0, 0, 0, 0, 0, 0, 0, 0, 0, 0, 0, 0, 0, 0, 0, 0, 0, 0, 0, 0, 0, 0, 0, 0, 0, 0, 0, 0, 0, 0, 0, 0, 0, 0, 0, 0, 0, 0, 0, 0, 0, 0, 0, 0, 0, 0, 0, 0, 0, 0, 0, 0, 0, 0, 0, 0, 0, 0, 0, 0, 0, 0, 0, 0, 0, 0, 0, 0, 0, 0, 0, 0, 0, 0, 0, 0, 0, 0, 0, 0, 0, 0, 0, 0, 0, 0, 0, 0, 0, 0, 0, 0, 0, 0, 0, 0, 0, 0, 0, 0, 0, 0, 0, 0, 0, 0, 0, 0, 0, 0, 0, 0, 0, 0, 0, 0, 0, 0, 0, 0, 0, 0, 0, 0, 0, 0, 0, 0, 0, 0, 0, 0, 0, 0, 0, 0, 0, 0, 0, 0, 0, 0, 0, 0, 0, 0, 0, 0, 0, 0, 0, 0, 0, 0, 0, 0, 0, 0, 0, 0, 0, 0, 0, 0, 0, 0, 0, 0, 0, 0, 0, 0, 0, 0, 0, 0, 0, 0, 0, 0, 0, 0, 0, 0, 0, 0, 0, 0, 0, 0, 0, 0, 0, 0, 0, 0, 0, 0, 0, 0, 0, 0, 0, 0, 0, 0, 0, 0, 0, 0, 0, 0, 0, 0, 0, 0, 0, 0, 0, 0, 0, 0, 0, 0, 0, 0, 0, 0, 0, 0, 0, 0, 0, 0, 0, 0, 0, 0, 0, 0, 0, 0, 0, 0, 0, 0, 0, 0, 0, 0, 0, 0, 0, 0, 0, 0, 0, 0, 0, 0, 0, 0, 0, 0, 0, 0, 0, 0, 0, 0, 0, 0, 0, 0, 0, 0, 0, 0, 0, 0, 0, 0, 0, 0, 0, 0, 0, 0, 0, 0, 0, 0, 0, 0, 0, 0, 0, 0, 0, 0, 0, 0, 0, 0, 0, 0, 0, 0, 0, 0, 0, 0, 0, 0, 0, 0, 0, 0, 0, 0, 0, 0, 0, 0, 0, 0, 0, 0, 0, 0, 0, 0, 0, 0, 0, 0, 0, 0, 0, 0, 0, 0, 0, 0, 0, 0, 0, 0, 0, 0, 0, 0, 0, 0, 0, 0, 0, 0, 0, 0, 0, 0, 0, 0, 0, 0, 0, 0, 0, 0, 0, 0, 0, 0, 0, 0, 0, 0, 0, 0, 0, 0, 0, 0, 0, 0, 0, 0, 0, 0, 0, 0, 0, 0, 0, 0, 0, 0, 0, 0, 0, 0, 0, 0, 0, 0, 0, 0, 0, 0, 0, 0, 0, 0, 0, 0, 0, 0, 0, 0, 0, 0, 0, 0, 0, 0, 0, 0, 0, 0, 0, 0, 0, 0, 0, 0, 0, 0, 0, 0, 0, 0, 0, 0, 0, 0, 0, 0, 0, 0, 0, 0, 0, 0, 0, 0, 0, 0, 0, 0, 0, 0, 0, 0, 0, 0, 0, 0, 0, 0, 0, 0, 0, 0, 0, 0, 0, 0, 0, 0, 0, 0, 0, 0, 0, 0, 0, 0, 0, 0, 0, 0, 0, 0, 0, 0, 0, 0, 0, 0, 0, 0, 0, 0, 0, 0, 0, 0, 0, 0, 0, 0, 0, 0, 0, 0, 0, 0, 0, 0, 0, 0, 0, 0, 0, 0, 0, 0, 0, 0, 0, 0, 0, 0, 0, 0, 0, 0, 0, 0, 0, 0, 0, 0, 0, 0, 0, 0, 0, 0, 0, 0, 0, 0, 0, 0, 0, 0, 0, 0, 0, 0, 0, 0, 0, 0, 0, 0, 0, 0, 0, 0, 0, 0, 0, 0, 0, 0, 0, 0, 0, 0, 0, 0, 0, 0, 0, 0, 0, 0, 0, 0, 0, 0, 0, 0, 0, 0, 0, 0, 0, 0, 0, 0, 0, 0, 0, 0, 0, 0, 0, 0, 0, 0, 0, 0, 0, 0, 0, 0, 0, 0, 0, 0, 0, 0, 0, 0, 0, 0, 0, 0, 0, 0, 0, 0, 0, 0, 0, 0, 0, 0, 0, 0, 0, 0, 0, 0, 0, 0, 0, 0, 0, 0, 0, 0, 0, 0, 0, 0, 0, 0, 0, 0, 0, 0, 0, 0, 0, 0, 0, 0, 0, 0, 0, 0, 0, 0, 0, 0, 0, 0, 0, 0, 0, 0, 0, 0, 0, 0, 0, 0, 0, 0, 0, 0, 0, 0, 0, 0, 0, 0, 0, 0, 0, 0, 0, 0, 0, 0, 0, 0, 0, 0, 0, 0, 0, 0, 0, 0, 0, 0, 0, 0, 0, 0, 0, 0, 0, 0, 0, 0, 0, 0, 0, 0, 0, 0, 0, 0, 0, 0, 0, 0, 0, 0, 0, 0, 0, 0, 0, 0, 0, 0, 0, 0, 0, 0, 0, 0, 0, 0, 0, 0, 0, 0, 0, 0, 0, 0, 0, 0, 0, 0, 0, 0, 0, 0, 0, 0, 0, 0, 0, 0, 0, 0, 0, 0, 0, 0, 0, 0, 0, 0, 0, 0, 0, 0, 0, 0, 0, 0, 0, 0, 0, 0, 0, 0, 0, 0, 0, 0, 0, 0, 0, 0, 0, 0, 0, 0, 0, 0, 0, 0, 0, 0, 0, 0, 0, 0, 0, 0, 0, 0, 0, 0, 0, 0, 0, 0, 0, 0, 0, 0, 0, 0, 0, 0, 0, 0, 0, 0, 0, 0, 0, 0, 0, 0, 0, 0, 0, 0, 0, 0, 0, 0, 0, 0, 0, 0, 0, 0, 0, 0, 0, 0, 0, 0, 0, 0, 0, 0, 0, 0, 0, 0, 0, 0, 0, 0, 0, 0, 0, 0, 0, 0, 0, 0, 0, 0, 0, 0, 0, 0, 0, 0, 0, 0, 0, 0, 0, 0, 0, 0, 0, 0, 0, 0, 0, 0, 0, 0, 0, 0, 0, 0, 0, 0, 0, 0, 0, 0, 0, 0, 0, 0, 0, 0, 0, 0, 0, 0, 0, 0, 0, 0, 0, 0, 0, 0, 0, 0, 0, 0, 0, 0, 0, 0, 0, 0, 0, 0, 0, 0, 0, 0, 0, 0, 0, 0, 0, 0, 0, 0, 0, 0, 0, 0, 0, 0, 0, 0, 0, 0, 0, 0, 0, 0, 0, 0, 0, 0, 0, 0, 0, 0, 0, 0, 0, 0, 0, 0, 0, 0, 0, 0, 0, 0, 0, 0, 0, 0, 0, 0, 0, 0, 0, 0, 0, 0, 0, 0, 0, 0, 0, 0, 0, 0, 0, 0, 0, 0, 0, 0, 0, 0, 0, 0, 0, 0, 0, 0, 0, 0, 0, 0, 0, 0, 0, 0, 0, 0, 0, 0, 0, 0, 0, 0, 0, 0, 0, 0, 0, 0, 0, 0, 0, 0, 0, 0, 0, 0, 0, 0, 0, 0, 0, 0, 0, 0, 0, 0, 0, 0, 0, 0, 0, 0, 0, 0, 0, 0, 0, 0, 0, 0, 0, 0, 0, 0, 0, 0, 0, 0, 0, 0, 0, 0, 0, 0, 0, 0, 0, 0, 0, 0, 0, 0, 0, 0, 0, 0, 0, 0, 0, 0, 0, 0, 0, 0, 0, 0, 0, 0, 0, 0, 0, 0, 0, 0, 0, 0, 0, 0, 0, 0, 0, 0, 0, 0, 0, 0, 0, 0, 0, 0, 0, 0, 0, 0, 0, 0, 0, 0, 0, 0, 0, 0, 0, 0, 0, 0, 0, 0, 0, 0, 0, 0, 0, 0, 0, 0, 0, 0, 0, 0, 0, 0, 0, 0, 0, 0, 0, 0, 0, 0, 0, 0, 0, 0, 0, 0, 0, 0, 0, 0, 0, 0, 0, 0, 0, 0, 0, 0, 0, 0, 0, 0, 0, 0, 0, 0, 0, 0, 0, 0, 0, 0, 0, 0, 0, 0, 0, 0, 0, 0, 0, 0, 0, 0, 0, 0, 0, 0, 0, 0, 0, 0, 0, 0, 0, 0, 0, 0, 0, 0, 0, 0, 0, 0, 0, 0, 0, 0, 0, 0, 0, 0, 0, 0, 0, 0, 0, 0, 0, 0, 0, 0, 0, 0, 0, 0, 0, 0, 0, 0, 0, 0, 0, 0, 0, 0, 0, 0, 0, 0, 0, 0, 0, 0, 0, 0, 0, 0, 0, 0, 0, 0, 0, 0, 0, 0, 0, 0, 0, 0, 0, 0, 0, 0, 0, 0, 0, 0, 0, 0, 0, 0, 0, 0, 0, 0, 0, 0, 0, 0, 0, 0, 0, 0, 0, 0, 0, 0, 0, 0, 0, 0, 0, 0, 0, 0, 0, 0, 0, 0, 0, 0, 0, 0, 0, 0, 0, 0, 0, 0, 0, 0, 0, 0, 0, 0, 0, 0, 0, 0, 0, 0, 0, 0, 0, 0, 0, 0, 0, 0, 0, 0, 0, 0, 0, 0, 0, 0, 0, 0, 0, 0, 0, 0, 0, 0, 0, 0, 0, 0, 0, 0, 0, 0, 0, 0, 0, 0, 0, 0, 0, 0, 0, 0, 0, 0, 0, 0, 0, 0, 0, 0, 0, 0, 0, 0, 0, 0, 0, 0, 0, 0, 0, 0, 0, 0, 0, 0, 0, 0, 0, 0, 0, 0, 0, 0, 0, 0, 0, 0, 0, 0, 0, 0, 0, 0, 0, 0, 0, 0, 0, 0, 0, 0, 0, 0, 0, 0, 0, 0, 0, 0, 0, 0, 0, 0, 0, 0, 0, 0, 0, 0, 0, 0, 0, 0, 0, 0, 0, 0, 0, 0, 0, 0, 0, 0, 0, 0, 0, 0, 0, 0, 0, 0, 0, 0, 0, 0, 0, 0, 0, 0, 0, 0, 0, 0, 0, 0, 0, 0, 0, 0, 0, 0, 0, 0, 0, 0, 0, 0, 0, 0, 0, 0, 0, 0, 0, 0, 0, 0, 0, 0, 0, 0, 0, 0, 0, 0, 0, 0, 0, 0, 0, 0, 0, 0, 0, 0, 0, 0, 0, 0, 0, 0, 0, 0, 0, 0, 0, 0, 0, 0, 0, 0, 0, 0, 0, 0, 0, 0, 0, 0, 0, 0, 0, 0, 0, 0, 0, 0, 0, 0, 0, 0, 0, 0, 0, 0, 0, 0, 0, 0, 0, 0, 0, 0, 0, 0, 0, 0, 0, 0, 0, 0, 0, 0, 0, 0, 0, 0, 0, 0, 0, 0, 0, 0, 0, 0, 0, 0, 0, 0, 0, 0, 0, 0, 0, 0, 0, 0, 0, 0, 0, 0, 0, 0, 0, 0, 0, 0, 0, 0, 0, 0, 0, 0, 0, 0, 0, 0, 0, 0, 0, 0, 0, 0, 0, 0, 0, 0, 0, 0, 0, 0, 0, 0, 0, 0, 0, 0, 0, 0, 0, 0, 0, 0, 0, 0, 0, 0, 0, 0, 0, 0, 0, 0, 0, 0, 0, 0, 0, 0, 0, 0, 0, 0, 0, 0, 0, 0, 0, 0, 0, 0, 0, 0, 0, 0, 0, 0, 0, 0, 0, 0, 0, 0, 0, 0, 0, 0, 0, 0, 0, 0, 0, 0, 0, 0, 0, 0, 0, 0, 0, 0, 0, 0, 0, 0, 0, 0, 0, 0, 0, 0, 0, 0, 0, 0, 0, 0, 0, 0, 0, 0, 0, 0, 0, 0, 0, 0, 0, 0, 0, 0, 0, 0, 0, 0, 0, 0, 0, 0, 0, 0, 0, 0, 0, 0, 0, 0, 0, 0, 0, 0, 0, 0, 0, 0, 0, 0, 0, 0, 0, 0, 0, 0, 0, 0, 0, 0, 0, 0, 0, 0, 0, 0, 0, 0, 0, 0, 0, 0, 0, 0, 0, 0, 0, 0, 0, 0, 0, 0, 0, 0, 0, 0, 0, 0, 0, 0, 0, 0, 0, 0, 0, 0, 0, 0, 0, 0, 0, 0, 0, 0, 0, 0, 0, 0, 0, 0, 0, 0, 0, 0, 0, 0, 0, 0, 0, 0, 0, 0, 0, 0, 0, 0, 0, 0, 0, 0, 0, 0, 0, 0, 0, 0, 0, 0, 0, 0, 0, 0, 0, 0, 0, 0, 0, 0, 0, 0, 0, 0, 0, 0, 0, 0, 0, 0, 0, 0, 0, 0, 0, 0, 0, 0, 0, 0, 0, 0, 0, 0, 0, 0, 0, 0, 0, 0, 0, 0, 0, 0, 0, 0, 0, 0, 0, 0, 0, 0, 0, 0, 0, 0, 0, 0, 0, 0, 0, 0, 0, 0, 0, 0, 0, 0, 0, 0, 0, 0, 0, 0, 0, 0, 0, 0, 0, 0, 0, 0, 0, 0, 0, 0, 0, 0, 0, 0, 0, 0, 0, 0, 0, 0, 0, 0, 0, 0, 0, 0, 0, 0, 0, 0, 0, 0, 0, 0, 0, 0, 0, 0, 0, 0, 0, 0, 0, 0, 0, 0, 0, 0, 0, 0, 0, 0, 0, 0, 0, 0, 0, 0, 0, 0, 0, 0, 0, 0, 0, 0, 0, 0, 0, 0, 0, 0, 0, 0, 0, 0, 0, 0, 0, 0, 0, 0, 0, 0, 0, 0, 0, 0, 0, 0, 0, 0, 0, 0, 0, 0, 0, 0, 0, 0, 0, 0, 0, 0, 0, 0, 0, 0, 0, 0, 0, 0, 0, 0, 0, 0, 0, 0, 0, 0, 0, 0, 0, 0, 0, 0, 0, 0, 0, 0, 0, 0, 0, 0, 0, 0, 0, 0, 0, 0, 0, 0, 0, 0, 0, 0, 0, 0, 0, 0, 0, 0, 0, 0, 0, 0, 0, 0, 0, 0, 0, 0, 0, 0, 0, 0, 0, 0, 0, 0, 0, 0, 0, 0, 0, 0, 0, 0, 0, 0, 0, 0, 0, 0, 0, 0, 0, 0, 0, 0, 0, 0, 0, 0, 0, 0, 0, 0, 0, 0, 0, 0, 0, 0, 0, 0, 0, 0, 0, 0, 0, 0, 0, 0, 0, 0, 0, 0, 0, 0, 0, 0, 0, 0, 0, 0, 0, 0, 0, 0, 0, 0, 0, 0, 0, 0, 0, 0, 0, 0, 0, 0, 0, 0, 0, 0, 0, 0, 0, 0, 0, 0, 0, 0, 0, 0, 0, 0, 0, 0, 0, 0, 0, 0, 0, 0, 0, 0, 0, 0, 0, 0, 0, 0, 0, 0, 0, 0, 0, 0, 0, 0, 0, 0, 0, 0, 0, 0, 0, 0, 0, 0, 0, 0, 0, 0, 0, 0, 0, 0, 0, 0, 0, 0, 0, 0, 0, 0, 0, 0, 0, 0, 0, 0, 0, 0, 0, 0, 0, 0, 0, 0, 0, 0, 0, 0, 0, 0, 0, 0, 0, 0, 0, 0, 0, 0, 0, 0, 0, 0, 0, 0, 0, 0, 0, 0, 0, 0, 0, 0, 0, 0, 0, 0, 0, 0, 0, 0, 0, 0, 0, 0, 0, 0, 0, 0, 0, 0, 0, 0, 0, 0, 0, 0, 0, 0, 0, 0, 0, 0, 0, 0, 0, 0, 0, 0, 0, 0, 0, 0, 0, 0, 0, 0, 0, 0, 0, 0, 0, 0, 0, 0, 0, 0, 0, 0, 0, 0, 0, 0, 0, 0, 0, 0, 0, 0, 0, 0, 0, 0, 0, 0, 0, 0, 0, 0, 0, 0, 0, 0, 0, 0, 0, 0, 0, 0, 0, 0, 0, 0, 0, 0, 0, 0, 0, 0, 0, 0, 0, 0, 0, 0, 0, 0, 0, 0, 0, 0, 0, 0, 0, 0, 0, 0, 0, 0, 0, 0, 0, 0, 0, 0, 0, 0, 0, 0, 0, 0, 0, 0, 0, 0, 0, 0, 0, 0, 0, 0, 0, 0, 0, 0, 0, 0, 0, 0, 0, 0, 0, 0, 0, 0, 0, 0, 0, 0, 0, 0, 0, 0, 0, 0, 0, 0, 0, 0, 0, 0, 0, 0, 0, 0, 0, 0, 0, 0, 0, 0, 0, 0, 0, 0, 0, 0, 0, 0, 0, 0, 0, 0, 0, 0, 0, 0, 0, 0, 0, 0, 0, 0, 0, 0, 0, 0, 0, 0, 0, 0, 0, 0, 0, 0, 0, 0, 0, 0, 0, 0, 0, 0, 0, 0, 0, 0, 0, 0, 0, 0, 0, 0, 0, 0, 0, 0, 0, 0, 0, 0, 0, 0, 0, 0, 0, 0, 0, 0, 0, 0, 0, 0, 0, 0, 0, 0, 0, 0, 0, 0, 0, 0, 0, 0, 0, 0, 0, 0, 0, 0, 0, 0, 0, 0, 0, 0, 0, 0, 0, 0, 0, 0, 0, 0, 0, 0, 0, 0, 0, 0, 0, 0, 0, 0, 0, 0, 0, 0, 0, 0, 0, 0, 0, 0, 0, 0, 0, 0, 0, 0, 0, 0, 0, 0, 0, 0, 0, 0, 0, 0, 0, 0, 0, 0, 0, 0, 0, 0, 0, 0, 0, 0, 0, 0, 0, 0, 0, 0, 0, 0, 0, 0, 0, 0, 0, 0, 0, 0, 0, 0, 0, 0, 0, 0, 0, 0, 0, 0, 0, 0, 0, 0, 0, 0, 0, 0, 0, 0, 0, 0, 0, 0, 0, 0, 0, 0, 0, 0, 0, 0, 0, 0, 0, 0, 0, 0, 0, 0, 0, 0, 0, 0, 0, 0, 0, 0, 0, 0, 0, 0, 0, 0, 0, 0, 0, 0, 0, 0, 0, 0, 0, 0, 0, 0, 0, 0, 0, 0, 0, 0, 0, 0, 0, 0, 0, 0, 0, 0, 0, 0, 0, 0, 0, 0, 0, 0, 0, 0, 0, 0, 0, 0, 0, 0, 0, 0, 0, 0, 0, 0, 0, 0, 0, 0, 0, 0, 0, 0, 0, 0, 0, 0, 0, 0, 0, 0, 0, 0, 0, 0, 0, 0, 0, 0, 0, 0, 0, 0, 0, 0, 0, 0, 0, 0, 0, 0, 0, 0, 0, 0, 0, 0, 0, 0, 0, 0, 0, 0, 0, 0, 0, 0, 0, 0, 0, 0, 0, 0, 0, 0, 0, 0, 0, 0, 0, 0, 0, 0, 0, 0, 0, 0, 0, 0, 0, 0, 0, 0, 0, 0, 0, 0, 0, 0, 0, 0, 0, 0, 0, 0, 0, 0, 0, 0, 0, 0, 0, 0, 0, 0, 0, 0, 0, 0, 0, 0, 0, 0, 0, 0, 0, 0, 0, 0, 0, 0, 0, 0, 0, 0, 0, 0, 0, 0, 0, 0, 0, 0, 0, 0, 0, 0, 0, 0, 0, 0, 0, 0, 0, 0, 0, 0, 0, 0, 0, 0, 0, 0, 0, 0, 0, 0, 0, 0, 0, 0, 0, 0, 0, 0, 0, 0, 0, 0, 0, 0, 0, 0, 0, 0, 0, 0, 0, 0, 0, 0, 0, 0, 0, 0, 0, 0, 0, 0, 0, 0, 0, 0, 0, 0, 0, 0, 0, 0, 0, 0, 0, 0, 0, 0, 0, 0, 0, 0, 0, 0, 0, 0, 0, 0, 0, 0, 0, 0, 0, 0, 0, 0, 0, 0, 0, 0, 0, 0, 0, 0, 0, 0, 0, 0, 0, 0, 0, 0, 0, 0, 0, 0, 0, 0, 0, 0, 0, 0, 0, 0, 0, 0, 0, 0, 0, 0, 0, 0, 0, 0, 0, 0, 0, 0, 0, 0, 0, 0, 0, 0, 0, 0, 0, 0, 0, 0, 0, 0, 0, 0, 0, 0, 0, 0, 0, 0, 0, 0, 0, 0, 0, 0, 0, 0, 0, 0, 0, 0, 0, 0, 0, 0, 0, 0, 0, 0, 0, 0, 0, 0, 0, 0, 0, 0, 0, 0, 0, 0, 0, 0, 0, 0, 0, 0, 0, 0, 0, 0, 0, 0, 0, 0, 0, 0, 0, 0, 0, 0, 0, 0, 0, 0, 0, 0, 0, 0, 0, 0, 0, 0, 0, 0, 0, 0, 0, 0, 0, 0, 0, 0, 0, 0, 0, 0, 0, 0, 0, 0, 0, 0, 0, 0, 0, 0, 0, 0, 0, 0, 0, 0, 0, 0, 0, 0, 0, 0, 0, 0, 0, 0, 0, 0, 0, 0, 0, 0, 0, 0, 0, 0, 0, 0, 0, 0, 0, 0, 0, 0, 0, 0, 0, 0, 0, 0, 0, 0, 0, 0, 0, 0, 0, 0, 0, 0, 0, 0, 0, 0, 0, 0, 0, 0, 0, 0, 0, 0, 0, 0, 0, 0, 0, 0, 0, 0, 0, 0, 0, 0, 0, 0, 0, 0, 0, 0, 0, 0, 0, 0, 0, 0, 0, 0, 0, 0, 0, 0, 0, 0, 0, 0, 0, 0, 0, 0, 0, 0, 0, 0, 0, 0, 0, 0, 0, 0, 0, 0, 0, 0, 0, 0, 0, 0, 0, 0, 0, 0, 0, 0, 0, 0, 0, 0, 0, 0, 0, 0, 0, 0, 0, 0, 0, 0, 0, 0, 0, 0, 0, 0, 0, 0, 0, 0, 0, 0, 0, 0, 0, 0, 0, 0, 0, 0, 0, 0, 0, 0, 0, 0, 0, 0, 0, 0, 0, 0, 0, 0, 0, 0, 0, 0, 0, 0, 0, 0, 0, 0, 0, 0, 0, 0, 0, 0, 0, 0, 0, 0, 0, 0, 0, 0, 0, 0, 0, 0, 0, 0, 0, 0, 0, 0, 0, 0, 0, 0, 0, 0, 0, 0, 0, 0, 0, 0, 0, 0, 0, 0, 0, 0, 0, 0, 0, 0, 0, 0, 0, 0, 0, 0, 0, 0, 0, 0, 0, 0, 0, 0, 0, 0, 0, 0, 0, 0, 0, 0, 0, 0, 0, 0, 0, 0, 0, 0, 0, 0, 0, 0, 0, 0, 0, 0, 0, 0, 0, 0, 0, 0, 0, 0, 0, 0, 0, 0, 0, 0, 0, 0, 0, 0, 0, 0, 0, 0, 0, 0, 0, 0, 0, 0, 0, 0, 0, 0, 0, 0, 0, 0, 0, 0, 0, 0, 0, 0, 0, 0, 0, 0, 0, 0, 0, 0, 0, 0, 0, 0, 0, 0, 0, 0, 0, 0, 0, 0, 0, 0, 0, 0, 0, 0, 0, 0, 0, 0, 0, 0, 0, 0, 0, 0, 0, 0, 0, 0, 0, 0, 0, 0, 0, 0, 0, 0, 0, 0, 0, 0, 0, 0, 0, 0, 0, 0, 0, 0, 0, 0, 0, 0, 0, 0, 0, 0, 0, 0, 0, 0, 0, 0, 0, 0, 0, 0, 0, 0, 0, 0, 0, 0, 0, 0, 0, 0, 0, 0, 0, 0, 0, 0, 0, 0, 0, 0, 0, 0, 0, 0, 0, 0, 0, 0, 0, 0, 0, 0, 0, 0, 0, 0, 0, 0, 0, 0, 0, 0, 0, 0, 0, 0, 0, 0, 0, 0, 0, 0, 0, 0, 0, 0, 0, 0, 0, 0, 0, 0, 0, 0, 0, 0, 0, 0, 0, 0, 0, 0, 0, 0, 0, 0, 0, 0, 0, 0, 0, 0, 0, 0, 0, 0, 0, 0, 0, 0, 0, 0, 0, 0, 0, 0, 0, 0, 0, 0, 0, 0, 0, 0, 0, 0, 0, 0, 0, 0, 0, 0, 0, 0, 0, 0, 0, 0, 0, 0, 0, 0, 0, 0, 0, 0, 0, 0, 0, 0, 0, 0, 0, 0, 0, 0, 0, 0, 0, 0, 0, 0, 0, 0, 0, 0, 0, 0, 0, 0, 0, 0, 0, 0, 0, 0, 0, 0, 0, 0, 0, 0, 0, 0, 0, 0, 0, 0, 0, 0, 0, 0, 0, 0, 0, 0, 0, 0, 0, 0, 0, 0, 0, 0, 0, 0, 0, 0, 0, 0, 0, 0, 0, 0, 0, 0, 0, 0, 0, 0, 0, 0, 0, 0, 0, 0, 0, 0, 0, 0, 0, 0, 0, 0, 0, 0, 0, 0, 0, 0, 0, 0, 0, 0, 0, 0, 0, 0, 0, 0, 0, 0, 0, 0, 0, 0, 0, 0, 0, 0, 0, 0, 0, 0, 0, 0, 0, 0, 0, 0, 0, 0, 0, 0, 0, 0, 0, 0, 0, 0, 0, 0, 0, 0, 0, 0, 0, 0, 0, 0, 0, 0, 0, 0, 0, 0, 0, 0, 0, 0, 0, 0, 0, 0, 0, 0, 0, 0, 0, 0, 0, 0, 0, 0, 0, 0, 0, 0, 0, 0, 0, 0, 0, 0, 0, 0, 0, 0, 0, 0, 0, 0, 0, 0, 0, 0, 0, 0, 0, 0, 0, 0, 0, 0, 0, 0, 0, 0, 0, 0, 0, 0, 0, 0, 0, 0, 0, 0, 0, 0, 0, 0, 0, 0, 0, 0, 0, 0, 0, 0, 0, 0, 0, 0, 0, 0, 0, 0, 0, 0, 0, 0, 0, 0, 0, 0, 0, 0, 0, 0, 0, 0, 0, 0, 0, 0, 0, 0, 0, 0, 0, 0, 0, 0, 0, 0, 0, 0, 0, 0, 0, 0, 0, 0, 0, 0, 0, 0, 0, 0, 0, 0, 0, 0, 0, 0, 0, 0, 0, 0, 0, 0, 0, 0, 0, 0, 0, 0, 0, 0, 0, 0, 0, 0, 0, 0, 0, 0, 0, 0, 0, 0, 0, 0, 0, 0, 0, 0, 0, 0, 0, 0, 0, 0, 0, 0, 0, 0, 0, 0, 0, 0, 0, 0, 0, 0, 0, 0, 0, 0, 0, 0, 0, 0, 0, 0, 0, 0, 0, 0, 0, 0, 0, 0, 0, 0, 0, 0, 0, 0, 0, 0, 0, 0, 0, 0, 0, 0, 0, 0, 0, 0, 0, 0, 0, 0, 0, 0, 0, 0, 0, 0, 0, 0, 0, 0, 0, 0, 0, 0, 0, 0, 0, 0, 0, 0, 0, 0, 0, 0, 0, 0, 0, 0, 0, 0, 0, 0, 0, 0, 0, 0, 0, 0, 0, 0, 0, 0, 0, 0, 0, 0, 0, 0, 0, 0, 0, 0, 0, 0, 0, 0, 0, 0, 0, 0, 0, 0, 0, 0, 0, 0, 0, 0, 0, 0, 0, 0, 0, 0, 0, 0, 0, 0, 0, 0, 0, 0, 0, 0, 0, 0, 0, 0, 0, 0, 0, 0, 0, 0, 0, 0, 0, 0, 0, 0, 0, 0, 0, 0, 0, 0, 0, 0, 0, 0, 0, 0, 0, 0, 0, 0, 0, 0, 0, 0, 0, 0, 0, 0, 0, 0, 0, 0, 0, 0, 0, 0, 0, 0, 0, 0, 0, 0, 0, 0, 0, 0, 0, 0, 0, 0, 0, 0, 0, 0, 0, 0, 0, 0, 0, 0, 0, 0, 0, 0, 0, 0, 0, 0, 0, 0, 0, 0, 0, 0, 0, 0, 0, 0, 0, 0, 0, 0, 0, 0, 0, 0, 0, 0, 0, 0, 0, 0, 0, 0, 0, 0, 0, 0, 0, 0, 0, 0, 0, 0, 0, 0, 0, 0, 0, 0, 0, 0, 0, 0, 0, 0, 0, 0, 0, 0, 0, 0, 0, 0, 0, 0, 0, 0, 0, 0, 0, 0, 0, 0, 0, 0, 0, 0, 0, 0, 0, 0, 0, 0, 0, 0, 0, 0, 0, 0, 0, 0, 0, 0, 0, 0, 0, 0, 0, 0, 0, 0, 0, 0, 0, 0, 0, 0, 0, 0, 0, 0, 0, 0, 0, 0, 0, 0, 0, 0, 0, 0, 0, 0, 0, 0, 0, 0, 0, 0, 0, 0, 0, 0, 0, 0, 0, 0, 0, 0, 0, 0, 0, 0, 0, 0, 0, 0, 0, 0, 0, 0, 0, 0, 0, 0, 0, 0, 0, 0, 0, 0, 0, 0, 0, 0, 0, 0, 0, 0, 0, 0, 0, 0, 0, 0, 0, 0, 0, 0, 0, 0, 0, 0, 0, 0, 0, 0, 0, 0, 0, 0, 0, 0, 0, 0, 0, 0, 0, 0, 0, 0, 0, 0, 0, 0, 0, 0, 0, 0, 0, 0, 0, 0, 0, 0, 0, 0, 0, 0, 0, 0, 0, 0, 0, 0, 0, 0, 0, 0, 0, 0, 0, 0, 0, 0, 0, 0, 0, 0, 0, 0, 0, 0, 0, 0, 0, 0, 0, 0, 0, 0, 0, 0, 0, 0, 0, 0, 0, 0, 0, 0, 0, 0, 0, 0, 0, 0, 0, 0, 0, 0, 0, 0, 0, 0, 0, 0, 0, 0, 0, 0, 0, 0, 0, 0, 0, 0, 0, 0, 0, 0, 0, 0, 0, 0, 0, 0, 0, 0, 0, 0, 0, 0, 0, 0, 0, 0, 0, 0, 0, 0, 0, 0, 0, 0, 0, 0, 0, 0, 0, 0, 0, 0, 0, 0, 0, 0, 0, 0, 0, 0, 0, 0, 0, 0, 0, 0, 0, 0, 0, 0, 0, 0, 0, 0, 0, 0, 0, 0, 0, 0, 0, 0, 0, 0, 0, 0, 0, 0, 0, 0, 0, 0, 0, 0, 0, 0, 0, 0, 0, 0, 0, 0, 0, 0, 0, 0, 0, 0, 0, 0, 0, 0, 0, 0, 0, 0, 0, 0, 0, 0, 0, 0, 0, 0, 0, 0, 0, 0, 0, 0, 0, 0, 0, 0, 0, 0, 0, 0, 0, 0, 0, 0, 0, 0, 0, 0, 0, 0, 0, 0, 0, 0, 0, 0, 0, 0, 0, 0, 0, 0, 0, 0, 0, 0, 0, 0, 0, 0, 0, 0, 0, 0, 0, 0, 0, 0, 0, 0, 0, 0, 0, 0, 0, 0, 0, 0, 0, 0, 0, 0, 0, 0, 0, 0, 0, 0, 0, 0, 0, 0, 0, 0, 0, 0, 0, 0, 0, 0, 0, 0, 0, 0, 0, 0, 0, 0, 0, 0, 0, 0, 0, 0, 0, 0, 0, 0, 0, 0, 0, 0, 0, 0, 0, 0, 0, 0, 0, 0, 0, 0, 0, 0, 0, 0, 0, 0, 0, 0, 0, 0, 0, 0, 0, 0, 0, 0, 0, 0, 0, 0, 0, 0, 0, 0, 0, 0, 0, 0, 0, 0, 0, 0, 0, 0, 0, 0, 0, 0, 0, 0, 0, 0, 0, 0, 0, 0, 0, 0, 0, 0, 0, 0, 0, 0, 0, 0, 0, 0, 0, 0, 0, 0, 0, 0, 0, 0, 0, 0, 0, 0, 0, 0, 0, 0, 0, 0, 0, 0, 0, 0, 0, 0, 0, 0, 0, 0, 0, 0, 0, 0, 0, 0, 0, 0, 0, 0, 0, 0, 0, 0, 0, 0, 0, 0, 0, 0, 0, 0, 0, 0, 0, 0, 0, 0, 0, 0, 0, 0, 0, 0, 0, 0, 0, 0, 0, 0, 0, 0, 0, 0, 0, 0, 0, 0, 0, 0, 0, 0, 0, 0, 0, 0, 0, 0, 0, 0, 0, 0, 0, 0, 0, 0, 0, 0, 0, 0, 0, 0, 0, 0, 0, 0, 0, 0, 0, 0, 0, 0, 0, 0, 0, 0, 0, 0, 0, 0, 0, 0, 0, 0, 0, 0, 0, 0, 0, 0, 0, 0, 0, 0, 0, 0, 0, 0, 0, 0, 0, 0, 0, 0, 0, 0, 0, 0, 0, 0, 0, 0, 0, 0, 0, 0, 0, 0, 0, 0, 0, 0, 0, 0, 0, 0, 0, 0, 0, 0, 0, 0, 0, 0, 0, 0, 0, 0, 0, 0, 0, 0, 0, 0, 0, 0, 0, 0, 0, 0, 0, 0, 0, 0, 0, 0, 0, 0, 0, 0, 0, 0, 0, 0, 0, 0, 0, 0, 0, 0, 0, 0, 0, 0, 0, 0, 0, 0, 0, 0, 0, 0, 0, 0, 0, 0, 0, 0, 0, 0, 0, 0, 0, 0, 0, 0, 0, 0, 0, 0, 0, 0, 0, 0, 0, 0, 0, 0, 0, 0, 0, 0, 0, 0, 0, 0, 0, 0, 0, 0, 0, 0, 0, 0, 0, 0, 0, 0, 0, 0, 0, 0, 0, 0, 0, 0, 0, 0, 0, 0, 0, 0, 0, 0, 0, 0, 0, 0, 0, 0, 0, 0, 0, 0, 0, 0, 0, 0, 0, 0, 0, 0, 0, 0, 0, 0, 0, 0, 0, 0, 0, 0, 0, 0, 0, 0, 0, 0, 0, 0, 0, 0, 0, 0, 0, 0, 0, 0, 0, 0, 0, 0, 0, 0, 0, 0, 0, 0, 0, 0, 0, 0, 0, 0, 0, 0, 0, 0, 0, 0, 0, 0, 0, 0, 0, 0, 0, 0, 0, 0, 0, 0, 0, 0, 0, 0, 0, 0, 0, 0, 0, 0, 0, 0, 0, 0, 0, 0, 0, 0, 0, 0, 0, 0, 0, 0, 0, 0, 0, 0, 0, 0, 0, 0, 0, 0, 0, 0, 0, 0, 0, 0, 0, 0, 0, 0, 0, 0, 0, 0, 0, 0, 0, 0, 0, 0, 0, 0, 0, 0, 0, 0, 0, 0, 0, 0, 0, 0, 0, 0, 0, 0, 0, 0, 0, 0, 0, 0, 0, 0, 0, 0, 0, 0, 0, 0, 0, 0, 0, 0, 0, 0, 0, 0, 0, 0, 0, 0, 0, 0, 0, 0, 0, 0, 0, 0, 0, 0, 0, 0, 0, 0, 0, 0, 0, 0, 0, 0, 0, 0, 0, 0, 0, 0, 0, 0, 0, 0, 0, 0, 0, 0, 0, 0, 0, 0, 0, 0, 0, 0, 0, 0, 0, 0, 0, 0, 0, 0, 0, 0, 0, 0, 0, 0, 0, 0, 0, 0, 0, 0, 0, 0, 0, 0, 0, 0, 0, 0, 0, 0, 0, 0, 0, 0, 0, 0, 0, 0, 0, 0, 0, 0, 0, 0, 0, 0, 0, 0, 0, 0, 0, 0, 0, 0, 0, 0, 0, 0, 0, 0, 0, 0, 0, 0, 0, 0, 0, 0, 0, 0, 0, 0, 0, 0, 0, 0, 0, 0, 0, 0, 0, 0, 0, 0, 0, 0, 0, 0, 0, 0, 0, 0, 0, 0, 0, 0, 0, 0, 0, 0, 0, 0, 0, 0, 0, 0, 0, 0, 0, 0, 0, 0, 0, 0, 0, 0, 0, 0, 0, 0, 0, 0, 0, 0, 0, 0, 0, 0, 0, 0, 0, 0, 0, 0, 0, 0, 0, 0, 0, 0, 0, 0, 0, 0, 0, 0, 0, 0, 0, 0, 0, 0, 0, 0, 0, 0, 0, 0, 0, 0, 0, 0, 0, 0, 0, 0, 0, 0, 0, 0, 0, 0, 0, 0, 0, 0, 0, 0, 0, 0, 0, 0, 0, 0, 0, 0, 0, 0, 0, 0, 0, 0, 0, 0, 0, 0, 0, 0, 0, 0, 0, 0, 0, 0, 0, 0, 0, 0, 0, 0, 0, 0, 0, 0, 0, 0, 0, 0, 0, 0, 0, 0, 0, 0, 0, 0, 0, 0, 0, 0, 0, 0, 0, 0, 0, 0, 0, 0, 0, 0, 0, 0, 0, 0, 0, 0, 0, 0, 0, 0, 0, 0, 0, 0, 0, 0, 0, 0, 0, 0, 0, 0, 0, 0, 0, 0, 0, 0, 0, 0, 0, 0, 0, 0, 0, 0, 0, 0, 0, 0, 0, 0, 0, 0, 0, 0, 0, 0, 0, 0, 0, 0, 0, 0, 0, 0, 0, 0, 0, 0, 0, 0, 0, 0, 0, 0, 0, 0, 0, 0, 0, 0, 0, 0, 0, 0, 0, 0, 0, 0, 0, 0, 0, 0, 0, 0, 0, 0, 0, 0, 0, 0, 0, 0, 0, 0, 0, 0, 0, 0, 0, 0, 0, 0, 0, 0, 0, 0, 0, 0, 0, 0, 0, 0, 0, 0, 0, 0, 0, 0, 0, 0, 0, 0, 0, 0, 0, 0, 0, 0, 0, 0, 0, 0, 0, 0, 0, 0, 0, 0, 0, 0, 0, 0, 0, 0, 0, 0, 0, 0, 0, 0, 0, 0, 0, 0, 0, 0, 0, 0, 0, 0, 0, 0, 0, 0, 0, 0, 0, 0, 0, 0, 0, 0, 0, 0, 0, 0, 0, 0, 0, 0, 0, 0, 0, 0, 0, 0, 0, 0, 0, 0, 0, 0, 0, 0, 0, 0, 0, 0, 0, 0, 0, 0, 0, 0, 0, 0, 0, 0, 0, 0, 0, 0, 0, 0, 0, 0, 0, 0, 0, 0, 0, 0, 0, 0, 0, 0, 0, 0, 0, 0, 0, 0, 0, 0, 0, 0, 0, 0, 0, 0, 0, 0, 0, 0, 0, 0, 0, 0, 0, 0, 0, 0, 0, 0, 0, 0, 0, 0, 0, 0, 0, 0, 0, 0, 0, 0, 0, 0, 0, 0, 0, 0, 0, 0, 0, 0, 0, 0, 0, 0, 0, 0, 0, 0, 0, 0, 0, 0, 0, 0, 0, 0, 0, 0, 0, 0, 0, 0, 0, 0, 0, 0, 0, 0, 0, 0, 0, 0, 0, 0, 0, 0, 0, 0, 0, 0, 0, 0, 0, 0, 0, 0, 0, 0, 0, 0, 0, 0, 0, 0, 0, 0, 0, 0, 0, 0, 0, 0, 0, 0, 0, 0, 0, 0, 0, 0, 0, 0, 0, 0, 0, 0, 0, 0, 0, 0, 0, 0, 0, 0, 0, 0, 0, 0, 0, 0, 0, 0, 0, 0, 0, 0, 0, 0, 0, 0, 0, 0, 0, 0, 0, 0, 0, 0, 0, 0, 0, 0, 0, 0, 0, 0, 0, 0, 0, 0, 0, 0, 0, 0, 0, 0, 0, 0, 0, 0, 0, 0, 0, 0, 0, 0, 0, 0, 0, 0, 0, 0, 0, 0, 0, 0, 0, 0, 0, 0, 0, 0, 0, 0, 0, 0, 0, 0, 0, 0, 0, 0, 0, 0, 0, 0, 0, 0, 0, 0, 0, 0, 0, 0, 0, 0, 0, 0, 0, 0, 0, 0, 0, 0, 0, 0, 0, 0, 0, 0, 0, 0, 0, 0, 0, 0, 0, 0, 0, 0, 0, 0, 0, 0, 0, 0, 0, 0, 0, 0, 0, 0, 0, 0, 0, 0, 0, 0, 0, 0, 0, 0, 0, 0, 0, 0, 0, 0, 0, 0, 0, 0, 0, 0, 0, 0, 0, 0, 0, 0, 0, 0, 0, 0, 0, 0, 0, 0, 0, 0, 0, 0, 0, 0, 0, 0, 0, 0, 0, 0, 0, 0, 0, 0, 0, 0, 0, 0, 0, 0, 0, 0, 0, 0, 0, 0, 0, 0, 0, 0, 0, 0, 0, 0, 0, 0, 0, 0, 0, 0, 0, 0, 0, 0, 0, 0, 0, 0, 0, 0, 0, 0, 0, 0, 0, 0, 0, 0, 0, 0, 0, 0, 0, 0, 0, 0, 0, 0, 0, 0, 0, 0, 0, 0, 0, 0, 0, 0, 0, 0, 0, 0, 0, 0, 0, 0, 0, 0, 0, 0, 0, 0, 0, 0, 0, 0, 0, 0, 0, 0, 0, 0, 0, 0, 0, 0, 0, 0, 0, 0, 0, 0, 0, 0, 0, 0, 0, 0, 0, 0, 0, 0, 0, 0, 0, 0, 0, 0, 0, 0, 0, 0, 0, 0, 0, 0, 0, 0, 0, 0, 0, 0, 0, 0, 0, 0, 0, 0, 0, 0, 0, 0, 0, 0, 0, 0, 0, 0, 0, 0, 0, 0, 0, 0, 0, 0, 0, 0, 0, 0, 0, 0, 0, 0, 0, 0, 0, 0, 0, 0, 0, 0, 0, 0, 0, 0, 0, 0, 0, 0, 0, 0, 0, 0, 0, 0, 0, 0, 0, 0, 0, 0, 0, 0, 0, 0, 0, 0, 0, 0, 0, 0, 0, 0, 0, 0, 0, 0, 0, 0, 0, 0, 0, 0, 0, 0, 0, 0, 0, 0, 0, 0, 0, 0, 0, 0, 0, 0, 0, 0, 0, 0, 0, 0, 0, 0, 0, 0, 0, 0, 0, 0, 0, 0, 0, 0, 0, 0, 0, 0, 0, 0, 0, 0, 0, 0, 0, 0, 0, 0, 0, 0, 0, 0, 0, 0, 0, 0, 0, 0, 0, 0, 0, 0, 0, 0, 0, 0, 0, 0, 0, 0, 0, 0, 0, 0, 0, 0, 0, 0, 0, 0, 0, 0, 0, 0, 0, 0, 0, 0, 0, 0, 0, 0, 0, 0, 0, 0, 0, 0, 0, 0, 0, 0, 0, 0, 0, 0, 0, 0, 0, 0, 0, 0, 0, 0, 0, 0, 0, 0, 0, 0, 0, 0, 0, 0, 0, 0, 0, 0, 0, 0, 0, 0, 0, 0, 0, 0, 0, 0, 0, 0, 0, 0, 0, 0, 0, 0, 0, 0, 0, 0, 0, 0, 0, 0, 0, 0, 0, 0, 0, 0, 0, 0, 0, 0, 0, 0, 0, 0, 0, 0, 0, 0, 0, 0, 0, 0, 0, 0, 0, 0, 0, 0, 0, 0, 0, 0, 0, 0, 0, 0, 0, 0, 0, 0, 0, 0, 0, 0, 0, 0, 0, 0, 0, 0, 0, 0, 0, 0, 0, 0, 0, 0, 0, 0, 0, 0, 0, 0, 0, 0, 0, 0, 0, 0, 0, 0, 0, 0, 0, 0, 0, 0, 0, 0, 0, 0, 0, 0, 0, 0, 0, 0, 0, 0, 0, 0, 0, 0, 0, 0, 0, 0, 0, 0, 0, 0, 0, 0, 0, 0, 0, 0, 0, 0, 0, 0, 0, 0, 0, 0, 0, 0, 0, 0, 0, 0, 0, 0, 0, 0, 0, 0, 0, 0, 0, 0, 0, 0, 0, 0, 0, 0, 0, 0, 0, 0, 0, 0, 0, 0, 0, 0, 0, 0, 0, 0, 0, 0, 0, 0, 0, 0, 0, 0, 0, 0, 0, 0, 0, 0, 0, 0, 0, 0, 0, 0, 0, 0, 0, 0, 0, 0, 0, 0, 0, 0, 0, 0, 0, 0, 0, 0, 0, 0, 0, 0, 0, 0, 0, 0, 0, 0, 0, 0, 0, 0, 0, 0, 0, 0, 0, 0, 0, 0, 0, 0, 0, 0, 0, 0, 0, 0, 0, 0, 0, 0, 0, 0, 0, 0, 0, 0, 0, 0, 0, 0, 0, 0, 0, 0, 0, 0, 0, 0, 0, 0, 0, 0, 0, 0, 0, 0, 0, 0, 0, 0, 0, 0, 0, 0, 0, 0, 0, 0, 0, 0, 0, 0, 0, 0, 0, 0, 0, 0, 0, 0, 0, 0, 0, 0, 0, 0, 0, 0, 0, 0, 0, 0, 0, 0, 0, 0, 0, 0, 0, 0, 0, 0, 0, 0, 0, 0, 0, 0, 0, 0, 0, 0, 0, 0, 0, 0, 0, 0, 0, 0, 0, 0, 0, 0, 0, 0, 0, 0, 0, 0, 0, 0, 0, 0, 0, 0, 0, 0, 0, 0, 0, 0, 0, 0, 0, 0, 0, 0, 0, 0, 0, 0, 0, 0, 0, 0, 0, 0, 0, 0, 0, 0, 0, 0, 0, 0, 0, 0, 0, 0, 0, 0, 0, 0, 0, 0, 0, 0, 0, 0, 0, 0, 0, 0, 0, 0, 0, 0, 0, 0, 0, 0, 0, 0, 0, 0, 0, 0, 0, 0, 0, 0, 0, 0, 0, 0, 0, 0, 0, 0, 0, 0, 0, 0, 0, 0, 0, 0, 0, 0, 0, 0, 0, 0, 0, 0, 0, 0, 0, 0, 0, 0, 0, 0, 0, 0, 0, 0, 0, 0, 0, 0, 0, 0, 0, 0, 0, 0, 0, 0, 0, 0, 0, 0, 0, 0, 0, 0, 0, 0, 0, 0, 0, 0, 0, 0, 0, 0, 0, 0, 0, 0, 0, 0, 0, 0, 0, 0, 0, 0, 0, 0, 0, 0, 0, 0, 0, 0, 0, 0, 0, 0, 0, 0, 0, 0, 0, 0, 0, 0, 0, 0, 0, 0, 0, 0, 0, 0, 0, 0, 0, 0, 0, 0, 0, 0, 0, 0, 0, 0, 0, 0, 0, 0, 0, 0, 0, 0, 0, 0, 0, 0, 0, 0, 0, 0, 0, 0, 0, 0, 0, 0, 0, 0, 0, 0, 0, 0, 0, 0, 0, 0, 0, 0, 0, 0, 0, 0, 0, 0, 0, 0, 0, 0, 0, 0, 0, 0, 0, 0, 0, 0, 0, 0, 0, 0, 0, 0, 0, 0, 0, 0, 0, 0, 0, 0, 0, 0, 0, 0, 0, 0, 0, 0, 0, 0, 0, 0, 0, 0, 0, 0, 0, 0, 0, 0, 0, 0, 0, 0, 0, 0, 0, 0, 0, 0, 0, 0, 0, 0, 0, 0, 0, 0, 0, 0, 0, 0, 0, 0, 0, 0, 0, 0, 0, 0, 0, 0, 0, 0, 0, 0, 0, 0, 0, 0, 0, 0, 0, 0, 0, 0, 0, 0, 0, 0, 0, 0, 0, 0, 0, 0, 0, 0, 0, 0, 0, 0, 0, 0, 0, 0, 0, 0, 0, 0, 0, 0, 0, 0, 0, 0, 0, 0, 0, 0, 0, 0, 0, 0, 0, 0, 0, 0, 0, 0, 0, 0, 0, 0, 0, 0, 0, 0, 0, 0, 0, 0, 0, 0, 0, 0, 0, 0, 0, 0, 0, 0, 0, 0, 0, 0, 0, 0, 0, 0, 0, 0, 0, 0, 0, 0, 0, 0, 0, 0, 0, 0, 0, 0, 0, 0, 0, 0, 0, 0, 0, 0, 0, 0, 0, 0, 0, 0, 0, 0, 0, 0, 0, 0, 0, 0, 0, 0, 0, 0, 0, 0, 0, 0, 0, 0, 0, 0, 0, 0, 0, 0, 0, 0, 0, 0, 0, 0, 0, 0, 0, 0, 0, 0, 0, 0, 0, 0, 0, 0, 0, 0, 0, 0, 0, 0, 0, 0, 0, 0, 0, 0, 0, 0, 0, 0, 0, 0, 0, 0, 0, 0, 0, 0, 0, 0, 0, 0, 0, 0, 0, 0, 0, 0, 0, 0, 0, 0, 0, 0, 0, 0, 0, 0, 0, 0, 0, 0, 0, 0, 0, 0, 0, 0, 0, 0, 0, 0, 0, 0, 0, 0, 0, 0, 0, 0, 0, 0, 0, 0, 0, 0, 0, 0, 0, 0, 0, 0, 0, 0, 0, 0, 0, 0, 0, 0, 0, 0, 0, 0, 0, 0, 0, 0, 0, 0, 0, 0, 0, 0, 0, 0, 0, 0, 0, 0, 0, 0, 0, 0, 0, 0, 0, 0, 0, 0, 0, 0, 0, 0, 0, 0, 0, 0, 0, 0, 0, 0, 0, 0, 0, 0, 0, 0, 0, 0, 0, 0, 0, 0, 0, 0, 0, 0, 0, 0, 0, 0, 0, 0, 0, 0, 0, 0, 0, 0, 0, 0, 0, 0, 0, 0, 0, 0, 0, 0, 0, 0, 0, 0, 0, 0, 0, 0, 0, 0, 0, 0, 0, 0, 0, 0, 0, 0, 0, 0, 0, 0, 0, 0, 0, 0, 0, 0, 0, 0, 0, 0, 0, 0, 0, 0, 0, 0, 0, 0, 0, 0, 0, 0, 0, 0, 0, 0, 0, 0, 0, 0, 0, 0, 0, 0, 0, 0, 0, 0, 0, 0, 0, 0, 0, 0, 0, 0, 0, 0, 0, 0, 0, 0, 0, 0, 0, 0, 0, 0, 0, 0, 0, 0, 0, 0, 0, 0, 0, 0, 0, 0, 0, 0, 0, 0, 0, 0, 0, 0, 0, 0, 0, 0, 0, 0, 0, 0, 0, 0, 0, 0, 0, 0, 0, 0, 0, 0, 0, 0, 0, 0, 0, 0, 0, 0, 0, 0, 0, 0, 0, 0, 0, 0, 0, 0, 0, 0, 0, 0, 0, 0, 0, 0, 0, 0, 0, 0, 0, 0, 0, 0, 0, 0, 0, 0, 0, 0, 0, 0, 0, 0, 0, 0, 0, 0, 0, 0, 0, 0, 0, 0, 0, 0, 0, 0, 0, 0, 0, 0, 0, 0, 0, 0, 0, 0, 0, 0, 0, 0, 0, 0, 0, 0, 0, 0, 0, 0, 0, 0, 0, 0, 0, 0, 0, 0, 0, 0, 0, 0, 0, 0, 0, 0, 0, 0, 0, 0, 0, 0, 0, 0, 0, 0, 0, 0, 0, 0, 0, 0, 0, 0, 0, 0, 0, 0, 0, 0, 0, 0, 0, 0, 0, 0, 0, 0, 0, 0, 0, 0, 0, 0, 0, 0, 0, 0, 0, 0, 0, 0, 0, 0, 0, 0, 0, 0, 0, 0, 0, 0, 0, 0, 0, 0, 0, 0, 0, 0, 0, 0, 0, 0, 0, 0, 0, 0, 0, 0, 0, 0, 0, 0, 0, 0, 0, 0, 0, 0, 0, 0, 0, 0, 0, 0, 0, 0, 0, 0, 0, 0, 0, 0, 0, 0, 0, 0, 0, 0, 0, 0, 0, 0, 0, 0, 0, 0, 0, 0, 0, 0, 0, 0, 0, 0, 0, 0, 0, 0, 0, 0, 0, 0, 0, 0, 0, 0, 0, 0, 0, 0, 0, 0, 0, 0, 0, 0, 0, 0, 0, 0, 0, 0, 0, 0, 0, 0, 0, 0, 0, 0, 0, 0, 0, 0, 0, 0, 0, 0, 0, 0, 0, 0, 0, 0, 0, 0, 0, 0, 0, 0, 0, 0, 0, 0, 0, 0, 0, 0, 0, 0, 0, 0, 0, 0, 0, 0, 0, 0, 0, 0, 0, 0, 0, 0, 0, 0, 0, 0, 0, 0, 0, 0, 0, 0, 0, 0, 0, 0, 0, 0, 0, 0, 0, 0, 0, 0, 0, 0, 0, 0, 0, 0, 0, 0, 0, 0, 0, 0, 0, 0, 0, 0, 0, 0, 0, 0, 0, 0, 0, 0, 0, 0, 0, 0, 0, 0, 0, 0, 0, 0, 0, 0, 0, 0, 0, 0, 0, 0, 0, 0, 0, 0, 0, 0, 0, 0, 0, 0, 0, 0, 0, 0, 0, 0, 0, 0, 0, 0, 0, 0, 0, 0, 0, 0, 0, 0, 0, 0, 0, 0, 0, 0, 0, 0, 0, 0, 0, 0, 0, 0, 0, 0, 0, 0, 0, 0, 0, 0, 0, 0, 0, 0, 0, 0, 0, 0, 0, 0, 0, 0, 0, 0, 0, 0, 0, 0, 0, 0, 0, 0, 0, 0, 0, 0, 0, 0, 0, 0, 0, 0, 0, 0, 0, 0, 0, 0, 0, 0, 0, 0, 0, 0, 0, 0, 0, 0, 0, 0, 0, 0, 0, 0, 0, 0, 0, 0, 0, 0, 0, 0, 0, 0, 0, 0, 0, 0, 0, 0, 0, 0, 0, 0, 0, 0, 0, 0, 0, 0, 0, 0, 0, 0, 0, 0, 0, 0, 0, 0, 0, 0, 0, 0, 0, 0, 0, 0, 0, 0, 0, 0, 0, 0, 0, 0, 0, 0, 0, 0, 0, 0, 0, 0, 0, 0, 0, 0, 0, 0, 0, 0, 0, 0, 0, 0, 0, 0, 0, 0, 0, 0, 0, 0, 0, 0, 0]\n"
     ]
    }
   ],
   "source": [
    "threshold = 0.5\n",
    "for i in range(len(scaled_maintest)):\n",
    "    if predictions_knntest[i] >= threshold:\n",
    "        predictions_knntest[i] =1\n",
    "        #print(\"inside if\")\n",
    "    else:\n",
    "        predictions_knntest[i] = 0\n",
    "       # print(\"inside else\")\n",
    "    \n",
    "print(predictions_knntest)"
   ]
  },
  {
   "cell_type": "code",
   "execution_count": 178,
   "metadata": {},
   "outputs": [
    {
     "name": "stdout",
     "output_type": "stream",
     "text": [
      "tn= 0\n",
      "fp= 564\n",
      "fn= 0\n",
      "tp= 19435\n",
      "accuracy = 0.9717985899294965\n",
      "F1score = 0.9578995585170037\n",
      "recal = 0.9717985899294965\n",
      "precision = 0.9443924993889576\n",
      "[0. 1.]\n",
      "[0. 1.]\n",
      "[1 0]\n",
      "1.0\n",
      "1.0\n"
     ]
    },
    {
     "name": "stderr",
     "output_type": "stream",
     "text": [
      "C:\\Users\\kusha\\Anaconda3\\lib\\site-packages\\sklearn\\metrics\\classification.py:1143: UndefinedMetricWarning: F-score is ill-defined and being set to 0.0 in labels with no predicted samples.\n",
      "  'precision', 'predicted', average, warn_for)\n",
      "C:\\Users\\kusha\\Anaconda3\\lib\\site-packages\\sklearn\\metrics\\classification.py:1143: UndefinedMetricWarning: Precision is ill-defined and being set to 0.0 in labels with no predicted samples.\n",
      "  'precision', 'predicted', average, warn_for)\n"
     ]
    },
    {
     "data": {
      "image/png": "[encoded data removed]",
      "text/plain": [
       "<Figure size 432x288 with 1 Axes>"
      ]
     },
     "metadata": {
      "needs_background": "light"
     },
     "output_type": "display_data"
    },
    {
     "name": "stdout",
     "output_type": "stream",
     "text": [
      "0.5\n"
     ]
    }
   ],
   "source": [
    "from sklearn.metrics import confusion_matrix\n",
    "confusion_matrix(main_testy,predictions_knntest)\n",
    "\n",
    "from sklearn.metrics import confusion_matrix\n",
    "tp_KNNtest, fn_KNNtest, fp_KNNtest, tn_KNNtest = confusion_matrix(main_testy,predictions_knntest).ravel()\n",
    "#t= confusion_matrix(testy,ypred_new)\n",
    "print(\"tn=\",tn_KNNtest)\n",
    "print(\"fp=\",fp_KNNtest)\n",
    "print(\"fn=\",fn_KNNtest)\n",
    "print(\"tp=\",tp_KNNtest)\n",
    "\n",
    "from sklearn.metrics import accuracy_score\n",
    "from sklearn.metrics import f1_score\n",
    "from sklearn.metrics import recall_score\n",
    "from sklearn.metrics import precision_score\n",
    "accuracy_KNNtest = accuracy_score(main_testy,predictions_knntest)\n",
    "f1score_KNNtest = f1_score(main_testy,predictions_knntest,average='weighted')\n",
    "recall_KNNtest = recall_score(main_testy,predictions_knntest,average='weighted')\n",
    "precision_KNNtest = precision_score(main_testy,predictions_knntest,average='weighted')\n",
    "\n",
    "print(\"accuracy =\" , accuracy_KNNtest)\n",
    "print(\"F1score =\" , f1score_KNNtest)\n",
    "print(\"recal =\" ,recall_KNNtest)\n",
    "print(\"precision =\", precision_KNNtest)\n",
    "\n",
    "\n",
    "import numpy as np\n",
    "from sklearn import metrics\n",
    "N_KNNtest =fp_KNNtest+tn_KNNtest\n",
    "P_KNNtest = tp_KNNtest+fn_KNNtest\n",
    "FPR_KNNtest = fp_KNNtest/N_KNNtest\n",
    "TPR_KNNtest =tp_KNNtest/P_KNNtest\n",
    "\n",
    "fpr_KNNtest, tpr_KNNtest, threshold_KNNtest = metrics.roc_curve(main_testy,predictions_knntest)\n",
    "roc_auc = metrics.auc(fpr_KNN, tpr_KNNtest)\n",
    "print(fpr_KNNtest)\n",
    "print(tpr_KNNtest)\n",
    "print(threshold_KNNtest)\n",
    "\n",
    "\n",
    "\n",
    "print(FPR_KNNtest)\n",
    "print(TPR_KNNtest)\n",
    "\n",
    "\n",
    "\n",
    "plt.figure()\n",
    "\n",
    "plt.plot(fpr_KNNtest, tpr_KNNtest, color='darkorange',\n",
    "         lw=2, label='ROC curve (area = %0.2f)' % roc_auc)\n",
    "plt.xlim([0.0, 1.0])\n",
    "plt.ylim([0.0, 1.0])\n",
    "plt.xlabel('FPR')\n",
    "plt.ylabel('TPR')\n",
    "plt.title('ROC')\n",
    "plt.legend(loc=\"lower right\")\n",
    "plt.show()\n",
    "\n",
    "\n",
    "\n",
    "from sklearn import metrics\n",
    "AUC_KNNtest = metrics.auc(fpr_KNNtest, tpr_KNNtest)\n",
    "print(AUC_KNN)\n",
    "\n",
    "\n"
   ]
  },
  {
   "cell_type": "code",
   "execution_count": null,
   "metadata": {},
   "outputs": [],
   "source": [
    "\n",
    "# 3.4 Looking at results obtained in Tasks 3.2 and 3.3: Is your classifier showing any sign of overfitting, or\n",
    "# underfitting? And explain why do you think that. If yes, can you suggest a solution, and utilize it to solve the\n",
    "# issue (if present)."
   ]
  },
  {
   "cell_type": "code",
   "execution_count": null,
   "metadata": {},
   "outputs": [],
   "source": [
    "#accuracy is good so we cant say it is under fitting or over fitting \n",
    "# so we cant suggest any methods also"
   ]
  },
  {
   "cell_type": "code",
   "execution_count": null,
   "metadata": {},
   "outputs": [],
   "source": [
    "\n",
    "# 3.5 (Graduate Student Requirement) Dataset follows a highly skewed distribution in terms of the target class\n",
    "# label. Can you devise a workaround to this? Please explain and redo tasks 3.1, 3.2, 3.3, and 3.4."
   ]
  },
  {
   "cell_type": "code",
   "execution_count": null,
   "metadata": {},
   "outputs": [],
   "source": [
    "#WE CAN DO UNDER SAMPLING AS SHOWN BELOW"
   ]
  },
  {
   "cell_type": "code",
   "execution_count": 187,
   "metadata": {},
   "outputs": [
    {
     "name": "stdout",
     "output_type": "stream",
     "text": [
      "Skewness: 5.891257\n",
      "2654\n",
      "Int64Index([    0,     1,     2,     3,     4,     5,     6,     7,     8,\n",
      "                9,\n",
      "            ...\n",
      "            99989, 99990, 99991, 99992, 99993, 99994, 99995, 99996, 99997,\n",
      "            99998],\n",
      "           dtype='int64', length=97345)\n",
      "[59690 23260 46291 ... 75533 57810 55142]\n",
      "Int64Index([  111,   157,   181,   191,   201,   217,   219,   220,   275,\n",
      "              280,\n",
      "            ...\n",
      "            99803, 99835, 99851, 99857, 99901, 99905, 99909, 99924, 99928,\n",
      "            99942],\n",
      "           dtype='int64', length=2654)\n",
      "[  111   157   181 ... 75533 57810 55142]\n",
      "       0\n",
      "111    1\n",
      "157    1\n",
      "181    1\n",
      "191    1\n",
      "201    1\n",
      "217    1\n",
      "219    1\n",
      "220    1\n",
      "275    1\n",
      "280    1\n",
      "296    1\n",
      "335    1\n",
      "343    1\n",
      "352    1\n",
      "619    1\n",
      "642    1\n",
      "643    1\n",
      "652    1\n",
      "660    1\n",
      "788    1\n",
      "812    1\n",
      "825    1\n",
      "875    1\n",
      "963    1\n",
      "966    1\n",
      "1016   1\n",
      "1031   1\n",
      "1045   1\n",
      "1074   1\n",
      "1093   1\n",
      "...   ..\n",
      "98025  0\n",
      "93343  0\n",
      "77197  0\n",
      "67832  0\n",
      "13720  0\n",
      "65576  0\n",
      "88615  0\n",
      "7514   0\n",
      "6467   0\n",
      "71536  0\n",
      "25965  0\n",
      "344    0\n",
      "95527  0\n",
      "99906  0\n",
      "24007  0\n",
      "41439  0\n",
      "14392  0\n",
      "61575  0\n",
      "19847  0\n",
      "38675  0\n",
      "49226  0\n",
      "65186  0\n",
      "34285  0\n",
      "33763  0\n",
      "24614  0\n",
      "74463  0\n",
      "98996  0\n",
      "75533  0\n",
      "57810  0\n",
      "55142  0\n",
      "\n",
      "[5308 rows x 1 columns]\n"
     ]
    },
    {
     "data": {
      "image/png": "[encoded data removed]",
      "text/plain": [
       "<Figure size 432x288 with 1 Axes>"
      ]
     },
     "metadata": {
      "needs_background": "light"
     },
     "output_type": "display_data"
    }
   ],
   "source": [
    "import seaborn as sns\n",
    "sns.distplot(dataBY);\n",
    "\n",
    "print(\"Skewness: %f\" % dataBY.skew())\n",
    "\n",
    "no_frauds = len(dataBY[dataBY['0'] == 1])\n",
    "print(no_frauds)\n",
    "\n",
    "non_fraud_indices = dataBY[dataBY['0'] == 0].index\n",
    "print(non_fraud_indices)\n",
    "\n",
    "random_indices = np.random.choice(non_fraud_indices,no_frauds, replace=False)\n",
    "print(random_indices)\n",
    "\n",
    "fraud_indices = dataBY[dataBY['0'] == 1].index\n",
    "print(fraud_indices)\n",
    "\n",
    "under_sample_indices = np.concatenate([fraud_indices,random_indices])\n",
    "print(under_sample_indices)\n",
    "\n",
    "under_sample = dataBY.loc[under_sample_indices]\n",
    "print(under_sample)"
   ]
  },
  {
   "cell_type": "code",
   "execution_count": null,
   "metadata": {},
   "outputs": [],
   "source": [
    "# Task 4 : Comparing performances of LR, NB and kNN classifiers\n",
    "# 4.1 The CoinBank manager asks you to choose one classifier for her which is less likely to miss any fraudulent\n",
    "# transaction. With the help of a cost matrix, can you suggest her the best classifier from the three you developed\n",
    "# in Task 1, 2 and 3? Which one would you pick, and why?"
   ]
  },
  {
   "cell_type": "code",
   "execution_count": 179,
   "metadata": {},
   "outputs": [],
   "source": [
    "def cost(tp,fp,tn,fn):\n",
    "    cost = (tp*-1) + (fp*1) +(tn*0) +(fn*100)\n",
    "    return cost"
   ]
  },
  {
   "cell_type": "code",
   "execution_count": 180,
   "metadata": {},
   "outputs": [
    {
     "name": "stdout",
     "output_type": "stream",
     "text": [
      "1943500\n",
      "956627\n",
      "-18871\n"
     ]
    }
   ],
   "source": [
    "#logistic regression \n",
    "cost1 = cost(0,0,564,19435)\n",
    "print(cost1)\n",
    "\n",
    "#NB\n",
    "cost2 = cost(9774,301,263,9661)\n",
    "print(cost2)\n",
    "\n",
    "#knn\n",
    "cost3 =cost(19435,564,0,0)\n",
    "print(cost3)\n"
   ]
  },
  {
   "cell_type": "code",
   "execution_count": null,
   "metadata": {},
   "outputs": [],
   "source": [
    "\n",
    "# 4.2. CoinBank manager is also looking for an alternate classifier which will not make the legitimate customers\n",
    "# angry due to the fact that the classifier you chose in Task 4.1 is going to raise a lot of false alarms. With the help\n",
    "# of a cost matrix, can you suggest the best classifier from the three you developed? Which one would you pick,\n",
    "# and why?"
   ]
  },
  {
   "cell_type": "code",
   "execution_count": null,
   "metadata": {},
   "outputs": [],
   "source": [
    "# from the cost matrix i will suggest KNN classifier as it is more efficient . it has less cost . "
   ]
  },
  {
   "cell_type": "code",
   "execution_count": null,
   "metadata": {},
   "outputs": [],
   "source": [
    "\n",
    "# 4.3 Which of the three classifiers do you think would be a balanced choice for CoinBank? And why?"
   ]
  },
  {
   "cell_type": "code",
   "execution_count": null,
   "metadata": {},
   "outputs": [],
   "source": [
    "#KNN because it takes into consideration the neighbours and decides based on the maximum vote ."
   ]
  }
 ],
 "metadata": {
  "kernelspec": {
   "display_name": "Python 3",
   "language": "python",
   "name": "python3"
  },
  "language_info": {
   "codemirror_mode": {
    "name": "ipython",
    "version": 3
   },
   "file_extension": ".py",
   "mimetype": "text/x-python",
   "name": "python",
   "nbconvert_exporter": "python",
   "pygments_lexer": "ipython3",
   "version": "3.7.1"
  }
 },
 "nbformat": 4,
 "nbformat_minor": 2
}
